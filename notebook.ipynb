{
 "cells": [
  {
   "cell_type": "markdown",
   "metadata": {},
   "source": [
    "# Proyecto Big Data"
   ]
  },
  {
   "cell_type": "code",
   "execution_count": 36,
   "metadata": {},
   "outputs": [
    {
     "name": "stdout",
     "output_type": "stream",
     "text": [
      "Requirement already satisfied: aiosignal==1.3.1 in c:\\users\\norma\\appdata\\local\\programs\\python\\python312\\lib\\site-packages (from -r requirements.txt (line 1)) (1.3.1)\n",
      "Requirement already satisfied: anyio==4.6.2.post1 in c:\\users\\norma\\appdata\\local\\programs\\python\\python312\\lib\\site-packages (from -r requirements.txt (line 2)) (4.6.2.post1)\n",
      "Requirement already satisfied: argon2-cffi==23.1.0 in c:\\users\\norma\\appdata\\local\\programs\\python\\python312\\lib\\site-packages (from -r requirements.txt (line 3)) (23.1.0)\n",
      "Requirement already satisfied: argon2-cffi-bindings==21.2.0 in c:\\users\\norma\\appdata\\local\\programs\\python\\python312\\lib\\site-packages (from -r requirements.txt (line 4)) (21.2.0)\n",
      "Requirement already satisfied: arrow==1.3.0 in c:\\users\\norma\\appdata\\local\\programs\\python\\python312\\lib\\site-packages (from -r requirements.txt (line 5)) (1.3.0)\n",
      "Requirement already satisfied: asttokens==2.4.1 in c:\\users\\norma\\appdata\\roaming\\python\\python312\\site-packages (from -r requirements.txt (line 6)) (2.4.1)\n",
      "Requirement already satisfied: async-lru==2.0.4 in c:\\users\\norma\\appdata\\local\\programs\\python\\python312\\lib\\site-packages (from -r requirements.txt (line 7)) (2.0.4)\n",
      "Requirement already satisfied: attrs==24.2.0 in c:\\users\\norma\\appdata\\local\\programs\\python\\python312\\lib\\site-packages (from -r requirements.txt (line 8)) (24.2.0)\n",
      "Requirement already satisfied: babel==2.16.0 in c:\\users\\norma\\appdata\\local\\programs\\python\\python312\\lib\\site-packages (from -r requirements.txt (line 9)) (2.16.0)\n",
      "Requirement already satisfied: beautifulsoup4==4.12.3 in c:\\users\\norma\\appdata\\local\\programs\\python\\python312\\lib\\site-packages (from -r requirements.txt (line 10)) (4.12.3)\n",
      "Requirement already satisfied: bleach==6.2.0 in c:\\users\\norma\\appdata\\local\\programs\\python\\python312\\lib\\site-packages (from -r requirements.txt (line 11)) (6.2.0)\n",
      "Requirement already satisfied: bokeh==3.6.1 in c:\\users\\norma\\appdata\\local\\programs\\python\\python312\\lib\\site-packages (from -r requirements.txt (line 12)) (3.6.1)\n",
      "Requirement already satisfied: certifi==2024.8.30 in c:\\users\\norma\\appdata\\local\\programs\\python\\python312\\lib\\site-packages (from -r requirements.txt (line 13)) (2024.8.30)\n",
      "Requirement already satisfied: cffi==1.17.1 in c:\\users\\norma\\appdata\\local\\programs\\python\\python312\\lib\\site-packages (from -r requirements.txt (line 14)) (1.17.1)\n",
      "Requirement already satisfied: charset-normalizer==3.4.0 in c:\\users\\norma\\appdata\\local\\programs\\python\\python312\\lib\\site-packages (from -r requirements.txt (line 15)) (3.4.0)\n",
      "Requirement already satisfied: click==8.1.7 in c:\\users\\norma\\appdata\\local\\programs\\python\\python312\\lib\\site-packages (from -r requirements.txt (line 16)) (8.1.7)\n",
      "Requirement already satisfied: cloudpickle==3.1.0 in c:\\users\\norma\\appdata\\local\\programs\\python\\python312\\lib\\site-packages (from -r requirements.txt (line 17)) (3.1.0)\n",
      "Requirement already satisfied: colorama==0.4.6 in c:\\users\\norma\\appdata\\roaming\\python\\python312\\site-packages (from -r requirements.txt (line 18)) (0.4.6)\n",
      "Requirement already satisfied: comm==0.2.2 in c:\\users\\norma\\appdata\\roaming\\python\\python312\\site-packages (from -r requirements.txt (line 19)) (0.2.2)\n",
      "Requirement already satisfied: contourpy==1.3.1 in c:\\users\\norma\\appdata\\local\\programs\\python\\python312\\lib\\site-packages (from -r requirements.txt (line 20)) (1.3.1)\n",
      "Requirement already satisfied: dask==2024.11.2 in c:\\users\\norma\\appdata\\local\\programs\\python\\python312\\lib\\site-packages (from -r requirements.txt (line 21)) (2024.11.2)\n",
      "Requirement already satisfied: dask-expr==1.1.19 in c:\\users\\norma\\appdata\\local\\programs\\python\\python312\\lib\\site-packages (from -r requirements.txt (line 22)) (1.1.19)\n",
      "Requirement already satisfied: dataframe_api_compat==0.2.7 in c:\\users\\norma\\appdata\\local\\programs\\python\\python312\\lib\\site-packages (from -r requirements.txt (line 23)) (0.2.7)\n",
      "Requirement already satisfied: debugpy==1.8.9 in c:\\users\\norma\\appdata\\local\\programs\\python\\python312\\lib\\site-packages (from -r requirements.txt (line 24)) (1.8.9)\n",
      "Requirement already satisfied: decorator==5.1.1 in c:\\users\\norma\\appdata\\roaming\\python\\python312\\site-packages (from -r requirements.txt (line 25)) (5.1.1)\n",
      "Requirement already satisfied: defusedxml==0.7.1 in c:\\users\\norma\\appdata\\local\\programs\\python\\python312\\lib\\site-packages (from -r requirements.txt (line 26)) (0.7.1)\n",
      "Requirement already satisfied: distributed==2024.11.2 in c:\\users\\norma\\appdata\\local\\programs\\python\\python312\\lib\\site-packages (from -r requirements.txt (line 27)) (2024.11.2)\n",
      "Requirement already satisfied: executing==2.1.0 in c:\\users\\norma\\appdata\\local\\programs\\python\\python312\\lib\\site-packages (from -r requirements.txt (line 28)) (2.1.0)\n",
      "Requirement already satisfied: fastjsonschema==2.20.0 in c:\\users\\norma\\appdata\\local\\programs\\python\\python312\\lib\\site-packages (from -r requirements.txt (line 29)) (2.20.0)\n",
      "Requirement already satisfied: filelock==3.16.1 in c:\\users\\norma\\appdata\\local\\programs\\python\\python312\\lib\\site-packages (from -r requirements.txt (line 30)) (3.16.1)\n",
      "Requirement already satisfied: fqdn==1.5.1 in c:\\users\\norma\\appdata\\local\\programs\\python\\python312\\lib\\site-packages (from -r requirements.txt (line 31)) (1.5.1)\n",
      "Requirement already satisfied: frozenlist==1.5.0 in c:\\users\\norma\\appdata\\local\\programs\\python\\python312\\lib\\site-packages (from -r requirements.txt (line 32)) (1.5.0)\n",
      "Requirement already satisfied: fsspec==2024.10.0 in c:\\users\\norma\\appdata\\local\\programs\\python\\python312\\lib\\site-packages (from -r requirements.txt (line 33)) (2024.10.0)\n",
      "Requirement already satisfied: h11==0.14.0 in c:\\users\\norma\\appdata\\local\\programs\\python\\python312\\lib\\site-packages (from -r requirements.txt (line 34)) (0.14.0)\n",
      "Requirement already satisfied: httpcore==1.0.7 in c:\\users\\norma\\appdata\\local\\programs\\python\\python312\\lib\\site-packages (from -r requirements.txt (line 35)) (1.0.7)\n",
      "Requirement already satisfied: httpx==0.27.2 in c:\\users\\norma\\appdata\\local\\programs\\python\\python312\\lib\\site-packages (from -r requirements.txt (line 36)) (0.27.2)\n",
      "Requirement already satisfied: idna==3.10 in c:\\users\\norma\\appdata\\local\\programs\\python\\python312\\lib\\site-packages (from -r requirements.txt (line 37)) (3.10)\n",
      "Requirement already satisfied: importlib_metadata==8.5.0 in c:\\users\\norma\\appdata\\local\\programs\\python\\python312\\lib\\site-packages (from -r requirements.txt (line 38)) (8.5.0)\n",
      "Requirement already satisfied: ipykernel==6.29.5 in c:\\users\\norma\\appdata\\local\\programs\\python\\python312\\lib\\site-packages (from -r requirements.txt (line 39)) (6.29.5)\n",
      "Requirement already satisfied: ipython==8.29.0 in c:\\users\\norma\\appdata\\local\\programs\\python\\python312\\lib\\site-packages (from -r requirements.txt (line 40)) (8.29.0)\n",
      "Requirement already satisfied: ipywidgets==8.1.5 in c:\\users\\norma\\appdata\\local\\programs\\python\\python312\\lib\\site-packages (from -r requirements.txt (line 41)) (8.1.5)\n",
      "Requirement already satisfied: isoduration==20.11.0 in c:\\users\\norma\\appdata\\local\\programs\\python\\python312\\lib\\site-packages (from -r requirements.txt (line 42)) (20.11.0)\n",
      "Requirement already satisfied: jedi==0.19.2 in c:\\users\\norma\\appdata\\local\\programs\\python\\python312\\lib\\site-packages (from -r requirements.txt (line 43)) (0.19.2)\n",
      "Requirement already satisfied: Jinja2==3.1.4 in c:\\users\\norma\\appdata\\local\\programs\\python\\python312\\lib\\site-packages (from -r requirements.txt (line 44)) (3.1.4)\n",
      "Requirement already satisfied: json5==0.9.28 in c:\\users\\norma\\appdata\\local\\programs\\python\\python312\\lib\\site-packages (from -r requirements.txt (line 45)) (0.9.28)\n",
      "Requirement already satisfied: jsonpointer==3.0.0 in c:\\users\\norma\\appdata\\local\\programs\\python\\python312\\lib\\site-packages (from -r requirements.txt (line 46)) (3.0.0)\n",
      "Requirement already satisfied: jsonschema==4.23.0 in c:\\users\\norma\\appdata\\local\\programs\\python\\python312\\lib\\site-packages (from -r requirements.txt (line 47)) (4.23.0)\n",
      "Requirement already satisfied: jsonschema-specifications==2024.10.1 in c:\\users\\norma\\appdata\\local\\programs\\python\\python312\\lib\\site-packages (from -r requirements.txt (line 48)) (2024.10.1)\n",
      "Requirement already satisfied: jupyter==1.1.1 in c:\\users\\norma\\appdata\\local\\programs\\python\\python312\\lib\\site-packages (from -r requirements.txt (line 49)) (1.1.1)\n",
      "Requirement already satisfied: jupyter-console==6.6.3 in c:\\users\\norma\\appdata\\local\\programs\\python\\python312\\lib\\site-packages (from -r requirements.txt (line 50)) (6.6.3)\n",
      "Requirement already satisfied: jupyter-events==0.10.0 in c:\\users\\norma\\appdata\\local\\programs\\python\\python312\\lib\\site-packages (from -r requirements.txt (line 51)) (0.10.0)\n",
      "Requirement already satisfied: jupyter-lsp==2.2.5 in c:\\users\\norma\\appdata\\local\\programs\\python\\python312\\lib\\site-packages (from -r requirements.txt (line 52)) (2.2.5)\n",
      "Requirement already satisfied: jupyter_client==8.6.3 in c:\\users\\norma\\appdata\\local\\programs\\python\\python312\\lib\\site-packages (from -r requirements.txt (line 53)) (8.6.3)\n",
      "Requirement already satisfied: jupyter_core==5.7.2 in c:\\users\\norma\\appdata\\roaming\\python\\python312\\site-packages (from -r requirements.txt (line 54)) (5.7.2)\n",
      "Requirement already satisfied: jupyter_server==2.14.2 in c:\\users\\norma\\appdata\\local\\programs\\python\\python312\\lib\\site-packages (from -r requirements.txt (line 55)) (2.14.2)\n",
      "Requirement already satisfied: jupyter_server_terminals==0.5.3 in c:\\users\\norma\\appdata\\local\\programs\\python\\python312\\lib\\site-packages (from -r requirements.txt (line 56)) (0.5.3)\n",
      "Requirement already satisfied: jupyterlab==4.2.6 in c:\\users\\norma\\appdata\\local\\programs\\python\\python312\\lib\\site-packages (from -r requirements.txt (line 57)) (4.2.6)\n",
      "Requirement already satisfied: jupyterlab_pygments==0.3.0 in c:\\users\\norma\\appdata\\local\\programs\\python\\python312\\lib\\site-packages (from -r requirements.txt (line 58)) (0.3.0)\n",
      "Requirement already satisfied: jupyterlab_server==2.27.3 in c:\\users\\norma\\appdata\\local\\programs\\python\\python312\\lib\\site-packages (from -r requirements.txt (line 59)) (2.27.3)\n",
      "Requirement already satisfied: jupyterlab_widgets==3.0.13 in c:\\users\\norma\\appdata\\local\\programs\\python\\python312\\lib\\site-packages (from -r requirements.txt (line 60)) (3.0.13)\n",
      "Requirement already satisfied: locket==1.0.0 in c:\\users\\norma\\appdata\\local\\programs\\python\\python312\\lib\\site-packages (from -r requirements.txt (line 61)) (1.0.0)\n",
      "Requirement already satisfied: lz4==4.3.3 in c:\\users\\norma\\appdata\\local\\programs\\python\\python312\\lib\\site-packages (from -r requirements.txt (line 62)) (4.3.3)\n",
      "Requirement already satisfied: MarkupSafe==3.0.2 in c:\\users\\norma\\appdata\\local\\programs\\python\\python312\\lib\\site-packages (from -r requirements.txt (line 63)) (3.0.2)\n",
      "Requirement already satisfied: matplotlib-inline==0.1.7 in c:\\users\\norma\\appdata\\roaming\\python\\python312\\site-packages (from -r requirements.txt (line 64)) (0.1.7)\n",
      "Requirement already satisfied: mistune==3.0.2 in c:\\users\\norma\\appdata\\local\\programs\\python\\python312\\lib\\site-packages (from -r requirements.txt (line 65)) (3.0.2)\n",
      "Requirement already satisfied: modin==0.32.0 in c:\\users\\norma\\appdata\\local\\programs\\python\\python312\\lib\\site-packages (from -r requirements.txt (line 66)) (0.32.0)\n",
      "Requirement already satisfied: modin-spreadsheet==0.1.2 in c:\\users\\norma\\appdata\\local\\programs\\python\\python312\\lib\\site-packages (from -r requirements.txt (line 67)) (0.1.2)\n",
      "Requirement already satisfied: msgpack==1.1.0 in c:\\users\\norma\\appdata\\local\\programs\\python\\python312\\lib\\site-packages (from -r requirements.txt (line 68)) (1.1.0)\n",
      "Requirement already satisfied: nbclient==0.10.0 in c:\\users\\norma\\appdata\\local\\programs\\python\\python312\\lib\\site-packages (from -r requirements.txt (line 69)) (0.10.0)\n",
      "Requirement already satisfied: nbconvert==7.16.4 in c:\\users\\norma\\appdata\\local\\programs\\python\\python312\\lib\\site-packages (from -r requirements.txt (line 70)) (7.16.4)\n",
      "Requirement already satisfied: nbformat==5.10.4 in c:\\users\\norma\\appdata\\local\\programs\\python\\python312\\lib\\site-packages (from -r requirements.txt (line 71)) (5.10.4)\n",
      "Requirement already satisfied: nest-asyncio==1.6.0 in c:\\users\\norma\\appdata\\roaming\\python\\python312\\site-packages (from -r requirements.txt (line 72)) (1.6.0)\n",
      "Requirement already satisfied: notebook==7.2.2 in c:\\users\\norma\\appdata\\local\\programs\\python\\python312\\lib\\site-packages (from -r requirements.txt (line 73)) (7.2.2)\n",
      "Requirement already satisfied: notebook_shim==0.2.4 in c:\\users\\norma\\appdata\\local\\programs\\python\\python312\\lib\\site-packages (from -r requirements.txt (line 74)) (0.2.4)\n",
      "Requirement already satisfied: numpy==2.1.3 in c:\\users\\norma\\appdata\\local\\programs\\python\\python312\\lib\\site-packages (from -r requirements.txt (line 75)) (2.1.3)\n",
      "Requirement already satisfied: overrides==7.7.0 in c:\\users\\norma\\appdata\\local\\programs\\python\\python312\\lib\\site-packages (from -r requirements.txt (line 76)) (7.7.0)\n",
      "Requirement already satisfied: packaging==24.2 in c:\\users\\norma\\appdata\\local\\programs\\python\\python312\\lib\\site-packages (from -r requirements.txt (line 77)) (24.2)\n",
      "Requirement already satisfied: pandas==2.2.3 in c:\\users\\norma\\appdata\\local\\programs\\python\\python312\\lib\\site-packages (from -r requirements.txt (line 78)) (2.2.3)\n",
      "Requirement already satisfied: pandocfilters==1.5.1 in c:\\users\\norma\\appdata\\local\\programs\\python\\python312\\lib\\site-packages (from -r requirements.txt (line 79)) (1.5.1)\n",
      "Requirement already satisfied: parso==0.8.4 in c:\\users\\norma\\appdata\\roaming\\python\\python312\\site-packages (from -r requirements.txt (line 80)) (0.8.4)\n",
      "Requirement already satisfied: partd==1.4.2 in c:\\users\\norma\\appdata\\local\\programs\\python\\python312\\lib\\site-packages (from -r requirements.txt (line 81)) (1.4.2)\n",
      "Requirement already satisfied: pillow==11.0.0 in c:\\users\\norma\\appdata\\local\\programs\\python\\python312\\lib\\site-packages (from -r requirements.txt (line 82)) (11.0.0)\n",
      "Requirement already satisfied: platformdirs==4.3.6 in c:\\users\\norma\\appdata\\local\\programs\\python\\python312\\lib\\site-packages (from -r requirements.txt (line 83)) (4.3.6)\n",
      "Requirement already satisfied: prometheus_client==0.21.0 in c:\\users\\norma\\appdata\\local\\programs\\python\\python312\\lib\\site-packages (from -r requirements.txt (line 84)) (0.21.0)\n",
      "Requirement already satisfied: prompt_toolkit==3.0.48 in c:\\users\\norma\\appdata\\local\\programs\\python\\python312\\lib\\site-packages (from -r requirements.txt (line 85)) (3.0.48)\n",
      "Requirement already satisfied: protobuf==5.28.3 in c:\\users\\norma\\appdata\\local\\programs\\python\\python312\\lib\\site-packages (from -r requirements.txt (line 86)) (5.28.3)\n",
      "Requirement already satisfied: psutil==6.1.0 in c:\\users\\norma\\appdata\\local\\programs\\python\\python312\\lib\\site-packages (from -r requirements.txt (line 87)) (6.1.0)\n",
      "Requirement already satisfied: pure_eval==0.2.3 in c:\\users\\norma\\appdata\\local\\programs\\python\\python312\\lib\\site-packages (from -r requirements.txt (line 88)) (0.2.3)\n",
      "Requirement already satisfied: py4j==0.10.9.7 in c:\\users\\norma\\appdata\\local\\programs\\python\\python312\\lib\\site-packages (from -r requirements.txt (line 89)) (0.10.9.7)\n",
      "Requirement already satisfied: pyarrow==18.0.0 in c:\\users\\norma\\appdata\\local\\programs\\python\\python312\\lib\\site-packages (from -r requirements.txt (line 90)) (18.0.0)\n",
      "Requirement already satisfied: pycparser==2.22 in c:\\users\\norma\\appdata\\local\\programs\\python\\python312\\lib\\site-packages (from -r requirements.txt (line 91)) (2.22)\n",
      "Requirement already satisfied: Pygments==2.18.0 in c:\\users\\norma\\appdata\\roaming\\python\\python312\\site-packages (from -r requirements.txt (line 92)) (2.18.0)\n",
      "Requirement already satisfied: pyspark==3.5.3 in c:\\users\\norma\\appdata\\local\\programs\\python\\python312\\lib\\site-packages (from -r requirements.txt (line 93)) (3.5.3)\n",
      "Requirement already satisfied: python-dateutil==2.9.0.post0 in c:\\users\\norma\\appdata\\roaming\\python\\python312\\site-packages (from -r requirements.txt (line 94)) (2.9.0.post0)\n",
      "Requirement already satisfied: python-json-logger==2.0.7 in c:\\users\\norma\\appdata\\local\\programs\\python\\python312\\lib\\site-packages (from -r requirements.txt (line 95)) (2.0.7)\n",
      "Requirement already satisfied: pytz==2024.2 in c:\\users\\norma\\appdata\\local\\programs\\python\\python312\\lib\\site-packages (from -r requirements.txt (line 96)) (2024.2)\n",
      "Requirement already satisfied: pywin32==308 in c:\\users\\norma\\appdata\\local\\programs\\python\\python312\\lib\\site-packages (from -r requirements.txt (line 97)) (308)\n",
      "Requirement already satisfied: pywinpty==2.0.14 in c:\\users\\norma\\appdata\\local\\programs\\python\\python312\\lib\\site-packages (from -r requirements.txt (line 98)) (2.0.14)\n",
      "Requirement already satisfied: PyYAML==6.0.2 in c:\\users\\norma\\appdata\\local\\programs\\python\\python312\\lib\\site-packages (from -r requirements.txt (line 99)) (6.0.2)\n",
      "Requirement already satisfied: pyzmq==26.2.0 in c:\\users\\norma\\appdata\\local\\programs\\python\\python312\\lib\\site-packages (from -r requirements.txt (line 100)) (26.2.0)\n",
      "Requirement already satisfied: ray==2.39.0 in c:\\users\\norma\\appdata\\local\\programs\\python\\python312\\lib\\site-packages (from -r requirements.txt (line 101)) (2.39.0)\n",
      "Requirement already satisfied: referencing==0.35.1 in c:\\users\\norma\\appdata\\local\\programs\\python\\python312\\lib\\site-packages (from -r requirements.txt (line 102)) (0.35.1)\n",
      "Requirement already satisfied: requests==2.32.3 in c:\\users\\norma\\appdata\\local\\programs\\python\\python312\\lib\\site-packages (from -r requirements.txt (line 103)) (2.32.3)\n",
      "Requirement already satisfied: rfc3339-validator==0.1.4 in c:\\users\\norma\\appdata\\local\\programs\\python\\python312\\lib\\site-packages (from -r requirements.txt (line 104)) (0.1.4)\n",
      "Requirement already satisfied: rfc3986-validator==0.1.1 in c:\\users\\norma\\appdata\\local\\programs\\python\\python312\\lib\\site-packages (from -r requirements.txt (line 105)) (0.1.1)\n",
      "Requirement already satisfied: rpds-py==0.21.0 in c:\\users\\norma\\appdata\\local\\programs\\python\\python312\\lib\\site-packages (from -r requirements.txt (line 106)) (0.21.0)\n",
      "Requirement already satisfied: Send2Trash==1.8.3 in c:\\users\\norma\\appdata\\local\\programs\\python\\python312\\lib\\site-packages (from -r requirements.txt (line 107)) (1.8.3)\n",
      "Requirement already satisfied: six==1.16.0 in c:\\users\\norma\\appdata\\roaming\\python\\python312\\site-packages (from -r requirements.txt (line 108)) (1.16.0)\n",
      "Requirement already satisfied: sniffio==1.3.1 in c:\\users\\norma\\appdata\\local\\programs\\python\\python312\\lib\\site-packages (from -r requirements.txt (line 109)) (1.3.1)\n",
      "Requirement already satisfied: sortedcontainers==2.4.0 in c:\\users\\norma\\appdata\\local\\programs\\python\\python312\\lib\\site-packages (from -r requirements.txt (line 110)) (2.4.0)\n",
      "Requirement already satisfied: soupsieve==2.6 in c:\\users\\norma\\appdata\\local\\programs\\python\\python312\\lib\\site-packages (from -r requirements.txt (line 111)) (2.6)\n",
      "Requirement already satisfied: stack-data==0.6.3 in c:\\users\\norma\\appdata\\roaming\\python\\python312\\site-packages (from -r requirements.txt (line 112)) (0.6.3)\n",
      "Requirement already satisfied: tblib==3.0.0 in c:\\users\\norma\\appdata\\local\\programs\\python\\python312\\lib\\site-packages (from -r requirements.txt (line 113)) (3.0.0)\n",
      "Requirement already satisfied: terminado==0.18.1 in c:\\users\\norma\\appdata\\local\\programs\\python\\python312\\lib\\site-packages (from -r requirements.txt (line 114)) (0.18.1)\n",
      "Requirement already satisfied: tinycss2==1.4.0 in c:\\users\\norma\\appdata\\local\\programs\\python\\python312\\lib\\site-packages (from -r requirements.txt (line 115)) (1.4.0)\n",
      "Requirement already satisfied: toolz==1.0.0 in c:\\users\\norma\\appdata\\local\\programs\\python\\python312\\lib\\site-packages (from -r requirements.txt (line 116)) (1.0.0)\n",
      "Requirement already satisfied: tornado==6.4.2 in c:\\users\\norma\\appdata\\local\\programs\\python\\python312\\lib\\site-packages (from -r requirements.txt (line 117)) (6.4.2)\n",
      "Requirement already satisfied: traitlets==5.14.3 in c:\\users\\norma\\appdata\\roaming\\python\\python312\\site-packages (from -r requirements.txt (line 118)) (5.14.3)\n",
      "Requirement already satisfied: types-python-dateutil==2.9.0.20241003 in c:\\users\\norma\\appdata\\local\\programs\\python\\python312\\lib\\site-packages (from -r requirements.txt (line 119)) (2.9.0.20241003)\n",
      "Requirement already satisfied: typing_extensions==4.12.2 in c:\\users\\norma\\appdata\\local\\programs\\python\\python312\\lib\\site-packages (from -r requirements.txt (line 120)) (4.12.2)\n",
      "Requirement already satisfied: tzdata==2024.2 in c:\\users\\norma\\appdata\\local\\programs\\python\\python312\\lib\\site-packages (from -r requirements.txt (line 121)) (2024.2)\n",
      "Requirement already satisfied: uri-template==1.3.0 in c:\\users\\norma\\appdata\\local\\programs\\python\\python312\\lib\\site-packages (from -r requirements.txt (line 122)) (1.3.0)\n",
      "Requirement already satisfied: urllib3==2.2.3 in c:\\users\\norma\\appdata\\local\\programs\\python\\python312\\lib\\site-packages (from -r requirements.txt (line 123)) (2.2.3)\n",
      "Requirement already satisfied: wcwidth==0.2.13 in c:\\users\\norma\\appdata\\roaming\\python\\python312\\site-packages (from -r requirements.txt (line 124)) (0.2.13)\n",
      "Requirement already satisfied: webcolors==24.11.1 in c:\\users\\norma\\appdata\\local\\programs\\python\\python312\\lib\\site-packages (from -r requirements.txt (line 125)) (24.11.1)\n",
      "Requirement already satisfied: webencodings==0.5.1 in c:\\users\\norma\\appdata\\local\\programs\\python\\python312\\lib\\site-packages (from -r requirements.txt (line 126)) (0.5.1)\n",
      "Requirement already satisfied: websocket-client==1.8.0 in c:\\users\\norma\\appdata\\local\\programs\\python\\python312\\lib\\site-packages (from -r requirements.txt (line 127)) (1.8.0)\n",
      "Requirement already satisfied: widgetsnbextension==4.0.13 in c:\\users\\norma\\appdata\\local\\programs\\python\\python312\\lib\\site-packages (from -r requirements.txt (line 128)) (4.0.13)\n",
      "Requirement already satisfied: xyzservices==2024.9.0 in c:\\users\\norma\\appdata\\local\\programs\\python\\python312\\lib\\site-packages (from -r requirements.txt (line 129)) (2024.9.0)\n",
      "Requirement already satisfied: zict==3.0.0 in c:\\users\\norma\\appdata\\local\\programs\\python\\python312\\lib\\site-packages (from -r requirements.txt (line 130)) (3.0.0)\n",
      "Requirement already satisfied: zipp==3.21.0 in c:\\users\\norma\\appdata\\local\\programs\\python\\python312\\lib\\site-packages (from -r requirements.txt (line 131)) (3.21.0)\n",
      "Requirement already satisfied: transformers in c:\\users\\norma\\appdata\\local\\programs\\python\\python312\\lib\\site-packages (from -r requirements.txt (line 132)) (4.46.3)\n",
      "Requirement already satisfied: pymongo in c:\\users\\norma\\appdata\\local\\programs\\python\\python312\\lib\\site-packages (from -r requirements.txt (line 133)) (4.10.1)\n",
      "Requirement already satisfied: tqdm in c:\\users\\norma\\appdata\\local\\programs\\python\\python312\\lib\\site-packages (from -r requirements.txt (line 134)) (4.66.5)\n",
      "Requirement already satisfied: setuptools>=40.1.0 in c:\\users\\norma\\appdata\\local\\programs\\python\\python312\\lib\\site-packages (from jupyterlab==4.2.6->-r requirements.txt (line 57)) (72.1.0)\n",
      "Requirement already satisfied: huggingface-hub<1.0,>=0.23.2 in c:\\users\\norma\\appdata\\local\\programs\\python\\python312\\lib\\site-packages (from transformers->-r requirements.txt (line 132)) (0.26.2)\n",
      "Requirement already satisfied: regex!=2019.12.17 in c:\\users\\norma\\appdata\\local\\programs\\python\\python312\\lib\\site-packages (from transformers->-r requirements.txt (line 132)) (2024.7.24)\n",
      "Requirement already satisfied: tokenizers<0.21,>=0.20 in c:\\users\\norma\\appdata\\local\\programs\\python\\python312\\lib\\site-packages (from transformers->-r requirements.txt (line 132)) (0.20.3)\n",
      "Requirement already satisfied: safetensors>=0.4.1 in c:\\users\\norma\\appdata\\local\\programs\\python\\python312\\lib\\site-packages (from transformers->-r requirements.txt (line 132)) (0.4.5)\n",
      "Requirement already satisfied: dnspython<3.0.0,>=1.16.0 in c:\\users\\norma\\appdata\\local\\programs\\python\\python312\\lib\\site-packages (from pymongo->-r requirements.txt (line 133)) (2.6.1)\n",
      "Looking in indexes: https://download.pytorch.org/whl/cpu\n",
      "Requirement already satisfied: torch in c:\\users\\norma\\appdata\\local\\programs\\python\\python312\\lib\\site-packages (2.5.1)\n",
      "Requirement already satisfied: torchvision in c:\\users\\norma\\appdata\\local\\programs\\python\\python312\\lib\\site-packages (0.20.1)\n",
      "Requirement already satisfied: torchaudio in c:\\users\\norma\\appdata\\local\\programs\\python\\python312\\lib\\site-packages (2.5.1+cpu)\n",
      "Requirement already satisfied: filelock in c:\\users\\norma\\appdata\\local\\programs\\python\\python312\\lib\\site-packages (from torch) (3.16.1)\n",
      "Requirement already satisfied: typing-extensions>=4.8.0 in c:\\users\\norma\\appdata\\local\\programs\\python\\python312\\lib\\site-packages (from torch) (4.12.2)\n",
      "Requirement already satisfied: networkx in c:\\users\\norma\\appdata\\local\\programs\\python\\python312\\lib\\site-packages (from torch) (3.4.2)\n",
      "Requirement already satisfied: jinja2 in c:\\users\\norma\\appdata\\local\\programs\\python\\python312\\lib\\site-packages (from torch) (3.1.4)\n",
      "Requirement already satisfied: fsspec in c:\\users\\norma\\appdata\\local\\programs\\python\\python312\\lib\\site-packages (from torch) (2024.10.0)\n",
      "Requirement already satisfied: setuptools in c:\\users\\norma\\appdata\\local\\programs\\python\\python312\\lib\\site-packages (from torch) (72.1.0)\n",
      "Requirement already satisfied: sympy==1.13.1 in c:\\users\\norma\\appdata\\local\\programs\\python\\python312\\lib\\site-packages (from torch) (1.13.1)\n",
      "Requirement already satisfied: mpmath<1.4,>=1.1.0 in c:\\users\\norma\\appdata\\local\\programs\\python\\python312\\lib\\site-packages (from sympy==1.13.1->torch) (1.3.0)\n",
      "Requirement already satisfied: numpy in c:\\users\\norma\\appdata\\local\\programs\\python\\python312\\lib\\site-packages (from torchvision) (2.1.3)\n",
      "Requirement already satisfied: pillow!=8.3.*,>=5.3.0 in c:\\users\\norma\\appdata\\local\\programs\\python\\python312\\lib\\site-packages (from torchvision) (11.0.0)\n",
      "Requirement already satisfied: MarkupSafe>=2.0 in c:\\users\\norma\\appdata\\local\\programs\\python\\python312\\lib\\site-packages (from jinja2->torch) (3.0.2)\n"
     ]
    }
   ],
   "source": [
    "!pip install -r requirements.txt\n",
    "!pip install torch torchvision torchaudio --index-url https://download.pytorch.org/whl/cpu"
   ]
  },
  {
   "cell_type": "code",
   "execution_count": 60,
   "metadata": {},
   "outputs": [],
   "source": [
    "import json\n",
    "from pymongo import MongoClient\n",
    "import os\n",
    "import requests\n",
    "import gzip\n",
    "import shutil\n",
    "import time\n",
    "import torch\n",
    "from transformers import DistilBertTokenizer, DistilBertForSequenceClassification\n",
    "import re\n",
    "from html import unescape\n",
    "import codecs\n",
    "import dask.dataframe as dd\n",
    "import pandas as pd\n",
    "from tqdm import tqdm\n",
    "from dask.diagnostics import ProgressBar"
   ]
  },
  {
   "cell_type": "markdown",
   "metadata": {},
   "source": [
    "#### 1. Bajamos la data correspondiente"
   ]
  },
  {
   "cell_type": "code",
   "execution_count": 2,
   "metadata": {},
   "outputs": [
    {
     "name": "stdout",
     "output_type": "stream",
     "text": [
      "Archivo descargado: data/raw\\Gift_Cards.jsonl.gz\n",
      "Archivo descomprimido: data/raw\\Gift_Cards.jsonl\n",
      "Archivo descargado: data/raw\\meta_Gift_Cards.jsonl.gz\n",
      "Archivo descomprimido: data/raw\\meta_Gift_Cards.jsonl\n"
     ]
    }
   ],
   "source": [
    "def download_data(link, carpeta_destino):\n",
    "    if not os.path.exists(carpeta_destino):\n",
    "        os.makedirs(carpeta_destino)\n",
    "    \n",
    "    nombre_archivo = os.path.basename(link)\n",
    "    ruta_comprimido = os.path.join(carpeta_destino, nombre_archivo)\n",
    "    ruta_descomprimido = os.path.splitext(ruta_comprimido)[0] # Eliminar la extensión .gz\n",
    "\n",
    "    response = requests.get(link, stream=True)\n",
    "    if response.status_code == 200:\n",
    "        with open(ruta_comprimido, 'wb') as f:\n",
    "            f.write(response.content)\n",
    "            print(f'Archivo descargado: {ruta_comprimido}')\n",
    "    else:\n",
    "        print(f'Error al descargar el archivo: {ruta_comprimido}')\n",
    "        return None\n",
    "\n",
    "    with gzip.open(ruta_comprimido, 'rb') as archivo_comprimido:\n",
    "        with open(ruta_descomprimido, 'wb') as archivo_descomprimido:\n",
    "            shutil.copyfileobj(archivo_comprimido, archivo_descomprimido)\n",
    "    print(f'Archivo descomprimido: {ruta_descomprimido}')\n",
    "\n",
    "    return ruta_descomprimido\n",
    "\n",
    "link_gift_cards = \"https://datarepo.eng.ucsd.edu/mcauley_group/data/amazon_2023/raw/review_categories/Gift_Cards.jsonl.gz\"\n",
    "link_meta_gift_cards = \"https://datarepo.eng.ucsd.edu/mcauley_group/data/amazon_2023/raw/meta_categories/meta_Gift_Cards.jsonl.gz\"\n",
    "carpeta_destino = \"data/raw\"\n",
    "ruta_final_gift_cards = download_data(link_gift_cards, carpeta_destino)\n",
    "ruta_final_meta_gift_cards = download_data(link_meta_gift_cards, carpeta_destino)"
   ]
  },
  {
   "cell_type": "markdown",
   "metadata": {},
   "source": [
    "#### 2. Incorporamos la data en Mongo DB"
   ]
  },
  {
   "cell_type": "markdown",
   "metadata": {},
   "source": [
    "Importante: Crear una conexion en MongoDB con los siguientes nombres de coleccion (gift-cards & meta-gift-cards)"
   ]
  },
  {
   "cell_type": "code",
   "execution_count": 38,
   "metadata": {},
   "outputs": [],
   "source": [
    "# Conectar a MongoDB\n",
    "client = MongoClient(\"mongodb://localhost:27017/\")\n",
    "db = client[\"Amazon\"]\n",
    "collection = db[\"gift-cards\"]\n",
    "collection_meta = db[\"meta-gift-cards\"]"
   ]
  },
  {
   "cell_type": "markdown",
   "metadata": {},
   "source": [
    "2.1 Gift Cards"
   ]
  },
  {
   "cell_type": "code",
   "execution_count": 4,
   "metadata": {},
   "outputs": [
    {
     "ename": "ServerSelectionTimeoutError",
     "evalue": "localhost:27017: [WinError 10061] No connection could be made because the target machine actively refused it (configured timeouts: socketTimeoutMS: 20000.0ms, connectTimeoutMS: 20000.0ms), Timeout: 30s, Topology Description: <TopologyDescription id: 674aa5f45232a9d255180b95, topology_type: Unknown, servers: [<ServerDescription ('localhost', 27017) server_type: Unknown, rtt: None, error=AutoReconnect('localhost:27017: [WinError 10061] No connection could be made because the target machine actively refused it (configured timeouts: socketTimeoutMS: 20000.0ms, connectTimeoutMS: 20000.0ms)')>]>",
     "output_type": "error",
     "traceback": [
      "\u001b[1;31m---------------------------------------------------------------------------\u001b[0m",
      "\u001b[1;31mServerSelectionTimeoutError\u001b[0m               Traceback (most recent call last)",
      "Cell \u001b[1;32mIn[4], line 2\u001b[0m\n\u001b[0;32m      1\u001b[0m \u001b[38;5;66;03m# Borramos toda la data antes de volver a insertarla\u001b[39;00m\n\u001b[1;32m----> 2\u001b[0m \u001b[43mcollection\u001b[49m\u001b[38;5;241;43m.\u001b[39;49m\u001b[43mdelete_many\u001b[49m\u001b[43m(\u001b[49m\u001b[43m{\u001b[49m\u001b[43m}\u001b[49m\u001b[43m)\u001b[49m\n\u001b[0;32m      3\u001b[0m \u001b[38;5;28mprint\u001b[39m(\u001b[38;5;124m\"\u001b[39m\u001b[38;5;124mTodos los documentos de la colección han sido eliminados.\u001b[39m\u001b[38;5;124m\"\u001b[39m)\n\u001b[0;32m      5\u001b[0m \u001b[38;5;66;03m# Leer el archivo JSON Lines\u001b[39;00m\n",
      "File \u001b[1;32mc:\\Users\\Jose\\Desktop\\amazon-recommender-system\\venv\\Lib\\site-packages\\pymongo\\synchronous\\collection.py:1686\u001b[0m, in \u001b[0;36mCollection.delete_many\u001b[1;34m(self, filter, collation, hint, session, let, comment)\u001b[0m\n\u001b[0;32m   1643\u001b[0m \u001b[38;5;250m\u001b[39m\u001b[38;5;124;03m\"\"\"Delete one or more documents matching the filter.\u001b[39;00m\n\u001b[0;32m   1644\u001b[0m \n\u001b[0;32m   1645\u001b[0m \u001b[38;5;124;03m  >>> db.test.count_documents({'x': 1})\u001b[39;00m\n\u001b[1;32m   (...)\u001b[0m\n\u001b[0;32m   1682\u001b[0m \u001b[38;5;124;03m.. versionadded:: 3.0\u001b[39;00m\n\u001b[0;32m   1683\u001b[0m \u001b[38;5;124;03m\"\"\"\u001b[39;00m\n\u001b[0;32m   1684\u001b[0m write_concern \u001b[38;5;241m=\u001b[39m \u001b[38;5;28mself\u001b[39m\u001b[38;5;241m.\u001b[39m_write_concern_for(session)\n\u001b[0;32m   1685\u001b[0m \u001b[38;5;28;01mreturn\u001b[39;00m DeleteResult(\n\u001b[1;32m-> 1686\u001b[0m     \u001b[38;5;28;43mself\u001b[39;49m\u001b[38;5;241;43m.\u001b[39;49m\u001b[43m_delete_retryable\u001b[49m\u001b[43m(\u001b[49m\n\u001b[0;32m   1687\u001b[0m \u001b[43m        \u001b[49m\u001b[38;5;28;43mfilter\u001b[39;49m\u001b[43m,\u001b[49m\n\u001b[0;32m   1688\u001b[0m \u001b[43m        \u001b[49m\u001b[38;5;28;43;01mTrue\u001b[39;49;00m\u001b[43m,\u001b[49m\n\u001b[0;32m   1689\u001b[0m \u001b[43m        \u001b[49m\u001b[43mwrite_concern\u001b[49m\u001b[38;5;241;43m=\u001b[39;49m\u001b[43mwrite_concern\u001b[49m\u001b[43m,\u001b[49m\n\u001b[0;32m   1690\u001b[0m \u001b[43m        \u001b[49m\u001b[43mcollation\u001b[49m\u001b[38;5;241;43m=\u001b[39;49m\u001b[43mcollation\u001b[49m\u001b[43m,\u001b[49m\n\u001b[0;32m   1691\u001b[0m \u001b[43m        \u001b[49m\u001b[43mhint\u001b[49m\u001b[38;5;241;43m=\u001b[39;49m\u001b[43mhint\u001b[49m\u001b[43m,\u001b[49m\n\u001b[0;32m   1692\u001b[0m \u001b[43m        \u001b[49m\u001b[43msession\u001b[49m\u001b[38;5;241;43m=\u001b[39;49m\u001b[43msession\u001b[49m\u001b[43m,\u001b[49m\n\u001b[0;32m   1693\u001b[0m \u001b[43m        \u001b[49m\u001b[43mlet\u001b[49m\u001b[38;5;241;43m=\u001b[39;49m\u001b[43mlet\u001b[49m\u001b[43m,\u001b[49m\n\u001b[0;32m   1694\u001b[0m \u001b[43m        \u001b[49m\u001b[43mcomment\u001b[49m\u001b[38;5;241;43m=\u001b[39;49m\u001b[43mcomment\u001b[49m\u001b[43m,\u001b[49m\n\u001b[0;32m   1695\u001b[0m \u001b[43m    \u001b[49m\u001b[43m)\u001b[49m,\n\u001b[0;32m   1696\u001b[0m     write_concern\u001b[38;5;241m.\u001b[39macknowledged,\n\u001b[0;32m   1697\u001b[0m )\n",
      "File \u001b[1;32mc:\\Users\\Jose\\Desktop\\amazon-recommender-system\\venv\\Lib\\site-packages\\pymongo\\synchronous\\collection.py:1562\u001b[0m, in \u001b[0;36mCollection._delete_retryable\u001b[1;34m(self, criteria, multi, write_concern, op_id, ordered, collation, hint, session, let, comment)\u001b[0m\n\u001b[0;32m   1544\u001b[0m \u001b[38;5;28;01mdef\u001b[39;00m \u001b[38;5;21m_delete\u001b[39m(\n\u001b[0;32m   1545\u001b[0m     session: Optional[ClientSession], conn: Connection, retryable_write: \u001b[38;5;28mbool\u001b[39m\n\u001b[0;32m   1546\u001b[0m ) \u001b[38;5;241m-\u001b[39m\u001b[38;5;241m>\u001b[39m Mapping[\u001b[38;5;28mstr\u001b[39m, Any]:\n\u001b[0;32m   1547\u001b[0m     \u001b[38;5;28;01mreturn\u001b[39;00m \u001b[38;5;28mself\u001b[39m\u001b[38;5;241m.\u001b[39m_delete(\n\u001b[0;32m   1548\u001b[0m         conn,\n\u001b[0;32m   1549\u001b[0m         criteria,\n\u001b[1;32m   (...)\u001b[0m\n\u001b[0;32m   1559\u001b[0m         comment\u001b[38;5;241m=\u001b[39mcomment,\n\u001b[0;32m   1560\u001b[0m     )\n\u001b[1;32m-> 1562\u001b[0m \u001b[38;5;28;01mreturn\u001b[39;00m \u001b[38;5;28;43mself\u001b[39;49m\u001b[38;5;241;43m.\u001b[39;49m\u001b[43m_database\u001b[49m\u001b[38;5;241;43m.\u001b[39;49m\u001b[43mclient\u001b[49m\u001b[38;5;241;43m.\u001b[39;49m\u001b[43m_retryable_write\u001b[49m\u001b[43m(\u001b[49m\n\u001b[0;32m   1563\u001b[0m \u001b[43m    \u001b[49m\u001b[43m(\u001b[49m\u001b[43mwrite_concern\u001b[49m\u001b[43m \u001b[49m\u001b[38;5;129;43;01mor\u001b[39;49;00m\u001b[43m \u001b[49m\u001b[38;5;28;43mself\u001b[39;49m\u001b[38;5;241;43m.\u001b[39;49m\u001b[43mwrite_concern\u001b[49m\u001b[43m)\u001b[49m\u001b[38;5;241;43m.\u001b[39;49m\u001b[43macknowledged\u001b[49m\u001b[43m \u001b[49m\u001b[38;5;129;43;01mand\u001b[39;49;00m\u001b[43m \u001b[49m\u001b[38;5;129;43;01mnot\u001b[39;49;00m\u001b[43m \u001b[49m\u001b[43mmulti\u001b[49m\u001b[43m,\u001b[49m\n\u001b[0;32m   1564\u001b[0m \u001b[43m    \u001b[49m\u001b[43m_delete\u001b[49m\u001b[43m,\u001b[49m\n\u001b[0;32m   1565\u001b[0m \u001b[43m    \u001b[49m\u001b[43msession\u001b[49m\u001b[43m,\u001b[49m\n\u001b[0;32m   1566\u001b[0m \u001b[43m    \u001b[49m\u001b[43moperation\u001b[49m\u001b[38;5;241;43m=\u001b[39;49m\u001b[43m_Op\u001b[49m\u001b[38;5;241;43m.\u001b[39;49m\u001b[43mDELETE\u001b[49m\u001b[43m,\u001b[49m\n\u001b[0;32m   1567\u001b[0m \u001b[43m\u001b[49m\u001b[43m)\u001b[49m\n",
      "File \u001b[1;32mc:\\Users\\Jose\\Desktop\\amazon-recommender-system\\venv\\Lib\\site-packages\\pymongo\\synchronous\\mongo_client.py:1898\u001b[0m, in \u001b[0;36mMongoClient._retryable_write\u001b[1;34m(self, retryable, func, session, operation, bulk, operation_id)\u001b[0m\n\u001b[0;32m   1884\u001b[0m \u001b[38;5;250m\u001b[39m\u001b[38;5;124;03m\"\"\"Execute an operation with consecutive retries if possible\u001b[39;00m\n\u001b[0;32m   1885\u001b[0m \n\u001b[0;32m   1886\u001b[0m \u001b[38;5;124;03mReturns func()'s return value on success. On error retries the same\u001b[39;00m\n\u001b[1;32m   (...)\u001b[0m\n\u001b[0;32m   1895\u001b[0m \u001b[38;5;124;03m:param bulk: bulk abstraction to execute operations in bulk, defaults to None\u001b[39;00m\n\u001b[0;32m   1896\u001b[0m \u001b[38;5;124;03m\"\"\"\u001b[39;00m\n\u001b[0;32m   1897\u001b[0m \u001b[38;5;28;01mwith\u001b[39;00m \u001b[38;5;28mself\u001b[39m\u001b[38;5;241m.\u001b[39m_tmp_session(session) \u001b[38;5;28;01mas\u001b[39;00m s:\n\u001b[1;32m-> 1898\u001b[0m     \u001b[38;5;28;01mreturn\u001b[39;00m \u001b[38;5;28;43mself\u001b[39;49m\u001b[38;5;241;43m.\u001b[39;49m\u001b[43m_retry_with_session\u001b[49m\u001b[43m(\u001b[49m\u001b[43mretryable\u001b[49m\u001b[43m,\u001b[49m\u001b[43m \u001b[49m\u001b[43mfunc\u001b[49m\u001b[43m,\u001b[49m\u001b[43m \u001b[49m\u001b[43ms\u001b[49m\u001b[43m,\u001b[49m\u001b[43m \u001b[49m\u001b[43mbulk\u001b[49m\u001b[43m,\u001b[49m\u001b[43m \u001b[49m\u001b[43moperation\u001b[49m\u001b[43m,\u001b[49m\u001b[43m \u001b[49m\u001b[43moperation_id\u001b[49m\u001b[43m)\u001b[49m\n",
      "File \u001b[1;32mc:\\Users\\Jose\\Desktop\\amazon-recommender-system\\venv\\Lib\\site-packages\\pymongo\\synchronous\\mongo_client.py:1784\u001b[0m, in \u001b[0;36mMongoClient._retry_with_session\u001b[1;34m(self, retryable, func, session, bulk, operation, operation_id)\u001b[0m\n\u001b[0;32m   1779\u001b[0m \u001b[38;5;66;03m# Ensure that the options supports retry_writes and there is a valid session not in\u001b[39;00m\n\u001b[0;32m   1780\u001b[0m \u001b[38;5;66;03m# transaction, otherwise, we will not support retry behavior for this txn.\u001b[39;00m\n\u001b[0;32m   1781\u001b[0m retryable \u001b[38;5;241m=\u001b[39m \u001b[38;5;28mbool\u001b[39m(\n\u001b[0;32m   1782\u001b[0m     retryable \u001b[38;5;129;01mand\u001b[39;00m \u001b[38;5;28mself\u001b[39m\u001b[38;5;241m.\u001b[39moptions\u001b[38;5;241m.\u001b[39mretry_writes \u001b[38;5;129;01mand\u001b[39;00m session \u001b[38;5;129;01mand\u001b[39;00m \u001b[38;5;129;01mnot\u001b[39;00m session\u001b[38;5;241m.\u001b[39min_transaction\n\u001b[0;32m   1783\u001b[0m )\n\u001b[1;32m-> 1784\u001b[0m \u001b[38;5;28;01mreturn\u001b[39;00m \u001b[38;5;28;43mself\u001b[39;49m\u001b[38;5;241;43m.\u001b[39;49m\u001b[43m_retry_internal\u001b[49m\u001b[43m(\u001b[49m\n\u001b[0;32m   1785\u001b[0m \u001b[43m    \u001b[49m\u001b[43mfunc\u001b[49m\u001b[38;5;241;43m=\u001b[39;49m\u001b[43mfunc\u001b[49m\u001b[43m,\u001b[49m\n\u001b[0;32m   1786\u001b[0m \u001b[43m    \u001b[49m\u001b[43msession\u001b[49m\u001b[38;5;241;43m=\u001b[39;49m\u001b[43msession\u001b[49m\u001b[43m,\u001b[49m\n\u001b[0;32m   1787\u001b[0m \u001b[43m    \u001b[49m\u001b[43mbulk\u001b[49m\u001b[38;5;241;43m=\u001b[39;49m\u001b[43mbulk\u001b[49m\u001b[43m,\u001b[49m\n\u001b[0;32m   1788\u001b[0m \u001b[43m    \u001b[49m\u001b[43moperation\u001b[49m\u001b[38;5;241;43m=\u001b[39;49m\u001b[43moperation\u001b[49m\u001b[43m,\u001b[49m\n\u001b[0;32m   1789\u001b[0m \u001b[43m    \u001b[49m\u001b[43mretryable\u001b[49m\u001b[38;5;241;43m=\u001b[39;49m\u001b[43mretryable\u001b[49m\u001b[43m,\u001b[49m\n\u001b[0;32m   1790\u001b[0m \u001b[43m    \u001b[49m\u001b[43moperation_id\u001b[49m\u001b[38;5;241;43m=\u001b[39;49m\u001b[43moperation_id\u001b[49m\u001b[43m,\u001b[49m\n\u001b[0;32m   1791\u001b[0m \u001b[43m\u001b[49m\u001b[43m)\u001b[49m\n",
      "File \u001b[1;32mc:\\Users\\Jose\\Desktop\\amazon-recommender-system\\venv\\Lib\\site-packages\\pymongo\\_csot.py:119\u001b[0m, in \u001b[0;36mapply.<locals>.csot_wrapper\u001b[1;34m(self, *args, **kwargs)\u001b[0m\n\u001b[0;32m    117\u001b[0m         \u001b[38;5;28;01mwith\u001b[39;00m _TimeoutContext(timeout):\n\u001b[0;32m    118\u001b[0m             \u001b[38;5;28;01mreturn\u001b[39;00m func(\u001b[38;5;28mself\u001b[39m, \u001b[38;5;241m*\u001b[39margs, \u001b[38;5;241m*\u001b[39m\u001b[38;5;241m*\u001b[39mkwargs)\n\u001b[1;32m--> 119\u001b[0m \u001b[38;5;28;01mreturn\u001b[39;00m \u001b[43mfunc\u001b[49m\u001b[43m(\u001b[49m\u001b[38;5;28;43mself\u001b[39;49m\u001b[43m,\u001b[49m\u001b[43m \u001b[49m\u001b[38;5;241;43m*\u001b[39;49m\u001b[43margs\u001b[49m\u001b[43m,\u001b[49m\u001b[43m \u001b[49m\u001b[38;5;241;43m*\u001b[39;49m\u001b[38;5;241;43m*\u001b[39;49m\u001b[43mkwargs\u001b[49m\u001b[43m)\u001b[49m\n",
      "File \u001b[1;32mc:\\Users\\Jose\\Desktop\\amazon-recommender-system\\venv\\Lib\\site-packages\\pymongo\\synchronous\\mongo_client.py:1830\u001b[0m, in \u001b[0;36mMongoClient._retry_internal\u001b[1;34m(self, func, session, bulk, operation, is_read, address, read_pref, retryable, operation_id)\u001b[0m\n\u001b[0;32m   1793\u001b[0m \u001b[38;5;129m@_csot\u001b[39m\u001b[38;5;241m.\u001b[39mapply\n\u001b[0;32m   1794\u001b[0m \u001b[38;5;28;01mdef\u001b[39;00m \u001b[38;5;21m_retry_internal\u001b[39m(\n\u001b[0;32m   1795\u001b[0m     \u001b[38;5;28mself\u001b[39m,\n\u001b[1;32m   (...)\u001b[0m\n\u001b[0;32m   1804\u001b[0m     operation_id: Optional[\u001b[38;5;28mint\u001b[39m] \u001b[38;5;241m=\u001b[39m \u001b[38;5;28;01mNone\u001b[39;00m,\n\u001b[0;32m   1805\u001b[0m ) \u001b[38;5;241m-\u001b[39m\u001b[38;5;241m>\u001b[39m T:\n\u001b[0;32m   1806\u001b[0m \u001b[38;5;250m    \u001b[39m\u001b[38;5;124;03m\"\"\"Internal retryable helper for all client transactions.\u001b[39;00m\n\u001b[0;32m   1807\u001b[0m \n\u001b[0;32m   1808\u001b[0m \u001b[38;5;124;03m    :param func: Callback function we want to retry\u001b[39;00m\n\u001b[1;32m   (...)\u001b[0m\n\u001b[0;32m   1817\u001b[0m \u001b[38;5;124;03m    :return: Output of the calling func()\u001b[39;00m\n\u001b[0;32m   1818\u001b[0m \u001b[38;5;124;03m    \"\"\"\u001b[39;00m\n\u001b[0;32m   1819\u001b[0m     \u001b[38;5;28;01mreturn\u001b[39;00m \u001b[43m_ClientConnectionRetryable\u001b[49m\u001b[43m(\u001b[49m\n\u001b[0;32m   1820\u001b[0m \u001b[43m        \u001b[49m\u001b[43mmongo_client\u001b[49m\u001b[38;5;241;43m=\u001b[39;49m\u001b[38;5;28;43mself\u001b[39;49m\u001b[43m,\u001b[49m\n\u001b[0;32m   1821\u001b[0m \u001b[43m        \u001b[49m\u001b[43mfunc\u001b[49m\u001b[38;5;241;43m=\u001b[39;49m\u001b[43mfunc\u001b[49m\u001b[43m,\u001b[49m\n\u001b[0;32m   1822\u001b[0m \u001b[43m        \u001b[49m\u001b[43mbulk\u001b[49m\u001b[38;5;241;43m=\u001b[39;49m\u001b[43mbulk\u001b[49m\u001b[43m,\u001b[49m\n\u001b[0;32m   1823\u001b[0m \u001b[43m        \u001b[49m\u001b[43moperation\u001b[49m\u001b[38;5;241;43m=\u001b[39;49m\u001b[43moperation\u001b[49m\u001b[43m,\u001b[49m\n\u001b[0;32m   1824\u001b[0m \u001b[43m        \u001b[49m\u001b[43mis_read\u001b[49m\u001b[38;5;241;43m=\u001b[39;49m\u001b[43mis_read\u001b[49m\u001b[43m,\u001b[49m\n\u001b[0;32m   1825\u001b[0m \u001b[43m        \u001b[49m\u001b[43msession\u001b[49m\u001b[38;5;241;43m=\u001b[39;49m\u001b[43msession\u001b[49m\u001b[43m,\u001b[49m\n\u001b[0;32m   1826\u001b[0m \u001b[43m        \u001b[49m\u001b[43mread_pref\u001b[49m\u001b[38;5;241;43m=\u001b[39;49m\u001b[43mread_pref\u001b[49m\u001b[43m,\u001b[49m\n\u001b[0;32m   1827\u001b[0m \u001b[43m        \u001b[49m\u001b[43maddress\u001b[49m\u001b[38;5;241;43m=\u001b[39;49m\u001b[43maddress\u001b[49m\u001b[43m,\u001b[49m\n\u001b[0;32m   1828\u001b[0m \u001b[43m        \u001b[49m\u001b[43mretryable\u001b[49m\u001b[38;5;241;43m=\u001b[39;49m\u001b[43mretryable\u001b[49m\u001b[43m,\u001b[49m\n\u001b[0;32m   1829\u001b[0m \u001b[43m        \u001b[49m\u001b[43moperation_id\u001b[49m\u001b[38;5;241;43m=\u001b[39;49m\u001b[43moperation_id\u001b[49m\u001b[43m,\u001b[49m\n\u001b[1;32m-> 1830\u001b[0m \u001b[43m    \u001b[49m\u001b[43m)\u001b[49m\u001b[38;5;241;43m.\u001b[39;49m\u001b[43mrun\u001b[49m\u001b[43m(\u001b[49m\u001b[43m)\u001b[49m\n",
      "File \u001b[1;32mc:\\Users\\Jose\\Desktop\\amazon-recommender-system\\venv\\Lib\\site-packages\\pymongo\\synchronous\\mongo_client.py:2554\u001b[0m, in \u001b[0;36m_ClientConnectionRetryable.run\u001b[1;34m(self)\u001b[0m\n\u001b[0;32m   2552\u001b[0m \u001b[38;5;28mself\u001b[39m\u001b[38;5;241m.\u001b[39m_check_last_error(check_csot\u001b[38;5;241m=\u001b[39m\u001b[38;5;28;01mTrue\u001b[39;00m)\n\u001b[0;32m   2553\u001b[0m \u001b[38;5;28;01mtry\u001b[39;00m:\n\u001b[1;32m-> 2554\u001b[0m     \u001b[38;5;28;01mreturn\u001b[39;00m \u001b[38;5;28mself\u001b[39m\u001b[38;5;241m.\u001b[39m_read() \u001b[38;5;28;01mif\u001b[39;00m \u001b[38;5;28mself\u001b[39m\u001b[38;5;241m.\u001b[39m_is_read \u001b[38;5;28;01melse\u001b[39;00m \u001b[38;5;28;43mself\u001b[39;49m\u001b[38;5;241;43m.\u001b[39;49m\u001b[43m_write\u001b[49m\u001b[43m(\u001b[49m\u001b[43m)\u001b[49m\n\u001b[0;32m   2555\u001b[0m \u001b[38;5;28;01mexcept\u001b[39;00m ServerSelectionTimeoutError:\n\u001b[0;32m   2556\u001b[0m     \u001b[38;5;66;03m# The application may think the write was never attempted\u001b[39;00m\n\u001b[0;32m   2557\u001b[0m     \u001b[38;5;66;03m# if we raise ServerSelectionTimeoutError on the retry\u001b[39;00m\n\u001b[0;32m   2558\u001b[0m     \u001b[38;5;66;03m# attempt. Raise the original exception instead.\u001b[39;00m\n\u001b[0;32m   2559\u001b[0m     \u001b[38;5;28mself\u001b[39m\u001b[38;5;241m.\u001b[39m_check_last_error()\n",
      "File \u001b[1;32mc:\\Users\\Jose\\Desktop\\amazon-recommender-system\\venv\\Lib\\site-packages\\pymongo\\synchronous\\mongo_client.py:2662\u001b[0m, in \u001b[0;36m_ClientConnectionRetryable._write\u001b[1;34m(self)\u001b[0m\n\u001b[0;32m   2660\u001b[0m max_wire_version \u001b[38;5;241m=\u001b[39m \u001b[38;5;241m0\u001b[39m\n\u001b[0;32m   2661\u001b[0m is_mongos \u001b[38;5;241m=\u001b[39m \u001b[38;5;28;01mFalse\u001b[39;00m\n\u001b[1;32m-> 2662\u001b[0m \u001b[38;5;28mself\u001b[39m\u001b[38;5;241m.\u001b[39m_server \u001b[38;5;241m=\u001b[39m \u001b[38;5;28;43mself\u001b[39;49m\u001b[38;5;241;43m.\u001b[39;49m\u001b[43m_get_server\u001b[49m\u001b[43m(\u001b[49m\u001b[43m)\u001b[49m\n\u001b[0;32m   2663\u001b[0m \u001b[38;5;28;01mwith\u001b[39;00m \u001b[38;5;28mself\u001b[39m\u001b[38;5;241m.\u001b[39m_client\u001b[38;5;241m.\u001b[39m_checkout(\u001b[38;5;28mself\u001b[39m\u001b[38;5;241m.\u001b[39m_server, \u001b[38;5;28mself\u001b[39m\u001b[38;5;241m.\u001b[39m_session) \u001b[38;5;28;01mas\u001b[39;00m conn:\n\u001b[0;32m   2664\u001b[0m     max_wire_version \u001b[38;5;241m=\u001b[39m conn\u001b[38;5;241m.\u001b[39mmax_wire_version\n",
      "File \u001b[1;32mc:\\Users\\Jose\\Desktop\\amazon-recommender-system\\venv\\Lib\\site-packages\\pymongo\\synchronous\\mongo_client.py:2645\u001b[0m, in \u001b[0;36m_ClientConnectionRetryable._get_server\u001b[1;34m(self)\u001b[0m\n\u001b[0;32m   2640\u001b[0m \u001b[38;5;28;01mdef\u001b[39;00m \u001b[38;5;21m_get_server\u001b[39m(\u001b[38;5;28mself\u001b[39m) \u001b[38;5;241m-\u001b[39m\u001b[38;5;241m>\u001b[39m Server:\n\u001b[0;32m   2641\u001b[0m \u001b[38;5;250m    \u001b[39m\u001b[38;5;124;03m\"\"\"Retrieves a server object based on provided object context\u001b[39;00m\n\u001b[0;32m   2642\u001b[0m \n\u001b[0;32m   2643\u001b[0m \u001b[38;5;124;03m    :return: Abstraction to connect to server\u001b[39;00m\n\u001b[0;32m   2644\u001b[0m \u001b[38;5;124;03m    \"\"\"\u001b[39;00m\n\u001b[1;32m-> 2645\u001b[0m     \u001b[38;5;28;01mreturn\u001b[39;00m \u001b[38;5;28;43mself\u001b[39;49m\u001b[38;5;241;43m.\u001b[39;49m\u001b[43m_client\u001b[49m\u001b[38;5;241;43m.\u001b[39;49m\u001b[43m_select_server\u001b[49m\u001b[43m(\u001b[49m\n\u001b[0;32m   2646\u001b[0m \u001b[43m        \u001b[49m\u001b[38;5;28;43mself\u001b[39;49m\u001b[38;5;241;43m.\u001b[39;49m\u001b[43m_server_selector\u001b[49m\u001b[43m,\u001b[49m\n\u001b[0;32m   2647\u001b[0m \u001b[43m        \u001b[49m\u001b[38;5;28;43mself\u001b[39;49m\u001b[38;5;241;43m.\u001b[39;49m\u001b[43m_session\u001b[49m\u001b[43m,\u001b[49m\n\u001b[0;32m   2648\u001b[0m \u001b[43m        \u001b[49m\u001b[38;5;28;43mself\u001b[39;49m\u001b[38;5;241;43m.\u001b[39;49m\u001b[43m_operation\u001b[49m\u001b[43m,\u001b[49m\n\u001b[0;32m   2649\u001b[0m \u001b[43m        \u001b[49m\u001b[43maddress\u001b[49m\u001b[38;5;241;43m=\u001b[39;49m\u001b[38;5;28;43mself\u001b[39;49m\u001b[38;5;241;43m.\u001b[39;49m\u001b[43m_address\u001b[49m\u001b[43m,\u001b[49m\n\u001b[0;32m   2650\u001b[0m \u001b[43m        \u001b[49m\u001b[43mdeprioritized_servers\u001b[49m\u001b[38;5;241;43m=\u001b[39;49m\u001b[38;5;28;43mself\u001b[39;49m\u001b[38;5;241;43m.\u001b[39;49m\u001b[43m_deprioritized_servers\u001b[49m\u001b[43m,\u001b[49m\n\u001b[0;32m   2651\u001b[0m \u001b[43m        \u001b[49m\u001b[43moperation_id\u001b[49m\u001b[38;5;241;43m=\u001b[39;49m\u001b[38;5;28;43mself\u001b[39;49m\u001b[38;5;241;43m.\u001b[39;49m\u001b[43m_operation_id\u001b[49m\u001b[43m,\u001b[49m\n\u001b[0;32m   2652\u001b[0m \u001b[43m    \u001b[49m\u001b[43m)\u001b[49m\n",
      "File \u001b[1;32mc:\\Users\\Jose\\Desktop\\amazon-recommender-system\\venv\\Lib\\site-packages\\pymongo\\synchronous\\mongo_client.py:1649\u001b[0m, in \u001b[0;36mMongoClient._select_server\u001b[1;34m(self, server_selector, session, operation, address, deprioritized_servers, operation_id)\u001b[0m\n\u001b[0;32m   1647\u001b[0m             \u001b[38;5;28;01mraise\u001b[39;00m AutoReconnect(\u001b[38;5;124m\"\u001b[39m\u001b[38;5;124mserver \u001b[39m\u001b[38;5;132;01m%s\u001b[39;00m\u001b[38;5;124m:\u001b[39m\u001b[38;5;132;01m%s\u001b[39;00m\u001b[38;5;124m no longer available\u001b[39m\u001b[38;5;124m\"\u001b[39m \u001b[38;5;241m%\u001b[39m address)  \u001b[38;5;66;03m# noqa: UP031\u001b[39;00m\n\u001b[0;32m   1648\u001b[0m     \u001b[38;5;28;01melse\u001b[39;00m:\n\u001b[1;32m-> 1649\u001b[0m         server \u001b[38;5;241m=\u001b[39m \u001b[43mtopology\u001b[49m\u001b[38;5;241;43m.\u001b[39;49m\u001b[43mselect_server\u001b[49m\u001b[43m(\u001b[49m\n\u001b[0;32m   1650\u001b[0m \u001b[43m            \u001b[49m\u001b[43mserver_selector\u001b[49m\u001b[43m,\u001b[49m\n\u001b[0;32m   1651\u001b[0m \u001b[43m            \u001b[49m\u001b[43moperation\u001b[49m\u001b[43m,\u001b[49m\n\u001b[0;32m   1652\u001b[0m \u001b[43m            \u001b[49m\u001b[43mdeprioritized_servers\u001b[49m\u001b[38;5;241;43m=\u001b[39;49m\u001b[43mdeprioritized_servers\u001b[49m\u001b[43m,\u001b[49m\n\u001b[0;32m   1653\u001b[0m \u001b[43m            \u001b[49m\u001b[43moperation_id\u001b[49m\u001b[38;5;241;43m=\u001b[39;49m\u001b[43moperation_id\u001b[49m\u001b[43m,\u001b[49m\n\u001b[0;32m   1654\u001b[0m \u001b[43m        \u001b[49m\u001b[43m)\u001b[49m\n\u001b[0;32m   1655\u001b[0m     \u001b[38;5;28;01mreturn\u001b[39;00m server\n\u001b[0;32m   1656\u001b[0m \u001b[38;5;28;01mexcept\u001b[39;00m PyMongoError \u001b[38;5;28;01mas\u001b[39;00m exc:\n\u001b[0;32m   1657\u001b[0m     \u001b[38;5;66;03m# Server selection errors in a transaction are transient.\u001b[39;00m\n",
      "File \u001b[1;32mc:\\Users\\Jose\\Desktop\\amazon-recommender-system\\venv\\Lib\\site-packages\\pymongo\\synchronous\\topology.py:398\u001b[0m, in \u001b[0;36mTopology.select_server\u001b[1;34m(self, selector, operation, server_selection_timeout, address, deprioritized_servers, operation_id)\u001b[0m\n\u001b[0;32m    388\u001b[0m \u001b[38;5;28;01mdef\u001b[39;00m \u001b[38;5;21mselect_server\u001b[39m(\n\u001b[0;32m    389\u001b[0m     \u001b[38;5;28mself\u001b[39m,\n\u001b[0;32m    390\u001b[0m     selector: Callable[[Selection], Selection],\n\u001b[1;32m   (...)\u001b[0m\n\u001b[0;32m    395\u001b[0m     operation_id: Optional[\u001b[38;5;28mint\u001b[39m] \u001b[38;5;241m=\u001b[39m \u001b[38;5;28;01mNone\u001b[39;00m,\n\u001b[0;32m    396\u001b[0m ) \u001b[38;5;241m-\u001b[39m\u001b[38;5;241m>\u001b[39m Server:\n\u001b[0;32m    397\u001b[0m \u001b[38;5;250m    \u001b[39m\u001b[38;5;124;03m\"\"\"Like select_servers, but choose a random server if several match.\"\"\"\u001b[39;00m\n\u001b[1;32m--> 398\u001b[0m     server \u001b[38;5;241m=\u001b[39m \u001b[38;5;28;43mself\u001b[39;49m\u001b[38;5;241;43m.\u001b[39;49m\u001b[43m_select_server\u001b[49m\u001b[43m(\u001b[49m\n\u001b[0;32m    399\u001b[0m \u001b[43m        \u001b[49m\u001b[43mselector\u001b[49m\u001b[43m,\u001b[49m\n\u001b[0;32m    400\u001b[0m \u001b[43m        \u001b[49m\u001b[43moperation\u001b[49m\u001b[43m,\u001b[49m\n\u001b[0;32m    401\u001b[0m \u001b[43m        \u001b[49m\u001b[43mserver_selection_timeout\u001b[49m\u001b[43m,\u001b[49m\n\u001b[0;32m    402\u001b[0m \u001b[43m        \u001b[49m\u001b[43maddress\u001b[49m\u001b[43m,\u001b[49m\n\u001b[0;32m    403\u001b[0m \u001b[43m        \u001b[49m\u001b[43mdeprioritized_servers\u001b[49m\u001b[43m,\u001b[49m\n\u001b[0;32m    404\u001b[0m \u001b[43m        \u001b[49m\u001b[43moperation_id\u001b[49m\u001b[38;5;241;43m=\u001b[39;49m\u001b[43moperation_id\u001b[49m\u001b[43m,\u001b[49m\n\u001b[0;32m    405\u001b[0m \u001b[43m    \u001b[49m\u001b[43m)\u001b[49m\n\u001b[0;32m    406\u001b[0m     \u001b[38;5;28;01mif\u001b[39;00m _csot\u001b[38;5;241m.\u001b[39mget_timeout():\n\u001b[0;32m    407\u001b[0m         _csot\u001b[38;5;241m.\u001b[39mset_rtt(server\u001b[38;5;241m.\u001b[39mdescription\u001b[38;5;241m.\u001b[39mmin_round_trip_time)\n",
      "File \u001b[1;32mc:\\Users\\Jose\\Desktop\\amazon-recommender-system\\venv\\Lib\\site-packages\\pymongo\\synchronous\\topology.py:376\u001b[0m, in \u001b[0;36mTopology._select_server\u001b[1;34m(self, selector, operation, server_selection_timeout, address, deprioritized_servers, operation_id)\u001b[0m\n\u001b[0;32m    367\u001b[0m \u001b[38;5;28;01mdef\u001b[39;00m \u001b[38;5;21m_select_server\u001b[39m(\n\u001b[0;32m    368\u001b[0m     \u001b[38;5;28mself\u001b[39m,\n\u001b[0;32m    369\u001b[0m     selector: Callable[[Selection], Selection],\n\u001b[1;32m   (...)\u001b[0m\n\u001b[0;32m    374\u001b[0m     operation_id: Optional[\u001b[38;5;28mint\u001b[39m] \u001b[38;5;241m=\u001b[39m \u001b[38;5;28;01mNone\u001b[39;00m,\n\u001b[0;32m    375\u001b[0m ) \u001b[38;5;241m-\u001b[39m\u001b[38;5;241m>\u001b[39m Server:\n\u001b[1;32m--> 376\u001b[0m     servers \u001b[38;5;241m=\u001b[39m \u001b[38;5;28;43mself\u001b[39;49m\u001b[38;5;241;43m.\u001b[39;49m\u001b[43mselect_servers\u001b[49m\u001b[43m(\u001b[49m\n\u001b[0;32m    377\u001b[0m \u001b[43m        \u001b[49m\u001b[43mselector\u001b[49m\u001b[43m,\u001b[49m\u001b[43m \u001b[49m\u001b[43moperation\u001b[49m\u001b[43m,\u001b[49m\u001b[43m \u001b[49m\u001b[43mserver_selection_timeout\u001b[49m\u001b[43m,\u001b[49m\u001b[43m \u001b[49m\u001b[43maddress\u001b[49m\u001b[43m,\u001b[49m\u001b[43m \u001b[49m\u001b[43moperation_id\u001b[49m\n\u001b[0;32m    378\u001b[0m \u001b[43m    \u001b[49m\u001b[43m)\u001b[49m\n\u001b[0;32m    379\u001b[0m     servers \u001b[38;5;241m=\u001b[39m _filter_servers(servers, deprioritized_servers)\n\u001b[0;32m    380\u001b[0m     \u001b[38;5;28;01mif\u001b[39;00m \u001b[38;5;28mlen\u001b[39m(servers) \u001b[38;5;241m==\u001b[39m \u001b[38;5;241m1\u001b[39m:\n",
      "File \u001b[1;32mc:\\Users\\Jose\\Desktop\\amazon-recommender-system\\venv\\Lib\\site-packages\\pymongo\\synchronous\\topology.py:283\u001b[0m, in \u001b[0;36mTopology.select_servers\u001b[1;34m(self, selector, operation, server_selection_timeout, address, operation_id)\u001b[0m\n\u001b[0;32m    280\u001b[0m     server_timeout \u001b[38;5;241m=\u001b[39m server_selection_timeout\n\u001b[0;32m    282\u001b[0m \u001b[38;5;28;01mwith\u001b[39;00m \u001b[38;5;28mself\u001b[39m\u001b[38;5;241m.\u001b[39m_lock:\n\u001b[1;32m--> 283\u001b[0m     server_descriptions \u001b[38;5;241m=\u001b[39m \u001b[38;5;28;43mself\u001b[39;49m\u001b[38;5;241;43m.\u001b[39;49m\u001b[43m_select_servers_loop\u001b[49m\u001b[43m(\u001b[49m\n\u001b[0;32m    284\u001b[0m \u001b[43m        \u001b[49m\u001b[43mselector\u001b[49m\u001b[43m,\u001b[49m\u001b[43m \u001b[49m\u001b[43mserver_timeout\u001b[49m\u001b[43m,\u001b[49m\u001b[43m \u001b[49m\u001b[43moperation\u001b[49m\u001b[43m,\u001b[49m\u001b[43m \u001b[49m\u001b[43moperation_id\u001b[49m\u001b[43m,\u001b[49m\u001b[43m \u001b[49m\u001b[43maddress\u001b[49m\n\u001b[0;32m    285\u001b[0m \u001b[43m    \u001b[49m\u001b[43m)\u001b[49m\n\u001b[0;32m    287\u001b[0m     \u001b[38;5;28;01mreturn\u001b[39;00m [\n\u001b[0;32m    288\u001b[0m         cast(Server, \u001b[38;5;28mself\u001b[39m\u001b[38;5;241m.\u001b[39mget_server_by_address(sd\u001b[38;5;241m.\u001b[39maddress)) \u001b[38;5;28;01mfor\u001b[39;00m sd \u001b[38;5;129;01min\u001b[39;00m server_descriptions\n\u001b[0;32m    289\u001b[0m     ]\n",
      "File \u001b[1;32mc:\\Users\\Jose\\Desktop\\amazon-recommender-system\\venv\\Lib\\site-packages\\pymongo\\synchronous\\topology.py:333\u001b[0m, in \u001b[0;36mTopology._select_servers_loop\u001b[1;34m(self, selector, timeout, operation, operation_id, address)\u001b[0m\n\u001b[0;32m    322\u001b[0m     \u001b[38;5;28;01mif\u001b[39;00m _SERVER_SELECTION_LOGGER\u001b[38;5;241m.\u001b[39misEnabledFor(logging\u001b[38;5;241m.\u001b[39mDEBUG):\n\u001b[0;32m    323\u001b[0m         _debug_log(\n\u001b[0;32m    324\u001b[0m             _SERVER_SELECTION_LOGGER,\n\u001b[0;32m    325\u001b[0m             message\u001b[38;5;241m=\u001b[39m_ServerSelectionStatusMessage\u001b[38;5;241m.\u001b[39mFAILED,\n\u001b[1;32m   (...)\u001b[0m\n\u001b[0;32m    331\u001b[0m             failure\u001b[38;5;241m=\u001b[39m\u001b[38;5;28mself\u001b[39m\u001b[38;5;241m.\u001b[39m_error_message(selector),\n\u001b[0;32m    332\u001b[0m         )\n\u001b[1;32m--> 333\u001b[0m     \u001b[38;5;28;01mraise\u001b[39;00m ServerSelectionTimeoutError(\n\u001b[0;32m    334\u001b[0m         \u001b[38;5;124mf\u001b[39m\u001b[38;5;124m\"\u001b[39m\u001b[38;5;132;01m{\u001b[39;00m\u001b[38;5;28mself\u001b[39m\u001b[38;5;241m.\u001b[39m_error_message(selector)\u001b[38;5;132;01m}\u001b[39;00m\u001b[38;5;124m, Timeout: \u001b[39m\u001b[38;5;132;01m{\u001b[39;00mtimeout\u001b[38;5;132;01m}\u001b[39;00m\u001b[38;5;124ms, Topology Description: \u001b[39m\u001b[38;5;132;01m{\u001b[39;00m\u001b[38;5;28mself\u001b[39m\u001b[38;5;241m.\u001b[39mdescription\u001b[38;5;132;01m!r}\u001b[39;00m\u001b[38;5;124m\"\u001b[39m\n\u001b[0;32m    335\u001b[0m     )\n\u001b[0;32m    337\u001b[0m \u001b[38;5;28;01mif\u001b[39;00m \u001b[38;5;129;01mnot\u001b[39;00m logged_waiting:\n\u001b[0;32m    338\u001b[0m     _debug_log(\n\u001b[0;32m    339\u001b[0m         _SERVER_SELECTION_LOGGER,\n\u001b[0;32m    340\u001b[0m         message\u001b[38;5;241m=\u001b[39m_ServerSelectionStatusMessage\u001b[38;5;241m.\u001b[39mWAITING,\n\u001b[1;32m   (...)\u001b[0m\n\u001b[0;32m    346\u001b[0m         remainingTimeMS\u001b[38;5;241m=\u001b[39m\u001b[38;5;28mint\u001b[39m(end_time \u001b[38;5;241m-\u001b[39m time\u001b[38;5;241m.\u001b[39mmonotonic()),\n\u001b[0;32m    347\u001b[0m     )\n",
      "\u001b[1;31mServerSelectionTimeoutError\u001b[0m: localhost:27017: [WinError 10061] No connection could be made because the target machine actively refused it (configured timeouts: socketTimeoutMS: 20000.0ms, connectTimeoutMS: 20000.0ms), Timeout: 30s, Topology Description: <TopologyDescription id: 674aa5f45232a9d255180b95, topology_type: Unknown, servers: [<ServerDescription ('localhost', 27017) server_type: Unknown, rtt: None, error=AutoReconnect('localhost:27017: [WinError 10061] No connection could be made because the target machine actively refused it (configured timeouts: socketTimeoutMS: 20000.0ms, connectTimeoutMS: 20000.0ms)')>]>"
     ]
    }
   ],
   "source": [
    "# Borramos toda la data antes de volver a insertarla\n",
    "collection.delete_many({})\n",
    "print(\"Todos los documentos de la colección han sido eliminados.\")\n",
    "\n",
    "# Leer el archivo JSON Lines\n",
    "with open(\"data/raw/Gift_Cards.jsonl\", \"r\", encoding=\"utf-8\") as file:\n",
    "    for line in file:\n",
    "        try:\n",
    "            data = json.loads(line)\n",
    "            # Insertamos la data\n",
    "            collection.insert_one(data)\n",
    "        except json.JSONDecodeError as e:\n",
    "            print(f\"Error al decodificar la línea: {e}\")"
   ]
  },
  {
   "cell_type": "markdown",
   "metadata": {},
   "source": [
    "2.2 Meta Gift Cards"
   ]
  },
  {
   "cell_type": "code",
   "execution_count": 7,
   "metadata": {},
   "outputs": [
    {
     "name": "stdout",
     "output_type": "stream",
     "text": [
      "Todos los documentos de la colección han sido eliminados.\n"
     ]
    }
   ],
   "source": [
    "# Borramos toda la data antes de volver a insertarla\n",
    "collection_meta.delete_many({})\n",
    "print(\"Todos los documentos de la colección han sido eliminados.\")\n",
    "\n",
    "# Leer el archivo JSON Lines\n",
    "with open(\"data/raw/meta_Gift_Cards.jsonl\", \"r\", encoding=\"utf-8\") as file:\n",
    "    for line in file:\n",
    "        try:\n",
    "            data = json.loads(line)\n",
    "            # Insertamos la data\n",
    "            collection_meta.insert_one(data)\n",
    "        except json.JSONDecodeError as e:\n",
    "            print(f\"Error al decodificar la línea: {e}\")"
   ]
  },
  {
   "cell_type": "markdown",
   "metadata": {},
   "source": [
    "#### 3. Querys MongoDB"
   ]
  },
  {
   "cell_type": "markdown",
   "metadata": {},
   "source": [
    "3.1 Consulta para actualizar el campo \"main_category\" a \"Gift Card\" de la coleccion de Meta Gift Card"
   ]
  },
  {
   "cell_type": "code",
   "execution_count": 8,
   "metadata": {},
   "outputs": [
    {
     "name": "stdout",
     "output_type": "stream",
     "text": [
      "Documentos actualizados\n"
     ]
    }
   ],
   "source": [
    "result = collection_meta.update_many({}, {\"$set\": {\"main_category\": \"Gift Cards\"}})\n",
    "print(\"Documentos actualizados\")"
   ]
  },
  {
   "cell_type": "markdown",
   "metadata": {},
   "source": [
    "3.2 Consulta en donde se busquen los comentarios que tienen un verified_purchase con valor True, ademas que tengan un rating mayor o igual a 1 y menor o igual a 5, y un helpful_vote mayor o igual a 0"
   ]
  },
  {
   "cell_type": "code",
   "execution_count": 39,
   "metadata": {},
   "outputs": [],
   "source": [
    "query = {\n",
    "    \"verified_purchase\": True,\n",
    "    \"rating\": {\"$gte\": 1, \"$lte\": 5},\n",
    "    \"helpful_vote\": {\"$gte\": 0},\n",
    "}\n",
    "\n",
    "results = collection.find(query)\n",
    "df = pd.DataFrame(list(results))"
   ]
  },
  {
   "cell_type": "markdown",
   "metadata": {},
   "source": [
    "#### 4. Dask y Pandas"
   ]
  },
  {
   "cell_type": "markdown",
   "metadata": {},
   "source": [
    "4.1 Limpieza de data"
   ]
  },
  {
   "cell_type": "code",
   "execution_count": 40,
   "metadata": {},
   "outputs": [],
   "source": [
    "def clean_text(text):\n",
    "    if not isinstance(text, str):\n",
    "        return text\n",
    "    text = unescape(text) # html entities?\n",
    "\n",
    "    # text = codecs.decode(text, 'unicode_escape') #decode emojis\n",
    "    text = re.sub(r'\\\\u[0-9a-fA-F]{4}', '', text) #remove emojis\n",
    "\n",
    "    text = re.sub(r'!{2,}', '!', text) #Multiple exclamation\n",
    "\n",
    "    text = re.sub(r'\\.{2,}', ' ', text) # Dots\n",
    "\n",
    "    text = re.sub(r'<br\\s*/?>', ' ', text)  # Para br\n",
    "\n",
    "    text = re.sub(r'\\b([A-Z])(?:\\s+([A-Z]))+\\b', lambda m: m.group(0).replace(\" \", \"\").lower(), text) # t h i s to this\n",
    "\n",
    "    text = re.sub(r'[+-]', '', text) #omit some chars\n",
    "\n",
    "    text = re.sub(r'\\u2019', \"'\", text) # this ´ to this '\n",
    "\n",
    "    text = re.sub(r'(^|\\.\\s+)([a-z])', lambda m: m.group(1) + m.group(2).upper(), text) #Capital \n",
    "    \n",
    "    text = re.sub(r'\\b[A-Z]{2,}\\b', lambda m: m.group().lower(), text) #Words normalized\n",
    "    \n",
    "    return text"
   ]
  },
  {
   "cell_type": "markdown",
   "metadata": {},
   "source": [
    "4.2 Medicion de tiempos"
   ]
  },
  {
   "cell_type": "code",
   "execution_count": 41,
   "metadata": {},
   "outputs": [],
   "source": [
    "def process_and_filter_pandas(df, max_length=512):\n",
    "    start_time = time.time()\n",
    "\n",
    "    df[\"title\"] = df[\"title\"].apply(clean_text)\n",
    "    df[\"text\"] = df[\"text\"].apply(clean_text)\n",
    "\n",
    "    filtered_df = df[df[\"text\"].str.len() <= max_length].copy()\n",
    "    \n",
    "    end_time = time.time()\n",
    "    elapsed_time = end_time - start_time\n",
    "    print(f\"Tiempo transcurrido: {elapsed_time:.2f} segundos\")\n",
    "    \n",
    "    return filtered_df\n",
    "\n",
    "def process_and_filter_dask(df, max_length=512):\n",
    "    start_time = time.time()\n",
    "\n",
    "    dask_df = dd.from_pandas(df, npartitions=4)\n",
    "    \n",
    "    dask_df[\"title\"] = dask_df[\"title\"].apply(clean_text, meta=('title', 'str'))\n",
    "    dask_df[\"text\"] = dask_df[\"text\"].apply(clean_text, meta=('text', 'str'))\n",
    "    \n",
    "    filtered_dask_df = dask_df[dask_df[\"text\"].str.len() <= max_length]\n",
    "    \n",
    "    filtered_df = filtered_dask_df.compute()\n",
    "    \n",
    "    end_time = time.time()\n",
    "    elapsed_time = end_time - start_time\n",
    "    print(f\"Tiempo transcurrido: {elapsed_time:.2f} segundos\")\n",
    "    \n",
    "    return filtered_df"
   ]
  },
  {
   "cell_type": "code",
   "execution_count": 62,
   "metadata": {},
   "outputs": [
    {
     "name": "stdout",
     "output_type": "stream",
     "text": [
      "Tiempo transcurrido: 3.45 segundos\n",
      "Tiempo transcurrido: 7.71 segundos\n"
     ]
    }
   ],
   "source": [
    "df_pandas = process_and_filter_pandas(df)\n",
    "df_dask = process_and_filter_dask(df)"
   ]
  },
  {
   "cell_type": "markdown",
   "metadata": {},
   "source": [
    "#### 5. Seteamos LLM"
   ]
  },
  {
   "cell_type": "code",
   "execution_count": 43,
   "metadata": {},
   "outputs": [],
   "source": [
    "tqdm.pandas()\n",
    "\n",
    "tokenizer = DistilBertTokenizer.from_pretrained(\"distilbert-base-uncased-finetuned-sst-2-english\")\n",
    "model = DistilBertForSequenceClassification.from_pretrained(\"distilbert-base-uncased-finetuned-sst-2-english\")"
   ]
  },
  {
   "cell_type": "code",
   "execution_count": 44,
   "metadata": {},
   "outputs": [],
   "source": [
    "# Funcion para clasificar el texto\n",
    "def classify_text(row, model):\n",
    "    input_data = tokenizer(row['text'], return_tensors=\"pt\")\n",
    "    with torch.no_grad():\n",
    "        logits = model(**input_data).logits\n",
    "    predicted_class_id = logits.argmax().item()\n",
    "    if model.config.id2label[predicted_class_id] == 'POSITIVE':\n",
    "        return 1\n",
    "    else:\n",
    "        return 0"
   ]
  },
  {
   "cell_type": "markdown",
   "metadata": {},
   "source": [
    "5.1 Generamos el Dataset completo"
   ]
  },
  {
   "cell_type": "code",
   "execution_count": 45,
   "metadata": {},
   "outputs": [
    {
     "name": "stderr",
     "output_type": "stream",
     "text": [
      "100%|██████████| 140481/140481 [1:01:49<00:00, 37.87it/s]\n"
     ]
    },
    {
     "name": "stdout",
     "output_type": "stream",
     "text": [
      "                             _id  rating  \\\n",
      "0       6748bafe19c0f99fe2ba20cc     5.0   \n",
      "1       6748bafe19c0f99fe2ba20ce     5.0   \n",
      "3       6748bafe19c0f99fe2ba20d1     5.0   \n",
      "4       6748bafe19c0f99fe2ba20d2     5.0   \n",
      "5       6748bafe19c0f99fe2ba20d3     5.0   \n",
      "...                          ...     ...   \n",
      "141956  6748bb1f19c0f99fe2bc7421     5.0   \n",
      "141957  6748bb1f19c0f99fe2bc7422     5.0   \n",
      "141958  6748bb1f19c0f99fe2bc7423     1.0   \n",
      "141959  6748bb1f19c0f99fe2bc7424     5.0   \n",
      "141960  6748bb1f19c0f99fe2bc7425     4.0   \n",
      "\n",
      "                                                    title  \\\n",
      "0                                              Great gift   \n",
      "1                                            Perfect gift   \n",
      "3                                                   Cute!   \n",
      "4                                               Easy gift   \n",
      "5                                              Great gift   \n",
      "...                                                   ...   \n",
      "141956  I gave it to my sister and she immediately com...   \n",
      "141957               Gran idea y majestuosa forma de pago   \n",
      "141958           Called right away to cancel, was told no   \n",
      "141959                                         Five Stars   \n",
      "141960                                         Four Stars   \n",
      "\n",
      "                                                     text images        asin  \\\n",
      "0                     Having Amazon money is always good.     []  B00IX1I3G6   \n",
      "1       When you have a person who is hard to shop for...     []  B01K8RIM5Y   \n",
      "3                            That snowman tin is adorable     []  B072L7GTF5   \n",
      "4                                     Great and easy gift     []  B00IX1I3G6   \n",
      "5          Super cute nice quality tin Your choose amount     []  B072P5VV4D   \n",
      "...                                                   ...    ...         ...   \n",
      "141956  I was really impressed with the pink bag.  I g...     []  B07641DGK2   \n",
      "141957  Realmente es fascinante como hacen de algo muc...     []  B086KKT3RX   \n",
      "141958                                  Hit  accidentally     []  B00IX1I3G6   \n",
      "141959                                              Great     []  B00IX1I3G6   \n",
      "141960                                           Muy bien     []  B00IX1I3G6   \n",
      "\n",
      "       parent_asin                       user_id      timestamp  helpful_vote  \\\n",
      "0       B00IX1I3G6  AHZ6XMOLEWA67S3TX7IWEXXGWSOA  1549866158332             0   \n",
      "1       B005S28ZES  AFZUK3MTBIBEDQOPAK3OATUOUKLA  1535939929239            27   \n",
      "3       B00ADR2LV6  AECABX3OO3GK7FCPZLFM3LT2E6UA  1608661063303             0   \n",
      "4       B00IX1I3G6  AFSCQMP2EPYLGJN7OBTMEXCBE2OQ  1602104097716             0   \n",
      "5       B00ADR2LV6  AF4XAUOI5XPGWHCPOTORKBIJSRDA  1551247682370             0   \n",
      "...            ...                           ...            ...           ...   \n",
      "141956  B075MZKGRL  AHJTM4W63VAUPIIWDFYYVF4LXF6Q  1526779846316             0   \n",
      "141957  B086KKT3RX  AGX4ST62YMZQD6F2SI5REE2L3WTA  1685036728250             2   \n",
      "141958  B00IX1I3G6  AEGTKHWDDGPJ254AZCFPSOK6USHQ  1597328047866             0   \n",
      "141959  B00IX1I3G6  AFBIM3MJIKV6OHJJDDZS3BZJYW4A  1434301786000             0   \n",
      "141960  B00IX1I3G6  AHNAE7DVWBGSJINNF4F3JBDJ2GSQ  1490208994000             0   \n",
      "\n",
      "        verified_purchase  label  \n",
      "0                    True      1  \n",
      "1                    True      1  \n",
      "3                    True      1  \n",
      "4                    True      1  \n",
      "5                    True      1  \n",
      "...                   ...    ...  \n",
      "141956               True      1  \n",
      "141957               True      0  \n",
      "141958               True      0  \n",
      "141959               True      1  \n",
      "141960               True      1  \n",
      "\n",
      "[140481 rows x 12 columns]\n",
      "Tiempo transcurrido: 3709.48 segundos\n"
     ]
    }
   ],
   "source": [
    "start_time = time.time()\n",
    "\n",
    "df_pandas['label'] = df_pandas.progress_apply(\n",
    "    lambda row: classify_text(row, model), axis=1\n",
    ")\n",
    "\n",
    "end_time = time.time()\n",
    "elapsed_time = end_time - start_time\n",
    "\n",
    "df_pandas_classify = df_pandas.copy()\n",
    "\n",
    "print(df_pandas_classify)\n",
    "print(f\"Tiempo transcurrido: {elapsed_time:.2f} segundos\")\n"
   ]
  },
  {
   "cell_type": "code",
   "execution_count": 65,
   "metadata": {},
   "outputs": [
    {
     "name": "stdout",
     "output_type": "stream",
     "text": [
      "[########################################] | 100% Completed | 62m 48s\n",
      "Tiempo transcurrido: 3772.64 segundos\n",
      "                             _id  rating  \\\n",
      "0       6748bafe19c0f99fe2ba20cc     5.0   \n",
      "1       6748bafe19c0f99fe2ba20ce     5.0   \n",
      "3       6748bafe19c0f99fe2ba20d1     5.0   \n",
      "4       6748bafe19c0f99fe2ba20d2     5.0   \n",
      "5       6748bafe19c0f99fe2ba20d3     5.0   \n",
      "...                          ...     ...   \n",
      "141956  6748bb1f19c0f99fe2bc7421     5.0   \n",
      "141957  6748bb1f19c0f99fe2bc7422     5.0   \n",
      "141958  6748bb1f19c0f99fe2bc7423     1.0   \n",
      "141959  6748bb1f19c0f99fe2bc7424     5.0   \n",
      "141960  6748bb1f19c0f99fe2bc7425     4.0   \n",
      "\n",
      "                                                    title  \\\n",
      "0                                              Great gift   \n",
      "1                                            Perfect gift   \n",
      "3                                                   Cute!   \n",
      "4                                               Easy gift   \n",
      "5                                              Great gift   \n",
      "...                                                   ...   \n",
      "141956  I gave it to my sister and she immediately com...   \n",
      "141957               Gran idea y majestuosa forma de pago   \n",
      "141958           Called right away to cancel, was told no   \n",
      "141959                                         Five Stars   \n",
      "141960                                         Four Stars   \n",
      "\n",
      "                                                     text images        asin  \\\n",
      "0                     Having Amazon money is always good.     []  B00IX1I3G6   \n",
      "1       When you have a person who is hard to shop for...     []  B01K8RIM5Y   \n",
      "3                            That snowman tin is adorable     []  B072L7GTF5   \n",
      "4                                     Great and easy gift     []  B00IX1I3G6   \n",
      "5          Super cute nice quality tin Your choose amount     []  B072P5VV4D   \n",
      "...                                                   ...    ...         ...   \n",
      "141956  I was really impressed with the pink bag.  I g...     []  B07641DGK2   \n",
      "141957  Realmente es fascinante como hacen de algo muc...     []  B086KKT3RX   \n",
      "141958                                  Hit  accidentally     []  B00IX1I3G6   \n",
      "141959                                              Great     []  B00IX1I3G6   \n",
      "141960                                           Muy bien     []  B00IX1I3G6   \n",
      "\n",
      "       parent_asin                       user_id      timestamp  helpful_vote  \\\n",
      "0       B00IX1I3G6  AHZ6XMOLEWA67S3TX7IWEXXGWSOA  1549866158332             0   \n",
      "1       B005S28ZES  AFZUK3MTBIBEDQOPAK3OATUOUKLA  1535939929239            27   \n",
      "3       B00ADR2LV6  AECABX3OO3GK7FCPZLFM3LT2E6UA  1608661063303             0   \n",
      "4       B00IX1I3G6  AFSCQMP2EPYLGJN7OBTMEXCBE2OQ  1602104097716             0   \n",
      "5       B00ADR2LV6  AF4XAUOI5XPGWHCPOTORKBIJSRDA  1551247682370             0   \n",
      "...            ...                           ...            ...           ...   \n",
      "141956  B075MZKGRL  AHJTM4W63VAUPIIWDFYYVF4LXF6Q  1526779846316             0   \n",
      "141957  B086KKT3RX  AGX4ST62YMZQD6F2SI5REE2L3WTA  1685036728250             2   \n",
      "141958  B00IX1I3G6  AEGTKHWDDGPJ254AZCFPSOK6USHQ  1597328047866             0   \n",
      "141959  B00IX1I3G6  AFBIM3MJIKV6OHJJDDZS3BZJYW4A  1434301786000             0   \n",
      "141960  B00IX1I3G6  AHNAE7DVWBGSJINNF4F3JBDJ2GSQ  1490208994000             0   \n",
      "\n",
      "        verified_purchase  label  \n",
      "0                    True      1  \n",
      "1                    True      1  \n",
      "3                    True      1  \n",
      "4                    True      1  \n",
      "5                    True      1  \n",
      "...                   ...    ...  \n",
      "141956               True      1  \n",
      "141957               True      0  \n",
      "141958               True      0  \n",
      "141959               True      1  \n",
      "141960               True      1  \n",
      "\n",
      "[140481 rows x 12 columns]\n"
     ]
    }
   ],
   "source": [
    "df_dask = dd.from_pandas(df_pandas, npartitions=4)\n",
    "\n",
    "start_time = time.time()\n",
    "\n",
    "with ProgressBar():\n",
    "    df_dask['label'] = df_dask.map_partitions(\n",
    "        lambda partition: partition.apply(\n",
    "            lambda row: classify_text(row, model), axis=1\n",
    "        ),\n",
    "        meta=('label', 'int64')\n",
    "    )\n",
    "\n",
    "    df_dask_classify = df_dask.compute()\n",
    "\n",
    "end_time = time.time()\n",
    "elapsed_time = end_time - start_time\n",
    "\n",
    "print(f\"Tiempo transcurrido: {elapsed_time:.2f} segundos\")\n",
    "print(df_dask_classify)"
   ]
  },
  {
   "cell_type": "markdown",
   "metadata": {},
   "source": [
    "Guardamos en JSON el Dataframe de pandas"
   ]
  },
  {
   "cell_type": "code",
   "execution_count": null,
   "metadata": {},
   "outputs": [],
   "source": [
    "# Convertir todos los valores a texto\n",
    "df_pandas_classify = df_pandas_classify.astype(str)"
   ]
  },
  {
   "cell_type": "code",
   "execution_count": 58,
   "metadata": {},
   "outputs": [],
   "source": [
    "df_pandas_classify.to_json(\n",
    "    \"data/processed/gift_cards_classify_pandas.json\",\n",
    "    orient=\"records\",\n",
    "    lines=True,\n",
    "    force_ascii=False\n",
    ")"
   ]
  },
  {
   "cell_type": "markdown",
   "metadata": {},
   "source": [
    "Guardamos en JSON el Dataframe de Dask"
   ]
  },
  {
   "cell_type": "code",
   "execution_count": 66,
   "metadata": {},
   "outputs": [],
   "source": [
    "df_dask_classify.to_json(\n",
    "    \"data/processed/gift_cards_classify_dask.json\",\n",
    "    orient=\"records\",\n",
    "    lines=True,\n",
    "    force_ascii=False\n",
    ")"
   ]
  },
  {
   "cell_type": "code",
   "execution_count": null,
   "metadata": {},
   "outputs": [
    {
     "name": "stdout",
     "output_type": "stream",
     "text": [
      "Collecting wandb\n",
      "  Downloading wandb-0.18.7-py3-none-macosx_11_0_arm64.whl.metadata (9.7 kB)\n",
      "Collecting tensorflow\n",
      "  Downloading tensorflow-2.18.0-cp311-cp311-macosx_12_0_arm64.whl.metadata (4.0 kB)\n",
      "Collecting matplotlib\n",
      "  Downloading matplotlib-3.9.3-cp311-cp311-macosx_11_0_arm64.whl.metadata (11 kB)\n",
      "Collecting click!=8.0.0,>=7.1 (from wandb)\n",
      "  Using cached click-8.1.7-py3-none-any.whl.metadata (3.0 kB)\n",
      "Collecting docker-pycreds>=0.4.0 (from wandb)\n",
      "  Downloading docker_pycreds-0.4.0-py2.py3-none-any.whl.metadata (1.8 kB)\n",
      "Collecting gitpython!=3.1.29,>=1.0.0 (from wandb)\n",
      "  Downloading GitPython-3.1.43-py3-none-any.whl.metadata (13 kB)\n",
      "Requirement already satisfied: platformdirs in /opt/anaconda3/envs/proyecto_BD/lib/python3.11/site-packages (from wandb) (4.3.6)\n",
      "Collecting protobuf!=4.21.0,!=5.28.0,<6,>=3.19.0 (from wandb)\n",
      "  Downloading protobuf-5.29.0-cp38-abi3-macosx_10_9_universal2.whl.metadata (592 bytes)\n",
      "Requirement already satisfied: psutil>=5.0.0 in /opt/anaconda3/envs/proyecto_BD/lib/python3.11/site-packages (from wandb) (6.1.0)\n",
      "Requirement already satisfied: pyyaml in /opt/anaconda3/envs/proyecto_BD/lib/python3.11/site-packages (from wandb) (6.0.2)\n",
      "Requirement already satisfied: requests<3,>=2.0.0 in /opt/anaconda3/envs/proyecto_BD/lib/python3.11/site-packages (from wandb) (2.32.3)\n",
      "Collecting sentry-sdk>=2.0.0 (from wandb)\n",
      "  Downloading sentry_sdk-2.19.0-py2.py3-none-any.whl.metadata (9.9 kB)\n",
      "Collecting setproctitle (from wandb)\n",
      "  Downloading setproctitle-1.3.4-cp311-cp311-macosx_11_0_arm64.whl.metadata (10 kB)\n",
      "Requirement already satisfied: setuptools in /opt/anaconda3/envs/proyecto_BD/lib/python3.11/site-packages (from wandb) (75.6.0)\n",
      "Requirement already satisfied: typing-extensions<5,>=4.4 in /opt/anaconda3/envs/proyecto_BD/lib/python3.11/site-packages (from wandb) (4.12.2)\n",
      "Collecting absl-py>=1.0.0 (from tensorflow)\n",
      "  Downloading absl_py-2.1.0-py3-none-any.whl.metadata (2.3 kB)\n",
      "Collecting astunparse>=1.6.0 (from tensorflow)\n",
      "  Downloading astunparse-1.6.3-py2.py3-none-any.whl.metadata (4.4 kB)\n",
      "Collecting flatbuffers>=24.3.25 (from tensorflow)\n",
      "  Downloading flatbuffers-24.3.25-py2.py3-none-any.whl.metadata (850 bytes)\n",
      "Collecting gast!=0.5.0,!=0.5.1,!=0.5.2,>=0.2.1 (from tensorflow)\n",
      "  Downloading gast-0.6.0-py3-none-any.whl.metadata (1.3 kB)\n",
      "Collecting google-pasta>=0.1.1 (from tensorflow)\n",
      "  Downloading google_pasta-0.2.0-py3-none-any.whl.metadata (814 bytes)\n",
      "Collecting libclang>=13.0.0 (from tensorflow)\n",
      "  Downloading libclang-18.1.1-1-py2.py3-none-macosx_11_0_arm64.whl.metadata (5.2 kB)\n",
      "Collecting opt-einsum>=2.3.2 (from tensorflow)\n",
      "  Downloading opt_einsum-3.4.0-py3-none-any.whl.metadata (6.3 kB)\n",
      "Requirement already satisfied: packaging in /opt/anaconda3/envs/proyecto_BD/lib/python3.11/site-packages (from tensorflow) (24.2)\n",
      "Requirement already satisfied: six>=1.12.0 in /opt/anaconda3/envs/proyecto_BD/lib/python3.11/site-packages (from tensorflow) (1.16.0)\n",
      "Collecting termcolor>=1.1.0 (from tensorflow)\n",
      "  Using cached termcolor-2.5.0-py3-none-any.whl.metadata (6.1 kB)\n",
      "Collecting wrapt>=1.11.0 (from tensorflow)\n",
      "  Downloading wrapt-1.17.0-cp311-cp311-macosx_11_0_arm64.whl.metadata (6.4 kB)\n",
      "Collecting grpcio<2.0,>=1.24.3 (from tensorflow)\n",
      "  Downloading grpcio-1.68.0-cp311-cp311-macosx_10_9_universal2.whl.metadata (3.9 kB)\n",
      "Collecting tensorboard<2.19,>=2.18 (from tensorflow)\n",
      "  Downloading tensorboard-2.18.0-py3-none-any.whl.metadata (1.6 kB)\n",
      "Collecting keras>=3.5.0 (from tensorflow)\n",
      "  Downloading keras-3.7.0-py3-none-any.whl.metadata (5.8 kB)\n",
      "Collecting numpy<2.1.0,>=1.26.0 (from tensorflow)\n",
      "  Downloading numpy-2.0.2-cp311-cp311-macosx_14_0_arm64.whl.metadata (60 kB)\n",
      "Collecting h5py>=3.11.0 (from tensorflow)\n",
      "  Downloading h5py-3.12.1-cp311-cp311-macosx_11_0_arm64.whl.metadata (2.5 kB)\n",
      "Collecting ml-dtypes<0.5.0,>=0.4.0 (from tensorflow)\n",
      "  Downloading ml_dtypes-0.4.1-cp311-cp311-macosx_10_9_universal2.whl.metadata (20 kB)\n",
      "Collecting tensorflow-io-gcs-filesystem>=0.23.1 (from tensorflow)\n",
      "  Downloading tensorflow_io_gcs_filesystem-0.37.1-cp311-cp311-macosx_12_0_arm64.whl.metadata (14 kB)\n",
      "Collecting contourpy>=1.0.1 (from matplotlib)\n",
      "  Using cached contourpy-1.3.1-cp311-cp311-macosx_11_0_arm64.whl.metadata (5.4 kB)\n",
      "Collecting cycler>=0.10 (from matplotlib)\n",
      "  Downloading cycler-0.12.1-py3-none-any.whl.metadata (3.8 kB)\n",
      "Collecting fonttools>=4.22.0 (from matplotlib)\n",
      "  Downloading fonttools-4.55.0-cp311-cp311-macosx_10_9_universal2.whl.metadata (164 kB)\n",
      "Collecting kiwisolver>=1.3.1 (from matplotlib)\n",
      "  Downloading kiwisolver-1.4.7-cp311-cp311-macosx_11_0_arm64.whl.metadata (6.3 kB)\n",
      "Collecting pillow>=8 (from matplotlib)\n",
      "  Using cached pillow-11.0.0-cp311-cp311-macosx_11_0_arm64.whl.metadata (9.1 kB)\n",
      "Collecting pyparsing>=2.3.1 (from matplotlib)\n",
      "  Downloading pyparsing-3.2.0-py3-none-any.whl.metadata (5.0 kB)\n",
      "Requirement already satisfied: python-dateutil>=2.7 in /opt/anaconda3/envs/proyecto_BD/lib/python3.11/site-packages (from matplotlib) (2.9.0.post0)\n",
      "Requirement already satisfied: wheel<1.0,>=0.23.0 in /opt/anaconda3/envs/proyecto_BD/lib/python3.11/site-packages (from astunparse>=1.6.0->tensorflow) (0.45.1)\n",
      "Collecting gitdb<5,>=4.0.1 (from gitpython!=3.1.29,>=1.0.0->wandb)\n",
      "  Downloading gitdb-4.0.11-py3-none-any.whl.metadata (1.2 kB)\n",
      "Collecting rich (from keras>=3.5.0->tensorflow)\n",
      "  Downloading rich-13.9.4-py3-none-any.whl.metadata (18 kB)\n",
      "Collecting namex (from keras>=3.5.0->tensorflow)\n",
      "  Downloading namex-0.0.8-py3-none-any.whl.metadata (246 bytes)\n",
      "Collecting optree (from keras>=3.5.0->tensorflow)\n",
      "  Downloading optree-0.13.1-cp311-cp311-macosx_11_0_arm64.whl.metadata (47 kB)\n",
      "Requirement already satisfied: charset-normalizer<4,>=2 in /opt/anaconda3/envs/proyecto_BD/lib/python3.11/site-packages (from requests<3,>=2.0.0->wandb) (3.4.0)\n",
      "Requirement already satisfied: idna<4,>=2.5 in /opt/anaconda3/envs/proyecto_BD/lib/python3.11/site-packages (from requests<3,>=2.0.0->wandb) (3.10)\n",
      "Requirement already satisfied: urllib3<3,>=1.21.1 in /opt/anaconda3/envs/proyecto_BD/lib/python3.11/site-packages (from requests<3,>=2.0.0->wandb) (2.2.3)\n",
      "Requirement already satisfied: certifi>=2017.4.17 in /opt/anaconda3/envs/proyecto_BD/lib/python3.11/site-packages (from requests<3,>=2.0.0->wandb) (2024.8.30)\n",
      "Collecting markdown>=2.6.8 (from tensorboard<2.19,>=2.18->tensorflow)\n",
      "  Downloading Markdown-3.7-py3-none-any.whl.metadata (7.0 kB)\n",
      "Collecting tensorboard-data-server<0.8.0,>=0.7.0 (from tensorboard<2.19,>=2.18->tensorflow)\n",
      "  Downloading tensorboard_data_server-0.7.2-py3-none-any.whl.metadata (1.1 kB)\n",
      "Collecting werkzeug>=1.0.1 (from tensorboard<2.19,>=2.18->tensorflow)\n",
      "  Using cached werkzeug-3.1.3-py3-none-any.whl.metadata (3.7 kB)\n",
      "Collecting smmap<6,>=3.0.1 (from gitdb<5,>=4.0.1->gitpython!=3.1.29,>=1.0.0->wandb)\n",
      "  Downloading smmap-5.0.1-py3-none-any.whl.metadata (4.3 kB)\n",
      "Requirement already satisfied: MarkupSafe>=2.1.1 in /opt/anaconda3/envs/proyecto_BD/lib/python3.11/site-packages (from werkzeug>=1.0.1->tensorboard<2.19,>=2.18->tensorflow) (3.0.2)\n",
      "Collecting markdown-it-py>=2.2.0 (from rich->keras>=3.5.0->tensorflow)\n",
      "  Downloading markdown_it_py-3.0.0-py3-none-any.whl.metadata (6.9 kB)\n",
      "Requirement already satisfied: pygments<3.0.0,>=2.13.0 in /opt/anaconda3/envs/proyecto_BD/lib/python3.11/site-packages (from rich->keras>=3.5.0->tensorflow) (2.18.0)\n",
      "Collecting mdurl~=0.1 (from markdown-it-py>=2.2.0->rich->keras>=3.5.0->tensorflow)\n",
      "  Downloading mdurl-0.1.2-py3-none-any.whl.metadata (1.6 kB)\n",
      "Downloading wandb-0.18.7-py3-none-macosx_11_0_arm64.whl (15.2 MB)\n",
      "\u001b[2K   \u001b[90m━━━━━━━━━━━━━━━━━━━━━━━━━━━━━━━━━━━━━━━━\u001b[0m \u001b[32m15.2/15.2 MB\u001b[0m \u001b[31m12.0 MB/s\u001b[0m eta \u001b[36m0:00:00\u001b[0ma \u001b[36m0:00:01\u001b[0m\n",
      "\u001b[?25hDownloading tensorflow-2.18.0-cp311-cp311-macosx_12_0_arm64.whl (239.5 MB)\n",
      "\u001b[2K   \u001b[90m━━━━━━━━━━━━━━━━━━━━━━━━━━━━━━━━━━━━━━━━\u001b[0m \u001b[32m239.5/239.5 MB\u001b[0m \u001b[31m38.9 MB/s\u001b[0m eta \u001b[36m0:00:00\u001b[0m00:01\u001b[0m00:01\u001b[0m\n",
      "\u001b[?25hDownloading matplotlib-3.9.3-cp311-cp311-macosx_11_0_arm64.whl (7.8 MB)\n",
      "\u001b[2K   \u001b[90m━━━━━━━━━━━━━━━━━━━━━━━━━━━━━━━━━━━━━━━━\u001b[0m \u001b[32m7.8/7.8 MB\u001b[0m \u001b[31m55.7 MB/s\u001b[0m eta \u001b[36m0:00:00\u001b[0m\n",
      "\u001b[?25hDownloading absl_py-2.1.0-py3-none-any.whl (133 kB)\n",
      "Downloading astunparse-1.6.3-py2.py3-none-any.whl (12 kB)\n",
      "Using cached click-8.1.7-py3-none-any.whl (97 kB)\n",
      "Downloading contourpy-1.3.1-cp311-cp311-macosx_11_0_arm64.whl (254 kB)\n",
      "Downloading cycler-0.12.1-py3-none-any.whl (8.3 kB)\n",
      "Downloading docker_pycreds-0.4.0-py2.py3-none-any.whl (9.0 kB)\n",
      "Downloading flatbuffers-24.3.25-py2.py3-none-any.whl (26 kB)\n",
      "Downloading fonttools-4.55.0-cp311-cp311-macosx_10_9_universal2.whl (2.8 MB)\n",
      "\u001b[2K   \u001b[90m━━━━━━━━━━━━━━━━━━━━━━━━━━━━━━━━━━━━━━━━\u001b[0m \u001b[32m2.8/2.8 MB\u001b[0m \u001b[31m48.5 MB/s\u001b[0m eta \u001b[36m0:00:00\u001b[0m\n",
      "\u001b[?25hDownloading gast-0.6.0-py3-none-any.whl (21 kB)\n",
      "Downloading GitPython-3.1.43-py3-none-any.whl (207 kB)\n",
      "Downloading google_pasta-0.2.0-py3-none-any.whl (57 kB)\n",
      "Downloading grpcio-1.68.0-cp311-cp311-macosx_10_9_universal2.whl (11.2 MB)\n",
      "\u001b[2K   \u001b[90m━━━━━━━━━━━━━━━━━━━━━━━━━━━━━━━━━━━━━━━━\u001b[0m \u001b[32m11.2/11.2 MB\u001b[0m \u001b[31m56.3 MB/s\u001b[0m eta \u001b[36m0:00:00\u001b[0m\n",
      "\u001b[?25hDownloading h5py-3.12.1-cp311-cp311-macosx_11_0_arm64.whl (2.9 MB)\n",
      "\u001b[2K   \u001b[90m━━━━━━━━━━━━━━━━━━━━━━━━━━━━━━━━━━━━━━━━\u001b[0m \u001b[32m2.9/2.9 MB\u001b[0m \u001b[31m16.7 MB/s\u001b[0m eta \u001b[36m0:00:00\u001b[0m\n",
      "\u001b[?25hDownloading keras-3.7.0-py3-none-any.whl (1.2 MB)\n",
      "\u001b[2K   \u001b[90m━━━━━━━━━━━━━━━━━━━━━━━━━━━━━━━━━━━━━━━━\u001b[0m \u001b[32m1.2/1.2 MB\u001b[0m \u001b[31m39.1 MB/s\u001b[0m eta \u001b[36m0:00:00\u001b[0m\n",
      "\u001b[?25hDownloading kiwisolver-1.4.7-cp311-cp311-macosx_11_0_arm64.whl (64 kB)\n",
      "Downloading libclang-18.1.1-1-py2.py3-none-macosx_11_0_arm64.whl (25.8 MB)\n",
      "\u001b[2K   \u001b[90m━━━━━━━━━━━━━━━━━━━━━━━━━━━━━━━━━━━━━━━━\u001b[0m \u001b[32m25.8/25.8 MB\u001b[0m \u001b[31m49.2 MB/s\u001b[0m eta \u001b[36m0:00:00\u001b[0ma \u001b[36m0:00:01\u001b[0m\n",
      "\u001b[?25hDownloading ml_dtypes-0.4.1-cp311-cp311-macosx_10_9_universal2.whl (397 kB)\n",
      "Downloading numpy-2.0.2-cp311-cp311-macosx_14_0_arm64.whl (5.3 MB)\n",
      "\u001b[2K   \u001b[90m━━━━━━━━━━━━━━━━━━━━━━━━━━━━━━━━━━━━━━━━\u001b[0m \u001b[32m5.3/5.3 MB\u001b[0m \u001b[31m52.4 MB/s\u001b[0m eta \u001b[36m0:00:00\u001b[0m\n",
      "\u001b[?25hDownloading opt_einsum-3.4.0-py3-none-any.whl (71 kB)\n",
      "Downloading pillow-11.0.0-cp311-cp311-macosx_11_0_arm64.whl (3.0 MB)\n",
      "\u001b[2K   \u001b[90m━━━━━━━━━━━━━━━━━━━━━━━━━━━━━━━━━━━━━━━━\u001b[0m \u001b[32m3.0/3.0 MB\u001b[0m \u001b[31m46.2 MB/s\u001b[0m eta \u001b[36m0:00:00\u001b[0m\n",
      "\u001b[?25hDownloading protobuf-5.29.0-cp38-abi3-macosx_10_9_universal2.whl (417 kB)\n",
      "Downloading pyparsing-3.2.0-py3-none-any.whl (106 kB)\n",
      "Downloading sentry_sdk-2.19.0-py2.py3-none-any.whl (322 kB)\n",
      "Downloading tensorboard-2.18.0-py3-none-any.whl (5.5 MB)\n",
      "\u001b[2K   \u001b[90m━━━━━━━━━━━━━━━━━━━━━━━━━━━━━━━━━━━━━━━━\u001b[0m \u001b[32m5.5/5.5 MB\u001b[0m \u001b[31m53.2 MB/s\u001b[0m eta \u001b[36m0:00:00\u001b[0m\n",
      "\u001b[?25hDownloading tensorflow_io_gcs_filesystem-0.37.1-cp311-cp311-macosx_12_0_arm64.whl (3.5 MB)\n",
      "\u001b[2K   \u001b[90m━━━━━━━━━━━━━━━━━━━━━━━━━━━━━━━━━━━━━━━━\u001b[0m \u001b[32m3.5/3.5 MB\u001b[0m \u001b[31m14.7 MB/s\u001b[0m eta \u001b[36m0:00:00\u001b[0ma \u001b[36m0:00:01\u001b[0m\n",
      "\u001b[?25hUsing cached termcolor-2.5.0-py3-none-any.whl (7.8 kB)\n",
      "Downloading wrapt-1.17.0-cp311-cp311-macosx_11_0_arm64.whl (38 kB)\n",
      "Downloading setproctitle-1.3.4-cp311-cp311-macosx_11_0_arm64.whl (11 kB)\n",
      "Downloading gitdb-4.0.11-py3-none-any.whl (62 kB)\n",
      "Downloading Markdown-3.7-py3-none-any.whl (106 kB)\n",
      "Downloading tensorboard_data_server-0.7.2-py3-none-any.whl (2.4 kB)\n",
      "Using cached werkzeug-3.1.3-py3-none-any.whl (224 kB)\n",
      "Downloading namex-0.0.8-py3-none-any.whl (5.8 kB)\n",
      "Downloading optree-0.13.1-cp311-cp311-macosx_11_0_arm64.whl (318 kB)\n",
      "Downloading rich-13.9.4-py3-none-any.whl (242 kB)\n",
      "Downloading markdown_it_py-3.0.0-py3-none-any.whl (87 kB)\n",
      "Downloading smmap-5.0.1-py3-none-any.whl (24 kB)\n",
      "Downloading mdurl-0.1.2-py3-none-any.whl (10.0 kB)\n",
      "Installing collected packages: namex, libclang, flatbuffers, wrapt, werkzeug, termcolor, tensorflow-io-gcs-filesystem, tensorboard-data-server, smmap, setproctitle, sentry-sdk, pyparsing, protobuf, pillow, optree, opt-einsum, numpy, mdurl, markdown, kiwisolver, grpcio, google-pasta, gast, fonttools, docker-pycreds, cycler, click, astunparse, absl-py, tensorboard, ml-dtypes, markdown-it-py, h5py, gitdb, contourpy, rich, matplotlib, gitpython, wandb, keras, tensorflow\n",
      "  Attempting uninstall: numpy\n",
      "    Found existing installation: numpy 2.1.3\n",
      "    Uninstalling numpy-2.1.3:\n",
      "      Successfully uninstalled numpy-2.1.3\n",
      "Successfully installed absl-py-2.1.0 astunparse-1.6.3 click-8.1.7 contourpy-1.3.1 cycler-0.12.1 docker-pycreds-0.4.0 flatbuffers-24.3.25 fonttools-4.55.0 gast-0.6.0 gitdb-4.0.11 gitpython-3.1.43 google-pasta-0.2.0 grpcio-1.68.0 h5py-3.12.1 keras-3.7.0 kiwisolver-1.4.7 libclang-18.1.1 markdown-3.7 markdown-it-py-3.0.0 matplotlib-3.9.3 mdurl-0.1.2 ml-dtypes-0.4.1 namex-0.0.8 numpy-2.0.2 opt-einsum-3.4.0 optree-0.13.1 pillow-11.0.0 protobuf-5.29.0 pyparsing-3.2.0 rich-13.9.4 sentry-sdk-2.19.0 setproctitle-1.3.4 smmap-5.0.1 tensorboard-2.18.0 tensorboard-data-server-0.7.2 tensorflow-2.18.0 tensorflow-io-gcs-filesystem-0.37.1 termcolor-2.5.0 wandb-0.18.7 werkzeug-3.1.3 wrapt-1.17.0\n",
      "Note: you may need to restart the kernel to use updated packages.\n"
     ]
    }
   ],
   "source": [
    "pip install wandb  matplotlib \n"
   ]
  },
  {
   "cell_type": "markdown",
   "metadata": {},
   "source": [
    "#### 6. Seteamos algoritmo de ML"
   ]
  },
  {
   "cell_type": "code",
   "execution_count": 2,
   "metadata": {},
   "outputs": [
    {
     "data": {
      "text/html": [
       "<div>\n",
       "<style scoped>\n",
       "    .dataframe tbody tr th:only-of-type {\n",
       "        vertical-align: middle;\n",
       "    }\n",
       "\n",
       "    .dataframe tbody tr th {\n",
       "        vertical-align: top;\n",
       "    }\n",
       "\n",
       "    .dataframe thead th {\n",
       "        text-align: right;\n",
       "    }\n",
       "</style>\n",
       "<table border=\"1\" class=\"dataframe\">\n",
       "  <thead>\n",
       "    <tr style=\"text-align: right;\">\n",
       "      <th></th>\n",
       "      <th>_id</th>\n",
       "      <th>rating</th>\n",
       "      <th>title</th>\n",
       "      <th>text</th>\n",
       "      <th>images</th>\n",
       "      <th>asin</th>\n",
       "      <th>parent_asin</th>\n",
       "      <th>user_id</th>\n",
       "      <th>timestamp</th>\n",
       "      <th>helpful_vote</th>\n",
       "      <th>verified_purchase</th>\n",
       "      <th>label</th>\n",
       "    </tr>\n",
       "  </thead>\n",
       "  <tbody>\n",
       "    <tr>\n",
       "      <th>0</th>\n",
       "      <td>6748bafe19c0f99fe2ba20cc</td>\n",
       "      <td>5</td>\n",
       "      <td>Great gift</td>\n",
       "      <td>Having Amazon money is always good.</td>\n",
       "      <td>[]</td>\n",
       "      <td>B00IX1I3G6</td>\n",
       "      <td>B00IX1I3G6</td>\n",
       "      <td>AHZ6XMOLEWA67S3TX7IWEXXGWSOA</td>\n",
       "      <td>2019-02-11 06:22:38.332</td>\n",
       "      <td>0</td>\n",
       "      <td>True</td>\n",
       "      <td>1</td>\n",
       "    </tr>\n",
       "    <tr>\n",
       "      <th>1</th>\n",
       "      <td>6748bafe19c0f99fe2ba20ce</td>\n",
       "      <td>5</td>\n",
       "      <td>Perfect gift</td>\n",
       "      <td>When you have a person who is hard to shop for...</td>\n",
       "      <td>[]</td>\n",
       "      <td>B01K8RIM5Y</td>\n",
       "      <td>B005S28ZES</td>\n",
       "      <td>AFZUK3MTBIBEDQOPAK3OATUOUKLA</td>\n",
       "      <td>2018-09-03 01:58:49.239</td>\n",
       "      <td>27</td>\n",
       "      <td>True</td>\n",
       "      <td>1</td>\n",
       "    </tr>\n",
       "    <tr>\n",
       "      <th>2</th>\n",
       "      <td>6748bafe19c0f99fe2ba20d1</td>\n",
       "      <td>5</td>\n",
       "      <td>Cute!</td>\n",
       "      <td>That snowman tin is adorable</td>\n",
       "      <td>[]</td>\n",
       "      <td>B072L7GTF5</td>\n",
       "      <td>B00ADR2LV6</td>\n",
       "      <td>AECABX3OO3GK7FCPZLFM3LT2E6UA</td>\n",
       "      <td>2020-12-22 18:17:43.303</td>\n",
       "      <td>0</td>\n",
       "      <td>True</td>\n",
       "      <td>1</td>\n",
       "    </tr>\n",
       "    <tr>\n",
       "      <th>3</th>\n",
       "      <td>6748bafe19c0f99fe2ba20d2</td>\n",
       "      <td>5</td>\n",
       "      <td>Easy gift</td>\n",
       "      <td>Great and easy gift</td>\n",
       "      <td>[]</td>\n",
       "      <td>B00IX1I3G6</td>\n",
       "      <td>B00IX1I3G6</td>\n",
       "      <td>AFSCQMP2EPYLGJN7OBTMEXCBE2OQ</td>\n",
       "      <td>2020-10-07 20:54:57.716</td>\n",
       "      <td>0</td>\n",
       "      <td>True</td>\n",
       "      <td>1</td>\n",
       "    </tr>\n",
       "    <tr>\n",
       "      <th>4</th>\n",
       "      <td>6748bafe19c0f99fe2ba20d3</td>\n",
       "      <td>5</td>\n",
       "      <td>Great gift</td>\n",
       "      <td>Super cute nice quality tin Your choose amount</td>\n",
       "      <td>[]</td>\n",
       "      <td>B072P5VV4D</td>\n",
       "      <td>B00ADR2LV6</td>\n",
       "      <td>AF4XAUOI5XPGWHCPOTORKBIJSRDA</td>\n",
       "      <td>2019-02-27 06:08:02.370</td>\n",
       "      <td>0</td>\n",
       "      <td>True</td>\n",
       "      <td>1</td>\n",
       "    </tr>\n",
       "  </tbody>\n",
       "</table>\n",
       "</div>"
      ],
      "text/plain": [
       "                        _id  rating         title  \\\n",
       "0  6748bafe19c0f99fe2ba20cc       5    Great gift   \n",
       "1  6748bafe19c0f99fe2ba20ce       5  Perfect gift   \n",
       "2  6748bafe19c0f99fe2ba20d1       5         Cute!   \n",
       "3  6748bafe19c0f99fe2ba20d2       5     Easy gift   \n",
       "4  6748bafe19c0f99fe2ba20d3       5    Great gift   \n",
       "\n",
       "                                                text images        asin  \\\n",
       "0                Having Amazon money is always good.     []  B00IX1I3G6   \n",
       "1  When you have a person who is hard to shop for...     []  B01K8RIM5Y   \n",
       "2                       That snowman tin is adorable     []  B072L7GTF5   \n",
       "3                                Great and easy gift     []  B00IX1I3G6   \n",
       "4     Super cute nice quality tin Your choose amount     []  B072P5VV4D   \n",
       "\n",
       "  parent_asin                       user_id               timestamp  \\\n",
       "0  B00IX1I3G6  AHZ6XMOLEWA67S3TX7IWEXXGWSOA 2019-02-11 06:22:38.332   \n",
       "1  B005S28ZES  AFZUK3MTBIBEDQOPAK3OATUOUKLA 2018-09-03 01:58:49.239   \n",
       "2  B00ADR2LV6  AECABX3OO3GK7FCPZLFM3LT2E6UA 2020-12-22 18:17:43.303   \n",
       "3  B00IX1I3G6  AFSCQMP2EPYLGJN7OBTMEXCBE2OQ 2020-10-07 20:54:57.716   \n",
       "4  B00ADR2LV6  AF4XAUOI5XPGWHCPOTORKBIJSRDA 2019-02-27 06:08:02.370   \n",
       "\n",
       "   helpful_vote  verified_purchase  label  \n",
       "0             0               True      1  \n",
       "1            27               True      1  \n",
       "2             0               True      1  \n",
       "3             0               True      1  \n",
       "4             0               True      1  "
      ]
     },
     "execution_count": 2,
     "metadata": {},
     "output_type": "execute_result"
    }
   ],
   "source": [
    "import pandas as pd\n",
    "from sklearn.model_selection import train_test_split\n",
    "from sklearn.feature_extraction.text import TfidfVectorizer\n",
    "from sklearn.ensemble import RandomForestClassifier\n",
    "from sklearn.metrics import classification_report\n",
    "from sklearn.preprocessing import StandardScaler\n",
    "import numpy as np\n",
    "import json\n",
    "\n",
    "file_path = \"data/processed/gift_cards_classify_dask.json\"\n",
    "df = pd.read_json(file_path, lines=True)\n",
    "\n",
    "df.head()\n"
   ]
  },
  {
   "cell_type": "code",
   "execution_count": null,
   "metadata": {},
   "outputs": [
    {
     "name": "stdout",
     "output_type": "stream",
     "text": [
      "Distribución de clases:\n",
      "label\n",
      "1    110405\n",
      "0     30076\n",
      "Name: count, dtype: int64\n",
      "\n",
      "Porcentaje de clases:\n",
      "label\n",
      "1    78.590699\n",
      "0    21.409301\n",
      "Name: count, dtype: float64\n"
     ]
    },
    {
     "data": {
      "image/png": "[encoded data removed]",
      "text/plain": [
       "<Figure size 640x480 with 1 Axes>"
      ]
     },
     "metadata": {},
     "output_type": "display_data"
    }
   ],
   "source": [
    "# Ver si las clases estan desbalancedas \n",
    "\n",
    "class_distribution = df['label'].value_counts()\n",
    "\n",
    "print(\"Distribución de clases:\")\n",
    "print(class_distribution)\n",
    "\n",
    "class_percentage = class_distribution / len(df) * 100\n",
    "print(\"\\nPorcentaje de clases:\")\n",
    "print(class_percentage)\n",
    "\n",
    "import matplotlib.pyplot as plt\n",
    "\n",
    "class_distribution.plot(kind='bar', color=['skyblue', 'orange'])\n",
    "plt.title('Distribución de Clases')\n",
    "plt.xlabel('Clase')\n",
    "plt.ylabel('Cantidad de Muestras')\n",
    "plt.xticks(rotation=0)\n",
    "plt.show()\n"
   ]
  },
  {
   "cell_type": "code",
   "execution_count": 38,
   "metadata": {},
   "outputs": [
    {
     "name": "stdout",
     "output_type": "stream",
     "text": [
      "Collecting imbalanced-learn\n",
      "  Downloading imbalanced_learn-0.12.4-py3-none-any.whl.metadata (8.3 kB)\n",
      "Requirement already satisfied: numpy>=1.17.3 in /opt/anaconda3/envs/proyecto_BD/lib/python3.11/site-packages (from imbalanced-learn) (2.0.2)\n",
      "Requirement already satisfied: scipy>=1.5.0 in /opt/anaconda3/envs/proyecto_BD/lib/python3.11/site-packages (from imbalanced-learn) (1.14.1)\n",
      "Requirement already satisfied: scikit-learn>=1.0.2 in /opt/anaconda3/envs/proyecto_BD/lib/python3.11/site-packages (from imbalanced-learn) (1.5.2)\n",
      "Requirement already satisfied: joblib>=1.1.1 in /opt/anaconda3/envs/proyecto_BD/lib/python3.11/site-packages (from imbalanced-learn) (1.4.2)\n",
      "Requirement already satisfied: threadpoolctl>=2.0.0 in /opt/anaconda3/envs/proyecto_BD/lib/python3.11/site-packages (from imbalanced-learn) (3.5.0)\n",
      "Downloading imbalanced_learn-0.12.4-py3-none-any.whl (258 kB)\n",
      "Installing collected packages: imbalanced-learn\n",
      "Successfully installed imbalanced-learn-0.12.4\n",
      "Note: you may need to restart the kernel to use updated packages.\n"
     ]
    }
   ],
   "source": [
    "pip install imbalanced-learn\n"
   ]
  },
  {
   "cell_type": "code",
   "execution_count": null,
   "metadata": {},
   "outputs": [
    {
     "name": "stderr",
     "output_type": "stream",
     "text": [
      "/var/folders/90/fv3c1zn167730wyd8rs_h_vc0000gn/T/ipykernel_94483/2194717617.py:29: SettingWithCopyWarning: \n",
      "A value is trying to be set on a copy of a slice from a DataFrame.\n",
      "Try using .loc[row_indexer,col_indexer] = value instead\n",
      "\n",
      "See the caveats in the documentation: https://pandas.pydata.org/pandas-docs/stable/user_guide/indexing.html#returning-a-view-versus-a-copy\n",
      "  X_tabular[['rating', 'helpful_vote']] = scaler.fit_transform(X_tabular[['rating', 'helpful_vote']])\n",
      "\u001b[34m\u001b[1mwandb\u001b[0m: Using wandb-core as the SDK backend.  Please refer to https://wandb.me/wandb-core for more information.\n",
      "\u001b[34m\u001b[1mwandb\u001b[0m: Currently logged in as: \u001b[33mbladimir-alferez\u001b[0m (\u001b[33mbladimir-alferez-utec-u-de-ingenier-a-tecnolog-a\u001b[0m). Use \u001b[1m`wandb login --relogin`\u001b[0m to force relogin\n"
     ]
    },
    {
     "data": {
      "text/html": [
       "Tracking run with wandb version 0.18.7"
      ],
      "text/plain": [
       "<IPython.core.display.HTML object>"
      ]
     },
     "metadata": {},
     "output_type": "display_data"
    },
    {
     "data": {
      "text/html": [
       "Run data is saved locally in <code>/Users/bladimiralferez/Desktop/2024-2/Big Data/Proyecto/amazon-recommender-system/wandb/run-20241201_122943-xc6t1mmv</code>"
      ],
      "text/plain": [
       "<IPython.core.display.HTML object>"
      ]
     },
     "metadata": {},
     "output_type": "display_data"
    },
    {
     "data": {
      "text/html": [
       "Syncing run <strong><a href='https://wandb.ai/bladimir-alferez-utec-u-de-ingenier-a-tecnolog-a/random-forest/runs/xc6t1mmv' target=\"_blank\">expert-star-1</a></strong> to <a href='https://wandb.ai/bladimir-alferez-utec-u-de-ingenier-a-tecnolog-a/random-forest' target=\"_blank\">Weights & Biases</a> (<a href='https://wandb.me/developer-guide' target=\"_blank\">docs</a>)<br/>"
      ],
      "text/plain": [
       "<IPython.core.display.HTML object>"
      ]
     },
     "metadata": {},
     "output_type": "display_data"
    },
    {
     "data": {
      "text/html": [
       " View project at <a href='https://wandb.ai/bladimir-alferez-utec-u-de-ingenier-a-tecnolog-a/random-forest' target=\"_blank\">https://wandb.ai/bladimir-alferez-utec-u-de-ingenier-a-tecnolog-a/random-forest</a>"
      ],
      "text/plain": [
       "<IPython.core.display.HTML object>"
      ]
     },
     "metadata": {},
     "output_type": "display_data"
    },
    {
     "data": {
      "text/html": [
       " View run at <a href='https://wandb.ai/bladimir-alferez-utec-u-de-ingenier-a-tecnolog-a/random-forest/runs/xc6t1mmv' target=\"_blank\">https://wandb.ai/bladimir-alferez-utec-u-de-ingenier-a-tecnolog-a/random-forest/runs/xc6t1mmv</a>"
      ],
      "text/plain": [
       "<IPython.core.display.HTML object>"
      ]
     },
     "metadata": {},
     "output_type": "display_data"
    },
    {
     "data": {
      "application/vnd.jupyter.widget-view+json": {
       "model_id": "69fa9395be8a46e78017876686ba88f9",
       "version_major": 2,
       "version_minor": 0
      },
      "text/plain": [
       "VBox(children=(Label(value='0.161 MB of 1.055 MB uploaded\\r'), FloatProgress(value=0.15290267833178348, max=1.…"
      ]
     },
     "metadata": {},
     "output_type": "display_data"
    },
    {
     "data": {
      "text/html": [
       "\n",
       "    <style>\n",
       "        .wandb-row {\n",
       "            display: flex;\n",
       "            flex-direction: row;\n",
       "            flex-wrap: wrap;\n",
       "            justify-content: flex-start;\n",
       "            width: 100%;\n",
       "        }\n",
       "        .wandb-col {\n",
       "            display: flex;\n",
       "            flex-direction: column;\n",
       "            flex-basis: 100%;\n",
       "            flex: 1;\n",
       "            padding: 10px;\n",
       "        }\n",
       "    </style>\n",
       "<div class=\"wandb-row\"><div class=\"wandb-col\"><h3>Run history:</h3><br/><table class=\"wandb\"><tr><td>execution_time</td><td>▁</td></tr><tr><td>f1_score_class_0</td><td>▁</td></tr><tr><td>f1_score_class_1</td><td>▁</td></tr><tr><td>precision_class_0</td><td>▁</td></tr><tr><td>precision_class_1</td><td>▁</td></tr><tr><td>recall_class_0</td><td>▁</td></tr><tr><td>recall_class_1</td><td>▁</td></tr><tr><td>test_accuracy</td><td>▁</td></tr></table><br/></div><div class=\"wandb-col\"><h3>Run summary:</h3><br/><table class=\"wandb\"><tr><td>execution_time</td><td>15.14156</td></tr><tr><td>f1_score_class_0</td><td>0.7947</td></tr><tr><td>f1_score_class_1</td><td>0.82427</td></tr><tr><td>precision_class_0</td><td>0.86513</td></tr><tr><td>precision_class_1</td><td>0.77058</td></tr><tr><td>recall_class_0</td><td>0.73488</td></tr><tr><td>recall_class_1</td><td>0.88601</td></tr><tr><td>test_accuracy</td><td>0.81064</td></tr></table><br/></div></div>"
      ],
      "text/plain": [
       "<IPython.core.display.HTML object>"
      ]
     },
     "metadata": {},
     "output_type": "display_data"
    },
    {
     "data": {
      "text/html": [
       " View run <strong style=\"color:#cdcd00\">expert-star-1</strong> at: <a href='https://wandb.ai/bladimir-alferez-utec-u-de-ingenier-a-tecnolog-a/random-forest/runs/xc6t1mmv' target=\"_blank\">https://wandb.ai/bladimir-alferez-utec-u-de-ingenier-a-tecnolog-a/random-forest/runs/xc6t1mmv</a><br/> View project at: <a href='https://wandb.ai/bladimir-alferez-utec-u-de-ingenier-a-tecnolog-a/random-forest' target=\"_blank\">https://wandb.ai/bladimir-alferez-utec-u-de-ingenier-a-tecnolog-a/random-forest</a><br/>Synced 4 W&B file(s), 0 media file(s), 5 artifact file(s) and 0 other file(s)"
      ],
      "text/plain": [
       "<IPython.core.display.HTML object>"
      ]
     },
     "metadata": {},
     "output_type": "display_data"
    },
    {
     "data": {
      "text/html": [
       "Find logs at: <code>./wandb/run-20241201_122943-xc6t1mmv/logs</code>"
      ],
      "text/plain": [
       "<IPython.core.display.HTML object>"
      ]
     },
     "metadata": {},
     "output_type": "display_data"
    },
    {
     "data": {
      "text/html": [
       "Tracking run with wandb version 0.18.7"
      ],
      "text/plain": [
       "<IPython.core.display.HTML object>"
      ]
     },
     "metadata": {},
     "output_type": "display_data"
    },
    {
     "data": {
      "text/html": [
       "Run data is saved locally in <code>/Users/bladimiralferez/Desktop/2024-2/Big Data/Proyecto/amazon-recommender-system/wandb/run-20241201_123009-bt4xxdjs</code>"
      ],
      "text/plain": [
       "<IPython.core.display.HTML object>"
      ]
     },
     "metadata": {},
     "output_type": "display_data"
    },
    {
     "data": {
      "text/html": [
       "Syncing run <strong><a href='https://wandb.ai/bladimir-alferez-utec-u-de-ingenier-a-tecnolog-a/random-forest/runs/bt4xxdjs' target=\"_blank\">tough-yogurt-2</a></strong> to <a href='https://wandb.ai/bladimir-alferez-utec-u-de-ingenier-a-tecnolog-a/random-forest' target=\"_blank\">Weights & Biases</a> (<a href='https://wandb.me/developer-guide' target=\"_blank\">docs</a>)<br/>"
      ],
      "text/plain": [
       "<IPython.core.display.HTML object>"
      ]
     },
     "metadata": {},
     "output_type": "display_data"
    },
    {
     "data": {
      "text/html": [
       " View project at <a href='https://wandb.ai/bladimir-alferez-utec-u-de-ingenier-a-tecnolog-a/random-forest' target=\"_blank\">https://wandb.ai/bladimir-alferez-utec-u-de-ingenier-a-tecnolog-a/random-forest</a>"
      ],
      "text/plain": [
       "<IPython.core.display.HTML object>"
      ]
     },
     "metadata": {},
     "output_type": "display_data"
    },
    {
     "data": {
      "text/html": [
       " View run at <a href='https://wandb.ai/bladimir-alferez-utec-u-de-ingenier-a-tecnolog-a/random-forest/runs/bt4xxdjs' target=\"_blank\">https://wandb.ai/bladimir-alferez-utec-u-de-ingenier-a-tecnolog-a/random-forest/runs/bt4xxdjs</a>"
      ],
      "text/plain": [
       "<IPython.core.display.HTML object>"
      ]
     },
     "metadata": {},
     "output_type": "display_data"
    },
    {
     "data": {
      "application/vnd.jupyter.widget-view+json": {
       "model_id": "0e4808eb2b2a4d6dbe6cbfbd8f5429c7",
       "version_major": 2,
       "version_minor": 0
      },
      "text/plain": [
       "VBox(children=(Label(value='0.130 MB of 0.998 MB uploaded\\r'), FloatProgress(value=0.13037897988126776, max=1.…"
      ]
     },
     "metadata": {},
     "output_type": "display_data"
    },
    {
     "data": {
      "text/html": [
       "\n",
       "    <style>\n",
       "        .wandb-row {\n",
       "            display: flex;\n",
       "            flex-direction: row;\n",
       "            flex-wrap: wrap;\n",
       "            justify-content: flex-start;\n",
       "            width: 100%;\n",
       "        }\n",
       "        .wandb-col {\n",
       "            display: flex;\n",
       "            flex-direction: column;\n",
       "            flex-basis: 100%;\n",
       "            flex: 1;\n",
       "            padding: 10px;\n",
       "        }\n",
       "    </style>\n",
       "<div class=\"wandb-row\"><div class=\"wandb-col\"><h3>Run history:</h3><br/><table class=\"wandb\"><tr><td>execution_time</td><td>▁</td></tr><tr><td>f1_score_class_0</td><td>▁</td></tr><tr><td>f1_score_class_1</td><td>▁</td></tr><tr><td>precision_class_0</td><td>▁</td></tr><tr><td>precision_class_1</td><td>▁</td></tr><tr><td>recall_class_0</td><td>▁</td></tr><tr><td>recall_class_1</td><td>▁</td></tr><tr><td>test_accuracy</td><td>▁</td></tr></table><br/></div><div class=\"wandb-col\"><h3>Run summary:</h3><br/><table class=\"wandb\"><tr><td>execution_time</td><td>13.6543</td></tr><tr><td>f1_score_class_0</td><td>0.78975</td></tr><tr><td>f1_score_class_1</td><td>0.82325</td></tr><tr><td>precision_class_0</td><td>0.86976</td></tr><tr><td>precision_class_1</td><td>0.76415</td></tr><tr><td>recall_class_0</td><td>0.72323</td></tr><tr><td>recall_class_1</td><td>0.89225</td></tr><tr><td>test_accuracy</td><td>0.80795</td></tr></table><br/></div></div>"
      ],
      "text/plain": [
       "<IPython.core.display.HTML object>"
      ]
     },
     "metadata": {},
     "output_type": "display_data"
    },
    {
     "data": {
      "text/html": [
       " View run <strong style=\"color:#cdcd00\">tough-yogurt-2</strong> at: <a href='https://wandb.ai/bladimir-alferez-utec-u-de-ingenier-a-tecnolog-a/random-forest/runs/bt4xxdjs' target=\"_blank\">https://wandb.ai/bladimir-alferez-utec-u-de-ingenier-a-tecnolog-a/random-forest/runs/bt4xxdjs</a><br/> View project at: <a href='https://wandb.ai/bladimir-alferez-utec-u-de-ingenier-a-tecnolog-a/random-forest' target=\"_blank\">https://wandb.ai/bladimir-alferez-utec-u-de-ingenier-a-tecnolog-a/random-forest</a><br/>Synced 5 W&B file(s), 0 media file(s), 2 artifact file(s) and 0 other file(s)"
      ],
      "text/plain": [
       "<IPython.core.display.HTML object>"
      ]
     },
     "metadata": {},
     "output_type": "display_data"
    },
    {
     "data": {
      "text/html": [
       "Find logs at: <code>./wandb/run-20241201_123009-bt4xxdjs/logs</code>"
      ],
      "text/plain": [
       "<IPython.core.display.HTML object>"
      ]
     },
     "metadata": {},
     "output_type": "display_data"
    },
    {
     "data": {
      "text/html": [
       "Tracking run with wandb version 0.18.7"
      ],
      "text/plain": [
       "<IPython.core.display.HTML object>"
      ]
     },
     "metadata": {},
     "output_type": "display_data"
    },
    {
     "data": {
      "text/html": [
       "Run data is saved locally in <code>/Users/bladimiralferez/Desktop/2024-2/Big Data/Proyecto/amazon-recommender-system/wandb/run-20241201_123031-j4jitmnw</code>"
      ],
      "text/plain": [
       "<IPython.core.display.HTML object>"
      ]
     },
     "metadata": {},
     "output_type": "display_data"
    },
    {
     "data": {
      "text/html": [
       "Syncing run <strong><a href='https://wandb.ai/bladimir-alferez-utec-u-de-ingenier-a-tecnolog-a/random-forest/runs/j4jitmnw' target=\"_blank\">cerulean-spaceship-3</a></strong> to <a href='https://wandb.ai/bladimir-alferez-utec-u-de-ingenier-a-tecnolog-a/random-forest' target=\"_blank\">Weights & Biases</a> (<a href='https://wandb.me/developer-guide' target=\"_blank\">docs</a>)<br/>"
      ],
      "text/plain": [
       "<IPython.core.display.HTML object>"
      ]
     },
     "metadata": {},
     "output_type": "display_data"
    },
    {
     "data": {
      "text/html": [
       " View project at <a href='https://wandb.ai/bladimir-alferez-utec-u-de-ingenier-a-tecnolog-a/random-forest' target=\"_blank\">https://wandb.ai/bladimir-alferez-utec-u-de-ingenier-a-tecnolog-a/random-forest</a>"
      ],
      "text/plain": [
       "<IPython.core.display.HTML object>"
      ]
     },
     "metadata": {},
     "output_type": "display_data"
    },
    {
     "data": {
      "text/html": [
       " View run at <a href='https://wandb.ai/bladimir-alferez-utec-u-de-ingenier-a-tecnolog-a/random-forest/runs/j4jitmnw' target=\"_blank\">https://wandb.ai/bladimir-alferez-utec-u-de-ingenier-a-tecnolog-a/random-forest/runs/j4jitmnw</a>"
      ],
      "text/plain": [
       "<IPython.core.display.HTML object>"
      ]
     },
     "metadata": {},
     "output_type": "display_data"
    },
    {
     "data": {
      "application/vnd.jupyter.widget-view+json": {
       "model_id": "79118deaba0742018da804c408de36c9",
       "version_major": 2,
       "version_minor": 0
      },
      "text/plain": [
       "VBox(children=(Label(value='0.005 MB of 0.005 MB uploaded\\r'), FloatProgress(value=1.0, max=1.0)))"
      ]
     },
     "metadata": {},
     "output_type": "display_data"
    },
    {
     "data": {
      "text/html": [
       "\n",
       "    <style>\n",
       "        .wandb-row {\n",
       "            display: flex;\n",
       "            flex-direction: row;\n",
       "            flex-wrap: wrap;\n",
       "            justify-content: flex-start;\n",
       "            width: 100%;\n",
       "        }\n",
       "        .wandb-col {\n",
       "            display: flex;\n",
       "            flex-direction: column;\n",
       "            flex-basis: 100%;\n",
       "            flex: 1;\n",
       "            padding: 10px;\n",
       "        }\n",
       "    </style>\n",
       "<div class=\"wandb-row\"><div class=\"wandb-col\"><h3>Run history:</h3><br/><table class=\"wandb\"><tr><td>execution_time</td><td>▁</td></tr><tr><td>f1_score_class_0</td><td>▁</td></tr><tr><td>f1_score_class_1</td><td>▁</td></tr><tr><td>precision_class_0</td><td>▁</td></tr><tr><td>precision_class_1</td><td>▁</td></tr><tr><td>recall_class_0</td><td>▁</td></tr><tr><td>recall_class_1</td><td>▁</td></tr><tr><td>test_accuracy</td><td>▁</td></tr></table><br/></div><div class=\"wandb-col\"><h3>Run summary:</h3><br/><table class=\"wandb\"><tr><td>execution_time</td><td>14.04379</td></tr><tr><td>f1_score_class_0</td><td>0.79115</td></tr><tr><td>f1_score_class_1</td><td>0.82281</td></tr><tr><td>precision_class_0</td><td>0.86616</td></tr><tr><td>precision_class_1</td><td>0.7665</td></tr><tr><td>recall_class_0</td><td>0.7281</td></tr><tr><td>recall_class_1</td><td>0.88806</td></tr><tr><td>test_accuracy</td><td>0.80828</td></tr></table><br/></div></div>"
      ],
      "text/plain": [
       "<IPython.core.display.HTML object>"
      ]
     },
     "metadata": {},
     "output_type": "display_data"
    },
    {
     "data": {
      "text/html": [
       " View run <strong style=\"color:#cdcd00\">cerulean-spaceship-3</strong> at: <a href='https://wandb.ai/bladimir-alferez-utec-u-de-ingenier-a-tecnolog-a/random-forest/runs/j4jitmnw' target=\"_blank\">https://wandb.ai/bladimir-alferez-utec-u-de-ingenier-a-tecnolog-a/random-forest/runs/j4jitmnw</a><br/> View project at: <a href='https://wandb.ai/bladimir-alferez-utec-u-de-ingenier-a-tecnolog-a/random-forest' target=\"_blank\">https://wandb.ai/bladimir-alferez-utec-u-de-ingenier-a-tecnolog-a/random-forest</a><br/>Synced 5 W&B file(s), 0 media file(s), 2 artifact file(s) and 0 other file(s)"
      ],
      "text/plain": [
       "<IPython.core.display.HTML object>"
      ]
     },
     "metadata": {},
     "output_type": "display_data"
    },
    {
     "data": {
      "text/html": [
       "Find logs at: <code>./wandb/run-20241201_123031-j4jitmnw/logs</code>"
      ],
      "text/plain": [
       "<IPython.core.display.HTML object>"
      ]
     },
     "metadata": {},
     "output_type": "display_data"
    },
    {
     "data": {
      "text/html": [
       "Tracking run with wandb version 0.18.7"
      ],
      "text/plain": [
       "<IPython.core.display.HTML object>"
      ]
     },
     "metadata": {},
     "output_type": "display_data"
    },
    {
     "data": {
      "text/html": [
       "Run data is saved locally in <code>/Users/bladimiralferez/Desktop/2024-2/Big Data/Proyecto/amazon-recommender-system/wandb/run-20241201_123054-zzdia1k6</code>"
      ],
      "text/plain": [
       "<IPython.core.display.HTML object>"
      ]
     },
     "metadata": {},
     "output_type": "display_data"
    },
    {
     "data": {
      "text/html": [
       "Syncing run <strong><a href='https://wandb.ai/bladimir-alferez-utec-u-de-ingenier-a-tecnolog-a/random-forest/runs/zzdia1k6' target=\"_blank\">golden-wood-4</a></strong> to <a href='https://wandb.ai/bladimir-alferez-utec-u-de-ingenier-a-tecnolog-a/random-forest' target=\"_blank\">Weights & Biases</a> (<a href='https://wandb.me/developer-guide' target=\"_blank\">docs</a>)<br/>"
      ],
      "text/plain": [
       "<IPython.core.display.HTML object>"
      ]
     },
     "metadata": {},
     "output_type": "display_data"
    },
    {
     "data": {
      "text/html": [
       " View project at <a href='https://wandb.ai/bladimir-alferez-utec-u-de-ingenier-a-tecnolog-a/random-forest' target=\"_blank\">https://wandb.ai/bladimir-alferez-utec-u-de-ingenier-a-tecnolog-a/random-forest</a>"
      ],
      "text/plain": [
       "<IPython.core.display.HTML object>"
      ]
     },
     "metadata": {},
     "output_type": "display_data"
    },
    {
     "data": {
      "text/html": [
       " View run at <a href='https://wandb.ai/bladimir-alferez-utec-u-de-ingenier-a-tecnolog-a/random-forest/runs/zzdia1k6' target=\"_blank\">https://wandb.ai/bladimir-alferez-utec-u-de-ingenier-a-tecnolog-a/random-forest/runs/zzdia1k6</a>"
      ],
      "text/plain": [
       "<IPython.core.display.HTML object>"
      ]
     },
     "metadata": {},
     "output_type": "display_data"
    },
    {
     "data": {
      "application/vnd.jupyter.widget-view+json": {
       "model_id": "01ed3ecc150c445ab459d035392ac49e",
       "version_major": 2,
       "version_minor": 0
      },
      "text/plain": [
       "VBox(children=(Label(value='0.005 MB of 0.005 MB uploaded\\r'), FloatProgress(value=1.0, max=1.0)))"
      ]
     },
     "metadata": {},
     "output_type": "display_data"
    },
    {
     "data": {
      "text/html": [
       "\n",
       "    <style>\n",
       "        .wandb-row {\n",
       "            display: flex;\n",
       "            flex-direction: row;\n",
       "            flex-wrap: wrap;\n",
       "            justify-content: flex-start;\n",
       "            width: 100%;\n",
       "        }\n",
       "        .wandb-col {\n",
       "            display: flex;\n",
       "            flex-direction: column;\n",
       "            flex-basis: 100%;\n",
       "            flex: 1;\n",
       "            padding: 10px;\n",
       "        }\n",
       "    </style>\n",
       "<div class=\"wandb-row\"><div class=\"wandb-col\"><h3>Run history:</h3><br/><table class=\"wandb\"><tr><td>execution_time</td><td>▁</td></tr><tr><td>f1_score_class_0</td><td>▁</td></tr><tr><td>f1_score_class_1</td><td>▁</td></tr><tr><td>precision_class_0</td><td>▁</td></tr><tr><td>precision_class_1</td><td>▁</td></tr><tr><td>recall_class_0</td><td>▁</td></tr><tr><td>recall_class_1</td><td>▁</td></tr><tr><td>test_accuracy</td><td>▁</td></tr></table><br/></div><div class=\"wandb-col\"><h3>Run summary:</h3><br/><table class=\"wandb\"><tr><td>execution_time</td><td>27.91016</td></tr><tr><td>f1_score_class_0</td><td>0.81912</td></tr><tr><td>f1_score_class_1</td><td>0.84179</td></tr><tr><td>precision_class_0</td><td>0.87977</td></tr><tr><td>precision_class_1</td><td>0.79392</td></tr><tr><td>recall_class_0</td><td>0.7663</td></tr><tr><td>recall_class_1</td><td>0.8958</td></tr><tr><td>test_accuracy</td><td>0.83121</td></tr></table><br/></div></div>"
      ],
      "text/plain": [
       "<IPython.core.display.HTML object>"
      ]
     },
     "metadata": {},
     "output_type": "display_data"
    },
    {
     "data": {
      "text/html": [
       " View run <strong style=\"color:#cdcd00\">golden-wood-4</strong> at: <a href='https://wandb.ai/bladimir-alferez-utec-u-de-ingenier-a-tecnolog-a/random-forest/runs/zzdia1k6' target=\"_blank\">https://wandb.ai/bladimir-alferez-utec-u-de-ingenier-a-tecnolog-a/random-forest/runs/zzdia1k6</a><br/> View project at: <a href='https://wandb.ai/bladimir-alferez-utec-u-de-ingenier-a-tecnolog-a/random-forest' target=\"_blank\">https://wandb.ai/bladimir-alferez-utec-u-de-ingenier-a-tecnolog-a/random-forest</a><br/>Synced 5 W&B file(s), 0 media file(s), 2 artifact file(s) and 0 other file(s)"
      ],
      "text/plain": [
       "<IPython.core.display.HTML object>"
      ]
     },
     "metadata": {},
     "output_type": "display_data"
    },
    {
     "data": {
      "text/html": [
       "Find logs at: <code>./wandb/run-20241201_123054-zzdia1k6/logs</code>"
      ],
      "text/plain": [
       "<IPython.core.display.HTML object>"
      ]
     },
     "metadata": {},
     "output_type": "display_data"
    },
    {
     "data": {
      "text/html": [
       "Tracking run with wandb version 0.18.7"
      ],
      "text/plain": [
       "<IPython.core.display.HTML object>"
      ]
     },
     "metadata": {},
     "output_type": "display_data"
    },
    {
     "data": {
      "text/html": [
       "Run data is saved locally in <code>/Users/bladimiralferez/Desktop/2024-2/Big Data/Proyecto/amazon-recommender-system/wandb/run-20241201_123133-fe7379hk</code>"
      ],
      "text/plain": [
       "<IPython.core.display.HTML object>"
      ]
     },
     "metadata": {},
     "output_type": "display_data"
    },
    {
     "data": {
      "text/html": [
       "Syncing run <strong><a href='https://wandb.ai/bladimir-alferez-utec-u-de-ingenier-a-tecnolog-a/random-forest/runs/fe7379hk' target=\"_blank\">decent-grass-5</a></strong> to <a href='https://wandb.ai/bladimir-alferez-utec-u-de-ingenier-a-tecnolog-a/random-forest' target=\"_blank\">Weights & Biases</a> (<a href='https://wandb.me/developer-guide' target=\"_blank\">docs</a>)<br/>"
      ],
      "text/plain": [
       "<IPython.core.display.HTML object>"
      ]
     },
     "metadata": {},
     "output_type": "display_data"
    },
    {
     "data": {
      "text/html": [
       " View project at <a href='https://wandb.ai/bladimir-alferez-utec-u-de-ingenier-a-tecnolog-a/random-forest' target=\"_blank\">https://wandb.ai/bladimir-alferez-utec-u-de-ingenier-a-tecnolog-a/random-forest</a>"
      ],
      "text/plain": [
       "<IPython.core.display.HTML object>"
      ]
     },
     "metadata": {},
     "output_type": "display_data"
    },
    {
     "data": {
      "text/html": [
       " View run at <a href='https://wandb.ai/bladimir-alferez-utec-u-de-ingenier-a-tecnolog-a/random-forest/runs/fe7379hk' target=\"_blank\">https://wandb.ai/bladimir-alferez-utec-u-de-ingenier-a-tecnolog-a/random-forest/runs/fe7379hk</a>"
      ],
      "text/plain": [
       "<IPython.core.display.HTML object>"
      ]
     },
     "metadata": {},
     "output_type": "display_data"
    },
    {
     "data": {
      "application/vnd.jupyter.widget-view+json": {
       "model_id": "e45a0bd553e744a0840aad24300e8b63",
       "version_major": 2,
       "version_minor": 0
      },
      "text/plain": [
       "VBox(children=(Label(value='0.005 MB of 0.005 MB uploaded\\r'), FloatProgress(value=1.0, max=1.0)))"
      ]
     },
     "metadata": {},
     "output_type": "display_data"
    },
    {
     "data": {
      "text/html": [
       "\n",
       "    <style>\n",
       "        .wandb-row {\n",
       "            display: flex;\n",
       "            flex-direction: row;\n",
       "            flex-wrap: wrap;\n",
       "            justify-content: flex-start;\n",
       "            width: 100%;\n",
       "        }\n",
       "        .wandb-col {\n",
       "            display: flex;\n",
       "            flex-direction: column;\n",
       "            flex-basis: 100%;\n",
       "            flex: 1;\n",
       "            padding: 10px;\n",
       "        }\n",
       "    </style>\n",
       "<div class=\"wandb-row\"><div class=\"wandb-col\"><h3>Run history:</h3><br/><table class=\"wandb\"><tr><td>execution_time</td><td>▁</td></tr><tr><td>f1_score_class_0</td><td>▁</td></tr><tr><td>f1_score_class_1</td><td>▁</td></tr><tr><td>precision_class_0</td><td>▁</td></tr><tr><td>precision_class_1</td><td>▁</td></tr><tr><td>recall_class_0</td><td>▁</td></tr><tr><td>recall_class_1</td><td>▁</td></tr><tr><td>test_accuracy</td><td>▁</td></tr></table><br/></div><div class=\"wandb-col\"><h3>Run summary:</h3><br/><table class=\"wandb\"><tr><td>execution_time</td><td>27.6452</td></tr><tr><td>f1_score_class_0</td><td>0.82267</td></tr><tr><td>f1_score_class_1</td><td>0.8444</td></tr><tr><td>precision_class_0</td><td>0.88186</td></tr><tr><td>precision_class_1</td><td>0.79744</td></tr><tr><td>recall_class_0</td><td>0.77093</td></tr><tr><td>recall_class_1</td><td>0.89724</td></tr><tr><td>test_accuracy</td><td>0.83425</td></tr></table><br/></div></div>"
      ],
      "text/plain": [
       "<IPython.core.display.HTML object>"
      ]
     },
     "metadata": {},
     "output_type": "display_data"
    },
    {
     "data": {
      "text/html": [
       " View run <strong style=\"color:#cdcd00\">decent-grass-5</strong> at: <a href='https://wandb.ai/bladimir-alferez-utec-u-de-ingenier-a-tecnolog-a/random-forest/runs/fe7379hk' target=\"_blank\">https://wandb.ai/bladimir-alferez-utec-u-de-ingenier-a-tecnolog-a/random-forest/runs/fe7379hk</a><br/> View project at: <a href='https://wandb.ai/bladimir-alferez-utec-u-de-ingenier-a-tecnolog-a/random-forest' target=\"_blank\">https://wandb.ai/bladimir-alferez-utec-u-de-ingenier-a-tecnolog-a/random-forest</a><br/>Synced 5 W&B file(s), 0 media file(s), 2 artifact file(s) and 0 other file(s)"
      ],
      "text/plain": [
       "<IPython.core.display.HTML object>"
      ]
     },
     "metadata": {},
     "output_type": "display_data"
    },
    {
     "data": {
      "text/html": [
       "Find logs at: <code>./wandb/run-20241201_123133-fe7379hk/logs</code>"
      ],
      "text/plain": [
       "<IPython.core.display.HTML object>"
      ]
     },
     "metadata": {},
     "output_type": "display_data"
    },
    {
     "data": {
      "text/html": [
       "Tracking run with wandb version 0.18.7"
      ],
      "text/plain": [
       "<IPython.core.display.HTML object>"
      ]
     },
     "metadata": {},
     "output_type": "display_data"
    },
    {
     "data": {
      "text/html": [
       "Run data is saved locally in <code>/Users/bladimiralferez/Desktop/2024-2/Big Data/Proyecto/amazon-recommender-system/wandb/run-20241201_123210-75zjss85</code>"
      ],
      "text/plain": [
       "<IPython.core.display.HTML object>"
      ]
     },
     "metadata": {},
     "output_type": "display_data"
    },
    {
     "data": {
      "text/html": [
       "Syncing run <strong><a href='https://wandb.ai/bladimir-alferez-utec-u-de-ingenier-a-tecnolog-a/random-forest/runs/75zjss85' target=\"_blank\">revived-firefly-6</a></strong> to <a href='https://wandb.ai/bladimir-alferez-utec-u-de-ingenier-a-tecnolog-a/random-forest' target=\"_blank\">Weights & Biases</a> (<a href='https://wandb.me/developer-guide' target=\"_blank\">docs</a>)<br/>"
      ],
      "text/plain": [
       "<IPython.core.display.HTML object>"
      ]
     },
     "metadata": {},
     "output_type": "display_data"
    },
    {
     "data": {
      "text/html": [
       " View project at <a href='https://wandb.ai/bladimir-alferez-utec-u-de-ingenier-a-tecnolog-a/random-forest' target=\"_blank\">https://wandb.ai/bladimir-alferez-utec-u-de-ingenier-a-tecnolog-a/random-forest</a>"
      ],
      "text/plain": [
       "<IPython.core.display.HTML object>"
      ]
     },
     "metadata": {},
     "output_type": "display_data"
    },
    {
     "data": {
      "text/html": [
       " View run at <a href='https://wandb.ai/bladimir-alferez-utec-u-de-ingenier-a-tecnolog-a/random-forest/runs/75zjss85' target=\"_blank\">https://wandb.ai/bladimir-alferez-utec-u-de-ingenier-a-tecnolog-a/random-forest/runs/75zjss85</a>"
      ],
      "text/plain": [
       "<IPython.core.display.HTML object>"
      ]
     },
     "metadata": {},
     "output_type": "display_data"
    },
    {
     "data": {
      "application/vnd.jupyter.widget-view+json": {
       "model_id": "fea47b40c8884476a6d9ea4409782fad",
       "version_major": 2,
       "version_minor": 0
      },
      "text/plain": [
       "VBox(children=(Label(value='0.005 MB of 0.005 MB uploaded\\r'), FloatProgress(value=1.0, max=1.0)))"
      ]
     },
     "metadata": {},
     "output_type": "display_data"
    },
    {
     "data": {
      "text/html": [
       "\n",
       "    <style>\n",
       "        .wandb-row {\n",
       "            display: flex;\n",
       "            flex-direction: row;\n",
       "            flex-wrap: wrap;\n",
       "            justify-content: flex-start;\n",
       "            width: 100%;\n",
       "        }\n",
       "        .wandb-col {\n",
       "            display: flex;\n",
       "            flex-direction: column;\n",
       "            flex-basis: 100%;\n",
       "            flex: 1;\n",
       "            padding: 10px;\n",
       "        }\n",
       "    </style>\n",
       "<div class=\"wandb-row\"><div class=\"wandb-col\"><h3>Run history:</h3><br/><table class=\"wandb\"><tr><td>execution_time</td><td>▁</td></tr><tr><td>f1_score_class_0</td><td>▁</td></tr><tr><td>f1_score_class_1</td><td>▁</td></tr><tr><td>precision_class_0</td><td>▁</td></tr><tr><td>precision_class_1</td><td>▁</td></tr><tr><td>recall_class_0</td><td>▁</td></tr><tr><td>recall_class_1</td><td>▁</td></tr><tr><td>test_accuracy</td><td>▁</td></tr></table><br/></div><div class=\"wandb-col\"><h3>Run summary:</h3><br/><table class=\"wandb\"><tr><td>execution_time</td><td>25.99027</td></tr><tr><td>f1_score_class_0</td><td>0.81741</td></tr><tr><td>f1_score_class_1</td><td>0.84063</td></tr><tr><td>precision_class_0</td><td>0.87908</td></tr><tr><td>precision_class_1</td><td>0.79213</td></tr><tr><td>recall_class_0</td><td>0.76382</td></tr><tr><td>recall_class_1</td><td>0.89547</td></tr><tr><td>test_accuracy</td><td>0.82981</td></tr></table><br/></div></div>"
      ],
      "text/plain": [
       "<IPython.core.display.HTML object>"
      ]
     },
     "metadata": {},
     "output_type": "display_data"
    },
    {
     "data": {
      "text/html": [
       " View run <strong style=\"color:#cdcd00\">revived-firefly-6</strong> at: <a href='https://wandb.ai/bladimir-alferez-utec-u-de-ingenier-a-tecnolog-a/random-forest/runs/75zjss85' target=\"_blank\">https://wandb.ai/bladimir-alferez-utec-u-de-ingenier-a-tecnolog-a/random-forest/runs/75zjss85</a><br/> View project at: <a href='https://wandb.ai/bladimir-alferez-utec-u-de-ingenier-a-tecnolog-a/random-forest' target=\"_blank\">https://wandb.ai/bladimir-alferez-utec-u-de-ingenier-a-tecnolog-a/random-forest</a><br/>Synced 5 W&B file(s), 0 media file(s), 2 artifact file(s) and 0 other file(s)"
      ],
      "text/plain": [
       "<IPython.core.display.HTML object>"
      ]
     },
     "metadata": {},
     "output_type": "display_data"
    },
    {
     "data": {
      "text/html": [
       "Find logs at: <code>./wandb/run-20241201_123210-75zjss85/logs</code>"
      ],
      "text/plain": [
       "<IPython.core.display.HTML object>"
      ]
     },
     "metadata": {},
     "output_type": "display_data"
    },
    {
     "data": {
      "text/html": [
       "Tracking run with wandb version 0.18.7"
      ],
      "text/plain": [
       "<IPython.core.display.HTML object>"
      ]
     },
     "metadata": {},
     "output_type": "display_data"
    },
    {
     "data": {
      "text/html": [
       "Run data is saved locally in <code>/Users/bladimiralferez/Desktop/2024-2/Big Data/Proyecto/amazon-recommender-system/wandb/run-20241201_123246-avylfkm2</code>"
      ],
      "text/plain": [
       "<IPython.core.display.HTML object>"
      ]
     },
     "metadata": {},
     "output_type": "display_data"
    },
    {
     "data": {
      "text/html": [
       "Syncing run <strong><a href='https://wandb.ai/bladimir-alferez-utec-u-de-ingenier-a-tecnolog-a/random-forest/runs/avylfkm2' target=\"_blank\">fancy-lake-7</a></strong> to <a href='https://wandb.ai/bladimir-alferez-utec-u-de-ingenier-a-tecnolog-a/random-forest' target=\"_blank\">Weights & Biases</a> (<a href='https://wandb.me/developer-guide' target=\"_blank\">docs</a>)<br/>"
      ],
      "text/plain": [
       "<IPython.core.display.HTML object>"
      ]
     },
     "metadata": {},
     "output_type": "display_data"
    },
    {
     "data": {
      "text/html": [
       " View project at <a href='https://wandb.ai/bladimir-alferez-utec-u-de-ingenier-a-tecnolog-a/random-forest' target=\"_blank\">https://wandb.ai/bladimir-alferez-utec-u-de-ingenier-a-tecnolog-a/random-forest</a>"
      ],
      "text/plain": [
       "<IPython.core.display.HTML object>"
      ]
     },
     "metadata": {},
     "output_type": "display_data"
    },
    {
     "data": {
      "text/html": [
       " View run at <a href='https://wandb.ai/bladimir-alferez-utec-u-de-ingenier-a-tecnolog-a/random-forest/runs/avylfkm2' target=\"_blank\">https://wandb.ai/bladimir-alferez-utec-u-de-ingenier-a-tecnolog-a/random-forest/runs/avylfkm2</a>"
      ],
      "text/plain": [
       "<IPython.core.display.HTML object>"
      ]
     },
     "metadata": {},
     "output_type": "display_data"
    },
    {
     "data": {
      "application/vnd.jupyter.widget-view+json": {
       "model_id": "76fe615e34db4fbc8ab036cfe86cc293",
       "version_major": 2,
       "version_minor": 0
      },
      "text/plain": [
       "VBox(children=(Label(value='0.005 MB of 0.005 MB uploaded\\r'), FloatProgress(value=1.0, max=1.0)))"
      ]
     },
     "metadata": {},
     "output_type": "display_data"
    },
    {
     "data": {
      "text/html": [
       "\n",
       "    <style>\n",
       "        .wandb-row {\n",
       "            display: flex;\n",
       "            flex-direction: row;\n",
       "            flex-wrap: wrap;\n",
       "            justify-content: flex-start;\n",
       "            width: 100%;\n",
       "        }\n",
       "        .wandb-col {\n",
       "            display: flex;\n",
       "            flex-direction: column;\n",
       "            flex-basis: 100%;\n",
       "            flex: 1;\n",
       "            padding: 10px;\n",
       "        }\n",
       "    </style>\n",
       "<div class=\"wandb-row\"><div class=\"wandb-col\"><h3>Run history:</h3><br/><table class=\"wandb\"><tr><td>execution_time</td><td>▁</td></tr><tr><td>f1_score_class_0</td><td>▁</td></tr><tr><td>f1_score_class_1</td><td>▁</td></tr><tr><td>precision_class_0</td><td>▁</td></tr><tr><td>precision_class_1</td><td>▁</td></tr><tr><td>recall_class_0</td><td>▁</td></tr><tr><td>recall_class_1</td><td>▁</td></tr><tr><td>test_accuracy</td><td>▁</td></tr></table><br/></div><div class=\"wandb-col\"><h3>Run summary:</h3><br/><table class=\"wandb\"><tr><td>execution_time</td><td>152.82687</td></tr><tr><td>f1_score_class_0</td><td>0.92257</td></tr><tr><td>f1_score_class_1</td><td>0.91943</td></tr><tr><td>precision_class_0</td><td>0.90273</td></tr><tr><td>precision_class_1</td><td>0.94095</td></tr><tr><td>recall_class_0</td><td>0.94331</td></tr><tr><td>recall_class_1</td><td>0.89887</td></tr><tr><td>test_accuracy</td><td>0.92103</td></tr></table><br/></div></div>"
      ],
      "text/plain": [
       "<IPython.core.display.HTML object>"
      ]
     },
     "metadata": {},
     "output_type": "display_data"
    },
    {
     "data": {
      "text/html": [
       " View run <strong style=\"color:#cdcd00\">fancy-lake-7</strong> at: <a href='https://wandb.ai/bladimir-alferez-utec-u-de-ingenier-a-tecnolog-a/random-forest/runs/avylfkm2' target=\"_blank\">https://wandb.ai/bladimir-alferez-utec-u-de-ingenier-a-tecnolog-a/random-forest/runs/avylfkm2</a><br/> View project at: <a href='https://wandb.ai/bladimir-alferez-utec-u-de-ingenier-a-tecnolog-a/random-forest' target=\"_blank\">https://wandb.ai/bladimir-alferez-utec-u-de-ingenier-a-tecnolog-a/random-forest</a><br/>Synced 5 W&B file(s), 0 media file(s), 4 artifact file(s) and 0 other file(s)"
      ],
      "text/plain": [
       "<IPython.core.display.HTML object>"
      ]
     },
     "metadata": {},
     "output_type": "display_data"
    },
    {
     "data": {
      "text/html": [
       "Find logs at: <code>./wandb/run-20241201_123246-avylfkm2/logs</code>"
      ],
      "text/plain": [
       "<IPython.core.display.HTML object>"
      ]
     },
     "metadata": {},
     "output_type": "display_data"
    },
    {
     "data": {
      "text/html": [
       "Tracking run with wandb version 0.18.7"
      ],
      "text/plain": [
       "<IPython.core.display.HTML object>"
      ]
     },
     "metadata": {},
     "output_type": "display_data"
    },
    {
     "data": {
      "text/html": [
       "Run data is saved locally in <code>/Users/bladimiralferez/Desktop/2024-2/Big Data/Proyecto/amazon-recommender-system/wandb/run-20241201_123550-sd065lo0</code>"
      ],
      "text/plain": [
       "<IPython.core.display.HTML object>"
      ]
     },
     "metadata": {},
     "output_type": "display_data"
    },
    {
     "data": {
      "text/html": [
       "Syncing run <strong><a href='https://wandb.ai/bladimir-alferez-utec-u-de-ingenier-a-tecnolog-a/random-forest/runs/sd065lo0' target=\"_blank\">robust-rain-8</a></strong> to <a href='https://wandb.ai/bladimir-alferez-utec-u-de-ingenier-a-tecnolog-a/random-forest' target=\"_blank\">Weights & Biases</a> (<a href='https://wandb.me/developer-guide' target=\"_blank\">docs</a>)<br/>"
      ],
      "text/plain": [
       "<IPython.core.display.HTML object>"
      ]
     },
     "metadata": {},
     "output_type": "display_data"
    },
    {
     "data": {
      "text/html": [
       " View project at <a href='https://wandb.ai/bladimir-alferez-utec-u-de-ingenier-a-tecnolog-a/random-forest' target=\"_blank\">https://wandb.ai/bladimir-alferez-utec-u-de-ingenier-a-tecnolog-a/random-forest</a>"
      ],
      "text/plain": [
       "<IPython.core.display.HTML object>"
      ]
     },
     "metadata": {},
     "output_type": "display_data"
    },
    {
     "data": {
      "text/html": [
       " View run at <a href='https://wandb.ai/bladimir-alferez-utec-u-de-ingenier-a-tecnolog-a/random-forest/runs/sd065lo0' target=\"_blank\">https://wandb.ai/bladimir-alferez-utec-u-de-ingenier-a-tecnolog-a/random-forest/runs/sd065lo0</a>"
      ],
      "text/plain": [
       "<IPython.core.display.HTML object>"
      ]
     },
     "metadata": {},
     "output_type": "display_data"
    },
    {
     "data": {
      "application/vnd.jupyter.widget-view+json": {
       "model_id": "e755c2e73b1c4230a0a412637aa91339",
       "version_major": 2,
       "version_minor": 0
      },
      "text/plain": [
       "VBox(children=(Label(value='0.130 MB of 187.201 MB uploaded\\r'), FloatProgress(value=0.0006950337247066738, ma…"
      ]
     },
     "metadata": {},
     "output_type": "display_data"
    },
    {
     "data": {
      "text/html": [
       "\n",
       "    <style>\n",
       "        .wandb-row {\n",
       "            display: flex;\n",
       "            flex-direction: row;\n",
       "            flex-wrap: wrap;\n",
       "            justify-content: flex-start;\n",
       "            width: 100%;\n",
       "        }\n",
       "        .wandb-col {\n",
       "            display: flex;\n",
       "            flex-direction: column;\n",
       "            flex-basis: 100%;\n",
       "            flex: 1;\n",
       "            padding: 10px;\n",
       "        }\n",
       "    </style>\n",
       "<div class=\"wandb-row\"><div class=\"wandb-col\"><h3>Run history:</h3><br/><table class=\"wandb\"><tr><td>execution_time</td><td>▁</td></tr><tr><td>f1_score_class_0</td><td>▁</td></tr><tr><td>f1_score_class_1</td><td>▁</td></tr><tr><td>precision_class_0</td><td>▁</td></tr><tr><td>precision_class_1</td><td>▁</td></tr><tr><td>recall_class_0</td><td>▁</td></tr><tr><td>recall_class_1</td><td>▁</td></tr><tr><td>test_accuracy</td><td>▁</td></tr></table><br/></div><div class=\"wandb-col\"><h3>Run summary:</h3><br/><table class=\"wandb\"><tr><td>execution_time</td><td>140.69754</td></tr><tr><td>f1_score_class_0</td><td>0.92129</td></tr><tr><td>f1_score_class_1</td><td>0.91883</td></tr><tr><td>precision_class_0</td><td>0.90533</td></tr><tr><td>precision_class_1</td><td>0.93585</td></tr><tr><td>recall_class_0</td><td>0.93783</td></tr><tr><td>recall_class_1</td><td>0.90242</td></tr><tr><td>test_accuracy</td><td>0.92008</td></tr></table><br/></div></div>"
      ],
      "text/plain": [
       "<IPython.core.display.HTML object>"
      ]
     },
     "metadata": {},
     "output_type": "display_data"
    },
    {
     "data": {
      "text/html": [
       " View run <strong style=\"color:#cdcd00\">robust-rain-8</strong> at: <a href='https://wandb.ai/bladimir-alferez-utec-u-de-ingenier-a-tecnolog-a/random-forest/runs/sd065lo0' target=\"_blank\">https://wandb.ai/bladimir-alferez-utec-u-de-ingenier-a-tecnolog-a/random-forest/runs/sd065lo0</a><br/> View project at: <a href='https://wandb.ai/bladimir-alferez-utec-u-de-ingenier-a-tecnolog-a/random-forest' target=\"_blank\">https://wandb.ai/bladimir-alferez-utec-u-de-ingenier-a-tecnolog-a/random-forest</a><br/>Synced 5 W&B file(s), 0 media file(s), 2 artifact file(s) and 0 other file(s)"
      ],
      "text/plain": [
       "<IPython.core.display.HTML object>"
      ]
     },
     "metadata": {},
     "output_type": "display_data"
    },
    {
     "data": {
      "text/html": [
       "Find logs at: <code>./wandb/run-20241201_123550-sd065lo0/logs</code>"
      ],
      "text/plain": [
       "<IPython.core.display.HTML object>"
      ]
     },
     "metadata": {},
     "output_type": "display_data"
    },
    {
     "data": {
      "text/html": [
       "Tracking run with wandb version 0.18.7"
      ],
      "text/plain": [
       "<IPython.core.display.HTML object>"
      ]
     },
     "metadata": {},
     "output_type": "display_data"
    },
    {
     "data": {
      "text/html": [
       "Run data is saved locally in <code>/Users/bladimiralferez/Desktop/2024-2/Big Data/Proyecto/amazon-recommender-system/wandb/run-20241201_123837-57s9ar7b</code>"
      ],
      "text/plain": [
       "<IPython.core.display.HTML object>"
      ]
     },
     "metadata": {},
     "output_type": "display_data"
    },
    {
     "data": {
      "text/html": [
       "Syncing run <strong><a href='https://wandb.ai/bladimir-alferez-utec-u-de-ingenier-a-tecnolog-a/random-forest/runs/57s9ar7b' target=\"_blank\">astral-dream-9</a></strong> to <a href='https://wandb.ai/bladimir-alferez-utec-u-de-ingenier-a-tecnolog-a/random-forest' target=\"_blank\">Weights & Biases</a> (<a href='https://wandb.me/developer-guide' target=\"_blank\">docs</a>)<br/>"
      ],
      "text/plain": [
       "<IPython.core.display.HTML object>"
      ]
     },
     "metadata": {},
     "output_type": "display_data"
    },
    {
     "data": {
      "text/html": [
       " View project at <a href='https://wandb.ai/bladimir-alferez-utec-u-de-ingenier-a-tecnolog-a/random-forest' target=\"_blank\">https://wandb.ai/bladimir-alferez-utec-u-de-ingenier-a-tecnolog-a/random-forest</a>"
      ],
      "text/plain": [
       "<IPython.core.display.HTML object>"
      ]
     },
     "metadata": {},
     "output_type": "display_data"
    },
    {
     "data": {
      "text/html": [
       " View run at <a href='https://wandb.ai/bladimir-alferez-utec-u-de-ingenier-a-tecnolog-a/random-forest/runs/57s9ar7b' target=\"_blank\">https://wandb.ai/bladimir-alferez-utec-u-de-ingenier-a-tecnolog-a/random-forest/runs/57s9ar7b</a>"
      ],
      "text/plain": [
       "<IPython.core.display.HTML object>"
      ]
     },
     "metadata": {},
     "output_type": "display_data"
    },
    {
     "data": {
      "application/vnd.jupyter.widget-view+json": {
       "model_id": "142b956d15c3491491de7c88fb052d3d",
       "version_major": 2,
       "version_minor": 0
      },
      "text/plain": [
       "VBox(children=(Label(value='0.005 MB of 0.005 MB uploaded\\r'), FloatProgress(value=1.0, max=1.0)))"
      ]
     },
     "metadata": {},
     "output_type": "display_data"
    },
    {
     "data": {
      "text/html": [
       "\n",
       "    <style>\n",
       "        .wandb-row {\n",
       "            display: flex;\n",
       "            flex-direction: row;\n",
       "            flex-wrap: wrap;\n",
       "            justify-content: flex-start;\n",
       "            width: 100%;\n",
       "        }\n",
       "        .wandb-col {\n",
       "            display: flex;\n",
       "            flex-direction: column;\n",
       "            flex-basis: 100%;\n",
       "            flex: 1;\n",
       "            padding: 10px;\n",
       "        }\n",
       "    </style>\n",
       "<div class=\"wandb-row\"><div class=\"wandb-col\"><h3>Run history:</h3><br/><table class=\"wandb\"><tr><td>execution_time</td><td>▁</td></tr><tr><td>f1_score_class_0</td><td>▁</td></tr><tr><td>f1_score_class_1</td><td>▁</td></tr><tr><td>precision_class_0</td><td>▁</td></tr><tr><td>precision_class_1</td><td>▁</td></tr><tr><td>recall_class_0</td><td>▁</td></tr><tr><td>recall_class_1</td><td>▁</td></tr><tr><td>test_accuracy</td><td>▁</td></tr></table><br/></div><div class=\"wandb-col\"><h3>Run summary:</h3><br/><table class=\"wandb\"><tr><td>execution_time</td><td>131.34756</td></tr><tr><td>f1_score_class_0</td><td>0.91869</td></tr><tr><td>f1_score_class_1</td><td>0.91631</td></tr><tr><td>precision_class_0</td><td>0.9036</td></tr><tr><td>precision_class_1</td><td>0.93233</td></tr><tr><td>recall_class_0</td><td>0.93429</td></tr><tr><td>recall_class_1</td><td>0.90083</td></tr><tr><td>test_accuracy</td><td>0.91752</td></tr></table><br/></div></div>"
      ],
      "text/plain": [
       "<IPython.core.display.HTML object>"
      ]
     },
     "metadata": {},
     "output_type": "display_data"
    },
    {
     "data": {
      "text/html": [
       " View run <strong style=\"color:#cdcd00\">astral-dream-9</strong> at: <a href='https://wandb.ai/bladimir-alferez-utec-u-de-ingenier-a-tecnolog-a/random-forest/runs/57s9ar7b' target=\"_blank\">https://wandb.ai/bladimir-alferez-utec-u-de-ingenier-a-tecnolog-a/random-forest/runs/57s9ar7b</a><br/> View project at: <a href='https://wandb.ai/bladimir-alferez-utec-u-de-ingenier-a-tecnolog-a/random-forest' target=\"_blank\">https://wandb.ai/bladimir-alferez-utec-u-de-ingenier-a-tecnolog-a/random-forest</a><br/>Synced 5 W&B file(s), 0 media file(s), 2 artifact file(s) and 0 other file(s)"
      ],
      "text/plain": [
       "<IPython.core.display.HTML object>"
      ]
     },
     "metadata": {},
     "output_type": "display_data"
    },
    {
     "data": {
      "text/html": [
       "Find logs at: <code>./wandb/run-20241201_123837-57s9ar7b/logs</code>"
      ],
      "text/plain": [
       "<IPython.core.display.HTML object>"
      ]
     },
     "metadata": {},
     "output_type": "display_data"
    },
    {
     "data": {
      "text/html": [
       "Tracking run with wandb version 0.18.7"
      ],
      "text/plain": [
       "<IPython.core.display.HTML object>"
      ]
     },
     "metadata": {},
     "output_type": "display_data"
    },
    {
     "data": {
      "text/html": [
       "Run data is saved locally in <code>/Users/bladimiralferez/Desktop/2024-2/Big Data/Proyecto/amazon-recommender-system/wandb/run-20241201_124110-qrkpzdod</code>"
      ],
      "text/plain": [
       "<IPython.core.display.HTML object>"
      ]
     },
     "metadata": {},
     "output_type": "display_data"
    },
    {
     "data": {
      "text/html": [
       "Syncing run <strong><a href='https://wandb.ai/bladimir-alferez-utec-u-de-ingenier-a-tecnolog-a/random-forest/runs/qrkpzdod' target=\"_blank\">solar-durian-10</a></strong> to <a href='https://wandb.ai/bladimir-alferez-utec-u-de-ingenier-a-tecnolog-a/random-forest' target=\"_blank\">Weights & Biases</a> (<a href='https://wandb.me/developer-guide' target=\"_blank\">docs</a>)<br/>"
      ],
      "text/plain": [
       "<IPython.core.display.HTML object>"
      ]
     },
     "metadata": {},
     "output_type": "display_data"
    },
    {
     "data": {
      "text/html": [
       " View project at <a href='https://wandb.ai/bladimir-alferez-utec-u-de-ingenier-a-tecnolog-a/random-forest' target=\"_blank\">https://wandb.ai/bladimir-alferez-utec-u-de-ingenier-a-tecnolog-a/random-forest</a>"
      ],
      "text/plain": [
       "<IPython.core.display.HTML object>"
      ]
     },
     "metadata": {},
     "output_type": "display_data"
    },
    {
     "data": {
      "text/html": [
       " View run at <a href='https://wandb.ai/bladimir-alferez-utec-u-de-ingenier-a-tecnolog-a/random-forest/runs/qrkpzdod' target=\"_blank\">https://wandb.ai/bladimir-alferez-utec-u-de-ingenier-a-tecnolog-a/random-forest/runs/qrkpzdod</a>"
      ],
      "text/plain": [
       "<IPython.core.display.HTML object>"
      ]
     },
     "metadata": {},
     "output_type": "display_data"
    },
    {
     "data": {
      "application/vnd.jupyter.widget-view+json": {
       "model_id": "c2bbf78a8764424680d4fbe9c2fdb86c",
       "version_major": 2,
       "version_minor": 0
      },
      "text/plain": [
       "VBox(children=(Label(value='0.130 MB of 2.015 MB uploaded\\r'), FloatProgress(value=0.06456757829933425, max=1.…"
      ]
     },
     "metadata": {},
     "output_type": "display_data"
    },
    {
     "data": {
      "text/html": [
       "\n",
       "    <style>\n",
       "        .wandb-row {\n",
       "            display: flex;\n",
       "            flex-direction: row;\n",
       "            flex-wrap: wrap;\n",
       "            justify-content: flex-start;\n",
       "            width: 100%;\n",
       "        }\n",
       "        .wandb-col {\n",
       "            display: flex;\n",
       "            flex-direction: column;\n",
       "            flex-basis: 100%;\n",
       "            flex: 1;\n",
       "            padding: 10px;\n",
       "        }\n",
       "    </style>\n",
       "<div class=\"wandb-row\"><div class=\"wandb-col\"><h3>Run history:</h3><br/><table class=\"wandb\"><tr><td>execution_time</td><td>▁</td></tr><tr><td>f1_score_class_0</td><td>▁</td></tr><tr><td>f1_score_class_1</td><td>▁</td></tr><tr><td>precision_class_0</td><td>▁</td></tr><tr><td>precision_class_1</td><td>▁</td></tr><tr><td>recall_class_0</td><td>▁</td></tr><tr><td>recall_class_1</td><td>▁</td></tr><tr><td>test_accuracy</td><td>▁</td></tr></table><br/></div><div class=\"wandb-col\"><h3>Run summary:</h3><br/><table class=\"wandb\"><tr><td>execution_time</td><td>20.90488</td></tr><tr><td>f1_score_class_0</td><td>0.79509</td></tr><tr><td>f1_score_class_1</td><td>0.82552</td></tr><tr><td>precision_class_0</td><td>0.86845</td></tr><tr><td>precision_class_1</td><td>0.77013</td></tr><tr><td>recall_class_0</td><td>0.73316</td></tr><tr><td>recall_class_1</td><td>0.8895</td></tr><tr><td>test_accuracy</td><td>0.81153</td></tr></table><br/></div></div>"
      ],
      "text/plain": [
       "<IPython.core.display.HTML object>"
      ]
     },
     "metadata": {},
     "output_type": "display_data"
    },
    {
     "data": {
      "text/html": [
       " View run <strong style=\"color:#cdcd00\">solar-durian-10</strong> at: <a href='https://wandb.ai/bladimir-alferez-utec-u-de-ingenier-a-tecnolog-a/random-forest/runs/qrkpzdod' target=\"_blank\">https://wandb.ai/bladimir-alferez-utec-u-de-ingenier-a-tecnolog-a/random-forest/runs/qrkpzdod</a><br/> View project at: <a href='https://wandb.ai/bladimir-alferez-utec-u-de-ingenier-a-tecnolog-a/random-forest' target=\"_blank\">https://wandb.ai/bladimir-alferez-utec-u-de-ingenier-a-tecnolog-a/random-forest</a><br/>Synced 5 W&B file(s), 0 media file(s), 2 artifact file(s) and 0 other file(s)"
      ],
      "text/plain": [
       "<IPython.core.display.HTML object>"
      ]
     },
     "metadata": {},
     "output_type": "display_data"
    },
    {
     "data": {
      "text/html": [
       "Find logs at: <code>./wandb/run-20241201_124110-qrkpzdod/logs</code>"
      ],
      "text/plain": [
       "<IPython.core.display.HTML object>"
      ]
     },
     "metadata": {},
     "output_type": "display_data"
    },
    {
     "data": {
      "text/html": [
       "Tracking run with wandb version 0.18.7"
      ],
      "text/plain": [
       "<IPython.core.display.HTML object>"
      ]
     },
     "metadata": {},
     "output_type": "display_data"
    },
    {
     "data": {
      "text/html": [
       "Run data is saved locally in <code>/Users/bladimiralferez/Desktop/2024-2/Big Data/Proyecto/amazon-recommender-system/wandb/run-20241201_124140-lbvhmc7h</code>"
      ],
      "text/plain": [
       "<IPython.core.display.HTML object>"
      ]
     },
     "metadata": {},
     "output_type": "display_data"
    },
    {
     "data": {
      "text/html": [
       "Syncing run <strong><a href='https://wandb.ai/bladimir-alferez-utec-u-de-ingenier-a-tecnolog-a/random-forest/runs/lbvhmc7h' target=\"_blank\">clear-firefly-11</a></strong> to <a href='https://wandb.ai/bladimir-alferez-utec-u-de-ingenier-a-tecnolog-a/random-forest' target=\"_blank\">Weights & Biases</a> (<a href='https://wandb.me/developer-guide' target=\"_blank\">docs</a>)<br/>"
      ],
      "text/plain": [
       "<IPython.core.display.HTML object>"
      ]
     },
     "metadata": {},
     "output_type": "display_data"
    },
    {
     "data": {
      "text/html": [
       " View project at <a href='https://wandb.ai/bladimir-alferez-utec-u-de-ingenier-a-tecnolog-a/random-forest' target=\"_blank\">https://wandb.ai/bladimir-alferez-utec-u-de-ingenier-a-tecnolog-a/random-forest</a>"
      ],
      "text/plain": [
       "<IPython.core.display.HTML object>"
      ]
     },
     "metadata": {},
     "output_type": "display_data"
    },
    {
     "data": {
      "text/html": [
       " View run at <a href='https://wandb.ai/bladimir-alferez-utec-u-de-ingenier-a-tecnolog-a/random-forest/runs/lbvhmc7h' target=\"_blank\">https://wandb.ai/bladimir-alferez-utec-u-de-ingenier-a-tecnolog-a/random-forest/runs/lbvhmc7h</a>"
      ],
      "text/plain": [
       "<IPython.core.display.HTML object>"
      ]
     },
     "metadata": {},
     "output_type": "display_data"
    },
    {
     "data": {
      "application/vnd.jupyter.widget-view+json": {
       "model_id": "f38ade6761e24a1383525e353d9b68bd",
       "version_major": 2,
       "version_minor": 0
      },
      "text/plain": [
       "VBox(children=(Label(value='0.005 MB of 0.005 MB uploaded\\r'), FloatProgress(value=1.0, max=1.0)))"
      ]
     },
     "metadata": {},
     "output_type": "display_data"
    },
    {
     "data": {
      "text/html": [
       "\n",
       "    <style>\n",
       "        .wandb-row {\n",
       "            display: flex;\n",
       "            flex-direction: row;\n",
       "            flex-wrap: wrap;\n",
       "            justify-content: flex-start;\n",
       "            width: 100%;\n",
       "        }\n",
       "        .wandb-col {\n",
       "            display: flex;\n",
       "            flex-direction: column;\n",
       "            flex-basis: 100%;\n",
       "            flex: 1;\n",
       "            padding: 10px;\n",
       "        }\n",
       "    </style>\n",
       "<div class=\"wandb-row\"><div class=\"wandb-col\"><h3>Run history:</h3><br/><table class=\"wandb\"><tr><td>execution_time</td><td>▁</td></tr><tr><td>f1_score_class_0</td><td>▁</td></tr><tr><td>f1_score_class_1</td><td>▁</td></tr><tr><td>precision_class_0</td><td>▁</td></tr><tr><td>precision_class_1</td><td>▁</td></tr><tr><td>recall_class_0</td><td>▁</td></tr><tr><td>recall_class_1</td><td>▁</td></tr><tr><td>test_accuracy</td><td>▁</td></tr></table><br/></div><div class=\"wandb-col\"><h3>Run summary:</h3><br/><table class=\"wandb\"><tr><td>execution_time</td><td>21.38406</td></tr><tr><td>f1_score_class_0</td><td>0.79253</td></tr><tr><td>f1_score_class_1</td><td>0.82435</td></tr><tr><td>precision_class_0</td><td>0.86885</td></tr><tr><td>precision_class_1</td><td>0.76729</td></tr><tr><td>recall_class_0</td><td>0.72852</td></tr><tr><td>recall_class_1</td><td>0.89059</td></tr><tr><td>test_accuracy</td><td>0.80976</td></tr></table><br/></div></div>"
      ],
      "text/plain": [
       "<IPython.core.display.HTML object>"
      ]
     },
     "metadata": {},
     "output_type": "display_data"
    },
    {
     "data": {
      "text/html": [
       " View run <strong style=\"color:#cdcd00\">clear-firefly-11</strong> at: <a href='https://wandb.ai/bladimir-alferez-utec-u-de-ingenier-a-tecnolog-a/random-forest/runs/lbvhmc7h' target=\"_blank\">https://wandb.ai/bladimir-alferez-utec-u-de-ingenier-a-tecnolog-a/random-forest/runs/lbvhmc7h</a><br/> View project at: <a href='https://wandb.ai/bladimir-alferez-utec-u-de-ingenier-a-tecnolog-a/random-forest' target=\"_blank\">https://wandb.ai/bladimir-alferez-utec-u-de-ingenier-a-tecnolog-a/random-forest</a><br/>Synced 5 W&B file(s), 0 media file(s), 2 artifact file(s) and 0 other file(s)"
      ],
      "text/plain": [
       "<IPython.core.display.HTML object>"
      ]
     },
     "metadata": {},
     "output_type": "display_data"
    },
    {
     "data": {
      "text/html": [
       "Find logs at: <code>./wandb/run-20241201_124140-lbvhmc7h/logs</code>"
      ],
      "text/plain": [
       "<IPython.core.display.HTML object>"
      ]
     },
     "metadata": {},
     "output_type": "display_data"
    },
    {
     "data": {
      "text/html": [
       "Tracking run with wandb version 0.18.7"
      ],
      "text/plain": [
       "<IPython.core.display.HTML object>"
      ]
     },
     "metadata": {},
     "output_type": "display_data"
    },
    {
     "data": {
      "text/html": [
       "Run data is saved locally in <code>/Users/bladimiralferez/Desktop/2024-2/Big Data/Proyecto/amazon-recommender-system/wandb/run-20241201_124210-hwx7jic8</code>"
      ],
      "text/plain": [
       "<IPython.core.display.HTML object>"
      ]
     },
     "metadata": {},
     "output_type": "display_data"
    },
    {
     "data": {
      "text/html": [
       "Syncing run <strong><a href='https://wandb.ai/bladimir-alferez-utec-u-de-ingenier-a-tecnolog-a/random-forest/runs/hwx7jic8' target=\"_blank\">light-smoke-12</a></strong> to <a href='https://wandb.ai/bladimir-alferez-utec-u-de-ingenier-a-tecnolog-a/random-forest' target=\"_blank\">Weights & Biases</a> (<a href='https://wandb.me/developer-guide' target=\"_blank\">docs</a>)<br/>"
      ],
      "text/plain": [
       "<IPython.core.display.HTML object>"
      ]
     },
     "metadata": {},
     "output_type": "display_data"
    },
    {
     "data": {
      "text/html": [
       " View project at <a href='https://wandb.ai/bladimir-alferez-utec-u-de-ingenier-a-tecnolog-a/random-forest' target=\"_blank\">https://wandb.ai/bladimir-alferez-utec-u-de-ingenier-a-tecnolog-a/random-forest</a>"
      ],
      "text/plain": [
       "<IPython.core.display.HTML object>"
      ]
     },
     "metadata": {},
     "output_type": "display_data"
    },
    {
     "data": {
      "text/html": [
       " View run at <a href='https://wandb.ai/bladimir-alferez-utec-u-de-ingenier-a-tecnolog-a/random-forest/runs/hwx7jic8' target=\"_blank\">https://wandb.ai/bladimir-alferez-utec-u-de-ingenier-a-tecnolog-a/random-forest/runs/hwx7jic8</a>"
      ],
      "text/plain": [
       "<IPython.core.display.HTML object>"
      ]
     },
     "metadata": {},
     "output_type": "display_data"
    },
    {
     "data": {
      "application/vnd.jupyter.widget-view+json": {
       "model_id": "0d499ea4b3a14aee8ea37d0b0c98274b",
       "version_major": 2,
       "version_minor": 0
      },
      "text/plain": [
       "VBox(children=(Label(value='0.005 MB of 0.005 MB uploaded\\r'), FloatProgress(value=1.0, max=1.0)))"
      ]
     },
     "metadata": {},
     "output_type": "display_data"
    },
    {
     "data": {
      "text/html": [
       "\n",
       "    <style>\n",
       "        .wandb-row {\n",
       "            display: flex;\n",
       "            flex-direction: row;\n",
       "            flex-wrap: wrap;\n",
       "            justify-content: flex-start;\n",
       "            width: 100%;\n",
       "        }\n",
       "        .wandb-col {\n",
       "            display: flex;\n",
       "            flex-direction: column;\n",
       "            flex-basis: 100%;\n",
       "            flex: 1;\n",
       "            padding: 10px;\n",
       "        }\n",
       "    </style>\n",
       "<div class=\"wandb-row\"><div class=\"wandb-col\"><h3>Run history:</h3><br/><table class=\"wandb\"><tr><td>execution_time</td><td>▁</td></tr><tr><td>f1_score_class_0</td><td>▁</td></tr><tr><td>f1_score_class_1</td><td>▁</td></tr><tr><td>precision_class_0</td><td>▁</td></tr><tr><td>precision_class_1</td><td>▁</td></tr><tr><td>recall_class_0</td><td>▁</td></tr><tr><td>recall_class_1</td><td>▁</td></tr><tr><td>test_accuracy</td><td>▁</td></tr></table><br/></div><div class=\"wandb-col\"><h3>Run summary:</h3><br/><table class=\"wandb\"><tr><td>execution_time</td><td>21.15794</td></tr><tr><td>f1_score_class_0</td><td>0.7921</td></tr><tr><td>f1_score_class_1</td><td>0.82406</td></tr><tr><td>precision_class_0</td><td>0.86861</td></tr><tr><td>precision_class_1</td><td>0.7669</td></tr><tr><td>recall_class_0</td><td>0.72798</td></tr><tr><td>recall_class_1</td><td>0.89044</td></tr><tr><td>test_accuracy</td><td>0.80941</td></tr></table><br/></div></div>"
      ],
      "text/plain": [
       "<IPython.core.display.HTML object>"
      ]
     },
     "metadata": {},
     "output_type": "display_data"
    },
    {
     "data": {
      "text/html": [
       " View run <strong style=\"color:#cdcd00\">light-smoke-12</strong> at: <a href='https://wandb.ai/bladimir-alferez-utec-u-de-ingenier-a-tecnolog-a/random-forest/runs/hwx7jic8' target=\"_blank\">https://wandb.ai/bladimir-alferez-utec-u-de-ingenier-a-tecnolog-a/random-forest/runs/hwx7jic8</a><br/> View project at: <a href='https://wandb.ai/bladimir-alferez-utec-u-de-ingenier-a-tecnolog-a/random-forest' target=\"_blank\">https://wandb.ai/bladimir-alferez-utec-u-de-ingenier-a-tecnolog-a/random-forest</a><br/>Synced 5 W&B file(s), 0 media file(s), 2 artifact file(s) and 0 other file(s)"
      ],
      "text/plain": [
       "<IPython.core.display.HTML object>"
      ]
     },
     "metadata": {},
     "output_type": "display_data"
    },
    {
     "data": {
      "text/html": [
       "Find logs at: <code>./wandb/run-20241201_124210-hwx7jic8/logs</code>"
      ],
      "text/plain": [
       "<IPython.core.display.HTML object>"
      ]
     },
     "metadata": {},
     "output_type": "display_data"
    },
    {
     "data": {
      "text/html": [
       "Tracking run with wandb version 0.18.7"
      ],
      "text/plain": [
       "<IPython.core.display.HTML object>"
      ]
     },
     "metadata": {},
     "output_type": "display_data"
    },
    {
     "data": {
      "text/html": [
       "Run data is saved locally in <code>/Users/bladimiralferez/Desktop/2024-2/Big Data/Proyecto/amazon-recommender-system/wandb/run-20241201_124240-u7qhti84</code>"
      ],
      "text/plain": [
       "<IPython.core.display.HTML object>"
      ]
     },
     "metadata": {},
     "output_type": "display_data"
    },
    {
     "data": {
      "text/html": [
       "Syncing run <strong><a href='https://wandb.ai/bladimir-alferez-utec-u-de-ingenier-a-tecnolog-a/random-forest/runs/u7qhti84' target=\"_blank\">desert-durian-13</a></strong> to <a href='https://wandb.ai/bladimir-alferez-utec-u-de-ingenier-a-tecnolog-a/random-forest' target=\"_blank\">Weights & Biases</a> (<a href='https://wandb.me/developer-guide' target=\"_blank\">docs</a>)<br/>"
      ],
      "text/plain": [
       "<IPython.core.display.HTML object>"
      ]
     },
     "metadata": {},
     "output_type": "display_data"
    },
    {
     "data": {
      "text/html": [
       " View project at <a href='https://wandb.ai/bladimir-alferez-utec-u-de-ingenier-a-tecnolog-a/random-forest' target=\"_blank\">https://wandb.ai/bladimir-alferez-utec-u-de-ingenier-a-tecnolog-a/random-forest</a>"
      ],
      "text/plain": [
       "<IPython.core.display.HTML object>"
      ]
     },
     "metadata": {},
     "output_type": "display_data"
    },
    {
     "data": {
      "text/html": [
       " View run at <a href='https://wandb.ai/bladimir-alferez-utec-u-de-ingenier-a-tecnolog-a/random-forest/runs/u7qhti84' target=\"_blank\">https://wandb.ai/bladimir-alferez-utec-u-de-ingenier-a-tecnolog-a/random-forest/runs/u7qhti84</a>"
      ],
      "text/plain": [
       "<IPython.core.display.HTML object>"
      ]
     },
     "metadata": {},
     "output_type": "display_data"
    },
    {
     "data": {
      "application/vnd.jupyter.widget-view+json": {
       "model_id": "44099a8ead9c4945bc950c2724a215c1",
       "version_major": 2,
       "version_minor": 0
      },
      "text/plain": [
       "VBox(children=(Label(value='0.005 MB of 0.005 MB uploaded\\r'), FloatProgress(value=1.0, max=1.0)))"
      ]
     },
     "metadata": {},
     "output_type": "display_data"
    },
    {
     "data": {
      "text/html": [
       "\n",
       "    <style>\n",
       "        .wandb-row {\n",
       "            display: flex;\n",
       "            flex-direction: row;\n",
       "            flex-wrap: wrap;\n",
       "            justify-content: flex-start;\n",
       "            width: 100%;\n",
       "        }\n",
       "        .wandb-col {\n",
       "            display: flex;\n",
       "            flex-direction: column;\n",
       "            flex-basis: 100%;\n",
       "            flex: 1;\n",
       "            padding: 10px;\n",
       "        }\n",
       "    </style>\n",
       "<div class=\"wandb-row\"><div class=\"wandb-col\"><h3>Run history:</h3><br/><table class=\"wandb\"><tr><td>execution_time</td><td>▁</td></tr><tr><td>f1_score_class_0</td><td>▁</td></tr><tr><td>f1_score_class_1</td><td>▁</td></tr><tr><td>precision_class_0</td><td>▁</td></tr><tr><td>precision_class_1</td><td>▁</td></tr><tr><td>recall_class_0</td><td>▁</td></tr><tr><td>recall_class_1</td><td>▁</td></tr><tr><td>test_accuracy</td><td>▁</td></tr></table><br/></div><div class=\"wandb-col\"><h3>Run summary:</h3><br/><table class=\"wandb\"><tr><td>execution_time</td><td>41.6245</td></tr><tr><td>f1_score_class_0</td><td>0.8257</td></tr><tr><td>f1_score_class_1</td><td>0.84517</td></tr><tr><td>precision_class_0</td><td>0.87861</td></tr><tr><td>precision_class_1</td><td>0.80226</td></tr><tr><td>recall_class_0</td><td>0.7788</td></tr><tr><td>recall_class_1</td><td>0.89294</td></tr><tr><td>test_accuracy</td><td>0.83601</td></tr></table><br/></div></div>"
      ],
      "text/plain": [
       "<IPython.core.display.HTML object>"
      ]
     },
     "metadata": {},
     "output_type": "display_data"
    },
    {
     "data": {
      "text/html": [
       " View run <strong style=\"color:#cdcd00\">desert-durian-13</strong> at: <a href='https://wandb.ai/bladimir-alferez-utec-u-de-ingenier-a-tecnolog-a/random-forest/runs/u7qhti84' target=\"_blank\">https://wandb.ai/bladimir-alferez-utec-u-de-ingenier-a-tecnolog-a/random-forest/runs/u7qhti84</a><br/> View project at: <a href='https://wandb.ai/bladimir-alferez-utec-u-de-ingenier-a-tecnolog-a/random-forest' target=\"_blank\">https://wandb.ai/bladimir-alferez-utec-u-de-ingenier-a-tecnolog-a/random-forest</a><br/>Synced 5 W&B file(s), 0 media file(s), 2 artifact file(s) and 0 other file(s)"
      ],
      "text/plain": [
       "<IPython.core.display.HTML object>"
      ]
     },
     "metadata": {},
     "output_type": "display_data"
    },
    {
     "data": {
      "text/html": [
       "Find logs at: <code>./wandb/run-20241201_124240-u7qhti84/logs</code>"
      ],
      "text/plain": [
       "<IPython.core.display.HTML object>"
      ]
     },
     "metadata": {},
     "output_type": "display_data"
    },
    {
     "data": {
      "text/html": [
       "Tracking run with wandb version 0.18.7"
      ],
      "text/plain": [
       "<IPython.core.display.HTML object>"
      ]
     },
     "metadata": {},
     "output_type": "display_data"
    },
    {
     "data": {
      "text/html": [
       "Run data is saved locally in <code>/Users/bladimiralferez/Desktop/2024-2/Big Data/Proyecto/amazon-recommender-system/wandb/run-20241201_124330-hlm1f3m4</code>"
      ],
      "text/plain": [
       "<IPython.core.display.HTML object>"
      ]
     },
     "metadata": {},
     "output_type": "display_data"
    },
    {
     "data": {
      "text/html": [
       "Syncing run <strong><a href='https://wandb.ai/bladimir-alferez-utec-u-de-ingenier-a-tecnolog-a/random-forest/runs/hlm1f3m4' target=\"_blank\">woven-deluge-14</a></strong> to <a href='https://wandb.ai/bladimir-alferez-utec-u-de-ingenier-a-tecnolog-a/random-forest' target=\"_blank\">Weights & Biases</a> (<a href='https://wandb.me/developer-guide' target=\"_blank\">docs</a>)<br/>"
      ],
      "text/plain": [
       "<IPython.core.display.HTML object>"
      ]
     },
     "metadata": {},
     "output_type": "display_data"
    },
    {
     "data": {
      "text/html": [
       " View project at <a href='https://wandb.ai/bladimir-alferez-utec-u-de-ingenier-a-tecnolog-a/random-forest' target=\"_blank\">https://wandb.ai/bladimir-alferez-utec-u-de-ingenier-a-tecnolog-a/random-forest</a>"
      ],
      "text/plain": [
       "<IPython.core.display.HTML object>"
      ]
     },
     "metadata": {},
     "output_type": "display_data"
    },
    {
     "data": {
      "text/html": [
       " View run at <a href='https://wandb.ai/bladimir-alferez-utec-u-de-ingenier-a-tecnolog-a/random-forest/runs/hlm1f3m4' target=\"_blank\">https://wandb.ai/bladimir-alferez-utec-u-de-ingenier-a-tecnolog-a/random-forest/runs/hlm1f3m4</a>"
      ],
      "text/plain": [
       "<IPython.core.display.HTML object>"
      ]
     },
     "metadata": {},
     "output_type": "display_data"
    },
    {
     "data": {
      "application/vnd.jupyter.widget-view+json": {
       "model_id": "c2812bcc37fa4ef59361cbfdff3bd9f7",
       "version_major": 2,
       "version_minor": 0
      },
      "text/plain": [
       "VBox(children=(Label(value='0.552 MB of 10.834 MB uploaded\\r'), FloatProgress(value=0.05095128615909867, max=1…"
      ]
     },
     "metadata": {},
     "output_type": "display_data"
    },
    {
     "data": {
      "text/html": [
       "\n",
       "    <style>\n",
       "        .wandb-row {\n",
       "            display: flex;\n",
       "            flex-direction: row;\n",
       "            flex-wrap: wrap;\n",
       "            justify-content: flex-start;\n",
       "            width: 100%;\n",
       "        }\n",
       "        .wandb-col {\n",
       "            display: flex;\n",
       "            flex-direction: column;\n",
       "            flex-basis: 100%;\n",
       "            flex: 1;\n",
       "            padding: 10px;\n",
       "        }\n",
       "    </style>\n",
       "<div class=\"wandb-row\"><div class=\"wandb-col\"><h3>Run history:</h3><br/><table class=\"wandb\"><tr><td>execution_time</td><td>▁</td></tr><tr><td>f1_score_class_0</td><td>▁</td></tr><tr><td>f1_score_class_1</td><td>▁</td></tr><tr><td>precision_class_0</td><td>▁</td></tr><tr><td>precision_class_1</td><td>▁</td></tr><tr><td>recall_class_0</td><td>▁</td></tr><tr><td>recall_class_1</td><td>▁</td></tr><tr><td>test_accuracy</td><td>▁</td></tr></table><br/></div><div class=\"wandb-col\"><h3>Run summary:</h3><br/><table class=\"wandb\"><tr><td>execution_time</td><td>41.61512</td></tr><tr><td>f1_score_class_0</td><td>0.82633</td></tr><tr><td>f1_score_class_1</td><td>0.84494</td></tr><tr><td>precision_class_0</td><td>0.87659</td></tr><tr><td>precision_class_1</td><td>0.80379</td></tr><tr><td>recall_class_0</td><td>0.78152</td></tr><tr><td>recall_class_1</td><td>0.89053</td></tr><tr><td>test_accuracy</td><td>0.83616</td></tr></table><br/></div></div>"
      ],
      "text/plain": [
       "<IPython.core.display.HTML object>"
      ]
     },
     "metadata": {},
     "output_type": "display_data"
    },
    {
     "data": {
      "text/html": [
       " View run <strong style=\"color:#cdcd00\">woven-deluge-14</strong> at: <a href='https://wandb.ai/bladimir-alferez-utec-u-de-ingenier-a-tecnolog-a/random-forest/runs/hlm1f3m4' target=\"_blank\">https://wandb.ai/bladimir-alferez-utec-u-de-ingenier-a-tecnolog-a/random-forest/runs/hlm1f3m4</a><br/> View project at: <a href='https://wandb.ai/bladimir-alferez-utec-u-de-ingenier-a-tecnolog-a/random-forest' target=\"_blank\">https://wandb.ai/bladimir-alferez-utec-u-de-ingenier-a-tecnolog-a/random-forest</a><br/>Synced 5 W&B file(s), 0 media file(s), 2 artifact file(s) and 0 other file(s)"
      ],
      "text/plain": [
       "<IPython.core.display.HTML object>"
      ]
     },
     "metadata": {},
     "output_type": "display_data"
    },
    {
     "data": {
      "text/html": [
       "Find logs at: <code>./wandb/run-20241201_124330-hlm1f3m4/logs</code>"
      ],
      "text/plain": [
       "<IPython.core.display.HTML object>"
      ]
     },
     "metadata": {},
     "output_type": "display_data"
    },
    {
     "data": {
      "text/html": [
       "Tracking run with wandb version 0.18.7"
      ],
      "text/plain": [
       "<IPython.core.display.HTML object>"
      ]
     },
     "metadata": {},
     "output_type": "display_data"
    },
    {
     "data": {
      "text/html": [
       "Run data is saved locally in <code>/Users/bladimiralferez/Desktop/2024-2/Big Data/Proyecto/amazon-recommender-system/wandb/run-20241201_124422-iutebcok</code>"
      ],
      "text/plain": [
       "<IPython.core.display.HTML object>"
      ]
     },
     "metadata": {},
     "output_type": "display_data"
    },
    {
     "data": {
      "text/html": [
       "Syncing run <strong><a href='https://wandb.ai/bladimir-alferez-utec-u-de-ingenier-a-tecnolog-a/random-forest/runs/iutebcok' target=\"_blank\">rural-waterfall-15</a></strong> to <a href='https://wandb.ai/bladimir-alferez-utec-u-de-ingenier-a-tecnolog-a/random-forest' target=\"_blank\">Weights & Biases</a> (<a href='https://wandb.me/developer-guide' target=\"_blank\">docs</a>)<br/>"
      ],
      "text/plain": [
       "<IPython.core.display.HTML object>"
      ]
     },
     "metadata": {},
     "output_type": "display_data"
    },
    {
     "data": {
      "text/html": [
       " View project at <a href='https://wandb.ai/bladimir-alferez-utec-u-de-ingenier-a-tecnolog-a/random-forest' target=\"_blank\">https://wandb.ai/bladimir-alferez-utec-u-de-ingenier-a-tecnolog-a/random-forest</a>"
      ],
      "text/plain": [
       "<IPython.core.display.HTML object>"
      ]
     },
     "metadata": {},
     "output_type": "display_data"
    },
    {
     "data": {
      "text/html": [
       " View run at <a href='https://wandb.ai/bladimir-alferez-utec-u-de-ingenier-a-tecnolog-a/random-forest/runs/iutebcok' target=\"_blank\">https://wandb.ai/bladimir-alferez-utec-u-de-ingenier-a-tecnolog-a/random-forest/runs/iutebcok</a>"
      ],
      "text/plain": [
       "<IPython.core.display.HTML object>"
      ]
     },
     "metadata": {},
     "output_type": "display_data"
    },
    {
     "data": {
      "application/vnd.jupyter.widget-view+json": {
       "model_id": "e9be265902754dada18f480f96073376",
       "version_major": 2,
       "version_minor": 0
      },
      "text/plain": [
       "VBox(children=(Label(value='0.146 MB of 9.577 MB uploaded\\r'), FloatProgress(value=0.015217569690057947, max=1…"
      ]
     },
     "metadata": {},
     "output_type": "display_data"
    },
    {
     "data": {
      "text/html": [
       "\n",
       "    <style>\n",
       "        .wandb-row {\n",
       "            display: flex;\n",
       "            flex-direction: row;\n",
       "            flex-wrap: wrap;\n",
       "            justify-content: flex-start;\n",
       "            width: 100%;\n",
       "        }\n",
       "        .wandb-col {\n",
       "            display: flex;\n",
       "            flex-direction: column;\n",
       "            flex-basis: 100%;\n",
       "            flex: 1;\n",
       "            padding: 10px;\n",
       "        }\n",
       "    </style>\n",
       "<div class=\"wandb-row\"><div class=\"wandb-col\"><h3>Run history:</h3><br/><table class=\"wandb\"><tr><td>execution_time</td><td>▁</td></tr><tr><td>f1_score_class_0</td><td>▁</td></tr><tr><td>f1_score_class_1</td><td>▁</td></tr><tr><td>precision_class_0</td><td>▁</td></tr><tr><td>precision_class_1</td><td>▁</td></tr><tr><td>recall_class_0</td><td>▁</td></tr><tr><td>recall_class_1</td><td>▁</td></tr><tr><td>test_accuracy</td><td>▁</td></tr></table><br/></div><div class=\"wandb-col\"><h3>Run summary:</h3><br/><table class=\"wandb\"><tr><td>execution_time</td><td>49.75761</td></tr><tr><td>f1_score_class_0</td><td>0.82621</td></tr><tr><td>f1_score_class_1</td><td>0.84509</td></tr><tr><td>precision_class_0</td><td>0.87734</td></tr><tr><td>precision_class_1</td><td>0.80336</td></tr><tr><td>recall_class_0</td><td>0.78071</td></tr><tr><td>recall_class_1</td><td>0.8914</td></tr><tr><td>test_accuracy</td><td>0.83619</td></tr></table><br/></div></div>"
      ],
      "text/plain": [
       "<IPython.core.display.HTML object>"
      ]
     },
     "metadata": {},
     "output_type": "display_data"
    },
    {
     "data": {
      "text/html": [
       " View run <strong style=\"color:#cdcd00\">rural-waterfall-15</strong> at: <a href='https://wandb.ai/bladimir-alferez-utec-u-de-ingenier-a-tecnolog-a/random-forest/runs/iutebcok' target=\"_blank\">https://wandb.ai/bladimir-alferez-utec-u-de-ingenier-a-tecnolog-a/random-forest/runs/iutebcok</a><br/> View project at: <a href='https://wandb.ai/bladimir-alferez-utec-u-de-ingenier-a-tecnolog-a/random-forest' target=\"_blank\">https://wandb.ai/bladimir-alferez-utec-u-de-ingenier-a-tecnolog-a/random-forest</a><br/>Synced 5 W&B file(s), 0 media file(s), 2 artifact file(s) and 0 other file(s)"
      ],
      "text/plain": [
       "<IPython.core.display.HTML object>"
      ]
     },
     "metadata": {},
     "output_type": "display_data"
    },
    {
     "data": {
      "text/html": [
       "Find logs at: <code>./wandb/run-20241201_124422-iutebcok/logs</code>"
      ],
      "text/plain": [
       "<IPython.core.display.HTML object>"
      ]
     },
     "metadata": {},
     "output_type": "display_data"
    },
    {
     "data": {
      "text/html": [
       "Tracking run with wandb version 0.18.7"
      ],
      "text/plain": [
       "<IPython.core.display.HTML object>"
      ]
     },
     "metadata": {},
     "output_type": "display_data"
    },
    {
     "data": {
      "text/html": [
       "Run data is saved locally in <code>/Users/bladimiralferez/Desktop/2024-2/Big Data/Proyecto/amazon-recommender-system/wandb/run-20241201_124521-nfkw2mjg</code>"
      ],
      "text/plain": [
       "<IPython.core.display.HTML object>"
      ]
     },
     "metadata": {},
     "output_type": "display_data"
    },
    {
     "data": {
      "text/html": [
       "Syncing run <strong><a href='https://wandb.ai/bladimir-alferez-utec-u-de-ingenier-a-tecnolog-a/random-forest/runs/nfkw2mjg' target=\"_blank\">stoic-lion-16</a></strong> to <a href='https://wandb.ai/bladimir-alferez-utec-u-de-ingenier-a-tecnolog-a/random-forest' target=\"_blank\">Weights & Biases</a> (<a href='https://wandb.me/developer-guide' target=\"_blank\">docs</a>)<br/>"
      ],
      "text/plain": [
       "<IPython.core.display.HTML object>"
      ]
     },
     "metadata": {},
     "output_type": "display_data"
    },
    {
     "data": {
      "text/html": [
       " View project at <a href='https://wandb.ai/bladimir-alferez-utec-u-de-ingenier-a-tecnolog-a/random-forest' target=\"_blank\">https://wandb.ai/bladimir-alferez-utec-u-de-ingenier-a-tecnolog-a/random-forest</a>"
      ],
      "text/plain": [
       "<IPython.core.display.HTML object>"
      ]
     },
     "metadata": {},
     "output_type": "display_data"
    },
    {
     "data": {
      "text/html": [
       " View run at <a href='https://wandb.ai/bladimir-alferez-utec-u-de-ingenier-a-tecnolog-a/random-forest/runs/nfkw2mjg' target=\"_blank\">https://wandb.ai/bladimir-alferez-utec-u-de-ingenier-a-tecnolog-a/random-forest/runs/nfkw2mjg</a>"
      ],
      "text/plain": [
       "<IPython.core.display.HTML object>"
      ]
     },
     "metadata": {},
     "output_type": "display_data"
    },
    {
     "data": {
      "application/vnd.jupyter.widget-view+json": {
       "model_id": "fc0c57ffefa24cd48fed9a251fb129b8",
       "version_major": 2,
       "version_minor": 0
      },
      "text/plain": [
       "VBox(children=(Label(value='0.005 MB of 0.005 MB uploaded\\r'), FloatProgress(value=1.0, max=1.0)))"
      ]
     },
     "metadata": {},
     "output_type": "display_data"
    },
    {
     "data": {
      "text/html": [
       "\n",
       "    <style>\n",
       "        .wandb-row {\n",
       "            display: flex;\n",
       "            flex-direction: row;\n",
       "            flex-wrap: wrap;\n",
       "            justify-content: flex-start;\n",
       "            width: 100%;\n",
       "        }\n",
       "        .wandb-col {\n",
       "            display: flex;\n",
       "            flex-direction: column;\n",
       "            flex-basis: 100%;\n",
       "            flex: 1;\n",
       "            padding: 10px;\n",
       "        }\n",
       "    </style>\n",
       "<div class=\"wandb-row\"><div class=\"wandb-col\"><h3>Run history:</h3><br/><table class=\"wandb\"><tr><td>execution_time</td><td>▁</td></tr><tr><td>f1_score_class_0</td><td>▁</td></tr><tr><td>f1_score_class_1</td><td>▁</td></tr><tr><td>precision_class_0</td><td>▁</td></tr><tr><td>precision_class_1</td><td>▁</td></tr><tr><td>recall_class_0</td><td>▁</td></tr><tr><td>recall_class_1</td><td>▁</td></tr><tr><td>test_accuracy</td><td>▁</td></tr></table><br/></div><div class=\"wandb-col\"><h3>Run summary:</h3><br/><table class=\"wandb\"><tr><td>execution_time</td><td>295.07082</td></tr><tr><td>f1_score_class_0</td><td>0.92414</td></tr><tr><td>f1_score_class_1</td><td>0.92144</td></tr><tr><td>precision_class_0</td><td>0.9063</td></tr><tr><td>precision_class_1</td><td>0.94062</td></tr><tr><td>recall_class_0</td><td>0.9427</td></tr><tr><td>recall_class_1</td><td>0.90303</td></tr><tr><td>test_accuracy</td><td>0.92281</td></tr></table><br/></div></div>"
      ],
      "text/plain": [
       "<IPython.core.display.HTML object>"
      ]
     },
     "metadata": {},
     "output_type": "display_data"
    },
    {
     "data": {
      "text/html": [
       " View run <strong style=\"color:#cdcd00\">stoic-lion-16</strong> at: <a href='https://wandb.ai/bladimir-alferez-utec-u-de-ingenier-a-tecnolog-a/random-forest/runs/nfkw2mjg' target=\"_blank\">https://wandb.ai/bladimir-alferez-utec-u-de-ingenier-a-tecnolog-a/random-forest/runs/nfkw2mjg</a><br/> View project at: <a href='https://wandb.ai/bladimir-alferez-utec-u-de-ingenier-a-tecnolog-a/random-forest' target=\"_blank\">https://wandb.ai/bladimir-alferez-utec-u-de-ingenier-a-tecnolog-a/random-forest</a><br/>Synced 5 W&B file(s), 0 media file(s), 2 artifact file(s) and 0 other file(s)"
      ],
      "text/plain": [
       "<IPython.core.display.HTML object>"
      ]
     },
     "metadata": {},
     "output_type": "display_data"
    },
    {
     "data": {
      "text/html": [
       "Find logs at: <code>./wandb/run-20241201_124521-nfkw2mjg/logs</code>"
      ],
      "text/plain": [
       "<IPython.core.display.HTML object>"
      ]
     },
     "metadata": {},
     "output_type": "display_data"
    },
    {
     "data": {
      "text/html": [
       "Tracking run with wandb version 0.18.7"
      ],
      "text/plain": [
       "<IPython.core.display.HTML object>"
      ]
     },
     "metadata": {},
     "output_type": "display_data"
    },
    {
     "data": {
      "text/html": [
       "Run data is saved locally in <code>/Users/bladimiralferez/Desktop/2024-2/Big Data/Proyecto/amazon-recommender-system/wandb/run-20241201_125055-zq6y1uiu</code>"
      ],
      "text/plain": [
       "<IPython.core.display.HTML object>"
      ]
     },
     "metadata": {},
     "output_type": "display_data"
    },
    {
     "data": {
      "text/html": [
       "Syncing run <strong><a href='https://wandb.ai/bladimir-alferez-utec-u-de-ingenier-a-tecnolog-a/random-forest/runs/zq6y1uiu' target=\"_blank\">upbeat-star-17</a></strong> to <a href='https://wandb.ai/bladimir-alferez-utec-u-de-ingenier-a-tecnolog-a/random-forest' target=\"_blank\">Weights & Biases</a> (<a href='https://wandb.me/developer-guide' target=\"_blank\">docs</a>)<br/>"
      ],
      "text/plain": [
       "<IPython.core.display.HTML object>"
      ]
     },
     "metadata": {},
     "output_type": "display_data"
    },
    {
     "data": {
      "text/html": [
       " View project at <a href='https://wandb.ai/bladimir-alferez-utec-u-de-ingenier-a-tecnolog-a/random-forest' target=\"_blank\">https://wandb.ai/bladimir-alferez-utec-u-de-ingenier-a-tecnolog-a/random-forest</a>"
      ],
      "text/plain": [
       "<IPython.core.display.HTML object>"
      ]
     },
     "metadata": {},
     "output_type": "display_data"
    },
    {
     "data": {
      "text/html": [
       " View run at <a href='https://wandb.ai/bladimir-alferez-utec-u-de-ingenier-a-tecnolog-a/random-forest/runs/zq6y1uiu' target=\"_blank\">https://wandb.ai/bladimir-alferez-utec-u-de-ingenier-a-tecnolog-a/random-forest/runs/zq6y1uiu</a>"
      ],
      "text/plain": [
       "<IPython.core.display.HTML object>"
      ]
     },
     "metadata": {},
     "output_type": "display_data"
    },
    {
     "data": {
      "application/vnd.jupyter.widget-view+json": {
       "model_id": "c6f2c9150717478a89395201129010c7",
       "version_major": 2,
       "version_minor": 0
      },
      "text/plain": [
       "VBox(children=(Label(value='0.004 MB of 0.004 MB uploaded\\r'), FloatProgress(value=1.0, max=1.0)))"
      ]
     },
     "metadata": {},
     "output_type": "display_data"
    },
    {
     "data": {
      "text/html": [
       "\n",
       "    <style>\n",
       "        .wandb-row {\n",
       "            display: flex;\n",
       "            flex-direction: row;\n",
       "            flex-wrap: wrap;\n",
       "            justify-content: flex-start;\n",
       "            width: 100%;\n",
       "        }\n",
       "        .wandb-col {\n",
       "            display: flex;\n",
       "            flex-direction: column;\n",
       "            flex-basis: 100%;\n",
       "            flex: 1;\n",
       "            padding: 10px;\n",
       "        }\n",
       "    </style>\n",
       "<div class=\"wandb-row\"><div class=\"wandb-col\"><h3>Run history:</h3><br/><table class=\"wandb\"><tr><td>execution_time</td><td>▁</td></tr><tr><td>f1_score_class_0</td><td>▁</td></tr><tr><td>f1_score_class_1</td><td>▁</td></tr><tr><td>precision_class_0</td><td>▁</td></tr><tr><td>precision_class_1</td><td>▁</td></tr><tr><td>recall_class_0</td><td>▁</td></tr><tr><td>recall_class_1</td><td>▁</td></tr><tr><td>test_accuracy</td><td>▁</td></tr></table><br/></div><div class=\"wandb-col\"><h3>Run summary:</h3><br/><table class=\"wandb\"><tr><td>execution_time</td><td>288.05953</td></tr><tr><td>f1_score_class_0</td><td>0.92215</td></tr><tr><td>f1_score_class_1</td><td>0.91976</td></tr><tr><td>precision_class_0</td><td>0.90639</td></tr><tr><td>precision_class_1</td><td>0.93654</td></tr><tr><td>recall_class_0</td><td>0.93846</td></tr><tr><td>recall_class_1</td><td>0.90357</td></tr><tr><td>test_accuracy</td><td>0.92097</td></tr></table><br/></div></div>"
      ],
      "text/plain": [
       "<IPython.core.display.HTML object>"
      ]
     },
     "metadata": {},
     "output_type": "display_data"
    },
    {
     "data": {
      "text/html": [
       " View run <strong style=\"color:#cdcd00\">upbeat-star-17</strong> at: <a href='https://wandb.ai/bladimir-alferez-utec-u-de-ingenier-a-tecnolog-a/random-forest/runs/zq6y1uiu' target=\"_blank\">https://wandb.ai/bladimir-alferez-utec-u-de-ingenier-a-tecnolog-a/random-forest/runs/zq6y1uiu</a><br/> View project at: <a href='https://wandb.ai/bladimir-alferez-utec-u-de-ingenier-a-tecnolog-a/random-forest' target=\"_blank\">https://wandb.ai/bladimir-alferez-utec-u-de-ingenier-a-tecnolog-a/random-forest</a><br/>Synced 5 W&B file(s), 0 media file(s), 2 artifact file(s) and 0 other file(s)"
      ],
      "text/plain": [
       "<IPython.core.display.HTML object>"
      ]
     },
     "metadata": {},
     "output_type": "display_data"
    },
    {
     "data": {
      "text/html": [
       "Find logs at: <code>./wandb/run-20241201_125055-zq6y1uiu/logs</code>"
      ],
      "text/plain": [
       "<IPython.core.display.HTML object>"
      ]
     },
     "metadata": {},
     "output_type": "display_data"
    },
    {
     "data": {
      "text/html": [
       "Tracking run with wandb version 0.18.7"
      ],
      "text/plain": [
       "<IPython.core.display.HTML object>"
      ]
     },
     "metadata": {},
     "output_type": "display_data"
    },
    {
     "data": {
      "text/html": [
       "Run data is saved locally in <code>/Users/bladimiralferez/Desktop/2024-2/Big Data/Proyecto/amazon-recommender-system/wandb/run-20241201_125700-uxxni5rp</code>"
      ],
      "text/plain": [
       "<IPython.core.display.HTML object>"
      ]
     },
     "metadata": {},
     "output_type": "display_data"
    },
    {
     "data": {
      "text/html": [
       "Syncing run <strong><a href='https://wandb.ai/bladimir-alferez-utec-u-de-ingenier-a-tecnolog-a/random-forest/runs/uxxni5rp' target=\"_blank\">helpful-glade-18</a></strong> to <a href='https://wandb.ai/bladimir-alferez-utec-u-de-ingenier-a-tecnolog-a/random-forest' target=\"_blank\">Weights & Biases</a> (<a href='https://wandb.me/developer-guide' target=\"_blank\">docs</a>)<br/>"
      ],
      "text/plain": [
       "<IPython.core.display.HTML object>"
      ]
     },
     "metadata": {},
     "output_type": "display_data"
    },
    {
     "data": {
      "text/html": [
       " View project at <a href='https://wandb.ai/bladimir-alferez-utec-u-de-ingenier-a-tecnolog-a/random-forest' target=\"_blank\">https://wandb.ai/bladimir-alferez-utec-u-de-ingenier-a-tecnolog-a/random-forest</a>"
      ],
      "text/plain": [
       "<IPython.core.display.HTML object>"
      ]
     },
     "metadata": {},
     "output_type": "display_data"
    },
    {
     "data": {
      "text/html": [
       " View run at <a href='https://wandb.ai/bladimir-alferez-utec-u-de-ingenier-a-tecnolog-a/random-forest/runs/uxxni5rp' target=\"_blank\">https://wandb.ai/bladimir-alferez-utec-u-de-ingenier-a-tecnolog-a/random-forest/runs/uxxni5rp</a>"
      ],
      "text/plain": [
       "<IPython.core.display.HTML object>"
      ]
     },
     "metadata": {},
     "output_type": "display_data"
    },
    {
     "data": {
      "application/vnd.jupyter.widget-view+json": {
       "model_id": "a3dc3bb739ee4f67b7b6ba2dc0d2fba2",
       "version_major": 2,
       "version_minor": 0
      },
      "text/plain": [
       "VBox(children=(Label(value='0.005 MB of 0.005 MB uploaded\\r'), FloatProgress(value=1.0, max=1.0)))"
      ]
     },
     "metadata": {},
     "output_type": "display_data"
    },
    {
     "data": {
      "text/html": [
       "\n",
       "    <style>\n",
       "        .wandb-row {\n",
       "            display: flex;\n",
       "            flex-direction: row;\n",
       "            flex-wrap: wrap;\n",
       "            justify-content: flex-start;\n",
       "            width: 100%;\n",
       "        }\n",
       "        .wandb-col {\n",
       "            display: flex;\n",
       "            flex-direction: column;\n",
       "            flex-basis: 100%;\n",
       "            flex: 1;\n",
       "            padding: 10px;\n",
       "        }\n",
       "    </style>\n",
       "<div class=\"wandb-row\"><div class=\"wandb-col\"><h3>Run history:</h3><br/><table class=\"wandb\"><tr><td>execution_time</td><td>▁</td></tr><tr><td>f1_score_class_0</td><td>▁</td></tr><tr><td>f1_score_class_1</td><td>▁</td></tr><tr><td>precision_class_0</td><td>▁</td></tr><tr><td>precision_class_1</td><td>▁</td></tr><tr><td>recall_class_0</td><td>▁</td></tr><tr><td>recall_class_1</td><td>▁</td></tr><tr><td>test_accuracy</td><td>▁</td></tr></table><br/></div><div class=\"wandb-col\"><h3>Run summary:</h3><br/><table class=\"wandb\"><tr><td>execution_time</td><td>269.49814</td></tr><tr><td>f1_score_class_0</td><td>0.9198</td></tr><tr><td>f1_score_class_1</td><td>0.91743</td></tr><tr><td>precision_class_0</td><td>0.90457</td></tr><tr><td>precision_class_1</td><td>0.93362</td></tr><tr><td>recall_class_0</td><td>0.93556</td></tr><tr><td>recall_class_1</td><td>0.90179</td></tr><tr><td>test_accuracy</td><td>0.91863</td></tr></table><br/></div></div>"
      ],
      "text/plain": [
       "<IPython.core.display.HTML object>"
      ]
     },
     "metadata": {},
     "output_type": "display_data"
    },
    {
     "data": {
      "text/html": [
       " View run <strong style=\"color:#cdcd00\">helpful-glade-18</strong> at: <a href='https://wandb.ai/bladimir-alferez-utec-u-de-ingenier-a-tecnolog-a/random-forest/runs/uxxni5rp' target=\"_blank\">https://wandb.ai/bladimir-alferez-utec-u-de-ingenier-a-tecnolog-a/random-forest/runs/uxxni5rp</a><br/> View project at: <a href='https://wandb.ai/bladimir-alferez-utec-u-de-ingenier-a-tecnolog-a/random-forest' target=\"_blank\">https://wandb.ai/bladimir-alferez-utec-u-de-ingenier-a-tecnolog-a/random-forest</a><br/>Synced 5 W&B file(s), 0 media file(s), 2 artifact file(s) and 0 other file(s)"
      ],
      "text/plain": [
       "<IPython.core.display.HTML object>"
      ]
     },
     "metadata": {},
     "output_type": "display_data"
    },
    {
     "data": {
      "text/html": [
       "Find logs at: <code>./wandb/run-20241201_125700-uxxni5rp/logs</code>"
      ],
      "text/plain": [
       "<IPython.core.display.HTML object>"
      ]
     },
     "metadata": {},
     "output_type": "display_data"
    },
    {
     "data": {
      "text/html": [
       "Tracking run with wandb version 0.18.7"
      ],
      "text/plain": [
       "<IPython.core.display.HTML object>"
      ]
     },
     "metadata": {},
     "output_type": "display_data"
    },
    {
     "data": {
      "text/html": [
       "Run data is saved locally in <code>/Users/bladimiralferez/Desktop/2024-2/Big Data/Proyecto/amazon-recommender-system/wandb/run-20241201_130206-7s8j39jq</code>"
      ],
      "text/plain": [
       "<IPython.core.display.HTML object>"
      ]
     },
     "metadata": {},
     "output_type": "display_data"
    },
    {
     "data": {
      "text/html": [
       "Syncing run <strong><a href='https://wandb.ai/bladimir-alferez-utec-u-de-ingenier-a-tecnolog-a/random-forest/runs/7s8j39jq' target=\"_blank\">expert-puddle-19</a></strong> to <a href='https://wandb.ai/bladimir-alferez-utec-u-de-ingenier-a-tecnolog-a/random-forest' target=\"_blank\">Weights & Biases</a> (<a href='https://wandb.me/developer-guide' target=\"_blank\">docs</a>)<br/>"
      ],
      "text/plain": [
       "<IPython.core.display.HTML object>"
      ]
     },
     "metadata": {},
     "output_type": "display_data"
    },
    {
     "data": {
      "text/html": [
       " View project at <a href='https://wandb.ai/bladimir-alferez-utec-u-de-ingenier-a-tecnolog-a/random-forest' target=\"_blank\">https://wandb.ai/bladimir-alferez-utec-u-de-ingenier-a-tecnolog-a/random-forest</a>"
      ],
      "text/plain": [
       "<IPython.core.display.HTML object>"
      ]
     },
     "metadata": {},
     "output_type": "display_data"
    },
    {
     "data": {
      "text/html": [
       " View run at <a href='https://wandb.ai/bladimir-alferez-utec-u-de-ingenier-a-tecnolog-a/random-forest/runs/7s8j39jq' target=\"_blank\">https://wandb.ai/bladimir-alferez-utec-u-de-ingenier-a-tecnolog-a/random-forest/runs/7s8j39jq</a>"
      ],
      "text/plain": [
       "<IPython.core.display.HTML object>"
      ]
     },
     "metadata": {},
     "output_type": "display_data"
    },
    {
     "data": {
      "application/vnd.jupyter.widget-view+json": {
       "model_id": "a92881e799974675b2cb80b682a75e7c",
       "version_major": 2,
       "version_minor": 0
      },
      "text/plain": [
       "VBox(children=(Label(value='0.005 MB of 0.005 MB uploaded\\r'), FloatProgress(value=1.0, max=1.0)))"
      ]
     },
     "metadata": {},
     "output_type": "display_data"
    },
    {
     "data": {
      "text/html": [
       "\n",
       "    <style>\n",
       "        .wandb-row {\n",
       "            display: flex;\n",
       "            flex-direction: row;\n",
       "            flex-wrap: wrap;\n",
       "            justify-content: flex-start;\n",
       "            width: 100%;\n",
       "        }\n",
       "        .wandb-col {\n",
       "            display: flex;\n",
       "            flex-direction: column;\n",
       "            flex-basis: 100%;\n",
       "            flex: 1;\n",
       "            padding: 10px;\n",
       "        }\n",
       "    </style>\n",
       "<div class=\"wandb-row\"><div class=\"wandb-col\"><h3>Run history:</h3><br/><table class=\"wandb\"><tr><td>execution_time</td><td>▁</td></tr><tr><td>f1_score_class_0</td><td>▁</td></tr><tr><td>f1_score_class_1</td><td>▁</td></tr><tr><td>precision_class_0</td><td>▁</td></tr><tr><td>precision_class_1</td><td>▁</td></tr><tr><td>recall_class_0</td><td>▁</td></tr><tr><td>recall_class_1</td><td>▁</td></tr><tr><td>test_accuracy</td><td>▁</td></tr></table><br/></div><div class=\"wandb-col\"><h3>Run summary:</h3><br/><table class=\"wandb\"><tr><td>execution_time</td><td>46.85332</td></tr><tr><td>f1_score_class_0</td><td>0.79543</td></tr><tr><td>f1_score_class_1</td><td>0.82767</td></tr><tr><td>precision_class_0</td><td>0.87486</td></tr><tr><td>precision_class_1</td><td>0.76887</td></tr><tr><td>recall_class_0</td><td>0.72922</td></tr><tr><td>recall_class_1</td><td>0.89622</td></tr><tr><td>test_accuracy</td><td>0.81293</td></tr></table><br/></div></div>"
      ],
      "text/plain": [
       "<IPython.core.display.HTML object>"
      ]
     },
     "metadata": {},
     "output_type": "display_data"
    },
    {
     "data": {
      "text/html": [
       " View run <strong style=\"color:#cdcd00\">expert-puddle-19</strong> at: <a href='https://wandb.ai/bladimir-alferez-utec-u-de-ingenier-a-tecnolog-a/random-forest/runs/7s8j39jq' target=\"_blank\">https://wandb.ai/bladimir-alferez-utec-u-de-ingenier-a-tecnolog-a/random-forest/runs/7s8j39jq</a><br/> View project at: <a href='https://wandb.ai/bladimir-alferez-utec-u-de-ingenier-a-tecnolog-a/random-forest' target=\"_blank\">https://wandb.ai/bladimir-alferez-utec-u-de-ingenier-a-tecnolog-a/random-forest</a><br/>Synced 5 W&B file(s), 0 media file(s), 2 artifact file(s) and 0 other file(s)"
      ],
      "text/plain": [
       "<IPython.core.display.HTML object>"
      ]
     },
     "metadata": {},
     "output_type": "display_data"
    },
    {
     "data": {
      "text/html": [
       "Find logs at: <code>./wandb/run-20241201_130206-7s8j39jq/logs</code>"
      ],
      "text/plain": [
       "<IPython.core.display.HTML object>"
      ]
     },
     "metadata": {},
     "output_type": "display_data"
    },
    {
     "data": {
      "text/html": [
       "Tracking run with wandb version 0.18.7"
      ],
      "text/plain": [
       "<IPython.core.display.HTML object>"
      ]
     },
     "metadata": {},
     "output_type": "display_data"
    },
    {
     "data": {
      "text/html": [
       "Run data is saved locally in <code>/Users/bladimiralferez/Desktop/2024-2/Big Data/Proyecto/amazon-recommender-system/wandb/run-20241201_130302-vihki69d</code>"
      ],
      "text/plain": [
       "<IPython.core.display.HTML object>"
      ]
     },
     "metadata": {},
     "output_type": "display_data"
    },
    {
     "data": {
      "text/html": [
       "Syncing run <strong><a href='https://wandb.ai/bladimir-alferez-utec-u-de-ingenier-a-tecnolog-a/random-forest/runs/vihki69d' target=\"_blank\">ethereal-sun-20</a></strong> to <a href='https://wandb.ai/bladimir-alferez-utec-u-de-ingenier-a-tecnolog-a/random-forest' target=\"_blank\">Weights & Biases</a> (<a href='https://wandb.me/developer-guide' target=\"_blank\">docs</a>)<br/>"
      ],
      "text/plain": [
       "<IPython.core.display.HTML object>"
      ]
     },
     "metadata": {},
     "output_type": "display_data"
    },
    {
     "data": {
      "text/html": [
       " View project at <a href='https://wandb.ai/bladimir-alferez-utec-u-de-ingenier-a-tecnolog-a/random-forest' target=\"_blank\">https://wandb.ai/bladimir-alferez-utec-u-de-ingenier-a-tecnolog-a/random-forest</a>"
      ],
      "text/plain": [
       "<IPython.core.display.HTML object>"
      ]
     },
     "metadata": {},
     "output_type": "display_data"
    },
    {
     "data": {
      "text/html": [
       " View run at <a href='https://wandb.ai/bladimir-alferez-utec-u-de-ingenier-a-tecnolog-a/random-forest/runs/vihki69d' target=\"_blank\">https://wandb.ai/bladimir-alferez-utec-u-de-ingenier-a-tecnolog-a/random-forest/runs/vihki69d</a>"
      ],
      "text/plain": [
       "<IPython.core.display.HTML object>"
      ]
     },
     "metadata": {},
     "output_type": "display_data"
    },
    {
     "data": {
      "application/vnd.jupyter.widget-view+json": {
       "model_id": "4f1f4f5091d8498abd32af682e8a5759",
       "version_major": 2,
       "version_minor": 0
      },
      "text/plain": [
       "VBox(children=(Label(value='0.005 MB of 0.005 MB uploaded\\r'), FloatProgress(value=1.0, max=1.0)))"
      ]
     },
     "metadata": {},
     "output_type": "display_data"
    },
    {
     "data": {
      "text/html": [
       "\n",
       "    <style>\n",
       "        .wandb-row {\n",
       "            display: flex;\n",
       "            flex-direction: row;\n",
       "            flex-wrap: wrap;\n",
       "            justify-content: flex-start;\n",
       "            width: 100%;\n",
       "        }\n",
       "        .wandb-col {\n",
       "            display: flex;\n",
       "            flex-direction: column;\n",
       "            flex-basis: 100%;\n",
       "            flex: 1;\n",
       "            padding: 10px;\n",
       "        }\n",
       "    </style>\n",
       "<div class=\"wandb-row\"><div class=\"wandb-col\"><h3>Run history:</h3><br/><table class=\"wandb\"><tr><td>execution_time</td><td>▁</td></tr><tr><td>f1_score_class_0</td><td>▁</td></tr><tr><td>f1_score_class_1</td><td>▁</td></tr><tr><td>precision_class_0</td><td>▁</td></tr><tr><td>precision_class_1</td><td>▁</td></tr><tr><td>recall_class_0</td><td>▁</td></tr><tr><td>recall_class_1</td><td>▁</td></tr><tr><td>test_accuracy</td><td>▁</td></tr></table><br/></div><div class=\"wandb-col\"><h3>Run summary:</h3><br/><table class=\"wandb\"><tr><td>execution_time</td><td>40.3501</td></tr><tr><td>f1_score_class_0</td><td>0.79404</td></tr><tr><td>f1_score_class_1</td><td>0.82626</td></tr><tr><td>precision_class_0</td><td>0.87253</td></tr><tr><td>precision_class_1</td><td>0.76797</td></tr><tr><td>recall_class_0</td><td>0.72849</td></tr><tr><td>recall_class_1</td><td>0.89411</td></tr><tr><td>test_accuracy</td><td>0.81151</td></tr></table><br/></div></div>"
      ],
      "text/plain": [
       "<IPython.core.display.HTML object>"
      ]
     },
     "metadata": {},
     "output_type": "display_data"
    },
    {
     "data": {
      "text/html": [
       " View run <strong style=\"color:#cdcd00\">ethereal-sun-20</strong> at: <a href='https://wandb.ai/bladimir-alferez-utec-u-de-ingenier-a-tecnolog-a/random-forest/runs/vihki69d' target=\"_blank\">https://wandb.ai/bladimir-alferez-utec-u-de-ingenier-a-tecnolog-a/random-forest/runs/vihki69d</a><br/> View project at: <a href='https://wandb.ai/bladimir-alferez-utec-u-de-ingenier-a-tecnolog-a/random-forest' target=\"_blank\">https://wandb.ai/bladimir-alferez-utec-u-de-ingenier-a-tecnolog-a/random-forest</a><br/>Synced 5 W&B file(s), 0 media file(s), 2 artifact file(s) and 0 other file(s)"
      ],
      "text/plain": [
       "<IPython.core.display.HTML object>"
      ]
     },
     "metadata": {},
     "output_type": "display_data"
    },
    {
     "data": {
      "text/html": [
       "Find logs at: <code>./wandb/run-20241201_130302-vihki69d/logs</code>"
      ],
      "text/plain": [
       "<IPython.core.display.HTML object>"
      ]
     },
     "metadata": {},
     "output_type": "display_data"
    },
    {
     "data": {
      "text/html": [
       "Tracking run with wandb version 0.18.7"
      ],
      "text/plain": [
       "<IPython.core.display.HTML object>"
      ]
     },
     "metadata": {},
     "output_type": "display_data"
    },
    {
     "data": {
      "text/html": [
       "Run data is saved locally in <code>/Users/bladimiralferez/Desktop/2024-2/Big Data/Proyecto/amazon-recommender-system/wandb/run-20241201_130351-67p50su3</code>"
      ],
      "text/plain": [
       "<IPython.core.display.HTML object>"
      ]
     },
     "metadata": {},
     "output_type": "display_data"
    },
    {
     "data": {
      "text/html": [
       "Syncing run <strong><a href='https://wandb.ai/bladimir-alferez-utec-u-de-ingenier-a-tecnolog-a/random-forest/runs/67p50su3' target=\"_blank\">effortless-music-21</a></strong> to <a href='https://wandb.ai/bladimir-alferez-utec-u-de-ingenier-a-tecnolog-a/random-forest' target=\"_blank\">Weights & Biases</a> (<a href='https://wandb.me/developer-guide' target=\"_blank\">docs</a>)<br/>"
      ],
      "text/plain": [
       "<IPython.core.display.HTML object>"
      ]
     },
     "metadata": {},
     "output_type": "display_data"
    },
    {
     "data": {
      "text/html": [
       " View project at <a href='https://wandb.ai/bladimir-alferez-utec-u-de-ingenier-a-tecnolog-a/random-forest' target=\"_blank\">https://wandb.ai/bladimir-alferez-utec-u-de-ingenier-a-tecnolog-a/random-forest</a>"
      ],
      "text/plain": [
       "<IPython.core.display.HTML object>"
      ]
     },
     "metadata": {},
     "output_type": "display_data"
    },
    {
     "data": {
      "text/html": [
       " View run at <a href='https://wandb.ai/bladimir-alferez-utec-u-de-ingenier-a-tecnolog-a/random-forest/runs/67p50su3' target=\"_blank\">https://wandb.ai/bladimir-alferez-utec-u-de-ingenier-a-tecnolog-a/random-forest/runs/67p50su3</a>"
      ],
      "text/plain": [
       "<IPython.core.display.HTML object>"
      ]
     },
     "metadata": {},
     "output_type": "display_data"
    },
    {
     "data": {
      "application/vnd.jupyter.widget-view+json": {
       "model_id": "d6759d4357104f89896a20960d8eace5",
       "version_major": 2,
       "version_minor": 0
      },
      "text/plain": [
       "VBox(children=(Label(value='0.224 MB of 3.359 MB uploaded\\r'), FloatProgress(value=0.06664276134310441, max=1.…"
      ]
     },
     "metadata": {},
     "output_type": "display_data"
    },
    {
     "data": {
      "text/html": [
       "\n",
       "    <style>\n",
       "        .wandb-row {\n",
       "            display: flex;\n",
       "            flex-direction: row;\n",
       "            flex-wrap: wrap;\n",
       "            justify-content: flex-start;\n",
       "            width: 100%;\n",
       "        }\n",
       "        .wandb-col {\n",
       "            display: flex;\n",
       "            flex-direction: column;\n",
       "            flex-basis: 100%;\n",
       "            flex: 1;\n",
       "            padding: 10px;\n",
       "        }\n",
       "    </style>\n",
       "<div class=\"wandb-row\"><div class=\"wandb-col\"><h3>Run history:</h3><br/><table class=\"wandb\"><tr><td>execution_time</td><td>▁</td></tr><tr><td>f1_score_class_0</td><td>▁</td></tr><tr><td>f1_score_class_1</td><td>▁</td></tr><tr><td>precision_class_0</td><td>▁</td></tr><tr><td>precision_class_1</td><td>▁</td></tr><tr><td>recall_class_0</td><td>▁</td></tr><tr><td>recall_class_1</td><td>▁</td></tr><tr><td>test_accuracy</td><td>▁</td></tr></table><br/></div><div class=\"wandb-col\"><h3>Run summary:</h3><br/><table class=\"wandb\"><tr><td>execution_time</td><td>40.31953</td></tr><tr><td>f1_score_class_0</td><td>0.79406</td></tr><tr><td>f1_score_class_1</td><td>0.82591</td></tr><tr><td>precision_class_0</td><td>0.87137</td></tr><tr><td>precision_class_1</td><td>0.76828</td></tr><tr><td>recall_class_0</td><td>0.72934</td></tr><tr><td>recall_class_1</td><td>0.89288</td></tr><tr><td>test_accuracy</td><td>0.81132</td></tr></table><br/></div></div>"
      ],
      "text/plain": [
       "<IPython.core.display.HTML object>"
      ]
     },
     "metadata": {},
     "output_type": "display_data"
    },
    {
     "data": {
      "text/html": [
       " View run <strong style=\"color:#cdcd00\">effortless-music-21</strong> at: <a href='https://wandb.ai/bladimir-alferez-utec-u-de-ingenier-a-tecnolog-a/random-forest/runs/67p50su3' target=\"_blank\">https://wandb.ai/bladimir-alferez-utec-u-de-ingenier-a-tecnolog-a/random-forest/runs/67p50su3</a><br/> View project at: <a href='https://wandb.ai/bladimir-alferez-utec-u-de-ingenier-a-tecnolog-a/random-forest' target=\"_blank\">https://wandb.ai/bladimir-alferez-utec-u-de-ingenier-a-tecnolog-a/random-forest</a><br/>Synced 5 W&B file(s), 0 media file(s), 2 artifact file(s) and 0 other file(s)"
      ],
      "text/plain": [
       "<IPython.core.display.HTML object>"
      ]
     },
     "metadata": {},
     "output_type": "display_data"
    },
    {
     "data": {
      "text/html": [
       "Find logs at: <code>./wandb/run-20241201_130351-67p50su3/logs</code>"
      ],
      "text/plain": [
       "<IPython.core.display.HTML object>"
      ]
     },
     "metadata": {},
     "output_type": "display_data"
    },
    {
     "data": {
      "text/html": [
       "Tracking run with wandb version 0.18.7"
      ],
      "text/plain": [
       "<IPython.core.display.HTML object>"
      ]
     },
     "metadata": {},
     "output_type": "display_data"
    },
    {
     "data": {
      "text/html": [
       "Run data is saved locally in <code>/Users/bladimiralferez/Desktop/2024-2/Big Data/Proyecto/amazon-recommender-system/wandb/run-20241201_130441-3bm8y86f</code>"
      ],
      "text/plain": [
       "<IPython.core.display.HTML object>"
      ]
     },
     "metadata": {},
     "output_type": "display_data"
    },
    {
     "data": {
      "text/html": [
       "Syncing run <strong><a href='https://wandb.ai/bladimir-alferez-utec-u-de-ingenier-a-tecnolog-a/random-forest/runs/3bm8y86f' target=\"_blank\">magic-silence-22</a></strong> to <a href='https://wandb.ai/bladimir-alferez-utec-u-de-ingenier-a-tecnolog-a/random-forest' target=\"_blank\">Weights & Biases</a> (<a href='https://wandb.me/developer-guide' target=\"_blank\">docs</a>)<br/>"
      ],
      "text/plain": [
       "<IPython.core.display.HTML object>"
      ]
     },
     "metadata": {},
     "output_type": "display_data"
    },
    {
     "data": {
      "text/html": [
       " View project at <a href='https://wandb.ai/bladimir-alferez-utec-u-de-ingenier-a-tecnolog-a/random-forest' target=\"_blank\">https://wandb.ai/bladimir-alferez-utec-u-de-ingenier-a-tecnolog-a/random-forest</a>"
      ],
      "text/plain": [
       "<IPython.core.display.HTML object>"
      ]
     },
     "metadata": {},
     "output_type": "display_data"
    },
    {
     "data": {
      "text/html": [
       " View run at <a href='https://wandb.ai/bladimir-alferez-utec-u-de-ingenier-a-tecnolog-a/random-forest/runs/3bm8y86f' target=\"_blank\">https://wandb.ai/bladimir-alferez-utec-u-de-ingenier-a-tecnolog-a/random-forest/runs/3bm8y86f</a>"
      ],
      "text/plain": [
       "<IPython.core.display.HTML object>"
      ]
     },
     "metadata": {},
     "output_type": "display_data"
    },
    {
     "data": {
      "application/vnd.jupyter.widget-view+json": {
       "model_id": "8bd8fc43df9a4c3681b333f3d9c04aba",
       "version_major": 2,
       "version_minor": 0
      },
      "text/plain": [
       "VBox(children=(Label(value='0.130 MB of 23.866 MB uploaded\\r'), FloatProgress(value=0.005451609730948347, max=…"
      ]
     },
     "metadata": {},
     "output_type": "display_data"
    },
    {
     "data": {
      "text/html": [
       "\n",
       "    <style>\n",
       "        .wandb-row {\n",
       "            display: flex;\n",
       "            flex-direction: row;\n",
       "            flex-wrap: wrap;\n",
       "            justify-content: flex-start;\n",
       "            width: 100%;\n",
       "        }\n",
       "        .wandb-col {\n",
       "            display: flex;\n",
       "            flex-direction: column;\n",
       "            flex-basis: 100%;\n",
       "            flex: 1;\n",
       "            padding: 10px;\n",
       "        }\n",
       "    </style>\n",
       "<div class=\"wandb-row\"><div class=\"wandb-col\"><h3>Run history:</h3><br/><table class=\"wandb\"><tr><td>execution_time</td><td>▁</td></tr><tr><td>f1_score_class_0</td><td>▁</td></tr><tr><td>f1_score_class_1</td><td>▁</td></tr><tr><td>precision_class_0</td><td>▁</td></tr><tr><td>precision_class_1</td><td>▁</td></tr><tr><td>recall_class_0</td><td>▁</td></tr><tr><td>recall_class_1</td><td>▁</td></tr><tr><td>test_accuracy</td><td>▁</td></tr></table><br/></div><div class=\"wandb-col\"><h3>Run summary:</h3><br/><table class=\"wandb\"><tr><td>execution_time</td><td>89.17077</td></tr><tr><td>f1_score_class_0</td><td>0.82864</td></tr><tr><td>f1_score_class_1</td><td>0.84775</td></tr><tr><td>precision_class_0</td><td>0.88161</td></tr><tr><td>precision_class_1</td><td>0.80479</td></tr><tr><td>recall_class_0</td><td>0.78168</td></tr><tr><td>recall_class_1</td><td>0.89556</td></tr><tr><td>test_accuracy</td><td>0.83876</td></tr></table><br/></div></div>"
      ],
      "text/plain": [
       "<IPython.core.display.HTML object>"
      ]
     },
     "metadata": {},
     "output_type": "display_data"
    },
    {
     "data": {
      "text/html": [
       " View run <strong style=\"color:#cdcd00\">magic-silence-22</strong> at: <a href='https://wandb.ai/bladimir-alferez-utec-u-de-ingenier-a-tecnolog-a/random-forest/runs/3bm8y86f' target=\"_blank\">https://wandb.ai/bladimir-alferez-utec-u-de-ingenier-a-tecnolog-a/random-forest/runs/3bm8y86f</a><br/> View project at: <a href='https://wandb.ai/bladimir-alferez-utec-u-de-ingenier-a-tecnolog-a/random-forest' target=\"_blank\">https://wandb.ai/bladimir-alferez-utec-u-de-ingenier-a-tecnolog-a/random-forest</a><br/>Synced 5 W&B file(s), 0 media file(s), 2 artifact file(s) and 0 other file(s)"
      ],
      "text/plain": [
       "<IPython.core.display.HTML object>"
      ]
     },
     "metadata": {},
     "output_type": "display_data"
    },
    {
     "data": {
      "text/html": [
       "Find logs at: <code>./wandb/run-20241201_130441-3bm8y86f/logs</code>"
      ],
      "text/plain": [
       "<IPython.core.display.HTML object>"
      ]
     },
     "metadata": {},
     "output_type": "display_data"
    },
    {
     "data": {
      "text/html": [
       "Tracking run with wandb version 0.18.7"
      ],
      "text/plain": [
       "<IPython.core.display.HTML object>"
      ]
     },
     "metadata": {},
     "output_type": "display_data"
    },
    {
     "data": {
      "text/html": [
       "Run data is saved locally in <code>/Users/bladimiralferez/Desktop/2024-2/Big Data/Proyecto/amazon-recommender-system/wandb/run-20241201_130653-ydi5877o</code>"
      ],
      "text/plain": [
       "<IPython.core.display.HTML object>"
      ]
     },
     "metadata": {},
     "output_type": "display_data"
    },
    {
     "data": {
      "text/html": [
       "Syncing run <strong><a href='https://wandb.ai/bladimir-alferez-utec-u-de-ingenier-a-tecnolog-a/random-forest/runs/ydi5877o' target=\"_blank\">balmy-bird-23</a></strong> to <a href='https://wandb.ai/bladimir-alferez-utec-u-de-ingenier-a-tecnolog-a/random-forest' target=\"_blank\">Weights & Biases</a> (<a href='https://wandb.me/developer-guide' target=\"_blank\">docs</a>)<br/>"
      ],
      "text/plain": [
       "<IPython.core.display.HTML object>"
      ]
     },
     "metadata": {},
     "output_type": "display_data"
    },
    {
     "data": {
      "text/html": [
       " View project at <a href='https://wandb.ai/bladimir-alferez-utec-u-de-ingenier-a-tecnolog-a/random-forest' target=\"_blank\">https://wandb.ai/bladimir-alferez-utec-u-de-ingenier-a-tecnolog-a/random-forest</a>"
      ],
      "text/plain": [
       "<IPython.core.display.HTML object>"
      ]
     },
     "metadata": {},
     "output_type": "display_data"
    },
    {
     "data": {
      "text/html": [
       " View run at <a href='https://wandb.ai/bladimir-alferez-utec-u-de-ingenier-a-tecnolog-a/random-forest/runs/ydi5877o' target=\"_blank\">https://wandb.ai/bladimir-alferez-utec-u-de-ingenier-a-tecnolog-a/random-forest/runs/ydi5877o</a>"
      ],
      "text/plain": [
       "<IPython.core.display.HTML object>"
      ]
     },
     "metadata": {},
     "output_type": "display_data"
    },
    {
     "data": {
      "application/vnd.jupyter.widget-view+json": {
       "model_id": "c459ae8ee00446df86f6bc8855043e6b",
       "version_major": 2,
       "version_minor": 0
      },
      "text/plain": [
       "VBox(children=(Label(value='0.005 MB of 0.005 MB uploaded\\r'), FloatProgress(value=1.0, max=1.0)))"
      ]
     },
     "metadata": {},
     "output_type": "display_data"
    },
    {
     "data": {
      "text/html": [
       "\n",
       "    <style>\n",
       "        .wandb-row {\n",
       "            display: flex;\n",
       "            flex-direction: row;\n",
       "            flex-wrap: wrap;\n",
       "            justify-content: flex-start;\n",
       "            width: 100%;\n",
       "        }\n",
       "        .wandb-col {\n",
       "            display: flex;\n",
       "            flex-direction: column;\n",
       "            flex-basis: 100%;\n",
       "            flex: 1;\n",
       "            padding: 10px;\n",
       "        }\n",
       "    </style>\n",
       "<div class=\"wandb-row\"><div class=\"wandb-col\"><h3>Run history:</h3><br/><table class=\"wandb\"><tr><td>execution_time</td><td>▁</td></tr><tr><td>f1_score_class_0</td><td>▁</td></tr><tr><td>f1_score_class_1</td><td>▁</td></tr><tr><td>precision_class_0</td><td>▁</td></tr><tr><td>precision_class_1</td><td>▁</td></tr><tr><td>recall_class_0</td><td>▁</td></tr><tr><td>recall_class_1</td><td>▁</td></tr><tr><td>test_accuracy</td><td>▁</td></tr></table><br/></div><div class=\"wandb-col\"><h3>Run summary:</h3><br/><table class=\"wandb\"><tr><td>execution_time</td><td>90.73299</td></tr><tr><td>f1_score_class_0</td><td>0.82681</td></tr><tr><td>f1_score_class_1</td><td>0.8468</td></tr><tr><td>precision_class_0</td><td>0.88198</td></tr><tr><td>precision_class_1</td><td>0.8024</td></tr><tr><td>recall_class_0</td><td>0.77813</td></tr><tr><td>recall_class_1</td><td>0.8964</td></tr><tr><td>test_accuracy</td><td>0.83742</td></tr></table><br/></div></div>"
      ],
      "text/plain": [
       "<IPython.core.display.HTML object>"
      ]
     },
     "metadata": {},
     "output_type": "display_data"
    },
    {
     "data": {
      "text/html": [
       " View run <strong style=\"color:#cdcd00\">balmy-bird-23</strong> at: <a href='https://wandb.ai/bladimir-alferez-utec-u-de-ingenier-a-tecnolog-a/random-forest/runs/ydi5877o' target=\"_blank\">https://wandb.ai/bladimir-alferez-utec-u-de-ingenier-a-tecnolog-a/random-forest/runs/ydi5877o</a><br/> View project at: <a href='https://wandb.ai/bladimir-alferez-utec-u-de-ingenier-a-tecnolog-a/random-forest' target=\"_blank\">https://wandb.ai/bladimir-alferez-utec-u-de-ingenier-a-tecnolog-a/random-forest</a><br/>Synced 5 W&B file(s), 0 media file(s), 2 artifact file(s) and 0 other file(s)"
      ],
      "text/plain": [
       "<IPython.core.display.HTML object>"
      ]
     },
     "metadata": {},
     "output_type": "display_data"
    },
    {
     "data": {
      "text/html": [
       "Find logs at: <code>./wandb/run-20241201_130653-ydi5877o/logs</code>"
      ],
      "text/plain": [
       "<IPython.core.display.HTML object>"
      ]
     },
     "metadata": {},
     "output_type": "display_data"
    },
    {
     "data": {
      "text/html": [
       "Tracking run with wandb version 0.18.7"
      ],
      "text/plain": [
       "<IPython.core.display.HTML object>"
      ]
     },
     "metadata": {},
     "output_type": "display_data"
    },
    {
     "data": {
      "text/html": [
       "Run data is saved locally in <code>/Users/bladimiralferez/Desktop/2024-2/Big Data/Proyecto/amazon-recommender-system/wandb/run-20241201_130904-ukmloe92</code>"
      ],
      "text/plain": [
       "<IPython.core.display.HTML object>"
      ]
     },
     "metadata": {},
     "output_type": "display_data"
    },
    {
     "data": {
      "text/html": [
       "Syncing run <strong><a href='https://wandb.ai/bladimir-alferez-utec-u-de-ingenier-a-tecnolog-a/random-forest/runs/ukmloe92' target=\"_blank\">wild-plasma-24</a></strong> to <a href='https://wandb.ai/bladimir-alferez-utec-u-de-ingenier-a-tecnolog-a/random-forest' target=\"_blank\">Weights & Biases</a> (<a href='https://wandb.me/developer-guide' target=\"_blank\">docs</a>)<br/>"
      ],
      "text/plain": [
       "<IPython.core.display.HTML object>"
      ]
     },
     "metadata": {},
     "output_type": "display_data"
    },
    {
     "data": {
      "text/html": [
       " View project at <a href='https://wandb.ai/bladimir-alferez-utec-u-de-ingenier-a-tecnolog-a/random-forest' target=\"_blank\">https://wandb.ai/bladimir-alferez-utec-u-de-ingenier-a-tecnolog-a/random-forest</a>"
      ],
      "text/plain": [
       "<IPython.core.display.HTML object>"
      ]
     },
     "metadata": {},
     "output_type": "display_data"
    },
    {
     "data": {
      "text/html": [
       " View run at <a href='https://wandb.ai/bladimir-alferez-utec-u-de-ingenier-a-tecnolog-a/random-forest/runs/ukmloe92' target=\"_blank\">https://wandb.ai/bladimir-alferez-utec-u-de-ingenier-a-tecnolog-a/random-forest/runs/ukmloe92</a>"
      ],
      "text/plain": [
       "<IPython.core.display.HTML object>"
      ]
     },
     "metadata": {},
     "output_type": "display_data"
    },
    {
     "data": {
      "application/vnd.jupyter.widget-view+json": {
       "model_id": "3e23e57f03514f0180148f2d77a2881e",
       "version_major": 2,
       "version_minor": 0
      },
      "text/plain": [
       "VBox(children=(Label(value='0.130 MB of 18.984 MB uploaded\\r'), FloatProgress(value=0.00685379818123918, max=1…"
      ]
     },
     "metadata": {},
     "output_type": "display_data"
    },
    {
     "data": {
      "text/html": [
       "\n",
       "    <style>\n",
       "        .wandb-row {\n",
       "            display: flex;\n",
       "            flex-direction: row;\n",
       "            flex-wrap: wrap;\n",
       "            justify-content: flex-start;\n",
       "            width: 100%;\n",
       "        }\n",
       "        .wandb-col {\n",
       "            display: flex;\n",
       "            flex-direction: column;\n",
       "            flex-basis: 100%;\n",
       "            flex: 1;\n",
       "            padding: 10px;\n",
       "        }\n",
       "    </style>\n",
       "<div class=\"wandb-row\"><div class=\"wandb-col\"><h3>Run history:</h3><br/><table class=\"wandb\"><tr><td>execution_time</td><td>▁</td></tr><tr><td>f1_score_class_0</td><td>▁</td></tr><tr><td>f1_score_class_1</td><td>▁</td></tr><tr><td>precision_class_0</td><td>▁</td></tr><tr><td>precision_class_1</td><td>▁</td></tr><tr><td>recall_class_0</td><td>▁</td></tr><tr><td>recall_class_1</td><td>▁</td></tr><tr><td>test_accuracy</td><td>▁</td></tr></table><br/></div><div class=\"wandb-col\"><h3>Run summary:</h3><br/><table class=\"wandb\"><tr><td>execution_time</td><td>101.11426</td></tr><tr><td>f1_score_class_0</td><td>0.82619</td></tr><tr><td>f1_score_class_1</td><td>0.8464</td></tr><tr><td>precision_class_0</td><td>0.88185</td></tr><tr><td>precision_class_1</td><td>0.80169</td></tr><tr><td>recall_class_0</td><td>0.77714</td></tr><tr><td>recall_class_1</td><td>0.8964</td></tr><tr><td>test_accuracy</td><td>0.83692</td></tr></table><br/></div></div>"
      ],
      "text/plain": [
       "<IPython.core.display.HTML object>"
      ]
     },
     "metadata": {},
     "output_type": "display_data"
    },
    {
     "data": {
      "text/html": [
       " View run <strong style=\"color:#cdcd00\">wild-plasma-24</strong> at: <a href='https://wandb.ai/bladimir-alferez-utec-u-de-ingenier-a-tecnolog-a/random-forest/runs/ukmloe92' target=\"_blank\">https://wandb.ai/bladimir-alferez-utec-u-de-ingenier-a-tecnolog-a/random-forest/runs/ukmloe92</a><br/> View project at: <a href='https://wandb.ai/bladimir-alferez-utec-u-de-ingenier-a-tecnolog-a/random-forest' target=\"_blank\">https://wandb.ai/bladimir-alferez-utec-u-de-ingenier-a-tecnolog-a/random-forest</a><br/>Synced 5 W&B file(s), 0 media file(s), 2 artifact file(s) and 0 other file(s)"
      ],
      "text/plain": [
       "<IPython.core.display.HTML object>"
      ]
     },
     "metadata": {},
     "output_type": "display_data"
    },
    {
     "data": {
      "text/html": [
       "Find logs at: <code>./wandb/run-20241201_130904-ukmloe92/logs</code>"
      ],
      "text/plain": [
       "<IPython.core.display.HTML object>"
      ]
     },
     "metadata": {},
     "output_type": "display_data"
    },
    {
     "data": {
      "text/html": [
       "Tracking run with wandb version 0.18.7"
      ],
      "text/plain": [
       "<IPython.core.display.HTML object>"
      ]
     },
     "metadata": {},
     "output_type": "display_data"
    },
    {
     "data": {
      "text/html": [
       "Run data is saved locally in <code>/Users/bladimiralferez/Desktop/2024-2/Big Data/Proyecto/amazon-recommender-system/wandb/run-20241201_131059-dqll817b</code>"
      ],
      "text/plain": [
       "<IPython.core.display.HTML object>"
      ]
     },
     "metadata": {},
     "output_type": "display_data"
    },
    {
     "data": {
      "text/html": [
       "Syncing run <strong><a href='https://wandb.ai/bladimir-alferez-utec-u-de-ingenier-a-tecnolog-a/random-forest/runs/dqll817b' target=\"_blank\">fresh-wind-25</a></strong> to <a href='https://wandb.ai/bladimir-alferez-utec-u-de-ingenier-a-tecnolog-a/random-forest' target=\"_blank\">Weights & Biases</a> (<a href='https://wandb.me/developer-guide' target=\"_blank\">docs</a>)<br/>"
      ],
      "text/plain": [
       "<IPython.core.display.HTML object>"
      ]
     },
     "metadata": {},
     "output_type": "display_data"
    },
    {
     "data": {
      "text/html": [
       " View project at <a href='https://wandb.ai/bladimir-alferez-utec-u-de-ingenier-a-tecnolog-a/random-forest' target=\"_blank\">https://wandb.ai/bladimir-alferez-utec-u-de-ingenier-a-tecnolog-a/random-forest</a>"
      ],
      "text/plain": [
       "<IPython.core.display.HTML object>"
      ]
     },
     "metadata": {},
     "output_type": "display_data"
    },
    {
     "data": {
      "text/html": [
       " View run at <a href='https://wandb.ai/bladimir-alferez-utec-u-de-ingenier-a-tecnolog-a/random-forest/runs/dqll817b' target=\"_blank\">https://wandb.ai/bladimir-alferez-utec-u-de-ingenier-a-tecnolog-a/random-forest/runs/dqll817b</a>"
      ],
      "text/plain": [
       "<IPython.core.display.HTML object>"
      ]
     },
     "metadata": {},
     "output_type": "display_data"
    },
    {
     "data": {
      "application/vnd.jupyter.widget-view+json": {
       "model_id": "201c18f3e7b743b5805a58191203ea19",
       "version_major": 2,
       "version_minor": 0
      },
      "text/plain": [
       "VBox(children=(Label(value='0.005 MB of 0.005 MB uploaded\\r'), FloatProgress(value=1.0, max=1.0)))"
      ]
     },
     "metadata": {},
     "output_type": "display_data"
    },
    {
     "data": {
      "text/html": [
       "\n",
       "    <style>\n",
       "        .wandb-row {\n",
       "            display: flex;\n",
       "            flex-direction: row;\n",
       "            flex-wrap: wrap;\n",
       "            justify-content: flex-start;\n",
       "            width: 100%;\n",
       "        }\n",
       "        .wandb-col {\n",
       "            display: flex;\n",
       "            flex-direction: column;\n",
       "            flex-basis: 100%;\n",
       "            flex: 1;\n",
       "            padding: 10px;\n",
       "        }\n",
       "    </style>\n",
       "<div class=\"wandb-row\"><div class=\"wandb-col\"><h3>Run history:</h3><br/><table class=\"wandb\"><tr><td>execution_time</td><td>▁</td></tr><tr><td>f1_score_class_0</td><td>▁</td></tr><tr><td>f1_score_class_1</td><td>▁</td></tr><tr><td>precision_class_0</td><td>▁</td></tr><tr><td>precision_class_1</td><td>▁</td></tr><tr><td>recall_class_0</td><td>▁</td></tr><tr><td>recall_class_1</td><td>▁</td></tr><tr><td>test_accuracy</td><td>▁</td></tr></table><br/></div><div class=\"wandb-col\"><h3>Run summary:</h3><br/><table class=\"wandb\"><tr><td>execution_time</td><td>661.50594</td></tr><tr><td>f1_score_class_0</td><td>0.92502</td></tr><tr><td>f1_score_class_1</td><td>0.92257</td></tr><tr><td>precision_class_0</td><td>0.9084</td></tr><tr><td>precision_class_1</td><td>0.94033</td></tr><tr><td>recall_class_0</td><td>0.94225</td></tr><tr><td>recall_class_1</td><td>0.90547</td></tr><tr><td>test_accuracy</td><td>0.92381</td></tr></table><br/></div></div>"
      ],
      "text/plain": [
       "<IPython.core.display.HTML object>"
      ]
     },
     "metadata": {},
     "output_type": "display_data"
    },
    {
     "data": {
      "text/html": [
       " View run <strong style=\"color:#cdcd00\">fresh-wind-25</strong> at: <a href='https://wandb.ai/bladimir-alferez-utec-u-de-ingenier-a-tecnolog-a/random-forest/runs/dqll817b' target=\"_blank\">https://wandb.ai/bladimir-alferez-utec-u-de-ingenier-a-tecnolog-a/random-forest/runs/dqll817b</a><br/> View project at: <a href='https://wandb.ai/bladimir-alferez-utec-u-de-ingenier-a-tecnolog-a/random-forest' target=\"_blank\">https://wandb.ai/bladimir-alferez-utec-u-de-ingenier-a-tecnolog-a/random-forest</a><br/>Synced 5 W&B file(s), 0 media file(s), 2 artifact file(s) and 0 other file(s)"
      ],
      "text/plain": [
       "<IPython.core.display.HTML object>"
      ]
     },
     "metadata": {},
     "output_type": "display_data"
    },
    {
     "data": {
      "text/html": [
       "Find logs at: <code>./wandb/run-20241201_131059-dqll817b/logs</code>"
      ],
      "text/plain": [
       "<IPython.core.display.HTML object>"
      ]
     },
     "metadata": {},
     "output_type": "display_data"
    },
    {
     "data": {
      "text/html": [
       "Tracking run with wandb version 0.18.7"
      ],
      "text/plain": [
       "<IPython.core.display.HTML object>"
      ]
     },
     "metadata": {},
     "output_type": "display_data"
    },
    {
     "data": {
      "text/html": [
       "Run data is saved locally in <code>/Users/bladimiralferez/Desktop/2024-2/Big Data/Proyecto/amazon-recommender-system/wandb/run-20241201_132308-x1tr3bm2</code>"
      ],
      "text/plain": [
       "<IPython.core.display.HTML object>"
      ]
     },
     "metadata": {},
     "output_type": "display_data"
    },
    {
     "data": {
      "text/html": [
       "Syncing run <strong><a href='https://wandb.ai/bladimir-alferez-utec-u-de-ingenier-a-tecnolog-a/random-forest/runs/x1tr3bm2' target=\"_blank\">soft-puddle-26</a></strong> to <a href='https://wandb.ai/bladimir-alferez-utec-u-de-ingenier-a-tecnolog-a/random-forest' target=\"_blank\">Weights & Biases</a> (<a href='https://wandb.me/developer-guide' target=\"_blank\">docs</a>)<br/>"
      ],
      "text/plain": [
       "<IPython.core.display.HTML object>"
      ]
     },
     "metadata": {},
     "output_type": "display_data"
    },
    {
     "data": {
      "text/html": [
       " View project at <a href='https://wandb.ai/bladimir-alferez-utec-u-de-ingenier-a-tecnolog-a/random-forest' target=\"_blank\">https://wandb.ai/bladimir-alferez-utec-u-de-ingenier-a-tecnolog-a/random-forest</a>"
      ],
      "text/plain": [
       "<IPython.core.display.HTML object>"
      ]
     },
     "metadata": {},
     "output_type": "display_data"
    },
    {
     "data": {
      "text/html": [
       " View run at <a href='https://wandb.ai/bladimir-alferez-utec-u-de-ingenier-a-tecnolog-a/random-forest/runs/x1tr3bm2' target=\"_blank\">https://wandb.ai/bladimir-alferez-utec-u-de-ingenier-a-tecnolog-a/random-forest/runs/x1tr3bm2</a>"
      ],
      "text/plain": [
       "<IPython.core.display.HTML object>"
      ]
     },
     "metadata": {},
     "output_type": "display_data"
    },
    {
     "data": {
      "application/vnd.jupyter.widget-view+json": {
       "model_id": "2bc31b1f59194598bbc7befd8fef6638",
       "version_major": 2,
       "version_minor": 0
      },
      "text/plain": [
       "VBox(children=(Label(value='0.724 MB of 749.448 MB uploaded\\r'), FloatProgress(value=0.0009658567558801166, ma…"
      ]
     },
     "metadata": {},
     "output_type": "display_data"
    },
    {
     "data": {
      "text/html": [
       "\n",
       "    <style>\n",
       "        .wandb-row {\n",
       "            display: flex;\n",
       "            flex-direction: row;\n",
       "            flex-wrap: wrap;\n",
       "            justify-content: flex-start;\n",
       "            width: 100%;\n",
       "        }\n",
       "        .wandb-col {\n",
       "            display: flex;\n",
       "            flex-direction: column;\n",
       "            flex-basis: 100%;\n",
       "            flex: 1;\n",
       "            padding: 10px;\n",
       "        }\n",
       "    </style>\n",
       "<div class=\"wandb-row\"><div class=\"wandb-col\"><h3>Run history:</h3><br/><table class=\"wandb\"><tr><td>execution_time</td><td>▁</td></tr><tr><td>f1_score_class_0</td><td>▁</td></tr><tr><td>f1_score_class_1</td><td>▁</td></tr><tr><td>precision_class_0</td><td>▁</td></tr><tr><td>precision_class_1</td><td>▁</td></tr><tr><td>recall_class_0</td><td>▁</td></tr><tr><td>recall_class_1</td><td>▁</td></tr><tr><td>test_accuracy</td><td>▁</td></tr></table><br/></div><div class=\"wandb-col\"><h3>Run summary:</h3><br/><table class=\"wandb\"><tr><td>execution_time</td><td>655.68998</td></tr><tr><td>f1_score_class_0</td><td>0.92323</td></tr><tr><td>f1_score_class_1</td><td>0.92098</td></tr><tr><td>precision_class_0</td><td>0.90808</td></tr><tr><td>precision_class_1</td><td>0.93707</td></tr><tr><td>recall_class_0</td><td>0.93889</td></tr><tr><td>recall_class_1</td><td>0.90544</td></tr><tr><td>test_accuracy</td><td>0.92212</td></tr></table><br/></div></div>"
      ],
      "text/plain": [
       "<IPython.core.display.HTML object>"
      ]
     },
     "metadata": {},
     "output_type": "display_data"
    },
    {
     "data": {
      "text/html": [
       " View run <strong style=\"color:#cdcd00\">soft-puddle-26</strong> at: <a href='https://wandb.ai/bladimir-alferez-utec-u-de-ingenier-a-tecnolog-a/random-forest/runs/x1tr3bm2' target=\"_blank\">https://wandb.ai/bladimir-alferez-utec-u-de-ingenier-a-tecnolog-a/random-forest/runs/x1tr3bm2</a><br/> View project at: <a href='https://wandb.ai/bladimir-alferez-utec-u-de-ingenier-a-tecnolog-a/random-forest' target=\"_blank\">https://wandb.ai/bladimir-alferez-utec-u-de-ingenier-a-tecnolog-a/random-forest</a><br/>Synced 5 W&B file(s), 0 media file(s), 2 artifact file(s) and 0 other file(s)"
      ],
      "text/plain": [
       "<IPython.core.display.HTML object>"
      ]
     },
     "metadata": {},
     "output_type": "display_data"
    },
    {
     "data": {
      "text/html": [
       "Find logs at: <code>./wandb/run-20241201_132308-x1tr3bm2/logs</code>"
      ],
      "text/plain": [
       "<IPython.core.display.HTML object>"
      ]
     },
     "metadata": {},
     "output_type": "display_data"
    },
    {
     "data": {
      "text/html": [
       "Tracking run with wandb version 0.18.7"
      ],
      "text/plain": [
       "<IPython.core.display.HTML object>"
      ]
     },
     "metadata": {},
     "output_type": "display_data"
    },
    {
     "data": {
      "text/html": [
       "Run data is saved locally in <code>/Users/bladimiralferez/Desktop/2024-2/Big Data/Proyecto/amazon-recommender-system/wandb/run-20241201_133517-gvlgc30h</code>"
      ],
      "text/plain": [
       "<IPython.core.display.HTML object>"
      ]
     },
     "metadata": {},
     "output_type": "display_data"
    },
    {
     "data": {
      "text/html": [
       "Syncing run <strong><a href='https://wandb.ai/bladimir-alferez-utec-u-de-ingenier-a-tecnolog-a/random-forest/runs/gvlgc30h' target=\"_blank\">rare-dream-27</a></strong> to <a href='https://wandb.ai/bladimir-alferez-utec-u-de-ingenier-a-tecnolog-a/random-forest' target=\"_blank\">Weights & Biases</a> (<a href='https://wandb.me/developer-guide' target=\"_blank\">docs</a>)<br/>"
      ],
      "text/plain": [
       "<IPython.core.display.HTML object>"
      ]
     },
     "metadata": {},
     "output_type": "display_data"
    },
    {
     "data": {
      "text/html": [
       " View project at <a href='https://wandb.ai/bladimir-alferez-utec-u-de-ingenier-a-tecnolog-a/random-forest' target=\"_blank\">https://wandb.ai/bladimir-alferez-utec-u-de-ingenier-a-tecnolog-a/random-forest</a>"
      ],
      "text/plain": [
       "<IPython.core.display.HTML object>"
      ]
     },
     "metadata": {},
     "output_type": "display_data"
    },
    {
     "data": {
      "text/html": [
       " View run at <a href='https://wandb.ai/bladimir-alferez-utec-u-de-ingenier-a-tecnolog-a/random-forest/runs/gvlgc30h' target=\"_blank\">https://wandb.ai/bladimir-alferez-utec-u-de-ingenier-a-tecnolog-a/random-forest/runs/gvlgc30h</a>"
      ],
      "text/plain": [
       "<IPython.core.display.HTML object>"
      ]
     },
     "metadata": {},
     "output_type": "display_data"
    },
    {
     "data": {
      "application/vnd.jupyter.widget-view+json": {
       "model_id": "fc4821643c1b4b43890cb35e98e2d0f9",
       "version_major": 2,
       "version_minor": 0
      },
      "text/plain": [
       "VBox(children=(Label(value='0.161 MB of 665.605 MB uploaded\\r'), FloatProgress(value=0.0002424271194723095, ma…"
      ]
     },
     "metadata": {},
     "output_type": "display_data"
    },
    {
     "data": {
      "text/html": [
       "\n",
       "    <style>\n",
       "        .wandb-row {\n",
       "            display: flex;\n",
       "            flex-direction: row;\n",
       "            flex-wrap: wrap;\n",
       "            justify-content: flex-start;\n",
       "            width: 100%;\n",
       "        }\n",
       "        .wandb-col {\n",
       "            display: flex;\n",
       "            flex-direction: column;\n",
       "            flex-basis: 100%;\n",
       "            flex: 1;\n",
       "            padding: 10px;\n",
       "        }\n",
       "    </style>\n",
       "<div class=\"wandb-row\"><div class=\"wandb-col\"><h3>Run history:</h3><br/><table class=\"wandb\"><tr><td>execution_time</td><td>▁</td></tr><tr><td>f1_score_class_0</td><td>▁</td></tr><tr><td>f1_score_class_1</td><td>▁</td></tr><tr><td>precision_class_0</td><td>▁</td></tr><tr><td>precision_class_1</td><td>▁</td></tr><tr><td>recall_class_0</td><td>▁</td></tr><tr><td>recall_class_1</td><td>▁</td></tr><tr><td>test_accuracy</td><td>▁</td></tr></table><br/></div><div class=\"wandb-col\"><h3>Run summary:</h3><br/><table class=\"wandb\"><tr><td>execution_time</td><td>576.00474</td></tr><tr><td>f1_score_class_0</td><td>0.92039</td></tr><tr><td>f1_score_class_1</td><td>0.91815</td></tr><tr><td>precision_class_0</td><td>0.90573</td></tr><tr><td>precision_class_1</td><td>0.93368</td></tr><tr><td>recall_class_0</td><td>0.93553</td></tr><tr><td>recall_class_1</td><td>0.90312</td></tr><tr><td>test_accuracy</td><td>0.91928</td></tr></table><br/></div></div>"
      ],
      "text/plain": [
       "<IPython.core.display.HTML object>"
      ]
     },
     "metadata": {},
     "output_type": "display_data"
    },
    {
     "data": {
      "text/html": [
       " View run <strong style=\"color:#cdcd00\">rare-dream-27</strong> at: <a href='https://wandb.ai/bladimir-alferez-utec-u-de-ingenier-a-tecnolog-a/random-forest/runs/gvlgc30h' target=\"_blank\">https://wandb.ai/bladimir-alferez-utec-u-de-ingenier-a-tecnolog-a/random-forest/runs/gvlgc30h</a><br/> View project at: <a href='https://wandb.ai/bladimir-alferez-utec-u-de-ingenier-a-tecnolog-a/random-forest' target=\"_blank\">https://wandb.ai/bladimir-alferez-utec-u-de-ingenier-a-tecnolog-a/random-forest</a><br/>Synced 5 W&B file(s), 0 media file(s), 2 artifact file(s) and 0 other file(s)"
      ],
      "text/plain": [
       "<IPython.core.display.HTML object>"
      ]
     },
     "metadata": {},
     "output_type": "display_data"
    },
    {
     "data": {
      "text/html": [
       "Find logs at: <code>./wandb/run-20241201_133517-gvlgc30h/logs</code>"
      ],
      "text/plain": [
       "<IPython.core.display.HTML object>"
      ]
     },
     "metadata": {},
     "output_type": "display_data"
    }
   ],
   "source": [
    "import wandb\n",
    "from sklearn.model_selection import train_test_split\n",
    "from sklearn.ensemble import RandomForestClassifier\n",
    "from sklearn.metrics import classification_report, accuracy_score\n",
    "from imblearn.over_sampling import SMOTE\n",
    "import joblib\n",
    "import time\n",
    "import pandas as pd\n",
    "\n",
    "param_grid = {\n",
    "    \"n_estimators\": [50, 100, 200],\n",
    "    \"max_depth\": [10, 20, None],\n",
    "    \"min_samples_split\": [2, 5, 10]\n",
    "}\n",
    "\n",
    "file_path = \"data/processed/gift_cards_classify_dask.json\"\n",
    "df = pd.read_json(file_path, lines=True)\n",
    "\n",
    "# Combinamos  texto y otras variables \n",
    "df['combined_text'] = df['title'] + \" \" + df['text']\n",
    "vectorizer = TfidfVectorizer(max_features=5000, stop_words=\"english\")\n",
    "X_text = vectorizer.fit_transform(df['combined_text'])\n",
    "\n",
    "X_tabular = df[['rating', 'helpful_vote', 'verified_purchase']]\n",
    "scaler = StandardScaler()\n",
    "X_tabular[['rating', 'helpful_vote']] = scaler.fit_transform(X_tabular[['rating', 'helpful_vote']])\n",
    "\n",
    "X_combined = pd.concat([pd.DataFrame(X_text.toarray()), X_tabular.reset_index(drop=True)], axis=1)\n",
    "X_combined.columns = X_combined.columns.astype(str)\n",
    "y = df['label']\n",
    "\n",
    "# Usamos smote para balancear las clases \n",
    "smote = SMOTE(random_state=42)\n",
    "X_balanced, y_balanced = smote.fit_resample(X_combined, y)\n",
    "\n",
    "# Dividimos la data en 70 y 30\n",
    "X_train, X_test, y_train, y_test = train_test_split(X_balanced, y_balanced, test_size=0.3, random_state=42)\n",
    "\n",
    "for n_estimators in param_grid['n_estimators']:\n",
    "    for max_depth in param_grid['max_depth']:\n",
    "        for min_samples_split in param_grid['min_samples_split']:\n",
    "            \n",
    "            wandb.init(project=\"random-forest\", config={\n",
    "                \"n_estimators\": n_estimators,\n",
    "                \"max_depth\": max_depth,\n",
    "                \"min_samples_split\": min_samples_split,\n",
    "            })\n",
    "            \n",
    "            config = wandb.config\n",
    "            \n",
    "            model = RandomForestClassifier(\n",
    "                n_estimators=config.n_estimators,\n",
    "                max_depth=config.max_depth,\n",
    "                min_samples_split=config.min_samples_split,\n",
    "                random_state=42\n",
    "            )\n",
    "            \n",
    "            start_time = time.time()\n",
    "            model.fit(X_train, y_train)\n",
    "            execution_time = time.time() - start_time\n",
    "            \n",
    "            y_pred = model.predict(X_test)\n",
    "            accuracy = accuracy_score(y_test, y_pred)\n",
    "            report = classification_report(y_test, y_pred, output_dict=True)\n",
    "            \n",
    "            wandb.log({\n",
    "                \"test_accuracy\": accuracy,\n",
    "                \"precision_class_0\": report['0']['precision'],\n",
    "                \"recall_class_0\": report['0']['recall'],\n",
    "                \"f1_score_class_0\": report['0']['f1-score'],\n",
    "                \"precision_class_1\": report['1']['precision'],\n",
    "                \"recall_class_1\": report['1']['recall'],\n",
    "                \"f1_score_class_1\": report['1']['f1-score'],\n",
    "                \"execution_time\": execution_time\n",
    "            })\n",
    "            \n",
    "            model_path = f\"random_forest_model_{n_estimators}_{max_depth}_{min_samples_split}.pkl\"\n",
    "            joblib.dump(model, model_path)\n",
    "            artifact = wandb.Artifact(f\"random_forest_model\", type=\"model\")\n",
    "            artifact.add_file(model_path)\n",
    "            wandb.log_artifact(artifact)\n",
    "            \n",
    "            wandb.finish()\n"
   ]
  },
  {
   "cell_type": "code",
   "execution_count": 4,
   "metadata": {},
   "outputs": [
    {
     "data": {
      "text/plain": [
       "['scaler.pkl']"
      ]
     },
     "execution_count": 4,
     "metadata": {},
     "output_type": "execute_result"
    }
   ],
   "source": [
    "import joblib\n",
    "\n",
    "# Guardar el vectorizer y el scaler después de entrenarlo, para futuras pruebas\n",
    "joblib.dump(vectorizer, \"vectorizer.pkl\")\n",
    "joblib.dump(scaler, \"scaler.pkl\")\n"
   ]
  },
  {
   "cell_type": "code",
   "execution_count": 7,
   "metadata": {},
   "outputs": [
    {
     "name": "stderr",
     "output_type": "stream",
     "text": [
      "\u001b[34m\u001b[1mwandb\u001b[0m: Downloading large artifact random_forest_model:v24, 832.71MB. 1 files... \n",
      "\u001b[34m\u001b[1mwandb\u001b[0m:   1 of 1 files downloaded.  \n",
      "Done. 0:0:3.0\n"
     ]
    }
   ],
   "source": [
    "import wandb\n",
    "import joblib\n",
    "from sklearn.metrics import classification_report\n",
    "import os\n",
    "\n",
    "api = wandb.Api()\n",
    "\n",
    "artifact = api.artifact(\"bladimir-alferez-utec-u-de-ingenier-a-tecnolog-a/random-forest/random_forest_model:v24\")\n",
    "artifact_dir = artifact.download()\n",
    "\n",
    "model_path = f\"{artifact_dir}/random_forest_model_200_None_2.pkl\" \n",
    "\n",
    "best_model = joblib.load(model_path)\n"
   ]
  },
  {
   "cell_type": "code",
   "execution_count": 8,
   "metadata": {},
   "outputs": [
    {
     "name": "stdout",
     "output_type": "stream",
     "text": [
      "Resultados del modelo en el conjunto de prueba:\n",
      "Accuracy: 0.9238\n",
      "Reporte de clasificación:\n",
      "              precision    recall  f1-score   support\n",
      "\n",
      "           0       0.91      0.94      0.93     33038\n",
      "           1       0.94      0.91      0.92     33205\n",
      "\n",
      "    accuracy                           0.92     66243\n",
      "   macro avg       0.92      0.92      0.92     66243\n",
      "weighted avg       0.92      0.92      0.92     66243\n",
      "\n"
     ]
    }
   ],
   "source": [
    "from sklearn.metrics import classification_report, accuracy_score\n",
    "\n",
    "y_pred = best_model.predict(X_test)\n",
    "\n",
    "accuracy = accuracy_score(y_test, y_pred)\n",
    "report = classification_report(y_test, y_pred)\n",
    "\n",
    "print(\"Resultados del modelo en el conjunto de prueba:\")\n",
    "print(f\"Accuracy: {accuracy:.4f}\")\n",
    "print(\"Reporte de clasificación:\")\n",
    "print(report)\n"
   ]
  },
  {
   "cell_type": "code",
   "execution_count": null,
   "metadata": {},
   "outputs": [
    {
     "data": {
      "image/png": "[encoded data removed]",
      "text/plain": [
       "<Figure size 640x480 with 2 Axes>"
      ]
     },
     "metadata": {},
     "output_type": "display_data"
    }
   ],
   "source": [
    "import matplotlib.pyplot as plt\n",
    "from sklearn.metrics import confusion_matrix, ConfusionMatrixDisplay\n",
    "\n",
    "cm = confusion_matrix(y_test, y_pred)\n",
    "\n",
    "disp = ConfusionMatrixDisplay(confusion_matrix=cm, display_labels=best_model.classes_)\n",
    "disp.plot(cmap=plt.cm.Blues)\n",
    "plt.title(\"Matriz de Confusión\")\n",
    "plt.show()\n"
   ]
  },
  {
   "cell_type": "code",
   "execution_count": null,
   "metadata": {},
   "outputs": [
    {
     "data": {
      "image/png": "[encoded data removed]",
      "text/plain": [
       "<Figure size 800x600 with 1 Axes>"
      ]
     },
     "metadata": {},
     "output_type": "display_data"
    }
   ],
   "source": [
    "from sklearn.metrics import roc_curve, auc\n",
    "\n",
    "y_proba = best_model.predict_proba(X_test)[:, 1]\n",
    "\n",
    "fpr, tpr, _ = roc_curve(y_test, y_proba)\n",
    "roc_auc = auc(fpr, tpr)\n",
    "\n",
    "plt.figure(figsize=(8, 6))\n",
    "plt.plot(fpr, tpr, color='blue', lw=2, label=f\"ROC curve (AUC = {roc_auc:.2f})\")\n",
    "plt.plot([0, 1], [0, 1], color='gray', linestyle='--')\n",
    "plt.xlabel(\"False Positive Rate\")\n",
    "plt.ylabel(\"True Positive Rate\")\n",
    "plt.title(\"Curva ROC\")\n",
    "plt.legend(loc=\"lower right\")\n",
    "plt.show()\n"
   ]
  },
  {
   "cell_type": "code",
   "execution_count": 8,
   "metadata": {},
   "outputs": [
    {
     "name": "stdout",
     "output_type": "stream",
     "text": [
      "Etiqueta predicha: 0\n"
     ]
    },
    {
     "name": "stderr",
     "output_type": "stream",
     "text": [
      "/opt/anaconda3/envs/proyecto_BD/lib/python3.11/site-packages/sklearn/base.py:493: UserWarning: X does not have valid feature names, but StandardScaler was fitted with feature names\n",
      "  warnings.warn(\n",
      "/opt/anaconda3/envs/proyecto_BD/lib/python3.11/site-packages/sklearn/base.py:493: UserWarning: X does not have valid feature names, but RandomForestClassifier was fitted with feature names\n",
      "  warnings.warn(\n"
     ]
    }
   ],
   "source": [
    "# Probar el modelo con nueva data\n",
    "\n",
    "import joblib\n",
    "import numpy as np\n",
    "\n",
    "vectorizer = joblib.load(\"vectorizer.pkl\")\n",
    "scaler = joblib.load(\"scaler.pkl\")  \n",
    "\n",
    "test_sample = {\n",
    "    \"title\": \"Terrible experience\",\n",
    "    \"text\": \"This was the worst gift card I've ever used. It didn't work at all!\",\n",
    "    \"rating\": 5,  \n",
    "    \"helpful_vote\": 10,  \n",
    "    \"verified_purchase\": True \n",
    "}\n",
    "\n",
    "\n",
    "# Preprocesar el input\n",
    "combined_text = test_sample[\"title\"] + \" \" + test_sample[\"text\"]\n",
    "text_transformed = vectorizer.transform([combined_text]) \n",
    "\n",
    "tabular_data = np.array([\n",
    "    test_sample[\"rating\"],\n",
    "    test_sample[\"helpful_vote\"]\n",
    "]).reshape(1, -1)\n",
    "tabular_data_scaled = scaler.transform(tabular_data)\n",
    "\n",
    "verified_purchase = np.array([[1 if test_sample[\"verified_purchase\"] else 0]])  \n",
    "tabular_data_final = np.hstack([tabular_data_scaled, verified_purchase])  \n",
    "\n",
    "test_input = np.hstack([text_transformed.toarray(), tabular_data_final])\n",
    "\n",
    "predicted_label = best_model.predict(test_input)\n",
    "print(f\"Etiqueta predicha: {predicted_label[0]}\")\n"
   ]
  },
  {
   "cell_type": "markdown",
   "metadata": {},
   "source": [
    "#### 7. Implementar el modelo en Spark"
   ]
  },
  {
   "cell_type": "code",
   "execution_count": 26,
   "metadata": {},
   "outputs": [
    {
     "name": "stdout",
     "output_type": "stream",
     "text": [
      "Requirement already satisfied: pyspark in /opt/anaconda3/envs/proyecto_BD/lib/python3.11/site-packages (3.5.3)\n",
      "Requirement already satisfied: py4j==0.10.9.7 in /opt/anaconda3/envs/proyecto_BD/lib/python3.11/site-packages (from pyspark) (0.10.9.7)\n",
      "Note: you may need to restart the kernel to use updated packages.\n"
     ]
    }
   ],
   "source": [
    "pip install pyspark\n"
   ]
  },
  {
   "cell_type": "code",
   "execution_count": null,
   "metadata": {},
   "outputs": [
    {
     "name": "stderr",
     "output_type": "stream",
     "text": [
      "24/12/02 02:27:38 WARN SparkSession: Using an existing Spark session; only runtime SQL configurations will take effect.\n",
      "24/12/02 02:27:51 WARN MemoryStore: Not enough space to cache rdd_3679_14 in memory! (computed 12.2 MiB so far)\n",
      "24/12/02 02:27:51 WARN MemoryStore: Not enough space to cache rdd_3679_15 in memory! (computed 5.3 MiB so far)\n",
      "24/12/02 02:27:51 WARN MemoryStore: Not enough space to cache rdd_3679_18 in memory! (computed 12.2 MiB so far)\n",
      "24/12/02 02:27:51 WARN MemoryStore: Not enough space to cache rdd_3679_20 in memory! (computed 5.3 MiB so far)\n",
      "24/12/02 02:27:51 WARN MemoryStore: Not enough space to cache rdd_3679_17 in memory! (computed 8.1 MiB so far)\n",
      "24/12/02 02:27:51 WARN MemoryStore: Not enough space to cache rdd_3679_19 in memory! (computed 8.1 MiB so far)\n",
      "24/12/02 02:27:51 WARN MemoryStore: Not enough space to cache rdd_3679_13 in memory! (computed 8.1 MiB so far)\n",
      "24/12/02 02:27:51 WARN MemoryStore: Not enough space to cache rdd_3679_16 in memory! (computed 8.1 MiB so far)\n",
      "24/12/02 02:27:51 WARN MemoryStore: Not enough space to cache rdd_3679_22 in memory! (computed 2.2 MiB so far)\n",
      "24/12/02 02:27:51 WARN BlockManager: Persisting block rdd_3679_13 to disk instead.\n",
      "24/12/02 02:27:51 WARN BlockManager: Persisting block rdd_3679_19 to disk instead.\n",
      "24/12/02 02:27:51 WARN BlockManager: Persisting block rdd_3679_14 to disk instead.\n",
      "24/12/02 02:27:51 WARN BlockManager: Persisting block rdd_3679_15 to disk instead.\n",
      "24/12/02 02:27:51 WARN BlockManager: Persisting block rdd_3679_22 to disk instead.\n",
      "24/12/02 02:27:51 WARN BlockManager: Persisting block rdd_3679_20 to disk instead.\n",
      "24/12/02 02:27:51 WARN BlockManager: Persisting block rdd_3679_18 to disk instead.\n",
      "24/12/02 02:27:51 WARN BlockManager: Persisting block rdd_3679_16 to disk instead.\n",
      "24/12/02 02:27:51 WARN BlockManager: Persisting block rdd_3679_17 to disk instead.\n",
      "24/12/02 02:27:52 WARN MemoryStore: Not enough space to cache rdd_3679_20 in memory! (computed 2.2 MiB so far)\n",
      "24/12/02 02:27:52 WARN MemoryStore: Not enough space to cache rdd_3679_13 in memory! (computed 12.2 MiB so far)\n",
      "24/12/02 02:27:52 WARN MemoryStore: Not enough space to cache rdd_3679_22 in memory! (computed 1290.0 KiB so far)\n",
      "24/12/02 02:27:52 WARN MemoryStore: Not enough space to cache rdd_3679_15 in memory! (computed 3.4 MiB so far)\n",
      "24/12/02 02:27:52 WARN MemoryStore: Not enough space to cache rdd_3679_16 in memory! (computed 18.4 MiB so far)\n",
      "24/12/02 02:27:52 WARN MemoryStore: Not enough space to cache rdd_3679_17 in memory! (computed 12.2 MiB so far)\n",
      "24/12/02 02:27:52 WARN MemoryStore: Not enough space to cache rdd_3679_19 in memory! (computed 12.2 MiB so far)\n",
      "24/12/02 02:27:52 WARN MemoryStore: Not enough space to cache rdd_3679_14 in memory! (computed 12.2 MiB so far)\n",
      "24/12/02 02:27:52 WARN MemoryStore: Not enough space to cache rdd_3679_18 in memory! (computed 18.4 MiB so far)\n",
      "24/12/02 02:27:53 WARN MemoryStore: Not enough space to cache rdd_3679_18 in memory! (computed 8.1 MiB so far)\n",
      "24/12/02 02:27:53 WARN MemoryStore: Not enough space to cache rdd_3679_19 in memory! (computed 8.1 MiB so far)\n",
      "24/12/02 02:27:53 WARN MemoryStore: Not enough space to cache rdd_3679_13 in memory! (computed 8.1 MiB so far)\n",
      "24/12/02 02:27:53 WARN MemoryStore: Not enough space to cache rdd_3679_15 in memory! (computed 5.3 MiB so far)\n",
      "24/12/02 02:27:53 WARN MemoryStore: Not enough space to cache rdd_3679_14 in memory! (computed 12.2 MiB so far)\n",
      "24/12/02 02:27:53 WARN MemoryStore: Not enough space to cache rdd_3679_20 in memory! (computed 5.3 MiB so far)\n",
      "24/12/02 02:27:53 WARN MemoryStore: Not enough space to cache rdd_3679_16 in memory! (computed 8.1 MiB so far)\n",
      "24/12/02 02:27:53 WARN MemoryStore: Not enough space to cache rdd_3679_22 in memory! (computed 27.8 MiB so far)\n",
      "24/12/02 02:27:54 WARN MemoryStore: Not enough space to cache rdd_3679_22 in memory! (computed 3.4 MiB so far)\n",
      "24/12/02 02:27:54 WARN MemoryStore: Not enough space to cache rdd_3679_15 in memory! (computed 5.3 MiB so far)\n",
      "24/12/02 02:27:54 WARN MemoryStore: Not enough space to cache rdd_3679_18 in memory! (computed 5.3 MiB so far)\n",
      "24/12/02 02:27:54 WARN MemoryStore: Not enough space to cache rdd_3679_13 in memory! (computed 5.3 MiB so far)\n",
      "24/12/02 02:27:54 WARN MemoryStore: Not enough space to cache rdd_3679_16 in memory! (computed 3.4 MiB so far)\n",
      "24/12/02 02:27:54 WARN MemoryStore: Not enough space to cache rdd_3679_19 in memory! (computed 3.4 MiB so far)\n",
      "24/12/02 02:27:54 WARN MemoryStore: Not enough space to cache rdd_3679_14 in memory! (computed 5.3 MiB so far)\n",
      "24/12/02 02:27:54 WARN MemoryStore: Not enough space to cache rdd_3679_20 in memory! (computed 5.3 MiB so far)\n",
      "24/12/02 02:27:54 WARN MemoryStore: Not enough space to cache rdd_3679_20 in memory! (computed 5.3 MiB so far)\n",
      "24/12/02 02:27:54 WARN MemoryStore: Not enough space to cache rdd_3679_14 in memory! (computed 5.3 MiB so far)\n",
      "24/12/02 02:27:54 WARN MemoryStore: Not enough space to cache rdd_3679_15 in memory! (computed 5.3 MiB so far)\n",
      "24/12/02 02:27:54 WARN MemoryStore: Not enough space to cache rdd_3679_19 in memory! (computed 2.2 MiB so far)\n",
      "24/12/02 02:27:54 WARN MemoryStore: Not enough space to cache rdd_3679_16 in memory! (computed 8.1 MiB so far)\n",
      "24/12/02 02:27:54 WARN MemoryStore: Not enough space to cache rdd_3679_22 in memory! (computed 3.4 MiB so far)\n",
      "24/12/02 02:27:54 WARN MemoryStore: Not enough space to cache rdd_3679_18 in memory! (computed 3.4 MiB so far)\n",
      "24/12/02 02:27:55 WARN DAGScheduler: Broadcasting large task binary with size 1035.2 KiB\n",
      "24/12/02 02:27:55 WARN MemoryStore: Not enough space to cache rdd_3679_19 in memory! (computed 1290.0 KiB so far)\n",
      "24/12/02 02:27:55 WARN MemoryStore: Not enough space to cache rdd_3679_15 in memory! (computed 3.4 MiB so far)\n",
      "24/12/02 02:27:55 WARN MemoryStore: Not enough space to cache rdd_3679_14 in memory! (computed 5.3 MiB so far)\n",
      "24/12/02 02:27:55 WARN MemoryStore: Not enough space to cache rdd_3679_16 in memory! (computed 2.2 MiB so far)\n",
      "24/12/02 02:27:55 WARN MemoryStore: Failed to reserve initial memory threshold of 1024.0 KiB for computing block rdd_3679_18 in memory.\n",
      "24/12/02 02:27:55 WARN MemoryStore: Failed to reserve initial memory threshold of 1024.0 KiB for computing block rdd_3679_22 in memory.\n",
      "24/12/02 02:27:55 WARN MemoryStore: Failed to reserve initial memory threshold of 1024.0 KiB for computing block rdd_3679_20 in memory.\n",
      "24/12/02 02:27:55 WARN MemoryStore: Not enough space to cache rdd_3679_18 in memory! (computed 384.0 B so far)\n",
      "24/12/02 02:27:55 WARN MemoryStore: Not enough space to cache rdd_3679_22 in memory! (computed 384.0 B so far)\n",
      "24/12/02 02:27:55 WARN MemoryStore: Not enough space to cache rdd_3679_20 in memory! (computed 384.0 B so far)\n",
      "24/12/02 02:28:02 WARN MemoryStore: Not enough space to cache rdd_3765_17 in memory! (computed 12.2 MiB so far)\n",
      "24/12/02 02:28:02 WARN MemoryStore: Not enough space to cache rdd_3765_16 in memory! (computed 18.4 MiB so far)\n",
      "24/12/02 02:28:02 WARN BlockManager: Persisting block rdd_3765_16 to disk instead.\n",
      "24/12/02 02:28:02 WARN BlockManager: Persisting block rdd_3765_17 to disk instead.\n",
      "24/12/02 02:28:02 WARN MemoryStore: Not enough space to cache rdd_3765_18 in memory! (computed 12.2 MiB so far)\n",
      "24/12/02 02:28:02 WARN MemoryStore: Not enough space to cache rdd_3765_21 in memory! (computed 18.4 MiB so far)\n",
      "24/12/02 02:28:02 WARN MemoryStore: Not enough space to cache rdd_3765_19 in memory! (computed 12.2 MiB so far)\n",
      "24/12/02 02:28:02 WARN MemoryStore: Not enough space to cache rdd_3765_22 in memory! (computed 12.2 MiB so far)\n",
      "24/12/02 02:28:02 WARN BlockManager: Persisting block rdd_3765_22 to disk instead.\n",
      "24/12/02 02:28:02 WARN BlockManager: Persisting block rdd_3765_18 to disk instead.\n",
      "24/12/02 02:28:02 WARN BlockManager: Persisting block rdd_3765_19 to disk instead.\n",
      "24/12/02 02:28:02 WARN BlockManager: Persisting block rdd_3765_21 to disk instead.\n",
      "24/12/02 02:28:02 WARN MemoryStore: Not enough space to cache rdd_3765_16 in memory! (computed 5.3 MiB so far)\n",
      "24/12/02 02:28:02 WARN MemoryStore: Not enough space to cache rdd_3765_20 in memory! (computed 18.4 MiB so far)\n",
      "24/12/02 02:28:02 WARN BlockManager: Persisting block rdd_3765_20 to disk instead.\n",
      "24/12/02 02:28:02 WARN MemoryStore: Not enough space to cache rdd_3765_19 in memory! (computed 18.4 MiB so far)\n",
      "24/12/02 02:28:02 WARN MemoryStore: Failed to reserve initial memory threshold of 1024.0 KiB for computing block rdd_3765_22 in memory.\n",
      "24/12/02 02:28:02 WARN MemoryStore: Not enough space to cache rdd_3765_22 in memory! (computed 384.0 B so far)\n",
      "24/12/02 02:28:02 WARN MemoryStore: Not enough space to cache rdd_3765_18 in memory! (computed 12.2 MiB so far)\n",
      "24/12/02 02:28:02 WARN MemoryStore: Not enough space to cache rdd_3765_20 in memory! (computed 12.2 MiB so far)\n",
      "24/12/02 02:28:03 WARN MemoryStore: Not enough space to cache rdd_3765_1 in memory! (computed 12.2 MiB so far)\n",
      "24/12/02 02:28:03 WARN MemoryStore: Not enough space to cache rdd_3765_8 in memory! (computed 12.2 MiB so far)\n",
      "24/12/02 02:28:03 WARN MemoryStore: Not enough space to cache rdd_3765_9 in memory! (computed 12.2 MiB so far)\n",
      "24/12/02 02:28:03 WARN MemoryStore: Not enough space to cache rdd_3765_16 in memory! (computed 1290.0 KiB so far)\n",
      "24/12/02 02:28:03 WARN MemoryStore: Not enough space to cache rdd_3765_20 in memory! (computed 12.2 MiB so far)\n",
      "24/12/02 02:28:03 WARN MemoryStore: Not enough space to cache rdd_3765_19 in memory! (computed 12.2 MiB so far)\n",
      "24/12/02 02:28:03 WARN MemoryStore: Not enough space to cache rdd_3765_18 in memory! (computed 12.2 MiB so far)\n",
      "24/12/02 02:28:03 WARN MemoryStore: Not enough space to cache rdd_3765_22 in memory! (computed 27.8 MiB so far)\n",
      "24/12/02 02:28:04 WARN MemoryStore: Not enough space to cache rdd_3765_8 in memory! (computed 12.2 MiB so far)\n",
      "24/12/02 02:28:04 WARN MemoryStore: Not enough space to cache rdd_3765_9 in memory! (computed 12.2 MiB so far)\n",
      "24/12/02 02:28:04 WARN MemoryStore: Not enough space to cache rdd_3765_1 in memory! (computed 12.2 MiB so far)\n",
      "24/12/02 02:28:04 WARN MemoryStore: Not enough space to cache rdd_3765_20 in memory! (computed 8.1 MiB so far)\n",
      "24/12/02 02:28:04 WARN MemoryStore: Not enough space to cache rdd_3765_16 in memory! (computed 8.1 MiB so far)\n",
      "24/12/02 02:28:04 WARN MemoryStore: Not enough space to cache rdd_3765_19 in memory! (computed 12.2 MiB so far)\n",
      "24/12/02 02:28:04 WARN MemoryStore: Not enough space to cache rdd_3765_18 in memory! (computed 27.8 MiB so far)\n",
      "24/12/02 02:28:04 WARN MemoryStore: Not enough space to cache rdd_3765_22 in memory! (computed 12.2 MiB so far)\n",
      "24/12/02 02:28:04 WARN MemoryStore: Not enough space to cache rdd_3765_1 in memory! (computed 12.2 MiB so far)\n",
      "24/12/02 02:28:04 WARN MemoryStore: Not enough space to cache rdd_3765_8 in memory! (computed 12.2 MiB so far)\n",
      "24/12/02 02:28:04 WARN MemoryStore: Not enough space to cache rdd_3765_9 in memory! (computed 12.2 MiB so far)\n",
      "24/12/02 02:28:05 WARN MemoryStore: Not enough space to cache rdd_3765_18 in memory! (computed 12.2 MiB so far)\n",
      "24/12/02 02:28:05 WARN MemoryStore: Not enough space to cache rdd_3765_19 in memory! (computed 12.2 MiB so far)\n",
      "24/12/02 02:28:05 WARN MemoryStore: Not enough space to cache rdd_3765_16 in memory! (computed 12.2 MiB so far)\n",
      "24/12/02 02:28:05 WARN MemoryStore: Not enough space to cache rdd_3765_20 in memory! (computed 18.4 MiB so far)\n",
      "24/12/02 02:28:05 WARN MemoryStore: Not enough space to cache rdd_3765_22 in memory! (computed 18.4 MiB so far)\n",
      "24/12/02 02:28:05 WARN DAGScheduler: Broadcasting large task binary with size 1035.5 KiB\n",
      "24/12/02 02:28:05 WARN MemoryStore: Not enough space to cache rdd_3765_8 in memory! (computed 12.2 MiB so far)\n",
      "24/12/02 02:28:05 WARN MemoryStore: Not enough space to cache rdd_3765_1 in memory! (computed 12.2 MiB so far)\n",
      "24/12/02 02:28:05 WARN MemoryStore: Not enough space to cache rdd_3765_9 in memory! (computed 12.2 MiB so far)\n",
      "24/12/02 02:28:05 WARN MemoryStore: Not enough space to cache rdd_3765_19 in memory! (computed 12.2 MiB so far)\n",
      "24/12/02 02:28:05 WARN MemoryStore: Not enough space to cache rdd_3765_16 in memory! (computed 12.2 MiB so far)\n",
      "24/12/02 02:28:05 WARN MemoryStore: Not enough space to cache rdd_3765_20 in memory! (computed 8.1 MiB so far)\n",
      "24/12/02 02:28:05 WARN MemoryStore: Not enough space to cache rdd_3765_18 in memory! (computed 8.1 MiB so far)\n",
      "24/12/02 02:28:06 WARN MemoryStore: Not enough space to cache rdd_3765_22 in memory! (computed 27.8 MiB so far)\n",
      "24/12/02 02:28:10 WARN MemoryStore: Not enough space to cache rdd_3841_21 in memory! (computed 5.3 MiB so far)\n",
      "24/12/02 02:28:10 WARN MemoryStore: Not enough space to cache rdd_3841_19 in memory! (computed 5.3 MiB so far)\n",
      "24/12/02 02:28:10 WARN MemoryStore: Not enough space to cache rdd_3841_16 in memory! (computed 8.2 MiB so far)\n",
      "24/12/02 02:28:10 WARN MemoryStore: Not enough space to cache rdd_3841_18 in memory! (computed 5.3 MiB so far)\n",
      "24/12/02 02:28:10 WARN MemoryStore: Not enough space to cache rdd_3841_17 in memory! (computed 8.2 MiB so far)\n",
      "24/12/02 02:28:10 WARN MemoryStore: Not enough space to cache rdd_3841_13 in memory! (computed 5.3 MiB so far)\n",
      "24/12/02 02:28:10 WARN MemoryStore: Not enough space to cache rdd_3841_20 in memory! (computed 5.3 MiB so far)\n",
      "24/12/02 02:28:10 WARN MemoryStore: Not enough space to cache rdd_3841_22 in memory! (computed 3.5 MiB so far)\n",
      "24/12/02 02:28:10 WARN MemoryStore: Not enough space to cache rdd_3841_14 in memory! (computed 12.3 MiB so far)\n",
      "24/12/02 02:28:10 WARN BlockManager: Persisting block rdd_3841_22 to disk instead.\n",
      "24/12/02 02:28:10 WARN BlockManager: Persisting block rdd_3841_21 to disk instead.\n",
      "24/12/02 02:28:10 WARN BlockManager: Persisting block rdd_3841_19 to disk instead.\n",
      "24/12/02 02:28:10 WARN BlockManager: Persisting block rdd_3841_17 to disk instead.\n",
      "24/12/02 02:28:10 WARN BlockManager: Persisting block rdd_3841_13 to disk instead.\n",
      "24/12/02 02:28:10 WARN BlockManager: Persisting block rdd_3841_16 to disk instead.\n",
      "24/12/02 02:28:10 WARN BlockManager: Persisting block rdd_3841_20 to disk instead.\n",
      "24/12/02 02:28:10 WARN BlockManager: Persisting block rdd_3841_18 to disk instead.\n",
      "24/12/02 02:28:10 WARN BlockManager: Persisting block rdd_3841_14 to disk instead.\n",
      "24/12/02 02:28:10 WARN MemoryStore: Not enough space to cache rdd_3841_15 in memory! (computed 5.3 MiB so far)\n",
      "24/12/02 02:28:10 WARN BlockManager: Persisting block rdd_3841_15 to disk instead.\n",
      "24/12/02 02:28:10 WARN MemoryStore: Failed to reserve initial memory threshold of 1024.0 KiB for computing block rdd_3841_15 in memory.\n",
      "24/12/02 02:28:10 WARN MemoryStore: Not enough space to cache rdd_3841_21 in memory! (computed 1302.7 KiB so far)\n",
      "24/12/02 02:28:10 WARN MemoryStore: Not enough space to cache rdd_3841_19 in memory! (computed 5.3 MiB so far)\n",
      "24/12/02 02:28:10 WARN MemoryStore: Not enough space to cache rdd_3841_15 in memory! (computed 384.0 B so far)\n",
      "24/12/02 02:28:10 WARN MemoryStore: Failed to reserve initial memory threshold of 1024.0 KiB for computing block rdd_3841_18 in memory.\n",
      "24/12/02 02:28:10 WARN MemoryStore: Not enough space to cache rdd_3841_20 in memory! (computed 1302.7 KiB so far)\n",
      "24/12/02 02:28:10 WARN MemoryStore: Not enough space to cache rdd_3841_18 in memory! (computed 384.0 B so far)\n",
      "24/12/02 02:28:10 WARN MemoryStore: Not enough space to cache rdd_3841_13 in memory! (computed 12.3 MiB so far)\n",
      "24/12/02 02:28:10 WARN MemoryStore: Not enough space to cache rdd_3841_17 in memory! (computed 18.6 MiB so far)\n",
      "24/12/02 02:28:10 WARN MemoryStore: Not enough space to cache rdd_3841_16 in memory! (computed 18.6 MiB so far)\n",
      "24/12/02 02:28:11 WARN MemoryStore: Not enough space to cache rdd_3841_20 in memory! (computed 3.5 MiB so far)\n",
      "24/12/02 02:28:11 WARN MemoryStore: Not enough space to cache rdd_3841_19 in memory! (computed 2.2 MiB so far)\n",
      "24/12/02 02:28:11 WARN MemoryStore: Not enough space to cache rdd_3841_16 in memory! (computed 1302.7 KiB so far)\n",
      "24/12/02 02:28:11 WARN MemoryStore: Not enough space to cache rdd_3841_13 in memory! (computed 5.3 MiB so far)\n",
      "24/12/02 02:28:11 WARN MemoryStore: Not enough space to cache rdd_3841_21 in memory! (computed 1302.7 KiB so far)\n",
      "24/12/02 02:28:11 WARN MemoryStore: Not enough space to cache rdd_3841_15 in memory! (computed 5.3 MiB so far)\n",
      "24/12/02 02:28:11 WARN MemoryStore: Not enough space to cache rdd_3841_17 in memory! (computed 5.3 MiB so far)\n",
      "24/12/02 02:28:11 WARN MemoryStore: Not enough space to cache rdd_3841_18 in memory! (computed 2.2 MiB so far)\n",
      "24/12/02 02:28:12 WARN MemoryStore: Not enough space to cache rdd_3841_13 in memory! (computed 3.5 MiB so far)\n",
      "24/12/02 02:28:12 WARN MemoryStore: Not enough space to cache rdd_3841_19 in memory! (computed 3.5 MiB so far)\n",
      "24/12/02 02:28:12 WARN MemoryStore: Not enough space to cache rdd_3841_17 in memory! (computed 3.5 MiB so far)\n",
      "24/12/02 02:28:12 WARN MemoryStore: Not enough space to cache rdd_3841_18 in memory! (computed 2.2 MiB so far)\n",
      "24/12/02 02:28:12 WARN MemoryStore: Not enough space to cache rdd_3841_16 in memory! (computed 3.5 MiB so far)\n",
      "24/12/02 02:28:12 WARN MemoryStore: Not enough space to cache rdd_3841_15 in memory! (computed 3.5 MiB so far)\n",
      "24/12/02 02:28:12 WARN MemoryStore: Not enough space to cache rdd_3841_21 in memory! (computed 3.5 MiB so far)\n",
      "24/12/02 02:28:12 WARN MemoryStore: Not enough space to cache rdd_3841_20 in memory! (computed 3.5 MiB so far)\n",
      "24/12/02 02:28:13 WARN DAGScheduler: Broadcasting large task binary with size 1103.6 KiB\n",
      "24/12/02 02:28:13 WARN MemoryStore: Failed to reserve initial memory threshold of 1024.0 KiB for computing block rdd_3841_21 in memory.\n",
      "24/12/02 02:28:13 WARN MemoryStore: Failed to reserve initial memory threshold of 1024.0 KiB for computing block rdd_3841_17 in memory.\n",
      "24/12/02 02:28:13 WARN MemoryStore: Failed to reserve initial memory threshold of 1024.0 KiB for computing block rdd_3841_20 in memory.\n",
      "24/12/02 02:28:13 WARN MemoryStore: Not enough space to cache rdd_3841_13 in memory! (computed 12.3 MiB so far)\n",
      "24/12/02 02:28:13 WARN MemoryStore: Failed to reserve initial memory threshold of 1024.0 KiB for computing block rdd_3841_16 in memory.\n",
      "24/12/02 02:28:13 WARN MemoryStore: Failed to reserve initial memory threshold of 1024.0 KiB for computing block rdd_3841_18 in memory.\n",
      "24/12/02 02:28:13 WARN MemoryStore: Failed to reserve initial memory threshold of 1024.0 KiB for computing block rdd_3841_19 in memory.\n",
      "24/12/02 02:28:13 WARN MemoryStore: Not enough space to cache rdd_3841_16 in memory! (computed 384.0 B so far)\n",
      "24/12/02 02:28:13 WARN MemoryStore: Not enough space to cache rdd_3841_20 in memory! (computed 384.0 B so far)\n",
      "24/12/02 02:28:13 WARN MemoryStore: Not enough space to cache rdd_3841_21 in memory! (computed 384.0 B so far)\n",
      "24/12/02 02:28:13 WARN MemoryStore: Not enough space to cache rdd_3841_18 in memory! (computed 384.0 B so far)\n",
      "24/12/02 02:28:13 WARN MemoryStore: Not enough space to cache rdd_3841_17 in memory! (computed 384.0 B so far)\n",
      "24/12/02 02:28:13 WARN MemoryStore: Not enough space to cache rdd_3841_19 in memory! (computed 384.0 B so far)\n",
      "24/12/02 02:28:13 WARN MemoryStore: Not enough space to cache rdd_3841_15 in memory! (computed 12.3 MiB so far)\n",
      "24/12/02 02:28:14 WARN DAGScheduler: Broadcasting large task binary with size 1341.7 KiB\n",
      "24/12/02 02:28:14 WARN MemoryStore: Not enough space to cache rdd_3841_13 in memory! (computed 5.3 MiB so far)\n",
      "24/12/02 02:28:14 WARN MemoryStore: Not enough space to cache rdd_3841_16 in memory! (computed 3.5 MiB so far)\n",
      "24/12/02 02:28:14 WARN MemoryStore: Not enough space to cache rdd_3841_21 in memory! (computed 1302.7 KiB so far)\n",
      "24/12/02 02:28:14 WARN MemoryStore: Not enough space to cache rdd_3841_18 in memory! (computed 5.3 MiB so far)\n",
      "24/12/02 02:28:14 WARN MemoryStore: Not enough space to cache rdd_3841_15 in memory! (computed 2.2 MiB so far)\n",
      "24/12/02 02:28:14 WARN MemoryStore: Not enough space to cache rdd_3841_19 in memory! (computed 3.5 MiB so far)\n",
      "24/12/02 02:28:14 WARN MemoryStore: Not enough space to cache rdd_3841_17 in memory! (computed 2.2 MiB so far)\n",
      "24/12/02 02:28:14 WARN MemoryStore: Not enough space to cache rdd_3841_20 in memory! (computed 3.5 MiB so far)\n",
      "24/12/02 02:28:15 WARN DAGScheduler: Broadcasting large task binary with size 1069.6 KiB\n",
      "24/12/02 02:28:19 WARN MemoryStore: Not enough space to cache rdd_3917_22 in memory! (computed 8.2 MiB so far)\n",
      "24/12/02 02:28:19 WARN MemoryStore: Not enough space to cache rdd_3917_19 in memory! (computed 8.2 MiB so far)\n",
      "24/12/02 02:28:19 WARN MemoryStore: Not enough space to cache rdd_3917_18 in memory! (computed 8.2 MiB so far)\n",
      "24/12/02 02:28:19 WARN MemoryStore: Not enough space to cache rdd_3917_21 in memory! (computed 8.2 MiB so far)\n",
      "24/12/02 02:28:19 WARN MemoryStore: Not enough space to cache rdd_3917_14 in memory! (computed 3.5 MiB so far)\n",
      "24/12/02 02:28:19 WARN MemoryStore: Not enough space to cache rdd_3917_20 in memory! (computed 5.3 MiB so far)\n",
      "24/12/02 02:28:19 WARN MemoryStore: Not enough space to cache rdd_3917_17 in memory! (computed 3.5 MiB so far)\n",
      "24/12/02 02:28:19 WARN MemoryStore: Not enough space to cache rdd_3917_16 in memory! (computed 5.3 MiB so far)\n",
      "24/12/02 02:28:19 WARN MemoryStore: Not enough space to cache rdd_3917_13 in memory! (computed 5.3 MiB so far)\n",
      "24/12/02 02:28:19 WARN MemoryStore: Not enough space to cache rdd_3917_15 in memory! (computed 8.2 MiB so far)\n",
      "24/12/02 02:28:19 WARN BlockManager: Persisting block rdd_3917_18 to disk instead.\n",
      "24/12/02 02:28:19 WARN BlockManager: Persisting block rdd_3917_15 to disk instead.\n",
      "24/12/02 02:28:19 WARN BlockManager: Persisting block rdd_3917_16 to disk instead.\n",
      "24/12/02 02:28:19 WARN BlockManager: Persisting block rdd_3917_19 to disk instead.\n",
      "24/12/02 02:28:19 WARN BlockManager: Persisting block rdd_3917_17 to disk instead.\n",
      "24/12/02 02:28:19 WARN BlockManager: Persisting block rdd_3917_20 to disk instead.\n",
      "24/12/02 02:28:19 WARN BlockManager: Persisting block rdd_3917_14 to disk instead.\n",
      "24/12/02 02:28:19 WARN BlockManager: Persisting block rdd_3917_21 to disk instead.\n",
      "24/12/02 02:28:19 WARN BlockManager: Persisting block rdd_3917_22 to disk instead.\n",
      "24/12/02 02:28:19 WARN BlockManager: Persisting block rdd_3917_13 to disk instead.\n",
      "24/12/02 02:28:20 WARN MemoryStore: Not enough space to cache rdd_3917_19 in memory! (computed 12.3 MiB so far)\n",
      "24/12/02 02:28:20 WARN MemoryStore: Not enough space to cache rdd_3917_13 in memory! (computed 12.3 MiB so far)\n",
      "24/12/02 02:28:20 WARN MemoryStore: Not enough space to cache rdd_3917_15 in memory! (computed 12.3 MiB so far)\n",
      "24/12/02 02:28:20 WARN MemoryStore: Not enough space to cache rdd_3917_18 in memory! (computed 8.2 MiB so far)\n",
      "24/12/02 02:28:20 WARN MemoryStore: Not enough space to cache rdd_3917_21 in memory! (computed 8.2 MiB so far)\n",
      "24/12/02 02:28:20 WARN MemoryStore: Not enough space to cache rdd_3917_17 in memory! (computed 5.3 MiB so far)\n",
      "24/12/02 02:28:20 WARN MemoryStore: Not enough space to cache rdd_3917_14 in memory! (computed 18.6 MiB so far)\n",
      "24/12/02 02:28:20 WARN MemoryStore: Not enough space to cache rdd_3917_16 in memory! (computed 8.2 MiB so far)\n",
      "24/12/02 02:28:20 WARN MemoryStore: Not enough space to cache rdd_3917_22 in memory! (computed 2.2 MiB so far)\n",
      "24/12/02 02:28:20 WARN MemoryStore: Not enough space to cache rdd_3917_20 in memory! (computed 2.2 MiB so far)\n",
      "24/12/02 02:28:21 WARN MemoryStore: Not enough space to cache rdd_3917_15 in memory! (computed 8.2 MiB so far)\n",
      "24/12/02 02:28:21 WARN MemoryStore: Not enough space to cache rdd_3917_18 in memory! (computed 8.2 MiB so far)\n",
      "24/12/02 02:28:21 WARN MemoryStore: Not enough space to cache rdd_3917_19 in memory! (computed 12.3 MiB so far)\n",
      "24/12/02 02:28:21 WARN MemoryStore: Not enough space to cache rdd_3917_16 in memory! (computed 12.3 MiB so far)\n",
      "24/12/02 02:28:21 WARN MemoryStore: Not enough space to cache rdd_3917_13 in memory! (computed 12.3 MiB so far)\n",
      "24/12/02 02:28:21 WARN MemoryStore: Not enough space to cache rdd_3917_22 in memory! (computed 5.3 MiB so far)\n",
      "24/12/02 02:28:21 WARN MemoryStore: Not enough space to cache rdd_3917_21 in memory! (computed 8.2 MiB so far)\n",
      "24/12/02 02:28:21 WARN MemoryStore: Not enough space to cache rdd_3917_17 in memory! (computed 8.2 MiB so far)\n",
      "24/12/02 02:28:21 WARN MemoryStore: Not enough space to cache rdd_3917_14 in memory! (computed 5.3 MiB so far)\n",
      "24/12/02 02:28:21 WARN MemoryStore: Not enough space to cache rdd_3917_20 in memory! (computed 8.2 MiB so far)\n",
      "24/12/02 02:28:21 WARN MemoryStore: Not enough space to cache rdd_3917_14 in memory! (computed 12.3 MiB so far)\n",
      "24/12/02 02:28:21 WARN MemoryStore: Not enough space to cache rdd_3917_17 in memory! (computed 8.2 MiB so far)\n",
      "24/12/02 02:28:21 WARN MemoryStore: Not enough space to cache rdd_3917_16 in memory! (computed 12.3 MiB so far)\n",
      "24/12/02 02:28:21 WARN MemoryStore: Not enough space to cache rdd_3917_22 in memory! (computed 3.5 MiB so far)\n",
      "24/12/02 02:28:21 WARN MemoryStore: Not enough space to cache rdd_3917_13 in memory! (computed 12.3 MiB so far)\n",
      "24/12/02 02:28:21 WARN MemoryStore: Not enough space to cache rdd_3917_20 in memory! (computed 12.3 MiB so far)\n",
      "24/12/02 02:28:21 WARN MemoryStore: Not enough space to cache rdd_3917_19 in memory! (computed 8.2 MiB so far)\n",
      "24/12/02 02:28:21 WARN MemoryStore: Not enough space to cache rdd_3917_18 in memory! (computed 8.2 MiB so far)\n",
      "24/12/02 02:28:21 WARN MemoryStore: Not enough space to cache rdd_3917_15 in memory! (computed 8.2 MiB so far)\n",
      "24/12/02 02:28:21 WARN MemoryStore: Not enough space to cache rdd_3917_21 in memory! (computed 3.5 MiB so far)\n",
      "24/12/02 02:28:22 WARN DAGScheduler: Broadcasting large task binary with size 1103.9 KiB\n",
      "24/12/02 02:28:22 WARN MemoryStore: Not enough space to cache rdd_3917_18 in memory! (computed 8.2 MiB so far)\n",
      "24/12/02 02:28:22 WARN MemoryStore: Not enough space to cache rdd_3917_15 in memory! (computed 12.3 MiB so far)\n",
      "24/12/02 02:28:22 WARN MemoryStore: Not enough space to cache rdd_3917_17 in memory! (computed 12.3 MiB so far)\n",
      "24/12/02 02:28:22 WARN MemoryStore: Not enough space to cache rdd_3917_14 in memory! (computed 12.3 MiB so far)\n",
      "24/12/02 02:28:22 WARN MemoryStore: Not enough space to cache rdd_3917_16 in memory! (computed 12.3 MiB so far)\n",
      "24/12/02 02:28:22 WARN MemoryStore: Not enough space to cache rdd_3917_13 in memory! (computed 12.3 MiB so far)\n",
      "24/12/02 02:28:22 WARN MemoryStore: Not enough space to cache rdd_3917_19 in memory! (computed 12.3 MiB so far)\n",
      "24/12/02 02:28:22 WARN MemoryStore: Not enough space to cache rdd_3917_20 in memory! (computed 3.5 MiB so far)\n",
      "24/12/02 02:28:22 WARN MemoryStore: Not enough space to cache rdd_3917_21 in memory! (computed 2.2 MiB so far)\n",
      "24/12/02 02:28:22 WARN MemoryStore: Failed to reserve initial memory threshold of 1024.0 KiB for computing block rdd_3917_22 in memory.\n",
      "24/12/02 02:28:22 WARN MemoryStore: Not enough space to cache rdd_3917_22 in memory! (computed 384.0 B so far)\n",
      "24/12/02 02:28:23 WARN DAGScheduler: Broadcasting large task binary with size 1342.0 KiB\n",
      "24/12/02 02:28:23 WARN MemoryStore: Not enough space to cache rdd_3917_14 in memory! (computed 5.3 MiB so far)\n",
      "24/12/02 02:28:23 WARN MemoryStore: Not enough space to cache rdd_3917_22 in memory! (computed 5.3 MiB so far)\n",
      "24/12/02 02:28:23 WARN MemoryStore: Not enough space to cache rdd_3917_19 in memory! (computed 8.2 MiB so far)\n",
      "24/12/02 02:28:23 WARN MemoryStore: Not enough space to cache rdd_3917_16 in memory! (computed 5.3 MiB so far)\n",
      "24/12/02 02:28:23 WARN MemoryStore: Not enough space to cache rdd_3917_20 in memory! (computed 8.2 MiB so far)\n",
      "24/12/02 02:28:23 WARN MemoryStore: Not enough space to cache rdd_3917_17 in memory! (computed 12.3 MiB so far)\n",
      "24/12/02 02:28:23 WARN MemoryStore: Not enough space to cache rdd_3917_21 in memory! (computed 5.3 MiB so far)\n",
      "24/12/02 02:28:23 WARN MemoryStore: Not enough space to cache rdd_3917_15 in memory! (computed 12.3 MiB so far)\n",
      "24/12/02 02:28:23 WARN MemoryStore: Not enough space to cache rdd_3917_13 in memory! (computed 12.3 MiB so far)\n",
      "24/12/02 02:28:24 WARN DAGScheduler: Broadcasting large task binary with size 1069.6 KiB\n",
      "24/12/02 02:28:28 WARN MemoryStore: Not enough space to cache rdd_3993_18 in memory! (computed 8.1 MiB so far)\n",
      "24/12/02 02:28:28 WARN MemoryStore: Not enough space to cache rdd_3993_15 in memory! (computed 5.3 MiB so far)\n",
      "24/12/02 02:28:28 WARN MemoryStore: Not enough space to cache rdd_3993_22 in memory! (computed 8.1 MiB so far)\n",
      "24/12/02 02:28:28 WARN MemoryStore: Not enough space to cache rdd_3993_20 in memory! (computed 3.4 MiB so far)\n",
      "24/12/02 02:28:28 WARN MemoryStore: Not enough space to cache rdd_3993_21 in memory! (computed 8.1 MiB so far)\n",
      "24/12/02 02:28:28 WARN MemoryStore: Not enough space to cache rdd_3993_17 in memory! (computed 5.3 MiB so far)\n",
      "24/12/02 02:28:28 WARN MemoryStore: Not enough space to cache rdd_3993_16 in memory! (computed 8.1 MiB so far)\n",
      "24/12/02 02:28:28 WARN MemoryStore: Not enough space to cache rdd_3993_19 in memory! (computed 8.1 MiB so far)\n",
      "24/12/02 02:28:28 WARN MemoryStore: Not enough space to cache rdd_3993_14 in memory! (computed 8.1 MiB so far)\n",
      "24/12/02 02:28:28 WARN MemoryStore: Not enough space to cache rdd_3993_13 in memory! (computed 5.3 MiB so far)\n",
      "24/12/02 02:28:28 WARN BlockManager: Persisting block rdd_3993_15 to disk instead.\n",
      "24/12/02 02:28:28 WARN BlockManager: Persisting block rdd_3993_17 to disk instead.\n",
      "24/12/02 02:28:28 WARN BlockManager: Persisting block rdd_3993_21 to disk instead.\n",
      "24/12/02 02:28:28 WARN BlockManager: Persisting block rdd_3993_13 to disk instead.\n",
      "24/12/02 02:28:28 WARN BlockManager: Persisting block rdd_3993_14 to disk instead.\n",
      "24/12/02 02:28:28 WARN BlockManager: Persisting block rdd_3993_16 to disk instead.\n",
      "24/12/02 02:28:28 WARN BlockManager: Persisting block rdd_3993_22 to disk instead.\n",
      "24/12/02 02:28:28 WARN BlockManager: Persisting block rdd_3993_20 to disk instead.\n",
      "24/12/02 02:28:28 WARN BlockManager: Persisting block rdd_3993_19 to disk instead.\n",
      "24/12/02 02:28:28 WARN BlockManager: Persisting block rdd_3993_18 to disk instead.\n",
      "24/12/02 02:28:28 WARN MemoryStore: Not enough space to cache rdd_3993_13 in memory! (computed 12.2 MiB so far)\n",
      "24/12/02 02:28:28 WARN MemoryStore: Not enough space to cache rdd_3993_18 in memory! (computed 5.3 MiB so far)\n",
      "24/12/02 02:28:28 WARN MemoryStore: Not enough space to cache rdd_3993_14 in memory! (computed 12.2 MiB so far)\n",
      "24/12/02 02:28:28 WARN MemoryStore: Not enough space to cache rdd_3993_15 in memory! (computed 1290.0 KiB so far)\n",
      "24/12/02 02:28:28 WARN MemoryStore: Not enough space to cache rdd_3993_16 in memory! (computed 12.2 MiB so far)\n",
      "24/12/02 02:28:28 WARN MemoryStore: Not enough space to cache rdd_3993_21 in memory! (computed 5.3 MiB so far)\n",
      "24/12/02 02:28:29 WARN MemoryStore: Not enough space to cache rdd_3993_19 in memory! (computed 18.4 MiB so far)\n",
      "24/12/02 02:28:29 WARN MemoryStore: Not enough space to cache rdd_3993_20 in memory! (computed 18.4 MiB so far)\n",
      "24/12/02 02:28:29 WARN MemoryStore: Not enough space to cache rdd_3993_13 in memory! (computed 5.3 MiB so far)\n",
      "24/12/02 02:28:29 WARN MemoryStore: Not enough space to cache rdd_3993_19 in memory! (computed 3.4 MiB so far)\n",
      "24/12/02 02:28:29 WARN MemoryStore: Not enough space to cache rdd_3993_20 in memory! (computed 3.4 MiB so far)\n",
      "24/12/02 02:28:29 WARN MemoryStore: Not enough space to cache rdd_3993_14 in memory! (computed 3.4 MiB so far)\n",
      "24/12/02 02:28:29 WARN MemoryStore: Failed to reserve initial memory threshold of 1024.0 KiB for computing block rdd_3993_21 in memory.\n",
      "24/12/02 02:28:29 WARN MemoryStore: Not enough space to cache rdd_3993_15 in memory! (computed 5.3 MiB so far)\n",
      "24/12/02 02:28:29 WARN MemoryStore: Not enough space to cache rdd_3993_16 in memory! (computed 5.3 MiB so far)\n",
      "24/12/02 02:28:29 WARN MemoryStore: Not enough space to cache rdd_3993_18 in memory! (computed 3.4 MiB so far)\n",
      "24/12/02 02:28:29 WARN MemoryStore: Not enough space to cache rdd_3993_21 in memory! (computed 384.0 B so far)\n",
      "24/12/02 02:28:30 WARN MemoryStore: Not enough space to cache rdd_3993_14 in memory! (computed 3.4 MiB so far)\n",
      "24/12/02 02:28:30 WARN MemoryStore: Not enough space to cache rdd_3993_15 in memory! (computed 3.4 MiB so far)\n",
      "24/12/02 02:28:30 WARN MemoryStore: Not enough space to cache rdd_3993_13 in memory! (computed 5.3 MiB so far)\n",
      "24/12/02 02:28:30 WARN MemoryStore: Not enough space to cache rdd_3993_20 in memory! (computed 3.4 MiB so far)\n",
      "24/12/02 02:28:30 WARN MemoryStore: Not enough space to cache rdd_3993_19 in memory! (computed 3.4 MiB so far)\n",
      "24/12/02 02:28:30 WARN MemoryStore: Not enough space to cache rdd_3993_21 in memory! (computed 2.2 MiB so far)\n",
      "24/12/02 02:28:30 WARN MemoryStore: Not enough space to cache rdd_3993_18 in memory! (computed 5.3 MiB so far)\n",
      "24/12/02 02:28:30 WARN MemoryStore: Not enough space to cache rdd_3993_16 in memory! (computed 3.4 MiB so far)\n",
      "24/12/02 02:28:31 WARN MemoryStore: Not enough space to cache rdd_3993_13 in memory! (computed 8.1 MiB so far)\n",
      "24/12/02 02:28:31 WARN MemoryStore: Not enough space to cache rdd_3993_16 in memory! (computed 5.3 MiB so far)\n",
      "24/12/02 02:28:31 WARN MemoryStore: Not enough space to cache rdd_3993_14 in memory! (computed 5.3 MiB so far)\n",
      "24/12/02 02:28:31 WARN MemoryStore: Not enough space to cache rdd_3993_18 in memory! (computed 5.3 MiB so far)\n",
      "24/12/02 02:28:31 WARN MemoryStore: Not enough space to cache rdd_3993_19 in memory! (computed 3.4 MiB so far)\n",
      "24/12/02 02:28:31 WARN MemoryStore: Not enough space to cache rdd_3993_15 in memory! (computed 1290.0 KiB so far)\n",
      "24/12/02 02:28:31 WARN MemoryStore: Failed to reserve initial memory threshold of 1024.0 KiB for computing block rdd_3993_20 in memory.\n",
      "24/12/02 02:28:31 WARN MemoryStore: Not enough space to cache rdd_3993_21 in memory! (computed 1290.0 KiB so far)\n",
      "24/12/02 02:28:31 WARN MemoryStore: Not enough space to cache rdd_3993_20 in memory! (computed 384.0 B so far)\n",
      "24/12/02 02:28:31 WARN DAGScheduler: Broadcasting large task binary with size 1035.2 KiB\n",
      "24/12/02 02:28:32 WARN MemoryStore: Not enough space to cache rdd_3993_13 in memory! (computed 5.3 MiB so far)\n",
      "24/12/02 02:28:32 WARN MemoryStore: Not enough space to cache rdd_3993_16 in memory! (computed 5.3 MiB so far)\n",
      "24/12/02 02:28:32 WARN MemoryStore: Not enough space to cache rdd_3993_18 in memory! (computed 3.4 MiB so far)\n",
      "24/12/02 02:28:32 WARN MemoryStore: Not enough space to cache rdd_3993_14 in memory! (computed 8.1 MiB so far)\n",
      "24/12/02 02:28:32 WARN MemoryStore: Failed to reserve initial memory threshold of 1024.0 KiB for computing block rdd_3993_20 in memory.\n",
      "24/12/02 02:28:32 WARN MemoryStore: Not enough space to cache rdd_3993_20 in memory! (computed 384.0 B so far)\n",
      "24/12/02 02:28:32 WARN MemoryStore: Not enough space to cache rdd_3993_15 in memory! (computed 3.4 MiB so far)\n",
      "24/12/02 02:28:32 WARN MemoryStore: Not enough space to cache rdd_3993_19 in memory! (computed 2.2 MiB so far)\n",
      "24/12/02 02:28:32 WARN MemoryStore: Not enough space to cache rdd_3993_21 in memory! (computed 2.2 MiB so far)\n",
      "24/12/02 02:28:32 WARN DAGScheduler: Broadcasting large task binary with size 1195.8 KiB\n",
      "24/12/02 02:28:32 WARN MemoryStore: Not enough space to cache rdd_3993_16 in memory! (computed 8.1 MiB so far)\n",
      "24/12/02 02:28:32 WARN MemoryStore: Not enough space to cache rdd_3993_18 in memory! (computed 2.2 MiB so far)\n",
      "24/12/02 02:28:32 WARN MemoryStore: Not enough space to cache rdd_3993_14 in memory! (computed 5.3 MiB so far)\n",
      "24/12/02 02:28:32 WARN MemoryStore: Not enough space to cache rdd_3993_13 in memory! (computed 5.3 MiB so far)\n",
      "24/12/02 02:28:32 WARN MemoryStore: Not enough space to cache rdd_3993_19 in memory! (computed 2.2 MiB so far)\n",
      "24/12/02 02:28:32 WARN MemoryStore: Not enough space to cache rdd_3993_20 in memory! (computed 1290.0 KiB so far)\n",
      "24/12/02 02:28:32 WARN MemoryStore: Not enough space to cache rdd_3993_15 in memory! (computed 5.3 MiB so far)\n",
      "24/12/02 02:28:32 WARN MemoryStore: Not enough space to cache rdd_3993_21 in memory! (computed 1290.0 KiB so far)\n",
      "24/12/02 02:28:33 WARN DAGScheduler: Broadcasting large task binary with size 1407.9 KiB\n",
      "24/12/02 02:28:34 WARN MemoryStore: Not enough space to cache rdd_3993_18 in memory! (computed 5.3 MiB so far)\n",
      "24/12/02 02:28:34 WARN MemoryStore: Not enough space to cache rdd_3993_21 in memory! (computed 3.4 MiB so far)\n",
      "24/12/02 02:28:34 WARN MemoryStore: Not enough space to cache rdd_3993_19 in memory! (computed 3.4 MiB so far)\n",
      "24/12/02 02:28:34 WARN MemoryStore: Not enough space to cache rdd_3993_14 in memory! (computed 3.4 MiB so far)\n",
      "24/12/02 02:28:34 WARN MemoryStore: Not enough space to cache rdd_3993_16 in memory! (computed 3.4 MiB so far)\n",
      "24/12/02 02:28:34 WARN MemoryStore: Not enough space to cache rdd_3993_13 in memory! (computed 3.4 MiB so far)\n",
      "24/12/02 02:28:34 WARN MemoryStore: Not enough space to cache rdd_3993_15 in memory! (computed 3.4 MiB so far)\n",
      "24/12/02 02:28:34 WARN MemoryStore: Not enough space to cache rdd_3993_20 in memory! (computed 3.4 MiB so far)\n",
      "24/12/02 02:28:34 WARN DAGScheduler: Broadcasting large task binary with size 1690.2 KiB\n",
      "24/12/02 02:28:35 WARN MemoryStore: Not enough space to cache rdd_3993_19 in memory! (computed 3.4 MiB so far)\n",
      "24/12/02 02:28:35 WARN MemoryStore: Not enough space to cache rdd_3993_13 in memory! (computed 3.4 MiB so far)\n",
      "24/12/02 02:28:35 WARN MemoryStore: Not enough space to cache rdd_3993_20 in memory! (computed 5.3 MiB so far)\n",
      "24/12/02 02:28:35 WARN MemoryStore: Not enough space to cache rdd_3993_18 in memory! (computed 3.4 MiB so far)\n",
      "24/12/02 02:28:35 WARN MemoryStore: Not enough space to cache rdd_3993_15 in memory! (computed 3.4 MiB so far)\n",
      "24/12/02 02:28:35 WARN MemoryStore: Not enough space to cache rdd_3993_14 in memory! (computed 3.4 MiB so far)\n",
      "24/12/02 02:28:35 WARN MemoryStore: Not enough space to cache rdd_3993_16 in memory! (computed 3.4 MiB so far)\n",
      "24/12/02 02:28:35 WARN MemoryStore: Not enough space to cache rdd_3993_21 in memory! (computed 3.4 MiB so far)\n",
      "24/12/02 02:28:36 WARN DAGScheduler: Broadcasting large task binary with size 2041.2 KiB\n",
      "24/12/02 02:28:36 WARN MemoryStore: Not enough space to cache rdd_3993_16 in memory! (computed 8.1 MiB so far)\n",
      "24/12/02 02:28:36 WARN MemoryStore: Not enough space to cache rdd_3993_20 in memory! (computed 8.1 MiB so far)\n",
      "24/12/02 02:28:36 WARN MemoryStore: Not enough space to cache rdd_3993_15 in memory! (computed 5.3 MiB so far)\n",
      "24/12/02 02:28:36 WARN MemoryStore: Not enough space to cache rdd_3993_17 in memory! (computed 8.1 MiB so far)\n",
      "24/12/02 02:28:36 WARN MemoryStore: Not enough space to cache rdd_3993_18 in memory! (computed 5.3 MiB so far)\n",
      "24/12/02 02:28:36 WARN MemoryStore: Not enough space to cache rdd_3993_21 in memory! (computed 5.3 MiB so far)\n",
      "24/12/02 02:28:36 WARN MemoryStore: Not enough space to cache rdd_3993_19 in memory! (computed 3.4 MiB so far)\n",
      "24/12/02 02:28:36 WARN MemoryStore: Not enough space to cache rdd_3993_13 in memory! (computed 3.4 MiB so far)\n",
      "24/12/02 02:28:36 WARN MemoryStore: Not enough space to cache rdd_3993_14 in memory! (computed 8.1 MiB so far)\n",
      "24/12/02 02:28:37 WARN DAGScheduler: Broadcasting large task binary with size 2.4 MiB\n",
      "24/12/02 02:28:38 WARN MemoryStore: Not enough space to cache rdd_3993_15 in memory! (computed 5.3 MiB so far)\n",
      "24/12/02 02:28:38 WARN MemoryStore: Not enough space to cache rdd_3993_17 in memory! (computed 8.1 MiB so far)\n",
      "24/12/02 02:28:38 WARN MemoryStore: Not enough space to cache rdd_3993_16 in memory! (computed 8.1 MiB so far)\n",
      "24/12/02 02:28:38 WARN MemoryStore: Not enough space to cache rdd_3993_18 in memory! (computed 8.1 MiB so far)\n",
      "24/12/02 02:28:38 WARN MemoryStore: Not enough space to cache rdd_3993_20 in memory! (computed 8.1 MiB so far)\n",
      "24/12/02 02:28:38 WARN MemoryStore: Not enough space to cache rdd_3993_21 in memory! (computed 12.2 MiB so far)\n",
      "24/12/02 02:28:38 WARN MemoryStore: Not enough space to cache rdd_3993_14 in memory! (computed 12.2 MiB so far)\n",
      "24/12/02 02:28:38 WARN MemoryStore: Not enough space to cache rdd_3993_13 in memory! (computed 18.4 MiB so far)\n",
      "24/12/02 02:28:38 WARN MemoryStore: Not enough space to cache rdd_3993_19 in memory! (computed 18.4 MiB so far)\n",
      "24/12/02 02:28:39 WARN DAGScheduler: Broadcasting large task binary with size 1502.8 KiB\n",
      "24/12/02 02:28:44 WARN MemoryStore: Not enough space to cache rdd_4084_13 in memory! (computed 8.1 MiB so far)\n",
      "24/12/02 02:28:44 WARN MemoryStore: Not enough space to cache rdd_4084_14 in memory! (computed 8.1 MiB so far)\n",
      "24/12/02 02:28:44 WARN MemoryStore: Not enough space to cache rdd_4084_19 in memory! (computed 5.3 MiB so far)\n",
      "24/12/02 02:28:44 WARN MemoryStore: Not enough space to cache rdd_4084_18 in memory! (computed 5.3 MiB so far)\n",
      "24/12/02 02:28:44 WARN MemoryStore: Not enough space to cache rdd_4084_15 in memory! (computed 5.3 MiB so far)\n",
      "24/12/02 02:28:44 WARN MemoryStore: Not enough space to cache rdd_4084_17 in memory! (computed 8.1 MiB so far)\n",
      "24/12/02 02:28:44 WARN MemoryStore: Not enough space to cache rdd_4084_22 in memory! (computed 8.1 MiB so far)\n",
      "24/12/02 02:28:44 WARN MemoryStore: Not enough space to cache rdd_4084_20 in memory! (computed 8.1 MiB so far)\n",
      "24/12/02 02:28:44 WARN MemoryStore: Not enough space to cache rdd_4084_16 in memory! (computed 5.3 MiB so far)\n",
      "24/12/02 02:28:44 WARN MemoryStore: Not enough space to cache rdd_4084_21 in memory! (computed 5.3 MiB so far)\n",
      "24/12/02 02:28:44 WARN BlockManager: Persisting block rdd_4084_22 to disk instead.\n",
      "24/12/02 02:28:44 WARN BlockManager: Persisting block rdd_4084_19 to disk instead.\n",
      "24/12/02 02:28:44 WARN BlockManager: Persisting block rdd_4084_18 to disk instead.\n",
      "24/12/02 02:28:44 WARN BlockManager: Persisting block rdd_4084_20 to disk instead.\n",
      "24/12/02 02:28:44 WARN BlockManager: Persisting block rdd_4084_14 to disk instead.\n",
      "24/12/02 02:28:44 WARN BlockManager: Persisting block rdd_4084_15 to disk instead.\n",
      "24/12/02 02:28:44 WARN BlockManager: Persisting block rdd_4084_21 to disk instead.\n",
      "24/12/02 02:28:44 WARN BlockManager: Persisting block rdd_4084_17 to disk instead.\n",
      "24/12/02 02:28:44 WARN BlockManager: Persisting block rdd_4084_16 to disk instead.\n",
      "24/12/02 02:28:44 WARN BlockManager: Persisting block rdd_4084_13 to disk instead.\n",
      "24/12/02 02:28:44 WARN MemoryStore: Not enough space to cache rdd_4084_17 in memory! (computed 5.3 MiB so far)\n",
      "24/12/02 02:28:44 WARN MemoryStore: Not enough space to cache rdd_4084_14 in memory! (computed 8.1 MiB so far)\n",
      "24/12/02 02:28:44 WARN MemoryStore: Not enough space to cache rdd_4084_22 in memory! (computed 2.2 MiB so far)\n",
      "24/12/02 02:28:44 WARN MemoryStore: Not enough space to cache rdd_4084_21 in memory! (computed 3.4 MiB so far)\n",
      "24/12/02 02:28:44 WARN MemoryStore: Not enough space to cache rdd_4084_19 in memory! (computed 12.2 MiB so far)\n",
      "24/12/02 02:28:44 WARN MemoryStore: Not enough space to cache rdd_4084_16 in memory! (computed 12.2 MiB so far)\n",
      "24/12/02 02:28:44 WARN MemoryStore: Not enough space to cache rdd_4084_13 in memory! (computed 12.2 MiB so far)\n",
      "24/12/02 02:28:44 WARN MemoryStore: Not enough space to cache rdd_4084_15 in memory! (computed 12.2 MiB so far)\n",
      "24/12/02 02:28:44 WARN MemoryStore: Not enough space to cache rdd_4084_18 in memory! (computed 12.2 MiB so far)\n",
      "24/12/02 02:28:44 WARN MemoryStore: Not enough space to cache rdd_4084_20 in memory! (computed 12.2 MiB so far)\n",
      "24/12/02 02:28:44 WARN MemoryStore: Not enough space to cache rdd_4084_20 in memory! (computed 5.3 MiB so far)\n",
      "24/12/02 02:28:44 WARN MemoryStore: Not enough space to cache rdd_4084_18 in memory! (computed 8.1 MiB so far)\n",
      "24/12/02 02:28:44 WARN MemoryStore: Not enough space to cache rdd_4084_19 in memory! (computed 12.2 MiB so far)\n",
      "24/12/02 02:28:44 WARN MemoryStore: Not enough space to cache rdd_4084_16 in memory! (computed 8.1 MiB so far)\n",
      "24/12/02 02:28:45 WARN MemoryStore: Not enough space to cache rdd_4084_22 in memory! (computed 3.4 MiB so far)\n",
      "24/12/02 02:28:45 WARN MemoryStore: Not enough space to cache rdd_4084_13 in memory! (computed 18.4 MiB so far)\n",
      "24/12/02 02:28:45 WARN MemoryStore: Not enough space to cache rdd_4084_14 in memory! (computed 18.4 MiB so far)\n",
      "24/12/02 02:28:45 WARN MemoryStore: Not enough space to cache rdd_4084_15 in memory! (computed 8.1 MiB so far)\n",
      "24/12/02 02:28:45 WARN MemoryStore: Not enough space to cache rdd_4084_17 in memory! (computed 5.3 MiB so far)\n",
      "24/12/02 02:28:45 WARN MemoryStore: Not enough space to cache rdd_4084_13 in memory! (computed 8.1 MiB so far)\n",
      "24/12/02 02:28:45 WARN MemoryStore: Not enough space to cache rdd_4084_14 in memory! (computed 12.2 MiB so far)\n",
      "24/12/02 02:28:45 WARN MemoryStore: Not enough space to cache rdd_4084_15 in memory! (computed 5.3 MiB so far)\n",
      "24/12/02 02:28:45 WARN MemoryStore: Not enough space to cache rdd_4084_18 in memory! (computed 5.3 MiB so far)\n",
      "24/12/02 02:28:45 WARN MemoryStore: Not enough space to cache rdd_4084_17 in memory! (computed 5.3 MiB so far)\n",
      "24/12/02 02:28:45 WARN MemoryStore: Not enough space to cache rdd_4084_20 in memory! (computed 5.3 MiB so far)\n",
      "24/12/02 02:28:45 WARN MemoryStore: Not enough space to cache rdd_4084_16 in memory! (computed 8.1 MiB so far)\n",
      "24/12/02 02:28:45 WARN MemoryStore: Not enough space to cache rdd_4084_22 in memory! (computed 5.3 MiB so far)\n",
      "24/12/02 02:28:45 WARN MemoryStore: Not enough space to cache rdd_4084_19 in memory! (computed 8.1 MiB so far)\n",
      "24/12/02 02:28:46 WARN MemoryStore: Not enough space to cache rdd_4084_18 in memory! (computed 8.1 MiB so far)\n",
      "24/12/02 02:28:46 WARN MemoryStore: Not enough space to cache rdd_4084_16 in memory! (computed 8.1 MiB so far)\n",
      "24/12/02 02:28:46 WARN MemoryStore: Not enough space to cache rdd_4084_13 in memory! (computed 5.3 MiB so far)\n",
      "24/12/02 02:28:46 WARN MemoryStore: Not enough space to cache rdd_4084_15 in memory! (computed 12.2 MiB so far)\n",
      "24/12/02 02:28:46 WARN MemoryStore: Not enough space to cache rdd_4084_17 in memory! (computed 5.3 MiB so far)\n",
      "24/12/02 02:28:46 WARN MemoryStore: Not enough space to cache rdd_4084_20 in memory! (computed 8.1 MiB so far)\n",
      "24/12/02 02:28:46 WARN MemoryStore: Not enough space to cache rdd_4084_22 in memory! (computed 2.2 MiB so far)\n",
      "24/12/02 02:28:46 WARN MemoryStore: Not enough space to cache rdd_4084_19 in memory! (computed 5.3 MiB so far)\n",
      "24/12/02 02:28:46 WARN MemoryStore: Not enough space to cache rdd_4084_14 in memory! (computed 8.1 MiB so far)\n",
      "24/12/02 02:28:47 WARN DAGScheduler: Broadcasting large task binary with size 1035.5 KiB\n",
      "24/12/02 02:28:47 WARN MemoryStore: Not enough space to cache rdd_4084_18 in memory! (computed 8.1 MiB so far)\n",
      "24/12/02 02:28:47 WARN MemoryStore: Not enough space to cache rdd_4084_14 in memory! (computed 12.2 MiB so far)\n",
      "24/12/02 02:28:47 WARN MemoryStore: Not enough space to cache rdd_4084_17 in memory! (computed 5.3 MiB so far)\n",
      "24/12/02 02:28:47 WARN MemoryStore: Not enough space to cache rdd_4084_20 in memory! (computed 3.4 MiB so far)\n",
      "24/12/02 02:28:47 WARN MemoryStore: Not enough space to cache rdd_4084_13 in memory! (computed 8.1 MiB so far)\n",
      "24/12/02 02:28:47 WARN MemoryStore: Not enough space to cache rdd_4084_19 in memory! (computed 5.3 MiB so far)\n",
      "24/12/02 02:28:47 WARN MemoryStore: Not enough space to cache rdd_4084_16 in memory! (computed 5.3 MiB so far)\n",
      "24/12/02 02:28:47 WARN MemoryStore: Not enough space to cache rdd_4084_15 in memory! (computed 12.2 MiB so far)\n",
      "24/12/02 02:28:47 WARN MemoryStore: Not enough space to cache rdd_4084_22 in memory! (computed 3.4 MiB so far)\n",
      "24/12/02 02:28:48 WARN DAGScheduler: Broadcasting large task binary with size 1196.1 KiB\n",
      "24/12/02 02:28:48 WARN MemoryStore: Not enough space to cache rdd_4084_14 in memory! (computed 12.2 MiB so far)\n",
      "24/12/02 02:28:48 WARN MemoryStore: Not enough space to cache rdd_4084_18 in memory! (computed 8.1 MiB so far)\n",
      "24/12/02 02:28:48 WARN MemoryStore: Not enough space to cache rdd_4084_16 in memory! (computed 12.2 MiB so far)\n",
      "24/12/02 02:28:48 WARN MemoryStore: Not enough space to cache rdd_4084_17 in memory! (computed 12.2 MiB so far)\n",
      "24/12/02 02:28:48 WARN MemoryStore: Not enough space to cache rdd_4084_15 in memory! (computed 8.1 MiB so far)\n",
      "24/12/02 02:28:48 WARN MemoryStore: Not enough space to cache rdd_4084_13 in memory! (computed 8.1 MiB so far)\n",
      "24/12/02 02:28:48 WARN MemoryStore: Not enough space to cache rdd_4084_20 in memory! (computed 18.4 MiB so far)\n",
      "24/12/02 02:28:48 WARN MemoryStore: Not enough space to cache rdd_4084_22 in memory! (computed 18.4 MiB so far)\n",
      "24/12/02 02:28:48 WARN MemoryStore: Not enough space to cache rdd_4084_19 in memory! (computed 18.4 MiB so far)\n",
      "24/12/02 02:28:49 WARN DAGScheduler: Broadcasting large task binary with size 1408.2 KiB\n",
      "24/12/02 02:28:49 WARN MemoryStore: Not enough space to cache rdd_4084_20 in memory! (computed 5.3 MiB so far)\n",
      "24/12/02 02:28:49 WARN MemoryStore: Not enough space to cache rdd_4084_16 in memory! (computed 5.3 MiB so far)\n",
      "24/12/02 02:28:49 WARN MemoryStore: Not enough space to cache rdd_4084_19 in memory! (computed 5.3 MiB so far)\n",
      "24/12/02 02:28:49 WARN MemoryStore: Not enough space to cache rdd_4084_18 in memory! (computed 8.1 MiB so far)\n",
      "24/12/02 02:28:49 WARN MemoryStore: Not enough space to cache rdd_4084_17 in memory! (computed 5.3 MiB so far)\n",
      "24/12/02 02:28:49 WARN MemoryStore: Not enough space to cache rdd_4084_15 in memory! (computed 8.1 MiB so far)\n",
      "24/12/02 02:28:49 WARN MemoryStore: Not enough space to cache rdd_4084_13 in memory! (computed 12.2 MiB so far)\n",
      "24/12/02 02:28:49 WARN MemoryStore: Not enough space to cache rdd_4084_14 in memory! (computed 12.2 MiB so far)\n",
      "24/12/02 02:28:50 WARN DAGScheduler: Broadcasting large task binary with size 1690.5 KiB\n",
      "24/12/02 02:28:50 WARN MemoryStore: Not enough space to cache rdd_4084_16 in memory! (computed 3.4 MiB so far)\n",
      "24/12/02 02:28:50 WARN MemoryStore: Not enough space to cache rdd_4084_20 in memory! (computed 5.3 MiB so far)\n",
      "24/12/02 02:28:50 WARN MemoryStore: Not enough space to cache rdd_4084_14 in memory! (computed 1290.0 KiB so far)\n",
      "24/12/02 02:28:50 WARN MemoryStore: Not enough space to cache rdd_4084_18 in memory! (computed 3.4 MiB so far)\n",
      "24/12/02 02:28:50 WARN MemoryStore: Not enough space to cache rdd_4084_15 in memory! (computed 3.4 MiB so far)\n",
      "24/12/02 02:28:50 WARN MemoryStore: Not enough space to cache rdd_4084_13 in memory! (computed 1290.0 KiB so far)\n",
      "24/12/02 02:28:50 WARN MemoryStore: Not enough space to cache rdd_4084_17 in memory! (computed 3.4 MiB so far)\n",
      "24/12/02 02:28:50 WARN MemoryStore: Not enough space to cache rdd_4084_19 in memory! (computed 5.3 MiB so far)\n",
      "24/12/02 02:28:51 WARN DAGScheduler: Broadcasting large task binary with size 2041.5 KiB\n",
      "24/12/02 02:28:52 WARN MemoryStore: Not enough space to cache rdd_4084_13 in memory! (computed 8.1 MiB so far)\n",
      "24/12/02 02:28:52 WARN MemoryStore: Not enough space to cache rdd_4084_19 in memory! (computed 8.1 MiB so far)\n",
      "24/12/02 02:28:52 WARN MemoryStore: Not enough space to cache rdd_4084_17 in memory! (computed 8.1 MiB so far)\n",
      "24/12/02 02:28:52 WARN MemoryStore: Not enough space to cache rdd_4084_18 in memory! (computed 12.2 MiB so far)\n",
      "24/12/02 02:28:52 WARN MemoryStore: Not enough space to cache rdd_4084_15 in memory! (computed 12.2 MiB so far)\n",
      "24/12/02 02:28:52 WARN MemoryStore: Not enough space to cache rdd_4084_12 in memory! (computed 12.2 MiB so far)\n",
      "24/12/02 02:28:52 WARN MemoryStore: Not enough space to cache rdd_4084_20 in memory! (computed 12.2 MiB so far)\n",
      "24/12/02 02:28:52 WARN MemoryStore: Not enough space to cache rdd_4084_16 in memory! (computed 12.2 MiB so far)\n",
      "24/12/02 02:28:52 WARN MemoryStore: Not enough space to cache rdd_4084_14 in memory! (computed 12.2 MiB so far)\n",
      "24/12/02 02:28:52 WARN DAGScheduler: Broadcasting large task binary with size 2.4 MiB\n",
      "24/12/02 02:28:53 WARN MemoryStore: Not enough space to cache rdd_4084_3 in memory! (computed 27.8 MiB so far)\n",
      "24/12/02 02:28:53 WARN MemoryStore: Not enough space to cache rdd_4084_19 in memory! (computed 8.1 MiB so far)\n",
      "24/12/02 02:28:53 WARN MemoryStore: Not enough space to cache rdd_4084_20 in memory! (computed 8.1 MiB so far)\n",
      "24/12/02 02:28:53 WARN MemoryStore: Not enough space to cache rdd_4084_17 in memory! (computed 8.1 MiB so far)\n",
      "24/12/02 02:28:53 WARN MemoryStore: Not enough space to cache rdd_4084_18 in memory! (computed 18.4 MiB so far)\n",
      "24/12/02 02:28:53 WARN MemoryStore: Not enough space to cache rdd_4084_13 in memory! (computed 12.2 MiB so far)\n",
      "24/12/02 02:28:53 WARN MemoryStore: Not enough space to cache rdd_4084_14 in memory! (computed 12.2 MiB so far)\n",
      "24/12/02 02:28:53 WARN MemoryStore: Not enough space to cache rdd_4084_15 in memory! (computed 12.2 MiB so far)\n",
      "24/12/02 02:28:53 WARN MemoryStore: Not enough space to cache rdd_4084_16 in memory! (computed 18.4 MiB so far)\n",
      "24/12/02 02:28:53 WARN MemoryStore: Not enough space to cache rdd_4084_12 in memory! (computed 8.1 MiB so far)\n",
      "24/12/02 02:28:54 WARN DAGScheduler: Broadcasting large task binary with size 1502.8 KiB\n",
      "24/12/02 02:28:58 WARN MemoryStore: Not enough space to cache rdd_4175_19 in memory! (computed 5.3 MiB so far)\n",
      "24/12/02 02:28:58 WARN MemoryStore: Not enough space to cache rdd_4175_20 in memory! (computed 8.2 MiB so far)\n",
      "24/12/02 02:28:58 WARN MemoryStore: Not enough space to cache rdd_4175_15 in memory! (computed 5.3 MiB so far)\n",
      "24/12/02 02:28:58 WARN MemoryStore: Not enough space to cache rdd_4175_16 in memory! (computed 5.3 MiB so far)\n",
      "24/12/02 02:28:58 WARN MemoryStore: Not enough space to cache rdd_4175_13 in memory! (computed 5.3 MiB so far)\n",
      "24/12/02 02:28:58 WARN MemoryStore: Not enough space to cache rdd_4175_22 in memory! (computed 5.3 MiB so far)\n",
      "24/12/02 02:28:58 WARN MemoryStore: Not enough space to cache rdd_4175_21 in memory! (computed 8.2 MiB so far)\n",
      "24/12/02 02:28:58 WARN MemoryStore: Not enough space to cache rdd_4175_14 in memory! (computed 5.3 MiB so far)\n",
      "24/12/02 02:28:58 WARN MemoryStore: Not enough space to cache rdd_4175_17 in memory! (computed 8.2 MiB so far)\n",
      "24/12/02 02:28:58 WARN MemoryStore: Not enough space to cache rdd_4175_18 in memory! (computed 8.2 MiB so far)\n",
      "24/12/02 02:28:58 WARN BlockManager: Persisting block rdd_4175_14 to disk instead.\n",
      "24/12/02 02:28:58 WARN BlockManager: Persisting block rdd_4175_22 to disk instead.\n",
      "24/12/02 02:28:58 WARN BlockManager: Persisting block rdd_4175_13 to disk instead.\n",
      "24/12/02 02:28:58 WARN BlockManager: Persisting block rdd_4175_17 to disk instead.\n",
      "24/12/02 02:28:58 WARN BlockManager: Persisting block rdd_4175_20 to disk instead.\n",
      "24/12/02 02:28:58 WARN BlockManager: Persisting block rdd_4175_16 to disk instead.\n",
      "24/12/02 02:28:58 WARN BlockManager: Persisting block rdd_4175_18 to disk instead.\n",
      "24/12/02 02:28:58 WARN BlockManager: Persisting block rdd_4175_21 to disk instead.\n",
      "24/12/02 02:28:58 WARN BlockManager: Persisting block rdd_4175_15 to disk instead.\n",
      "24/12/02 02:28:58 WARN BlockManager: Persisting block rdd_4175_19 to disk instead.\n",
      "24/12/02 02:28:58 WARN MemoryStore: Not enough space to cache rdd_4175_14 in memory! (computed 8.2 MiB so far)\n",
      "24/12/02 02:28:58 WARN MemoryStore: Not enough space to cache rdd_4175_17 in memory! (computed 18.6 MiB so far)\n",
      "24/12/02 02:28:58 WARN MemoryStore: Not enough space to cache rdd_4175_15 in memory! (computed 3.5 MiB so far)\n",
      "24/12/02 02:28:58 WARN MemoryStore: Not enough space to cache rdd_4175_21 in memory! (computed 8.2 MiB so far)\n",
      "24/12/02 02:28:58 WARN MemoryStore: Not enough space to cache rdd_4175_13 in memory! (computed 12.3 MiB so far)\n",
      "24/12/02 02:28:58 WARN MemoryStore: Not enough space to cache rdd_4175_20 in memory! (computed 3.5 MiB so far)\n",
      "24/12/02 02:28:58 WARN MemoryStore: Not enough space to cache rdd_4175_19 in memory! (computed 12.3 MiB so far)\n",
      "24/12/02 02:28:58 WARN MemoryStore: Failed to reserve initial memory threshold of 1024.0 KiB for computing block rdd_4175_18 in memory.\n",
      "24/12/02 02:28:58 WARN MemoryStore: Not enough space to cache rdd_4175_16 in memory! (computed 18.6 MiB so far)\n",
      "24/12/02 02:28:58 WARN MemoryStore: Not enough space to cache rdd_4175_18 in memory! (computed 384.0 B so far)\n",
      "24/12/02 02:28:59 WARN MemoryStore: Not enough space to cache rdd_4175_16 in memory! (computed 8.2 MiB so far)\n",
      "24/12/02 02:28:59 WARN MemoryStore: Not enough space to cache rdd_4175_13 in memory! (computed 12.3 MiB so far)\n",
      "24/12/02 02:28:59 WARN MemoryStore: Not enough space to cache rdd_4175_18 in memory! (computed 8.2 MiB so far)\n",
      "24/12/02 02:28:59 WARN MemoryStore: Not enough space to cache rdd_4175_14 in memory! (computed 8.2 MiB so far)\n",
      "24/12/02 02:28:59 WARN MemoryStore: Not enough space to cache rdd_4175_17 in memory! (computed 5.3 MiB so far)\n",
      "24/12/02 02:28:59 WARN MemoryStore: Not enough space to cache rdd_4175_15 in memory! (computed 8.2 MiB so far)\n",
      "24/12/02 02:28:59 WARN MemoryStore: Not enough space to cache rdd_4175_19 in memory! (computed 12.3 MiB so far)\n",
      "24/12/02 02:28:59 WARN MemoryStore: Not enough space to cache rdd_4175_20 in memory! (computed 18.6 MiB so far)\n",
      "24/12/02 02:28:59 WARN MemoryStore: Not enough space to cache rdd_4175_21 in memory! (computed 18.6 MiB so far)\n",
      "24/12/02 02:29:00 WARN MemoryStore: Not enough space to cache rdd_4175_15 in memory! (computed 12.3 MiB so far)\n",
      "24/12/02 02:29:00 WARN MemoryStore: Not enough space to cache rdd_4175_14 in memory! (computed 12.3 MiB so far)\n",
      "24/12/02 02:29:00 WARN MemoryStore: Not enough space to cache rdd_4175_13 in memory! (computed 8.2 MiB so far)\n",
      "24/12/02 02:29:00 WARN MemoryStore: Not enough space to cache rdd_4175_17 in memory! (computed 3.5 MiB so far)\n",
      "24/12/02 02:29:00 WARN MemoryStore: Not enough space to cache rdd_4175_16 in memory! (computed 5.3 MiB so far)\n",
      "24/12/02 02:29:00 WARN MemoryStore: Not enough space to cache rdd_4175_21 in memory! (computed 1302.7 KiB so far)\n",
      "24/12/02 02:29:00 WARN MemoryStore: Not enough space to cache rdd_4175_18 in memory! (computed 2.2 MiB so far)\n",
      "24/12/02 02:29:00 WARN MemoryStore: Not enough space to cache rdd_4175_19 in memory! (computed 5.3 MiB so far)\n",
      "24/12/02 02:29:00 WARN MemoryStore: Not enough space to cache rdd_4175_20 in memory! (computed 1302.7 KiB so far)\n",
      "24/12/02 02:29:00 WARN DAGScheduler: Broadcasting large task binary with size 1103.6 KiB\n",
      "24/12/02 02:29:01 WARN MemoryStore: Not enough space to cache rdd_4175_15 in memory! (computed 5.3 MiB so far)\n",
      "24/12/02 02:29:01 WARN MemoryStore: Not enough space to cache rdd_4175_16 in memory! (computed 5.3 MiB so far)\n",
      "24/12/02 02:29:01 WARN MemoryStore: Not enough space to cache rdd_4175_18 in memory! (computed 3.5 MiB so far)\n",
      "24/12/02 02:29:01 WARN MemoryStore: Not enough space to cache rdd_4175_17 in memory! (computed 5.3 MiB so far)\n",
      "24/12/02 02:29:01 WARN MemoryStore: Not enough space to cache rdd_4175_19 in memory! (computed 5.3 MiB so far)\n",
      "24/12/02 02:29:01 WARN MemoryStore: Not enough space to cache rdd_4175_21 in memory! (computed 5.3 MiB so far)\n",
      "24/12/02 02:29:01 WARN MemoryStore: Not enough space to cache rdd_4175_20 in memory! (computed 8.2 MiB so far)\n",
      "24/12/02 02:29:01 WARN MemoryStore: Not enough space to cache rdd_4175_14 in memory! (computed 8.2 MiB so far)\n",
      "24/12/02 02:29:01 WARN MemoryStore: Not enough space to cache rdd_4175_13 in memory! (computed 5.3 MiB so far)\n",
      "24/12/02 02:29:01 WARN DAGScheduler: Broadcasting large task binary with size 1341.7 KiB\n",
      "24/12/02 02:29:02 WARN MemoryStore: Not enough space to cache rdd_4175_14 in memory! (computed 5.3 MiB so far)\n",
      "24/12/02 02:29:02 WARN MemoryStore: Not enough space to cache rdd_4175_16 in memory! (computed 5.3 MiB so far)\n",
      "24/12/02 02:29:02 WARN MemoryStore: Not enough space to cache rdd_4175_19 in memory! (computed 5.3 MiB so far)\n",
      "24/12/02 02:29:02 WARN MemoryStore: Not enough space to cache rdd_4175_13 in memory! (computed 5.3 MiB so far)\n",
      "24/12/02 02:29:02 WARN MemoryStore: Not enough space to cache rdd_4175_18 in memory! (computed 5.3 MiB so far)\n",
      "24/12/02 02:29:02 WARN MemoryStore: Not enough space to cache rdd_4175_15 in memory! (computed 12.3 MiB so far)\n",
      "24/12/02 02:29:02 WARN MemoryStore: Not enough space to cache rdd_4175_17 in memory! (computed 12.3 MiB so far)\n",
      "24/12/02 02:29:02 WARN MemoryStore: Not enough space to cache rdd_4175_20 in memory! (computed 18.6 MiB so far)\n",
      "24/12/02 02:29:02 WARN MemoryStore: Not enough space to cache rdd_4175_21 in memory! (computed 28.1 MiB so far)\n",
      "24/12/02 02:29:03 WARN DAGScheduler: Broadcasting large task binary with size 1672.5 KiB\n",
      "24/12/02 02:29:03 WARN MemoryStore: Not enough space to cache rdd_4175_21 in memory! (computed 3.5 MiB so far)\n",
      "24/12/02 02:29:03 WARN MemoryStore: Not enough space to cache rdd_4175_15 in memory! (computed 12.3 MiB so far)\n",
      "24/12/02 02:29:03 WARN MemoryStore: Not enough space to cache rdd_4175_18 in memory! (computed 5.3 MiB so far)\n",
      "24/12/02 02:29:03 WARN MemoryStore: Not enough space to cache rdd_4175_16 in memory! (computed 2.2 MiB so far)\n",
      "24/12/02 02:29:03 WARN MemoryStore: Not enough space to cache rdd_4175_12 in memory! (computed 18.6 MiB so far)\n",
      "24/12/02 02:29:03 WARN MemoryStore: Not enough space to cache rdd_4175_13 in memory! (computed 8.2 MiB so far)\n",
      "24/12/02 02:29:03 WARN MemoryStore: Not enough space to cache rdd_4175_14 in memory! (computed 18.6 MiB so far)\n",
      "24/12/02 02:29:03 WARN MemoryStore: Not enough space to cache rdd_4175_17 in memory! (computed 18.6 MiB so far)\n",
      "24/12/02 02:29:04 WARN DAGScheduler: Broadcasting large task binary with size 2.1 MiB\n",
      "24/12/02 02:29:04 WARN MemoryStore: Not enough space to cache rdd_4175_5 in memory! (computed 28.1 MiB so far)\n",
      "24/12/02 02:29:05 WARN MemoryStore: Not enough space to cache rdd_4175_22 in memory! (computed 12.3 MiB so far)\n",
      "24/12/02 02:29:05 WARN MemoryStore: Not enough space to cache rdd_4175_13 in memory! (computed 8.2 MiB so far)\n",
      "24/12/02 02:29:05 WARN MemoryStore: Not enough space to cache rdd_4175_15 in memory! (computed 12.3 MiB so far)\n",
      "24/12/02 02:29:05 WARN MemoryStore: Not enough space to cache rdd_4175_21 in memory! (computed 12.3 MiB so far)\n",
      "24/12/02 02:29:05 WARN MemoryStore: Not enough space to cache rdd_4175_17 in memory! (computed 12.3 MiB so far)\n",
      "24/12/02 02:29:05 WARN MemoryStore: Not enough space to cache rdd_4175_12 in memory! (computed 12.3 MiB so far)\n",
      "24/12/02 02:29:05 WARN MemoryStore: Not enough space to cache rdd_4175_16 in memory! (computed 12.3 MiB so far)\n",
      "24/12/02 02:29:05 WARN MemoryStore: Not enough space to cache rdd_4175_18 in memory! (computed 18.6 MiB so far)\n",
      "24/12/02 02:29:06 WARN DAGScheduler: Broadcasting large task binary with size 2.6 MiB\n",
      "24/12/02 02:29:07 WARN MemoryStore: Not enough space to cache rdd_4175_15 in memory! (computed 5.3 MiB so far)\n",
      "24/12/02 02:29:07 WARN MemoryStore: Not enough space to cache rdd_4175_13 in memory! (computed 5.3 MiB so far)\n",
      "24/12/02 02:29:07 WARN MemoryStore: Not enough space to cache rdd_4175_18 in memory! (computed 8.2 MiB so far)\n",
      "24/12/02 02:29:07 WARN MemoryStore: Not enough space to cache rdd_4175_21 in memory! (computed 8.2 MiB so far)\n",
      "24/12/02 02:29:07 WARN MemoryStore: Not enough space to cache rdd_4175_22 in memory! (computed 12.3 MiB so far)\n",
      "24/12/02 02:29:07 WARN MemoryStore: Not enough space to cache rdd_4175_16 in memory! (computed 18.6 MiB so far)\n",
      "24/12/02 02:29:07 WARN MemoryStore: Not enough space to cache rdd_4175_12 in memory! (computed 12.3 MiB so far)\n",
      "24/12/02 02:29:07 WARN MemoryStore: Not enough space to cache rdd_4175_20 in memory! (computed 18.6 MiB so far)\n",
      "24/12/02 02:29:07 WARN MemoryStore: Not enough space to cache rdd_4175_17 in memory! (computed 18.6 MiB so far)\n",
      "24/12/02 02:29:08 WARN DAGScheduler: Broadcasting large task binary with size 3.3 MiB\n",
      "24/12/02 02:29:09 WARN MemoryStore: Not enough space to cache rdd_4175_22 in memory! (computed 8.2 MiB so far)\n",
      "24/12/02 02:29:09 WARN MemoryStore: Not enough space to cache rdd_4175_15 in memory! (computed 18.6 MiB so far)\n",
      "24/12/02 02:29:09 WARN MemoryStore: Not enough space to cache rdd_4175_18 in memory! (computed 28.1 MiB so far)\n",
      "24/12/02 02:29:09 WARN MemoryStore: Not enough space to cache rdd_4175_19 in memory! (computed 18.6 MiB so far)\n",
      "24/12/02 02:29:09 WARN MemoryStore: Not enough space to cache rdd_4175_21 in memory! (computed 5.3 MiB so far)\n",
      "24/12/02 02:29:10 WARN DAGScheduler: Broadcasting large task binary with size 4.0 MiB\n",
      "24/12/02 02:29:10 WARN MemoryStore: Not enough space to cache rdd_4175_0 in memory! (computed 18.6 MiB so far)\n",
      "24/12/02 02:29:10 WARN MemoryStore: Not enough space to cache rdd_4175_7 in memory! (computed 18.6 MiB so far)\n",
      "24/12/02 02:29:10 WARN MemoryStore: Not enough space to cache rdd_4175_6 in memory! (computed 12.3 MiB so far)\n",
      "24/12/02 02:29:10 WARN MemoryStore: Not enough space to cache rdd_4175_3 in memory! (computed 18.6 MiB so far)\n",
      "24/12/02 02:29:10 WARN MemoryStore: Not enough space to cache rdd_4175_1 in memory! (computed 12.3 MiB so far)\n",
      "24/12/02 02:29:11 WARN MemoryStore: Not enough space to cache rdd_4175_19 in memory! (computed 18.6 MiB so far)\n",
      "24/12/02 02:29:11 WARN MemoryStore: Not enough space to cache rdd_4175_15 in memory! (computed 28.1 MiB so far)\n",
      "24/12/02 02:29:11 WARN MemoryStore: Not enough space to cache rdd_4175_18 in memory! (computed 18.6 MiB so far)\n",
      "24/12/02 02:29:11 WARN MemoryStore: Not enough space to cache rdd_4175_22 in memory! (computed 18.6 MiB so far)\n",
      "24/12/02 02:29:13 WARN DAGScheduler: Broadcasting large task binary with size 2.4 MiB\n",
      "24/12/02 02:29:16 WARN MemoryStore: Not enough space to cache rdd_4266_15 in memory! (computed 5.3 MiB so far)\n",
      "24/12/02 02:29:16 WARN MemoryStore: Not enough space to cache rdd_4266_13 in memory! (computed 8.2 MiB so far)\n",
      "24/12/02 02:29:16 WARN MemoryStore: Not enough space to cache rdd_4266_19 in memory! (computed 5.3 MiB so far)\n",
      "24/12/02 02:29:16 WARN MemoryStore: Not enough space to cache rdd_4266_17 in memory! (computed 8.2 MiB so far)\n",
      "24/12/02 02:29:16 WARN MemoryStore: Not enough space to cache rdd_4266_16 in memory! (computed 5.3 MiB so far)\n",
      "24/12/02 02:29:16 WARN MemoryStore: Not enough space to cache rdd_4266_21 in memory! (computed 5.3 MiB so far)\n",
      "24/12/02 02:29:16 WARN MemoryStore: Not enough space to cache rdd_4266_20 in memory! (computed 5.3 MiB so far)\n",
      "24/12/02 02:29:16 WARN MemoryStore: Not enough space to cache rdd_4266_18 in memory! (computed 8.2 MiB so far)\n",
      "24/12/02 02:29:16 WARN MemoryStore: Not enough space to cache rdd_4266_22 in memory! (computed 8.2 MiB so far)\n",
      "24/12/02 02:29:16 WARN MemoryStore: Not enough space to cache rdd_4266_14 in memory! (computed 5.3 MiB so far)\n",
      "24/12/02 02:29:16 WARN BlockManager: Persisting block rdd_4266_14 to disk instead.\n",
      "24/12/02 02:29:16 WARN BlockManager: Persisting block rdd_4266_22 to disk instead.\n",
      "24/12/02 02:29:16 WARN BlockManager: Persisting block rdd_4266_16 to disk instead.\n",
      "24/12/02 02:29:16 WARN BlockManager: Persisting block rdd_4266_15 to disk instead.\n",
      "24/12/02 02:29:16 WARN BlockManager: Persisting block rdd_4266_21 to disk instead.\n",
      "24/12/02 02:29:16 WARN BlockManager: Persisting block rdd_4266_17 to disk instead.\n",
      "24/12/02 02:29:16 WARN BlockManager: Persisting block rdd_4266_20 to disk instead.\n",
      "24/12/02 02:29:16 WARN BlockManager: Persisting block rdd_4266_19 to disk instead.\n",
      "24/12/02 02:29:16 WARN BlockManager: Persisting block rdd_4266_13 to disk instead.\n",
      "24/12/02 02:29:16 WARN BlockManager: Persisting block rdd_4266_18 to disk instead.\n",
      "24/12/02 02:29:17 WARN MemoryStore: Failed to reserve initial memory threshold of 1024.0 KiB for computing block rdd_4266_20 in memory.\n",
      "24/12/02 02:29:17 WARN MemoryStore: Not enough space to cache rdd_4266_18 in memory! (computed 5.3 MiB so far)\n",
      "24/12/02 02:29:17 WARN MemoryStore: Not enough space to cache rdd_4266_22 in memory! (computed 2.2 MiB so far)\n",
      "24/12/02 02:29:17 WARN MemoryStore: Not enough space to cache rdd_4266_21 in memory! (computed 3.5 MiB so far)\n",
      "24/12/02 02:29:17 WARN MemoryStore: Not enough space to cache rdd_4266_19 in memory! (computed 8.2 MiB so far)\n",
      "24/12/02 02:29:17 WARN MemoryStore: Not enough space to cache rdd_4266_15 in memory! (computed 5.3 MiB so far)\n",
      "24/12/02 02:29:17 WARN MemoryStore: Not enough space to cache rdd_4266_17 in memory! (computed 8.2 MiB so far)\n",
      "24/12/02 02:29:17 WARN MemoryStore: Not enough space to cache rdd_4266_20 in memory! (computed 384.0 B so far)\n",
      "24/12/02 02:29:17 WARN MemoryStore: Not enough space to cache rdd_4266_16 in memory! (computed 18.6 MiB so far)\n",
      "24/12/02 02:29:17 WARN MemoryStore: Not enough space to cache rdd_4266_14 in memory! (computed 18.6 MiB so far)\n",
      "24/12/02 02:29:17 WARN MemoryStore: Not enough space to cache rdd_4266_13 in memory! (computed 18.6 MiB so far)\n",
      "24/12/02 02:29:18 WARN MemoryStore: Not enough space to cache rdd_4266_16 in memory! (computed 18.6 MiB so far)\n",
      "24/12/02 02:29:18 WARN MemoryStore: Not enough space to cache rdd_4266_13 in memory! (computed 18.6 MiB so far)\n",
      "24/12/02 02:29:18 WARN MemoryStore: Not enough space to cache rdd_4266_14 in memory! (computed 18.6 MiB so far)\n",
      "24/12/02 02:29:18 WARN MemoryStore: Not enough space to cache rdd_4266_15 in memory! (computed 28.1 MiB so far)\n",
      "24/12/02 02:29:18 WARN MemoryStore: Not enough space to cache rdd_4266_19 in memory! (computed 12.3 MiB so far)\n",
      "24/12/02 02:29:18 WARN MemoryStore: Not enough space to cache rdd_4266_18 in memory! (computed 12.3 MiB so far)\n",
      "24/12/02 02:29:18 WARN MemoryStore: Not enough space to cache rdd_4266_17 in memory! (computed 12.3 MiB so far)\n",
      "24/12/02 02:29:18 WARN MemoryStore: Not enough space to cache rdd_4266_20 in memory! (computed 12.3 MiB so far)\n",
      "24/12/02 02:29:18 WARN MemoryStore: Not enough space to cache rdd_4266_21 in memory! (computed 18.6 MiB so far)\n",
      "24/12/02 02:29:18 WARN MemoryStore: Not enough space to cache rdd_4266_22 in memory! (computed 18.6 MiB so far)\n",
      "24/12/02 02:29:19 WARN MemoryStore: Not enough space to cache rdd_4266_20 in memory! (computed 8.2 MiB so far)\n",
      "24/12/02 02:29:19 WARN MemoryStore: Not enough space to cache rdd_4266_18 in memory! (computed 5.3 MiB so far)\n",
      "24/12/02 02:29:19 WARN MemoryStore: Not enough space to cache rdd_4266_16 in memory! (computed 8.2 MiB so far)\n",
      "24/12/02 02:29:19 WARN MemoryStore: Not enough space to cache rdd_4266_22 in memory! (computed 8.2 MiB so far)\n",
      "24/12/02 02:29:19 WARN MemoryStore: Not enough space to cache rdd_4266_19 in memory! (computed 5.3 MiB so far)\n",
      "24/12/02 02:29:19 WARN MemoryStore: Not enough space to cache rdd_4266_14 in memory! (computed 5.3 MiB so far)\n",
      "24/12/02 02:29:19 WARN MemoryStore: Not enough space to cache rdd_4266_15 in memory! (computed 8.2 MiB so far)\n",
      "24/12/02 02:29:19 WARN MemoryStore: Not enough space to cache rdd_4266_17 in memory! (computed 5.3 MiB so far)\n",
      "24/12/02 02:29:19 WARN MemoryStore: Not enough space to cache rdd_4266_21 in memory! (computed 8.2 MiB so far)\n",
      "24/12/02 02:29:19 WARN DAGScheduler: Broadcasting large task binary with size 1103.9 KiB\n",
      "24/12/02 02:29:20 WARN MemoryStore: Not enough space to cache rdd_4266_16 in memory! (computed 5.3 MiB so far)\n",
      "24/12/02 02:29:20 WARN MemoryStore: Not enough space to cache rdd_4266_18 in memory! (computed 5.3 MiB so far)\n",
      "24/12/02 02:29:20 WARN MemoryStore: Not enough space to cache rdd_4266_17 in memory! (computed 5.3 MiB so far)\n",
      "24/12/02 02:29:20 WARN MemoryStore: Not enough space to cache rdd_4266_14 in memory! (computed 5.3 MiB so far)\n",
      "24/12/02 02:29:20 WARN MemoryStore: Not enough space to cache rdd_4266_20 in memory! (computed 8.2 MiB so far)\n",
      "24/12/02 02:29:20 WARN MemoryStore: Not enough space to cache rdd_4266_15 in memory! (computed 8.2 MiB so far)\n",
      "24/12/02 02:29:20 WARN MemoryStore: Not enough space to cache rdd_4266_19 in memory! (computed 8.2 MiB so far)\n",
      "24/12/02 02:29:20 WARN MemoryStore: Not enough space to cache rdd_4266_22 in memory! (computed 8.2 MiB so far)\n",
      "24/12/02 02:29:20 WARN MemoryStore: Not enough space to cache rdd_4266_21 in memory! (computed 8.2 MiB so far)\n",
      "24/12/02 02:29:20 WARN DAGScheduler: Broadcasting large task binary with size 1342.0 KiB\n",
      "24/12/02 02:29:21 WARN MemoryStore: Not enough space to cache rdd_4266_20 in memory! (computed 5.3 MiB so far)\n",
      "24/12/02 02:29:21 WARN MemoryStore: Not enough space to cache rdd_4266_15 in memory! (computed 12.3 MiB so far)\n",
      "24/12/02 02:29:21 WARN MemoryStore: Not enough space to cache rdd_4266_19 in memory! (computed 5.3 MiB so far)\n",
      "24/12/02 02:29:21 WARN MemoryStore: Not enough space to cache rdd_4266_18 in memory! (computed 5.3 MiB so far)\n",
      "24/12/02 02:29:21 WARN MemoryStore: Not enough space to cache rdd_4266_14 in memory! (computed 5.3 MiB so far)\n",
      "24/12/02 02:29:21 WARN MemoryStore: Not enough space to cache rdd_4266_22 in memory! (computed 8.2 MiB so far)\n",
      "24/12/02 02:29:21 WARN MemoryStore: Not enough space to cache rdd_4266_17 in memory! (computed 8.2 MiB so far)\n",
      "24/12/02 02:29:21 WARN MemoryStore: Not enough space to cache rdd_4266_21 in memory! (computed 5.3 MiB so far)\n",
      "24/12/02 02:29:21 WARN MemoryStore: Not enough space to cache rdd_4266_16 in memory! (computed 8.2 MiB so far)\n",
      "24/12/02 02:29:21 WARN DAGScheduler: Broadcasting large task binary with size 1672.8 KiB\n",
      "24/12/02 02:29:22 WARN MemoryStore: Not enough space to cache rdd_4266_15 in memory! (computed 18.6 MiB so far)\n",
      "24/12/02 02:29:22 WARN MemoryStore: Not enough space to cache rdd_4266_17 in memory! (computed 18.6 MiB so far)\n",
      "24/12/02 02:29:22 WARN MemoryStore: Not enough space to cache rdd_4266_14 in memory! (computed 5.3 MiB so far)\n",
      "24/12/02 02:29:22 WARN MemoryStore: Not enough space to cache rdd_4266_16 in memory! (computed 5.3 MiB so far)\n",
      "24/12/02 02:29:22 WARN MemoryStore: Not enough space to cache rdd_4266_19 in memory! (computed 2.2 MiB so far)\n",
      "24/12/02 02:29:22 WARN MemoryStore: Failed to reserve initial memory threshold of 1024.0 KiB for computing block rdd_4266_20 in memory.\n",
      "24/12/02 02:29:22 WARN MemoryStore: Not enough space to cache rdd_4266_20 in memory! (computed 384.0 B so far)\n",
      "24/12/02 02:29:22 WARN MemoryStore: Failed to reserve initial memory threshold of 1024.0 KiB for computing block rdd_4266_21 in memory.\n",
      "24/12/02 02:29:22 WARN MemoryStore: Not enough space to cache rdd_4266_21 in memory! (computed 384.0 B so far)\n",
      "24/12/02 02:29:23 WARN DAGScheduler: Broadcasting large task binary with size 2.1 MiB\n",
      "24/12/02 02:29:23 WARN MemoryStore: Not enough space to cache rdd_4266_1 in memory! (computed 18.6 MiB so far)\n",
      "24/12/02 02:29:23 WARN MemoryStore: Not enough space to cache rdd_4266_9 in memory! (computed 18.6 MiB so far)\n",
      "24/12/02 02:29:24 WARN MemoryStore: Not enough space to cache rdd_4266_15 in memory! (computed 5.3 MiB so far)\n",
      "24/12/02 02:29:24 WARN MemoryStore: Not enough space to cache rdd_4266_16 in memory! (computed 5.3 MiB so far)\n",
      "24/12/02 02:29:24 WARN MemoryStore: Not enough space to cache rdd_4266_21 in memory! (computed 8.2 MiB so far)\n",
      "24/12/02 02:29:24 WARN MemoryStore: Not enough space to cache rdd_4266_20 in memory! (computed 8.2 MiB so far)\n",
      "24/12/02 02:29:24 WARN MemoryStore: Not enough space to cache rdd_4266_19 in memory! (computed 8.2 MiB so far)\n",
      "24/12/02 02:29:24 WARN MemoryStore: Not enough space to cache rdd_4266_17 in memory! (computed 18.6 MiB so far)\n",
      "24/12/02 02:29:24 WARN MemoryStore: Not enough space to cache rdd_4266_14 in memory! (computed 18.6 MiB so far)\n",
      "24/12/02 02:29:25 WARN DAGScheduler: Broadcasting large task binary with size 2.6 MiB\n",
      "24/12/02 02:29:25 WARN MemoryStore: Not enough space to cache rdd_4266_9 in memory! (computed 18.6 MiB so far)\n",
      "24/12/02 02:29:26 WARN MemoryStore: Not enough space to cache rdd_4266_1 in memory! (computed 28.1 MiB so far)\n",
      "24/12/02 02:29:26 WARN MemoryStore: Not enough space to cache rdd_4266_15 in memory! (computed 8.2 MiB so far)\n",
      "24/12/02 02:29:26 WARN MemoryStore: Not enough space to cache rdd_4266_18 in memory! (computed 8.2 MiB so far)\n",
      "24/12/02 02:29:26 WARN MemoryStore: Not enough space to cache rdd_4266_14 in memory! (computed 8.2 MiB so far)\n",
      "24/12/02 02:29:26 WARN MemoryStore: Not enough space to cache rdd_4266_16 in memory! (computed 12.3 MiB so far)\n",
      "24/12/02 02:29:26 WARN MemoryStore: Not enough space to cache rdd_4266_21 in memory! (computed 12.3 MiB so far)\n",
      "24/12/02 02:29:26 WARN MemoryStore: Not enough space to cache rdd_4266_13 in memory! (computed 12.3 MiB so far)\n",
      "24/12/02 02:29:26 WARN MemoryStore: Not enough space to cache rdd_4266_20 in memory! (computed 12.3 MiB so far)\n",
      "24/12/02 02:29:26 WARN MemoryStore: Not enough space to cache rdd_4266_17 in memory! (computed 12.3 MiB so far)\n",
      "24/12/02 02:29:26 WARN MemoryStore: Not enough space to cache rdd_4266_19 in memory! (computed 8.2 MiB so far)\n",
      "24/12/02 02:29:27 WARN DAGScheduler: Broadcasting large task binary with size 3.3 MiB\n",
      "24/12/02 02:29:27 WARN MemoryStore: Not enough space to cache rdd_4266_9 in memory! (computed 18.6 MiB so far)\n",
      "24/12/02 02:29:27 WARN MemoryStore: Not enough space to cache rdd_4266_1 in memory! (computed 28.1 MiB so far)\n",
      "24/12/02 02:29:28 WARN MemoryStore: Not enough space to cache rdd_4266_18 in memory! (computed 18.6 MiB so far)\n",
      "24/12/02 02:29:28 WARN MemoryStore: Not enough space to cache rdd_4266_17 in memory! (computed 18.6 MiB so far)\n",
      "24/12/02 02:29:28 WARN MemoryStore: Not enough space to cache rdd_4266_14 in memory! (computed 18.6 MiB so far)\n",
      "24/12/02 02:29:28 WARN MemoryStore: Not enough space to cache rdd_4266_21 in memory! (computed 18.6 MiB so far)\n",
      "24/12/02 02:29:28 WARN MemoryStore: Not enough space to cache rdd_4266_20 in memory! (computed 12.3 MiB so far)\n",
      "24/12/02 02:29:28 WARN MemoryStore: Not enough space to cache rdd_4266_12 in memory! (computed 12.3 MiB so far)\n",
      "24/12/02 02:29:28 WARN MemoryStore: Not enough space to cache rdd_4266_13 in memory! (computed 18.6 MiB so far)\n",
      "24/12/02 02:29:28 WARN MemoryStore: Not enough space to cache rdd_4266_16 in memory! (computed 18.6 MiB so far)\n",
      "24/12/02 02:29:30 WARN DAGScheduler: Broadcasting large task binary with size 4.0 MiB\n",
      "24/12/02 02:29:30 WARN MemoryStore: Not enough space to cache rdd_4266_1 in memory! (computed 28.1 MiB so far)\n",
      "24/12/02 02:29:30 WARN MemoryStore: Not enough space to cache rdd_4266_22 in memory! (computed 18.6 MiB so far)\n",
      "24/12/02 02:29:31 WARN MemoryStore: Not enough space to cache rdd_4266_16 in memory! (computed 18.6 MiB so far)\n",
      "24/12/02 02:29:31 WARN MemoryStore: Not enough space to cache rdd_4266_12 in memory! (computed 18.6 MiB so far)\n",
      "24/12/02 02:29:30 WARN MemoryStore: Not enough space to cache rdd_4266_15 in memory! (computed 12.3 MiB so far)\n",
      "24/12/02 02:29:30 WARN MemoryStore: Not enough space to cache rdd_4266_18 in memory! (computed 12.3 MiB so far)\n",
      "24/12/02 02:29:31 WARN MemoryStore: Not enough space to cache rdd_4266_19 in memory! (computed 12.3 MiB so far)\n",
      "24/12/02 02:29:31 WARN MemoryStore: Not enough space to cache rdd_4266_20 in memory! (computed 5.3 MiB so far)\n",
      "24/12/02 02:29:31 WARN MemoryStore: Not enough space to cache rdd_4266_14 in memory! (computed 12.3 MiB so far)\n",
      "24/12/02 02:29:31 WARN MemoryStore: Not enough space to cache rdd_4266_21 in memory! (computed 8.2 MiB so far)\n",
      "24/12/02 02:29:31 WARN MemoryStore: Not enough space to cache rdd_4266_17 in memory! (computed 18.6 MiB so far)\n",
      "24/12/02 02:29:31 WARN MemoryStore: Not enough space to cache rdd_4266_13 in memory! (computed 18.6 MiB so far)\n",
      "24/12/02 02:29:32 WARN DAGScheduler: Broadcasting large task binary with size 2.4 MiB\n",
      "24/12/02 02:29:38 WARN MemoryStore: Not enough space to cache rdd_4367_21 in memory! (computed 8.1 MiB so far)\n",
      "24/12/02 02:29:38 WARN MemoryStore: Not enough space to cache rdd_4367_19 in memory! (computed 8.1 MiB so far)\n",
      "24/12/02 02:29:38 WARN MemoryStore: Not enough space to cache rdd_4367_13 in memory! (computed 5.3 MiB so far)\n",
      "24/12/02 02:29:38 WARN MemoryStore: Not enough space to cache rdd_4367_16 in memory! (computed 8.1 MiB so far)\n",
      "24/12/02 02:29:38 WARN MemoryStore: Not enough space to cache rdd_4367_15 in memory! (computed 5.3 MiB so far)\n",
      "24/12/02 02:29:38 WARN MemoryStore: Not enough space to cache rdd_4367_22 in memory! (computed 5.3 MiB so far)\n",
      "24/12/02 02:29:38 WARN MemoryStore: Not enough space to cache rdd_4367_20 in memory! (computed 8.1 MiB so far)\n",
      "24/12/02 02:29:38 WARN MemoryStore: Not enough space to cache rdd_4367_17 in memory! (computed 3.4 MiB so far)\n",
      "24/12/02 02:29:38 WARN MemoryStore: Not enough space to cache rdd_4367_14 in memory! (computed 8.1 MiB so far)\n",
      "24/12/02 02:29:38 WARN MemoryStore: Not enough space to cache rdd_4367_18 in memory! (computed 8.1 MiB so far)\n",
      "24/12/02 02:29:38 WARN BlockManager: Persisting block rdd_4367_14 to disk instead.\n",
      "24/12/02 02:29:38 WARN BlockManager: Persisting block rdd_4367_16 to disk instead.\n",
      "24/12/02 02:29:38 WARN BlockManager: Persisting block rdd_4367_13 to disk instead.\n",
      "24/12/02 02:29:38 WARN BlockManager: Persisting block rdd_4367_18 to disk instead.\n",
      "24/12/02 02:29:38 WARN BlockManager: Persisting block rdd_4367_21 to disk instead.\n",
      "24/12/02 02:29:38 WARN BlockManager: Persisting block rdd_4367_20 to disk instead.\n",
      "24/12/02 02:29:38 WARN BlockManager: Persisting block rdd_4367_17 to disk instead.\n",
      "24/12/02 02:29:38 WARN BlockManager: Persisting block rdd_4367_19 to disk instead.\n",
      "24/12/02 02:29:38 WARN BlockManager: Persisting block rdd_4367_22 to disk instead.\n",
      "24/12/02 02:29:38 WARN BlockManager: Persisting block rdd_4367_15 to disk instead.\n",
      "24/12/02 02:29:39 WARN MemoryStore: Not enough space to cache rdd_4367_14 in memory! (computed 12.2 MiB so far)\n",
      "24/12/02 02:29:39 WARN MemoryStore: Not enough space to cache rdd_4367_17 in memory! (computed 8.1 MiB so far)\n",
      "24/12/02 02:29:39 WARN MemoryStore: Not enough space to cache rdd_4367_21 in memory! (computed 8.1 MiB so far)\n",
      "24/12/02 02:29:39 WARN MemoryStore: Not enough space to cache rdd_4367_13 in memory! (computed 18.4 MiB so far)\n",
      "24/12/02 02:29:39 WARN MemoryStore: Not enough space to cache rdd_4367_15 in memory! (computed 8.1 MiB so far)\n",
      "24/12/02 02:29:39 WARN MemoryStore: Not enough space to cache rdd_4367_22 in memory! (computed 1290.0 KiB so far)\n",
      "24/12/02 02:29:39 WARN MemoryStore: Not enough space to cache rdd_4367_18 in memory! (computed 3.4 MiB so far)\n",
      "24/12/02 02:29:39 WARN MemoryStore: Not enough space to cache rdd_4367_19 in memory! (computed 5.3 MiB so far)\n",
      "24/12/02 02:29:39 WARN MemoryStore: Not enough space to cache rdd_4367_20 in memory! (computed 2.2 MiB so far)\n",
      "24/12/02 02:29:39 WARN MemoryStore: Not enough space to cache rdd_4367_21 in memory! (computed 5.3 MiB so far)\n",
      "24/12/02 02:29:39 WARN MemoryStore: Not enough space to cache rdd_4367_17 in memory! (computed 5.3 MiB so far)\n",
      "24/12/02 02:29:39 WARN MemoryStore: Not enough space to cache rdd_4367_20 in memory! (computed 12.2 MiB so far)\n",
      "24/12/02 02:29:39 WARN MemoryStore: Not enough space to cache rdd_4367_19 in memory! (computed 8.1 MiB so far)\n",
      "24/12/02 02:29:39 WARN MemoryStore: Not enough space to cache rdd_4367_15 in memory! (computed 5.3 MiB so far)\n",
      "24/12/02 02:29:39 WARN MemoryStore: Not enough space to cache rdd_4367_22 in memory! (computed 8.1 MiB so far)\n",
      "24/12/02 02:29:39 WARN MemoryStore: Not enough space to cache rdd_4367_14 in memory! (computed 8.1 MiB so far)\n",
      "24/12/02 02:29:39 WARN MemoryStore: Not enough space to cache rdd_4367_13 in memory! (computed 5.3 MiB so far)\n",
      "24/12/02 02:29:39 WARN MemoryStore: Not enough space to cache rdd_4367_18 in memory! (computed 8.1 MiB so far)\n",
      "24/12/02 02:29:40 WARN MemoryStore: Not enough space to cache rdd_4367_17 in memory! (computed 8.1 MiB so far)\n",
      "24/12/02 02:29:40 WARN MemoryStore: Not enough space to cache rdd_4367_13 in memory! (computed 8.1 MiB so far)\n",
      "24/12/02 02:29:40 WARN MemoryStore: Not enough space to cache rdd_4367_18 in memory! (computed 8.1 MiB so far)\n",
      "24/12/02 02:29:40 WARN MemoryStore: Not enough space to cache rdd_4367_20 in memory! (computed 5.3 MiB so far)\n",
      "24/12/02 02:29:40 WARN MemoryStore: Not enough space to cache rdd_4367_14 in memory! (computed 8.1 MiB so far)\n",
      "24/12/02 02:29:40 WARN MemoryStore: Not enough space to cache rdd_4367_19 in memory! (computed 8.1 MiB so far)\n",
      "24/12/02 02:29:40 WARN MemoryStore: Not enough space to cache rdd_4367_21 in memory! (computed 8.1 MiB so far)\n",
      "24/12/02 02:29:40 WARN MemoryStore: Not enough space to cache rdd_4367_22 in memory! (computed 5.3 MiB so far)\n",
      "24/12/02 02:29:40 WARN MemoryStore: Not enough space to cache rdd_4367_15 in memory! (computed 8.1 MiB so far)\n",
      "24/12/02 02:29:40 WARN MemoryStore: Not enough space to cache rdd_4367_15 in memory! (computed 8.1 MiB so far)\n",
      "24/12/02 02:29:40 WARN MemoryStore: Not enough space to cache rdd_4367_14 in memory! (computed 5.3 MiB so far)\n",
      "24/12/02 02:29:40 WARN MemoryStore: Not enough space to cache rdd_4367_20 in memory! (computed 5.3 MiB so far)\n",
      "24/12/02 02:29:40 WARN MemoryStore: Not enough space to cache rdd_4367_17 in memory! (computed 8.1 MiB so far)\n",
      "24/12/02 02:29:40 WARN MemoryStore: Not enough space to cache rdd_4367_18 in memory! (computed 12.2 MiB so far)\n",
      "24/12/02 02:29:40 WARN MemoryStore: Not enough space to cache rdd_4367_19 in memory! (computed 5.3 MiB so far)\n",
      "24/12/02 02:29:40 WARN MemoryStore: Not enough space to cache rdd_4367_13 in memory! (computed 8.1 MiB so far)\n",
      "24/12/02 02:29:40 WARN MemoryStore: Not enough space to cache rdd_4367_21 in memory! (computed 8.1 MiB so far)\n",
      "24/12/02 02:29:40 WARN MemoryStore: Not enough space to cache rdd_4367_22 in memory! (computed 5.3 MiB so far)\n",
      "24/12/02 02:29:41 WARN DAGScheduler: Broadcasting large task binary with size 1029.7 KiB\n",
      "24/12/02 02:29:41 WARN MemoryStore: Not enough space to cache rdd_4367_17 in memory! (computed 5.3 MiB so far)\n",
      "24/12/02 02:29:41 WARN MemoryStore: Not enough space to cache rdd_4367_14 in memory! (computed 5.3 MiB so far)\n",
      "24/12/02 02:29:41 WARN MemoryStore: Not enough space to cache rdd_4367_20 in memory! (computed 5.3 MiB so far)\n",
      "24/12/02 02:29:41 WARN MemoryStore: Not enough space to cache rdd_4367_13 in memory! (computed 12.2 MiB so far)\n",
      "24/12/02 02:29:41 WARN MemoryStore: Not enough space to cache rdd_4367_22 in memory! (computed 8.1 MiB so far)\n",
      "24/12/02 02:29:41 WARN MemoryStore: Not enough space to cache rdd_4367_18 in memory! (computed 5.3 MiB so far)\n",
      "24/12/02 02:29:41 WARN MemoryStore: Not enough space to cache rdd_4367_19 in memory! (computed 8.1 MiB so far)\n",
      "24/12/02 02:29:41 WARN MemoryStore: Not enough space to cache rdd_4367_21 in memory! (computed 8.1 MiB so far)\n",
      "24/12/02 02:29:41 WARN MemoryStore: Not enough space to cache rdd_4367_15 in memory! (computed 8.1 MiB so far)\n",
      "24/12/02 02:29:47 WARN MemoryStore: Not enough space to cache rdd_4453_19 in memory! (computed 8.1 MiB so far)\n",
      "24/12/02 02:29:47 WARN MemoryStore: Not enough space to cache rdd_4453_20 in memory! (computed 5.3 MiB so far)\n",
      "24/12/02 02:29:47 WARN MemoryStore: Not enough space to cache rdd_4453_14 in memory! (computed 5.3 MiB so far)\n",
      "24/12/02 02:29:47 WARN MemoryStore: Not enough space to cache rdd_4453_16 in memory! (computed 8.1 MiB so far)\n",
      "24/12/02 02:29:47 WARN MemoryStore: Not enough space to cache rdd_4453_22 in memory! (computed 5.3 MiB so far)\n",
      "24/12/02 02:29:47 WARN MemoryStore: Not enough space to cache rdd_4453_17 in memory! (computed 8.1 MiB so far)\n",
      "24/12/02 02:29:47 WARN MemoryStore: Not enough space to cache rdd_4453_13 in memory! (computed 5.3 MiB so far)\n",
      "24/12/02 02:29:47 WARN MemoryStore: Not enough space to cache rdd_4453_18 in memory! (computed 8.1 MiB so far)\n",
      "24/12/02 02:29:47 WARN MemoryStore: Not enough space to cache rdd_4453_21 in memory! (computed 5.3 MiB so far)\n",
      "24/12/02 02:29:47 WARN BlockManager: Persisting block rdd_4453_22 to disk instead.\n",
      "24/12/02 02:29:47 WARN BlockManager: Persisting block rdd_4453_14 to disk instead.\n",
      "24/12/02 02:29:47 WARN BlockManager: Persisting block rdd_4453_16 to disk instead.\n",
      "24/12/02 02:29:47 WARN BlockManager: Persisting block rdd_4453_17 to disk instead.\n",
      "24/12/02 02:29:47 WARN BlockManager: Persisting block rdd_4453_19 to disk instead.\n",
      "24/12/02 02:29:47 WARN BlockManager: Persisting block rdd_4453_13 to disk instead.\n",
      "24/12/02 02:29:47 WARN BlockManager: Persisting block rdd_4453_18 to disk instead.\n",
      "24/12/02 02:29:47 WARN BlockManager: Persisting block rdd_4453_21 to disk instead.\n",
      "24/12/02 02:29:47 WARN BlockManager: Persisting block rdd_4453_20 to disk instead.\n",
      "24/12/02 02:29:47 WARN MemoryStore: Not enough space to cache rdd_4453_15 in memory! (computed 8.1 MiB so far)\n",
      "24/12/02 02:29:47 WARN BlockManager: Persisting block rdd_4453_15 to disk instead.\n",
      "24/12/02 02:29:47 WARN MemoryStore: Not enough space to cache rdd_4453_22 in memory! (computed 1290.0 KiB so far)\n",
      "24/12/02 02:29:47 WARN MemoryStore: Not enough space to cache rdd_4453_20 in memory! (computed 8.1 MiB so far)\n",
      "24/12/02 02:29:47 WARN MemoryStore: Not enough space to cache rdd_4453_13 in memory! (computed 8.1 MiB so far)\n",
      "24/12/02 02:29:47 WARN MemoryStore: Not enough space to cache rdd_4453_19 in memory! (computed 5.3 MiB so far)\n",
      "24/12/02 02:29:47 WARN MemoryStore: Not enough space to cache rdd_4453_21 in memory! (computed 8.1 MiB so far)\n",
      "24/12/02 02:29:47 WARN MemoryStore: Not enough space to cache rdd_4453_15 in memory! (computed 12.2 MiB so far)\n",
      "24/12/02 02:29:47 WARN MemoryStore: Not enough space to cache rdd_4453_14 in memory! (computed 12.2 MiB so far)\n",
      "24/12/02 02:29:47 WARN MemoryStore: Not enough space to cache rdd_4453_17 in memory! (computed 12.2 MiB so far)\n",
      "24/12/02 02:29:47 WARN MemoryStore: Not enough space to cache rdd_4453_18 in memory! (computed 12.2 MiB so far)\n",
      "24/12/02 02:29:47 WARN MemoryStore: Not enough space to cache rdd_4453_16 in memory! (computed 12.2 MiB so far)\n",
      "24/12/02 02:29:48 WARN MemoryStore: Not enough space to cache rdd_4453_13 in memory! (computed 12.2 MiB so far)\n",
      "24/12/02 02:29:48 WARN MemoryStore: Not enough space to cache rdd_4453_15 in memory! (computed 12.2 MiB so far)\n",
      "24/12/02 02:29:48 WARN MemoryStore: Not enough space to cache rdd_4453_22 in memory! (computed 3.4 MiB so far)\n",
      "24/12/02 02:29:48 WARN MemoryStore: Not enough space to cache rdd_4453_14 in memory! (computed 12.2 MiB so far)\n",
      "24/12/02 02:29:48 WARN MemoryStore: Not enough space to cache rdd_4453_17 in memory! (computed 12.2 MiB so far)\n",
      "24/12/02 02:29:48 WARN MemoryStore: Not enough space to cache rdd_4453_20 in memory! (computed 8.1 MiB so far)\n",
      "24/12/02 02:29:48 WARN MemoryStore: Not enough space to cache rdd_4453_19 in memory! (computed 8.1 MiB so far)\n",
      "24/12/02 02:29:48 WARN MemoryStore: Not enough space to cache rdd_4453_18 in memory! (computed 3.4 MiB so far)\n",
      "24/12/02 02:29:48 WARN MemoryStore: Not enough space to cache rdd_4453_16 in memory! (computed 8.1 MiB so far)\n",
      "24/12/02 02:29:49 WARN MemoryStore: Not enough space to cache rdd_4453_13 in memory! (computed 8.1 MiB so far)\n",
      "24/12/02 02:29:49 WARN MemoryStore: Not enough space to cache rdd_4453_19 in memory! (computed 5.3 MiB so far)\n",
      "24/12/02 02:29:49 WARN MemoryStore: Not enough space to cache rdd_4453_15 in memory! (computed 8.1 MiB so far)\n",
      "24/12/02 02:29:49 WARN MemoryStore: Not enough space to cache rdd_4453_17 in memory! (computed 8.1 MiB so far)\n",
      "24/12/02 02:29:49 WARN MemoryStore: Failed to reserve initial memory threshold of 1024.0 KiB for computing block rdd_4453_22 in memory.\n",
      "24/12/02 02:29:49 WARN MemoryStore: Not enough space to cache rdd_4453_16 in memory! (computed 8.1 MiB so far)\n",
      "24/12/02 02:29:49 WARN MemoryStore: Not enough space to cache rdd_4453_14 in memory! (computed 12.2 MiB so far)\n",
      "24/12/02 02:29:49 WARN MemoryStore: Not enough space to cache rdd_4453_22 in memory! (computed 384.0 B so far)\n",
      "24/12/02 02:29:49 WARN MemoryStore: Not enough space to cache rdd_4453_20 in memory! (computed 3.4 MiB so far)\n",
      "24/12/02 02:29:49 WARN MemoryStore: Not enough space to cache rdd_4453_18 in memory! (computed 8.1 MiB so far)\n",
      "24/12/02 02:29:49 WARN MemoryStore: Not enough space to cache rdd_4453_20 in memory! (computed 5.3 MiB so far)\n",
      "24/12/02 02:29:49 WARN MemoryStore: Not enough space to cache rdd_4453_22 in memory! (computed 1290.0 KiB so far)\n",
      "24/12/02 02:29:49 WARN MemoryStore: Not enough space to cache rdd_4453_18 in memory! (computed 8.1 MiB so far)\n",
      "24/12/02 02:29:49 WARN MemoryStore: Not enough space to cache rdd_4453_17 in memory! (computed 8.1 MiB so far)\n",
      "24/12/02 02:29:49 WARN MemoryStore: Not enough space to cache rdd_4453_19 in memory! (computed 5.3 MiB so far)\n",
      "24/12/02 02:29:49 WARN MemoryStore: Not enough space to cache rdd_4453_14 in memory! (computed 8.1 MiB so far)\n",
      "24/12/02 02:29:49 WARN MemoryStore: Not enough space to cache rdd_4453_16 in memory! (computed 5.3 MiB so far)\n",
      "24/12/02 02:29:49 WARN MemoryStore: Not enough space to cache rdd_4453_13 in memory! (computed 8.1 MiB so far)\n",
      "24/12/02 02:29:49 WARN MemoryStore: Not enough space to cache rdd_4453_15 in memory! (computed 12.2 MiB so far)\n",
      "24/12/02 02:29:50 WARN DAGScheduler: Broadcasting large task binary with size 1030.0 KiB\n",
      "24/12/02 02:29:50 WARN MemoryStore: Not enough space to cache rdd_4453_17 in memory! (computed 5.3 MiB so far)\n",
      "24/12/02 02:29:50 WARN MemoryStore: Not enough space to cache rdd_4453_16 in memory! (computed 3.4 MiB so far)\n",
      "24/12/02 02:29:50 WARN MemoryStore: Not enough space to cache rdd_4453_13 in memory! (computed 12.2 MiB so far)\n",
      "24/12/02 02:29:50 WARN MemoryStore: Failed to reserve initial memory threshold of 1024.0 KiB for computing block rdd_4453_20 in memory.\n",
      "24/12/02 02:29:50 WARN MemoryStore: Not enough space to cache rdd_4453_20 in memory! (computed 384.0 B so far)\n",
      "24/12/02 02:29:50 WARN MemoryStore: Not enough space to cache rdd_4453_14 in memory! (computed 18.4 MiB so far)\n",
      "24/12/02 02:29:50 WARN MemoryStore: Not enough space to cache rdd_4453_15 in memory! (computed 12.2 MiB so far)\n",
      "24/12/02 02:29:50 WARN MemoryStore: Not enough space to cache rdd_4453_19 in memory! (computed 3.4 MiB so far)\n",
      "24/12/02 02:29:50 WARN MemoryStore: Not enough space to cache rdd_4453_18 in memory! (computed 3.4 MiB so far)\n",
      "24/12/02 02:29:50 WARN MemoryStore: Not enough space to cache rdd_4453_22 in memory! (computed 2.2 MiB so far)\n",
      "24/12/02 02:29:54 WARN MemoryStore: Not enough space to cache rdd_4529_20 in memory! (computed 3.5 MiB so far)\n",
      "24/12/02 02:29:54 WARN MemoryStore: Not enough space to cache rdd_4529_21 in memory! (computed 8.2 MiB so far)\n",
      "24/12/02 02:29:54 WARN MemoryStore: Not enough space to cache rdd_4529_18 in memory! (computed 8.2 MiB so far)\n",
      "24/12/02 02:29:54 WARN MemoryStore: Not enough space to cache rdd_4529_14 in memory! (computed 5.3 MiB so far)\n",
      "24/12/02 02:29:54 WARN MemoryStore: Not enough space to cache rdd_4529_15 in memory! (computed 8.2 MiB so far)\n",
      "24/12/02 02:29:54 WARN MemoryStore: Not enough space to cache rdd_4529_16 in memory! (computed 3.5 MiB so far)\n",
      "24/12/02 02:29:54 WARN MemoryStore: Not enough space to cache rdd_4529_13 in memory! (computed 3.5 MiB so far)\n",
      "24/12/02 02:29:54 WARN MemoryStore: Not enough space to cache rdd_4529_17 in memory! (computed 8.2 MiB so far)\n",
      "24/12/02 02:29:54 WARN MemoryStore: Not enough space to cache rdd_4529_22 in memory! (computed 8.2 MiB so far)\n",
      "24/12/02 02:29:54 WARN MemoryStore: Not enough space to cache rdd_4529_19 in memory! (computed 8.2 MiB so far)\n",
      "24/12/02 02:29:54 WARN BlockManager: Persisting block rdd_4529_15 to disk instead.\n",
      "24/12/02 02:29:54 WARN BlockManager: Persisting block rdd_4529_20 to disk instead.\n",
      "24/12/02 02:29:54 WARN BlockManager: Persisting block rdd_4529_18 to disk instead.\n",
      "24/12/02 02:29:54 WARN BlockManager: Persisting block rdd_4529_14 to disk instead.\n",
      "24/12/02 02:29:54 WARN BlockManager: Persisting block rdd_4529_19 to disk instead.\n",
      "24/12/02 02:29:54 WARN BlockManager: Persisting block rdd_4529_13 to disk instead.\n",
      "24/12/02 02:29:54 WARN BlockManager: Persisting block rdd_4529_22 to disk instead.\n",
      "24/12/02 02:29:54 WARN BlockManager: Persisting block rdd_4529_21 to disk instead.\n",
      "24/12/02 02:29:54 WARN BlockManager: Persisting block rdd_4529_17 to disk instead.\n",
      "24/12/02 02:29:54 WARN BlockManager: Persisting block rdd_4529_16 to disk instead.\n",
      "24/12/02 02:29:54 WARN MemoryStore: Not enough space to cache rdd_4529_14 in memory! (computed 18.6 MiB so far)\n",
      "24/12/02 02:29:54 WARN MemoryStore: Not enough space to cache rdd_4529_16 in memory! (computed 1302.7 KiB so far)\n",
      "24/12/02 02:29:54 WARN MemoryStore: Not enough space to cache rdd_4529_13 in memory! (computed 8.2 MiB so far)\n",
      "24/12/02 02:29:54 WARN MemoryStore: Not enough space to cache rdd_4529_18 in memory! (computed 5.3 MiB so far)\n",
      "24/12/02 02:29:54 WARN MemoryStore: Not enough space to cache rdd_4529_21 in memory! (computed 5.3 MiB so far)\n",
      "24/12/02 02:29:54 WARN MemoryStore: Not enough space to cache rdd_4529_19 in memory! (computed 12.3 MiB so far)\n",
      "24/12/02 02:29:54 WARN MemoryStore: Not enough space to cache rdd_4529_15 in memory! (computed 12.3 MiB so far)\n",
      "24/12/02 02:29:55 WARN MemoryStore: Not enough space to cache rdd_4529_22 in memory! (computed 28.1 MiB so far)\n",
      "24/12/02 02:29:55 WARN MemoryStore: Not enough space to cache rdd_4529_20 in memory! (computed 28.1 MiB so far)\n",
      "24/12/02 02:29:55 WARN MemoryStore: Not enough space to cache rdd_4529_20 in memory! (computed 5.3 MiB so far)\n",
      "24/12/02 02:29:55 WARN MemoryStore: Not enough space to cache rdd_4529_16 in memory! (computed 12.3 MiB so far)\n",
      "24/12/02 02:29:55 WARN MemoryStore: Not enough space to cache rdd_4529_15 in memory! (computed 8.2 MiB so far)\n",
      "24/12/02 02:29:55 WARN MemoryStore: Not enough space to cache rdd_4529_14 in memory! (computed 8.2 MiB so far)\n",
      "24/12/02 02:29:55 WARN MemoryStore: Not enough space to cache rdd_4529_18 in memory! (computed 3.5 MiB so far)\n",
      "24/12/02 02:29:55 WARN MemoryStore: Not enough space to cache rdd_4529_13 in memory! (computed 18.6 MiB so far)\n",
      "24/12/02 02:29:55 WARN MemoryStore: Not enough space to cache rdd_4529_21 in memory! (computed 5.3 MiB so far)\n",
      "24/12/02 02:29:55 WARN MemoryStore: Not enough space to cache rdd_4529_19 in memory! (computed 2.2 MiB so far)\n",
      "24/12/02 02:29:56 WARN MemoryStore: Not enough space to cache rdd_4529_21 in memory! (computed 3.5 MiB so far)\n",
      "24/12/02 02:29:56 WARN MemoryStore: Not enough space to cache rdd_4529_19 in memory! (computed 2.2 MiB so far)\n",
      "24/12/02 02:29:56 WARN MemoryStore: Not enough space to cache rdd_4529_18 in memory! (computed 3.5 MiB so far)\n",
      "24/12/02 02:29:56 WARN MemoryStore: Not enough space to cache rdd_4529_20 in memory! (computed 3.5 MiB so far)\n",
      "24/12/02 02:29:56 WARN MemoryStore: Not enough space to cache rdd_4529_15 in memory! (computed 3.5 MiB so far)\n",
      "24/12/02 02:29:56 WARN MemoryStore: Not enough space to cache rdd_4529_16 in memory! (computed 3.5 MiB so far)\n",
      "24/12/02 02:29:56 WARN MemoryStore: Not enough space to cache rdd_4529_13 in memory! (computed 3.5 MiB so far)\n",
      "24/12/02 02:29:56 WARN MemoryStore: Not enough space to cache rdd_4529_14 in memory! (computed 3.5 MiB so far)\n",
      "24/12/02 02:29:57 WARN DAGScheduler: Broadcasting large task binary with size 1106.0 KiB\n",
      "24/12/02 02:29:58 WARN MemoryStore: Not enough space to cache rdd_4529_18 in memory! (computed 2.2 MiB so far)\n",
      "24/12/02 02:29:58 WARN MemoryStore: Not enough space to cache rdd_4529_16 in memory! (computed 5.3 MiB so far)\n",
      "24/12/02 02:29:58 WARN MemoryStore: Not enough space to cache rdd_4529_20 in memory! (computed 2.2 MiB so far)\n",
      "24/12/02 02:29:58 WARN MemoryStore: Not enough space to cache rdd_4529_21 in memory! (computed 8.2 MiB so far)\n",
      "24/12/02 02:29:58 WARN MemoryStore: Not enough space to cache rdd_4529_13 in memory! (computed 1302.7 KiB so far)\n",
      "24/12/02 02:29:58 WARN MemoryStore: Not enough space to cache rdd_4529_15 in memory! (computed 5.3 MiB so far)\n",
      "24/12/02 02:29:58 WARN MemoryStore: Not enough space to cache rdd_4529_19 in memory! (computed 1302.7 KiB so far)\n",
      "24/12/02 02:29:58 WARN MemoryStore: Not enough space to cache rdd_4529_14 in memory! (computed 1302.7 KiB so far)\n",
      "24/12/02 02:29:58 WARN DAGScheduler: Broadcasting large task binary with size 1341.8 KiB\n",
      "24/12/02 02:29:59 WARN MemoryStore: Not enough space to cache rdd_4529_13 in memory! (computed 18.6 MiB so far)\n",
      "24/12/02 02:29:59 WARN MemoryStore: Not enough space to cache rdd_4529_21 in memory! (computed 1302.7 KiB so far)\n",
      "24/12/02 02:29:59 WARN MemoryStore: Not enough space to cache rdd_4529_14 in memory! (computed 1302.7 KiB so far)\n",
      "24/12/02 02:29:59 WARN MemoryStore: Failed to reserve initial memory threshold of 1024.0 KiB for computing block rdd_4529_18 in memory.\n",
      "24/12/02 02:29:59 WARN MemoryStore: Failed to reserve initial memory threshold of 1024.0 KiB for computing block rdd_4529_20 in memory.\n",
      "24/12/02 02:29:59 WARN MemoryStore: Not enough space to cache rdd_4529_20 in memory! (computed 384.0 B so far)\n",
      "24/12/02 02:29:59 WARN MemoryStore: Not enough space to cache rdd_4529_19 in memory! (computed 1302.7 KiB so far)\n",
      "24/12/02 02:29:59 WARN MemoryStore: Not enough space to cache rdd_4529_18 in memory! (computed 384.0 B so far)\n",
      "24/12/02 02:29:59 WARN MemoryStore: Not enough space to cache rdd_4529_15 in memory! (computed 2.2 MiB so far)\n",
      "24/12/02 02:29:59 WARN MemoryStore: Not enough space to cache rdd_4529_16 in memory! (computed 2.2 MiB so far)\n",
      "24/12/02 02:30:01 WARN DAGScheduler: Broadcasting large task binary with size 1064.2 KiB\n",
      "24/12/02 02:30:05 WARN MemoryStore: Not enough space to cache rdd_4605_22 in memory! (computed 8.2 MiB so far)\n",
      "24/12/02 02:30:05 WARN MemoryStore: Not enough space to cache rdd_4605_14 in memory! (computed 8.2 MiB so far)\n",
      "24/12/02 02:30:05 WARN MemoryStore: Not enough space to cache rdd_4605_18 in memory! (computed 5.3 MiB so far)\n",
      "24/12/02 02:30:05 WARN MemoryStore: Not enough space to cache rdd_4605_20 in memory! (computed 5.3 MiB so far)\n",
      "24/12/02 02:30:05 WARN MemoryStore: Not enough space to cache rdd_4605_15 in memory! (computed 5.3 MiB so far)\n",
      "24/12/02 02:30:05 WARN MemoryStore: Not enough space to cache rdd_4605_17 in memory! (computed 5.3 MiB so far)\n",
      "24/12/02 02:30:05 WARN MemoryStore: Not enough space to cache rdd_4605_19 in memory! (computed 5.3 MiB so far)\n",
      "24/12/02 02:30:05 WARN MemoryStore: Not enough space to cache rdd_4605_21 in memory! (computed 5.3 MiB so far)\n",
      "24/12/02 02:30:05 WARN BlockManager: Persisting block rdd_4605_19 to disk instead.\n",
      "24/12/02 02:30:05 WARN BlockManager: Persisting block rdd_4605_15 to disk instead.\n",
      "24/12/02 02:30:05 WARN BlockManager: Persisting block rdd_4605_18 to disk instead.\n",
      "24/12/02 02:30:05 WARN BlockManager: Persisting block rdd_4605_22 to disk instead.\n",
      "24/12/02 02:30:05 WARN BlockManager: Persisting block rdd_4605_14 to disk instead.\n",
      "24/12/02 02:30:05 WARN BlockManager: Persisting block rdd_4605_21 to disk instead.\n",
      "24/12/02 02:30:05 WARN MemoryStore: Not enough space to cache rdd_4605_16 in memory! (computed 8.2 MiB so far)\n",
      "24/12/02 02:30:05 WARN BlockManager: Persisting block rdd_4605_16 to disk instead.\n",
      "24/12/02 02:30:05 WARN MemoryStore: Not enough space to cache rdd_4605_13 in memory! (computed 8.2 MiB so far)\n",
      "24/12/02 02:30:05 WARN BlockManager: Persisting block rdd_4605_13 to disk instead.\n",
      "24/12/02 02:30:05 WARN BlockManager: Persisting block rdd_4605_20 to disk instead.\n",
      "24/12/02 02:30:05 WARN BlockManager: Persisting block rdd_4605_17 to disk instead.\n",
      "24/12/02 02:30:05 WARN MemoryStore: Not enough space to cache rdd_4605_15 in memory! (computed 5.3 MiB so far)\n",
      "24/12/02 02:30:05 WARN MemoryStore: Not enough space to cache rdd_4605_21 in memory! (computed 3.5 MiB so far)\n",
      "24/12/02 02:30:05 WARN MemoryStore: Not enough space to cache rdd_4605_20 in memory! (computed 1302.7 KiB so far)\n",
      "24/12/02 02:30:05 WARN MemoryStore: Not enough space to cache rdd_4605_19 in memory! (computed 8.2 MiB so far)\n",
      "24/12/02 02:30:05 WARN MemoryStore: Not enough space to cache rdd_4605_14 in memory! (computed 12.3 MiB so far)\n",
      "24/12/02 02:30:05 WARN MemoryStore: Not enough space to cache rdd_4605_17 in memory! (computed 8.2 MiB so far)\n",
      "24/12/02 02:30:05 WARN MemoryStore: Not enough space to cache rdd_4605_18 in memory! (computed 3.5 MiB so far)\n",
      "24/12/02 02:30:05 WARN MemoryStore: Failed to reserve initial memory threshold of 1024.0 KiB for computing block rdd_4605_22 in memory.\n",
      "24/12/02 02:30:05 WARN MemoryStore: Not enough space to cache rdd_4605_22 in memory! (computed 384.0 B so far)\n",
      "24/12/02 02:30:05 WARN MemoryStore: Not enough space to cache rdd_4605_16 in memory! (computed 18.6 MiB so far)\n",
      "24/12/02 02:30:06 WARN MemoryStore: Not enough space to cache rdd_4605_16 in memory! (computed 12.3 MiB so far)\n",
      "24/12/02 02:30:06 WARN MemoryStore: Not enough space to cache rdd_4605_15 in memory! (computed 8.2 MiB so far)\n",
      "24/12/02 02:30:06 WARN MemoryStore: Not enough space to cache rdd_4605_17 in memory! (computed 12.3 MiB so far)\n",
      "24/12/02 02:30:06 WARN MemoryStore: Not enough space to cache rdd_4605_19 in memory! (computed 3.5 MiB so far)\n",
      "24/12/02 02:30:06 WARN MemoryStore: Not enough space to cache rdd_4605_22 in memory! (computed 3.5 MiB so far)\n",
      "24/12/02 02:30:06 WARN MemoryStore: Not enough space to cache rdd_4605_18 in memory! (computed 12.3 MiB so far)\n",
      "24/12/02 02:30:06 WARN MemoryStore: Not enough space to cache rdd_4605_21 in memory! (computed 12.3 MiB so far)\n",
      "24/12/02 02:30:06 WARN MemoryStore: Not enough space to cache rdd_4605_20 in memory! (computed 12.3 MiB so far)\n",
      "24/12/02 02:30:07 WARN MemoryStore: Not enough space to cache rdd_4605_15 in memory! (computed 8.2 MiB so far)\n",
      "24/12/02 02:30:07 WARN MemoryStore: Not enough space to cache rdd_4605_17 in memory! (computed 8.2 MiB so far)\n",
      "24/12/02 02:30:07 WARN MemoryStore: Not enough space to cache rdd_4605_16 in memory! (computed 8.2 MiB so far)\n",
      "24/12/02 02:30:07 WARN MemoryStore: Not enough space to cache rdd_4605_19 in memory! (computed 5.3 MiB so far)\n",
      "24/12/02 02:30:07 WARN MemoryStore: Not enough space to cache rdd_4605_20 in memory! (computed 5.3 MiB so far)\n",
      "24/12/02 02:30:07 WARN MemoryStore: Failed to reserve initial memory threshold of 1024.0 KiB for computing block rdd_4605_21 in memory.\n",
      "24/12/02 02:30:07 WARN MemoryStore: Not enough space to cache rdd_4605_21 in memory! (computed 384.0 B so far)\n",
      "24/12/02 02:30:07 WARN MemoryStore: Failed to reserve initial memory threshold of 1024.0 KiB for computing block rdd_4605_22 in memory.\n",
      "24/12/02 02:30:07 WARN MemoryStore: Not enough space to cache rdd_4605_22 in memory! (computed 384.0 B so far)\n",
      "24/12/02 02:30:07 WARN MemoryStore: Not enough space to cache rdd_4605_18 in memory! (computed 2.2 MiB so far)\n",
      "24/12/02 02:30:07 WARN DAGScheduler: Broadcasting large task binary with size 1106.3 KiB\n",
      "24/12/02 02:30:08 WARN MemoryStore: Not enough space to cache rdd_4605_18 in memory! (computed 8.2 MiB so far)\n",
      "24/12/02 02:30:08 WARN MemoryStore: Not enough space to cache rdd_4605_15 in memory! (computed 8.2 MiB so far)\n",
      "24/12/02 02:30:08 WARN MemoryStore: Not enough space to cache rdd_4605_17 in memory! (computed 12.3 MiB so far)\n",
      "24/12/02 02:30:08 WARN MemoryStore: Not enough space to cache rdd_4605_16 in memory! (computed 8.2 MiB so far)\n",
      "24/12/02 02:30:08 WARN MemoryStore: Failed to reserve initial memory threshold of 1024.0 KiB for computing block rdd_4605_19 in memory.\n",
      "24/12/02 02:30:08 WARN MemoryStore: Failed to reserve initial memory threshold of 1024.0 KiB for computing block rdd_4605_21 in memory.\n",
      "24/12/02 02:30:08 WARN MemoryStore: Failed to reserve initial memory threshold of 1024.0 KiB for computing block rdd_4605_22 in memory.\n",
      "24/12/02 02:30:08 WARN MemoryStore: Failed to reserve initial memory threshold of 1024.0 KiB for computing block rdd_4605_20 in memory.\n",
      "24/12/02 02:30:08 WARN MemoryStore: Not enough space to cache rdd_4605_22 in memory! (computed 384.0 B so far)\n",
      "24/12/02 02:30:08 WARN MemoryStore: Not enough space to cache rdd_4605_19 in memory! (computed 384.0 B so far)\n",
      "24/12/02 02:30:08 WARN MemoryStore: Not enough space to cache rdd_4605_20 in memory! (computed 384.0 B so far)\n",
      "24/12/02 02:30:08 WARN MemoryStore: Not enough space to cache rdd_4605_21 in memory! (computed 384.0 B so far)\n",
      "24/12/02 02:30:08 WARN DAGScheduler: Broadcasting large task binary with size 1342.1 KiB\n",
      "24/12/02 02:30:09 WARN MemoryStore: Not enough space to cache rdd_4605_16 in memory! (computed 12.3 MiB so far)\n",
      "24/12/02 02:30:09 WARN MemoryStore: Not enough space to cache rdd_4605_15 in memory! (computed 12.3 MiB so far)\n",
      "24/12/02 02:30:09 WARN MemoryStore: Not enough space to cache rdd_4605_17 in memory! (computed 12.3 MiB so far)\n",
      "24/12/02 02:30:09 WARN MemoryStore: Failed to reserve initial memory threshold of 1024.0 KiB for computing block rdd_4605_19 in memory.\n",
      "24/12/02 02:30:09 WARN MemoryStore: Failed to reserve initial memory threshold of 1024.0 KiB for computing block rdd_4605_20 in memory.\n",
      "24/12/02 02:30:09 WARN MemoryStore: Failed to reserve initial memory threshold of 1024.0 KiB for computing block rdd_4605_21 in memory.\n",
      "24/12/02 02:30:09 WARN MemoryStore: Failed to reserve initial memory threshold of 1024.0 KiB for computing block rdd_4605_18 in memory.\n",
      "24/12/02 02:30:09 WARN MemoryStore: Not enough space to cache rdd_4605_19 in memory! (computed 384.0 B so far)\n",
      "24/12/02 02:30:09 WARN MemoryStore: Not enough space to cache rdd_4605_20 in memory! (computed 384.0 B so far)\n",
      "24/12/02 02:30:09 WARN MemoryStore: Not enough space to cache rdd_4605_21 in memory! (computed 384.0 B so far)\n",
      "24/12/02 02:30:09 WARN MemoryStore: Not enough space to cache rdd_4605_18 in memory! (computed 384.0 B so far)\n",
      "24/12/02 02:30:09 WARN MemoryStore: Failed to reserve initial memory threshold of 1024.0 KiB for computing block rdd_4605_22 in memory.\n",
      "24/12/02 02:30:09 WARN MemoryStore: Not enough space to cache rdd_4605_22 in memory! (computed 384.0 B so far)\n",
      "24/12/02 02:30:10 WARN DAGScheduler: Broadcasting large task binary with size 1064.2 KiB\n",
      "24/12/02 02:30:13 WARN MemoryStore: Not enough space to cache rdd_4681_12 in memory! (computed 5.3 MiB so far)\n",
      "24/12/02 02:30:13 WARN MemoryStore: Not enough space to cache rdd_4681_17 in memory! (computed 5.3 MiB so far)\n",
      "24/12/02 02:30:13 WARN MemoryStore: Not enough space to cache rdd_4681_13 in memory! (computed 8.1 MiB so far)\n",
      "24/12/02 02:30:13 WARN MemoryStore: Not enough space to cache rdd_4681_19 in memory! (computed 5.3 MiB so far)\n",
      "24/12/02 02:30:13 WARN MemoryStore: Not enough space to cache rdd_4681_18 in memory! (computed 8.1 MiB so far)\n",
      "24/12/02 02:30:13 WARN MemoryStore: Not enough space to cache rdd_4681_21 in memory! (computed 8.1 MiB so far)\n",
      "24/12/02 02:30:13 WARN MemoryStore: Not enough space to cache rdd_4681_22 in memory! (computed 8.1 MiB so far)\n",
      "24/12/02 02:30:13 WARN MemoryStore: Not enough space to cache rdd_4681_15 in memory! (computed 8.1 MiB so far)\n",
      "24/12/02 02:30:13 WARN MemoryStore: Not enough space to cache rdd_4681_20 in memory! (computed 8.1 MiB so far)\n",
      "24/12/02 02:30:13 WARN BlockManager: Persisting block rdd_4681_22 to disk instead.\n",
      "24/12/02 02:30:13 WARN BlockManager: Persisting block rdd_4681_17 to disk instead.\n",
      "24/12/02 02:30:13 WARN BlockManager: Persisting block rdd_4681_18 to disk instead.\n",
      "24/12/02 02:30:13 WARN BlockManager: Persisting block rdd_4681_21 to disk instead.\n",
      "24/12/02 02:30:13 WARN BlockManager: Persisting block rdd_4681_15 to disk instead.\n",
      "24/12/02 02:30:13 WARN BlockManager: Persisting block rdd_4681_20 to disk instead.\n",
      "24/12/02 02:30:13 WARN BlockManager: Persisting block rdd_4681_13 to disk instead.\n",
      "24/12/02 02:30:13 WARN BlockManager: Persisting block rdd_4681_12 to disk instead.\n",
      "24/12/02 02:30:13 WARN BlockManager: Persisting block rdd_4681_19 to disk instead.\n",
      "24/12/02 02:30:13 WARN MemoryStore: Not enough space to cache rdd_4681_16 in memory! (computed 12.2 MiB so far)\n",
      "24/12/02 02:30:13 WARN MemoryStore: Not enough space to cache rdd_4681_14 in memory! (computed 12.2 MiB so far)\n",
      "24/12/02 02:30:13 WARN BlockManager: Persisting block rdd_4681_14 to disk instead.\n",
      "24/12/02 02:30:13 WARN BlockManager: Persisting block rdd_4681_16 to disk instead.\n",
      "24/12/02 02:30:14 WARN MemoryStore: Not enough space to cache rdd_4681_18 in memory! (computed 1290.0 KiB so far)\n",
      "24/12/02 02:30:14 WARN MemoryStore: Not enough space to cache rdd_4681_13 in memory! (computed 18.4 MiB so far)\n",
      "24/12/02 02:30:14 WARN MemoryStore: Not enough space to cache rdd_4681_19 in memory! (computed 18.4 MiB so far)\n",
      "24/12/02 02:30:14 WARN MemoryStore: Not enough space to cache rdd_4681_21 in memory! (computed 2.2 MiB so far)\n",
      "24/12/02 02:30:14 WARN MemoryStore: Not enough space to cache rdd_4681_12 in memory! (computed 12.2 MiB so far)\n",
      "24/12/02 02:30:14 WARN MemoryStore: Not enough space to cache rdd_4681_17 in memory! (computed 12.2 MiB so far)\n",
      "24/12/02 02:30:14 WARN MemoryStore: Not enough space to cache rdd_4681_20 in memory! (computed 1290.0 KiB so far)\n",
      "24/12/02 02:30:14 WARN MemoryStore: Not enough space to cache rdd_4681_15 in memory! (computed 8.1 MiB so far)\n",
      "24/12/02 02:30:14 WARN MemoryStore: Failed to reserve initial memory threshold of 1024.0 KiB for computing block rdd_4681_22 in memory.\n",
      "24/12/02 02:30:14 WARN MemoryStore: Not enough space to cache rdd_4681_16 in memory! (computed 18.4 MiB so far)\n",
      "24/12/02 02:30:14 WARN MemoryStore: Not enough space to cache rdd_4681_22 in memory! (computed 384.0 B so far)\n",
      "24/12/02 02:30:14 WARN MemoryStore: Not enough space to cache rdd_4681_20 in memory! (computed 5.3 MiB so far)\n",
      "24/12/02 02:30:14 WARN MemoryStore: Not enough space to cache rdd_4681_16 in memory! (computed 8.1 MiB so far)\n",
      "24/12/02 02:30:14 WARN MemoryStore: Not enough space to cache rdd_4681_19 in memory! (computed 5.3 MiB so far)\n",
      "24/12/02 02:30:14 WARN MemoryStore: Not enough space to cache rdd_4681_13 in memory! (computed 12.2 MiB so far)\n",
      "24/12/02 02:30:14 WARN MemoryStore: Not enough space to cache rdd_4681_15 in memory! (computed 5.3 MiB so far)\n",
      "24/12/02 02:30:14 WARN MemoryStore: Not enough space to cache rdd_4681_18 in memory! (computed 8.1 MiB so far)\n",
      "24/12/02 02:30:14 WARN MemoryStore: Not enough space to cache rdd_4681_21 in memory! (computed 5.3 MiB so far)\n",
      "24/12/02 02:30:14 WARN MemoryStore: Not enough space to cache rdd_4681_22 in memory! (computed 5.3 MiB so far)\n",
      "24/12/02 02:30:14 WARN MemoryStore: Not enough space to cache rdd_4681_17 in memory! (computed 8.1 MiB so far)\n",
      "24/12/02 02:30:15 WARN MemoryStore: Not enough space to cache rdd_4681_19 in memory! (computed 5.3 MiB so far)\n",
      "24/12/02 02:30:15 WARN MemoryStore: Not enough space to cache rdd_4681_13 in memory! (computed 8.1 MiB so far)\n",
      "24/12/02 02:30:15 WARN MemoryStore: Not enough space to cache rdd_4681_18 in memory! (computed 12.2 MiB so far)\n",
      "24/12/02 02:30:15 WARN MemoryStore: Not enough space to cache rdd_4681_22 in memory! (computed 5.3 MiB so far)\n",
      "24/12/02 02:30:15 WARN MemoryStore: Not enough space to cache rdd_4681_16 in memory! (computed 5.3 MiB so far)\n",
      "24/12/02 02:30:15 WARN MemoryStore: Not enough space to cache rdd_4681_20 in memory! (computed 12.2 MiB so far)\n",
      "24/12/02 02:30:15 WARN MemoryStore: Not enough space to cache rdd_4681_21 in memory! (computed 8.1 MiB so far)\n",
      "24/12/02 02:30:15 WARN MemoryStore: Not enough space to cache rdd_4681_15 in memory! (computed 5.3 MiB so far)\n",
      "24/12/02 02:30:15 WARN MemoryStore: Not enough space to cache rdd_4681_17 in memory! (computed 5.3 MiB so far)\n",
      "24/12/02 02:30:16 WARN MemoryStore: Not enough space to cache rdd_4681_19 in memory! (computed 8.1 MiB so far)\n",
      "24/12/02 02:30:16 WARN MemoryStore: Not enough space to cache rdd_4681_17 in memory! (computed 5.3 MiB so far)\n",
      "24/12/02 02:30:16 WARN MemoryStore: Not enough space to cache rdd_4681_20 in memory! (computed 5.3 MiB so far)\n",
      "24/12/02 02:30:16 WARN MemoryStore: Not enough space to cache rdd_4681_16 in memory! (computed 12.2 MiB so far)\n",
      "24/12/02 02:30:16 WARN MemoryStore: Not enough space to cache rdd_4681_15 in memory! (computed 8.1 MiB so far)\n",
      "24/12/02 02:30:16 WARN MemoryStore: Not enough space to cache rdd_4681_18 in memory! (computed 8.1 MiB so far)\n",
      "24/12/02 02:30:16 WARN MemoryStore: Not enough space to cache rdd_4681_22 in memory! (computed 5.3 MiB so far)\n",
      "24/12/02 02:30:16 WARN MemoryStore: Not enough space to cache rdd_4681_13 in memory! (computed 12.2 MiB so far)\n",
      "24/12/02 02:30:16 WARN DAGScheduler: Broadcasting large task binary with size 1029.7 KiB\n",
      "24/12/02 02:30:17 WARN MemoryStore: Not enough space to cache rdd_4681_22 in memory! (computed 5.3 MiB so far)\n",
      "24/12/02 02:30:17 WARN MemoryStore: Not enough space to cache rdd_4681_15 in memory! (computed 5.3 MiB so far)\n",
      "24/12/02 02:30:17 WARN MemoryStore: Not enough space to cache rdd_4681_16 in memory! (computed 3.4 MiB so far)\n",
      "24/12/02 02:30:17 WARN MemoryStore: Not enough space to cache rdd_4681_18 in memory! (computed 3.4 MiB so far)\n",
      "24/12/02 02:30:17 WARN MemoryStore: Not enough space to cache rdd_4681_13 in memory! (computed 3.4 MiB so far)\n",
      "24/12/02 02:30:17 WARN MemoryStore: Not enough space to cache rdd_4681_20 in memory! (computed 5.3 MiB so far)\n",
      "24/12/02 02:30:17 WARN MemoryStore: Not enough space to cache rdd_4681_17 in memory! (computed 3.4 MiB so far)\n",
      "24/12/02 02:30:17 WARN MemoryStore: Not enough space to cache rdd_4681_19 in memory! (computed 5.3 MiB so far)\n",
      "24/12/02 02:30:17 WARN DAGScheduler: Broadcasting large task binary with size 1184.6 KiB\n",
      "24/12/02 02:30:18 WARN MemoryStore: Not enough space to cache rdd_4681_22 in memory! (computed 5.3 MiB so far)\n",
      "24/12/02 02:30:18 WARN MemoryStore: Not enough space to cache rdd_4681_16 in memory! (computed 5.3 MiB so far)\n",
      "24/12/02 02:30:18 WARN MemoryStore: Not enough space to cache rdd_4681_13 in memory! (computed 3.4 MiB so far)\n",
      "24/12/02 02:30:18 WARN MemoryStore: Not enough space to cache rdd_4681_20 in memory! (computed 3.4 MiB so far)\n",
      "24/12/02 02:30:18 WARN MemoryStore: Not enough space to cache rdd_4681_19 in memory! (computed 3.4 MiB so far)\n",
      "24/12/02 02:30:18 WARN MemoryStore: Not enough space to cache rdd_4681_15 in memory! (computed 3.4 MiB so far)\n",
      "24/12/02 02:30:18 WARN MemoryStore: Not enough space to cache rdd_4681_18 in memory! (computed 5.3 MiB so far)\n",
      "24/12/02 02:30:18 WARN MemoryStore: Not enough space to cache rdd_4681_17 in memory! (computed 5.3 MiB so far)\n",
      "24/12/02 02:30:18 WARN DAGScheduler: Broadcasting large task binary with size 1392.6 KiB\n",
      "24/12/02 02:30:19 WARN MemoryStore: Not enough space to cache rdd_4681_20 in memory! (computed 3.4 MiB so far)\n",
      "24/12/02 02:30:19 WARN MemoryStore: Not enough space to cache rdd_4681_17 in memory! (computed 3.4 MiB so far)\n",
      "24/12/02 02:30:19 WARN MemoryStore: Not enough space to cache rdd_4681_18 in memory! (computed 3.4 MiB so far)\n",
      "24/12/02 02:30:19 WARN MemoryStore: Not enough space to cache rdd_4681_16 in memory! (computed 5.3 MiB so far)\n",
      "24/12/02 02:30:19 WARN MemoryStore: Not enough space to cache rdd_4681_22 in memory! (computed 5.3 MiB so far)\n",
      "24/12/02 02:30:19 WARN MemoryStore: Not enough space to cache rdd_4681_13 in memory! (computed 5.3 MiB so far)\n",
      "24/12/02 02:30:19 WARN MemoryStore: Not enough space to cache rdd_4681_15 in memory! (computed 5.3 MiB so far)\n",
      "24/12/02 02:30:19 WARN MemoryStore: Not enough space to cache rdd_4681_19 in memory! (computed 3.4 MiB so far)\n",
      "24/12/02 02:30:19 WARN DAGScheduler: Broadcasting large task binary with size 1663.2 KiB\n",
      "24/12/02 02:30:20 WARN MemoryStore: Not enough space to cache rdd_4681_18 in memory! (computed 5.3 MiB so far)\n",
      "24/12/02 02:30:20 WARN MemoryStore: Not enough space to cache rdd_4681_19 in memory! (computed 3.4 MiB so far)\n",
      "24/12/02 02:30:20 WARN MemoryStore: Not enough space to cache rdd_4681_22 in memory! (computed 3.4 MiB so far)\n",
      "24/12/02 02:30:20 WARN MemoryStore: Not enough space to cache rdd_4681_17 in memory! (computed 5.3 MiB so far)\n",
      "24/12/02 02:30:20 WARN MemoryStore: Not enough space to cache rdd_4681_13 in memory! (computed 5.3 MiB so far)\n",
      "24/12/02 02:30:20 WARN MemoryStore: Not enough space to cache rdd_4681_15 in memory! (computed 3.4 MiB so far)\n",
      "24/12/02 02:30:20 WARN MemoryStore: Not enough space to cache rdd_4681_16 in memory! (computed 3.4 MiB so far)\n",
      "24/12/02 02:30:20 WARN MemoryStore: Not enough space to cache rdd_4681_20 in memory! (computed 5.3 MiB so far)\n",
      "24/12/02 02:30:21 WARN DAGScheduler: Broadcasting large task binary with size 1998.4 KiB\n",
      "24/12/02 02:30:21 WARN MemoryStore: Not enough space to cache rdd_4681_14 in memory! (computed 8.1 MiB so far)\n",
      "24/12/02 02:30:21 WARN MemoryStore: Not enough space to cache rdd_4681_17 in memory! (computed 3.4 MiB so far)\n",
      "24/12/02 02:30:21 WARN MemoryStore: Not enough space to cache rdd_4681_15 in memory! (computed 5.3 MiB so far)\n",
      "24/12/02 02:30:21 WARN MemoryStore: Not enough space to cache rdd_4681_19 in memory! (computed 5.3 MiB so far)\n",
      "24/12/02 02:30:21 WARN MemoryStore: Not enough space to cache rdd_4681_18 in memory! (computed 12.2 MiB so far)\n",
      "24/12/02 02:30:21 WARN MemoryStore: Not enough space to cache rdd_4681_16 in memory! (computed 12.2 MiB so far)\n",
      "24/12/02 02:30:21 WARN MemoryStore: Not enough space to cache rdd_4681_20 in memory! (computed 18.4 MiB so far)\n",
      "24/12/02 02:30:21 WARN MemoryStore: Not enough space to cache rdd_4681_22 in memory! (computed 18.4 MiB so far)\n",
      "24/12/02 02:30:22 WARN DAGScheduler: Broadcasting large task binary with size 2.4 MiB\n",
      "24/12/02 02:30:23 WARN MemoryStore: Not enough space to cache rdd_4681_15 in memory! (computed 12.2 MiB so far)\n",
      "24/12/02 02:30:23 WARN MemoryStore: Not enough space to cache rdd_4681_20 in memory! (computed 8.1 MiB so far)\n",
      "24/12/02 02:30:23 WARN MemoryStore: Not enough space to cache rdd_4681_14 in memory! (computed 8.1 MiB so far)\n",
      "24/12/02 02:30:23 WARN MemoryStore: Not enough space to cache rdd_4681_19 in memory! (computed 8.1 MiB so far)\n",
      "24/12/02 02:30:23 WARN MemoryStore: Not enough space to cache rdd_4681_16 in memory! (computed 8.1 MiB so far)\n",
      "24/12/02 02:30:23 WARN MemoryStore: Not enough space to cache rdd_4681_21 in memory! (computed 12.2 MiB so far)\n",
      "24/12/02 02:30:23 WARN MemoryStore: Not enough space to cache rdd_4681_18 in memory! (computed 8.1 MiB so far)\n",
      "24/12/02 02:30:23 WARN MemoryStore: Not enough space to cache rdd_4681_17 in memory! (computed 12.2 MiB so far)\n",
      "24/12/02 02:30:23 WARN MemoryStore: Not enough space to cache rdd_4681_12 in memory! (computed 12.2 MiB so far)\n",
      "24/12/02 02:30:24 WARN DAGScheduler: Broadcasting large task binary with size 1486.7 KiB\n",
      "24/12/02 02:30:28 WARN MemoryStore: Not enough space to cache rdd_4772_14 in memory! (computed 8.1 MiB so far)\n",
      "24/12/02 02:30:28 WARN MemoryStore: Not enough space to cache rdd_4772_21 in memory! (computed 8.1 MiB so far)\n",
      "24/12/02 02:30:28 WARN MemoryStore: Not enough space to cache rdd_4772_18 in memory! (computed 5.3 MiB so far)\n",
      "24/12/02 02:30:28 WARN MemoryStore: Not enough space to cache rdd_4772_16 in memory! (computed 8.1 MiB so far)\n",
      "24/12/02 02:30:28 WARN MemoryStore: Not enough space to cache rdd_4772_20 in memory! (computed 8.1 MiB so far)\n",
      "24/12/02 02:30:28 WARN MemoryStore: Not enough space to cache rdd_4772_22 in memory! (computed 8.1 MiB so far)\n",
      "24/12/02 02:30:28 WARN MemoryStore: Not enough space to cache rdd_4772_13 in memory! (computed 8.1 MiB so far)\n",
      "24/12/02 02:30:28 WARN MemoryStore: Not enough space to cache rdd_4772_15 in memory! (computed 8.1 MiB so far)\n",
      "24/12/02 02:30:28 WARN MemoryStore: Not enough space to cache rdd_4772_19 in memory! (computed 8.1 MiB so far)\n",
      "24/12/02 02:30:28 WARN MemoryStore: Not enough space to cache rdd_4772_17 in memory! (computed 8.1 MiB so far)\n",
      "24/12/02 02:30:28 WARN BlockManager: Persisting block rdd_4772_21 to disk instead.\n",
      "24/12/02 02:30:28 WARN BlockManager: Persisting block rdd_4772_15 to disk instead.\n",
      "24/12/02 02:30:28 WARN BlockManager: Persisting block rdd_4772_22 to disk instead.\n",
      "24/12/02 02:30:28 WARN BlockManager: Persisting block rdd_4772_18 to disk instead.\n",
      "24/12/02 02:30:28 WARN BlockManager: Persisting block rdd_4772_17 to disk instead.\n",
      "24/12/02 02:30:28 WARN BlockManager: Persisting block rdd_4772_14 to disk instead.\n",
      "24/12/02 02:30:28 WARN BlockManager: Persisting block rdd_4772_19 to disk instead.\n",
      "24/12/02 02:30:28 WARN BlockManager: Persisting block rdd_4772_13 to disk instead.\n",
      "24/12/02 02:30:28 WARN BlockManager: Persisting block rdd_4772_20 to disk instead.\n",
      "24/12/02 02:30:28 WARN BlockManager: Persisting block rdd_4772_16 to disk instead.\n",
      "24/12/02 02:30:28 WARN MemoryStore: Not enough space to cache rdd_4772_12 in memory! (computed 12.2 MiB so far)\n",
      "24/12/02 02:30:28 WARN BlockManager: Persisting block rdd_4772_12 to disk instead.\n",
      "24/12/02 02:30:28 WARN MemoryStore: Not enough space to cache rdd_4772_19 in memory! (computed 12.2 MiB so far)\n",
      "24/12/02 02:30:28 WARN MemoryStore: Not enough space to cache rdd_4772_15 in memory! (computed 8.1 MiB so far)\n",
      "24/12/02 02:30:28 WARN MemoryStore: Not enough space to cache rdd_4772_13 in memory! (computed 12.2 MiB so far)\n",
      "24/12/02 02:30:28 WARN MemoryStore: Not enough space to cache rdd_4772_12 in memory! (computed 12.2 MiB so far)\n",
      "24/12/02 02:30:28 WARN MemoryStore: Not enough space to cache rdd_4772_21 in memory! (computed 12.2 MiB so far)\n",
      "24/12/02 02:30:28 WARN MemoryStore: Not enough space to cache rdd_4772_17 in memory! (computed 12.2 MiB so far)\n",
      "24/12/02 02:30:28 WARN MemoryStore: Not enough space to cache rdd_4772_16 in memory! (computed 18.4 MiB so far)\n",
      "24/12/02 02:30:28 WARN MemoryStore: Not enough space to cache rdd_4772_20 in memory! (computed 5.3 MiB so far)\n",
      "24/12/02 02:30:28 WARN MemoryStore: Not enough space to cache rdd_4772_14 in memory! (computed 18.4 MiB so far)\n",
      "24/12/02 02:30:28 WARN MemoryStore: Not enough space to cache rdd_4772_18 in memory! (computed 2.2 MiB so far)\n",
      "24/12/02 02:30:29 WARN MemoryStore: Not enough space to cache rdd_4772_15 in memory! (computed 12.2 MiB so far)\n",
      "24/12/02 02:30:29 WARN MemoryStore: Not enough space to cache rdd_4772_13 in memory! (computed 18.4 MiB so far)\n",
      "24/12/02 02:30:29 WARN MemoryStore: Not enough space to cache rdd_4772_14 in memory! (computed 18.4 MiB so far)\n",
      "24/12/02 02:30:29 WARN MemoryStore: Not enough space to cache rdd_4772_18 in memory! (computed 8.1 MiB so far)\n",
      "24/12/02 02:30:29 WARN MemoryStore: Not enough space to cache rdd_4772_21 in memory! (computed 8.1 MiB so far)\n",
      "24/12/02 02:30:29 WARN MemoryStore: Not enough space to cache rdd_4772_20 in memory! (computed 8.1 MiB so far)\n",
      "24/12/02 02:30:29 WARN MemoryStore: Not enough space to cache rdd_4772_19 in memory! (computed 5.3 MiB so far)\n",
      "24/12/02 02:30:29 WARN MemoryStore: Not enough space to cache rdd_4772_16 in memory! (computed 12.2 MiB so far)\n",
      "24/12/02 02:30:29 WARN MemoryStore: Not enough space to cache rdd_4772_17 in memory! (computed 12.2 MiB so far)\n",
      "24/12/02 02:30:29 WARN MemoryStore: Not enough space to cache rdd_4772_15 in memory! (computed 8.1 MiB so far)\n",
      "24/12/02 02:30:29 WARN MemoryStore: Not enough space to cache rdd_4772_16 in memory! (computed 8.1 MiB so far)\n",
      "24/12/02 02:30:29 WARN MemoryStore: Not enough space to cache rdd_4772_18 in memory! (computed 5.3 MiB so far)\n",
      "24/12/02 02:30:29 WARN MemoryStore: Not enough space to cache rdd_4772_13 in memory! (computed 5.3 MiB so far)\n",
      "24/12/02 02:30:29 WARN MemoryStore: Not enough space to cache rdd_4772_20 in memory! (computed 3.4 MiB so far)\n",
      "24/12/02 02:30:29 WARN MemoryStore: Not enough space to cache rdd_4772_21 in memory! (computed 5.3 MiB so far)\n",
      "24/12/02 02:30:29 WARN MemoryStore: Not enough space to cache rdd_4772_17 in memory! (computed 5.3 MiB so far)\n",
      "24/12/02 02:30:29 WARN MemoryStore: Not enough space to cache rdd_4772_19 in memory! (computed 5.3 MiB so far)\n",
      "24/12/02 02:30:29 WARN MemoryStore: Not enough space to cache rdd_4772_14 in memory! (computed 8.1 MiB so far)\n",
      "24/12/02 02:30:30 WARN MemoryStore: Not enough space to cache rdd_4772_20 in memory! (computed 5.3 MiB so far)\n",
      "24/12/02 02:30:30 WARN MemoryStore: Not enough space to cache rdd_4772_19 in memory! (computed 5.3 MiB so far)\n",
      "24/12/02 02:30:30 WARN MemoryStore: Not enough space to cache rdd_4772_21 in memory! (computed 3.4 MiB so far)\n",
      "24/12/02 02:30:30 WARN MemoryStore: Not enough space to cache rdd_4772_16 in memory! (computed 3.4 MiB so far)\n",
      "24/12/02 02:30:30 WARN MemoryStore: Not enough space to cache rdd_4772_13 in memory! (computed 8.1 MiB so far)\n",
      "24/12/02 02:30:30 WARN MemoryStore: Not enough space to cache rdd_4772_18 in memory! (computed 8.1 MiB so far)\n",
      "24/12/02 02:30:30 WARN MemoryStore: Not enough space to cache rdd_4772_15 in memory! (computed 8.1 MiB so far)\n",
      "24/12/02 02:30:30 WARN MemoryStore: Not enough space to cache rdd_4772_17 in memory! (computed 8.1 MiB so far)\n",
      "24/12/02 02:30:30 WARN MemoryStore: Not enough space to cache rdd_4772_14 in memory! (computed 5.3 MiB so far)\n",
      "24/12/02 02:30:30 WARN DAGScheduler: Broadcasting large task binary with size 1030.0 KiB\n",
      "24/12/02 02:30:31 WARN MemoryStore: Not enough space to cache rdd_4772_16 in memory! (computed 8.1 MiB so far)\n",
      "24/12/02 02:30:31 WARN MemoryStore: Not enough space to cache rdd_4772_21 in memory! (computed 5.3 MiB so far)\n",
      "24/12/02 02:30:31 WARN MemoryStore: Not enough space to cache rdd_4772_19 in memory! (computed 3.4 MiB so far)\n",
      "24/12/02 02:30:31 WARN MemoryStore: Not enough space to cache rdd_4772_17 in memory! (computed 5.3 MiB so far)\n",
      "24/12/02 02:30:31 WARN MemoryStore: Not enough space to cache rdd_4772_14 in memory! (computed 8.1 MiB so far)\n",
      "24/12/02 02:30:31 WARN MemoryStore: Not enough space to cache rdd_4772_18 in memory! (computed 3.4 MiB so far)\n",
      "24/12/02 02:30:31 WARN MemoryStore: Not enough space to cache rdd_4772_13 in memory! (computed 8.1 MiB so far)\n",
      "24/12/02 02:30:31 WARN MemoryStore: Not enough space to cache rdd_4772_20 in memory! (computed 5.3 MiB so far)\n",
      "24/12/02 02:30:31 WARN DAGScheduler: Broadcasting large task binary with size 1184.9 KiB\n",
      "24/12/02 02:30:32 WARN MemoryStore: Not enough space to cache rdd_4772_16 in memory! (computed 3.4 MiB so far)\n",
      "24/12/02 02:30:32 WARN MemoryStore: Not enough space to cache rdd_4772_21 in memory! (computed 3.4 MiB so far)\n",
      "24/12/02 02:30:32 WARN MemoryStore: Not enough space to cache rdd_4772_20 in memory! (computed 3.4 MiB so far)\n",
      "24/12/02 02:30:32 WARN MemoryStore: Not enough space to cache rdd_4772_18 in memory! (computed 3.4 MiB so far)\n",
      "24/12/02 02:30:32 WARN MemoryStore: Not enough space to cache rdd_4772_13 in memory! (computed 2.2 MiB so far)\n",
      "24/12/02 02:30:32 WARN MemoryStore: Not enough space to cache rdd_4772_19 in memory! (computed 3.4 MiB so far)\n",
      "24/12/02 02:30:32 WARN MemoryStore: Not enough space to cache rdd_4772_14 in memory! (computed 3.4 MiB so far)\n",
      "24/12/02 02:30:32 WARN MemoryStore: Not enough space to cache rdd_4772_17 in memory! (computed 3.4 MiB so far)\n",
      "24/12/02 02:30:32 WARN DAGScheduler: Broadcasting large task binary with size 1392.9 KiB\n",
      "24/12/02 02:30:33 WARN MemoryStore: Not enough space to cache rdd_4772_14 in memory! (computed 3.4 MiB so far)\n",
      "24/12/02 02:30:33 WARN MemoryStore: Not enough space to cache rdd_4772_20 in memory! (computed 5.3 MiB so far)\n",
      "24/12/02 02:30:33 WARN MemoryStore: Not enough space to cache rdd_4772_18 in memory! (computed 3.4 MiB so far)\n",
      "24/12/02 02:30:33 WARN MemoryStore: Not enough space to cache rdd_4772_21 in memory! (computed 3.4 MiB so far)\n",
      "24/12/02 02:30:33 WARN MemoryStore: Not enough space to cache rdd_4772_17 in memory! (computed 2.2 MiB so far)\n",
      "24/12/02 02:30:33 WARN MemoryStore: Not enough space to cache rdd_4772_13 in memory! (computed 3.4 MiB so far)\n",
      "24/12/02 02:30:33 WARN MemoryStore: Not enough space to cache rdd_4772_16 in memory! (computed 2.2 MiB so far)\n",
      "24/12/02 02:30:33 WARN MemoryStore: Not enough space to cache rdd_4772_19 in memory! (computed 3.4 MiB so far)\n",
      "24/12/02 02:30:33 WARN DAGScheduler: Broadcasting large task binary with size 1663.5 KiB\n",
      "24/12/02 02:30:34 WARN MemoryStore: Not enough space to cache rdd_4772_14 in memory! (computed 3.4 MiB so far)\n",
      "24/12/02 02:30:34 WARN MemoryStore: Not enough space to cache rdd_4772_17 in memory! (computed 3.4 MiB so far)\n",
      "24/12/02 02:30:34 WARN MemoryStore: Not enough space to cache rdd_4772_18 in memory! (computed 3.4 MiB so far)\n",
      "24/12/02 02:30:34 WARN MemoryStore: Not enough space to cache rdd_4772_13 in memory! (computed 5.3 MiB so far)\n",
      "24/12/02 02:30:34 WARN MemoryStore: Not enough space to cache rdd_4772_21 in memory! (computed 3.4 MiB so far)\n",
      "24/12/02 02:30:34 WARN MemoryStore: Not enough space to cache rdd_4772_16 in memory! (computed 3.4 MiB so far)\n",
      "24/12/02 02:30:34 WARN MemoryStore: Not enough space to cache rdd_4772_20 in memory! (computed 2.2 MiB so far)\n",
      "24/12/02 02:30:34 WARN MemoryStore: Not enough space to cache rdd_4772_19 in memory! (computed 2.2 MiB so far)\n",
      "24/12/02 02:30:34 WARN DAGScheduler: Broadcasting large task binary with size 1998.7 KiB\n",
      "24/12/02 02:30:35 WARN MemoryStore: Not enough space to cache rdd_4772_21 in memory! (computed 8.1 MiB so far)\n",
      "24/12/02 02:30:35 WARN MemoryStore: Not enough space to cache rdd_4772_16 in memory! (computed 8.1 MiB so far)\n",
      "24/12/02 02:30:35 WARN MemoryStore: Not enough space to cache rdd_4772_12 in memory! (computed 5.3 MiB so far)\n",
      "24/12/02 02:30:35 WARN MemoryStore: Not enough space to cache rdd_4772_14 in memory! (computed 8.1 MiB so far)\n",
      "24/12/02 02:30:35 WARN MemoryStore: Not enough space to cache rdd_4772_20 in memory! (computed 5.3 MiB so far)\n",
      "24/12/02 02:30:35 WARN MemoryStore: Not enough space to cache rdd_4772_19 in memory! (computed 8.1 MiB so far)\n",
      "24/12/02 02:30:35 WARN MemoryStore: Not enough space to cache rdd_4772_17 in memory! (computed 8.1 MiB so far)\n",
      "24/12/02 02:30:35 WARN MemoryStore: Not enough space to cache rdd_4772_18 in memory! (computed 8.1 MiB so far)\n",
      "24/12/02 02:30:36 WARN DAGScheduler: Broadcasting large task binary with size 2.4 MiB\n",
      "24/12/02 02:30:36 WARN MemoryStore: Not enough space to cache rdd_4772_0 in memory! (computed 12.2 MiB so far)\n",
      "24/12/02 02:30:36 WARN MemoryStore: Not enough space to cache rdd_4772_12 in memory! (computed 8.1 MiB so far)\n",
      "24/12/02 02:30:36 WARN MemoryStore: Not enough space to cache rdd_4772_16 in memory! (computed 8.1 MiB so far)\n",
      "24/12/02 02:30:36 WARN MemoryStore: Not enough space to cache rdd_4772_17 in memory! (computed 12.2 MiB so far)\n",
      "24/12/02 02:30:36 WARN MemoryStore: Not enough space to cache rdd_4772_20 in memory! (computed 12.2 MiB so far)\n",
      "24/12/02 02:30:36 WARN MemoryStore: Not enough space to cache rdd_4772_19 in memory! (computed 8.1 MiB so far)\n",
      "24/12/02 02:30:36 WARN MemoryStore: Not enough space to cache rdd_4772_18 in memory! (computed 5.3 MiB so far)\n",
      "24/12/02 02:30:36 WARN MemoryStore: Not enough space to cache rdd_4772_14 in memory! (computed 8.1 MiB so far)\n",
      "24/12/02 02:30:38 WARN DAGScheduler: Broadcasting large task binary with size 1486.8 KiB\n",
      "24/12/02 02:30:41 WARN MemoryStore: Not enough space to cache rdd_4863_12 in memory! (computed 5.3 MiB so far)\n",
      "24/12/02 02:30:41 WARN MemoryStore: Not enough space to cache rdd_4863_16 in memory! (computed 8.2 MiB so far)\n",
      "24/12/02 02:30:41 WARN MemoryStore: Not enough space to cache rdd_4863_15 in memory! (computed 8.2 MiB so far)\n",
      "24/12/02 02:30:41 WARN MemoryStore: Not enough space to cache rdd_4863_22 in memory! (computed 8.2 MiB so far)\n",
      "24/12/02 02:30:41 WARN MemoryStore: Not enough space to cache rdd_4863_20 in memory! (computed 8.2 MiB so far)\n",
      "24/12/02 02:30:41 WARN MemoryStore: Not enough space to cache rdd_4863_18 in memory! (computed 8.2 MiB so far)\n",
      "24/12/02 02:30:41 WARN MemoryStore: Not enough space to cache rdd_4863_17 in memory! (computed 5.3 MiB so far)\n",
      "24/12/02 02:30:41 WARN MemoryStore: Not enough space to cache rdd_4863_21 in memory! (computed 8.2 MiB so far)\n",
      "24/12/02 02:30:41 WARN MemoryStore: Not enough space to cache rdd_4863_14 in memory! (computed 8.2 MiB so far)\n",
      "24/12/02 02:30:41 WARN MemoryStore: Not enough space to cache rdd_4863_19 in memory! (computed 8.2 MiB so far)\n",
      "24/12/02 02:30:41 WARN BlockManager: Persisting block rdd_4863_18 to disk instead.\n",
      "24/12/02 02:30:41 WARN BlockManager: Persisting block rdd_4863_21 to disk instead.\n",
      "24/12/02 02:30:41 WARN BlockManager: Persisting block rdd_4863_16 to disk instead.\n",
      "24/12/02 02:30:41 WARN BlockManager: Persisting block rdd_4863_20 to disk instead.\n",
      "24/12/02 02:30:41 WARN BlockManager: Persisting block rdd_4863_19 to disk instead.\n",
      "24/12/02 02:30:41 WARN BlockManager: Persisting block rdd_4863_15 to disk instead.\n",
      "24/12/02 02:30:41 WARN BlockManager: Persisting block rdd_4863_14 to disk instead.\n",
      "24/12/02 02:30:41 WARN BlockManager: Persisting block rdd_4863_22 to disk instead.\n",
      "24/12/02 02:30:41 WARN BlockManager: Persisting block rdd_4863_17 to disk instead.\n",
      "24/12/02 02:30:41 WARN BlockManager: Persisting block rdd_4863_12 to disk instead.\n",
      "24/12/02 02:30:41 WARN MemoryStore: Not enough space to cache rdd_4863_13 in memory! (computed 12.3 MiB so far)\n",
      "24/12/02 02:30:41 WARN BlockManager: Persisting block rdd_4863_13 to disk instead.\n",
      "24/12/02 02:30:42 WARN MemoryStore: Not enough space to cache rdd_4863_15 in memory! (computed 5.3 MiB so far)\n",
      "24/12/02 02:30:42 WARN MemoryStore: Not enough space to cache rdd_4863_22 in memory! (computed 1302.7 KiB so far)\n",
      "24/12/02 02:30:42 WARN MemoryStore: Not enough space to cache rdd_4863_18 in memory! (computed 8.2 MiB so far)\n",
      "24/12/02 02:30:42 WARN MemoryStore: Not enough space to cache rdd_4863_12 in memory! (computed 5.3 MiB so far)\n",
      "24/12/02 02:30:42 WARN MemoryStore: Not enough space to cache rdd_4863_21 in memory! (computed 5.3 MiB so far)\n",
      "24/12/02 02:30:42 WARN MemoryStore: Not enough space to cache rdd_4863_19 in memory! (computed 5.3 MiB so far)\n",
      "24/12/02 02:30:42 WARN MemoryStore: Not enough space to cache rdd_4863_20 in memory! (computed 5.3 MiB so far)\n",
      "24/12/02 02:30:42 WARN MemoryStore: Not enough space to cache rdd_4863_17 in memory! (computed 3.5 MiB so far)\n",
      "24/12/02 02:30:42 WARN MemoryStore: Not enough space to cache rdd_4863_16 in memory! (computed 18.6 MiB so far)\n",
      "24/12/02 02:30:42 WARN MemoryStore: Not enough space to cache rdd_4863_17 in memory! (computed 12.3 MiB so far)\n",
      "24/12/02 02:30:42 WARN MemoryStore: Not enough space to cache rdd_4863_15 in memory! (computed 12.3 MiB so far)\n",
      "24/12/02 02:30:42 WARN MemoryStore: Not enough space to cache rdd_4863_16 in memory! (computed 12.3 MiB so far)\n",
      "24/12/02 02:30:42 WARN MemoryStore: Failed to reserve initial memory threshold of 1024.0 KiB for computing block rdd_4863_18 in memory.\n",
      "24/12/02 02:30:42 WARN MemoryStore: Not enough space to cache rdd_4863_18 in memory! (computed 384.0 B so far)\n",
      "24/12/02 02:30:42 WARN MemoryStore: Failed to reserve initial memory threshold of 1024.0 KiB for computing block rdd_4863_21 in memory.\n",
      "24/12/02 02:30:42 WARN MemoryStore: Failed to reserve initial memory threshold of 1024.0 KiB for computing block rdd_4863_19 in memory.\n",
      "24/12/02 02:30:42 WARN MemoryStore: Not enough space to cache rdd_4863_19 in memory! (computed 384.0 B so far)\n",
      "24/12/02 02:30:42 WARN MemoryStore: Not enough space to cache rdd_4863_21 in memory! (computed 384.0 B so far)\n",
      "24/12/02 02:30:42 WARN MemoryStore: Failed to reserve initial memory threshold of 1024.0 KiB for computing block rdd_4863_20 in memory.\n",
      "24/12/02 02:30:42 WARN MemoryStore: Not enough space to cache rdd_4863_20 in memory! (computed 384.0 B so far)\n",
      "24/12/02 02:30:42 WARN MemoryStore: Failed to reserve initial memory threshold of 1024.0 KiB for computing block rdd_4863_22 in memory.\n",
      "24/12/02 02:30:42 WARN MemoryStore: Not enough space to cache rdd_4863_22 in memory! (computed 384.0 B so far)\n",
      "24/12/02 02:30:43 WARN MemoryStore: Not enough space to cache rdd_4863_20 in memory! (computed 3.5 MiB so far)\n",
      "24/12/02 02:30:43 WARN MemoryStore: Not enough space to cache rdd_4863_16 in memory! (computed 3.5 MiB so far)\n",
      "24/12/02 02:30:43 WARN MemoryStore: Not enough space to cache rdd_4863_22 in memory! (computed 2.2 MiB so far)\n",
      "24/12/02 02:30:43 WARN MemoryStore: Not enough space to cache rdd_4863_18 in memory! (computed 8.2 MiB so far)\n",
      "24/12/02 02:30:43 WARN MemoryStore: Not enough space to cache rdd_4863_17 in memory! (computed 5.3 MiB so far)\n",
      "24/12/02 02:30:43 WARN MemoryStore: Not enough space to cache rdd_4863_21 in memory! (computed 2.2 MiB so far)\n",
      "24/12/02 02:30:43 WARN MemoryStore: Not enough space to cache rdd_4863_15 in memory! (computed 12.3 MiB so far)\n",
      "24/12/02 02:30:43 WARN MemoryStore: Not enough space to cache rdd_4863_19 in memory! (computed 1302.7 KiB so far)\n",
      "24/12/02 02:30:44 WARN DAGScheduler: Broadcasting large task binary with size 1106.0 KiB\n",
      "24/12/02 02:30:44 WARN MemoryStore: Not enough space to cache rdd_4863_17 in memory! (computed 12.3 MiB so far)\n",
      "24/12/02 02:30:44 WARN MemoryStore: Not enough space to cache rdd_4863_16 in memory! (computed 12.3 MiB so far)\n",
      "24/12/02 02:30:44 WARN MemoryStore: Not enough space to cache rdd_4863_15 in memory! (computed 12.3 MiB so far)\n",
      "24/12/02 02:30:44 WARN MemoryStore: Failed to reserve initial memory threshold of 1024.0 KiB for computing block rdd_4863_20 in memory.\n",
      "24/12/02 02:30:44 WARN MemoryStore: Not enough space to cache rdd_4863_20 in memory! (computed 384.0 B so far)\n",
      "24/12/02 02:30:44 WARN MemoryStore: Failed to reserve initial memory threshold of 1024.0 KiB for computing block rdd_4863_22 in memory.\n",
      "24/12/02 02:30:44 WARN MemoryStore: Not enough space to cache rdd_4863_22 in memory! (computed 384.0 B so far)\n",
      "24/12/02 02:30:44 WARN MemoryStore: Failed to reserve initial memory threshold of 1024.0 KiB for computing block rdd_4863_18 in memory.\n",
      "24/12/02 02:30:44 WARN MemoryStore: Not enough space to cache rdd_4863_18 in memory! (computed 384.0 B so far)\n",
      "24/12/02 02:30:44 WARN MemoryStore: Failed to reserve initial memory threshold of 1024.0 KiB for computing block rdd_4863_21 in memory.\n",
      "24/12/02 02:30:44 WARN MemoryStore: Not enough space to cache rdd_4863_21 in memory! (computed 384.0 B so far)\n",
      "24/12/02 02:30:44 WARN MemoryStore: Failed to reserve initial memory threshold of 1024.0 KiB for computing block rdd_4863_19 in memory.\n",
      "24/12/02 02:30:44 WARN MemoryStore: Not enough space to cache rdd_4863_19 in memory! (computed 384.0 B so far)\n",
      "24/12/02 02:30:45 WARN DAGScheduler: Broadcasting large task binary with size 1341.8 KiB\n",
      "24/12/02 02:30:45 WARN MemoryStore: Not enough space to cache rdd_4863_19 in memory! (computed 1302.7 KiB so far)\n",
      "24/12/02 02:30:45 WARN MemoryStore: Not enough space to cache rdd_4863_18 in memory! (computed 1302.7 KiB so far)\n",
      "24/12/02 02:30:45 WARN MemoryStore: Not enough space to cache rdd_4863_17 in memory! (computed 8.2 MiB so far)\n",
      "24/12/02 02:30:45 WARN MemoryStore: Not enough space to cache rdd_4863_15 in memory! (computed 18.6 MiB so far)\n",
      "24/12/02 02:30:45 WARN MemoryStore: Not enough space to cache rdd_4863_16 in memory! (computed 8.2 MiB so far)\n",
      "24/12/02 02:30:45 WARN MemoryStore: Not enough space to cache rdd_4863_22 in memory! (computed 5.3 MiB so far)\n",
      "24/12/02 02:30:45 WARN MemoryStore: Not enough space to cache rdd_4863_21 in memory! (computed 18.6 MiB so far)\n",
      "24/12/02 02:30:45 WARN MemoryStore: Not enough space to cache rdd_4863_20 in memory! (computed 18.6 MiB so far)\n",
      "24/12/02 02:30:46 WARN DAGScheduler: Broadcasting large task binary with size 1668.8 KiB\n",
      "24/12/02 02:30:47 WARN MemoryStore: Not enough space to cache rdd_4863_15 in memory! (computed 5.3 MiB so far)\n",
      "24/12/02 02:30:47 WARN MemoryStore: Not enough space to cache rdd_4863_14 in memory! (computed 8.2 MiB so far)\n",
      "24/12/02 02:30:47 WARN MemoryStore: Not enough space to cache rdd_4863_22 in memory! (computed 5.3 MiB so far)\n",
      "24/12/02 02:30:47 WARN MemoryStore: Not enough space to cache rdd_4863_17 in memory! (computed 5.3 MiB so far)\n",
      "24/12/02 02:30:47 WARN MemoryStore: Not enough space to cache rdd_4863_19 in memory! (computed 5.3 MiB so far)\n",
      "24/12/02 02:30:47 WARN MemoryStore: Not enough space to cache rdd_4863_18 in memory! (computed 5.3 MiB so far)\n",
      "24/12/02 02:30:47 WARN MemoryStore: Not enough space to cache rdd_4863_20 in memory! (computed 5.3 MiB so far)\n",
      "24/12/02 02:30:47 WARN MemoryStore: Not enough space to cache rdd_4863_21 in memory! (computed 8.2 MiB so far)\n",
      "24/12/02 02:30:47 WARN MemoryStore: Not enough space to cache rdd_4863_16 in memory! (computed 8.2 MiB so far)\n",
      "24/12/02 02:30:48 WARN DAGScheduler: Broadcasting large task binary with size 2.0 MiB\n",
      "24/12/02 02:30:48 WARN MemoryStore: Not enough space to cache rdd_4863_21 in memory! (computed 5.3 MiB so far)\n",
      "24/12/02 02:30:48 WARN MemoryStore: Not enough space to cache rdd_4863_16 in memory! (computed 12.3 MiB so far)\n",
      "24/12/02 02:30:48 WARN MemoryStore: Not enough space to cache rdd_4863_15 in memory! (computed 8.2 MiB so far)\n",
      "24/12/02 02:30:48 WARN MemoryStore: Not enough space to cache rdd_4863_22 in memory! (computed 12.3 MiB so far)\n",
      "24/12/02 02:30:48 WARN MemoryStore: Not enough space to cache rdd_4863_17 in memory! (computed 5.3 MiB so far)\n",
      "24/12/02 02:30:48 WARN MemoryStore: Not enough space to cache rdd_4863_20 in memory! (computed 8.2 MiB so far)\n",
      "24/12/02 02:30:48 WARN MemoryStore: Not enough space to cache rdd_4863_19 in memory! (computed 18.6 MiB so far)\n",
      "24/12/02 02:30:48 WARN MemoryStore: Not enough space to cache rdd_4863_18 in memory! (computed 18.6 MiB so far)\n",
      "24/12/02 02:30:48 WARN MemoryStore: Not enough space to cache rdd_4863_14 in memory! (computed 18.6 MiB so far)\n",
      "24/12/02 02:30:49 WARN DAGScheduler: Broadcasting large task binary with size 2.6 MiB\n",
      "24/12/02 02:30:50 WARN MemoryStore: Not enough space to cache rdd_4863_15 in memory! (computed 8.2 MiB so far)\n",
      "24/12/02 02:30:50 WARN MemoryStore: Not enough space to cache rdd_4863_21 in memory! (computed 8.2 MiB so far)\n",
      "24/12/02 02:30:50 WARN MemoryStore: Not enough space to cache rdd_4863_16 in memory! (computed 8.2 MiB so far)\n",
      "24/12/02 02:30:50 WARN MemoryStore: Failed to reserve initial memory threshold of 1024.0 KiB for computing block rdd_4863_23 in memory.\n",
      "24/12/02 02:30:50 WARN MemoryStore: Failed to reserve initial memory threshold of 1024.0 KiB for computing block rdd_4863_22 in memory.\n",
      "24/12/02 02:30:50 WARN MemoryStore: Not enough space to cache rdd_4863_22 in memory! (computed 384.0 B so far)\n",
      "24/12/02 02:30:50 WARN MemoryStore: Not enough space to cache rdd_4863_23 in memory! (computed 384.0 B so far)\n",
      "24/12/02 02:30:50 WARN MemoryStore: Not enough space to cache rdd_4863_18 in memory! (computed 12.3 MiB so far)\n",
      "24/12/02 02:30:50 WARN MemoryStore: Not enough space to cache rdd_4863_14 in memory! (computed 18.6 MiB so far)\n",
      "24/12/02 02:30:50 WARN MemoryStore: Not enough space to cache rdd_4863_17 in memory! (computed 18.6 MiB so far)\n",
      "24/12/02 02:30:50 WARN MemoryStore: Not enough space to cache rdd_4863_19 in memory! (computed 18.6 MiB so far)\n",
      "24/12/02 02:30:50 WARN MemoryStore: Not enough space to cache rdd_4863_20 in memory! (computed 18.6 MiB so far)\n",
      "24/12/02 02:30:51 WARN DAGScheduler: Broadcasting large task binary with size 3.2 MiB\n",
      "24/12/02 02:30:52 WARN MemoryStore: Not enough space to cache rdd_4863_20 in memory! (computed 12.3 MiB so far)\n",
      "24/12/02 02:30:52 WARN MemoryStore: Not enough space to cache rdd_4863_21 in memory! (computed 12.3 MiB so far)\n",
      "24/12/02 02:30:52 WARN MemoryStore: Not enough space to cache rdd_4863_17 in memory! (computed 12.3 MiB so far)\n",
      "24/12/02 02:30:52 WARN MemoryStore: Not enough space to cache rdd_4863_15 in memory! (computed 12.3 MiB so far)\n",
      "24/12/02 02:30:52 WARN MemoryStore: Not enough space to cache rdd_4863_13 in memory! (computed 12.3 MiB so far)\n",
      "24/12/02 02:30:52 WARN MemoryStore: Not enough space to cache rdd_4863_16 in memory! (computed 18.6 MiB so far)\n",
      "24/12/02 02:30:52 WARN MemoryStore: Not enough space to cache rdd_4863_19 in memory! (computed 18.6 MiB so far)\n",
      "24/12/02 02:30:53 WARN MemoryStore: Not enough space to cache rdd_4863_14 in memory! (computed 18.6 MiB so far)\n",
      "24/12/02 02:30:53 WARN MemoryStore: Not enough space to cache rdd_4863_22 in memory! (computed 18.6 MiB so far)\n",
      "24/12/02 02:30:54 WARN DAGScheduler: Broadcasting large task binary with size 4.0 MiB\n",
      "24/12/02 02:30:55 WARN MemoryStore: Not enough space to cache rdd_4863_15 in memory! (computed 12.3 MiB so far)\n",
      "24/12/02 02:30:55 WARN MemoryStore: Not enough space to cache rdd_4863_21 in memory! (computed 12.3 MiB so far)\n",
      "24/12/02 02:30:55 WARN MemoryStore: Not enough space to cache rdd_4863_19 in memory! (computed 12.3 MiB so far)\n",
      "24/12/02 02:30:55 WARN MemoryStore: Not enough space to cache rdd_4863_17 in memory! (computed 12.3 MiB so far)\n",
      "24/12/02 02:30:55 WARN MemoryStore: Not enough space to cache rdd_4863_16 in memory! (computed 18.6 MiB so far)\n",
      "24/12/02 02:30:55 WARN MemoryStore: Not enough space to cache rdd_4863_18 in memory! (computed 12.3 MiB so far)\n",
      "24/12/02 02:30:55 WARN MemoryStore: Not enough space to cache rdd_4863_20 in memory! (computed 18.6 MiB so far)\n",
      "24/12/02 02:30:55 WARN MemoryStore: Not enough space to cache rdd_4863_13 in memory! (computed 12.3 MiB so far)\n",
      "24/12/02 02:30:55 WARN MemoryStore: Not enough space to cache rdd_4863_22 in memory! (computed 18.6 MiB so far)\n",
      "24/12/02 02:30:55 WARN MemoryStore: Not enough space to cache rdd_4863_14 in memory! (computed 3.5 MiB so far)\n",
      "24/12/02 02:30:57 WARN DAGScheduler: Broadcasting large task binary with size 2.3 MiB\n",
      "24/12/02 02:31:01 WARN MemoryStore: Not enough space to cache rdd_4954_20 in memory! (computed 5.3 MiB so far)\n",
      "24/12/02 02:31:01 WARN MemoryStore: Not enough space to cache rdd_4954_14 in memory! (computed 8.2 MiB so far)\n",
      "24/12/02 02:31:01 WARN MemoryStore: Not enough space to cache rdd_4954_18 in memory! (computed 8.2 MiB so far)\n",
      "24/12/02 02:31:01 WARN MemoryStore: Not enough space to cache rdd_4954_21 in memory! (computed 5.3 MiB so far)\n",
      "24/12/02 02:31:01 WARN MemoryStore: Not enough space to cache rdd_4954_22 in memory! (computed 5.3 MiB so far)\n",
      "24/12/02 02:31:01 WARN MemoryStore: Not enough space to cache rdd_4954_16 in memory! (computed 5.3 MiB so far)\n",
      "24/12/02 02:31:01 WARN MemoryStore: Not enough space to cache rdd_4954_13 in memory! (computed 3.5 MiB so far)\n",
      "24/12/02 02:31:01 WARN MemoryStore: Not enough space to cache rdd_4954_15 in memory! (computed 5.3 MiB so far)\n",
      "24/12/02 02:31:01 WARN BlockManager: Persisting block rdd_4954_22 to disk instead.\n",
      "24/12/02 02:31:01 WARN BlockManager: Persisting block rdd_4954_20 to disk instead.\n",
      "24/12/02 02:31:01 WARN BlockManager: Persisting block rdd_4954_14 to disk instead.\n",
      "24/12/02 02:31:01 WARN BlockManager: Persisting block rdd_4954_21 to disk instead.\n",
      "24/12/02 02:31:01 WARN BlockManager: Persisting block rdd_4954_18 to disk instead.\n",
      "24/12/02 02:31:01 WARN BlockManager: Persisting block rdd_4954_15 to disk instead.\n",
      "24/12/02 02:31:01 WARN BlockManager: Persisting block rdd_4954_13 to disk instead.\n",
      "24/12/02 02:31:01 WARN BlockManager: Persisting block rdd_4954_16 to disk instead.\n",
      "24/12/02 02:31:01 WARN MemoryStore: Not enough space to cache rdd_4954_19 in memory! (computed 5.3 MiB so far)\n",
      "24/12/02 02:31:01 WARN MemoryStore: Not enough space to cache rdd_4954_17 in memory! (computed 12.3 MiB so far)\n",
      "24/12/02 02:31:01 WARN BlockManager: Persisting block rdd_4954_17 to disk instead.\n",
      "24/12/02 02:31:01 WARN BlockManager: Persisting block rdd_4954_19 to disk instead.\n",
      "24/12/02 02:31:01 WARN MemoryStore: Not enough space to cache rdd_4954_21 in memory! (computed 3.5 MiB so far)\n",
      "24/12/02 02:31:01 WARN MemoryStore: Not enough space to cache rdd_4954_19 in memory! (computed 1302.7 KiB so far)\n",
      "24/12/02 02:31:01 WARN MemoryStore: Not enough space to cache rdd_4954_20 in memory! (computed 2.2 MiB so far)\n",
      "24/12/02 02:31:01 WARN MemoryStore: Not enough space to cache rdd_4954_15 in memory! (computed 3.5 MiB so far)\n",
      "24/12/02 02:31:01 WARN MemoryStore: Not enough space to cache rdd_4954_22 in memory! (computed 1302.7 KiB so far)\n",
      "24/12/02 02:31:01 WARN MemoryStore: Not enough space to cache rdd_4954_18 in memory! (computed 3.5 MiB so far)\n",
      "24/12/02 02:31:01 WARN MemoryStore: Not enough space to cache rdd_4954_14 in memory! (computed 18.6 MiB so far)\n",
      "24/12/02 02:31:01 WARN MemoryStore: Not enough space to cache rdd_4954_13 in memory! (computed 18.6 MiB so far)\n",
      "24/12/02 02:31:01 WARN MemoryStore: Not enough space to cache rdd_4954_17 in memory! (computed 18.6 MiB so far)\n",
      "24/12/02 02:31:02 WARN MemoryStore: Not enough space to cache rdd_4954_15 in memory! (computed 8.2 MiB so far)\n",
      "24/12/02 02:31:02 WARN MemoryStore: Not enough space to cache rdd_4954_20 in memory! (computed 5.3 MiB so far)\n",
      "24/12/02 02:31:02 WARN MemoryStore: Not enough space to cache rdd_4954_21 in memory! (computed 3.5 MiB so far)\n",
      "24/12/02 02:31:02 WARN MemoryStore: Not enough space to cache rdd_4954_13 in memory! (computed 12.3 MiB so far)\n",
      "24/12/02 02:31:02 WARN MemoryStore: Not enough space to cache rdd_4954_19 in memory! (computed 5.3 MiB so far)\n",
      "24/12/02 02:31:02 WARN MemoryStore: Not enough space to cache rdd_4954_18 in memory! (computed 5.3 MiB so far)\n",
      "24/12/02 02:31:02 WARN MemoryStore: Not enough space to cache rdd_4954_17 in memory! (computed 8.2 MiB so far)\n",
      "24/12/02 02:31:02 WARN MemoryStore: Not enough space to cache rdd_4954_22 in memory! (computed 2.2 MiB so far)\n",
      "24/12/02 02:31:02 WARN MemoryStore: Not enough space to cache rdd_4954_14 in memory! (computed 12.3 MiB so far)\n",
      "24/12/02 02:31:03 WARN MemoryStore: Not enough space to cache rdd_4954_19 in memory! (computed 5.3 MiB so far)\n",
      "24/12/02 02:31:03 WARN MemoryStore: Not enough space to cache rdd_4954_14 in memory! (computed 5.3 MiB so far)\n",
      "24/12/02 02:31:03 WARN MemoryStore: Not enough space to cache rdd_4954_21 in memory! (computed 8.2 MiB so far)\n",
      "24/12/02 02:31:03 WARN MemoryStore: Not enough space to cache rdd_4954_20 in memory! (computed 8.2 MiB so far)\n",
      "24/12/02 02:31:03 WARN MemoryStore: Not enough space to cache rdd_4954_17 in memory! (computed 5.3 MiB so far)\n",
      "24/12/02 02:31:03 WARN MemoryStore: Not enough space to cache rdd_4954_13 in memory! (computed 8.2 MiB so far)\n",
      "24/12/02 02:31:03 WARN MemoryStore: Not enough space to cache rdd_4954_18 in memory! (computed 8.2 MiB so far)\n",
      "24/12/02 02:31:03 WARN MemoryStore: Not enough space to cache rdd_4954_15 in memory! (computed 5.3 MiB so far)\n",
      "24/12/02 02:31:03 WARN MemoryStore: Not enough space to cache rdd_4954_22 in memory! (computed 8.2 MiB so far)\n",
      "24/12/02 02:31:03 WARN DAGScheduler: Broadcasting large task binary with size 1106.3 KiB\n",
      "24/12/02 02:31:04 WARN MemoryStore: Not enough space to cache rdd_4954_21 in memory! (computed 5.3 MiB so far)\n",
      "24/12/02 02:31:04 WARN MemoryStore: Not enough space to cache rdd_4954_13 in memory! (computed 8.2 MiB so far)\n",
      "24/12/02 02:31:04 WARN MemoryStore: Not enough space to cache rdd_4954_22 in memory! (computed 8.2 MiB so far)\n",
      "24/12/02 02:31:04 WARN MemoryStore: Not enough space to cache rdd_4954_15 in memory! (computed 8.2 MiB so far)\n",
      "24/12/02 02:31:04 WARN MemoryStore: Not enough space to cache rdd_4954_19 in memory! (computed 8.2 MiB so far)\n",
      "24/12/02 02:31:04 WARN MemoryStore: Not enough space to cache rdd_4954_20 in memory! (computed 5.3 MiB so far)\n",
      "24/12/02 02:31:04 WARN MemoryStore: Not enough space to cache rdd_4954_18 in memory! (computed 5.3 MiB so far)\n",
      "24/12/02 02:31:04 WARN MemoryStore: Not enough space to cache rdd_4954_17 in memory! (computed 5.3 MiB so far)\n",
      "24/12/02 02:31:04 WARN MemoryStore: Not enough space to cache rdd_4954_14 in memory! (computed 8.2 MiB so far)\n",
      "24/12/02 02:31:04 WARN DAGScheduler: Broadcasting large task binary with size 1342.1 KiB\n",
      "24/12/02 02:31:05 WARN MemoryStore: Not enough space to cache rdd_4954_22 in memory! (computed 8.2 MiB so far)\n",
      "24/12/02 02:31:05 WARN MemoryStore: Not enough space to cache rdd_4954_15 in memory! (computed 8.2 MiB so far)\n",
      "24/12/02 02:31:05 WARN MemoryStore: Not enough space to cache rdd_4954_14 in memory! (computed 5.3 MiB so far)\n",
      "24/12/02 02:31:05 WARN MemoryStore: Not enough space to cache rdd_4954_17 in memory! (computed 5.3 MiB so far)\n",
      "24/12/02 02:31:05 WARN MemoryStore: Not enough space to cache rdd_4954_13 in memory! (computed 8.2 MiB so far)\n",
      "24/12/02 02:31:05 WARN MemoryStore: Not enough space to cache rdd_4954_21 in memory! (computed 8.2 MiB so far)\n",
      "24/12/02 02:31:05 WARN MemoryStore: Not enough space to cache rdd_4954_19 in memory! (computed 5.3 MiB so far)\n",
      "24/12/02 02:31:05 WARN MemoryStore: Not enough space to cache rdd_4954_18 in memory! (computed 5.3 MiB so far)\n",
      "24/12/02 02:31:05 WARN MemoryStore: Not enough space to cache rdd_4954_20 in memory! (computed 8.2 MiB so far)\n",
      "24/12/02 02:31:05 WARN DAGScheduler: Broadcasting large task binary with size 1669.1 KiB\n",
      "24/12/02 02:31:06 WARN MemoryStore: Not enough space to cache rdd_4954_20 in memory! (computed 5.3 MiB so far)\n",
      "24/12/02 02:31:06 WARN MemoryStore: Not enough space to cache rdd_4954_13 in memory! (computed 8.2 MiB so far)\n",
      "24/12/02 02:31:06 WARN MemoryStore: Not enough space to cache rdd_4954_15 in memory! (computed 8.2 MiB so far)\n",
      "24/12/02 02:31:06 WARN MemoryStore: Not enough space to cache rdd_4954_22 in memory! (computed 8.2 MiB so far)\n",
      "24/12/02 02:31:06 WARN MemoryStore: Not enough space to cache rdd_4954_17 in memory! (computed 5.3 MiB so far)\n",
      "24/12/02 02:31:06 WARN MemoryStore: Not enough space to cache rdd_4954_18 in memory! (computed 5.3 MiB so far)\n",
      "24/12/02 02:31:06 WARN MemoryStore: Not enough space to cache rdd_4954_19 in memory! (computed 5.3 MiB so far)\n",
      "24/12/02 02:31:06 WARN MemoryStore: Not enough space to cache rdd_4954_21 in memory! (computed 12.3 MiB so far)\n",
      "24/12/02 02:31:06 WARN MemoryStore: Not enough space to cache rdd_4954_14 in memory! (computed 5.3 MiB so far)\n",
      "24/12/02 02:31:07 WARN DAGScheduler: Broadcasting large task binary with size 2.0 MiB\n",
      "24/12/02 02:31:07 WARN MemoryStore: Not enough space to cache rdd_4954_18 in memory! (computed 5.3 MiB so far)\n",
      "24/12/02 02:31:07 WARN MemoryStore: Not enough space to cache rdd_4954_13 in memory! (computed 8.2 MiB so far)\n",
      "24/12/02 02:31:07 WARN MemoryStore: Not enough space to cache rdd_4954_14 in memory! (computed 8.2 MiB so far)\n",
      "24/12/02 02:31:07 WARN MemoryStore: Not enough space to cache rdd_4954_15 in memory! (computed 8.2 MiB so far)\n",
      "24/12/02 02:31:07 WARN MemoryStore: Not enough space to cache rdd_4954_17 in memory! (computed 8.2 MiB so far)\n",
      "24/12/02 02:31:07 WARN MemoryStore: Not enough space to cache rdd_4954_19 in memory! (computed 8.2 MiB so far)\n",
      "24/12/02 02:31:07 WARN MemoryStore: Not enough space to cache rdd_4954_20 in memory! (computed 12.3 MiB so far)\n",
      "24/12/02 02:31:07 WARN MemoryStore: Not enough space to cache rdd_4954_22 in memory! (computed 12.3 MiB so far)\n",
      "24/12/02 02:31:07 WARN MemoryStore: Not enough space to cache rdd_4954_21 in memory! (computed 12.3 MiB so far)\n",
      "24/12/02 02:31:08 WARN DAGScheduler: Broadcasting large task binary with size 2.6 MiB\n",
      "24/12/02 02:31:09 WARN MemoryStore: Not enough space to cache rdd_4954_19 in memory! (computed 8.2 MiB so far)\n",
      "24/12/02 02:31:09 WARN MemoryStore: Not enough space to cache rdd_4954_17 in memory! (computed 8.2 MiB so far)\n",
      "24/12/02 02:31:09 WARN MemoryStore: Not enough space to cache rdd_4954_18 in memory! (computed 5.3 MiB so far)\n",
      "24/12/02 02:31:09 WARN MemoryStore: Not enough space to cache rdd_4954_20 in memory! (computed 5.3 MiB so far)\n",
      "24/12/02 02:31:09 WARN MemoryStore: Not enough space to cache rdd_4954_14 in memory! (computed 5.3 MiB so far)\n",
      "24/12/02 02:31:09 WARN MemoryStore: Not enough space to cache rdd_4954_21 in memory! (computed 5.3 MiB so far)\n",
      "24/12/02 02:31:09 WARN MemoryStore: Not enough space to cache rdd_4954_22 in memory! (computed 5.3 MiB so far)\n",
      "24/12/02 02:31:09 WARN MemoryStore: Not enough space to cache rdd_4954_13 in memory! (computed 8.2 MiB so far)\n",
      "24/12/02 02:31:09 WARN MemoryStore: Not enough space to cache rdd_4954_15 in memory! (computed 18.6 MiB so far)\n",
      "24/12/02 02:31:10 WARN DAGScheduler: Broadcasting large task binary with size 3.2 MiB\n",
      "24/12/02 02:31:11 WARN MemoryStore: Not enough space to cache rdd_4954_17 in memory! (computed 12.3 MiB so far)\n",
      "24/12/02 02:31:11 WARN MemoryStore: Not enough space to cache rdd_4954_15 in memory! (computed 12.3 MiB so far)\n",
      "24/12/02 02:31:11 WARN MemoryStore: Not enough space to cache rdd_4954_16 in memory! (computed 12.3 MiB so far)\n",
      "24/12/02 02:31:11 WARN MemoryStore: Not enough space to cache rdd_4954_13 in memory! (computed 18.6 MiB so far)\n",
      "24/12/02 02:31:11 WARN MemoryStore: Not enough space to cache rdd_4954_21 in memory! (computed 18.6 MiB so far)\n",
      "24/12/02 02:31:11 WARN MemoryStore: Not enough space to cache rdd_4954_19 in memory! (computed 18.6 MiB so far)\n",
      "24/12/02 02:31:11 WARN MemoryStore: Not enough space to cache rdd_4954_12 in memory! (computed 18.6 MiB so far)\n",
      "24/12/02 02:31:11 WARN MemoryStore: Not enough space to cache rdd_4954_14 in memory! (computed 18.6 MiB so far)\n",
      "24/12/02 02:31:11 WARN MemoryStore: Not enough space to cache rdd_4954_20 in memory! (computed 18.6 MiB so far)\n",
      "24/12/02 02:31:11 WARN MemoryStore: Not enough space to cache rdd_4954_22 in memory! (computed 18.6 MiB so far)\n",
      "24/12/02 02:31:11 WARN MemoryStore: Not enough space to cache rdd_4954_18 in memory! (computed 3.5 MiB so far)\n",
      "24/12/02 02:31:12 WARN DAGScheduler: Broadcasting large task binary with size 4.0 MiB\n",
      "24/12/02 02:31:13 WARN MemoryStore: Not enough space to cache rdd_4954_15 in memory! (computed 12.3 MiB so far)\n",
      "24/12/02 02:31:13 WARN MemoryStore: Not enough space to cache rdd_4954_19 in memory! (computed 12.3 MiB so far)\n",
      "24/12/02 02:31:13 WARN MemoryStore: Not enough space to cache rdd_4954_16 in memory! (computed 12.3 MiB so far)\n",
      "24/12/02 02:31:13 WARN MemoryStore: Not enough space to cache rdd_4954_13 in memory! (computed 12.3 MiB so far)\n",
      "24/12/02 02:31:13 WARN MemoryStore: Not enough space to cache rdd_4954_18 in memory! (computed 18.6 MiB so far)\n",
      "24/12/02 02:31:13 WARN MemoryStore: Not enough space to cache rdd_4954_14 in memory! (computed 12.3 MiB so far)\n",
      "24/12/02 02:31:13 WARN MemoryStore: Not enough space to cache rdd_4954_20 in memory! (computed 18.6 MiB so far)\n",
      "24/12/02 02:31:13 WARN MemoryStore: Not enough space to cache rdd_4954_17 in memory! (computed 12.3 MiB so far)\n",
      "24/12/02 02:31:13 WARN MemoryStore: Not enough space to cache rdd_4954_12 in memory! (computed 12.3 MiB so far)\n",
      "24/12/02 02:31:16 WARN DAGScheduler: Broadcasting large task binary with size 2.3 MiB\n",
      "24/12/02 02:31:25 WARN MemoryStore: Not enough space to cache rdd_5055_14 in memory! (computed 3.4 MiB so far)\n",
      "24/12/02 02:31:25 WARN MemoryStore: Not enough space to cache rdd_5055_21 in memory! (computed 8.1 MiB so far)\n",
      "24/12/02 02:31:25 WARN MemoryStore: Not enough space to cache rdd_5055_16 in memory! (computed 5.3 MiB so far)\n",
      "24/12/02 02:31:25 WARN MemoryStore: Not enough space to cache rdd_5055_18 in memory! (computed 8.1 MiB so far)\n",
      "24/12/02 02:31:25 WARN MemoryStore: Not enough space to cache rdd_5055_15 in memory! (computed 8.1 MiB so far)\n",
      "24/12/02 02:31:25 WARN MemoryStore: Not enough space to cache rdd_5055_13 in memory! (computed 5.3 MiB so far)\n",
      "24/12/02 02:31:25 WARN MemoryStore: Not enough space to cache rdd_5055_17 in memory! (computed 5.3 MiB so far)\n",
      "24/12/02 02:31:25 WARN MemoryStore: Not enough space to cache rdd_5055_19 in memory! (computed 8.1 MiB so far)\n",
      "24/12/02 02:31:25 WARN MemoryStore: Not enough space to cache rdd_5055_20 in memory! (computed 3.4 MiB so far)\n",
      "24/12/02 02:31:25 WARN MemoryStore: Not enough space to cache rdd_5055_22 in memory! (computed 8.1 MiB so far)\n",
      "24/12/02 02:31:25 WARN BlockManager: Persisting block rdd_5055_18 to disk instead.\n",
      "24/12/02 02:31:25 WARN BlockManager: Persisting block rdd_5055_16 to disk instead.\n",
      "24/12/02 02:31:25 WARN BlockManager: Persisting block rdd_5055_17 to disk instead.\n",
      "24/12/02 02:31:25 WARN BlockManager: Persisting block rdd_5055_13 to disk instead.\n",
      "24/12/02 02:31:25 WARN BlockManager: Persisting block rdd_5055_20 to disk instead.\n",
      "24/12/02 02:31:25 WARN BlockManager: Persisting block rdd_5055_21 to disk instead.\n",
      "24/12/02 02:31:25 WARN BlockManager: Persisting block rdd_5055_15 to disk instead.\n",
      "24/12/02 02:31:25 WARN BlockManager: Persisting block rdd_5055_19 to disk instead.\n",
      "24/12/02 02:31:25 WARN BlockManager: Persisting block rdd_5055_14 to disk instead.\n",
      "24/12/02 02:31:25 WARN BlockManager: Persisting block rdd_5055_22 to disk instead.\n",
      "24/12/02 02:31:25 WARN MemoryStore: Not enough space to cache rdd_5055_19 in memory! (computed 5.3 MiB so far)\n",
      "24/12/02 02:31:25 WARN MemoryStore: Not enough space to cache rdd_5055_21 in memory! (computed 8.1 MiB so far)\n",
      "24/12/02 02:31:25 WARN MemoryStore: Not enough space to cache rdd_5055_13 in memory! (computed 18.4 MiB so far)\n",
      "24/12/02 02:31:25 WARN MemoryStore: Not enough space to cache rdd_5055_15 in memory! (computed 5.3 MiB so far)\n",
      "24/12/02 02:31:25 WARN MemoryStore: Not enough space to cache rdd_5055_18 in memory! (computed 5.3 MiB so far)\n",
      "24/12/02 02:31:25 WARN MemoryStore: Not enough space to cache rdd_5055_14 in memory! (computed 18.4 MiB so far)\n",
      "24/12/02 02:31:25 WARN MemoryStore: Not enough space to cache rdd_5055_16 in memory! (computed 8.1 MiB so far)\n",
      "24/12/02 02:31:25 WARN MemoryStore: Not enough space to cache rdd_5055_17 in memory! (computed 18.4 MiB so far)\n",
      "24/12/02 02:31:25 WARN MemoryStore: Failed to reserve initial memory threshold of 1024.0 KiB for computing block rdd_5055_20 in memory.\n",
      "24/12/02 02:31:25 WARN MemoryStore: Not enough space to cache rdd_5055_20 in memory! (computed 384.0 B so far)\n",
      "24/12/02 02:31:25 WARN MemoryStore: Not enough space to cache rdd_5055_22 in memory! (computed 1290.0 KiB so far)\n",
      "24/12/02 02:31:26 WARN MemoryStore: Not enough space to cache rdd_5055_16 in memory! (computed 8.1 MiB so far)\n",
      "24/12/02 02:31:26 WARN MemoryStore: Not enough space to cache rdd_5055_17 in memory! (computed 8.1 MiB so far)\n",
      "24/12/02 02:31:26 WARN MemoryStore: Not enough space to cache rdd_5055_15 in memory! (computed 18.4 MiB so far)\n",
      "24/12/02 02:31:26 WARN MemoryStore: Not enough space to cache rdd_5055_14 in memory! (computed 18.4 MiB so far)\n",
      "24/12/02 02:31:26 WARN MemoryStore: Not enough space to cache rdd_5055_13 in memory! (computed 18.4 MiB so far)\n",
      "24/12/02 02:31:26 WARN MemoryStore: Failed to reserve initial memory threshold of 1024.0 KiB for computing block rdd_5055_20 in memory.\n",
      "24/12/02 02:31:26 WARN MemoryStore: Failed to reserve initial memory threshold of 1024.0 KiB for computing block rdd_5055_22 in memory.\n",
      "24/12/02 02:31:26 WARN MemoryStore: Not enough space to cache rdd_5055_18 in memory! (computed 12.2 MiB so far)\n",
      "24/12/02 02:31:26 WARN MemoryStore: Not enough space to cache rdd_5055_20 in memory! (computed 384.0 B so far)\n",
      "24/12/02 02:31:26 WARN MemoryStore: Not enough space to cache rdd_5055_22 in memory! (computed 384.0 B so far)\n",
      "24/12/02 02:31:26 WARN MemoryStore: Not enough space to cache rdd_5055_19 in memory! (computed 3.4 MiB so far)\n",
      "24/12/02 02:31:26 WARN MemoryStore: Not enough space to cache rdd_5055_21 in memory! (computed 1290.0 KiB so far)\n",
      "24/12/02 02:31:26 WARN MemoryStore: Not enough space to cache rdd_5055_21 in memory! (computed 5.3 MiB so far)\n",
      "24/12/02 02:31:26 WARN MemoryStore: Not enough space to cache rdd_5055_14 in memory! (computed 8.1 MiB so far)\n",
      "24/12/02 02:31:26 WARN MemoryStore: Not enough space to cache rdd_5055_13 in memory! (computed 12.2 MiB so far)\n",
      "24/12/02 02:31:26 WARN MemoryStore: Not enough space to cache rdd_5055_15 in memory! (computed 12.2 MiB so far)\n",
      "24/12/02 02:31:26 WARN MemoryStore: Not enough space to cache rdd_5055_20 in memory! (computed 5.3 MiB so far)\n",
      "24/12/02 02:31:26 WARN MemoryStore: Not enough space to cache rdd_5055_17 in memory! (computed 12.2 MiB so far)\n",
      "24/12/02 02:31:26 WARN MemoryStore: Not enough space to cache rdd_5055_18 in memory! (computed 8.1 MiB so far)\n",
      "24/12/02 02:31:26 WARN MemoryStore: Not enough space to cache rdd_5055_19 in memory! (computed 12.2 MiB so far)\n",
      "24/12/02 02:31:26 WARN MemoryStore: Not enough space to cache rdd_5055_22 in memory! (computed 5.3 MiB so far)\n",
      "24/12/02 02:31:26 WARN MemoryStore: Not enough space to cache rdd_5055_16 in memory! (computed 5.3 MiB so far)\n",
      "24/12/02 02:31:27 WARN MemoryStore: Not enough space to cache rdd_5055_14 in memory! (computed 18.4 MiB so far)\n",
      "24/12/02 02:31:27 WARN MemoryStore: Not enough space to cache rdd_5055_16 in memory! (computed 18.4 MiB so far)\n",
      "24/12/02 02:31:27 WARN MemoryStore: Not enough space to cache rdd_5055_15 in memory! (computed 18.4 MiB so far)\n",
      "24/12/02 02:31:27 WARN MemoryStore: Failed to reserve initial memory threshold of 1024.0 KiB for computing block rdd_5055_19 in memory.\n",
      "24/12/02 02:31:27 WARN MemoryStore: Not enough space to cache rdd_5055_19 in memory! (computed 384.0 B so far)\n",
      "24/12/02 02:31:27 WARN MemoryStore: Not enough space to cache rdd_5055_17 in memory! (computed 3.4 MiB so far)\n",
      "24/12/02 02:31:27 WARN MemoryStore: Not enough space to cache rdd_5055_22 in memory! (computed 1290.0 KiB so far)\n",
      "24/12/02 02:31:27 WARN MemoryStore: Not enough space to cache rdd_5055_21 in memory! (computed 1290.0 KiB so far)\n",
      "24/12/02 02:31:27 WARN MemoryStore: Not enough space to cache rdd_5055_18 in memory! (computed 1290.0 KiB so far)\n",
      "24/12/02 02:31:27 WARN MemoryStore: Not enough space to cache rdd_5055_20 in memory! (computed 1290.0 KiB so far)\n",
      "24/12/02 02:31:28 WARN DAGScheduler: Broadcasting large task binary with size 1030.9 KiB\n",
      "24/12/02 02:31:28 WARN MemoryStore: Not enough space to cache rdd_5055_16 in memory! (computed 8.1 MiB so far)\n",
      "24/12/02 02:31:28 WARN MemoryStore: Not enough space to cache rdd_5055_21 in memory! (computed 5.3 MiB so far)\n",
      "24/12/02 02:31:28 WARN MemoryStore: Not enough space to cache rdd_5055_18 in memory! (computed 5.3 MiB so far)\n",
      "24/12/02 02:31:28 WARN MemoryStore: Not enough space to cache rdd_5055_15 in memory! (computed 5.3 MiB so far)\n",
      "24/12/02 02:31:28 WARN MemoryStore: Not enough space to cache rdd_5055_14 in memory! (computed 12.2 MiB so far)\n",
      "24/12/02 02:31:28 WARN MemoryStore: Not enough space to cache rdd_5055_19 in memory! (computed 8.1 MiB so far)\n",
      "24/12/02 02:31:28 WARN MemoryStore: Not enough space to cache rdd_5055_20 in memory! (computed 5.3 MiB so far)\n",
      "24/12/02 02:31:28 WARN MemoryStore: Not enough space to cache rdd_5055_17 in memory! (computed 5.3 MiB so far)\n",
      "24/12/02 02:31:35 WARN MemoryStore: Not enough space to cache rdd_5141_15 in memory! (computed 12.2 MiB so far)\n",
      "24/12/02 02:31:35 WARN MemoryStore: Not enough space to cache rdd_5141_14 in memory! (computed 18.4 MiB so far)\n",
      "24/12/02 02:31:35 WARN BlockManager: Persisting block rdd_5141_14 to disk instead.\n",
      "24/12/02 02:31:35 WARN BlockManager: Persisting block rdd_5141_15 to disk instead.\n",
      "24/12/02 02:31:35 WARN MemoryStore: Not enough space to cache rdd_5141_19 in memory! (computed 5.3 MiB so far)\n",
      "24/12/02 02:31:35 WARN MemoryStore: Not enough space to cache rdd_5141_22 in memory! (computed 8.1 MiB so far)\n",
      "24/12/02 02:31:35 WARN BlockManager: Persisting block rdd_5141_22 to disk instead.\n",
      "24/12/02 02:31:35 WARN BlockManager: Persisting block rdd_5141_19 to disk instead.\n",
      "24/12/02 02:31:35 WARN MemoryStore: Not enough space to cache rdd_5141_20 in memory! (computed 8.1 MiB so far)\n",
      "24/12/02 02:31:35 WARN BlockManager: Persisting block rdd_5141_20 to disk instead.\n",
      "24/12/02 02:31:35 WARN MemoryStore: Not enough space to cache rdd_5141_17 in memory! (computed 8.1 MiB so far)\n",
      "24/12/02 02:31:35 WARN BlockManager: Persisting block rdd_5141_17 to disk instead.\n",
      "24/12/02 02:31:35 WARN MemoryStore: Not enough space to cache rdd_5141_18 in memory! (computed 8.1 MiB so far)\n",
      "24/12/02 02:31:35 WARN BlockManager: Persisting block rdd_5141_18 to disk instead.\n",
      "24/12/02 02:31:35 WARN MemoryStore: Not enough space to cache rdd_5141_21 in memory! (computed 8.1 MiB so far)\n",
      "24/12/02 02:31:35 WARN BlockManager: Persisting block rdd_5141_21 to disk instead.\n",
      "24/12/02 02:31:35 WARN MemoryStore: Not enough space to cache rdd_5141_17 in memory! (computed 5.3 MiB so far)\n",
      "24/12/02 02:31:35 WARN MemoryStore: Not enough space to cache rdd_5141_21 in memory! (computed 2.2 MiB so far)\n",
      "24/12/02 02:31:35 WARN MemoryStore: Not enough space to cache rdd_5141_18 in memory! (computed 3.4 MiB so far)\n",
      "24/12/02 02:31:35 WARN MemoryStore: Not enough space to cache rdd_5141_20 in memory! (computed 2.2 MiB so far)\n",
      "24/12/02 02:31:35 WARN MemoryStore: Not enough space to cache rdd_5141_19 in memory! (computed 2.2 MiB so far)\n",
      "24/12/02 02:31:35 WARN MemoryStore: Failed to reserve initial memory threshold of 1024.0 KiB for computing block rdd_5141_22 in memory.\n",
      "24/12/02 02:31:35 WARN MemoryStore: Not enough space to cache rdd_5141_22 in memory! (computed 384.0 B so far)\n",
      "24/12/02 02:31:35 WARN MemoryStore: Not enough space to cache rdd_5141_15 in memory! (computed 27.8 MiB so far)\n",
      "24/12/02 02:31:36 WARN MemoryStore: Not enough space to cache rdd_5141_18 in memory! (computed 2.2 MiB so far)\n",
      "24/12/02 02:31:36 WARN MemoryStore: Not enough space to cache rdd_5141_22 in memory! (computed 2.2 MiB so far)\n",
      "24/12/02 02:31:36 WARN MemoryStore: Not enough space to cache rdd_5141_20 in memory! (computed 3.4 MiB so far)\n",
      "24/12/02 02:31:36 WARN MemoryStore: Not enough space to cache rdd_5141_15 in memory! (computed 2.2 MiB so far)\n",
      "24/12/02 02:31:36 WARN MemoryStore: Not enough space to cache rdd_5141_17 in memory! (computed 2.2 MiB so far)\n",
      "24/12/02 02:31:36 WARN MemoryStore: Not enough space to cache rdd_5141_21 in memory! (computed 2.2 MiB so far)\n",
      "24/12/02 02:31:36 WARN MemoryStore: Not enough space to cache rdd_5141_19 in memory! (computed 1290.0 KiB so far)\n",
      "24/12/02 02:31:37 WARN MemoryStore: Failed to reserve initial memory threshold of 1024.0 KiB for computing block rdd_5141_21 in memory.\n",
      "24/12/02 02:31:37 WARN MemoryStore: Failed to reserve initial memory threshold of 1024.0 KiB for computing block rdd_5141_20 in memory.\n",
      "24/12/02 02:31:37 WARN MemoryStore: Not enough space to cache rdd_5141_18 in memory! (computed 3.4 MiB so far)\n",
      "24/12/02 02:31:37 WARN MemoryStore: Not enough space to cache rdd_5141_19 in memory! (computed 2.2 MiB so far)\n",
      "24/12/02 02:31:37 WARN MemoryStore: Not enough space to cache rdd_5141_17 in memory! (computed 3.4 MiB so far)\n",
      "24/12/02 02:31:37 WARN MemoryStore: Failed to reserve initial memory threshold of 1024.0 KiB for computing block rdd_5141_22 in memory.\n",
      "24/12/02 02:31:37 WARN MemoryStore: Not enough space to cache rdd_5141_15 in memory! (computed 5.3 MiB so far)\n",
      "24/12/02 02:31:37 WARN MemoryStore: Not enough space to cache rdd_5141_22 in memory! (computed 384.0 B so far)\n",
      "24/12/02 02:31:37 WARN MemoryStore: Not enough space to cache rdd_5141_21 in memory! (computed 384.0 B so far)\n",
      "24/12/02 02:31:37 WARN MemoryStore: Not enough space to cache rdd_5141_20 in memory! (computed 384.0 B so far)\n",
      "24/12/02 02:31:37 WARN MemoryStore: Not enough space to cache rdd_5141_18 in memory! (computed 3.4 MiB so far)\n",
      "24/12/02 02:31:37 WARN MemoryStore: Not enough space to cache rdd_5141_20 in memory! (computed 1290.0 KiB so far)\n",
      "24/12/02 02:31:37 WARN MemoryStore: Failed to reserve initial memory threshold of 1024.0 KiB for computing block rdd_5141_22 in memory.\n",
      "24/12/02 02:31:37 WARN MemoryStore: Not enough space to cache rdd_5141_15 in memory! (computed 3.4 MiB so far)\n",
      "24/12/02 02:31:37 WARN MemoryStore: Not enough space to cache rdd_5141_17 in memory! (computed 5.3 MiB so far)\n",
      "24/12/02 02:31:37 WARN MemoryStore: Failed to reserve initial memory threshold of 1024.0 KiB for computing block rdd_5141_21 in memory.\n",
      "24/12/02 02:31:37 WARN MemoryStore: Not enough space to cache rdd_5141_19 in memory! (computed 1290.0 KiB so far)\n",
      "24/12/02 02:31:37 WARN MemoryStore: Not enough space to cache rdd_5141_22 in memory! (computed 384.0 B so far)\n",
      "24/12/02 02:31:37 WARN MemoryStore: Not enough space to cache rdd_5141_21 in memory! (computed 384.0 B so far)\n",
      "24/12/02 02:31:38 WARN DAGScheduler: Broadcasting large task binary with size 1031.2 KiB\n",
      "24/12/02 02:31:38 WARN MemoryStore: Not enough space to cache rdd_5141_15 in memory! (computed 3.4 MiB so far)\n",
      "24/12/02 02:31:38 WARN MemoryStore: Not enough space to cache rdd_5141_18 in memory! (computed 2.2 MiB so far)\n",
      "24/12/02 02:31:38 WARN MemoryStore: Not enough space to cache rdd_5141_17 in memory! (computed 1290.0 KiB so far)\n",
      "24/12/02 02:31:38 WARN MemoryStore: Not enough space to cache rdd_5141_20 in memory! (computed 2.2 MiB so far)\n",
      "24/12/02 02:31:38 WARN MemoryStore: Failed to reserve initial memory threshold of 1024.0 KiB for computing block rdd_5141_22 in memory.\n",
      "24/12/02 02:31:38 WARN MemoryStore: Not enough space to cache rdd_5141_22 in memory! (computed 384.0 B so far)\n",
      "24/12/02 02:31:38 WARN MemoryStore: Not enough space to cache rdd_5141_19 in memory! (computed 2.2 MiB so far)\n",
      "24/12/02 02:31:38 WARN MemoryStore: Not enough space to cache rdd_5141_21 in memory! (computed 3.4 MiB so far)\n",
      "24/12/02 02:31:42 WARN MemoryStore: Not enough space to cache rdd_5217_20 in memory! (computed 8.2 MiB so far)\n",
      "24/12/02 02:31:42 WARN MemoryStore: Not enough space to cache rdd_5217_15 in memory! (computed 5.3 MiB so far)\n",
      "24/12/02 02:31:42 WARN MemoryStore: Not enough space to cache rdd_5217_13 in memory! (computed 8.2 MiB so far)\n",
      "24/12/02 02:31:42 WARN MemoryStore: Not enough space to cache rdd_5217_21 in memory! (computed 5.3 MiB so far)\n",
      "24/12/02 02:31:42 WARN MemoryStore: Not enough space to cache rdd_5217_14 in memory! (computed 3.5 MiB so far)\n",
      "24/12/02 02:31:42 WARN MemoryStore: Not enough space to cache rdd_5217_19 in memory! (computed 8.2 MiB so far)\n",
      "24/12/02 02:31:42 WARN MemoryStore: Not enough space to cache rdd_5217_22 in memory! (computed 5.3 MiB so far)\n",
      "24/12/02 02:31:42 WARN MemoryStore: Not enough space to cache rdd_5217_16 in memory! (computed 3.5 MiB so far)\n",
      "24/12/02 02:31:42 WARN MemoryStore: Not enough space to cache rdd_5217_18 in memory! (computed 8.2 MiB so far)\n",
      "24/12/02 02:31:42 WARN MemoryStore: Not enough space to cache rdd_5217_17 in memory! (computed 5.3 MiB so far)\n",
      "24/12/02 02:31:42 WARN BlockManager: Persisting block rdd_5217_14 to disk instead.\n",
      "24/12/02 02:31:42 WARN BlockManager: Persisting block rdd_5217_13 to disk instead.\n",
      "24/12/02 02:31:42 WARN BlockManager: Persisting block rdd_5217_21 to disk instead.\n",
      "24/12/02 02:31:42 WARN BlockManager: Persisting block rdd_5217_22 to disk instead.\n",
      "24/12/02 02:31:42 WARN BlockManager: Persisting block rdd_5217_16 to disk instead.\n",
      "24/12/02 02:31:42 WARN BlockManager: Persisting block rdd_5217_18 to disk instead.\n",
      "24/12/02 02:31:42 WARN BlockManager: Persisting block rdd_5217_15 to disk instead.\n",
      "24/12/02 02:31:42 WARN BlockManager: Persisting block rdd_5217_20 to disk instead.\n",
      "24/12/02 02:31:42 WARN BlockManager: Persisting block rdd_5217_19 to disk instead.\n",
      "24/12/02 02:31:42 WARN BlockManager: Persisting block rdd_5217_17 to disk instead.\n",
      "24/12/02 02:31:43 WARN MemoryStore: Not enough space to cache rdd_5217_21 in memory! (computed 5.3 MiB so far)\n",
      "24/12/02 02:31:43 WARN MemoryStore: Not enough space to cache rdd_5217_13 in memory! (computed 12.3 MiB so far)\n",
      "24/12/02 02:31:43 WARN MemoryStore: Not enough space to cache rdd_5217_14 in memory! (computed 8.2 MiB so far)\n",
      "24/12/02 02:31:43 WARN MemoryStore: Not enough space to cache rdd_5217_19 in memory! (computed 8.2 MiB so far)\n",
      "24/12/02 02:31:43 WARN MemoryStore: Not enough space to cache rdd_5217_16 in memory! (computed 18.6 MiB so far)\n",
      "24/12/02 02:31:43 WARN MemoryStore: Not enough space to cache rdd_5217_18 in memory! (computed 5.3 MiB so far)\n",
      "24/12/02 02:31:43 WARN MemoryStore: Not enough space to cache rdd_5217_20 in memory! (computed 2.2 MiB so far)\n",
      "24/12/02 02:31:43 WARN MemoryStore: Not enough space to cache rdd_5217_22 in memory! (computed 1302.7 KiB so far)\n",
      "24/12/02 02:31:43 WARN MemoryStore: Not enough space to cache rdd_5217_13 in memory! (computed 8.2 MiB so far)\n",
      "24/12/02 02:31:43 WARN MemoryStore: Not enough space to cache rdd_5217_18 in memory! (computed 2.2 MiB so far)\n",
      "24/12/02 02:31:43 WARN MemoryStore: Not enough space to cache rdd_5217_16 in memory! (computed 5.3 MiB so far)\n",
      "24/12/02 02:31:43 WARN MemoryStore: Failed to reserve initial memory threshold of 1024.0 KiB for computing block rdd_5217_21 in memory.\n",
      "24/12/02 02:31:43 WARN MemoryStore: Not enough space to cache rdd_5217_14 in memory! (computed 12.3 MiB so far)\n",
      "24/12/02 02:31:43 WARN MemoryStore: Failed to reserve initial memory threshold of 1024.0 KiB for computing block rdd_5217_22 in memory.\n",
      "24/12/02 02:31:44 WARN MemoryStore: Failed to reserve initial memory threshold of 1024.0 KiB for computing block rdd_5217_19 in memory.\n",
      "24/12/02 02:31:44 WARN MemoryStore: Not enough space to cache rdd_5217_22 in memory! (computed 384.0 B so far)\n",
      "24/12/02 02:31:44 WARN MemoryStore: Not enough space to cache rdd_5217_19 in memory! (computed 384.0 B so far)\n",
      "24/12/02 02:31:44 WARN MemoryStore: Not enough space to cache rdd_5217_21 in memory! (computed 384.0 B so far)\n",
      "24/12/02 02:31:44 WARN MemoryStore: Not enough space to cache rdd_5217_20 in memory! (computed 28.1 MiB so far)\n",
      "24/12/02 02:31:44 WARN MemoryStore: Not enough space to cache rdd_5217_20 in memory! (computed 3.5 MiB so far)\n",
      "24/12/02 02:31:44 WARN MemoryStore: Not enough space to cache rdd_5217_19 in memory! (computed 3.5 MiB so far)\n",
      "24/12/02 02:31:44 WARN MemoryStore: Not enough space to cache rdd_5217_14 in memory! (computed 2.2 MiB so far)\n",
      "24/12/02 02:31:44 WARN MemoryStore: Not enough space to cache rdd_5217_21 in memory! (computed 3.5 MiB so far)\n",
      "24/12/02 02:31:44 WARN MemoryStore: Not enough space to cache rdd_5217_18 in memory! (computed 3.5 MiB so far)\n",
      "24/12/02 02:31:44 WARN MemoryStore: Not enough space to cache rdd_5217_22 in memory! (computed 2.2 MiB so far)\n",
      "24/12/02 02:31:44 WARN MemoryStore: Not enough space to cache rdd_5217_16 in memory! (computed 3.5 MiB so far)\n",
      "24/12/02 02:31:44 WARN MemoryStore: Not enough space to cache rdd_5217_13 in memory! (computed 8.2 MiB so far)\n",
      "24/12/02 02:31:45 WARN DAGScheduler: Broadcasting large task binary with size 1104.1 KiB\n",
      "24/12/02 02:31:45 WARN MemoryStore: Not enough space to cache rdd_5217_19 in memory! (computed 1302.7 KiB so far)\n",
      "24/12/02 02:31:45 WARN MemoryStore: Not enough space to cache rdd_5217_13 in memory! (computed 12.3 MiB so far)\n",
      "24/12/02 02:31:45 WARN MemoryStore: Not enough space to cache rdd_5217_16 in memory! (computed 1302.7 KiB so far)\n",
      "24/12/02 02:31:45 WARN MemoryStore: Failed to reserve initial memory threshold of 1024.0 KiB for computing block rdd_5217_20 in memory.\n",
      "24/12/02 02:31:45 WARN MemoryStore: Failed to reserve initial memory threshold of 1024.0 KiB for computing block rdd_5217_22 in memory.\n",
      "24/12/02 02:31:45 WARN MemoryStore: Not enough space to cache rdd_5217_14 in memory! (computed 12.3 MiB so far)\n",
      "24/12/02 02:31:45 WARN MemoryStore: Failed to reserve initial memory threshold of 1024.0 KiB for computing block rdd_5217_21 in memory.\n",
      "24/12/02 02:31:45 WARN MemoryStore: Not enough space to cache rdd_5217_21 in memory! (computed 384.0 B so far)\n",
      "24/12/02 02:31:45 WARN MemoryStore: Not enough space to cache rdd_5217_18 in memory! (computed 2.2 MiB so far)\n",
      "24/12/02 02:31:45 WARN MemoryStore: Not enough space to cache rdd_5217_20 in memory! (computed 384.0 B so far)\n",
      "24/12/02 02:31:45 WARN MemoryStore: Not enough space to cache rdd_5217_22 in memory! (computed 384.0 B so far)\n",
      "24/12/02 02:31:46 WARN DAGScheduler: Broadcasting large task binary with size 1337.4 KiB\n",
      "24/12/02 02:31:46 WARN MemoryStore: Not enough space to cache rdd_5217_20 in memory! (computed 3.5 MiB so far)\n",
      "24/12/02 02:31:46 WARN MemoryStore: Not enough space to cache rdd_5217_14 in memory! (computed 2.2 MiB so far)\n",
      "24/12/02 02:31:46 WARN MemoryStore: Not enough space to cache rdd_5217_16 in memory! (computed 3.5 MiB so far)\n",
      "24/12/02 02:31:46 WARN MemoryStore: Not enough space to cache rdd_5217_22 in memory! (computed 3.5 MiB so far)\n",
      "24/12/02 02:31:46 WARN MemoryStore: Not enough space to cache rdd_5217_13 in memory! (computed 3.5 MiB so far)\n",
      "24/12/02 02:31:46 WARN MemoryStore: Not enough space to cache rdd_5217_19 in memory! (computed 5.3 MiB so far)\n",
      "24/12/02 02:31:46 WARN MemoryStore: Not enough space to cache rdd_5217_21 in memory! (computed 5.3 MiB so far)\n",
      "24/12/02 02:31:46 WARN MemoryStore: Not enough space to cache rdd_5217_18 in memory! (computed 3.5 MiB so far)\n",
      "24/12/02 02:31:47 WARN DAGScheduler: Broadcasting large task binary with size 1061.6 KiB\n",
      "24/12/02 02:31:50 WARN MemoryStore: Not enough space to cache rdd_5293_21 in memory! (computed 5.3 MiB so far)\n",
      "24/12/02 02:31:50 WARN MemoryStore: Not enough space to cache rdd_5293_20 in memory! (computed 5.3 MiB so far)\n",
      "24/12/02 02:31:50 WARN MemoryStore: Not enough space to cache rdd_5293_16 in memory! (computed 5.3 MiB so far)\n",
      "24/12/02 02:31:50 WARN MemoryStore: Not enough space to cache rdd_5293_22 in memory! (computed 5.3 MiB so far)\n",
      "24/12/02 02:31:50 WARN MemoryStore: Not enough space to cache rdd_5293_15 in memory! (computed 8.2 MiB so far)\n",
      "24/12/02 02:31:50 WARN MemoryStore: Not enough space to cache rdd_5293_17 in memory! (computed 5.3 MiB so far)\n",
      "24/12/02 02:31:50 WARN MemoryStore: Not enough space to cache rdd_5293_13 in memory! (computed 5.3 MiB so far)\n",
      "24/12/02 02:31:50 WARN MemoryStore: Not enough space to cache rdd_5293_14 in memory! (computed 5.3 MiB so far)\n",
      "24/12/02 02:31:50 WARN MemoryStore: Not enough space to cache rdd_5293_19 in memory! (computed 8.2 MiB so far)\n",
      "24/12/02 02:31:51 WARN BlockManager: Persisting block rdd_5293_15 to disk instead.\n",
      "24/12/02 02:31:51 WARN BlockManager: Persisting block rdd_5293_20 to disk instead.\n",
      "24/12/02 02:31:51 WARN BlockManager: Persisting block rdd_5293_19 to disk instead.\n",
      "24/12/02 02:31:51 WARN BlockManager: Persisting block rdd_5293_13 to disk instead.\n",
      "24/12/02 02:31:51 WARN BlockManager: Persisting block rdd_5293_17 to disk instead.\n",
      "24/12/02 02:31:51 WARN BlockManager: Persisting block rdd_5293_14 to disk instead.\n",
      "24/12/02 02:31:51 WARN BlockManager: Persisting block rdd_5293_16 to disk instead.\n",
      "24/12/02 02:31:51 WARN BlockManager: Persisting block rdd_5293_21 to disk instead.\n",
      "24/12/02 02:31:51 WARN BlockManager: Persisting block rdd_5293_22 to disk instead.\n",
      "24/12/02 02:31:51 WARN MemoryStore: Not enough space to cache rdd_5293_18 in memory! (computed 5.3 MiB so far)\n",
      "24/12/02 02:31:51 WARN BlockManager: Persisting block rdd_5293_18 to disk instead.\n",
      "24/12/02 02:31:51 WARN MemoryStore: Not enough space to cache rdd_5293_21 in memory! (computed 8.2 MiB so far)\n",
      "24/12/02 02:31:51 WARN MemoryStore: Not enough space to cache rdd_5293_22 in memory! (computed 2.2 MiB so far)\n",
      "24/12/02 02:31:51 WARN MemoryStore: Not enough space to cache rdd_5293_18 in memory! (computed 3.5 MiB so far)\n",
      "24/12/02 02:31:51 WARN MemoryStore: Not enough space to cache rdd_5293_17 in memory! (computed 8.2 MiB so far)\n",
      "24/12/02 02:31:51 WARN MemoryStore: Not enough space to cache rdd_5293_20 in memory! (computed 1302.7 KiB so far)\n",
      "24/12/02 02:31:51 WARN MemoryStore: Not enough space to cache rdd_5293_19 in memory! (computed 12.3 MiB so far)\n",
      "24/12/02 02:31:51 WARN MemoryStore: Not enough space to cache rdd_5293_16 in memory! (computed 12.3 MiB so far)\n",
      "24/12/02 02:31:51 WARN MemoryStore: Not enough space to cache rdd_5293_14 in memory! (computed 12.3 MiB so far)\n",
      "24/12/02 02:31:51 WARN MemoryStore: Not enough space to cache rdd_5293_15 in memory! (computed 12.3 MiB so far)\n",
      "24/12/02 02:31:51 WARN MemoryStore: Not enough space to cache rdd_5293_13 in memory! (computed 12.3 MiB so far)\n",
      "24/12/02 02:31:52 WARN MemoryStore: Not enough space to cache rdd_5293_18 in memory! (computed 8.2 MiB so far)\n",
      "24/12/02 02:31:52 WARN MemoryStore: Not enough space to cache rdd_5293_17 in memory! (computed 8.2 MiB so far)\n",
      "24/12/02 02:31:52 WARN MemoryStore: Not enough space to cache rdd_5293_15 in memory! (computed 5.3 MiB so far)\n",
      "24/12/02 02:31:52 WARN MemoryStore: Not enough space to cache rdd_5293_22 in memory! (computed 12.3 MiB so far)\n",
      "24/12/02 02:31:52 WARN MemoryStore: Not enough space to cache rdd_5293_21 in memory! (computed 8.2 MiB so far)\n",
      "24/12/02 02:31:52 WARN MemoryStore: Not enough space to cache rdd_5293_19 in memory! (computed 12.3 MiB so far)\n",
      "24/12/02 02:31:52 WARN MemoryStore: Not enough space to cache rdd_5293_20 in memory! (computed 8.2 MiB so far)\n",
      "24/12/02 02:31:52 WARN MemoryStore: Not enough space to cache rdd_5293_14 in memory! (computed 8.2 MiB so far)\n",
      "24/12/02 02:31:52 WARN MemoryStore: Not enough space to cache rdd_5293_16 in memory! (computed 5.3 MiB so far)\n",
      "24/12/02 02:31:52 WARN MemoryStore: Not enough space to cache rdd_5293_13 in memory! (computed 8.2 MiB so far)\n",
      "24/12/02 02:31:52 WARN MemoryStore: Not enough space to cache rdd_5293_20 in memory! (computed 8.2 MiB so far)\n",
      "24/12/02 02:31:52 WARN MemoryStore: Not enough space to cache rdd_5293_17 in memory! (computed 8.2 MiB so far)\n",
      "24/12/02 02:31:52 WARN MemoryStore: Not enough space to cache rdd_5293_19 in memory! (computed 8.2 MiB so far)\n",
      "24/12/02 02:31:52 WARN MemoryStore: Not enough space to cache rdd_5293_15 in memory! (computed 12.3 MiB so far)\n",
      "24/12/02 02:31:52 WARN MemoryStore: Not enough space to cache rdd_5293_13 in memory! (computed 12.3 MiB so far)\n",
      "24/12/02 02:31:52 WARN MemoryStore: Not enough space to cache rdd_5293_16 in memory! (computed 12.3 MiB so far)\n",
      "24/12/02 02:31:52 WARN MemoryStore: Not enough space to cache rdd_5293_14 in memory! (computed 12.3 MiB so far)\n",
      "24/12/02 02:31:52 WARN MemoryStore: Not enough space to cache rdd_5293_21 in memory! (computed 8.2 MiB so far)\n",
      "24/12/02 02:31:52 WARN MemoryStore: Not enough space to cache rdd_5293_18 in memory! (computed 1302.7 KiB so far)\n",
      "24/12/02 02:31:52 WARN MemoryStore: Not enough space to cache rdd_5293_22 in memory! (computed 1302.7 KiB so far)\n",
      "24/12/02 02:31:53 WARN DAGScheduler: Broadcasting large task binary with size 1104.4 KiB\n",
      "24/12/02 02:31:53 WARN MemoryStore: Not enough space to cache rdd_5293_16 in memory! (computed 8.2 MiB so far)\n",
      "24/12/02 02:31:53 WARN MemoryStore: Not enough space to cache rdd_5293_20 in memory! (computed 5.3 MiB so far)\n",
      "24/12/02 02:31:53 WARN MemoryStore: Not enough space to cache rdd_5293_19 in memory! (computed 8.2 MiB so far)\n",
      "24/12/02 02:31:53 WARN MemoryStore: Not enough space to cache rdd_5293_22 in memory! (computed 8.2 MiB so far)\n",
      "24/12/02 02:31:53 WARN MemoryStore: Not enough space to cache rdd_5293_21 in memory! (computed 8.2 MiB so far)\n",
      "24/12/02 02:31:53 WARN MemoryStore: Not enough space to cache rdd_5293_13 in memory! (computed 8.2 MiB so far)\n",
      "24/12/02 02:31:53 WARN MemoryStore: Not enough space to cache rdd_5293_18 in memory! (computed 12.3 MiB so far)\n",
      "24/12/02 02:31:53 WARN MemoryStore: Not enough space to cache rdd_5293_14 in memory! (computed 8.2 MiB so far)\n",
      "24/12/02 02:31:53 WARN MemoryStore: Not enough space to cache rdd_5293_15 in memory! (computed 12.3 MiB so far)\n",
      "24/12/02 02:31:53 WARN MemoryStore: Not enough space to cache rdd_5293_17 in memory! (computed 5.3 MiB so far)\n",
      "24/12/02 02:31:54 WARN DAGScheduler: Broadcasting large task binary with size 1337.7 KiB\n",
      "24/12/02 02:31:54 WARN MemoryStore: Not enough space to cache rdd_5293_13 in memory! (computed 12.3 MiB so far)\n",
      "24/12/02 02:31:54 WARN MemoryStore: Not enough space to cache rdd_5293_14 in memory! (computed 12.3 MiB so far)\n",
      "24/12/02 02:31:54 WARN MemoryStore: Not enough space to cache rdd_5293_17 in memory! (computed 12.3 MiB so far)\n",
      "24/12/02 02:31:54 WARN MemoryStore: Not enough space to cache rdd_5293_21 in memory! (computed 1302.7 KiB so far)\n",
      "24/12/02 02:31:54 WARN MemoryStore: Not enough space to cache rdd_5293_15 in memory! (computed 18.6 MiB so far)\n",
      "24/12/02 02:31:54 WARN MemoryStore: Not enough space to cache rdd_5293_18 in memory! (computed 8.2 MiB so far)\n",
      "24/12/02 02:31:54 WARN MemoryStore: Not enough space to cache rdd_5293_19 in memory! (computed 5.3 MiB so far)\n",
      "24/12/02 02:31:54 WARN MemoryStore: Not enough space to cache rdd_5293_20 in memory! (computed 8.2 MiB so far)\n",
      "24/12/02 02:31:54 WARN MemoryStore: Failed to reserve initial memory threshold of 1024.0 KiB for computing block rdd_5293_22 in memory.\n",
      "24/12/02 02:31:54 WARN MemoryStore: Not enough space to cache rdd_5293_16 in memory! (computed 18.6 MiB so far)\n",
      "24/12/02 02:31:54 WARN MemoryStore: Not enough space to cache rdd_5293_22 in memory! (computed 384.0 B so far)\n",
      "24/12/02 02:31:55 WARN DAGScheduler: Broadcasting large task binary with size 1061.6 KiB\n",
      "24/12/02 02:31:59 WARN MemoryStore: Not enough space to cache rdd_5369_18 in memory! (computed 5.3 MiB so far)\n",
      "24/12/02 02:31:59 WARN MemoryStore: Not enough space to cache rdd_5369_14 in memory! (computed 5.3 MiB so far)\n",
      "24/12/02 02:31:59 WARN MemoryStore: Not enough space to cache rdd_5369_13 in memory! (computed 8.1 MiB so far)\n",
      "24/12/02 02:31:59 WARN MemoryStore: Not enough space to cache rdd_5369_15 in memory! (computed 5.3 MiB so far)\n",
      "24/12/02 02:31:59 WARN MemoryStore: Not enough space to cache rdd_5369_17 in memory! (computed 5.3 MiB so far)\n",
      "24/12/02 02:31:59 WARN MemoryStore: Not enough space to cache rdd_5369_12 in memory! (computed 8.1 MiB so far)\n",
      "24/12/02 02:31:59 WARN MemoryStore: Not enough space to cache rdd_5369_20 in memory! (computed 8.1 MiB so far)\n",
      "24/12/02 02:31:59 WARN MemoryStore: Not enough space to cache rdd_5369_16 in memory! (computed 8.1 MiB so far)\n",
      "24/12/02 02:31:59 WARN BlockManager: Persisting block rdd_5369_14 to disk instead.\n",
      "24/12/02 02:31:59 WARN BlockManager: Persisting block rdd_5369_16 to disk instead.\n",
      "24/12/02 02:31:59 WARN BlockManager: Persisting block rdd_5369_12 to disk instead.\n",
      "24/12/02 02:31:59 WARN BlockManager: Persisting block rdd_5369_13 to disk instead.\n",
      "24/12/02 02:31:59 WARN BlockManager: Persisting block rdd_5369_15 to disk instead.\n",
      "24/12/02 02:31:59 WARN BlockManager: Persisting block rdd_5369_20 to disk instead.\n",
      "24/12/02 02:31:59 WARN MemoryStore: Not enough space to cache rdd_5369_19 in memory! (computed 8.1 MiB so far)\n",
      "24/12/02 02:31:59 WARN BlockManager: Persisting block rdd_5369_19 to disk instead.\n",
      "24/12/02 02:31:59 WARN BlockManager: Persisting block rdd_5369_18 to disk instead.\n",
      "24/12/02 02:31:59 WARN BlockManager: Persisting block rdd_5369_17 to disk instead.\n",
      "24/12/02 02:31:59 WARN MemoryStore: Not enough space to cache rdd_5369_22 in memory! (computed 12.2 MiB so far)\n",
      "24/12/02 02:31:59 WARN BlockManager: Persisting block rdd_5369_22 to disk instead.\n",
      "24/12/02 02:31:59 WARN MemoryStore: Not enough space to cache rdd_5369_12 in memory! (computed 8.1 MiB so far)\n",
      "24/12/02 02:31:59 WARN MemoryStore: Not enough space to cache rdd_5369_22 in memory! (computed 3.4 MiB so far)\n",
      "24/12/02 02:31:59 WARN MemoryStore: Not enough space to cache rdd_5369_19 in memory! (computed 8.1 MiB so far)\n",
      "24/12/02 02:31:59 WARN MemoryStore: Not enough space to cache rdd_5369_20 in memory! (computed 2.2 MiB so far)\n",
      "24/12/02 02:31:59 WARN MemoryStore: Not enough space to cache rdd_5369_18 in memory! (computed 2.2 MiB so far)\n",
      "24/12/02 02:31:59 WARN MemoryStore: Not enough space to cache rdd_5369_14 in memory! (computed 18.4 MiB so far)\n",
      "24/12/02 02:31:59 WARN MemoryStore: Not enough space to cache rdd_5369_13 in memory! (computed 12.2 MiB so far)\n",
      "24/12/02 02:31:59 WARN MemoryStore: Not enough space to cache rdd_5369_17 in memory! (computed 12.2 MiB so far)\n",
      "24/12/02 02:31:59 WARN MemoryStore: Not enough space to cache rdd_5369_15 in memory! (computed 5.3 MiB so far)\n",
      "24/12/02 02:31:59 WARN MemoryStore: Not enough space to cache rdd_5369_16 in memory! (computed 12.2 MiB so far)\n",
      "24/12/02 02:32:00 WARN MemoryStore: Not enough space to cache rdd_5369_17 in memory! (computed 5.3 MiB so far)\n",
      "24/12/02 02:32:00 WARN MemoryStore: Not enough space to cache rdd_5369_15 in memory! (computed 5.3 MiB so far)\n",
      "24/12/02 02:32:00 WARN MemoryStore: Not enough space to cache rdd_5369_19 in memory! (computed 5.3 MiB so far)\n",
      "24/12/02 02:32:00 WARN MemoryStore: Not enough space to cache rdd_5369_13 in memory! (computed 12.2 MiB so far)\n",
      "24/12/02 02:32:00 WARN MemoryStore: Not enough space to cache rdd_5369_14 in memory! (computed 18.4 MiB so far)\n",
      "24/12/02 02:32:00 WARN MemoryStore: Not enough space to cache rdd_5369_12 in memory! (computed 18.4 MiB so far)\n",
      "24/12/02 02:32:00 WARN MemoryStore: Not enough space to cache rdd_5369_20 in memory! (computed 5.3 MiB so far)\n",
      "24/12/02 02:32:00 WARN MemoryStore: Not enough space to cache rdd_5369_16 in memory! (computed 12.2 MiB so far)\n",
      "24/12/02 02:32:00 WARN MemoryStore: Not enough space to cache rdd_5369_22 in memory! (computed 1290.0 KiB so far)\n",
      "24/12/02 02:32:00 WARN MemoryStore: Not enough space to cache rdd_5369_18 in memory! (computed 1290.0 KiB so far)\n",
      "24/12/02 02:32:00 WARN MemoryStore: Not enough space to cache rdd_5369_13 in memory! (computed 8.1 MiB so far)\n",
      "24/12/02 02:32:00 WARN MemoryStore: Not enough space to cache rdd_5369_12 in memory! (computed 12.2 MiB so far)\n",
      "24/12/02 02:32:00 WARN MemoryStore: Not enough space to cache rdd_5369_14 in memory! (computed 8.1 MiB so far)\n",
      "24/12/02 02:32:00 WARN MemoryStore: Not enough space to cache rdd_5369_15 in memory! (computed 8.1 MiB so far)\n",
      "24/12/02 02:32:00 WARN MemoryStore: Not enough space to cache rdd_5369_18 in memory! (computed 8.1 MiB so far)\n",
      "24/12/02 02:32:00 WARN MemoryStore: Not enough space to cache rdd_5369_17 in memory! (computed 8.1 MiB so far)\n",
      "24/12/02 02:32:00 WARN MemoryStore: Not enough space to cache rdd_5369_22 in memory! (computed 8.1 MiB so far)\n",
      "24/12/02 02:32:00 WARN MemoryStore: Not enough space to cache rdd_5369_19 in memory! (computed 8.1 MiB so far)\n",
      "24/12/02 02:32:00 WARN MemoryStore: Not enough space to cache rdd_5369_16 in memory! (computed 8.1 MiB so far)\n",
      "24/12/02 02:32:00 WARN MemoryStore: Not enough space to cache rdd_5369_20 in memory! (computed 8.1 MiB so far)\n",
      "24/12/02 02:32:01 WARN MemoryStore: Not enough space to cache rdd_5369_17 in memory! (computed 5.3 MiB so far)\n",
      "24/12/02 02:32:01 WARN MemoryStore: Not enough space to cache rdd_5369_14 in memory! (computed 5.3 MiB so far)\n",
      "24/12/02 02:32:01 WARN MemoryStore: Not enough space to cache rdd_5369_18 in memory! (computed 5.3 MiB so far)\n",
      "24/12/02 02:32:01 WARN MemoryStore: Not enough space to cache rdd_5369_16 in memory! (computed 5.3 MiB so far)\n",
      "24/12/02 02:32:01 WARN MemoryStore: Not enough space to cache rdd_5369_15 in memory! (computed 8.1 MiB so far)\n",
      "24/12/02 02:32:01 WARN MemoryStore: Not enough space to cache rdd_5369_20 in memory! (computed 5.3 MiB so far)\n",
      "24/12/02 02:32:01 WARN MemoryStore: Not enough space to cache rdd_5369_22 in memory! (computed 3.4 MiB so far)\n",
      "24/12/02 02:32:01 WARN MemoryStore: Not enough space to cache rdd_5369_19 in memory! (computed 5.3 MiB so far)\n",
      "24/12/02 02:32:01 WARN MemoryStore: Not enough space to cache rdd_5369_13 in memory! (computed 12.2 MiB so far)\n",
      "24/12/02 02:32:01 WARN DAGScheduler: Broadcasting large task binary with size 1030.9 KiB\n",
      "24/12/02 02:32:02 WARN MemoryStore: Not enough space to cache rdd_5369_17 in memory! (computed 8.1 MiB so far)\n",
      "24/12/02 02:32:02 WARN MemoryStore: Not enough space to cache rdd_5369_13 in memory! (computed 8.1 MiB so far)\n",
      "24/12/02 02:32:02 WARN MemoryStore: Not enough space to cache rdd_5369_16 in memory! (computed 8.1 MiB so far)\n",
      "24/12/02 02:32:02 WARN MemoryStore: Not enough space to cache rdd_5369_15 in memory! (computed 8.1 MiB so far)\n",
      "24/12/02 02:32:02 WARN MemoryStore: Not enough space to cache rdd_5369_22 in memory! (computed 5.3 MiB so far)\n",
      "24/12/02 02:32:02 WARN MemoryStore: Not enough space to cache rdd_5369_19 in memory! (computed 3.4 MiB so far)\n",
      "24/12/02 02:32:02 WARN MemoryStore: Not enough space to cache rdd_5369_20 in memory! (computed 5.3 MiB so far)\n",
      "24/12/02 02:32:02 WARN MemoryStore: Not enough space to cache rdd_5369_14 in memory! (computed 5.3 MiB so far)\n",
      "24/12/02 02:32:02 WARN MemoryStore: Not enough space to cache rdd_5369_18 in memory! (computed 8.1 MiB so far)\n",
      "24/12/02 02:32:02 WARN DAGScheduler: Broadcasting large task binary with size 1183.2 KiB\n",
      "24/12/02 02:32:02 WARN MemoryStore: Not enough space to cache rdd_5369_16 in memory! (computed 5.3 MiB so far)\n",
      "24/12/02 02:32:02 WARN MemoryStore: Not enough space to cache rdd_5369_17 in memory! (computed 12.2 MiB so far)\n",
      "24/12/02 02:32:02 WARN MemoryStore: Not enough space to cache rdd_5369_18 in memory! (computed 8.1 MiB so far)\n",
      "24/12/02 02:32:02 WARN MemoryStore: Not enough space to cache rdd_5369_19 in memory! (computed 5.3 MiB so far)\n",
      "24/12/02 02:32:02 WARN MemoryStore: Not enough space to cache rdd_5369_14 in memory! (computed 5.3 MiB so far)\n",
      "24/12/02 02:32:02 WARN MemoryStore: Not enough space to cache rdd_5369_15 in memory! (computed 5.3 MiB so far)\n",
      "24/12/02 02:32:02 WARN MemoryStore: Not enough space to cache rdd_5369_20 in memory! (computed 5.3 MiB so far)\n",
      "24/12/02 02:32:02 WARN MemoryStore: Failed to reserve initial memory threshold of 1024.0 KiB for computing block rdd_5369_22 in memory.\n",
      "24/12/02 02:32:02 WARN MemoryStore: Not enough space to cache rdd_5369_22 in memory! (computed 384.0 B so far)\n",
      "24/12/02 02:32:03 WARN DAGScheduler: Broadcasting large task binary with size 1388.6 KiB\n",
      "24/12/02 02:32:03 WARN MemoryStore: Not enough space to cache rdd_5369_19 in memory! (computed 3.4 MiB so far)\n",
      "24/12/02 02:32:03 WARN MemoryStore: Not enough space to cache rdd_5369_14 in memory! (computed 3.4 MiB so far)\n",
      "24/12/02 02:32:03 WARN MemoryStore: Not enough space to cache rdd_5369_17 in memory! (computed 3.4 MiB so far)\n",
      "24/12/02 02:32:03 WARN MemoryStore: Not enough space to cache rdd_5369_22 in memory! (computed 3.4 MiB so far)\n",
      "24/12/02 02:32:03 WARN MemoryStore: Not enough space to cache rdd_5369_16 in memory! (computed 5.3 MiB so far)\n",
      "24/12/02 02:32:03 WARN MemoryStore: Not enough space to cache rdd_5369_18 in memory! (computed 3.4 MiB so far)\n",
      "24/12/02 02:32:03 WARN MemoryStore: Not enough space to cache rdd_5369_20 in memory! (computed 5.3 MiB so far)\n",
      "24/12/02 02:32:03 WARN MemoryStore: Not enough space to cache rdd_5369_15 in memory! (computed 5.3 MiB so far)\n",
      "24/12/02 02:32:04 WARN DAGScheduler: Broadcasting large task binary with size 1656.6 KiB\n",
      "24/12/02 02:32:04 WARN MemoryStore: Not enough space to cache rdd_5369_15 in memory! (computed 5.3 MiB so far)\n",
      "24/12/02 02:32:04 WARN MemoryStore: Not enough space to cache rdd_5369_22 in memory! (computed 5.3 MiB so far)\n",
      "24/12/02 02:32:04 WARN MemoryStore: Not enough space to cache rdd_5369_16 in memory! (computed 2.2 MiB so far)\n",
      "24/12/02 02:32:04 WARN MemoryStore: Not enough space to cache rdd_5369_18 in memory! (computed 5.3 MiB so far)\n",
      "24/12/02 02:32:04 WARN MemoryStore: Not enough space to cache rdd_5369_19 in memory! (computed 5.3 MiB so far)\n",
      "24/12/02 02:32:04 WARN MemoryStore: Not enough space to cache rdd_5369_20 in memory! (computed 5.3 MiB so far)\n",
      "24/12/02 02:32:04 WARN MemoryStore: Not enough space to cache rdd_5369_17 in memory! (computed 2.2 MiB so far)\n",
      "24/12/02 02:32:04 WARN MemoryStore: Not enough space to cache rdd_5369_14 in memory! (computed 3.4 MiB so far)\n",
      "24/12/02 02:32:05 WARN DAGScheduler: Broadcasting large task binary with size 1981.7 KiB\n",
      "24/12/02 02:32:06 WARN MemoryStore: Not enough space to cache rdd_5369_14 in memory! (computed 5.3 MiB so far)\n",
      "24/12/02 02:32:06 WARN MemoryStore: Not enough space to cache rdd_5369_16 in memory! (computed 12.2 MiB so far)\n",
      "24/12/02 02:32:06 WARN MemoryStore: Not enough space to cache rdd_5369_20 in memory! (computed 12.2 MiB so far)\n",
      "24/12/02 02:32:06 WARN MemoryStore: Not enough space to cache rdd_5369_12 in memory! (computed 3.4 MiB so far)\n",
      "24/12/02 02:32:06 WARN MemoryStore: Not enough space to cache rdd_5369_19 in memory! (computed 8.1 MiB so far)\n",
      "24/12/02 02:32:06 WARN MemoryStore: Not enough space to cache rdd_5369_18 in memory! (computed 18.4 MiB so far)\n",
      "24/12/02 02:32:06 WARN MemoryStore: Not enough space to cache rdd_5369_15 in memory! (computed 18.4 MiB so far)\n",
      "24/12/02 02:32:06 WARN MemoryStore: Not enough space to cache rdd_5369_17 in memory! (computed 18.4 MiB so far)\n",
      "24/12/02 02:32:06 WARN MemoryStore: Not enough space to cache rdd_5369_22 in memory! (computed 12.2 MiB so far)\n",
      "24/12/02 02:32:07 WARN DAGScheduler: Broadcasting large task binary with size 2.3 MiB\n",
      "24/12/02 02:32:07 WARN MemoryStore: Not enough space to cache rdd_5369_7 in memory! (computed 27.8 MiB so far)\n",
      "24/12/02 02:32:07 WARN MemoryStore: Not enough space to cache rdd_5369_0 in memory! (computed 27.8 MiB so far)\n",
      "24/12/02 02:32:08 WARN MemoryStore: Not enough space to cache rdd_5369_19 in memory! (computed 12.2 MiB so far)\n",
      "24/12/02 02:32:08 WARN MemoryStore: Not enough space to cache rdd_5369_15 in memory! (computed 18.4 MiB so far)\n",
      "24/12/02 02:32:08 WARN MemoryStore: Not enough space to cache rdd_5369_14 in memory! (computed 12.2 MiB so far)\n",
      "24/12/02 02:32:08 WARN MemoryStore: Not enough space to cache rdd_5369_16 in memory! (computed 12.2 MiB so far)\n",
      "24/12/02 02:32:08 WARN MemoryStore: Not enough space to cache rdd_5369_18 in memory! (computed 12.2 MiB so far)\n",
      "24/12/02 02:32:08 WARN MemoryStore: Not enough space to cache rdd_5369_17 in memory! (computed 18.4 MiB so far)\n",
      "24/12/02 02:32:08 WARN MemoryStore: Not enough space to cache rdd_5369_20 in memory! (computed 18.4 MiB so far)\n",
      "24/12/02 02:32:08 WARN MemoryStore: Not enough space to cache rdd_5369_22 in memory! (computed 3.4 MiB so far)\n",
      "24/12/02 02:32:10 WARN DAGScheduler: Broadcasting large task binary with size 1470.3 KiB\n",
      "24/12/02 02:32:13 WARN MemoryStore: Not enough space to cache rdd_5460_15 in memory! (computed 5.3 MiB so far)\n",
      "24/12/02 02:32:13 WARN MemoryStore: Not enough space to cache rdd_5460_18 in memory! (computed 8.1 MiB so far)\n",
      "24/12/02 02:32:13 WARN MemoryStore: Not enough space to cache rdd_5460_13 in memory! (computed 8.1 MiB so far)\n",
      "24/12/02 02:32:13 WARN MemoryStore: Not enough space to cache rdd_5460_22 in memory! (computed 5.3 MiB so far)\n",
      "24/12/02 02:32:13 WARN MemoryStore: Not enough space to cache rdd_5460_21 in memory! (computed 5.3 MiB so far)\n",
      "24/12/02 02:32:13 WARN MemoryStore: Not enough space to cache rdd_5460_17 in memory! (computed 5.3 MiB so far)\n",
      "24/12/02 02:32:13 WARN MemoryStore: Not enough space to cache rdd_5460_20 in memory! (computed 5.3 MiB so far)\n",
      "24/12/02 02:32:13 WARN MemoryStore: Not enough space to cache rdd_5460_16 in memory! (computed 5.3 MiB so far)\n",
      "24/12/02 02:32:13 WARN MemoryStore: Not enough space to cache rdd_5460_14 in memory! (computed 8.1 MiB so far)\n",
      "24/12/02 02:32:13 WARN BlockManager: Persisting block rdd_5460_13 to disk instead.\n",
      "24/12/02 02:32:13 WARN BlockManager: Persisting block rdd_5460_18 to disk instead.\n",
      "24/12/02 02:32:13 WARN BlockManager: Persisting block rdd_5460_21 to disk instead.\n",
      "24/12/02 02:32:13 WARN BlockManager: Persisting block rdd_5460_15 to disk instead.\n",
      "24/12/02 02:32:13 WARN BlockManager: Persisting block rdd_5460_22 to disk instead.\n",
      "24/12/02 02:32:13 WARN BlockManager: Persisting block rdd_5460_16 to disk instead.\n",
      "24/12/02 02:32:13 WARN BlockManager: Persisting block rdd_5460_17 to disk instead.\n",
      "24/12/02 02:32:13 WARN BlockManager: Persisting block rdd_5460_20 to disk instead.\n",
      "24/12/02 02:32:13 WARN BlockManager: Persisting block rdd_5460_14 to disk instead.\n",
      "24/12/02 02:32:13 WARN MemoryStore: Not enough space to cache rdd_5460_19 in memory! (computed 8.1 MiB so far)\n",
      "24/12/02 02:32:13 WARN BlockManager: Persisting block rdd_5460_19 to disk instead.\n",
      "24/12/02 02:32:14 WARN MemoryStore: Not enough space to cache rdd_5460_19 in memory! (computed 12.2 MiB so far)\n",
      "24/12/02 02:32:14 WARN MemoryStore: Not enough space to cache rdd_5460_14 in memory! (computed 12.2 MiB so far)\n",
      "24/12/02 02:32:14 WARN MemoryStore: Not enough space to cache rdd_5460_21 in memory! (computed 3.4 MiB so far)\n",
      "24/12/02 02:32:14 WARN MemoryStore: Not enough space to cache rdd_5460_18 in memory! (computed 3.4 MiB so far)\n",
      "24/12/02 02:32:14 WARN MemoryStore: Not enough space to cache rdd_5460_13 in memory! (computed 12.2 MiB so far)\n",
      "24/12/02 02:32:14 WARN MemoryStore: Not enough space to cache rdd_5460_15 in memory! (computed 18.4 MiB so far)\n",
      "24/12/02 02:32:14 WARN MemoryStore: Not enough space to cache rdd_5460_20 in memory! (computed 8.1 MiB so far)\n",
      "24/12/02 02:32:14 WARN MemoryStore: Not enough space to cache rdd_5460_22 in memory! (computed 8.1 MiB so far)\n",
      "24/12/02 02:32:14 WARN MemoryStore: Not enough space to cache rdd_5460_18 in memory! (computed 3.4 MiB so far)\n",
      "24/12/02 02:32:14 WARN MemoryStore: Not enough space to cache rdd_5460_19 in memory! (computed 5.3 MiB so far)\n",
      "24/12/02 02:32:14 WARN MemoryStore: Not enough space to cache rdd_5460_13 in memory! (computed 5.3 MiB so far)\n",
      "24/12/02 02:32:14 WARN MemoryStore: Not enough space to cache rdd_5460_14 in memory! (computed 5.3 MiB so far)\n",
      "24/12/02 02:32:14 WARN MemoryStore: Not enough space to cache rdd_5460_15 in memory! (computed 8.1 MiB so far)\n",
      "24/12/02 02:32:14 WARN MemoryStore: Not enough space to cache rdd_5460_20 in memory! (computed 5.3 MiB so far)\n",
      "24/12/02 02:32:14 WARN MemoryStore: Not enough space to cache rdd_5460_21 in memory! (computed 3.4 MiB so far)\n",
      "24/12/02 02:32:15 WARN MemoryStore: Not enough space to cache rdd_5460_22 in memory! (computed 27.8 MiB so far)\n",
      "24/12/02 02:32:15 WARN MemoryStore: Not enough space to cache rdd_5460_20 in memory! (computed 5.3 MiB so far)\n",
      "24/12/02 02:32:15 WARN MemoryStore: Not enough space to cache rdd_5460_18 in memory! (computed 3.4 MiB so far)\n",
      "24/12/02 02:32:15 WARN MemoryStore: Not enough space to cache rdd_5460_14 in memory! (computed 3.4 MiB so far)\n",
      "24/12/02 02:32:15 WARN MemoryStore: Not enough space to cache rdd_5460_22 in memory! (computed 5.3 MiB so far)\n",
      "24/12/02 02:32:15 WARN MemoryStore: Not enough space to cache rdd_5460_15 in memory! (computed 5.3 MiB so far)\n",
      "24/12/02 02:32:15 WARN MemoryStore: Not enough space to cache rdd_5460_21 in memory! (computed 5.3 MiB so far)\n",
      "24/12/02 02:32:15 WARN MemoryStore: Not enough space to cache rdd_5460_19 in memory! (computed 5.3 MiB so far)\n",
      "24/12/02 02:32:15 WARN MemoryStore: Not enough space to cache rdd_5460_13 in memory! (computed 3.4 MiB so far)\n",
      "24/12/02 02:32:16 WARN MemoryStore: Not enough space to cache rdd_5460_18 in memory! (computed 5.3 MiB so far)\n",
      "24/12/02 02:32:16 WARN MemoryStore: Not enough space to cache rdd_5460_14 in memory! (computed 5.3 MiB so far)\n",
      "24/12/02 02:32:16 WARN MemoryStore: Not enough space to cache rdd_5460_22 in memory! (computed 1290.0 KiB so far)\n",
      "24/12/02 02:32:16 WARN MemoryStore: Not enough space to cache rdd_5460_21 in memory! (computed 5.3 MiB so far)\n",
      "24/12/02 02:32:16 WARN MemoryStore: Not enough space to cache rdd_5460_20 in memory! (computed 5.3 MiB so far)\n",
      "24/12/02 02:32:16 WARN MemoryStore: Not enough space to cache rdd_5460_13 in memory! (computed 5.3 MiB so far)\n",
      "24/12/02 02:32:16 WARN MemoryStore: Not enough space to cache rdd_5460_19 in memory! (computed 2.2 MiB so far)\n",
      "24/12/02 02:32:16 WARN MemoryStore: Not enough space to cache rdd_5460_15 in memory! (computed 8.1 MiB so far)\n",
      "24/12/02 02:32:16 WARN DAGScheduler: Broadcasting large task binary with size 1031.2 KiB\n",
      "24/12/02 02:32:16 WARN MemoryStore: Not enough space to cache rdd_5460_13 in memory! (computed 5.3 MiB so far)\n",
      "24/12/02 02:32:16 WARN MemoryStore: Not enough space to cache rdd_5460_15 in memory! (computed 3.4 MiB so far)\n",
      "24/12/02 02:32:16 WARN MemoryStore: Not enough space to cache rdd_5460_19 in memory! (computed 3.4 MiB so far)\n",
      "24/12/02 02:32:16 WARN MemoryStore: Not enough space to cache rdd_5460_18 in memory! (computed 3.4 MiB so far)\n",
      "24/12/02 02:32:16 WARN MemoryStore: Not enough space to cache rdd_5460_22 in memory! (computed 5.3 MiB so far)\n",
      "24/12/02 02:32:16 WARN MemoryStore: Not enough space to cache rdd_5460_20 in memory! (computed 5.3 MiB so far)\n",
      "24/12/02 02:32:16 WARN MemoryStore: Not enough space to cache rdd_5460_21 in memory! (computed 5.3 MiB so far)\n",
      "24/12/02 02:32:17 WARN DAGScheduler: Broadcasting large task binary with size 1183.5 KiB\n",
      "24/12/02 02:32:17 WARN MemoryStore: Not enough space to cache rdd_5460_13 in memory! (computed 5.3 MiB so far)\n",
      "24/12/02 02:32:17 WARN MemoryStore: Failed to reserve initial memory threshold of 1024.0 KiB for computing block rdd_5460_19 in memory.\n",
      "24/12/02 02:32:17 WARN MemoryStore: Failed to reserve initial memory threshold of 1024.0 KiB for computing block rdd_5460_21 in memory.\n",
      "24/12/02 02:32:17 WARN MemoryStore: Failed to reserve initial memory threshold of 1024.0 KiB for computing block rdd_5460_20 in memory.\n",
      "24/12/02 02:32:17 WARN MemoryStore: Not enough space to cache rdd_5460_15 in memory! (computed 8.1 MiB so far)\n",
      "24/12/02 02:32:17 WARN MemoryStore: Failed to reserve initial memory threshold of 1024.0 KiB for computing block rdd_5460_22 in memory.\n",
      "24/12/02 02:32:17 WARN MemoryStore: Failed to reserve initial memory threshold of 1024.0 KiB for computing block rdd_5460_18 in memory.\n",
      "24/12/02 02:32:17 WARN MemoryStore: Not enough space to cache rdd_5460_19 in memory! (computed 384.0 B so far)\n",
      "24/12/02 02:32:17 WARN MemoryStore: Not enough space to cache rdd_5460_22 in memory! (computed 384.0 B so far)\n",
      "24/12/02 02:32:17 WARN MemoryStore: Not enough space to cache rdd_5460_21 in memory! (computed 384.0 B so far)\n",
      "24/12/02 02:32:17 WARN MemoryStore: Not enough space to cache rdd_5460_18 in memory! (computed 384.0 B so far)\n",
      "24/12/02 02:32:17 WARN MemoryStore: Not enough space to cache rdd_5460_20 in memory! (computed 384.0 B so far)\n",
      "24/12/02 02:32:18 WARN DAGScheduler: Broadcasting large task binary with size 1388.9 KiB\n",
      "24/12/02 02:32:19 WARN MemoryStore: Not enough space to cache rdd_5460_22 in memory! (computed 3.4 MiB so far)\n",
      "24/12/02 02:32:19 WARN MemoryStore: Not enough space to cache rdd_5460_20 in memory! (computed 2.2 MiB so far)\n",
      "24/12/02 02:32:19 WARN MemoryStore: Not enough space to cache rdd_5460_18 in memory! (computed 2.2 MiB so far)\n",
      "24/12/02 02:32:19 WARN MemoryStore: Not enough space to cache rdd_5460_21 in memory! (computed 2.2 MiB so far)\n",
      "24/12/02 02:32:19 WARN MemoryStore: Not enough space to cache rdd_5460_19 in memory! (computed 2.2 MiB so far)\n",
      "24/12/02 02:32:19 WARN MemoryStore: Not enough space to cache rdd_5460_15 in memory! (computed 1290.0 KiB so far)\n",
      "24/12/02 02:32:19 WARN MemoryStore: Not enough space to cache rdd_5460_13 in memory! (computed 2.2 MiB so far)\n",
      "24/12/02 02:32:19 WARN DAGScheduler: Broadcasting large task binary with size 1656.9 KiB\n",
      "24/12/02 02:32:20 WARN MemoryStore: Not enough space to cache rdd_5460_13 in memory! (computed 2.2 MiB so far)\n",
      "24/12/02 02:32:20 WARN MemoryStore: Not enough space to cache rdd_5460_21 in memory! (computed 2.2 MiB so far)\n",
      "24/12/02 02:32:20 WARN MemoryStore: Not enough space to cache rdd_5460_15 in memory! (computed 3.4 MiB so far)\n",
      "24/12/02 02:32:20 WARN MemoryStore: Not enough space to cache rdd_5460_19 in memory! (computed 1290.0 KiB so far)\n",
      "24/12/02 02:32:20 WARN MemoryStore: Not enough space to cache rdd_5460_22 in memory! (computed 2.2 MiB so far)\n",
      "24/12/02 02:32:20 WARN MemoryStore: Not enough space to cache rdd_5460_20 in memory! (computed 2.2 MiB so far)\n",
      "24/12/02 02:32:20 WARN MemoryStore: Not enough space to cache rdd_5460_18 in memory! (computed 2.2 MiB so far)\n",
      "24/12/02 02:32:20 WARN DAGScheduler: Broadcasting large task binary with size 1982.0 KiB\n",
      "24/12/02 02:32:21 WARN MemoryStore: Not enough space to cache rdd_5460_13 in memory! (computed 18.4 MiB so far)\n",
      "24/12/02 02:32:21 WARN MemoryStore: Not enough space to cache rdd_5460_18 in memory! (computed 5.3 MiB so far)\n",
      "24/12/02 02:32:21 WARN MemoryStore: Not enough space to cache rdd_5460_19 in memory! (computed 8.1 MiB so far)\n",
      "24/12/02 02:32:21 WARN MemoryStore: Not enough space to cache rdd_5460_15 in memory! (computed 8.1 MiB so far)\n",
      "24/12/02 02:32:21 WARN MemoryStore: Not enough space to cache rdd_5460_20 in memory! (computed 8.1 MiB so far)\n",
      "24/12/02 02:32:21 WARN MemoryStore: Not enough space to cache rdd_5460_16 in memory! (computed 8.1 MiB so far)\n",
      "24/12/02 02:32:21 WARN MemoryStore: Not enough space to cache rdd_5460_21 in memory! (computed 12.2 MiB so far)\n",
      "24/12/02 02:32:21 WARN MemoryStore: Not enough space to cache rdd_5460_22 in memory! (computed 12.2 MiB so far)\n",
      "24/12/02 02:32:21 WARN MemoryStore: Not enough space to cache rdd_5460_17 in memory! (computed 5.3 MiB so far)\n",
      "24/12/02 02:32:22 WARN DAGScheduler: Broadcasting large task binary with size 2.3 MiB\n",
      "24/12/02 02:32:22 WARN MemoryStore: Not enough space to cache rdd_5460_16 in memory! (computed 8.1 MiB so far)\n",
      "24/12/02 02:32:22 WARN MemoryStore: Not enough space to cache rdd_5460_13 in memory! (computed 8.1 MiB so far)\n",
      "24/12/02 02:32:22 WARN MemoryStore: Not enough space to cache rdd_5460_20 in memory! (computed 8.1 MiB so far)\n",
      "24/12/02 02:32:22 WARN MemoryStore: Not enough space to cache rdd_5460_18 in memory! (computed 12.2 MiB so far)\n",
      "24/12/02 02:32:22 WARN MemoryStore: Not enough space to cache rdd_5460_17 in memory! (computed 3.4 MiB so far)\n",
      "24/12/02 02:32:22 WARN MemoryStore: Not enough space to cache rdd_5460_22 in memory! (computed 8.1 MiB so far)\n",
      "24/12/02 02:32:22 WARN MemoryStore: Not enough space to cache rdd_5460_21 in memory! (computed 5.3 MiB so far)\n",
      "24/12/02 02:32:22 WARN MemoryStore: Not enough space to cache rdd_5460_15 in memory! (computed 18.4 MiB so far)\n",
      "24/12/02 02:32:24 WARN DAGScheduler: Broadcasting large task binary with size 1476.3 KiB\n",
      "24/12/02 02:32:27 WARN MemoryStore: Not enough space to cache rdd_5551_13 in memory! (computed 5.3 MiB so far)\n",
      "24/12/02 02:32:27 WARN MemoryStore: Not enough space to cache rdd_5551_21 in memory! (computed 5.3 MiB so far)\n",
      "24/12/02 02:32:27 WARN MemoryStore: Not enough space to cache rdd_5551_20 in memory! (computed 3.5 MiB so far)\n",
      "24/12/02 02:32:27 WARN MemoryStore: Not enough space to cache rdd_5551_17 in memory! (computed 5.3 MiB so far)\n",
      "24/12/02 02:32:27 WARN MemoryStore: Not enough space to cache rdd_5551_22 in memory! (computed 8.2 MiB so far)\n",
      "24/12/02 02:32:27 WARN MemoryStore: Not enough space to cache rdd_5551_15 in memory! (computed 8.2 MiB so far)\n",
      "24/12/02 02:32:27 WARN MemoryStore: Not enough space to cache rdd_5551_16 in memory! (computed 8.2 MiB so far)\n",
      "24/12/02 02:32:27 WARN MemoryStore: Not enough space to cache rdd_5551_18 in memory! (computed 8.2 MiB so far)\n",
      "24/12/02 02:32:27 WARN MemoryStore: Not enough space to cache rdd_5551_19 in memory! (computed 8.2 MiB so far)\n",
      "24/12/02 02:32:27 WARN MemoryStore: Not enough space to cache rdd_5551_14 in memory! (computed 5.3 MiB so far)\n",
      "24/12/02 02:32:27 WARN BlockManager: Persisting block rdd_5551_20 to disk instead.\n",
      "24/12/02 02:32:27 WARN BlockManager: Persisting block rdd_5551_14 to disk instead.\n",
      "24/12/02 02:32:27 WARN BlockManager: Persisting block rdd_5551_16 to disk instead.\n",
      "24/12/02 02:32:27 WARN BlockManager: Persisting block rdd_5551_22 to disk instead.\n",
      "24/12/02 02:32:27 WARN BlockManager: Persisting block rdd_5551_15 to disk instead.\n",
      "24/12/02 02:32:27 WARN BlockManager: Persisting block rdd_5551_21 to disk instead.\n",
      "24/12/02 02:32:27 WARN BlockManager: Persisting block rdd_5551_19 to disk instead.\n",
      "24/12/02 02:32:27 WARN MemoryStore: Not enough space to cache rdd_5551_12 in memory! (computed 18.6 MiB so far)\n",
      "24/12/02 02:32:27 WARN BlockManager: Persisting block rdd_5551_12 to disk instead.\n",
      "24/12/02 02:32:27 WARN BlockManager: Persisting block rdd_5551_13 to disk instead.\n",
      "24/12/02 02:32:27 WARN BlockManager: Persisting block rdd_5551_18 to disk instead.\n",
      "24/12/02 02:32:27 WARN BlockManager: Persisting block rdd_5551_17 to disk instead.\n",
      "24/12/02 02:32:28 WARN MemoryStore: Not enough space to cache rdd_5551_17 in memory! (computed 12.3 MiB so far)\n",
      "24/12/02 02:32:28 WARN MemoryStore: Not enough space to cache rdd_5551_12 in memory! (computed 12.3 MiB so far)\n",
      "24/12/02 02:32:28 WARN MemoryStore: Not enough space to cache rdd_5551_18 in memory! (computed 2.2 MiB so far)\n",
      "24/12/02 02:32:28 WARN MemoryStore: Not enough space to cache rdd_5551_13 in memory! (computed 12.3 MiB so far)\n",
      "24/12/02 02:32:28 WARN MemoryStore: Not enough space to cache rdd_5551_19 in memory! (computed 12.3 MiB so far)\n",
      "24/12/02 02:32:28 WARN MemoryStore: Not enough space to cache rdd_5551_14 in memory! (computed 18.6 MiB so far)\n",
      "24/12/02 02:32:28 WARN MemoryStore: Not enough space to cache rdd_5551_16 in memory! (computed 18.6 MiB so far)\n",
      "24/12/02 02:32:28 WARN MemoryStore: Failed to reserve initial memory threshold of 1024.0 KiB for computing block rdd_5551_20 in memory.\n",
      "24/12/02 02:32:28 WARN MemoryStore: Not enough space to cache rdd_5551_20 in memory! (computed 384.0 B so far)\n",
      "24/12/02 02:32:28 WARN MemoryStore: Not enough space to cache rdd_5551_22 in memory! (computed 1302.7 KiB so far)\n",
      "24/12/02 02:32:28 WARN MemoryStore: Not enough space to cache rdd_5551_21 in memory! (computed 12.3 MiB so far)\n",
      "24/12/02 02:32:28 WARN MemoryStore: Not enough space to cache rdd_5551_15 in memory! (computed 8.2 MiB so far)\n",
      "24/12/02 02:32:28 WARN MemoryStore: Not enough space to cache rdd_5551_15 in memory! (computed 12.3 MiB so far)\n",
      "24/12/02 02:32:28 WARN MemoryStore: Not enough space to cache rdd_5551_17 in memory! (computed 8.2 MiB so far)\n",
      "24/12/02 02:32:28 WARN MemoryStore: Not enough space to cache rdd_5551_14 in memory! (computed 8.2 MiB so far)\n",
      "24/12/02 02:32:28 WARN MemoryStore: Not enough space to cache rdd_5551_19 in memory! (computed 8.2 MiB so far)\n",
      "24/12/02 02:32:28 WARN MemoryStore: Not enough space to cache rdd_5551_16 in memory! (computed 12.3 MiB so far)\n",
      "24/12/02 02:32:28 WARN MemoryStore: Not enough space to cache rdd_5551_21 in memory! (computed 8.2 MiB so far)\n",
      "24/12/02 02:32:28 WARN MemoryStore: Not enough space to cache rdd_5551_12 in memory! (computed 8.2 MiB so far)\n",
      "24/12/02 02:32:28 WARN MemoryStore: Not enough space to cache rdd_5551_22 in memory! (computed 8.2 MiB so far)\n",
      "24/12/02 02:32:28 WARN MemoryStore: Not enough space to cache rdd_5551_13 in memory! (computed 12.3 MiB so far)\n",
      "24/12/02 02:32:28 WARN MemoryStore: Not enough space to cache rdd_5551_20 in memory! (computed 12.3 MiB so far)\n",
      "24/12/02 02:32:28 WARN MemoryStore: Not enough space to cache rdd_5551_18 in memory! (computed 12.3 MiB so far)\n",
      "24/12/02 02:32:29 WARN MemoryStore: Not enough space to cache rdd_5551_15 in memory! (computed 8.2 MiB so far)\n",
      "24/12/02 02:32:29 WARN MemoryStore: Not enough space to cache rdd_5551_17 in memory! (computed 12.3 MiB so far)\n",
      "24/12/02 02:32:29 WARN MemoryStore: Not enough space to cache rdd_5551_13 in memory! (computed 18.6 MiB so far)\n",
      "24/12/02 02:32:29 WARN MemoryStore: Not enough space to cache rdd_5551_16 in memory! (computed 12.3 MiB so far)\n",
      "24/12/02 02:32:29 WARN MemoryStore: Not enough space to cache rdd_5551_18 in memory! (computed 12.3 MiB so far)\n",
      "24/12/02 02:32:29 WARN MemoryStore: Not enough space to cache rdd_5551_14 in memory! (computed 5.3 MiB so far)\n",
      "24/12/02 02:32:29 WARN MemoryStore: Not enough space to cache rdd_5551_22 in memory! (computed 1302.7 KiB so far)\n",
      "24/12/02 02:32:29 WARN MemoryStore: Not enough space to cache rdd_5551_21 in memory! (computed 5.3 MiB so far)\n",
      "24/12/02 02:32:29 WARN MemoryStore: Not enough space to cache rdd_5551_19 in memory! (computed 3.5 MiB so far)\n",
      "24/12/02 02:32:29 WARN MemoryStore: Not enough space to cache rdd_5551_20 in memory! (computed 5.3 MiB so far)\n",
      "24/12/02 02:32:30 WARN DAGScheduler: Broadcasting large task binary with size 1104.1 KiB\n",
      "24/12/02 02:32:30 WARN MemoryStore: Not enough space to cache rdd_5551_21 in memory! (computed 8.2 MiB so far)\n",
      "24/12/02 02:32:30 WARN MemoryStore: Not enough space to cache rdd_5551_14 in memory! (computed 8.2 MiB so far)\n",
      "24/12/02 02:32:30 WARN MemoryStore: Not enough space to cache rdd_5551_18 in memory! (computed 8.2 MiB so far)\n",
      "24/12/02 02:32:30 WARN MemoryStore: Not enough space to cache rdd_5551_22 in memory! (computed 8.2 MiB so far)\n",
      "24/12/02 02:32:30 WARN MemoryStore: Not enough space to cache rdd_5551_17 in memory! (computed 5.3 MiB so far)\n",
      "24/12/02 02:32:30 WARN MemoryStore: Not enough space to cache rdd_5551_16 in memory! (computed 8.2 MiB so far)\n",
      "24/12/02 02:32:30 WARN MemoryStore: Not enough space to cache rdd_5551_19 in memory! (computed 8.2 MiB so far)\n",
      "24/12/02 02:32:30 WARN MemoryStore: Not enough space to cache rdd_5551_15 in memory! (computed 8.2 MiB so far)\n",
      "24/12/02 02:32:30 WARN MemoryStore: Not enough space to cache rdd_5551_13 in memory! (computed 8.2 MiB so far)\n",
      "24/12/02 02:32:30 WARN MemoryStore: Not enough space to cache rdd_5551_20 in memory! (computed 12.3 MiB so far)\n",
      "24/12/02 02:32:31 WARN DAGScheduler: Broadcasting large task binary with size 1337.4 KiB\n",
      "24/12/02 02:32:31 WARN MemoryStore: Not enough space to cache rdd_5551_15 in memory! (computed 12.3 MiB so far)\n",
      "24/12/02 02:32:31 WARN MemoryStore: Not enough space to cache rdd_5551_14 in memory! (computed 18.6 MiB so far)\n",
      "24/12/02 02:32:31 WARN MemoryStore: Not enough space to cache rdd_5551_18 in memory! (computed 3.5 MiB so far)\n",
      "24/12/02 02:32:31 WARN MemoryStore: Not enough space to cache rdd_5551_17 in memory! (computed 8.2 MiB so far)\n",
      "24/12/02 02:32:31 WARN MemoryStore: Not enough space to cache rdd_5551_20 in memory! (computed 2.2 MiB so far)\n",
      "24/12/02 02:32:31 WARN MemoryStore: Not enough space to cache rdd_5551_19 in memory! (computed 2.2 MiB so far)\n",
      "24/12/02 02:32:31 WARN MemoryStore: Not enough space to cache rdd_5551_16 in memory! (computed 12.3 MiB so far)\n",
      "24/12/02 02:32:31 WARN MemoryStore: Not enough space to cache rdd_5551_21 in memory! (computed 28.1 MiB so far)\n",
      "24/12/02 02:32:31 WARN MemoryStore: Not enough space to cache rdd_5551_22 in memory! (computed 28.1 MiB so far)\n",
      "24/12/02 02:32:32 WARN DAGScheduler: Broadcasting large task binary with size 1667.8 KiB\n",
      "24/12/02 02:32:32 WARN MemoryStore: Not enough space to cache rdd_5551_21 in memory! (computed 8.2 MiB so far)\n",
      "24/12/02 02:32:32 WARN MemoryStore: Not enough space to cache rdd_5551_19 in memory! (computed 5.3 MiB so far)\n",
      "24/12/02 02:32:32 WARN MemoryStore: Not enough space to cache rdd_5551_15 in memory! (computed 8.2 MiB so far)\n",
      "24/12/02 02:32:32 WARN MemoryStore: Not enough space to cache rdd_5551_20 in memory! (computed 5.3 MiB so far)\n",
      "24/12/02 02:32:32 WARN MemoryStore: Not enough space to cache rdd_5551_22 in memory! (computed 5.3 MiB so far)\n",
      "24/12/02 02:32:32 WARN MemoryStore: Not enough space to cache rdd_5551_16 in memory! (computed 12.3 MiB so far)\n",
      "24/12/02 02:32:32 WARN MemoryStore: Not enough space to cache rdd_5551_17 in memory! (computed 12.3 MiB so far)\n",
      "24/12/02 02:32:32 WARN MemoryStore: Not enough space to cache rdd_5551_18 in memory! (computed 12.3 MiB so far)\n",
      "24/12/02 02:32:33 WARN DAGScheduler: Broadcasting large task binary with size 2.1 MiB\n",
      "24/12/02 02:32:34 WARN MemoryStore: Not enough space to cache rdd_5551_19 in memory! (computed 8.2 MiB so far)\n",
      "24/12/02 02:32:34 WARN MemoryStore: Not enough space to cache rdd_5551_13 in memory! (computed 5.3 MiB so far)\n",
      "24/12/02 02:32:34 WARN MemoryStore: Not enough space to cache rdd_5551_21 in memory! (computed 5.3 MiB so far)\n",
      "24/12/02 02:32:34 WARN MemoryStore: Not enough space to cache rdd_5551_16 in memory! (computed 8.2 MiB so far)\n",
      "24/12/02 02:32:34 WARN MemoryStore: Not enough space to cache rdd_5551_18 in memory! (computed 5.3 MiB so far)\n",
      "24/12/02 02:32:34 WARN MemoryStore: Not enough space to cache rdd_5551_15 in memory! (computed 5.3 MiB so far)\n",
      "24/12/02 02:32:34 WARN MemoryStore: Not enough space to cache rdd_5551_17 in memory! (computed 12.3 MiB so far)\n",
      "24/12/02 02:32:34 WARN MemoryStore: Not enough space to cache rdd_5551_20 in memory! (computed 8.2 MiB so far)\n",
      "24/12/02 02:32:35 WARN DAGScheduler: Broadcasting large task binary with size 2.6 MiB\n",
      "24/12/02 02:32:36 WARN MemoryStore: Not enough space to cache rdd_5551_17 in memory! (computed 5.3 MiB so far)\n",
      "24/12/02 02:32:36 WARN MemoryStore: Not enough space to cache rdd_5551_19 in memory! (computed 8.2 MiB so far)\n",
      "24/12/02 02:32:36 WARN MemoryStore: Not enough space to cache rdd_5551_16 in memory! (computed 5.3 MiB so far)\n",
      "24/12/02 02:32:36 WARN MemoryStore: Not enough space to cache rdd_5551_21 in memory! (computed 12.3 MiB so far)\n",
      "24/12/02 02:32:36 WARN MemoryStore: Not enough space to cache rdd_5551_14 in memory! (computed 5.3 MiB so far)\n",
      "24/12/02 02:32:36 WARN MemoryStore: Not enough space to cache rdd_5551_12 in memory! (computed 12.3 MiB so far)\n",
      "24/12/02 02:32:36 WARN MemoryStore: Not enough space to cache rdd_5551_13 in memory! (computed 5.3 MiB so far)\n",
      "24/12/02 02:32:36 WARN MemoryStore: Not enough space to cache rdd_5551_15 in memory! (computed 5.3 MiB so far)\n",
      "24/12/02 02:32:36 WARN MemoryStore: Not enough space to cache rdd_5551_20 in memory! (computed 8.2 MiB so far)\n",
      "24/12/02 02:32:36 WARN MemoryStore: Not enough space to cache rdd_5551_18 in memory! (computed 5.3 MiB so far)\n",
      "24/12/02 02:32:37 WARN DAGScheduler: Broadcasting large task binary with size 3.3 MiB\n",
      "24/12/02 02:32:38 WARN MemoryStore: Not enough space to cache rdd_5551_18 in memory! (computed 18.6 MiB so far)\n",
      "24/12/02 02:32:38 WARN MemoryStore: Not enough space to cache rdd_5551_16 in memory! (computed 12.3 MiB so far)\n",
      "24/12/02 02:32:38 WARN MemoryStore: Not enough space to cache rdd_5551_22 in memory! (computed 12.3 MiB so far)\n",
      "24/12/02 02:32:38 WARN MemoryStore: Not enough space to cache rdd_5551_17 in memory! (computed 12.3 MiB so far)\n",
      "24/12/02 02:32:38 WARN MemoryStore: Not enough space to cache rdd_5551_21 in memory! (computed 18.6 MiB so far)\n",
      "24/12/02 02:32:38 WARN MemoryStore: Not enough space to cache rdd_5551_14 in memory! (computed 18.6 MiB so far)\n",
      "24/12/02 02:32:38 WARN MemoryStore: Not enough space to cache rdd_5551_15 in memory! (computed 12.3 MiB so far)\n",
      "24/12/02 02:32:38 WARN MemoryStore: Not enough space to cache rdd_5551_20 in memory! (computed 12.3 MiB so far)\n",
      "24/12/02 02:32:39 WARN DAGScheduler: Broadcasting large task binary with size 4.1 MiB\n",
      "24/12/02 02:32:40 WARN MemoryStore: Not enough space to cache rdd_5551_2 in memory! (computed 28.1 MiB so far)\n",
      "24/12/02 02:32:40 WARN MemoryStore: Not enough space to cache rdd_5551_5 in memory! (computed 28.1 MiB so far)\n",
      "24/12/02 02:32:40 WARN MemoryStore: Not enough space to cache rdd_5551_4 in memory! (computed 28.1 MiB so far)\n",
      "24/12/02 02:32:40 WARN MemoryStore: Not enough space to cache rdd_5551_0 in memory! (computed 28.1 MiB so far)\n",
      "24/12/02 02:32:41 WARN MemoryStore: Not enough space to cache rdd_5551_20 in memory! (computed 18.6 MiB so far)\n",
      "24/12/02 02:32:41 WARN MemoryStore: Not enough space to cache rdd_5551_21 in memory! (computed 18.6 MiB so far)\n",
      "24/12/02 02:32:43 WARN DAGScheduler: Broadcasting large task binary with size 2.4 MiB\n",
      "24/12/02 02:32:47 WARN MemoryStore: Not enough space to cache rdd_5642_17 in memory! (computed 1302.7 KiB so far)\n",
      "24/12/02 02:32:47 WARN MemoryStore: Not enough space to cache rdd_5642_18 in memory! (computed 1302.7 KiB so far)\n",
      "24/12/02 02:32:47 WARN MemoryStore: Not enough space to cache rdd_5642_22 in memory! (computed 2.2 MiB so far)\n",
      "24/12/02 02:32:47 WARN MemoryStore: Not enough space to cache rdd_5642_15 in memory! (computed 12.3 MiB so far)\n",
      "24/12/02 02:32:47 WARN MemoryStore: Not enough space to cache rdd_5642_20 in memory! (computed 2.2 MiB so far)\n",
      "24/12/02 02:32:47 WARN MemoryStore: Not enough space to cache rdd_5642_16 in memory! (computed 2.2 MiB so far)\n",
      "24/12/02 02:32:47 WARN MemoryStore: Not enough space to cache rdd_5642_14 in memory! (computed 18.6 MiB so far)\n",
      "24/12/02 02:32:47 WARN MemoryStore: Not enough space to cache rdd_5642_21 in memory! (computed 1302.7 KiB so far)\n",
      "24/12/02 02:32:47 WARN MemoryStore: Not enough space to cache rdd_5642_19 in memory! (computed 1302.7 KiB so far)\n",
      "24/12/02 02:32:47 WARN MemoryStore: Not enough space to cache rdd_5642_13 in memory! (computed 18.6 MiB so far)\n",
      "24/12/02 02:32:47 WARN BlockManager: Persisting block rdd_5642_22 to disk instead.\n",
      "24/12/02 02:32:47 WARN BlockManager: Persisting block rdd_5642_16 to disk instead.\n",
      "24/12/02 02:32:47 WARN BlockManager: Persisting block rdd_5642_19 to disk instead.\n",
      "24/12/02 02:32:47 WARN BlockManager: Persisting block rdd_5642_18 to disk instead.\n",
      "24/12/02 02:32:47 WARN BlockManager: Persisting block rdd_5642_20 to disk instead.\n",
      "24/12/02 02:32:47 WARN BlockManager: Persisting block rdd_5642_14 to disk instead.\n",
      "24/12/02 02:32:47 WARN BlockManager: Persisting block rdd_5642_17 to disk instead.\n",
      "24/12/02 02:32:47 WARN BlockManager: Persisting block rdd_5642_21 to disk instead.\n",
      "24/12/02 02:32:47 WARN BlockManager: Persisting block rdd_5642_13 to disk instead.\n",
      "24/12/02 02:32:47 WARN BlockManager: Persisting block rdd_5642_15 to disk instead.\n",
      "24/12/02 02:32:47 WARN MemoryStore: Not enough space to cache rdd_5642_17 in memory! (computed 8.2 MiB so far)\n",
      "24/12/02 02:32:47 WARN MemoryStore: Not enough space to cache rdd_5642_16 in memory! (computed 5.3 MiB so far)\n",
      "24/12/02 02:32:47 WARN MemoryStore: Not enough space to cache rdd_5642_18 in memory! (computed 1302.7 KiB so far)\n",
      "24/12/02 02:32:47 WARN MemoryStore: Not enough space to cache rdd_5642_21 in memory! (computed 1302.7 KiB so far)\n",
      "24/12/02 02:32:47 WARN MemoryStore: Not enough space to cache rdd_5642_19 in memory! (computed 5.3 MiB so far)\n",
      "24/12/02 02:32:47 WARN MemoryStore: Not enough space to cache rdd_5642_20 in memory! (computed 1302.7 KiB so far)\n",
      "24/12/02 02:32:47 WARN MemoryStore: Not enough space to cache rdd_5642_22 in memory! (computed 1302.7 KiB so far)\n",
      "24/12/02 02:32:47 WARN MemoryStore: Not enough space to cache rdd_5642_15 in memory! (computed 12.3 MiB so far)\n",
      "24/12/02 02:32:48 WARN MemoryStore: Not enough space to cache rdd_5642_15 in memory! (computed 8.2 MiB so far)\n",
      "24/12/02 02:32:48 WARN MemoryStore: Not enough space to cache rdd_5642_16 in memory! (computed 8.2 MiB so far)\n",
      "24/12/02 02:32:48 WARN MemoryStore: Not enough space to cache rdd_5642_18 in memory! (computed 5.3 MiB so far)\n",
      "24/12/02 02:32:48 WARN MemoryStore: Not enough space to cache rdd_5642_19 in memory! (computed 5.3 MiB so far)\n",
      "24/12/02 02:32:48 WARN MemoryStore: Not enough space to cache rdd_5642_17 in memory! (computed 5.3 MiB so far)\n",
      "24/12/02 02:32:48 WARN MemoryStore: Failed to reserve initial memory threshold of 1024.0 KiB for computing block rdd_5642_20 in memory.\n",
      "24/12/02 02:32:48 WARN MemoryStore: Failed to reserve initial memory threshold of 1024.0 KiB for computing block rdd_5642_22 in memory.\n",
      "24/12/02 02:32:48 WARN MemoryStore: Not enough space to cache rdd_5642_20 in memory! (computed 384.0 B so far)\n",
      "24/12/02 02:32:48 WARN MemoryStore: Not enough space to cache rdd_5642_22 in memory! (computed 384.0 B so far)\n",
      "24/12/02 02:32:48 WARN MemoryStore: Not enough space to cache rdd_5642_21 in memory! (computed 3.5 MiB so far)\n",
      "24/12/02 02:32:49 WARN MemoryStore: Not enough space to cache rdd_5642_17 in memory! (computed 5.3 MiB so far)\n",
      "24/12/02 02:32:49 WARN MemoryStore: Not enough space to cache rdd_5642_18 in memory! (computed 1302.7 KiB so far)\n",
      "24/12/02 02:32:49 WARN MemoryStore: Not enough space to cache rdd_5642_19 in memory! (computed 8.2 MiB so far)\n",
      "24/12/02 02:32:49 WARN MemoryStore: Not enough space to cache rdd_5642_15 in memory! (computed 5.3 MiB so far)\n",
      "24/12/02 02:32:49 WARN MemoryStore: Not enough space to cache rdd_5642_20 in memory! (computed 3.5 MiB so far)\n",
      "24/12/02 02:32:49 WARN MemoryStore: Not enough space to cache rdd_5642_16 in memory! (computed 12.3 MiB so far)\n",
      "24/12/02 02:32:49 WARN MemoryStore: Failed to reserve initial memory threshold of 1024.0 KiB for computing block rdd_5642_21 in memory.\n",
      "24/12/02 02:32:49 WARN MemoryStore: Not enough space to cache rdd_5642_21 in memory! (computed 384.0 B so far)\n",
      "24/12/02 02:32:49 WARN MemoryStore: Failed to reserve initial memory threshold of 1024.0 KiB for computing block rdd_5642_22 in memory.\n",
      "24/12/02 02:32:49 WARN MemoryStore: Not enough space to cache rdd_5642_22 in memory! (computed 384.0 B so far)\n",
      "24/12/02 02:32:49 WARN DAGScheduler: Broadcasting large task binary with size 1104.4 KiB\n",
      "24/12/02 02:32:50 WARN MemoryStore: Not enough space to cache rdd_5642_22 in memory! (computed 5.3 MiB so far)\n",
      "24/12/02 02:32:50 WARN MemoryStore: Not enough space to cache rdd_5642_15 in memory! (computed 3.5 MiB so far)\n",
      "24/12/02 02:32:50 WARN MemoryStore: Not enough space to cache rdd_5642_21 in memory! (computed 5.3 MiB so far)\n",
      "24/12/02 02:32:50 WARN MemoryStore: Not enough space to cache rdd_5642_17 in memory! (computed 3.5 MiB so far)\n",
      "24/12/02 02:32:50 WARN MemoryStore: Not enough space to cache rdd_5642_19 in memory! (computed 3.5 MiB so far)\n",
      "24/12/02 02:32:50 WARN MemoryStore: Not enough space to cache rdd_5642_16 in memory! (computed 3.5 MiB so far)\n",
      "24/12/02 02:32:50 WARN MemoryStore: Not enough space to cache rdd_5642_20 in memory! (computed 5.3 MiB so far)\n",
      "24/12/02 02:32:50 WARN MemoryStore: Not enough space to cache rdd_5642_18 in memory! (computed 5.3 MiB so far)\n",
      "24/12/02 02:32:50 WARN DAGScheduler: Broadcasting large task binary with size 1337.7 KiB\n",
      "24/12/02 02:32:51 WARN MemoryStore: Not enough space to cache rdd_5642_15 in memory! (computed 5.3 MiB so far)\n",
      "24/12/02 02:32:51 WARN MemoryStore: Not enough space to cache rdd_5642_17 in memory! (computed 3.5 MiB so far)\n",
      "24/12/02 02:32:51 WARN MemoryStore: Not enough space to cache rdd_5642_19 in memory! (computed 3.5 MiB so far)\n",
      "24/12/02 02:32:51 WARN MemoryStore: Not enough space to cache rdd_5642_16 in memory! (computed 5.3 MiB so far)\n",
      "24/12/02 02:32:51 WARN MemoryStore: Not enough space to cache rdd_5642_22 in memory! (computed 5.3 MiB so far)\n",
      "24/12/02 02:32:51 WARN MemoryStore: Not enough space to cache rdd_5642_18 in memory! (computed 5.3 MiB so far)\n",
      "24/12/02 02:32:51 WARN MemoryStore: Not enough space to cache rdd_5642_20 in memory! (computed 3.5 MiB so far)\n",
      "24/12/02 02:32:51 WARN MemoryStore: Not enough space to cache rdd_5642_21 in memory! (computed 3.5 MiB so far)\n",
      "24/12/02 02:32:52 WARN DAGScheduler: Broadcasting large task binary with size 1668.1 KiB\n",
      "24/12/02 02:32:52 WARN MemoryStore: Not enough space to cache rdd_5642_20 in memory! (computed 8.2 MiB so far)\n",
      "24/12/02 02:32:52 WARN MemoryStore: Not enough space to cache rdd_5642_15 in memory! (computed 5.3 MiB so far)\n",
      "24/12/02 02:32:52 WARN MemoryStore: Not enough space to cache rdd_5642_19 in memory! (computed 3.5 MiB so far)\n",
      "24/12/02 02:32:52 WARN MemoryStore: Not enough space to cache rdd_5642_17 in memory! (computed 8.2 MiB so far)\n",
      "24/12/02 02:32:52 WARN MemoryStore: Not enough space to cache rdd_5642_22 in memory! (computed 5.3 MiB so far)\n",
      "24/12/02 02:32:52 WARN MemoryStore: Not enough space to cache rdd_5642_18 in memory! (computed 8.2 MiB so far)\n",
      "24/12/02 02:32:52 WARN MemoryStore: Not enough space to cache rdd_5642_16 in memory! (computed 5.3 MiB so far)\n",
      "24/12/02 02:32:52 WARN MemoryStore: Not enough space to cache rdd_5642_21 in memory! (computed 5.3 MiB so far)\n",
      "24/12/02 02:32:53 WARN DAGScheduler: Broadcasting large task binary with size 2.1 MiB\n",
      "24/12/02 02:32:54 WARN MemoryStore: Not enough space to cache rdd_5642_19 in memory! (computed 5.3 MiB so far)\n",
      "24/12/02 02:32:54 WARN MemoryStore: Not enough space to cache rdd_5642_15 in memory! (computed 2.2 MiB so far)\n",
      "24/12/02 02:32:54 WARN MemoryStore: Not enough space to cache rdd_5642_22 in memory! (computed 5.3 MiB so far)\n",
      "24/12/02 02:32:54 WARN MemoryStore: Not enough space to cache rdd_5642_16 in memory! (computed 5.3 MiB so far)\n",
      "24/12/02 02:32:54 WARN MemoryStore: Not enough space to cache rdd_5642_17 in memory! (computed 3.5 MiB so far)\n",
      "24/12/02 02:32:54 WARN MemoryStore: Not enough space to cache rdd_5642_18 in memory! (computed 3.5 MiB so far)\n",
      "24/12/02 02:32:54 WARN MemoryStore: Not enough space to cache rdd_5642_20 in memory! (computed 5.3 MiB so far)\n",
      "24/12/02 02:32:54 WARN MemoryStore: Not enough space to cache rdd_5642_21 in memory! (computed 5.3 MiB so far)\n",
      "24/12/02 02:32:55 WARN DAGScheduler: Broadcasting large task binary with size 2.6 MiB\n",
      "24/12/02 02:32:56 WARN MemoryStore: Not enough space to cache rdd_5642_15 in memory! (computed 8.2 MiB so far)\n",
      "24/12/02 02:32:56 WARN MemoryStore: Not enough space to cache rdd_5642_19 in memory! (computed 8.2 MiB so far)\n",
      "24/12/02 02:32:56 WARN MemoryStore: Not enough space to cache rdd_5642_17 in memory! (computed 3.5 MiB so far)\n",
      "24/12/02 02:32:56 WARN MemoryStore: Not enough space to cache rdd_5642_20 in memory! (computed 8.2 MiB so far)\n",
      "24/12/02 02:32:56 WARN MemoryStore: Not enough space to cache rdd_5642_16 in memory! (computed 3.5 MiB so far)\n",
      "24/12/02 02:32:56 WARN MemoryStore: Not enough space to cache rdd_5642_21 in memory! (computed 8.2 MiB so far)\n",
      "24/12/02 02:32:56 WARN MemoryStore: Not enough space to cache rdd_5642_22 in memory! (computed 5.3 MiB so far)\n",
      "24/12/02 02:32:57 WARN DAGScheduler: Broadcasting large task binary with size 3.3 MiB\n",
      "24/12/02 02:32:57 WARN MemoryStore: Not enough space to cache rdd_5642_7 in memory! (computed 18.6 MiB so far)\n",
      "24/12/02 02:32:57 WARN MemoryStore: Not enough space to cache rdd_5642_3 in memory! (computed 18.6 MiB so far)\n",
      "24/12/02 02:32:57 WARN MemoryStore: Not enough space to cache rdd_5642_13 in memory! (computed 18.6 MiB so far)\n",
      "24/12/02 02:32:57 WARN MemoryStore: Not enough space to cache rdd_5642_21 in memory! (computed 18.6 MiB so far)\n",
      "24/12/02 02:32:57 WARN MemoryStore: Not enough space to cache rdd_5642_20 in memory! (computed 18.6 MiB so far)\n",
      "24/12/02 02:32:57 WARN MemoryStore: Not enough space to cache rdd_5642_17 in memory! (computed 18.6 MiB so far)\n",
      "24/12/02 02:32:57 WARN MemoryStore: Not enough space to cache rdd_5642_19 in memory! (computed 18.6 MiB so far)\n",
      "24/12/02 02:32:57 WARN MemoryStore: Not enough space to cache rdd_5642_15 in memory! (computed 28.1 MiB so far)\n",
      "24/12/02 02:32:57 WARN MemoryStore: Not enough space to cache rdd_5642_16 in memory! (computed 18.6 MiB so far)\n",
      "24/12/02 02:32:59 WARN DAGScheduler: Broadcasting large task binary with size 4.1 MiB\n",
      "24/12/02 02:33:00 WARN MemoryStore: Not enough space to cache rdd_5642_5 in memory! (computed 18.6 MiB so far)\n",
      "24/12/02 02:33:00 WARN MemoryStore: Not enough space to cache rdd_5642_3 in memory! (computed 18.6 MiB so far)\n",
      "24/12/02 02:33:00 WARN MemoryStore: Not enough space to cache rdd_5642_7 in memory! (computed 28.1 MiB so far)\n",
      "24/12/02 02:33:00 WARN MemoryStore: Not enough space to cache rdd_5642_4 in memory! (computed 18.6 MiB so far)\n",
      "24/12/02 02:33:01 WARN MemoryStore: Not enough space to cache rdd_5642_19 in memory! (computed 18.6 MiB so far)\n",
      "24/12/02 02:33:01 WARN MemoryStore: Not enough space to cache rdd_5642_13 in memory! (computed 18.6 MiB so far)\n",
      "24/12/02 02:33:01 WARN MemoryStore: Not enough space to cache rdd_5642_16 in memory! (computed 18.6 MiB so far)\n",
      "24/12/02 02:33:01 WARN MemoryStore: Not enough space to cache rdd_5642_20 in memory! (computed 28.1 MiB so far)\n",
      "24/12/02 02:33:01 WARN MemoryStore: Not enough space to cache rdd_5642_12 in memory! (computed 18.6 MiB so far)\n",
      "24/12/02 02:33:01 WARN MemoryStore: Not enough space to cache rdd_5642_17 in memory! (computed 18.6 MiB so far)\n",
      "24/12/02 02:33:01 WARN MemoryStore: Not enough space to cache rdd_5642_15 in memory! (computed 18.6 MiB so far)\n",
      "24/12/02 02:33:02 WARN DAGScheduler: Broadcasting large task binary with size 2.4 MiB\n",
      "24/12/02 02:33:09 WARN MemoryStore: Not enough space to cache rdd_5743_21 in memory! (computed 5.3 MiB so far)\n",
      "24/12/02 02:33:09 WARN MemoryStore: Not enough space to cache rdd_5743_13 in memory! (computed 5.3 MiB so far)\n",
      "24/12/02 02:33:09 WARN MemoryStore: Not enough space to cache rdd_5743_22 in memory! (computed 8.1 MiB so far)\n",
      "24/12/02 02:33:09 WARN MemoryStore: Not enough space to cache rdd_5743_16 in memory! (computed 8.1 MiB so far)\n",
      "24/12/02 02:33:09 WARN MemoryStore: Not enough space to cache rdd_5743_19 in memory! (computed 8.1 MiB so far)\n",
      "24/12/02 02:33:09 WARN MemoryStore: Not enough space to cache rdd_5743_14 in memory! (computed 8.1 MiB so far)\n",
      "24/12/02 02:33:09 WARN MemoryStore: Not enough space to cache rdd_5743_18 in memory! (computed 8.1 MiB so far)\n",
      "24/12/02 02:33:09 WARN MemoryStore: Not enough space to cache rdd_5743_20 in memory! (computed 8.1 MiB so far)\n",
      "24/12/02 02:33:09 WARN MemoryStore: Not enough space to cache rdd_5743_15 in memory! (computed 5.3 MiB so far)\n",
      "24/12/02 02:33:09 WARN BlockManager: Persisting block rdd_5743_22 to disk instead.\n",
      "24/12/02 02:33:09 WARN BlockManager: Persisting block rdd_5743_14 to disk instead.\n",
      "24/12/02 02:33:09 WARN BlockManager: Persisting block rdd_5743_20 to disk instead.\n",
      "24/12/02 02:33:09 WARN BlockManager: Persisting block rdd_5743_21 to disk instead.\n",
      "24/12/02 02:33:09 WARN BlockManager: Persisting block rdd_5743_19 to disk instead.\n",
      "24/12/02 02:33:09 WARN BlockManager: Persisting block rdd_5743_15 to disk instead.\n",
      "24/12/02 02:33:09 WARN BlockManager: Persisting block rdd_5743_16 to disk instead.\n",
      "24/12/02 02:33:09 WARN BlockManager: Persisting block rdd_5743_18 to disk instead.\n",
      "24/12/02 02:33:09 WARN BlockManager: Persisting block rdd_5743_13 to disk instead.\n",
      "24/12/02 02:33:09 WARN MemoryStore: Not enough space to cache rdd_5743_17 in memory! (computed 5.3 MiB so far)\n",
      "24/12/02 02:33:09 WARN BlockManager: Persisting block rdd_5743_17 to disk instead.\n",
      "24/12/02 02:33:09 WARN MemoryStore: Not enough space to cache rdd_5743_17 in memory! (computed 12.2 MiB so far)\n",
      "24/12/02 02:33:09 WARN MemoryStore: Not enough space to cache rdd_5743_14 in memory! (computed 18.4 MiB so far)\n",
      "24/12/02 02:33:09 WARN MemoryStore: Not enough space to cache rdd_5743_13 in memory! (computed 18.4 MiB so far)\n",
      "24/12/02 02:33:09 WARN MemoryStore: Not enough space to cache rdd_5743_19 in memory! (computed 12.2 MiB so far)\n",
      "24/12/02 02:33:09 WARN MemoryStore: Not enough space to cache rdd_5743_20 in memory! (computed 2.2 MiB so far)\n",
      "24/12/02 02:33:09 WARN MemoryStore: Not enough space to cache rdd_5743_21 in memory! (computed 8.1 MiB so far)\n",
      "24/12/02 02:33:09 WARN MemoryStore: Not enough space to cache rdd_5743_16 in memory! (computed 18.4 MiB so far)\n",
      "24/12/02 02:33:09 WARN MemoryStore: Failed to reserve initial memory threshold of 1024.0 KiB for computing block rdd_5743_22 in memory.\n",
      "24/12/02 02:33:09 WARN MemoryStore: Not enough space to cache rdd_5743_22 in memory! (computed 384.0 B so far)\n",
      "24/12/02 02:33:09 WARN MemoryStore: Not enough space to cache rdd_5743_18 in memory! (computed 2.2 MiB so far)\n",
      "24/12/02 02:33:09 WARN MemoryStore: Not enough space to cache rdd_5743_15 in memory! (computed 2.2 MiB so far)\n",
      "24/12/02 02:33:10 WARN MemoryStore: Not enough space to cache rdd_5743_15 in memory! (computed 8.1 MiB so far)\n",
      "24/12/02 02:33:10 WARN MemoryStore: Not enough space to cache rdd_5743_20 in memory! (computed 12.2 MiB so far)\n",
      "24/12/02 02:33:10 WARN MemoryStore: Not enough space to cache rdd_5743_16 in memory! (computed 12.2 MiB so far)\n",
      "24/12/02 02:33:10 WARN MemoryStore: Not enough space to cache rdd_5743_17 in memory! (computed 8.1 MiB so far)\n",
      "24/12/02 02:33:10 WARN MemoryStore: Not enough space to cache rdd_5743_14 in memory! (computed 12.2 MiB so far)\n",
      "24/12/02 02:33:10 WARN MemoryStore: Not enough space to cache rdd_5743_18 in memory! (computed 12.2 MiB so far)\n",
      "24/12/02 02:33:10 WARN MemoryStore: Not enough space to cache rdd_5743_21 in memory! (computed 5.3 MiB so far)\n",
      "24/12/02 02:33:10 WARN MemoryStore: Not enough space to cache rdd_5743_19 in memory! (computed 8.1 MiB so far)\n",
      "24/12/02 02:33:10 WARN MemoryStore: Not enough space to cache rdd_5743_13 in memory! (computed 12.2 MiB so far)\n",
      "24/12/02 02:33:10 WARN MemoryStore: Not enough space to cache rdd_5743_22 in memory! (computed 3.4 MiB so far)\n",
      "24/12/02 02:33:11 WARN MemoryStore: Not enough space to cache rdd_5743_21 in memory! (computed 8.1 MiB so far)\n",
      "24/12/02 02:33:11 WARN MemoryStore: Not enough space to cache rdd_5743_15 in memory! (computed 8.1 MiB so far)\n",
      "24/12/02 02:33:11 WARN MemoryStore: Not enough space to cache rdd_5743_20 in memory! (computed 8.1 MiB so far)\n",
      "24/12/02 02:33:11 WARN MemoryStore: Not enough space to cache rdd_5743_17 in memory! (computed 8.1 MiB so far)\n",
      "24/12/02 02:33:11 WARN MemoryStore: Not enough space to cache rdd_5743_13 in memory! (computed 12.2 MiB so far)\n",
      "24/12/02 02:33:11 WARN MemoryStore: Not enough space to cache rdd_5743_19 in memory! (computed 8.1 MiB so far)\n",
      "24/12/02 02:33:11 WARN MemoryStore: Not enough space to cache rdd_5743_22 in memory! (computed 8.1 MiB so far)\n",
      "24/12/02 02:33:11 WARN MemoryStore: Not enough space to cache rdd_5743_18 in memory! (computed 8.1 MiB so far)\n",
      "24/12/02 02:33:11 WARN MemoryStore: Not enough space to cache rdd_5743_16 in memory! (computed 12.2 MiB so far)\n",
      "24/12/02 02:33:11 WARN MemoryStore: Not enough space to cache rdd_5743_14 in memory! (computed 12.2 MiB so far)\n",
      "24/12/02 02:33:11 WARN MemoryStore: Not enough space to cache rdd_5743_15 in memory! (computed 8.1 MiB so far)\n",
      "24/12/02 02:33:11 WARN MemoryStore: Not enough space to cache rdd_5743_17 in memory! (computed 5.3 MiB so far)\n",
      "24/12/02 02:33:11 WARN MemoryStore: Not enough space to cache rdd_5743_13 in memory! (computed 12.2 MiB so far)\n",
      "24/12/02 02:33:11 WARN MemoryStore: Not enough space to cache rdd_5743_19 in memory! (computed 8.1 MiB so far)\n",
      "24/12/02 02:33:11 WARN MemoryStore: Not enough space to cache rdd_5743_16 in memory! (computed 12.2 MiB so far)\n",
      "24/12/02 02:33:11 WARN MemoryStore: Not enough space to cache rdd_5743_18 in memory! (computed 12.2 MiB so far)\n",
      "24/12/02 02:33:11 WARN MemoryStore: Not enough space to cache rdd_5743_21 in memory! (computed 8.1 MiB so far)\n",
      "24/12/02 02:33:11 WARN MemoryStore: Not enough space to cache rdd_5743_14 in memory! (computed 12.2 MiB so far)\n",
      "24/12/02 02:33:11 WARN MemoryStore: Not enough space to cache rdd_5743_20 in memory! (computed 12.2 MiB so far)\n",
      "24/12/02 02:33:12 WARN DAGScheduler: Broadcasting large task binary with size 1040.8 KiB\n",
      "24/12/02 02:33:12 WARN MemoryStore: Not enough space to cache rdd_5743_14 in memory! (computed 3.4 MiB so far)\n",
      "24/12/02 02:33:12 WARN MemoryStore: Failed to reserve initial memory threshold of 1024.0 KiB for computing block rdd_5743_19 in memory.\n",
      "24/12/02 02:33:12 WARN MemoryStore: Not enough space to cache rdd_5743_15 in memory! (computed 5.3 MiB so far)\n",
      "24/12/02 02:33:12 WARN MemoryStore: Not enough space to cache rdd_5743_20 in memory! (computed 3.4 MiB so far)\n",
      "24/12/02 02:33:12 WARN MemoryStore: Not enough space to cache rdd_5743_21 in memory! (computed 3.4 MiB so far)\n",
      "24/12/02 02:33:12 WARN MemoryStore: Not enough space to cache rdd_5743_18 in memory! (computed 5.3 MiB so far)\n",
      "24/12/02 02:33:12 WARN MemoryStore: Not enough space to cache rdd_5743_16 in memory! (computed 5.3 MiB so far)\n",
      "24/12/02 02:33:12 WARN MemoryStore: Not enough space to cache rdd_5743_17 in memory! (computed 5.3 MiB so far)\n",
      "24/12/02 02:33:12 WARN MemoryStore: Not enough space to cache rdd_5743_19 in memory! (computed 384.0 B so far)\n",
      "24/12/02 02:33:19 WARN MemoryStore: Not enough space to cache rdd_5829_13 in memory! (computed 8.1 MiB so far)\n",
      "24/12/02 02:33:19 WARN MemoryStore: Not enough space to cache rdd_5829_22 in memory! (computed 5.3 MiB so far)\n",
      "24/12/02 02:33:19 WARN MemoryStore: Not enough space to cache rdd_5829_17 in memory! (computed 8.1 MiB so far)\n",
      "24/12/02 02:33:19 WARN MemoryStore: Not enough space to cache rdd_5829_14 in memory! (computed 5.3 MiB so far)\n",
      "24/12/02 02:33:19 WARN MemoryStore: Not enough space to cache rdd_5829_16 in memory! (computed 8.1 MiB so far)\n",
      "24/12/02 02:33:19 WARN MemoryStore: Not enough space to cache rdd_5829_20 in memory! (computed 8.1 MiB so far)\n",
      "24/12/02 02:33:19 WARN MemoryStore: Not enough space to cache rdd_5829_21 in memory! (computed 8.1 MiB so far)\n",
      "24/12/02 02:33:19 WARN MemoryStore: Not enough space to cache rdd_5829_18 in memory! (computed 5.3 MiB so far)\n",
      "24/12/02 02:33:19 WARN MemoryStore: Not enough space to cache rdd_5829_19 in memory! (computed 8.1 MiB so far)\n",
      "24/12/02 02:33:19 WARN MemoryStore: Not enough space to cache rdd_5829_15 in memory! (computed 5.3 MiB so far)\n",
      "24/12/02 02:33:19 WARN BlockManager: Persisting block rdd_5829_16 to disk instead.\n",
      "24/12/02 02:33:19 WARN BlockManager: Persisting block rdd_5829_22 to disk instead.\n",
      "24/12/02 02:33:19 WARN BlockManager: Persisting block rdd_5829_20 to disk instead.\n",
      "24/12/02 02:33:19 WARN BlockManager: Persisting block rdd_5829_13 to disk instead.\n",
      "24/12/02 02:33:19 WARN BlockManager: Persisting block rdd_5829_18 to disk instead.\n",
      "24/12/02 02:33:19 WARN BlockManager: Persisting block rdd_5829_19 to disk instead.\n",
      "24/12/02 02:33:19 WARN BlockManager: Persisting block rdd_5829_17 to disk instead.\n",
      "24/12/02 02:33:19 WARN BlockManager: Persisting block rdd_5829_15 to disk instead.\n",
      "24/12/02 02:33:19 WARN BlockManager: Persisting block rdd_5829_21 to disk instead.\n",
      "24/12/02 02:33:19 WARN BlockManager: Persisting block rdd_5829_14 to disk instead.\n",
      "24/12/02 02:33:19 WARN MemoryStore: Not enough space to cache rdd_5829_18 in memory! (computed 5.3 MiB so far)\n",
      "24/12/02 02:33:19 WARN MemoryStore: Not enough space to cache rdd_5829_16 in memory! (computed 8.1 MiB so far)\n",
      "24/12/02 02:33:19 WARN MemoryStore: Not enough space to cache rdd_5829_17 in memory! (computed 12.2 MiB so far)\n",
      "24/12/02 02:33:19 WARN MemoryStore: Not enough space to cache rdd_5829_20 in memory! (computed 8.1 MiB so far)\n",
      "24/12/02 02:33:19 WARN MemoryStore: Not enough space to cache rdd_5829_19 in memory! (computed 8.1 MiB so far)\n",
      "24/12/02 02:33:19 WARN MemoryStore: Not enough space to cache rdd_5829_21 in memory! (computed 12.2 MiB so far)\n",
      "24/12/02 02:33:19 WARN MemoryStore: Not enough space to cache rdd_5829_13 in memory! (computed 12.2 MiB so far)\n",
      "24/12/02 02:33:19 WARN MemoryStore: Not enough space to cache rdd_5829_14 in memory! (computed 12.2 MiB so far)\n",
      "24/12/02 02:33:19 WARN MemoryStore: Not enough space to cache rdd_5829_15 in memory! (computed 12.2 MiB so far)\n",
      "24/12/02 02:33:19 WARN MemoryStore: Not enough space to cache rdd_5829_22 in memory! (computed 3.4 MiB so far)\n",
      "24/12/02 02:33:19 WARN MemoryStore: Not enough space to cache rdd_5829_14 in memory! (computed 18.4 MiB so far)\n",
      "24/12/02 02:33:19 WARN MemoryStore: Not enough space to cache rdd_5829_15 in memory! (computed 12.2 MiB so far)\n",
      "24/12/02 02:33:19 WARN MemoryStore: Not enough space to cache rdd_5829_17 in memory! (computed 18.4 MiB so far)\n",
      "24/12/02 02:33:19 WARN MemoryStore: Not enough space to cache rdd_5829_16 in memory! (computed 12.2 MiB so far)\n",
      "24/12/02 02:33:20 WARN MemoryStore: Not enough space to cache rdd_5829_19 in memory! (computed 12.2 MiB so far)\n",
      "24/12/02 02:33:20 WARN MemoryStore: Not enough space to cache rdd_5829_22 in memory! (computed 12.2 MiB so far)\n",
      "24/12/02 02:33:20 WARN MemoryStore: Not enough space to cache rdd_5829_18 in memory! (computed 12.2 MiB so far)\n",
      "24/12/02 02:33:20 WARN MemoryStore: Not enough space to cache rdd_5829_21 in memory! (computed 12.2 MiB so far)\n",
      "24/12/02 02:33:20 WARN MemoryStore: Not enough space to cache rdd_5829_20 in memory! (computed 18.4 MiB so far)\n",
      "24/12/02 02:33:20 WARN MemoryStore: Not enough space to cache rdd_5829_18 in memory! (computed 12.2 MiB so far)\n",
      "24/12/02 02:33:20 WARN MemoryStore: Not enough space to cache rdd_5829_15 in memory! (computed 12.2 MiB so far)\n",
      "24/12/02 02:33:20 WARN MemoryStore: Not enough space to cache rdd_5829_21 in memory! (computed 5.3 MiB so far)\n",
      "24/12/02 02:33:20 WARN MemoryStore: Not enough space to cache rdd_5829_14 in memory! (computed 12.2 MiB so far)\n",
      "24/12/02 02:33:20 WARN MemoryStore: Not enough space to cache rdd_5829_20 in memory! (computed 2.2 MiB so far)\n",
      "24/12/02 02:33:20 WARN MemoryStore: Not enough space to cache rdd_5829_16 in memory! (computed 5.3 MiB so far)\n",
      "24/12/02 02:33:20 WARN MemoryStore: Not enough space to cache rdd_5829_22 in memory! (computed 3.4 MiB so far)\n",
      "24/12/02 02:33:20 WARN MemoryStore: Not enough space to cache rdd_5829_17 in memory! (computed 3.4 MiB so far)\n",
      "24/12/02 02:33:20 WARN MemoryStore: Not enough space to cache rdd_5829_19 in memory! (computed 12.2 MiB so far)\n",
      "24/12/02 02:33:21 WARN MemoryStore: Not enough space to cache rdd_5829_17 in memory! (computed 12.2 MiB so far)\n",
      "24/12/02 02:33:21 WARN MemoryStore: Not enough space to cache rdd_5829_15 in memory! (computed 12.2 MiB so far)\n",
      "24/12/02 02:33:21 WARN MemoryStore: Not enough space to cache rdd_5829_22 in memory! (computed 2.2 MiB so far)\n",
      "24/12/02 02:33:21 WARN MemoryStore: Not enough space to cache rdd_5829_16 in memory! (computed 12.2 MiB so far)\n",
      "24/12/02 02:33:21 WARN MemoryStore: Failed to reserve initial memory threshold of 1024.0 KiB for computing block rdd_5829_21 in memory.\n",
      "24/12/02 02:33:21 WARN MemoryStore: Not enough space to cache rdd_5829_19 in memory! (computed 5.3 MiB so far)\n",
      "24/12/02 02:33:21 WARN MemoryStore: Not enough space to cache rdd_5829_14 in memory! (computed 12.2 MiB so far)\n",
      "24/12/02 02:33:21 WARN MemoryStore: Not enough space to cache rdd_5829_21 in memory! (computed 384.0 B so far)\n",
      "24/12/02 02:33:21 WARN MemoryStore: Failed to reserve initial memory threshold of 1024.0 KiB for computing block rdd_5829_20 in memory.\n",
      "24/12/02 02:33:21 WARN MemoryStore: Not enough space to cache rdd_5829_20 in memory! (computed 384.0 B so far)\n",
      "24/12/02 02:33:21 WARN DAGScheduler: Broadcasting large task binary with size 1041.1 KiB\n",
      "24/12/02 02:33:22 WARN MemoryStore: Not enough space to cache rdd_5829_22 in memory! (computed 3.4 MiB so far)\n",
      "24/12/02 02:33:22 WARN MemoryStore: Not enough space to cache rdd_5829_20 in memory! (computed 5.3 MiB so far)\n",
      "24/12/02 02:33:22 WARN MemoryStore: Not enough space to cache rdd_5829_17 in memory! (computed 3.4 MiB so far)\n",
      "24/12/02 02:33:22 WARN MemoryStore: Not enough space to cache rdd_5829_21 in memory! (computed 5.3 MiB so far)\n",
      "24/12/02 02:33:22 WARN MemoryStore: Not enough space to cache rdd_5829_14 in memory! (computed 5.3 MiB so far)\n",
      "24/12/02 02:33:22 WARN MemoryStore: Not enough space to cache rdd_5829_16 in memory! (computed 3.4 MiB so far)\n",
      "24/12/02 02:33:22 WARN MemoryStore: Not enough space to cache rdd_5829_15 in memory! (computed 5.3 MiB so far)\n",
      "24/12/02 02:33:22 WARN MemoryStore: Not enough space to cache rdd_5829_19 in memory! (computed 5.3 MiB so far)\n",
      "24/12/02 02:33:26 WARN MemoryStore: Not enough space to cache rdd_5905_15 in memory! (computed 3.5 MiB so far)\n",
      "24/12/02 02:33:26 WARN MemoryStore: Not enough space to cache rdd_5905_18 in memory! (computed 3.5 MiB so far)\n",
      "24/12/02 02:33:26 WARN MemoryStore: Not enough space to cache rdd_5905_14 in memory! (computed 12.3 MiB so far)\n",
      "24/12/02 02:33:26 WARN MemoryStore: Not enough space to cache rdd_5905_17 in memory! (computed 3.5 MiB so far)\n",
      "24/12/02 02:33:26 WARN MemoryStore: Not enough space to cache rdd_5905_19 in memory! (computed 5.3 MiB so far)\n",
      "24/12/02 02:33:26 WARN MemoryStore: Not enough space to cache rdd_5905_22 in memory! (computed 5.3 MiB so far)\n",
      "24/12/02 02:33:26 WARN MemoryStore: Not enough space to cache rdd_5905_21 in memory! (computed 3.5 MiB so far)\n",
      "24/12/02 02:33:26 WARN MemoryStore: Not enough space to cache rdd_5905_20 in memory! (computed 5.3 MiB so far)\n",
      "24/12/02 02:33:26 WARN MemoryStore: Not enough space to cache rdd_5905_16 in memory! (computed 5.3 MiB so far)\n",
      "24/12/02 02:33:26 WARN MemoryStore: Not enough space to cache rdd_5905_13 in memory! (computed 18.6 MiB so far)\n",
      "24/12/02 02:33:26 WARN BlockManager: Persisting block rdd_5905_21 to disk instead.\n",
      "24/12/02 02:33:26 WARN BlockManager: Persisting block rdd_5905_16 to disk instead.\n",
      "24/12/02 02:33:26 WARN BlockManager: Persisting block rdd_5905_22 to disk instead.\n",
      "24/12/02 02:33:26 WARN BlockManager: Persisting block rdd_5905_20 to disk instead.\n",
      "24/12/02 02:33:26 WARN BlockManager: Persisting block rdd_5905_19 to disk instead.\n",
      "24/12/02 02:33:26 WARN BlockManager: Persisting block rdd_5905_14 to disk instead.\n",
      "24/12/02 02:33:26 WARN BlockManager: Persisting block rdd_5905_13 to disk instead.\n",
      "24/12/02 02:33:26 WARN BlockManager: Persisting block rdd_5905_18 to disk instead.\n",
      "24/12/02 02:33:26 WARN BlockManager: Persisting block rdd_5905_17 to disk instead.\n",
      "24/12/02 02:33:26 WARN BlockManager: Persisting block rdd_5905_15 to disk instead.\n",
      "24/12/02 02:33:26 WARN MemoryStore: Not enough space to cache rdd_5905_18 in memory! (computed 1302.7 KiB so far)\n",
      "24/12/02 02:33:26 WARN MemoryStore: Not enough space to cache rdd_5905_16 in memory! (computed 8.2 MiB so far)\n",
      "24/12/02 02:33:26 WARN MemoryStore: Not enough space to cache rdd_5905_19 in memory! (computed 5.3 MiB so far)\n",
      "24/12/02 02:33:26 WARN MemoryStore: Not enough space to cache rdd_5905_17 in memory! (computed 5.3 MiB so far)\n",
      "24/12/02 02:33:26 WARN MemoryStore: Not enough space to cache rdd_5905_21 in memory! (computed 12.3 MiB so far)\n",
      "24/12/02 02:33:26 WARN MemoryStore: Not enough space to cache rdd_5905_15 in memory! (computed 12.3 MiB so far)\n",
      "24/12/02 02:33:26 WARN MemoryStore: Not enough space to cache rdd_5905_20 in memory! (computed 8.2 MiB so far)\n",
      "24/12/02 02:33:26 WARN MemoryStore: Not enough space to cache rdd_5905_22 in memory! (computed 5.3 MiB so far)\n",
      "24/12/02 02:33:27 WARN MemoryStore: Not enough space to cache rdd_5905_16 in memory! (computed 3.5 MiB so far)\n",
      "24/12/02 02:33:27 WARN MemoryStore: Not enough space to cache rdd_5905_22 in memory! (computed 5.3 MiB so far)\n",
      "24/12/02 02:33:27 WARN MemoryStore: Not enough space to cache rdd_5905_18 in memory! (computed 5.3 MiB so far)\n",
      "24/12/02 02:33:27 WARN MemoryStore: Not enough space to cache rdd_5905_19 in memory! (computed 5.3 MiB so far)\n",
      "24/12/02 02:33:27 WARN MemoryStore: Not enough space to cache rdd_5905_21 in memory! (computed 5.3 MiB so far)\n",
      "24/12/02 02:33:27 WARN MemoryStore: Not enough space to cache rdd_5905_20 in memory! (computed 5.3 MiB so far)\n",
      "24/12/02 02:33:27 WARN MemoryStore: Not enough space to cache rdd_5905_15 in memory! (computed 5.3 MiB so far)\n",
      "24/12/02 02:33:27 WARN MemoryStore: Not enough space to cache rdd_5905_17 in memory! (computed 3.5 MiB so far)\n",
      "24/12/02 02:33:27 WARN MemoryStore: Not enough space to cache rdd_5905_18 in memory! (computed 5.3 MiB so far)\n",
      "24/12/02 02:33:27 WARN MemoryStore: Not enough space to cache rdd_5905_16 in memory! (computed 8.2 MiB so far)\n",
      "24/12/02 02:33:27 WARN MemoryStore: Not enough space to cache rdd_5905_20 in memory! (computed 5.3 MiB so far)\n",
      "24/12/02 02:33:27 WARN MemoryStore: Not enough space to cache rdd_5905_22 in memory! (computed 2.2 MiB so far)\n",
      "24/12/02 02:33:27 WARN MemoryStore: Not enough space to cache rdd_5905_15 in memory! (computed 5.3 MiB so far)\n",
      "24/12/02 02:33:27 WARN MemoryStore: Not enough space to cache rdd_5905_17 in memory! (computed 8.2 MiB so far)\n",
      "24/12/02 02:33:27 WARN MemoryStore: Failed to reserve initial memory threshold of 1024.0 KiB for computing block rdd_5905_21 in memory.\n",
      "24/12/02 02:33:27 WARN MemoryStore: Not enough space to cache rdd_5905_21 in memory! (computed 384.0 B so far)\n",
      "24/12/02 02:33:27 WARN MemoryStore: Not enough space to cache rdd_5905_19 in memory! (computed 5.3 MiB so far)\n",
      "24/12/02 02:33:28 WARN DAGScheduler: Broadcasting large task binary with size 1103.7 KiB\n",
      "24/12/02 02:33:28 WARN MemoryStore: Not enough space to cache rdd_5905_22 in memory! (computed 3.5 MiB so far)\n",
      "24/12/02 02:33:28 WARN MemoryStore: Not enough space to cache rdd_5905_16 in memory! (computed 3.5 MiB so far)\n",
      "24/12/02 02:33:28 WARN MemoryStore: Not enough space to cache rdd_5905_20 in memory! (computed 5.3 MiB so far)\n",
      "24/12/02 02:33:28 WARN MemoryStore: Not enough space to cache rdd_5905_18 in memory! (computed 5.3 MiB so far)\n",
      "24/12/02 02:33:28 WARN MemoryStore: Not enough space to cache rdd_5905_15 in memory! (computed 5.3 MiB so far)\n",
      "24/12/02 02:33:28 WARN MemoryStore: Not enough space to cache rdd_5905_21 in memory! (computed 5.3 MiB so far)\n",
      "24/12/02 02:33:28 WARN MemoryStore: Not enough space to cache rdd_5905_19 in memory! (computed 5.3 MiB so far)\n",
      "24/12/02 02:33:28 WARN MemoryStore: Not enough space to cache rdd_5905_17 in memory! (computed 5.3 MiB so far)\n",
      "24/12/02 02:33:29 WARN DAGScheduler: Broadcasting large task binary with size 1341.6 KiB\n",
      "24/12/02 02:33:29 WARN MemoryStore: Not enough space to cache rdd_5905_17 in memory! (computed 5.3 MiB so far)\n",
      "24/12/02 02:33:29 WARN MemoryStore: Not enough space to cache rdd_5905_19 in memory! (computed 5.3 MiB so far)\n",
      "24/12/02 02:33:29 WARN MemoryStore: Not enough space to cache rdd_5905_22 in memory! (computed 5.3 MiB so far)\n",
      "24/12/02 02:33:29 WARN MemoryStore: Not enough space to cache rdd_5905_15 in memory! (computed 5.3 MiB so far)\n",
      "24/12/02 02:33:29 WARN MemoryStore: Not enough space to cache rdd_5905_21 in memory! (computed 5.3 MiB so far)\n",
      "24/12/02 02:33:29 WARN MemoryStore: Not enough space to cache rdd_5905_20 in memory! (computed 5.3 MiB so far)\n",
      "24/12/02 02:33:29 WARN MemoryStore: Not enough space to cache rdd_5905_16 in memory! (computed 5.3 MiB so far)\n",
      "24/12/02 02:33:29 WARN MemoryStore: Not enough space to cache rdd_5905_18 in memory! (computed 2.2 MiB so far)\n",
      "24/12/02 02:33:31 WARN DAGScheduler: Broadcasting large task binary with size 1062.9 KiB\n",
      "24/12/02 02:33:34 WARN MemoryStore: Not enough space to cache rdd_5981_18 in memory! (computed 5.3 MiB so far)\n",
      "24/12/02 02:33:34 WARN MemoryStore: Not enough space to cache rdd_5981_14 in memory! (computed 5.3 MiB so far)\n",
      "24/12/02 02:33:34 WARN MemoryStore: Not enough space to cache rdd_5981_16 in memory! (computed 3.5 MiB so far)\n",
      "24/12/02 02:33:34 WARN MemoryStore: Not enough space to cache rdd_5981_17 in memory! (computed 8.2 MiB so far)\n",
      "24/12/02 02:33:34 WARN MemoryStore: Not enough space to cache rdd_5981_20 in memory! (computed 5.3 MiB so far)\n",
      "24/12/02 02:33:34 WARN MemoryStore: Not enough space to cache rdd_5981_19 in memory! (computed 5.3 MiB so far)\n",
      "24/12/02 02:33:34 WARN MemoryStore: Not enough space to cache rdd_5981_15 in memory! (computed 8.2 MiB so far)\n",
      "24/12/02 02:33:34 WARN MemoryStore: Not enough space to cache rdd_5981_13 in memory! (computed 8.2 MiB so far)\n",
      "24/12/02 02:33:34 WARN MemoryStore: Not enough space to cache rdd_5981_22 in memory! (computed 8.2 MiB so far)\n",
      "24/12/02 02:33:34 WARN MemoryStore: Not enough space to cache rdd_5981_21 in memory! (computed 8.2 MiB so far)\n",
      "24/12/02 02:33:34 WARN BlockManager: Persisting block rdd_5981_22 to disk instead.\n",
      "24/12/02 02:33:34 WARN BlockManager: Persisting block rdd_5981_13 to disk instead.\n",
      "24/12/02 02:33:34 WARN BlockManager: Persisting block rdd_5981_14 to disk instead.\n",
      "24/12/02 02:33:34 WARN BlockManager: Persisting block rdd_5981_15 to disk instead.\n",
      "24/12/02 02:33:34 WARN BlockManager: Persisting block rdd_5981_17 to disk instead.\n",
      "24/12/02 02:33:34 WARN BlockManager: Persisting block rdd_5981_18 to disk instead.\n",
      "24/12/02 02:33:34 WARN BlockManager: Persisting block rdd_5981_19 to disk instead.\n",
      "24/12/02 02:33:34 WARN BlockManager: Persisting block rdd_5981_16 to disk instead.\n",
      "24/12/02 02:33:34 WARN BlockManager: Persisting block rdd_5981_20 to disk instead.\n",
      "24/12/02 02:33:34 WARN BlockManager: Persisting block rdd_5981_21 to disk instead.\n",
      "24/12/02 02:33:34 WARN MemoryStore: Not enough space to cache rdd_5981_18 in memory! (computed 3.5 MiB so far)\n",
      "24/12/02 02:33:34 WARN MemoryStore: Not enough space to cache rdd_5981_14 in memory! (computed 8.2 MiB so far)\n",
      "24/12/02 02:33:34 WARN MemoryStore: Not enough space to cache rdd_5981_17 in memory! (computed 12.3 MiB so far)\n",
      "24/12/02 02:33:34 WARN MemoryStore: Not enough space to cache rdd_5981_20 in memory! (computed 3.5 MiB so far)\n",
      "24/12/02 02:33:34 WARN MemoryStore: Not enough space to cache rdd_5981_19 in memory! (computed 8.2 MiB so far)\n",
      "24/12/02 02:33:34 WARN MemoryStore: Not enough space to cache rdd_5981_22 in memory! (computed 3.5 MiB so far)\n",
      "24/12/02 02:33:34 WARN MemoryStore: Not enough space to cache rdd_5981_15 in memory! (computed 5.3 MiB so far)\n",
      "24/12/02 02:33:34 WARN MemoryStore: Not enough space to cache rdd_5981_16 in memory! (computed 8.2 MiB so far)\n",
      "24/12/02 02:33:34 WARN MemoryStore: Not enough space to cache rdd_5981_13 in memory! (computed 18.6 MiB so far)\n",
      "24/12/02 02:33:35 WARN MemoryStore: Not enough space to cache rdd_5981_17 in memory! (computed 12.3 MiB so far)\n",
      "24/12/02 02:33:35 WARN MemoryStore: Not enough space to cache rdd_5981_15 in memory! (computed 12.3 MiB so far)\n",
      "24/12/02 02:33:35 WARN MemoryStore: Not enough space to cache rdd_5981_14 in memory! (computed 12.3 MiB so far)\n",
      "24/12/02 02:33:35 WARN MemoryStore: Not enough space to cache rdd_5981_16 in memory! (computed 3.5 MiB so far)\n",
      "24/12/02 02:33:35 WARN MemoryStore: Not enough space to cache rdd_5981_19 in memory! (computed 5.3 MiB so far)\n",
      "24/12/02 02:33:35 WARN MemoryStore: Not enough space to cache rdd_5981_13 in memory! (computed 12.3 MiB so far)\n",
      "24/12/02 02:33:35 WARN MemoryStore: Not enough space to cache rdd_5981_22 in memory! (computed 2.2 MiB so far)\n",
      "24/12/02 02:33:35 WARN MemoryStore: Failed to reserve initial memory threshold of 1024.0 KiB for computing block rdd_5981_18 in memory.\n",
      "24/12/02 02:33:35 WARN MemoryStore: Not enough space to cache rdd_5981_18 in memory! (computed 384.0 B so far)\n",
      "24/12/02 02:33:35 WARN MemoryStore: Not enough space to cache rdd_5981_20 in memory! (computed 1302.7 KiB so far)\n",
      "24/12/02 02:33:36 WARN MemoryStore: Not enough space to cache rdd_5981_13 in memory! (computed 18.6 MiB so far)\n",
      "24/12/02 02:33:36 WARN MemoryStore: Not enough space to cache rdd_5981_17 in memory! (computed 8.2 MiB so far)\n",
      "24/12/02 02:33:36 WARN MemoryStore: Not enough space to cache rdd_5981_14 in memory! (computed 8.2 MiB so far)\n",
      "24/12/02 02:33:36 WARN MemoryStore: Not enough space to cache rdd_5981_16 in memory! (computed 12.3 MiB so far)\n",
      "24/12/02 02:33:36 WARN MemoryStore: Not enough space to cache rdd_5981_15 in memory! (computed 12.3 MiB so far)\n",
      "24/12/02 02:33:36 WARN MemoryStore: Failed to reserve initial memory threshold of 1024.0 KiB for computing block rdd_5981_19 in memory.\n",
      "24/12/02 02:33:36 WARN MemoryStore: Not enough space to cache rdd_5981_19 in memory! (computed 384.0 B so far)\n",
      "24/12/02 02:33:36 WARN MemoryStore: Not enough space to cache rdd_5981_18 in memory! (computed 1302.7 KiB so far)\n",
      "24/12/02 02:33:36 WARN MemoryStore: Not enough space to cache rdd_5981_20 in memory! (computed 28.1 MiB so far)\n",
      "24/12/02 02:33:36 WARN MemoryStore: Not enough space to cache rdd_5981_22 in memory! (computed 28.1 MiB so far)\n",
      "24/12/02 02:33:36 WARN DAGScheduler: Broadcasting large task binary with size 1104.0 KiB\n",
      "24/12/02 02:33:37 WARN MemoryStore: Not enough space to cache rdd_5981_16 in memory! (computed 12.3 MiB so far)\n",
      "24/12/02 02:33:37 WARN MemoryStore: Not enough space to cache rdd_5981_15 in memory! (computed 12.3 MiB so far)\n",
      "24/12/02 02:33:37 WARN MemoryStore: Not enough space to cache rdd_5981_20 in memory! (computed 1302.7 KiB so far)\n",
      "24/12/02 02:33:37 WARN MemoryStore: Not enough space to cache rdd_5981_17 in memory! (computed 1302.7 KiB so far)\n",
      "24/12/02 02:33:37 WARN MemoryStore: Not enough space to cache rdd_5981_18 in memory! (computed 2.2 MiB so far)\n",
      "24/12/02 02:33:37 WARN MemoryStore: Not enough space to cache rdd_5981_14 in memory! (computed 12.3 MiB so far)\n",
      "24/12/02 02:33:37 WARN MemoryStore: Not enough space to cache rdd_5981_13 in memory! (computed 18.6 MiB so far)\n",
      "24/12/02 02:33:37 WARN MemoryStore: Not enough space to cache rdd_5981_19 in memory! (computed 1302.7 KiB so far)\n",
      "24/12/02 02:33:38 WARN DAGScheduler: Broadcasting large task binary with size 1341.9 KiB\n",
      "24/12/02 02:33:38 WARN MemoryStore: Not enough space to cache rdd_5981_13 in memory! (computed 8.2 MiB so far)\n",
      "24/12/02 02:33:38 WARN MemoryStore: Not enough space to cache rdd_5981_14 in memory! (computed 5.3 MiB so far)\n",
      "24/12/02 02:33:38 WARN MemoryStore: Not enough space to cache rdd_5981_15 in memory! (computed 8.2 MiB so far)\n",
      "24/12/02 02:33:38 WARN MemoryStore: Not enough space to cache rdd_5981_16 in memory! (computed 2.2 MiB so far)\n",
      "24/12/02 02:33:38 WARN MemoryStore: Failed to reserve initial memory threshold of 1024.0 KiB for computing block rdd_5981_17 in memory.\n",
      "24/12/02 02:33:38 WARN MemoryStore: Not enough space to cache rdd_5981_17 in memory! (computed 384.0 B so far)\n",
      "24/12/02 02:33:38 WARN MemoryStore: Failed to reserve initial memory threshold of 1024.0 KiB for computing block rdd_5981_18 in memory.\n",
      "24/12/02 02:33:38 WARN MemoryStore: Not enough space to cache rdd_5981_18 in memory! (computed 384.0 B so far)\n",
      "24/12/02 02:33:38 WARN MemoryStore: Failed to reserve initial memory threshold of 1024.0 KiB for computing block rdd_5981_19 in memory.\n",
      "24/12/02 02:33:38 WARN MemoryStore: Not enough space to cache rdd_5981_19 in memory! (computed 384.0 B so far)\n",
      "24/12/02 02:33:38 WARN MemoryStore: Not enough space to cache rdd_5981_20 in memory! (computed 18.6 MiB so far)\n",
      "24/12/02 02:33:39 WARN DAGScheduler: Broadcasting large task binary with size 1062.9 KiB\n",
      "24/12/02 02:33:43 WARN MemoryStore: Not enough space to cache rdd_6057_18 in memory! (computed 8.1 MiB so far)\n",
      "24/12/02 02:33:43 WARN MemoryStore: Not enough space to cache rdd_6057_19 in memory! (computed 1290.0 KiB so far)\n",
      "24/12/02 02:33:43 WARN MemoryStore: Not enough space to cache rdd_6057_12 in memory! (computed 18.4 MiB so far)\n",
      "24/12/02 02:33:43 WARN MemoryStore: Not enough space to cache rdd_6057_20 in memory! (computed 5.3 MiB so far)\n",
      "24/12/02 02:33:43 WARN MemoryStore: Not enough space to cache rdd_6057_21 in memory! (computed 2.2 MiB so far)\n",
      "24/12/02 02:33:43 WARN MemoryStore: Not enough space to cache rdd_6057_22 in memory! (computed 1290.0 KiB so far)\n",
      "24/12/02 02:33:43 WARN MemoryStore: Not enough space to cache rdd_6057_17 in memory! (computed 8.1 MiB so far)\n",
      "24/12/02 02:33:43 WARN MemoryStore: Not enough space to cache rdd_6057_13 in memory! (computed 12.2 MiB so far)\n",
      "24/12/02 02:33:43 WARN MemoryStore: Not enough space to cache rdd_6057_15 in memory! (computed 12.2 MiB so far)\n",
      "24/12/02 02:33:43 WARN MemoryStore: Not enough space to cache rdd_6057_14 in memory! (computed 12.2 MiB so far)\n",
      "24/12/02 02:33:43 WARN MemoryStore: Not enough space to cache rdd_6057_16 in memory! (computed 12.2 MiB so far)\n",
      "24/12/02 02:33:43 WARN BlockManager: Persisting block rdd_6057_20 to disk instead.\n",
      "24/12/02 02:33:43 WARN BlockManager: Persisting block rdd_6057_22 to disk instead.\n",
      "24/12/02 02:33:43 WARN BlockManager: Persisting block rdd_6057_12 to disk instead.\n",
      "24/12/02 02:33:43 WARN BlockManager: Persisting block rdd_6057_17 to disk instead.\n",
      "24/12/02 02:33:43 WARN BlockManager: Persisting block rdd_6057_15 to disk instead.\n",
      "24/12/02 02:33:43 WARN BlockManager: Persisting block rdd_6057_19 to disk instead.\n",
      "24/12/02 02:33:43 WARN BlockManager: Persisting block rdd_6057_16 to disk instead.\n",
      "24/12/02 02:33:43 WARN BlockManager: Persisting block rdd_6057_18 to disk instead.\n",
      "24/12/02 02:33:43 WARN BlockManager: Persisting block rdd_6057_14 to disk instead.\n",
      "24/12/02 02:33:43 WARN BlockManager: Persisting block rdd_6057_21 to disk instead.\n",
      "24/12/02 02:33:43 WARN BlockManager: Persisting block rdd_6057_13 to disk instead.\n",
      "24/12/02 02:33:43 WARN MemoryStore: Not enough space to cache rdd_6057_17 in memory! (computed 1290.0 KiB so far)\n",
      "24/12/02 02:33:43 WARN MemoryStore: Not enough space to cache rdd_6057_18 in memory! (computed 1290.0 KiB so far)\n",
      "24/12/02 02:33:43 WARN MemoryStore: Not enough space to cache rdd_6057_21 in memory! (computed 2.2 MiB so far)\n",
      "24/12/02 02:33:43 WARN MemoryStore: Not enough space to cache rdd_6057_19 in memory! (computed 1290.0 KiB so far)\n",
      "24/12/02 02:33:43 WARN MemoryStore: Not enough space to cache rdd_6057_15 in memory! (computed 1290.0 KiB so far)\n",
      "24/12/02 02:33:43 WARN MemoryStore: Not enough space to cache rdd_6057_20 in memory! (computed 1290.0 KiB so far)\n",
      "24/12/02 02:33:43 WARN MemoryStore: Not enough space to cache rdd_6057_22 in memory! (computed 12.2 MiB so far)\n",
      "24/12/02 02:33:44 WARN MemoryStore: Not enough space to cache rdd_6057_20 in memory! (computed 2.2 MiB so far)\n",
      "24/12/02 02:33:44 WARN MemoryStore: Not enough space to cache rdd_6057_15 in memory! (computed 3.4 MiB so far)\n",
      "24/12/02 02:33:44 WARN MemoryStore: Not enough space to cache rdd_6057_19 in memory! (computed 2.2 MiB so far)\n",
      "24/12/02 02:33:44 WARN MemoryStore: Not enough space to cache rdd_6057_22 in memory! (computed 3.4 MiB so far)\n",
      "24/12/02 02:33:44 WARN MemoryStore: Not enough space to cache rdd_6057_17 in memory! (computed 3.4 MiB so far)\n",
      "24/12/02 02:33:44 WARN MemoryStore: Not enough space to cache rdd_6057_21 in memory! (computed 2.2 MiB so far)\n",
      "24/12/02 02:33:44 WARN MemoryStore: Not enough space to cache rdd_6057_18 in memory! (computed 2.2 MiB so far)\n",
      "24/12/02 02:33:44 WARN MemoryStore: Failed to reserve initial memory threshold of 1024.0 KiB for computing block rdd_6057_22 in memory.\n",
      "24/12/02 02:33:44 WARN MemoryStore: Not enough space to cache rdd_6057_18 in memory! (computed 2.2 MiB so far)\n",
      "24/12/02 02:33:44 WARN MemoryStore: Not enough space to cache rdd_6057_17 in memory! (computed 5.3 MiB so far)\n",
      "24/12/02 02:33:44 WARN MemoryStore: Not enough space to cache rdd_6057_20 in memory! (computed 3.4 MiB so far)\n",
      "24/12/02 02:33:44 WARN MemoryStore: Not enough space to cache rdd_6057_15 in memory! (computed 3.4 MiB so far)\n",
      "24/12/02 02:33:44 WARN MemoryStore: Not enough space to cache rdd_6057_19 in memory! (computed 2.2 MiB so far)\n",
      "24/12/02 02:33:44 WARN MemoryStore: Not enough space to cache rdd_6057_21 in memory! (computed 2.2 MiB so far)\n",
      "24/12/02 02:33:44 WARN MemoryStore: Not enough space to cache rdd_6057_22 in memory! (computed 384.0 B so far)\n",
      "24/12/02 02:33:45 WARN MemoryStore: Not enough space to cache rdd_6057_21 in memory! (computed 2.2 MiB so far)\n",
      "24/12/02 02:33:45 WARN MemoryStore: Not enough space to cache rdd_6057_15 in memory! (computed 3.4 MiB so far)\n",
      "24/12/02 02:33:45 WARN MemoryStore: Not enough space to cache rdd_6057_18 in memory! (computed 2.2 MiB so far)\n",
      "24/12/02 02:33:45 WARN MemoryStore: Not enough space to cache rdd_6057_19 in memory! (computed 3.4 MiB so far)\n",
      "24/12/02 02:33:45 WARN MemoryStore: Not enough space to cache rdd_6057_20 in memory! (computed 3.4 MiB so far)\n",
      "24/12/02 02:33:45 WARN MemoryStore: Not enough space to cache rdd_6057_17 in memory! (computed 3.4 MiB so far)\n",
      "24/12/02 02:33:45 WARN MemoryStore: Failed to reserve initial memory threshold of 1024.0 KiB for computing block rdd_6057_22 in memory.\n",
      "24/12/02 02:33:45 WARN MemoryStore: Not enough space to cache rdd_6057_22 in memory! (computed 384.0 B so far)\n",
      "24/12/02 02:33:45 WARN DAGScheduler: Broadcasting large task binary with size 1040.8 KiB\n",
      "24/12/02 02:33:46 WARN MemoryStore: Not enough space to cache rdd_6057_19 in memory! (computed 5.3 MiB so far)\n",
      "24/12/02 02:33:46 WARN MemoryStore: Not enough space to cache rdd_6057_17 in memory! (computed 5.3 MiB so far)\n",
      "24/12/02 02:33:46 WARN MemoryStore: Not enough space to cache rdd_6057_15 in memory! (computed 5.3 MiB so far)\n",
      "24/12/02 02:33:46 WARN MemoryStore: Not enough space to cache rdd_6057_20 in memory! (computed 8.1 MiB so far)\n",
      "24/12/02 02:33:46 WARN MemoryStore: Not enough space to cache rdd_6057_18 in memory! (computed 8.1 MiB so far)\n",
      "24/12/02 02:33:46 WARN MemoryStore: Not enough space to cache rdd_6057_22 in memory! (computed 8.1 MiB so far)\n",
      "24/12/02 02:33:46 WARN MemoryStore: Not enough space to cache rdd_6057_21 in memory! (computed 8.1 MiB so far)\n",
      "24/12/02 02:33:46 WARN DAGScheduler: Broadcasting large task binary with size 1204.3 KiB\n",
      "24/12/02 02:33:47 WARN MemoryStore: Not enough space to cache rdd_6057_19 in memory! (computed 3.4 MiB so far)\n",
      "24/12/02 02:33:47 WARN MemoryStore: Not enough space to cache rdd_6057_15 in memory! (computed 2.2 MiB so far)\n",
      "24/12/02 02:33:47 WARN MemoryStore: Not enough space to cache rdd_6057_20 in memory! (computed 2.2 MiB so far)\n",
      "24/12/02 02:33:47 WARN MemoryStore: Not enough space to cache rdd_6057_21 in memory! (computed 5.3 MiB so far)\n",
      "24/12/02 02:33:47 WARN MemoryStore: Not enough space to cache rdd_6057_17 in memory! (computed 2.2 MiB so far)\n",
      "24/12/02 02:33:47 WARN MemoryStore: Not enough space to cache rdd_6057_22 in memory! (computed 2.2 MiB so far)\n",
      "24/12/02 02:33:47 WARN MemoryStore: Not enough space to cache rdd_6057_18 in memory! (computed 2.2 MiB so far)\n",
      "24/12/02 02:33:47 WARN DAGScheduler: Broadcasting large task binary with size 1415.1 KiB\n",
      "24/12/02 02:33:48 WARN MemoryStore: Not enough space to cache rdd_6057_15 in memory! (computed 5.3 MiB so far)\n",
      "24/12/02 02:33:48 WARN MemoryStore: Not enough space to cache rdd_6057_20 in memory! (computed 2.2 MiB so far)\n",
      "24/12/02 02:33:48 WARN MemoryStore: Not enough space to cache rdd_6057_18 in memory! (computed 3.4 MiB so far)\n",
      "24/12/02 02:33:48 WARN MemoryStore: Not enough space to cache rdd_6057_21 in memory! (computed 1290.0 KiB so far)\n",
      "24/12/02 02:33:48 WARN MemoryStore: Not enough space to cache rdd_6057_17 in memory! (computed 1290.0 KiB so far)\n",
      "24/12/02 02:33:48 WARN MemoryStore: Not enough space to cache rdd_6057_19 in memory! (computed 3.4 MiB so far)\n",
      "24/12/02 02:33:48 WARN MemoryStore: Not enough space to cache rdd_6057_22 in memory! (computed 2.2 MiB so far)\n",
      "24/12/02 02:33:48 WARN DAGScheduler: Broadcasting large task binary with size 1692.6 KiB\n",
      "24/12/02 02:33:49 WARN MemoryStore: Not enough space to cache rdd_6057_15 in memory! (computed 2.2 MiB so far)\n",
      "24/12/02 02:33:49 WARN MemoryStore: Not enough space to cache rdd_6057_18 in memory! (computed 2.2 MiB so far)\n",
      "24/12/02 02:33:49 WARN MemoryStore: Not enough space to cache rdd_6057_22 in memory! (computed 2.2 MiB so far)\n",
      "24/12/02 02:33:49 WARN MemoryStore: Not enough space to cache rdd_6057_20 in memory! (computed 2.2 MiB so far)\n",
      "24/12/02 02:33:49 WARN MemoryStore: Not enough space to cache rdd_6057_17 in memory! (computed 5.3 MiB so far)\n",
      "24/12/02 02:33:49 WARN MemoryStore: Not enough space to cache rdd_6057_19 in memory! (computed 3.4 MiB so far)\n",
      "24/12/02 02:33:49 WARN MemoryStore: Not enough space to cache rdd_6057_21 in memory! (computed 2.2 MiB so far)\n",
      "24/12/02 02:33:50 WARN DAGScheduler: Broadcasting large task binary with size 2025.7 KiB\n",
      "24/12/02 02:33:51 WARN MemoryStore: Not enough space to cache rdd_6057_18 in memory! (computed 12.2 MiB so far)\n",
      "24/12/02 02:33:51 WARN MemoryStore: Not enough space to cache rdd_6057_13 in memory! (computed 12.2 MiB so far)\n",
      "24/12/02 02:33:51 WARN MemoryStore: Not enough space to cache rdd_6057_15 in memory! (computed 12.2 MiB so far)\n",
      "24/12/02 02:33:51 WARN MemoryStore: Not enough space to cache rdd_6057_16 in memory! (computed 12.2 MiB so far)\n",
      "24/12/02 02:33:51 WARN MemoryStore: Failed to reserve initial memory threshold of 1024.0 KiB for computing block rdd_6057_20 in memory.\n",
      "24/12/02 02:33:51 WARN MemoryStore: Failed to reserve initial memory threshold of 1024.0 KiB for computing block rdd_6057_23 in memory.\n",
      "24/12/02 02:33:51 WARN MemoryStore: Failed to reserve initial memory threshold of 1024.0 KiB for computing block rdd_6057_21 in memory.\n",
      "24/12/02 02:33:51 WARN MemoryStore: Failed to reserve initial memory threshold of 1024.0 KiB for computing block rdd_6057_22 in memory.\n",
      "24/12/02 02:33:51 WARN MemoryStore: Not enough space to cache rdd_6057_20 in memory! (computed 384.0 B so far)\n",
      "24/12/02 02:33:51 WARN MemoryStore: Not enough space to cache rdd_6057_22 in memory! (computed 384.0 B so far)\n",
      "24/12/02 02:33:51 WARN MemoryStore: Not enough space to cache rdd_6057_21 in memory! (computed 384.0 B so far)\n",
      "24/12/02 02:33:51 WARN MemoryStore: Not enough space to cache rdd_6057_23 in memory! (computed 384.0 B so far)\n",
      "24/12/02 02:33:51 WARN MemoryStore: Not enough space to cache rdd_6057_19 in memory! (computed 18.4 MiB so far)\n",
      "24/12/02 02:33:52 WARN DAGScheduler: Broadcasting large task binary with size 2.4 MiB\n",
      "24/12/02 02:33:53 WARN MemoryStore: Not enough space to cache rdd_6057_13 in memory! (computed 12.2 MiB so far)\n",
      "24/12/02 02:33:53 WARN MemoryStore: Not enough space to cache rdd_6057_19 in memory! (computed 5.3 MiB so far)\n",
      "24/12/02 02:33:53 WARN MemoryStore: Not enough space to cache rdd_6057_15 in memory! (computed 5.3 MiB so far)\n",
      "24/12/02 02:33:54 WARN MemoryStore: Not enough space to cache rdd_6057_16 in memory! (computed 12.2 MiB so far)\n",
      "24/12/02 02:33:54 WARN MemoryStore: Not enough space to cache rdd_6057_22 in memory! (computed 3.4 MiB so far)\n",
      "24/12/02 02:33:54 WARN MemoryStore: Not enough space to cache rdd_6057_18 in memory! (computed 12.2 MiB so far)\n",
      "24/12/02 02:33:54 WARN MemoryStore: Not enough space to cache rdd_6057_20 in memory! (computed 2.2 MiB so far)\n",
      "24/12/02 02:33:54 WARN MemoryStore: Not enough space to cache rdd_6057_21 in memory! (computed 2.2 MiB so far)\n",
      "24/12/02 02:33:55 WARN DAGScheduler: Broadcasting large task binary with size 1494.6 KiB\n",
      "24/12/02 02:33:59 WARN MemoryStore: Not enough space to cache rdd_6148_12 in memory! (computed 18.4 MiB so far)\n",
      "24/12/02 02:33:59 WARN MemoryStore: Not enough space to cache rdd_6148_19 in memory! (computed 8.1 MiB so far)\n",
      "24/12/02 02:33:59 WARN MemoryStore: Not enough space to cache rdd_6148_22 in memory! (computed 5.3 MiB so far)\n",
      "24/12/02 02:33:59 WARN MemoryStore: Not enough space to cache rdd_6148_15 in memory! (computed 8.1 MiB so far)\n",
      "24/12/02 02:33:59 WARN MemoryStore: Not enough space to cache rdd_6148_16 in memory! (computed 8.1 MiB so far)\n",
      "24/12/02 02:33:59 WARN MemoryStore: Not enough space to cache rdd_6148_13 in memory! (computed 5.3 MiB so far)\n",
      "24/12/02 02:33:59 WARN MemoryStore: Not enough space to cache rdd_6148_14 in memory! (computed 12.2 MiB so far)\n",
      "24/12/02 02:33:59 WARN MemoryStore: Not enough space to cache rdd_6148_21 in memory! (computed 8.1 MiB so far)\n",
      "24/12/02 02:33:59 WARN MemoryStore: Not enough space to cache rdd_6148_20 in memory! (computed 8.1 MiB so far)\n",
      "24/12/02 02:33:59 WARN MemoryStore: Not enough space to cache rdd_6148_18 in memory! (computed 3.4 MiB so far)\n",
      "24/12/02 02:33:59 WARN MemoryStore: Not enough space to cache rdd_6148_17 in memory! (computed 8.1 MiB so far)\n",
      "24/12/02 02:33:59 WARN BlockManager: Persisting block rdd_6148_14 to disk instead.\n",
      "24/12/02 02:33:59 WARN BlockManager: Persisting block rdd_6148_19 to disk instead.\n",
      "24/12/02 02:33:59 WARN BlockManager: Persisting block rdd_6148_17 to disk instead.\n",
      "24/12/02 02:33:59 WARN BlockManager: Persisting block rdd_6148_18 to disk instead.\n",
      "24/12/02 02:33:59 WARN BlockManager: Persisting block rdd_6148_20 to disk instead.\n",
      "24/12/02 02:33:59 WARN BlockManager: Persisting block rdd_6148_12 to disk instead.\n",
      "24/12/02 02:33:59 WARN BlockManager: Persisting block rdd_6148_21 to disk instead.\n",
      "24/12/02 02:33:59 WARN BlockManager: Persisting block rdd_6148_22 to disk instead.\n",
      "24/12/02 02:33:59 WARN BlockManager: Persisting block rdd_6148_15 to disk instead.\n",
      "24/12/02 02:33:59 WARN BlockManager: Persisting block rdd_6148_16 to disk instead.\n",
      "24/12/02 02:33:59 WARN BlockManager: Persisting block rdd_6148_13 to disk instead.\n",
      "24/12/02 02:33:59 WARN MemoryStore: Not enough space to cache rdd_6148_12 in memory! (computed 18.4 MiB so far)\n",
      "24/12/02 02:33:59 WARN MemoryStore: Not enough space to cache rdd_6148_18 in memory! (computed 2.2 MiB so far)\n",
      "24/12/02 02:33:59 WARN MemoryStore: Not enough space to cache rdd_6148_13 in memory! (computed 8.1 MiB so far)\n",
      "24/12/02 02:33:59 WARN MemoryStore: Not enough space to cache rdd_6148_16 in memory! (computed 18.4 MiB so far)\n",
      "24/12/02 02:33:59 WARN MemoryStore: Not enough space to cache rdd_6148_15 in memory! (computed 2.2 MiB so far)\n",
      "24/12/02 02:33:59 WARN MemoryStore: Not enough space to cache rdd_6148_17 in memory! (computed 2.2 MiB so far)\n",
      "24/12/02 02:33:59 WARN MemoryStore: Not enough space to cache rdd_6148_20 in memory! (computed 2.2 MiB so far)\n",
      "24/12/02 02:33:59 WARN MemoryStore: Not enough space to cache rdd_6148_22 in memory! (computed 1290.0 KiB so far)\n",
      "24/12/02 02:34:00 WARN MemoryStore: Not enough space to cache rdd_6148_21 in memory! (computed 12.2 MiB so far)\n",
      "24/12/02 02:34:00 WARN MemoryStore: Not enough space to cache rdd_6148_21 in memory! (computed 1290.0 KiB so far)\n",
      "24/12/02 02:34:00 WARN MemoryStore: Not enough space to cache rdd_6148_18 in memory! (computed 5.3 MiB so far)\n",
      "24/12/02 02:34:00 WARN MemoryStore: Not enough space to cache rdd_6148_12 in memory! (computed 18.4 MiB so far)\n",
      "24/12/02 02:34:00 WARN MemoryStore: Not enough space to cache rdd_6148_15 in memory! (computed 8.1 MiB so far)\n",
      "24/12/02 02:34:00 WARN MemoryStore: Not enough space to cache rdd_6148_16 in memory! (computed 5.3 MiB so far)\n",
      "24/12/02 02:34:00 WARN MemoryStore: Not enough space to cache rdd_6148_20 in memory! (computed 3.4 MiB so far)\n",
      "24/12/02 02:34:00 WARN MemoryStore: Not enough space to cache rdd_6148_17 in memory! (computed 5.3 MiB so far)\n",
      "24/12/02 02:34:00 WARN MemoryStore: Failed to reserve initial memory threshold of 1024.0 KiB for computing block rdd_6148_22 in memory.\n",
      "24/12/02 02:34:00 WARN MemoryStore: Not enough space to cache rdd_6148_22 in memory! (computed 384.0 B so far)\n",
      "24/12/02 02:34:00 WARN MemoryStore: Not enough space to cache rdd_6148_13 in memory! (computed 18.4 MiB so far)\n",
      "24/12/02 02:34:01 WARN MemoryStore: Not enough space to cache rdd_6148_17 in memory! (computed 8.1 MiB so far)\n",
      "24/12/02 02:34:01 WARN MemoryStore: Not enough space to cache rdd_6148_20 in memory! (computed 5.3 MiB so far)\n",
      "24/12/02 02:34:01 WARN MemoryStore: Not enough space to cache rdd_6148_16 in memory! (computed 8.1 MiB so far)\n",
      "24/12/02 02:34:01 WARN MemoryStore: Not enough space to cache rdd_6148_18 in memory! (computed 8.1 MiB so far)\n",
      "24/12/02 02:34:01 WARN MemoryStore: Not enough space to cache rdd_6148_12 in memory! (computed 8.1 MiB so far)\n",
      "24/12/02 02:34:01 WARN MemoryStore: Not enough space to cache rdd_6148_21 in memory! (computed 3.4 MiB so far)\n",
      "24/12/02 02:34:01 WARN MemoryStore: Not enough space to cache rdd_6148_22 in memory! (computed 8.1 MiB so far)\n",
      "24/12/02 02:34:01 WARN MemoryStore: Not enough space to cache rdd_6148_13 in memory! (computed 8.1 MiB so far)\n",
      "24/12/02 02:34:01 WARN MemoryStore: Not enough space to cache rdd_6148_15 in memory! (computed 8.1 MiB so far)\n",
      "24/12/02 02:34:02 WARN MemoryStore: Not enough space to cache rdd_6148_17 in memory! (computed 5.3 MiB so far)\n",
      "24/12/02 02:34:02 WARN MemoryStore: Not enough space to cache rdd_6148_12 in memory! (computed 18.4 MiB so far)\n",
      "24/12/02 02:34:02 WARN MemoryStore: Not enough space to cache rdd_6148_15 in memory! (computed 12.2 MiB so far)\n",
      "24/12/02 02:34:02 WARN MemoryStore: Not enough space to cache rdd_6148_13 in memory! (computed 12.2 MiB so far)\n",
      "24/12/02 02:34:02 WARN MemoryStore: Not enough space to cache rdd_6148_16 in memory! (computed 5.3 MiB so far)\n",
      "24/12/02 02:34:02 WARN MemoryStore: Not enough space to cache rdd_6148_18 in memory! (computed 8.1 MiB so far)\n",
      "24/12/02 02:34:02 WARN MemoryStore: Not enough space to cache rdd_6148_20 in memory! (computed 1290.0 KiB so far)\n",
      "24/12/02 02:34:02 WARN MemoryStore: Failed to reserve initial memory threshold of 1024.0 KiB for computing block rdd_6148_22 in memory.\n",
      "24/12/02 02:34:02 WARN MemoryStore: Not enough space to cache rdd_6148_22 in memory! (computed 384.0 B so far)\n",
      "24/12/02 02:34:02 WARN MemoryStore: Not enough space to cache rdd_6148_21 in memory! (computed 2.2 MiB so far)\n",
      "24/12/02 02:34:02 WARN DAGScheduler: Broadcasting large task binary with size 1041.1 KiB\n",
      "24/12/02 02:34:03 WARN MemoryStore: Not enough space to cache rdd_6148_17 in memory! (computed 3.4 MiB so far)\n",
      "24/12/02 02:34:03 WARN MemoryStore: Not enough space to cache rdd_6148_13 in memory! (computed 18.4 MiB so far)\n",
      "24/12/02 02:34:03 WARN MemoryStore: Not enough space to cache rdd_6148_16 in memory! (computed 2.2 MiB so far)\n",
      "24/12/02 02:34:03 WARN MemoryStore: Not enough space to cache rdd_6148_20 in memory! (computed 1290.0 KiB so far)\n",
      "24/12/02 02:34:03 WARN MemoryStore: Not enough space to cache rdd_6148_15 in memory! (computed 12.2 MiB so far)\n",
      "24/12/02 02:34:03 WARN MemoryStore: Failed to reserve initial memory threshold of 1024.0 KiB for computing block rdd_6148_18 in memory.\n",
      "24/12/02 02:34:03 WARN MemoryStore: Not enough space to cache rdd_6148_18 in memory! (computed 384.0 B so far)\n",
      "24/12/02 02:34:03 WARN MemoryStore: Not enough space to cache rdd_6148_22 in memory! (computed 8.1 MiB so far)\n",
      "24/12/02 02:34:03 WARN MemoryStore: Not enough space to cache rdd_6148_21 in memory! (computed 27.8 MiB so far)\n",
      "24/12/02 02:34:03 WARN DAGScheduler: Broadcasting large task binary with size 1204.6 KiB\n",
      "24/12/02 02:34:04 WARN MemoryStore: Not enough space to cache rdd_6148_16 in memory! (computed 5.3 MiB so far)\n",
      "24/12/02 02:34:04 WARN MemoryStore: Not enough space to cache rdd_6148_22 in memory! (computed 8.1 MiB so far)\n",
      "24/12/02 02:34:04 WARN MemoryStore: Not enough space to cache rdd_6148_13 in memory! (computed 2.2 MiB so far)\n",
      "24/12/02 02:34:04 WARN MemoryStore: Not enough space to cache rdd_6148_20 in memory! (computed 2.2 MiB so far)\n",
      "24/12/02 02:34:04 WARN MemoryStore: Not enough space to cache rdd_6148_17 in memory! (computed 5.3 MiB so far)\n",
      "24/12/02 02:34:04 WARN MemoryStore: Not enough space to cache rdd_6148_15 in memory! (computed 3.4 MiB so far)\n",
      "24/12/02 02:34:04 WARN MemoryStore: Not enough space to cache rdd_6148_21 in memory! (computed 8.1 MiB so far)\n",
      "24/12/02 02:34:04 WARN MemoryStore: Not enough space to cache rdd_6148_18 in memory! (computed 5.3 MiB so far)\n",
      "24/12/02 02:34:05 WARN DAGScheduler: Broadcasting large task binary with size 1415.5 KiB\n",
      "24/12/02 02:34:05 WARN MemoryStore: Not enough space to cache rdd_6148_21 in memory! (computed 3.4 MiB so far)\n",
      "24/12/02 02:34:05 WARN MemoryStore: Not enough space to cache rdd_6148_20 in memory! (computed 5.3 MiB so far)\n",
      "24/12/02 02:34:05 WARN MemoryStore: Not enough space to cache rdd_6148_17 in memory! (computed 5.3 MiB so far)\n",
      "24/12/02 02:34:05 WARN MemoryStore: Not enough space to cache rdd_6148_16 in memory! (computed 5.3 MiB so far)\n",
      "24/12/02 02:34:05 WARN MemoryStore: Not enough space to cache rdd_6148_15 in memory! (computed 2.2 MiB so far)\n",
      "24/12/02 02:34:05 WARN MemoryStore: Not enough space to cache rdd_6148_22 in memory! (computed 8.1 MiB so far)\n",
      "24/12/02 02:34:05 WARN MemoryStore: Not enough space to cache rdd_6148_13 in memory! (computed 5.3 MiB so far)\n",
      "24/12/02 02:34:05 WARN MemoryStore: Not enough space to cache rdd_6148_18 in memory! (computed 5.3 MiB so far)\n",
      "24/12/02 02:34:06 WARN DAGScheduler: Broadcasting large task binary with size 1692.9 KiB\n",
      "24/12/02 02:34:07 WARN MemoryStore: Not enough space to cache rdd_6148_13 in memory! (computed 8.1 MiB so far)\n",
      "24/12/02 02:34:07 WARN MemoryStore: Not enough space to cache rdd_6148_20 in memory! (computed 8.1 MiB so far)\n",
      "24/12/02 02:34:07 WARN MemoryStore: Not enough space to cache rdd_6148_15 in memory! (computed 8.1 MiB so far)\n",
      "24/12/02 02:34:07 WARN MemoryStore: Not enough space to cache rdd_6148_22 in memory! (computed 8.1 MiB so far)\n",
      "24/12/02 02:34:07 WARN MemoryStore: Not enough space to cache rdd_6148_17 in memory! (computed 1290.0 KiB so far)\n",
      "24/12/02 02:34:07 WARN MemoryStore: Not enough space to cache rdd_6148_18 in memory! (computed 5.3 MiB so far)\n",
      "24/12/02 02:34:07 WARN MemoryStore: Not enough space to cache rdd_6148_16 in memory! (computed 1290.0 KiB so far)\n",
      "24/12/02 02:34:07 WARN MemoryStore: Failed to reserve initial memory threshold of 1024.0 KiB for computing block rdd_6148_21 in memory.\n",
      "24/12/02 02:34:07 WARN MemoryStore: Not enough space to cache rdd_6148_21 in memory! (computed 384.0 B so far)\n",
      "24/12/02 02:34:08 WARN DAGScheduler: Broadcasting large task binary with size 2026.0 KiB\n",
      "24/12/02 02:34:09 WARN MemoryStore: Not enough space to cache rdd_6148_21 in memory! (computed 18.4 MiB so far)\n",
      "24/12/02 02:34:09 WARN MemoryStore: Not enough space to cache rdd_6148_16 in memory! (computed 12.2 MiB so far)\n",
      "24/12/02 02:34:09 WARN MemoryStore: Not enough space to cache rdd_6148_17 in memory! (computed 12.2 MiB so far)\n",
      "24/12/02 02:34:09 WARN MemoryStore: Not enough space to cache rdd_6148_22 in memory! (computed 5.3 MiB so far)\n",
      "24/12/02 02:34:09 WARN MemoryStore: Not enough space to cache rdd_6148_20 in memory! (computed 12.2 MiB so far)\n",
      "24/12/02 02:34:09 WARN MemoryStore: Not enough space to cache rdd_6148_15 in memory! (computed 5.3 MiB so far)\n",
      "24/12/02 02:34:09 WARN MemoryStore: Not enough space to cache rdd_6148_18 in memory! (computed 12.2 MiB so far)\n",
      "24/12/02 02:34:09 WARN MemoryStore: Not enough space to cache rdd_6148_13 in memory! (computed 12.2 MiB so far)\n",
      "24/12/02 02:34:09 WARN DAGScheduler: Broadcasting large task binary with size 2.4 MiB\n",
      "24/12/02 02:34:11 WARN MemoryStore: Not enough space to cache rdd_6148_19 in memory! (computed 5.3 MiB so far)\n",
      "24/12/02 02:34:11 WARN MemoryStore: Not enough space to cache rdd_6148_16 in memory! (computed 3.4 MiB so far)\n",
      "24/12/02 02:34:11 WARN MemoryStore: Not enough space to cache rdd_6148_18 in memory! (computed 5.3 MiB so far)\n",
      "24/12/02 02:34:11 WARN MemoryStore: Not enough space to cache rdd_6148_13 in memory! (computed 8.1 MiB so far)\n",
      "24/12/02 02:34:11 WARN MemoryStore: Not enough space to cache rdd_6148_17 in memory! (computed 5.3 MiB so far)\n",
      "24/12/02 02:34:11 WARN MemoryStore: Not enough space to cache rdd_6148_20 in memory! (computed 12.2 MiB so far)\n",
      "24/12/02 02:34:11 WARN MemoryStore: Not enough space to cache rdd_6148_21 in memory! (computed 8.1 MiB so far)\n",
      "24/12/02 02:34:11 WARN MemoryStore: Not enough space to cache rdd_6148_15 in memory! (computed 8.1 MiB so far)\n",
      "24/12/02 02:34:13 WARN DAGScheduler: Broadcasting large task binary with size 1494.6 KiB\n",
      "24/12/02 02:34:17 WARN MemoryStore: Not enough space to cache rdd_6239_20 in memory! (computed 5.3 MiB so far)\n",
      "24/12/02 02:34:17 WARN MemoryStore: Not enough space to cache rdd_6239_15 in memory! (computed 8.2 MiB so far)\n",
      "24/12/02 02:34:17 WARN MemoryStore: Not enough space to cache rdd_6239_16 in memory! (computed 8.2 MiB so far)\n",
      "24/12/02 02:34:17 WARN MemoryStore: Not enough space to cache rdd_6239_21 in memory! (computed 5.3 MiB so far)\n",
      "24/12/02 02:34:17 WARN MemoryStore: Not enough space to cache rdd_6239_18 in memory! (computed 3.5 MiB so far)\n",
      "24/12/02 02:34:17 WARN MemoryStore: Not enough space to cache rdd_6239_19 in memory! (computed 5.3 MiB so far)\n",
      "24/12/02 02:34:17 WARN MemoryStore: Not enough space to cache rdd_6239_22 in memory! (computed 3.5 MiB so far)\n",
      "24/12/02 02:34:17 WARN MemoryStore: Not enough space to cache rdd_6239_17 in memory! (computed 8.2 MiB so far)\n",
      "24/12/02 02:34:17 WARN BlockManager: Persisting block rdd_6239_16 to disk instead.\n",
      "24/12/02 02:34:17 WARN BlockManager: Persisting block rdd_6239_22 to disk instead.\n",
      "24/12/02 02:34:17 WARN BlockManager: Persisting block rdd_6239_21 to disk instead.\n",
      "24/12/02 02:34:17 WARN BlockManager: Persisting block rdd_6239_17 to disk instead.\n",
      "24/12/02 02:34:17 WARN BlockManager: Persisting block rdd_6239_18 to disk instead.\n",
      "24/12/02 02:34:17 WARN BlockManager: Persisting block rdd_6239_19 to disk instead.\n",
      "24/12/02 02:34:17 WARN BlockManager: Persisting block rdd_6239_20 to disk instead.\n",
      "24/12/02 02:34:17 WARN BlockManager: Persisting block rdd_6239_15 to disk instead.\n",
      "24/12/02 02:34:17 WARN MemoryStore: Not enough space to cache rdd_6239_21 in memory! (computed 12.3 MiB so far)\n",
      "24/12/02 02:34:17 WARN MemoryStore: Failed to reserve initial memory threshold of 1024.0 KiB for computing block rdd_6239_20 in memory.\n",
      "24/12/02 02:34:17 WARN MemoryStore: Not enough space to cache rdd_6239_18 in memory! (computed 2.2 MiB so far)\n",
      "24/12/02 02:34:17 WARN MemoryStore: Not enough space to cache rdd_6239_17 in memory! (computed 12.3 MiB so far)\n",
      "24/12/02 02:34:17 WARN MemoryStore: Not enough space to cache rdd_6239_15 in memory! (computed 12.3 MiB so far)\n",
      "24/12/02 02:34:17 WARN MemoryStore: Not enough space to cache rdd_6239_16 in memory! (computed 12.3 MiB so far)\n",
      "24/12/02 02:34:17 WARN MemoryStore: Not enough space to cache rdd_6239_19 in memory! (computed 12.3 MiB so far)\n",
      "24/12/02 02:34:17 WARN MemoryStore: Not enough space to cache rdd_6239_20 in memory! (computed 384.0 B so far)\n",
      "24/12/02 02:34:17 WARN MemoryStore: Not enough space to cache rdd_6239_22 in memory! (computed 5.3 MiB so far)\n",
      "24/12/02 02:34:18 WARN MemoryStore: Not enough space to cache rdd_6239_17 in memory! (computed 5.3 MiB so far)\n",
      "24/12/02 02:34:18 WARN MemoryStore: Not enough space to cache rdd_6239_20 in memory! (computed 5.3 MiB so far)\n",
      "24/12/02 02:34:18 WARN MemoryStore: Not enough space to cache rdd_6239_22 in memory! (computed 2.2 MiB so far)\n",
      "24/12/02 02:34:18 WARN MemoryStore: Not enough space to cache rdd_6239_19 in memory! (computed 5.3 MiB so far)\n",
      "24/12/02 02:34:18 WARN MemoryStore: Not enough space to cache rdd_6239_21 in memory! (computed 5.3 MiB so far)\n",
      "24/12/02 02:34:18 WARN MemoryStore: Not enough space to cache rdd_6239_18 in memory! (computed 5.3 MiB so far)\n",
      "24/12/02 02:34:18 WARN MemoryStore: Not enough space to cache rdd_6239_16 in memory! (computed 5.3 MiB so far)\n",
      "24/12/02 02:34:18 WARN MemoryStore: Not enough space to cache rdd_6239_15 in memory! (computed 5.3 MiB so far)\n",
      "24/12/02 02:34:18 WARN MemoryStore: Not enough space to cache rdd_6239_16 in memory! (computed 8.2 MiB so far)\n",
      "24/12/02 02:34:18 WARN MemoryStore: Not enough space to cache rdd_6239_15 in memory! (computed 8.2 MiB so far)\n",
      "24/12/02 02:34:18 WARN MemoryStore: Not enough space to cache rdd_6239_18 in memory! (computed 12.3 MiB so far)\n",
      "24/12/02 02:34:18 WARN MemoryStore: Not enough space to cache rdd_6239_17 in memory! (computed 8.2 MiB so far)\n",
      "24/12/02 02:34:19 WARN MemoryStore: Not enough space to cache rdd_6239_22 in memory! (computed 8.2 MiB so far)\n",
      "24/12/02 02:34:19 WARN MemoryStore: Not enough space to cache rdd_6239_21 in memory! (computed 8.2 MiB so far)\n",
      "24/12/02 02:34:19 WARN MemoryStore: Not enough space to cache rdd_6239_19 in memory! (computed 8.2 MiB so far)\n",
      "24/12/02 02:34:19 WARN MemoryStore: Not enough space to cache rdd_6239_20 in memory! (computed 12.3 MiB so far)\n",
      "24/12/02 02:34:19 WARN DAGScheduler: Broadcasting large task binary with size 1103.7 KiB\n",
      "24/12/02 02:34:19 WARN MemoryStore: Not enough space to cache rdd_6239_17 in memory! (computed 3.5 MiB so far)\n",
      "24/12/02 02:34:19 WARN MemoryStore: Not enough space to cache rdd_6239_18 in memory! (computed 5.3 MiB so far)\n",
      "24/12/02 02:34:19 WARN MemoryStore: Not enough space to cache rdd_6239_19 in memory! (computed 3.5 MiB so far)\n",
      "24/12/02 02:34:19 WARN MemoryStore: Not enough space to cache rdd_6239_15 in memory! (computed 5.3 MiB so far)\n",
      "24/12/02 02:34:19 WARN MemoryStore: Not enough space to cache rdd_6239_21 in memory! (computed 5.3 MiB so far)\n",
      "24/12/02 02:34:19 WARN MemoryStore: Not enough space to cache rdd_6239_20 in memory! (computed 5.3 MiB so far)\n",
      "24/12/02 02:34:19 WARN MemoryStore: Not enough space to cache rdd_6239_22 in memory! (computed 5.3 MiB so far)\n",
      "24/12/02 02:34:19 WARN MemoryStore: Not enough space to cache rdd_6239_16 in memory! (computed 5.3 MiB so far)\n",
      "24/12/02 02:34:20 WARN DAGScheduler: Broadcasting large task binary with size 1341.6 KiB\n",
      "24/12/02 02:34:20 WARN MemoryStore: Not enough space to cache rdd_6239_18 in memory! (computed 3.5 MiB so far)\n",
      "24/12/02 02:34:20 WARN MemoryStore: Not enough space to cache rdd_6239_19 in memory! (computed 3.5 MiB so far)\n",
      "24/12/02 02:34:20 WARN MemoryStore: Not enough space to cache rdd_6239_17 in memory! (computed 2.2 MiB so far)\n",
      "24/12/02 02:34:20 WARN MemoryStore: Not enough space to cache rdd_6239_20 in memory! (computed 2.2 MiB so far)\n",
      "24/12/02 02:34:20 WARN MemoryStore: Not enough space to cache rdd_6239_16 in memory! (computed 3.5 MiB so far)\n",
      "24/12/02 02:34:20 WARN MemoryStore: Not enough space to cache rdd_6239_22 in memory! (computed 3.5 MiB so far)\n",
      "24/12/02 02:34:20 WARN MemoryStore: Not enough space to cache rdd_6239_21 in memory! (computed 3.5 MiB so far)\n",
      "24/12/02 02:34:20 WARN MemoryStore: Not enough space to cache rdd_6239_15 in memory! (computed 18.6 MiB so far)\n",
      "24/12/02 02:34:21 WARN DAGScheduler: Broadcasting large task binary with size 1669.7 KiB\n",
      "24/12/02 02:34:22 WARN MemoryStore: Not enough space to cache rdd_6239_16 in memory! (computed 12.3 MiB so far)\n",
      "24/12/02 02:34:22 WARN MemoryStore: Not enough space to cache rdd_6239_20 in memory! (computed 1302.7 KiB so far)\n",
      "24/12/02 02:34:22 WARN MemoryStore: Not enough space to cache rdd_6239_13 in memory! (computed 12.3 MiB so far)\n",
      "24/12/02 02:34:22 WARN MemoryStore: Not enough space to cache rdd_6239_17 in memory! (computed 12.3 MiB so far)\n",
      "24/12/02 02:34:22 WARN MemoryStore: Not enough space to cache rdd_6239_22 in memory! (computed 2.2 MiB so far)\n",
      "24/12/02 02:34:22 WARN MemoryStore: Not enough space to cache rdd_6239_21 in memory! (computed 1302.7 KiB so far)\n",
      "24/12/02 02:34:22 WARN MemoryStore: Not enough space to cache rdd_6239_15 in memory! (computed 18.6 MiB so far)\n",
      "24/12/02 02:34:22 WARN MemoryStore: Not enough space to cache rdd_6239_19 in memory! (computed 5.3 MiB so far)\n",
      "24/12/02 02:34:22 WARN MemoryStore: Not enough space to cache rdd_6239_18 in memory! (computed 18.6 MiB so far)\n",
      "24/12/02 02:34:23 WARN DAGScheduler: Broadcasting large task binary with size 2.1 MiB\n",
      "24/12/02 02:34:24 WARN MemoryStore: Not enough space to cache rdd_6239_13 in memory! (computed 8.2 MiB so far)\n",
      "24/12/02 02:34:24 WARN MemoryStore: Not enough space to cache rdd_6239_17 in memory! (computed 8.2 MiB so far)\n",
      "24/12/02 02:34:24 WARN MemoryStore: Not enough space to cache rdd_6239_16 in memory! (computed 5.3 MiB so far)\n",
      "24/12/02 02:34:24 WARN MemoryStore: Not enough space to cache rdd_6239_22 in memory! (computed 5.3 MiB so far)\n",
      "24/12/02 02:34:24 WARN MemoryStore: Not enough space to cache rdd_6239_20 in memory! (computed 5.3 MiB so far)\n",
      "24/12/02 02:34:24 WARN MemoryStore: Not enough space to cache rdd_6239_19 in memory! (computed 12.3 MiB so far)\n",
      "24/12/02 02:34:24 WARN MemoryStore: Not enough space to cache rdd_6239_18 in memory! (computed 5.3 MiB so far)\n",
      "24/12/02 02:34:24 WARN MemoryStore: Not enough space to cache rdd_6239_21 in memory! (computed 8.2 MiB so far)\n",
      "24/12/02 02:34:24 WARN MemoryStore: Not enough space to cache rdd_6239_15 in memory! (computed 5.3 MiB so far)\n",
      "24/12/02 02:34:25 WARN DAGScheduler: Broadcasting large task binary with size 2.6 MiB\n",
      "24/12/02 02:34:26 WARN MemoryStore: Not enough space to cache rdd_6239_21 in memory! (computed 12.3 MiB so far)\n",
      "24/12/02 02:34:26 WARN MemoryStore: Not enough space to cache rdd_6239_19 in memory! (computed 5.3 MiB so far)\n",
      "24/12/02 02:34:26 WARN MemoryStore: Not enough space to cache rdd_6239_17 in memory! (computed 5.3 MiB so far)\n",
      "24/12/02 02:34:26 WARN MemoryStore: Not enough space to cache rdd_6239_15 in memory! (computed 5.3 MiB so far)\n",
      "24/12/02 02:34:26 WARN MemoryStore: Not enough space to cache rdd_6239_13 in memory! (computed 5.3 MiB so far)\n",
      "24/12/02 02:34:26 WARN MemoryStore: Not enough space to cache rdd_6239_18 in memory! (computed 12.3 MiB so far)\n",
      "24/12/02 02:34:26 WARN MemoryStore: Not enough space to cache rdd_6239_16 in memory! (computed 8.2 MiB so far)\n",
      "24/12/02 02:34:26 WARN MemoryStore: Not enough space to cache rdd_6239_20 in memory! (computed 5.3 MiB so far)\n",
      "24/12/02 02:34:26 WARN MemoryStore: Not enough space to cache rdd_6239_22 in memory! (computed 5.3 MiB so far)\n",
      "24/12/02 02:34:27 WARN DAGScheduler: Broadcasting large task binary with size 3.3 MiB\n",
      "24/12/02 02:34:28 WARN MemoryStore: Not enough space to cache rdd_6239_14 in memory! (computed 18.6 MiB so far)\n",
      "24/12/02 02:34:28 WARN MemoryStore: Not enough space to cache rdd_6239_22 in memory! (computed 5.3 MiB so far)\n",
      "24/12/02 02:34:28 WARN MemoryStore: Not enough space to cache rdd_6239_15 in memory! (computed 12.3 MiB so far)\n",
      "24/12/02 02:34:28 WARN MemoryStore: Not enough space to cache rdd_6239_13 in memory! (computed 12.3 MiB so far)\n",
      "24/12/02 02:34:28 WARN MemoryStore: Not enough space to cache rdd_6239_21 in memory! (computed 2.2 MiB so far)\n",
      "24/12/02 02:34:28 WARN MemoryStore: Not enough space to cache rdd_6239_18 in memory! (computed 8.2 MiB so far)\n",
      "24/12/02 02:34:28 WARN MemoryStore: Not enough space to cache rdd_6239_19 in memory! (computed 8.2 MiB so far)\n",
      "24/12/02 02:34:28 WARN MemoryStore: Not enough space to cache rdd_6239_20 in memory! (computed 12.3 MiB so far)\n",
      "24/12/02 02:34:29 WARN DAGScheduler: Broadcasting large task binary with size 4.1 MiB\n",
      "24/12/02 02:34:30 WARN MemoryStore: Not enough space to cache rdd_6239_3 in memory! (computed 28.1 MiB so far)\n",
      "24/12/02 02:34:31 WARN MemoryStore: Not enough space to cache rdd_6239_20 in memory! (computed 8.2 MiB so far)\n",
      "24/12/02 02:34:31 WARN MemoryStore: Not enough space to cache rdd_6239_19 in memory! (computed 12.3 MiB so far)\n",
      "24/12/02 02:34:31 WARN MemoryStore: Not enough space to cache rdd_6239_14 in memory! (computed 12.3 MiB so far)\n",
      "24/12/02 02:34:31 WARN MemoryStore: Not enough space to cache rdd_6239_18 in memory! (computed 18.6 MiB so far)\n",
      "24/12/02 02:34:31 WARN MemoryStore: Not enough space to cache rdd_6239_17 in memory! (computed 18.6 MiB so far)\n",
      "24/12/02 02:34:31 WARN MemoryStore: Not enough space to cache rdd_6239_16 in memory! (computed 18.6 MiB so far)\n",
      "24/12/02 02:34:31 WARN MemoryStore: Not enough space to cache rdd_6239_21 in memory! (computed 18.6 MiB so far)\n",
      "24/12/02 02:34:31 WARN MemoryStore: Not enough space to cache rdd_6239_12 in memory! (computed 12.3 MiB so far)\n",
      "24/12/02 02:34:31 WARN MemoryStore: Not enough space to cache rdd_6239_22 in memory! (computed 12.3 MiB so far)\n",
      "24/12/02 02:34:31 WARN MemoryStore: Not enough space to cache rdd_6239_15 in memory! (computed 28.1 MiB so far)\n",
      "24/12/02 02:34:33 WARN DAGScheduler: Broadcasting large task binary with size 2.3 MiB\n",
      "24/12/02 02:34:37 WARN MemoryStore: Not enough space to cache rdd_6330_18 in memory! (computed 3.5 MiB so far)\n",
      "24/12/02 02:34:37 WARN MemoryStore: Not enough space to cache rdd_6330_16 in memory! (computed 5.3 MiB so far)\n",
      "24/12/02 02:34:37 WARN MemoryStore: Not enough space to cache rdd_6330_21 in memory! (computed 3.5 MiB so far)\n",
      "24/12/02 02:34:37 WARN MemoryStore: Not enough space to cache rdd_6330_20 in memory! (computed 5.3 MiB so far)\n",
      "24/12/02 02:34:37 WARN MemoryStore: Not enough space to cache rdd_6330_22 in memory! (computed 3.5 MiB so far)\n",
      "24/12/02 02:34:37 WARN MemoryStore: Not enough space to cache rdd_6330_19 in memory! (computed 5.3 MiB so far)\n",
      "24/12/02 02:34:37 WARN MemoryStore: Not enough space to cache rdd_6330_17 in memory! (computed 3.5 MiB so far)\n",
      "24/12/02 02:34:37 WARN MemoryStore: Not enough space to cache rdd_6330_14 in memory! (computed 8.2 MiB so far)\n",
      "24/12/02 02:34:37 WARN MemoryStore: Not enough space to cache rdd_6330_15 in memory! (computed 5.3 MiB so far)\n",
      "24/12/02 02:34:37 WARN BlockManager: Persisting block rdd_6330_17 to disk instead.\n",
      "24/12/02 02:34:37 WARN BlockManager: Persisting block rdd_6330_20 to disk instead.\n",
      "24/12/02 02:34:37 WARN BlockManager: Persisting block rdd_6330_18 to disk instead.\n",
      "24/12/02 02:34:37 WARN BlockManager: Persisting block rdd_6330_19 to disk instead.\n",
      "24/12/02 02:34:37 WARN BlockManager: Persisting block rdd_6330_16 to disk instead.\n",
      "24/12/02 02:34:37 WARN BlockManager: Persisting block rdd_6330_15 to disk instead.\n",
      "24/12/02 02:34:37 WARN BlockManager: Persisting block rdd_6330_21 to disk instead.\n",
      "24/12/02 02:34:37 WARN BlockManager: Persisting block rdd_6330_22 to disk instead.\n",
      "24/12/02 02:34:37 WARN BlockManager: Persisting block rdd_6330_14 to disk instead.\n",
      "24/12/02 02:34:37 WARN MemoryStore: Not enough space to cache rdd_6330_15 in memory! (computed 5.3 MiB so far)\n",
      "24/12/02 02:34:37 WARN MemoryStore: Not enough space to cache rdd_6330_18 in memory! (computed 1302.7 KiB so far)\n",
      "24/12/02 02:34:37 WARN MemoryStore: Not enough space to cache rdd_6330_20 in memory! (computed 1302.7 KiB so far)\n",
      "24/12/02 02:34:37 WARN MemoryStore: Not enough space to cache rdd_6330_14 in memory! (computed 8.2 MiB so far)\n",
      "24/12/02 02:34:37 WARN MemoryStore: Not enough space to cache rdd_6330_17 in memory! (computed 12.3 MiB so far)\n",
      "24/12/02 02:34:37 WARN MemoryStore: Not enough space to cache rdd_6330_16 in memory! (computed 18.6 MiB so far)\n",
      "24/12/02 02:34:37 WARN MemoryStore: Not enough space to cache rdd_6330_21 in memory! (computed 2.2 MiB so far)\n",
      "24/12/02 02:34:37 WARN MemoryStore: Not enough space to cache rdd_6330_19 in memory! (computed 12.3 MiB so far)\n",
      "24/12/02 02:34:38 WARN MemoryStore: Not enough space to cache rdd_6330_16 in memory! (computed 3.5 MiB so far)\n",
      "24/12/02 02:34:38 WARN MemoryStore: Not enough space to cache rdd_6330_14 in memory! (computed 5.3 MiB so far)\n",
      "24/12/02 02:34:38 WARN MemoryStore: Not enough space to cache rdd_6330_17 in memory! (computed 2.2 MiB so far)\n",
      "24/12/02 02:34:38 WARN MemoryStore: Not enough space to cache rdd_6330_21 in memory! (computed 2.2 MiB so far)\n",
      "24/12/02 02:34:38 WARN MemoryStore: Not enough space to cache rdd_6330_19 in memory! (computed 2.2 MiB so far)\n",
      "24/12/02 02:34:38 WARN MemoryStore: Not enough space to cache rdd_6330_20 in memory! (computed 2.2 MiB so far)\n",
      "24/12/02 02:34:38 WARN MemoryStore: Not enough space to cache rdd_6330_15 in memory! (computed 8.2 MiB so far)\n",
      "24/12/02 02:34:38 WARN MemoryStore: Not enough space to cache rdd_6330_18 in memory! (computed 3.5 MiB so far)\n",
      "24/12/02 02:34:38 WARN MemoryStore: Not enough space to cache rdd_6330_21 in memory! (computed 3.5 MiB so far)\n",
      "24/12/02 02:34:38 WARN MemoryStore: Not enough space to cache rdd_6330_17 in memory! (computed 3.5 MiB so far)\n",
      "24/12/02 02:34:38 WARN MemoryStore: Not enough space to cache rdd_6330_20 in memory! (computed 3.5 MiB so far)\n",
      "24/12/02 02:34:38 WARN MemoryStore: Not enough space to cache rdd_6330_14 in memory! (computed 8.2 MiB so far)\n",
      "24/12/02 02:34:38 WARN MemoryStore: Not enough space to cache rdd_6330_16 in memory! (computed 2.2 MiB so far)\n",
      "24/12/02 02:34:38 WARN MemoryStore: Not enough space to cache rdd_6330_18 in memory! (computed 2.2 MiB so far)\n",
      "24/12/02 02:34:38 WARN MemoryStore: Not enough space to cache rdd_6330_19 in memory! (computed 3.5 MiB so far)\n",
      "24/12/02 02:34:38 WARN MemoryStore: Not enough space to cache rdd_6330_15 in memory! (computed 2.2 MiB so far)\n",
      "24/12/02 02:34:39 WARN DAGScheduler: Broadcasting large task binary with size 1104.0 KiB\n",
      "24/12/02 02:34:39 WARN MemoryStore: Not enough space to cache rdd_6330_21 in memory! (computed 3.5 MiB so far)\n",
      "24/12/02 02:34:39 WARN MemoryStore: Not enough space to cache rdd_6330_17 in memory! (computed 3.5 MiB so far)\n",
      "24/12/02 02:34:39 WARN MemoryStore: Not enough space to cache rdd_6330_16 in memory! (computed 3.5 MiB so far)\n",
      "24/12/02 02:34:39 WARN MemoryStore: Not enough space to cache rdd_6330_18 in memory! (computed 2.2 MiB so far)\n",
      "24/12/02 02:34:39 WARN MemoryStore: Not enough space to cache rdd_6330_20 in memory! (computed 5.3 MiB so far)\n",
      "24/12/02 02:34:39 WARN MemoryStore: Not enough space to cache rdd_6330_19 in memory! (computed 3.5 MiB so far)\n",
      "24/12/02 02:34:39 WARN MemoryStore: Not enough space to cache rdd_6330_15 in memory! (computed 3.5 MiB so far)\n",
      "24/12/02 02:34:39 WARN MemoryStore: Not enough space to cache rdd_6330_14 in memory! (computed 3.5 MiB so far)\n",
      "24/12/02 02:34:40 WARN DAGScheduler: Broadcasting large task binary with size 1341.9 KiB\n",
      "24/12/02 02:34:40 WARN MemoryStore: Not enough space to cache rdd_6330_21 in memory! (computed 3.5 MiB so far)\n",
      "24/12/02 02:34:40 WARN MemoryStore: Not enough space to cache rdd_6330_15 in memory! (computed 3.5 MiB so far)\n",
      "24/12/02 02:34:40 WARN MemoryStore: Not enough space to cache rdd_6330_19 in memory! (computed 5.3 MiB so far)\n",
      "24/12/02 02:34:40 WARN MemoryStore: Not enough space to cache rdd_6330_18 in memory! (computed 3.5 MiB so far)\n",
      "24/12/02 02:34:40 WARN MemoryStore: Not enough space to cache rdd_6330_17 in memory! (computed 3.5 MiB so far)\n",
      "24/12/02 02:34:40 WARN MemoryStore: Not enough space to cache rdd_6330_20 in memory! (computed 3.5 MiB so far)\n",
      "24/12/02 02:34:40 WARN MemoryStore: Not enough space to cache rdd_6330_16 in memory! (computed 3.5 MiB so far)\n",
      "24/12/02 02:34:40 WARN MemoryStore: Not enough space to cache rdd_6330_14 in memory! (computed 2.2 MiB so far)\n",
      "24/12/02 02:34:41 WARN DAGScheduler: Broadcasting large task binary with size 1670.0 KiB\n",
      "24/12/02 02:34:41 WARN MemoryStore: Not enough space to cache rdd_6330_13 in memory! (computed 12.3 MiB so far)\n",
      "24/12/02 02:34:42 WARN MemoryStore: Not enough space to cache rdd_6330_21 in memory! (computed 8.2 MiB so far)\n",
      "24/12/02 02:34:42 WARN MemoryStore: Not enough space to cache rdd_6330_17 in memory! (computed 5.3 MiB so far)\n",
      "24/12/02 02:34:42 WARN MemoryStore: Not enough space to cache rdd_6330_14 in memory! (computed 8.2 MiB so far)\n",
      "24/12/02 02:34:42 WARN MemoryStore: Not enough space to cache rdd_6330_20 in memory! (computed 8.2 MiB so far)\n",
      "24/12/02 02:34:42 WARN MemoryStore: Not enough space to cache rdd_6330_15 in memory! (computed 5.3 MiB so far)\n",
      "24/12/02 02:34:42 WARN MemoryStore: Not enough space to cache rdd_6330_18 in memory! (computed 5.3 MiB so far)\n",
      "24/12/02 02:34:42 WARN MemoryStore: Not enough space to cache rdd_6330_16 in memory! (computed 5.3 MiB so far)\n",
      "24/12/02 02:34:42 WARN MemoryStore: Not enough space to cache rdd_6330_19 in memory! (computed 18.6 MiB so far)\n",
      "24/12/02 02:34:42 WARN DAGScheduler: Broadcasting large task binary with size 2.1 MiB\n",
      "24/12/02 02:34:43 WARN MemoryStore: Not enough space to cache rdd_6330_18 in memory! (computed 8.2 MiB so far)\n",
      "24/12/02 02:34:43 WARN MemoryStore: Not enough space to cache rdd_6330_21 in memory! (computed 8.2 MiB so far)\n",
      "24/12/02 02:34:43 WARN MemoryStore: Not enough space to cache rdd_6330_13 in memory! (computed 8.2 MiB so far)\n",
      "24/12/02 02:34:43 WARN MemoryStore: Not enough space to cache rdd_6330_17 in memory! (computed 5.3 MiB so far)\n",
      "24/12/02 02:34:43 WARN MemoryStore: Not enough space to cache rdd_6330_14 in memory! (computed 8.2 MiB so far)\n",
      "24/12/02 02:34:43 WARN MemoryStore: Not enough space to cache rdd_6330_16 in memory! (computed 8.2 MiB so far)\n",
      "24/12/02 02:34:43 WARN MemoryStore: Not enough space to cache rdd_6330_19 in memory! (computed 8.2 MiB so far)\n",
      "24/12/02 02:34:43 WARN MemoryStore: Not enough space to cache rdd_6330_20 in memory! (computed 8.2 MiB so far)\n",
      "24/12/02 02:34:43 WARN MemoryStore: Not enough space to cache rdd_6330_15 in memory! (computed 12.3 MiB so far)\n",
      "24/12/02 02:34:44 WARN DAGScheduler: Broadcasting large task binary with size 2.6 MiB\n",
      "24/12/02 02:34:45 WARN MemoryStore: Not enough space to cache rdd_6330_19 in memory! (computed 8.2 MiB so far)\n",
      "24/12/02 02:34:45 WARN MemoryStore: Not enough space to cache rdd_6330_13 in memory! (computed 8.2 MiB so far)\n",
      "24/12/02 02:34:45 WARN MemoryStore: Not enough space to cache rdd_6330_18 in memory! (computed 8.2 MiB so far)\n",
      "24/12/02 02:34:45 WARN MemoryStore: Not enough space to cache rdd_6330_20 in memory! (computed 8.2 MiB so far)\n",
      "24/12/02 02:34:45 WARN MemoryStore: Not enough space to cache rdd_6330_17 in memory! (computed 8.2 MiB so far)\n",
      "24/12/02 02:34:45 WARN MemoryStore: Not enough space to cache rdd_6330_15 in memory! (computed 12.3 MiB so far)\n",
      "24/12/02 02:34:45 WARN MemoryStore: Not enough space to cache rdd_6330_21 in memory! (computed 8.2 MiB so far)\n",
      "24/12/02 02:34:45 WARN MemoryStore: Not enough space to cache rdd_6330_16 in memory! (computed 8.2 MiB so far)\n",
      "24/12/02 02:34:45 WARN MemoryStore: Not enough space to cache rdd_6330_14 in memory! (computed 8.2 MiB so far)\n",
      "24/12/02 02:34:46 WARN DAGScheduler: Broadcasting large task binary with size 3.3 MiB\n",
      "24/12/02 02:34:47 WARN MemoryStore: Not enough space to cache rdd_6330_20 in memory! (computed 18.6 MiB so far)\n",
      "24/12/02 02:34:47 WARN MemoryStore: Not enough space to cache rdd_6330_17 in memory! (computed 18.6 MiB so far)\n",
      "24/12/02 02:34:47 WARN MemoryStore: Not enough space to cache rdd_6330_14 in memory! (computed 18.6 MiB so far)\n",
      "24/12/02 02:34:47 WARN MemoryStore: Not enough space to cache rdd_6330_19 in memory! (computed 8.2 MiB so far)\n",
      "24/12/02 02:34:47 WARN MemoryStore: Not enough space to cache rdd_6330_15 in memory! (computed 18.6 MiB so far)\n",
      "24/12/02 02:34:47 WARN MemoryStore: Not enough space to cache rdd_6330_22 in memory! (computed 5.3 MiB so far)\n",
      "24/12/02 02:34:47 WARN MemoryStore: Not enough space to cache rdd_6330_13 in memory! (computed 8.2 MiB so far)\n",
      "24/12/02 02:34:47 WARN MemoryStore: Not enough space to cache rdd_6330_18 in memory! (computed 28.1 MiB so far)\n",
      "24/12/02 02:34:49 WARN DAGScheduler: Broadcasting large task binary with size 4.1 MiB\n",
      "24/12/02 02:34:49 WARN MemoryStore: Not enough space to cache rdd_6330_5 in memory! (computed 28.1 MiB so far)\n",
      "24/12/02 02:34:50 WARN MemoryStore: Not enough space to cache rdd_6330_17 in memory! (computed 18.6 MiB so far)\n",
      "24/12/02 02:34:50 WARN MemoryStore: Not enough space to cache rdd_6330_12 in memory! (computed 12.3 MiB so far)\n",
      "24/12/02 02:34:50 WARN MemoryStore: Not enough space to cache rdd_6330_14 in memory! (computed 12.3 MiB so far)\n",
      "24/12/02 02:34:50 WARN MemoryStore: Not enough space to cache rdd_6330_18 in memory! (computed 18.6 MiB so far)\n",
      "24/12/02 02:34:50 WARN MemoryStore: Not enough space to cache rdd_6330_21 in memory! (computed 1302.7 KiB so far)\n",
      "24/12/02 02:34:50 WARN MemoryStore: Not enough space to cache rdd_6330_19 in memory! (computed 1302.7 KiB so far)\n",
      "24/12/02 02:34:50 WARN MemoryStore: Not enough space to cache rdd_6330_22 in memory! (computed 1302.7 KiB so far)\n",
      "24/12/02 02:34:50 WARN MemoryStore: Not enough space to cache rdd_6330_15 in memory! (computed 28.1 MiB so far)\n",
      "24/12/02 02:34:50 WARN MemoryStore: Not enough space to cache rdd_6330_20 in memory! (computed 28.1 MiB so far)\n",
      "24/12/02 02:34:52 WARN DAGScheduler: Broadcasting large task binary with size 2.3 MiB\n",
      "24/12/02 02:34:58 WARN MemoryStore: Not enough space to cache rdd_6431_13 in memory! (computed 8.1 MiB so far)\n",
      "24/12/02 02:34:58 WARN MemoryStore: Not enough space to cache rdd_6431_20 in memory! (computed 1290.0 KiB so far)\n",
      "24/12/02 02:34:58 WARN MemoryStore: Not enough space to cache rdd_6431_19 in memory! (computed 1290.0 KiB so far)\n",
      "24/12/02 02:34:58 WARN MemoryStore: Not enough space to cache rdd_6431_17 in memory! (computed 12.2 MiB so far)\n",
      "24/12/02 02:34:58 WARN MemoryStore: Not enough space to cache rdd_6431_14 in memory! (computed 12.2 MiB so far)\n",
      "24/12/02 02:34:58 WARN MemoryStore: Not enough space to cache rdd_6431_18 in memory! (computed 1290.0 KiB so far)\n",
      "24/12/02 02:34:58 WARN BlockManager: Persisting block rdd_6431_18 to disk instead.\n",
      "24/12/02 02:34:58 WARN BlockManager: Persisting block rdd_6431_19 to disk instead.\n",
      "24/12/02 02:34:58 WARN BlockManager: Persisting block rdd_6431_17 to disk instead.\n",
      "24/12/02 02:34:58 WARN BlockManager: Persisting block rdd_6431_13 to disk instead.\n",
      "24/12/02 02:34:58 WARN BlockManager: Persisting block rdd_6431_20 to disk instead.\n",
      "24/12/02 02:34:58 WARN BlockManager: Persisting block rdd_6431_14 to disk instead.\n",
      "24/12/02 02:34:58 WARN MemoryStore: Not enough space to cache rdd_6431_16 in memory! (computed 18.4 MiB so far)\n",
      "24/12/02 02:34:58 WARN MemoryStore: Not enough space to cache rdd_6431_22 in memory! (computed 3.4 MiB so far)\n",
      "24/12/02 02:34:58 WARN BlockManager: Persisting block rdd_6431_22 to disk instead.\n",
      "24/12/02 02:34:58 WARN MemoryStore: Not enough space to cache rdd_6431_21 in memory! (computed 8.1 MiB so far)\n",
      "24/12/02 02:34:58 WARN BlockManager: Persisting block rdd_6431_16 to disk instead.\n",
      "24/12/02 02:34:58 WARN BlockManager: Persisting block rdd_6431_21 to disk instead.\n",
      "24/12/02 02:34:58 WARN MemoryStore: Not enough space to cache rdd_6431_15 in memory! (computed 27.8 MiB so far)\n",
      "24/12/02 02:34:58 WARN BlockManager: Persisting block rdd_6431_15 to disk instead.\n",
      "24/12/02 02:34:59 WARN MemoryStore: Not enough space to cache rdd_6431_15 in memory! (computed 27.8 MiB so far)\n",
      "24/12/02 02:34:59 WARN MemoryStore: Not enough space to cache rdd_6431_19 in memory! (computed 2.2 MiB so far)\n",
      "24/12/02 02:34:59 WARN MemoryStore: Not enough space to cache rdd_6431_13 in memory! (computed 8.1 MiB so far)\n",
      "24/12/02 02:34:59 WARN MemoryStore: Not enough space to cache rdd_6431_17 in memory! (computed 18.4 MiB so far)\n",
      "24/12/02 02:34:59 WARN MemoryStore: Not enough space to cache rdd_6431_20 in memory! (computed 2.2 MiB so far)\n",
      "24/12/02 02:34:59 WARN MemoryStore: Not enough space to cache rdd_6431_18 in memory! (computed 2.2 MiB so far)\n",
      "24/12/02 02:34:59 WARN MemoryStore: Not enough space to cache rdd_6431_21 in memory! (computed 5.3 MiB so far)\n",
      "24/12/02 02:34:59 WARN MemoryStore: Not enough space to cache rdd_6431_13 in memory! (computed 1290.0 KiB so far)\n",
      "24/12/02 02:34:59 WARN MemoryStore: Failed to reserve initial memory threshold of 1024.0 KiB for computing block rdd_6431_21 in memory.\n",
      "24/12/02 02:34:59 WARN MemoryStore: Not enough space to cache rdd_6431_2 in memory! (computed 27.8 MiB so far)\n",
      "24/12/02 02:34:59 WARN MemoryStore: Failed to reserve initial memory threshold of 1024.0 KiB for computing block rdd_6431_20 in memory.\n",
      "24/12/02 02:34:59 WARN MemoryStore: Failed to reserve initial memory threshold of 1024.0 KiB for computing block rdd_6431_19 in memory.\n",
      "24/12/02 02:34:59 WARN MemoryStore: Not enough space to cache rdd_6431_17 in memory! (computed 1290.0 KiB so far)\n",
      "24/12/02 02:34:59 WARN MemoryStore: Not enough space to cache rdd_6431_15 in memory! (computed 1290.0 KiB so far)\n",
      "24/12/02 02:34:59 WARN MemoryStore: Not enough space to cache rdd_6431_21 in memory! (computed 384.0 B so far)\n",
      "24/12/02 02:34:59 WARN MemoryStore: Failed to reserve initial memory threshold of 1024.0 KiB for computing block rdd_6431_18 in memory.\n",
      "24/12/02 02:34:59 WARN MemoryStore: Not enough space to cache rdd_6431_18 in memory! (computed 384.0 B so far)\n",
      "24/12/02 02:34:59 WARN MemoryStore: Not enough space to cache rdd_6431_20 in memory! (computed 384.0 B so far)\n",
      "24/12/02 02:34:59 WARN MemoryStore: Not enough space to cache rdd_6431_19 in memory! (computed 384.0 B so far)\n",
      "24/12/02 02:35:00 WARN MemoryStore: Not enough space to cache rdd_6431_18 in memory! (computed 2.2 MiB so far)\n",
      "24/12/02 02:35:00 WARN MemoryStore: Not enough space to cache rdd_6431_17 in memory! (computed 3.4 MiB so far)\n",
      "24/12/02 02:35:00 WARN MemoryStore: Not enough space to cache rdd_6431_2 in memory! (computed 18.4 MiB so far)\n",
      "24/12/02 02:35:00 WARN MemoryStore: Not enough space to cache rdd_6431_13 in memory! (computed 3.4 MiB so far)\n",
      "24/12/02 02:35:00 WARN MemoryStore: Not enough space to cache rdd_6431_15 in memory! (computed 3.4 MiB so far)\n",
      "24/12/02 02:35:00 WARN MemoryStore: Not enough space to cache rdd_6431_20 in memory! (computed 2.2 MiB so far)\n",
      "24/12/02 02:35:00 WARN MemoryStore: Not enough space to cache rdd_6431_21 in memory! (computed 12.2 MiB so far)\n",
      "24/12/02 02:35:00 WARN MemoryStore: Not enough space to cache rdd_6431_19 in memory! (computed 18.4 MiB so far)\n",
      "24/12/02 02:35:01 WARN MemoryStore: Not enough space to cache rdd_6431_2 in memory! (computed 27.8 MiB so far)\n",
      "24/12/02 02:35:01 WARN MemoryStore: Not enough space to cache rdd_6431_21 in memory! (computed 5.3 MiB so far)\n",
      "24/12/02 02:35:01 WARN MemoryStore: Not enough space to cache rdd_6431_17 in memory! (computed 5.3 MiB so far)\n",
      "24/12/02 02:35:01 WARN MemoryStore: Not enough space to cache rdd_6431_18 in memory! (computed 3.4 MiB so far)\n",
      "24/12/02 02:35:01 WARN MemoryStore: Not enough space to cache rdd_6431_15 in memory! (computed 3.4 MiB so far)\n",
      "24/12/02 02:35:01 WARN MemoryStore: Not enough space to cache rdd_6431_13 in memory! (computed 5.3 MiB so far)\n",
      "24/12/02 02:35:01 WARN MemoryStore: Not enough space to cache rdd_6431_20 in memory! (computed 3.4 MiB so far)\n",
      "24/12/02 02:35:01 WARN MemoryStore: Not enough space to cache rdd_6431_19 in memory! (computed 5.3 MiB so far)\n",
      "24/12/02 02:35:01 WARN DAGScheduler: Broadcasting large task binary with size 1039.6 KiB\n",
      "24/12/02 02:35:02 WARN MemoryStore: Not enough space to cache rdd_6431_2 in memory! (computed 27.8 MiB so far)\n",
      "24/12/02 02:35:02 WARN MemoryStore: Not enough space to cache rdd_6431_13 in memory! (computed 3.4 MiB so far)\n",
      "24/12/02 02:35:02 WARN MemoryStore: Not enough space to cache rdd_6431_21 in memory! (computed 5.3 MiB so far)\n",
      "24/12/02 02:35:02 WARN MemoryStore: Not enough space to cache rdd_6431_18 in memory! (computed 5.3 MiB so far)\n",
      "24/12/02 02:35:02 WARN MemoryStore: Not enough space to cache rdd_6431_19 in memory! (computed 5.3 MiB so far)\n",
      "24/12/02 02:35:02 WARN MemoryStore: Not enough space to cache rdd_6431_15 in memory! (computed 5.3 MiB so far)\n",
      "24/12/02 02:35:02 WARN MemoryStore: Not enough space to cache rdd_6431_20 in memory! (computed 2.2 MiB so far)\n",
      "24/12/02 02:35:08 WARN MemoryStore: Not enough space to cache rdd_6517_21 in memory! (computed 8.1 MiB so far)\n",
      "24/12/02 02:35:08 WARN MemoryStore: Not enough space to cache rdd_6517_15 in memory! (computed 5.3 MiB so far)\n",
      "24/12/02 02:35:08 WARN MemoryStore: Not enough space to cache rdd_6517_13 in memory! (computed 3.4 MiB so far)\n",
      "24/12/02 02:35:08 WARN MemoryStore: Not enough space to cache rdd_6517_22 in memory! (computed 8.1 MiB so far)\n",
      "24/12/02 02:35:08 WARN MemoryStore: Not enough space to cache rdd_6517_16 in memory! (computed 5.3 MiB so far)\n",
      "24/12/02 02:35:08 WARN MemoryStore: Not enough space to cache rdd_6517_14 in memory! (computed 8.1 MiB so far)\n",
      "24/12/02 02:35:08 WARN MemoryStore: Not enough space to cache rdd_6517_18 in memory! (computed 8.1 MiB so far)\n",
      "24/12/02 02:35:08 WARN MemoryStore: Not enough space to cache rdd_6517_17 in memory! (computed 8.1 MiB so far)\n",
      "24/12/02 02:35:08 WARN MemoryStore: Not enough space to cache rdd_6517_20 in memory! (computed 5.3 MiB so far)\n",
      "24/12/02 02:35:08 WARN MemoryStore: Not enough space to cache rdd_6517_19 in memory! (computed 5.3 MiB so far)\n",
      "24/12/02 02:35:08 WARN BlockManager: Persisting block rdd_6517_22 to disk instead.\n",
      "24/12/02 02:35:08 WARN BlockManager: Persisting block rdd_6517_16 to disk instead.\n",
      "24/12/02 02:35:08 WARN BlockManager: Persisting block rdd_6517_21 to disk instead.\n",
      "24/12/02 02:35:08 WARN BlockManager: Persisting block rdd_6517_14 to disk instead.\n",
      "24/12/02 02:35:08 WARN BlockManager: Persisting block rdd_6517_18 to disk instead.\n",
      "24/12/02 02:35:08 WARN BlockManager: Persisting block rdd_6517_13 to disk instead.\n",
      "24/12/02 02:35:08 WARN BlockManager: Persisting block rdd_6517_15 to disk instead.\n",
      "24/12/02 02:35:08 WARN BlockManager: Persisting block rdd_6517_19 to disk instead.\n",
      "24/12/02 02:35:08 WARN BlockManager: Persisting block rdd_6517_20 to disk instead.\n",
      "24/12/02 02:35:08 WARN BlockManager: Persisting block rdd_6517_17 to disk instead.\n",
      "24/12/02 02:35:08 WARN MemoryStore: Not enough space to cache rdd_6517_16 in memory! (computed 12.2 MiB so far)\n",
      "24/12/02 02:35:08 WARN MemoryStore: Not enough space to cache rdd_6517_22 in memory! (computed 1290.0 KiB so far)\n",
      "24/12/02 02:35:08 WARN MemoryStore: Not enough space to cache rdd_6517_21 in memory! (computed 12.2 MiB so far)\n",
      "24/12/02 02:35:08 WARN MemoryStore: Not enough space to cache rdd_6517_15 in memory! (computed 1290.0 KiB so far)\n",
      "24/12/02 02:35:08 WARN MemoryStore: Not enough space to cache rdd_6517_18 in memory! (computed 2.2 MiB so far)\n",
      "24/12/02 02:35:08 WARN MemoryStore: Not enough space to cache rdd_6517_13 in memory! (computed 8.1 MiB so far)\n",
      "24/12/02 02:35:08 WARN MemoryStore: Not enough space to cache rdd_6517_20 in memory! (computed 2.2 MiB so far)\n",
      "24/12/02 02:35:08 WARN MemoryStore: Not enough space to cache rdd_6517_19 in memory! (computed 5.3 MiB so far)\n",
      "24/12/02 02:35:08 WARN MemoryStore: Not enough space to cache rdd_6517_17 in memory! (computed 18.4 MiB so far)\n",
      "24/12/02 02:35:08 WARN MemoryStore: Not enough space to cache rdd_6517_17 in memory! (computed 5.3 MiB so far)\n",
      "24/12/02 02:35:08 WARN MemoryStore: Not enough space to cache rdd_6517_18 in memory! (computed 8.1 MiB so far)\n",
      "24/12/02 02:35:08 WARN MemoryStore: Not enough space to cache rdd_6517_21 in memory! (computed 5.3 MiB so far)\n",
      "24/12/02 02:35:08 WARN MemoryStore: Not enough space to cache rdd_6517_22 in memory! (computed 5.3 MiB so far)\n",
      "24/12/02 02:35:08 WARN MemoryStore: Not enough space to cache rdd_6517_20 in memory! (computed 8.1 MiB so far)\n",
      "24/12/02 02:35:08 WARN MemoryStore: Not enough space to cache rdd_6517_16 in memory! (computed 5.3 MiB so far)\n",
      "24/12/02 02:35:08 WARN MemoryStore: Not enough space to cache rdd_6517_13 in memory! (computed 5.3 MiB so far)\n",
      "24/12/02 02:35:08 WARN MemoryStore: Not enough space to cache rdd_6517_19 in memory! (computed 8.1 MiB so far)\n",
      "24/12/02 02:35:08 WARN MemoryStore: Not enough space to cache rdd_6517_15 in memory! (computed 12.2 MiB so far)\n",
      "24/12/02 02:35:09 WARN MemoryStore: Not enough space to cache rdd_6517_22 in memory! (computed 8.1 MiB so far)\n",
      "24/12/02 02:35:09 WARN MemoryStore: Not enough space to cache rdd_6517_15 in memory! (computed 8.1 MiB so far)\n",
      "24/12/02 02:35:09 WARN MemoryStore: Not enough space to cache rdd_6517_20 in memory! (computed 3.4 MiB so far)\n",
      "24/12/02 02:35:09 WARN MemoryStore: Not enough space to cache rdd_6517_18 in memory! (computed 12.2 MiB so far)\n",
      "24/12/02 02:35:09 WARN MemoryStore: Not enough space to cache rdd_6517_21 in memory! (computed 8.1 MiB so far)\n",
      "24/12/02 02:35:09 WARN MemoryStore: Not enough space to cache rdd_6517_13 in memory! (computed 5.3 MiB so far)\n",
      "24/12/02 02:35:09 WARN MemoryStore: Not enough space to cache rdd_6517_16 in memory! (computed 8.1 MiB so far)\n",
      "24/12/02 02:35:09 WARN MemoryStore: Not enough space to cache rdd_6517_17 in memory! (computed 8.1 MiB so far)\n",
      "24/12/02 02:35:09 WARN MemoryStore: Not enough space to cache rdd_6517_19 in memory! (computed 3.4 MiB so far)\n",
      "24/12/02 02:35:10 WARN MemoryStore: Not enough space to cache rdd_6517_16 in memory! (computed 8.1 MiB so far)\n",
      "24/12/02 02:35:10 WARN MemoryStore: Not enough space to cache rdd_6517_18 in memory! (computed 5.3 MiB so far)\n",
      "24/12/02 02:35:10 WARN MemoryStore: Not enough space to cache rdd_6517_17 in memory! (computed 18.4 MiB so far)\n",
      "24/12/02 02:35:10 WARN MemoryStore: Not enough space to cache rdd_6517_13 in memory! (computed 18.4 MiB so far)\n",
      "24/12/02 02:35:10 WARN MemoryStore: Not enough space to cache rdd_6517_15 in memory! (computed 12.2 MiB so far)\n",
      "24/12/02 02:35:10 WARN MemoryStore: Not enough space to cache rdd_6517_19 in memory! (computed 12.2 MiB so far)\n",
      "24/12/02 02:35:10 WARN MemoryStore: Not enough space to cache rdd_6517_22 in memory! (computed 12.2 MiB so far)\n",
      "24/12/02 02:35:10 WARN MemoryStore: Not enough space to cache rdd_6517_21 in memory! (computed 18.4 MiB so far)\n",
      "24/12/02 02:35:10 WARN MemoryStore: Not enough space to cache rdd_6517_20 in memory! (computed 18.4 MiB so far)\n",
      "24/12/02 02:35:10 WARN DAGScheduler: Broadcasting large task binary with size 1039.9 KiB\n",
      "24/12/02 02:35:11 WARN MemoryStore: Not enough space to cache rdd_6517_17 in memory! (computed 8.1 MiB so far)\n",
      "24/12/02 02:35:11 WARN MemoryStore: Not enough space to cache rdd_6517_20 in memory! (computed 5.3 MiB so far)\n",
      "24/12/02 02:35:11 WARN MemoryStore: Not enough space to cache rdd_6517_21 in memory! (computed 12.2 MiB so far)\n",
      "24/12/02 02:35:11 WARN MemoryStore: Not enough space to cache rdd_6517_18 in memory! (computed 5.3 MiB so far)\n",
      "24/12/02 02:35:11 WARN MemoryStore: Not enough space to cache rdd_6517_13 in memory! (computed 8.1 MiB so far)\n",
      "24/12/02 02:35:11 WARN MemoryStore: Not enough space to cache rdd_6517_16 in memory! (computed 12.2 MiB so far)\n",
      "24/12/02 02:35:11 WARN MemoryStore: Not enough space to cache rdd_6517_19 in memory! (computed 8.1 MiB so far)\n",
      "24/12/02 02:35:11 WARN MemoryStore: Not enough space to cache rdd_6517_15 in memory! (computed 5.3 MiB so far)\n",
      "24/12/02 02:35:15 WARN MemoryStore: Not enough space to cache rdd_6593_15 in memory! (computed 2.2 MiB so far)\n",
      "24/12/02 02:35:15 WARN MemoryStore: Not enough space to cache rdd_6593_21 in memory! (computed 8.2 MiB so far)\n",
      "24/12/02 02:35:15 WARN MemoryStore: Not enough space to cache rdd_6593_14 in memory! (computed 12.3 MiB so far)\n",
      "24/12/02 02:35:15 WARN MemoryStore: Not enough space to cache rdd_6593_19 in memory! (computed 5.3 MiB so far)\n",
      "24/12/02 02:35:15 WARN MemoryStore: Not enough space to cache rdd_6593_16 in memory! (computed 2.2 MiB so far)\n",
      "24/12/02 02:35:15 WARN MemoryStore: Not enough space to cache rdd_6593_17 in memory! (computed 5.3 MiB so far)\n",
      "24/12/02 02:35:15 WARN MemoryStore: Not enough space to cache rdd_6593_13 in memory! (computed 12.3 MiB so far)\n",
      "24/12/02 02:35:15 WARN MemoryStore: Not enough space to cache rdd_6593_22 in memory! (computed 8.2 MiB so far)\n",
      "24/12/02 02:35:15 WARN MemoryStore: Not enough space to cache rdd_6593_20 in memory! (computed 3.5 MiB so far)\n",
      "24/12/02 02:35:15 WARN MemoryStore: Not enough space to cache rdd_6593_18 in memory! (computed 3.5 MiB so far)\n",
      "24/12/02 02:35:15 WARN BlockManager: Persisting block rdd_6593_20 to disk instead.\n",
      "24/12/02 02:35:15 WARN BlockManager: Persisting block rdd_6593_17 to disk instead.\n",
      "24/12/02 02:35:15 WARN BlockManager: Persisting block rdd_6593_22 to disk instead.\n",
      "24/12/02 02:35:15 WARN BlockManager: Persisting block rdd_6593_13 to disk instead.\n",
      "24/12/02 02:35:15 WARN BlockManager: Persisting block rdd_6593_14 to disk instead.\n",
      "24/12/02 02:35:15 WARN BlockManager: Persisting block rdd_6593_19 to disk instead.\n",
      "24/12/02 02:35:15 WARN BlockManager: Persisting block rdd_6593_21 to disk instead.\n",
      "24/12/02 02:35:15 WARN BlockManager: Persisting block rdd_6593_15 to disk instead.\n",
      "24/12/02 02:35:15 WARN BlockManager: Persisting block rdd_6593_18 to disk instead.\n",
      "24/12/02 02:35:15 WARN BlockManager: Persisting block rdd_6593_16 to disk instead.\n",
      "24/12/02 02:35:15 WARN MemoryStore: Not enough space to cache rdd_6593_22 in memory! (computed 3.5 MiB so far)\n",
      "24/12/02 02:35:15 WARN MemoryStore: Failed to reserve initial memory threshold of 1024.0 KiB for computing block rdd_6593_20 in memory.\n",
      "24/12/02 02:35:15 WARN MemoryStore: Not enough space to cache rdd_6593_15 in memory! (computed 8.2 MiB so far)\n",
      "24/12/02 02:35:15 WARN MemoryStore: Not enough space to cache rdd_6593_16 in memory! (computed 3.5 MiB so far)\n",
      "24/12/02 02:35:15 WARN MemoryStore: Failed to reserve initial memory threshold of 1024.0 KiB for computing block rdd_6593_18 in memory.\n",
      "24/12/02 02:35:15 WARN MemoryStore: Not enough space to cache rdd_6593_17 in memory! (computed 3.5 MiB so far)\n",
      "24/12/02 02:35:15 WARN MemoryStore: Not enough space to cache rdd_6593_13 in memory! (computed 12.3 MiB so far)\n",
      "24/12/02 02:35:15 WARN MemoryStore: Not enough space to cache rdd_6593_20 in memory! (computed 384.0 B so far)\n",
      "24/12/02 02:35:15 WARN MemoryStore: Not enough space to cache rdd_6593_18 in memory! (computed 384.0 B so far)\n",
      "24/12/02 02:35:15 WARN MemoryStore: Not enough space to cache rdd_6593_21 in memory! (computed 18.6 MiB so far)\n",
      "24/12/02 02:35:15 WARN MemoryStore: Not enough space to cache rdd_6593_14 in memory! (computed 18.6 MiB so far)\n",
      "24/12/02 02:35:15 WARN MemoryStore: Not enough space to cache rdd_6593_19 in memory! (computed 18.6 MiB so far)\n",
      "24/12/02 02:35:16 WARN MemoryStore: Not enough space to cache rdd_6593_21 in memory! (computed 3.5 MiB so far)\n",
      "24/12/02 02:35:16 WARN MemoryStore: Not enough space to cache rdd_6593_20 in memory! (computed 3.5 MiB so far)\n",
      "24/12/02 02:35:16 WARN MemoryStore: Not enough space to cache rdd_6593_14 in memory! (computed 12.3 MiB so far)\n",
      "24/12/02 02:35:16 WARN MemoryStore: Not enough space to cache rdd_6593_17 in memory! (computed 3.5 MiB so far)\n",
      "24/12/02 02:35:16 WARN MemoryStore: Not enough space to cache rdd_6593_22 in memory! (computed 3.5 MiB so far)\n",
      "24/12/02 02:35:16 WARN MemoryStore: Not enough space to cache rdd_6593_19 in memory! (computed 2.2 MiB so far)\n",
      "24/12/02 02:35:16 WARN MemoryStore: Not enough space to cache rdd_6593_18 in memory! (computed 2.2 MiB so far)\n",
      "24/12/02 02:35:16 WARN MemoryStore: Not enough space to cache rdd_6593_15 in memory! (computed 18.6 MiB so far)\n",
      "24/12/02 02:35:16 WARN MemoryStore: Not enough space to cache rdd_6593_13 in memory! (computed 18.6 MiB so far)\n",
      "24/12/02 02:35:16 WARN MemoryStore: Not enough space to cache rdd_6593_16 in memory! (computed 18.6 MiB so far)\n",
      "24/12/02 02:35:16 WARN MemoryStore: Not enough space to cache rdd_6593_17 in memory! (computed 8.2 MiB so far)\n",
      "24/12/02 02:35:16 WARN MemoryStore: Not enough space to cache rdd_6593_16 in memory! (computed 8.2 MiB so far)\n",
      "24/12/02 02:35:16 WARN MemoryStore: Not enough space to cache rdd_6593_18 in memory! (computed 8.2 MiB so far)\n",
      "24/12/02 02:35:16 WARN MemoryStore: Not enough space to cache rdd_6593_19 in memory! (computed 5.3 MiB so far)\n",
      "24/12/02 02:35:16 WARN MemoryStore: Not enough space to cache rdd_6593_14 in memory! (computed 12.3 MiB so far)\n",
      "24/12/02 02:35:16 WARN MemoryStore: Not enough space to cache rdd_6593_20 in memory! (computed 8.2 MiB so far)\n",
      "24/12/02 02:35:16 WARN MemoryStore: Not enough space to cache rdd_6593_21 in memory! (computed 8.2 MiB so far)\n",
      "24/12/02 02:35:16 WARN MemoryStore: Not enough space to cache rdd_6593_13 in memory! (computed 12.3 MiB so far)\n",
      "24/12/02 02:35:16 WARN MemoryStore: Not enough space to cache rdd_6593_22 in memory! (computed 3.5 MiB so far)\n",
      "24/12/02 02:35:16 WARN MemoryStore: Not enough space to cache rdd_6593_15 in memory! (computed 12.3 MiB so far)\n",
      "24/12/02 02:35:17 WARN DAGScheduler: Broadcasting large task binary with size 1104.0 KiB\n",
      "24/12/02 02:35:17 WARN MemoryStore: Not enough space to cache rdd_6593_20 in memory! (computed 8.2 MiB so far)\n",
      "24/12/02 02:35:17 WARN MemoryStore: Not enough space to cache rdd_6593_18 in memory! (computed 8.2 MiB so far)\n",
      "24/12/02 02:35:17 WARN MemoryStore: Not enough space to cache rdd_6593_22 in memory! (computed 8.2 MiB so far)\n",
      "24/12/02 02:35:17 WARN MemoryStore: Not enough space to cache rdd_6593_14 in memory! (computed 5.3 MiB so far)\n",
      "24/12/02 02:35:17 WARN MemoryStore: Not enough space to cache rdd_6593_19 in memory! (computed 12.3 MiB so far)\n",
      "24/12/02 02:35:17 WARN MemoryStore: Not enough space to cache rdd_6593_16 in memory! (computed 12.3 MiB so far)\n",
      "24/12/02 02:35:17 WARN MemoryStore: Not enough space to cache rdd_6593_21 in memory! (computed 8.2 MiB so far)\n",
      "24/12/02 02:35:17 WARN MemoryStore: Not enough space to cache rdd_6593_13 in memory! (computed 8.2 MiB so far)\n",
      "24/12/02 02:35:17 WARN MemoryStore: Not enough space to cache rdd_6593_17 in memory! (computed 8.2 MiB so far)\n",
      "24/12/02 02:35:17 WARN MemoryStore: Not enough space to cache rdd_6593_15 in memory! (computed 8.2 MiB so far)\n",
      "24/12/02 02:35:18 WARN DAGScheduler: Broadcasting large task binary with size 1340.4 KiB\n",
      "24/12/02 02:35:18 WARN MemoryStore: Not enough space to cache rdd_6593_14 in memory! (computed 8.2 MiB so far)\n",
      "24/12/02 02:35:18 WARN MemoryStore: Not enough space to cache rdd_6593_22 in memory! (computed 5.3 MiB so far)\n",
      "24/12/02 02:35:18 WARN MemoryStore: Not enough space to cache rdd_6593_15 in memory! (computed 12.3 MiB so far)\n",
      "24/12/02 02:35:18 WARN MemoryStore: Not enough space to cache rdd_6593_18 in memory! (computed 8.2 MiB so far)\n",
      "24/12/02 02:35:18 WARN MemoryStore: Not enough space to cache rdd_6593_21 in memory! (computed 5.3 MiB so far)\n",
      "24/12/02 02:35:18 WARN MemoryStore: Not enough space to cache rdd_6593_16 in memory! (computed 12.3 MiB so far)\n",
      "24/12/02 02:35:18 WARN MemoryStore: Not enough space to cache rdd_6593_13 in memory! (computed 12.3 MiB so far)\n",
      "24/12/02 02:35:18 WARN MemoryStore: Not enough space to cache rdd_6593_17 in memory! (computed 12.3 MiB so far)\n",
      "24/12/02 02:35:18 WARN MemoryStore: Not enough space to cache rdd_6593_19 in memory! (computed 5.3 MiB so far)\n",
      "24/12/02 02:35:18 WARN MemoryStore: Not enough space to cache rdd_6593_20 in memory! (computed 5.3 MiB so far)\n",
      "24/12/02 02:35:19 WARN DAGScheduler: Broadcasting large task binary with size 1059.4 KiB\n",
      "24/12/02 02:35:23 WARN MemoryStore: Not enough space to cache rdd_6669_17 in memory! (computed 8.2 MiB so far)\n",
      "24/12/02 02:35:23 WARN MemoryStore: Not enough space to cache rdd_6669_18 in memory! (computed 5.3 MiB so far)\n",
      "24/12/02 02:35:23 WARN MemoryStore: Not enough space to cache rdd_6669_21 in memory! (computed 8.2 MiB so far)\n",
      "24/12/02 02:35:23 WARN MemoryStore: Not enough space to cache rdd_6669_14 in memory! (computed 8.2 MiB so far)\n",
      "24/12/02 02:35:23 WARN MemoryStore: Not enough space to cache rdd_6669_22 in memory! (computed 8.2 MiB so far)\n",
      "24/12/02 02:35:23 WARN MemoryStore: Not enough space to cache rdd_6669_15 in memory! (computed 3.5 MiB so far)\n",
      "24/12/02 02:35:23 WARN MemoryStore: Not enough space to cache rdd_6669_16 in memory! (computed 3.5 MiB so far)\n",
      "24/12/02 02:35:23 WARN MemoryStore: Not enough space to cache rdd_6669_13 in memory! (computed 3.5 MiB so far)\n",
      "24/12/02 02:35:23 WARN MemoryStore: Not enough space to cache rdd_6669_19 in memory! (computed 8.2 MiB so far)\n",
      "24/12/02 02:35:23 WARN MemoryStore: Not enough space to cache rdd_6669_20 in memory! (computed 5.3 MiB so far)\n",
      "24/12/02 02:35:23 WARN BlockManager: Persisting block rdd_6669_14 to disk instead.\n",
      "24/12/02 02:35:23 WARN BlockManager: Persisting block rdd_6669_15 to disk instead.\n",
      "24/12/02 02:35:23 WARN BlockManager: Persisting block rdd_6669_17 to disk instead.\n",
      "24/12/02 02:35:23 WARN BlockManager: Persisting block rdd_6669_20 to disk instead.\n",
      "24/12/02 02:35:23 WARN BlockManager: Persisting block rdd_6669_16 to disk instead.\n",
      "24/12/02 02:35:23 WARN BlockManager: Persisting block rdd_6669_18 to disk instead.\n",
      "24/12/02 02:35:23 WARN BlockManager: Persisting block rdd_6669_13 to disk instead.\n",
      "24/12/02 02:35:23 WARN BlockManager: Persisting block rdd_6669_22 to disk instead.\n",
      "24/12/02 02:35:23 WARN BlockManager: Persisting block rdd_6669_21 to disk instead.\n",
      "24/12/02 02:35:23 WARN BlockManager: Persisting block rdd_6669_19 to disk instead.\n",
      "24/12/02 02:35:23 WARN MemoryStore: Not enough space to cache rdd_6669_14 in memory! (computed 12.3 MiB so far)\n",
      "24/12/02 02:35:23 WARN MemoryStore: Not enough space to cache rdd_6669_13 in memory! (computed 5.3 MiB so far)\n",
      "24/12/02 02:35:23 WARN MemoryStore: Not enough space to cache rdd_6669_22 in memory! (computed 1302.7 KiB so far)\n",
      "24/12/02 02:35:23 WARN MemoryStore: Not enough space to cache rdd_6669_21 in memory! (computed 12.3 MiB so far)\n",
      "24/12/02 02:35:23 WARN MemoryStore: Not enough space to cache rdd_6669_15 in memory! (computed 8.2 MiB so far)\n",
      "24/12/02 02:35:23 WARN MemoryStore: Not enough space to cache rdd_6669_16 in memory! (computed 5.3 MiB so far)\n",
      "24/12/02 02:35:23 WARN MemoryStore: Not enough space to cache rdd_6669_19 in memory! (computed 12.3 MiB so far)\n",
      "24/12/02 02:35:23 WARN MemoryStore: Not enough space to cache rdd_6669_17 in memory! (computed 18.6 MiB so far)\n",
      "24/12/02 02:35:23 WARN MemoryStore: Not enough space to cache rdd_6669_18 in memory! (computed 8.2 MiB so far)\n",
      "24/12/02 02:35:24 WARN MemoryStore: Not enough space to cache rdd_6669_15 in memory! (computed 5.3 MiB so far)\n",
      "24/12/02 02:35:24 WARN MemoryStore: Not enough space to cache rdd_6669_16 in memory! (computed 8.2 MiB so far)\n",
      "24/12/02 02:35:24 WARN MemoryStore: Not enough space to cache rdd_6669_19 in memory! (computed 8.2 MiB so far)\n",
      "24/12/02 02:35:24 WARN MemoryStore: Not enough space to cache rdd_6669_13 in memory! (computed 5.3 MiB so far)\n",
      "24/12/02 02:35:24 WARN MemoryStore: Not enough space to cache rdd_6669_22 in memory! (computed 5.3 MiB so far)\n",
      "24/12/02 02:35:24 WARN MemoryStore: Not enough space to cache rdd_6669_21 in memory! (computed 5.3 MiB so far)\n",
      "24/12/02 02:35:24 WARN MemoryStore: Not enough space to cache rdd_6669_18 in memory! (computed 5.3 MiB so far)\n",
      "24/12/02 02:35:24 WARN MemoryStore: Not enough space to cache rdd_6669_14 in memory! (computed 5.3 MiB so far)\n",
      "24/12/02 02:35:24 WARN MemoryStore: Not enough space to cache rdd_6669_17 in memory! (computed 3.5 MiB so far)\n",
      "24/12/02 02:35:25 WARN MemoryStore: Not enough space to cache rdd_6669_16 in memory! (computed 8.2 MiB so far)\n",
      "24/12/02 02:35:25 WARN MemoryStore: Not enough space to cache rdd_6669_13 in memory! (computed 8.2 MiB so far)\n",
      "24/12/02 02:35:25 WARN MemoryStore: Not enough space to cache rdd_6669_18 in memory! (computed 8.2 MiB so far)\n",
      "24/12/02 02:35:25 WARN MemoryStore: Not enough space to cache rdd_6669_17 in memory! (computed 5.3 MiB so far)\n",
      "24/12/02 02:35:25 WARN MemoryStore: Not enough space to cache rdd_6669_14 in memory! (computed 8.2 MiB so far)\n",
      "24/12/02 02:35:25 WARN MemoryStore: Not enough space to cache rdd_6669_15 in memory! (computed 12.3 MiB so far)\n",
      "24/12/02 02:35:25 WARN MemoryStore: Not enough space to cache rdd_6669_21 in memory! (computed 12.3 MiB so far)\n",
      "24/12/02 02:35:25 WARN MemoryStore: Not enough space to cache rdd_6669_22 in memory! (computed 18.6 MiB so far)\n",
      "24/12/02 02:35:25 WARN MemoryStore: Not enough space to cache rdd_6669_19 in memory! (computed 18.6 MiB so far)\n",
      "24/12/02 02:35:26 WARN DAGScheduler: Broadcasting large task binary with size 1104.3 KiB\n",
      "24/12/02 02:35:26 WARN MemoryStore: Not enough space to cache rdd_6669_13 in memory! (computed 12.3 MiB so far)\n",
      "24/12/02 02:35:26 WARN MemoryStore: Not enough space to cache rdd_6669_15 in memory! (computed 12.3 MiB so far)\n",
      "24/12/02 02:35:26 WARN MemoryStore: Failed to reserve initial memory threshold of 1024.0 KiB for computing block rdd_6669_21 in memory.\n",
      "24/12/02 02:35:26 WARN MemoryStore: Not enough space to cache rdd_6669_18 in memory! (computed 2.2 MiB so far)\n",
      "24/12/02 02:35:26 WARN MemoryStore: Not enough space to cache rdd_6669_16 in memory! (computed 5.3 MiB so far)\n",
      "24/12/02 02:35:26 WARN MemoryStore: Not enough space to cache rdd_6669_17 in memory! (computed 5.3 MiB so far)\n",
      "24/12/02 02:35:26 WARN MemoryStore: Failed to reserve initial memory threshold of 1024.0 KiB for computing block rdd_6669_19 in memory.\n",
      "24/12/02 02:35:26 WARN MemoryStore: Not enough space to cache rdd_6669_14 in memory! (computed 12.3 MiB so far)\n",
      "24/12/02 02:35:26 WARN MemoryStore: Not enough space to cache rdd_6669_19 in memory! (computed 384.0 B so far)\n",
      "24/12/02 02:35:26 WARN MemoryStore: Not enough space to cache rdd_6669_21 in memory! (computed 384.0 B so far)\n",
      "24/12/02 02:35:26 WARN MemoryStore: Not enough space to cache rdd_6669_22 in memory! (computed 1302.7 KiB so far)\n",
      "24/12/02 02:35:27 WARN DAGScheduler: Broadcasting large task binary with size 1340.7 KiB\n",
      "24/12/02 02:35:27 WARN MemoryStore: Not enough space to cache rdd_6669_13 in memory! (computed 8.2 MiB so far)\n",
      "24/12/02 02:35:27 WARN MemoryStore: Not enough space to cache rdd_6669_17 in memory! (computed 5.3 MiB so far)\n",
      "24/12/02 02:35:27 WARN MemoryStore: Not enough space to cache rdd_6669_19 in memory! (computed 8.2 MiB so far)\n",
      "24/12/02 02:35:27 WARN MemoryStore: Not enough space to cache rdd_6669_18 in memory! (computed 5.3 MiB so far)\n",
      "24/12/02 02:35:27 WARN MemoryStore: Not enough space to cache rdd_6669_22 in memory! (computed 2.2 MiB so far)\n",
      "24/12/02 02:35:27 WARN MemoryStore: Not enough space to cache rdd_6669_21 in memory! (computed 5.3 MiB so far)\n",
      "24/12/02 02:35:27 WARN MemoryStore: Not enough space to cache rdd_6669_16 in memory! (computed 5.3 MiB so far)\n",
      "24/12/02 02:35:27 WARN MemoryStore: Not enough space to cache rdd_6669_14 in memory! (computed 3.5 MiB so far)\n",
      "24/12/02 02:35:27 WARN MemoryStore: Not enough space to cache rdd_6669_15 in memory! (computed 8.2 MiB so far)\n",
      "24/12/02 02:35:28 WARN DAGScheduler: Broadcasting large task binary with size 1059.4 KiB\n",
      "24/12/02 02:35:32 WARN MemoryStore: Not enough space to cache rdd_6745_22 in memory! (computed 5.3 MiB so far)\n",
      "24/12/02 02:35:32 WARN MemoryStore: Not enough space to cache rdd_6745_16 in memory! (computed 5.3 MiB so far)\n",
      "24/12/02 02:35:32 WARN MemoryStore: Not enough space to cache rdd_6745_17 in memory! (computed 5.3 MiB so far)\n",
      "24/12/02 02:35:32 WARN MemoryStore: Not enough space to cache rdd_6745_20 in memory! (computed 5.3 MiB so far)\n",
      "24/12/02 02:35:32 WARN MemoryStore: Not enough space to cache rdd_6745_13 in memory! (computed 5.3 MiB so far)\n",
      "24/12/02 02:35:32 WARN MemoryStore: Not enough space to cache rdd_6745_21 in memory! (computed 8.1 MiB so far)\n",
      "24/12/02 02:35:32 WARN MemoryStore: Not enough space to cache rdd_6745_19 in memory! (computed 8.1 MiB so far)\n",
      "24/12/02 02:35:32 WARN MemoryStore: Not enough space to cache rdd_6745_14 in memory! (computed 8.1 MiB so far)\n",
      "24/12/02 02:35:32 WARN BlockManager: Persisting block rdd_6745_17 to disk instead.\n",
      "24/12/02 02:35:32 WARN BlockManager: Persisting block rdd_6745_20 to disk instead.\n",
      "24/12/02 02:35:32 WARN BlockManager: Persisting block rdd_6745_13 to disk instead.\n",
      "24/12/02 02:35:32 WARN BlockManager: Persisting block rdd_6745_21 to disk instead.\n",
      "24/12/02 02:35:32 WARN BlockManager: Persisting block rdd_6745_14 to disk instead.\n",
      "24/12/02 02:35:32 WARN BlockManager: Persisting block rdd_6745_22 to disk instead.\n",
      "24/12/02 02:35:32 WARN BlockManager: Persisting block rdd_6745_16 to disk instead.\n",
      "24/12/02 02:35:32 WARN BlockManager: Persisting block rdd_6745_19 to disk instead.\n",
      "24/12/02 02:35:32 WARN MemoryStore: Not enough space to cache rdd_6745_15 in memory! (computed 12.2 MiB so far)\n",
      "24/12/02 02:35:32 WARN BlockManager: Persisting block rdd_6745_15 to disk instead.\n",
      "24/12/02 02:35:32 WARN MemoryStore: Not enough space to cache rdd_6745_18 in memory! (computed 12.2 MiB so far)\n",
      "24/12/02 02:35:32 WARN BlockManager: Persisting block rdd_6745_18 to disk instead.\n",
      "24/12/02 02:35:32 WARN MemoryStore: Not enough space to cache rdd_6745_16 in memory! (computed 3.4 MiB so far)\n",
      "24/12/02 02:35:32 WARN MemoryStore: Not enough space to cache rdd_6745_19 in memory! (computed 8.1 MiB so far)\n",
      "24/12/02 02:35:32 WARN MemoryStore: Not enough space to cache rdd_6745_13 in memory! (computed 12.2 MiB so far)\n",
      "24/12/02 02:35:32 WARN MemoryStore: Not enough space to cache rdd_6745_22 in memory! (computed 1290.0 KiB so far)\n",
      "24/12/02 02:35:32 WARN MemoryStore: Not enough space to cache rdd_6745_14 in memory! (computed 8.1 MiB so far)\n",
      "24/12/02 02:35:32 WARN MemoryStore: Not enough space to cache rdd_6745_21 in memory! (computed 8.1 MiB so far)\n",
      "24/12/02 02:35:32 WARN MemoryStore: Not enough space to cache rdd_6745_15 in memory! (computed 12.2 MiB so far)\n",
      "24/12/02 02:35:32 WARN MemoryStore: Not enough space to cache rdd_6745_18 in memory! (computed 18.4 MiB so far)\n",
      "24/12/02 02:35:32 WARN MemoryStore: Not enough space to cache rdd_6745_17 in memory! (computed 18.4 MiB so far)\n",
      "24/12/02 02:35:32 WARN MemoryStore: Failed to reserve initial memory threshold of 1024.0 KiB for computing block rdd_6745_20 in memory.\n",
      "24/12/02 02:35:32 WARN MemoryStore: Not enough space to cache rdd_6745_20 in memory! (computed 384.0 B so far)\n",
      "24/12/02 02:35:33 WARN MemoryStore: Not enough space to cache rdd_6745_22 in memory! (computed 8.1 MiB so far)\n",
      "24/12/02 02:35:33 WARN MemoryStore: Not enough space to cache rdd_6745_16 in memory! (computed 8.1 MiB so far)\n",
      "24/12/02 02:35:33 WARN MemoryStore: Not enough space to cache rdd_6745_13 in memory! (computed 8.1 MiB so far)\n",
      "24/12/02 02:35:33 WARN MemoryStore: Not enough space to cache rdd_6745_17 in memory! (computed 8.1 MiB so far)\n",
      "24/12/02 02:35:33 WARN MemoryStore: Not enough space to cache rdd_6745_19 in memory! (computed 12.2 MiB so far)\n",
      "24/12/02 02:35:33 WARN MemoryStore: Not enough space to cache rdd_6745_21 in memory! (computed 8.1 MiB so far)\n",
      "24/12/02 02:35:33 WARN MemoryStore: Not enough space to cache rdd_6745_15 in memory! (computed 8.1 MiB so far)\n",
      "24/12/02 02:35:33 WARN MemoryStore: Not enough space to cache rdd_6745_14 in memory! (computed 12.2 MiB so far)\n",
      "24/12/02 02:35:33 WARN MemoryStore: Not enough space to cache rdd_6745_18 in memory! (computed 12.2 MiB so far)\n",
      "24/12/02 02:35:33 WARN MemoryStore: Not enough space to cache rdd_6745_20 in memory! (computed 5.3 MiB so far)\n",
      "24/12/02 02:35:33 WARN MemoryStore: Not enough space to cache rdd_6745_13 in memory! (computed 12.2 MiB so far)\n",
      "24/12/02 02:35:33 WARN MemoryStore: Not enough space to cache rdd_6745_18 in memory! (computed 12.2 MiB so far)\n",
      "24/12/02 02:35:33 WARN MemoryStore: Not enough space to cache rdd_6745_20 in memory! (computed 12.2 MiB so far)\n",
      "24/12/02 02:35:33 WARN MemoryStore: Not enough space to cache rdd_6745_15 in memory! (computed 12.2 MiB so far)\n",
      "24/12/02 02:35:33 WARN MemoryStore: Not enough space to cache rdd_6745_16 in memory! (computed 12.2 MiB so far)\n",
      "24/12/02 02:35:33 WARN MemoryStore: Not enough space to cache rdd_6745_22 in memory! (computed 3.4 MiB so far)\n",
      "24/12/02 02:35:33 WARN MemoryStore: Not enough space to cache rdd_6745_17 in memory! (computed 8.1 MiB so far)\n",
      "24/12/02 02:35:33 WARN MemoryStore: Not enough space to cache rdd_6745_14 in memory! (computed 12.2 MiB so far)\n",
      "24/12/02 02:35:33 WARN MemoryStore: Not enough space to cache rdd_6745_21 in memory! (computed 2.2 MiB so far)\n",
      "24/12/02 02:35:34 WARN MemoryStore: Not enough space to cache rdd_6745_18 in memory! (computed 5.3 MiB so far)\n",
      "24/12/02 02:35:34 WARN MemoryStore: Not enough space to cache rdd_6745_15 in memory! (computed 8.1 MiB so far)\n",
      "24/12/02 02:35:34 WARN MemoryStore: Not enough space to cache rdd_6745_16 in memory! (computed 8.1 MiB so far)\n",
      "24/12/02 02:35:34 WARN MemoryStore: Not enough space to cache rdd_6745_17 in memory! (computed 8.1 MiB so far)\n",
      "24/12/02 02:35:34 WARN MemoryStore: Not enough space to cache rdd_6745_21 in memory! (computed 5.3 MiB so far)\n",
      "24/12/02 02:35:34 WARN MemoryStore: Not enough space to cache rdd_6745_14 in memory! (computed 12.2 MiB so far)\n",
      "24/12/02 02:35:34 WARN MemoryStore: Not enough space to cache rdd_6745_13 in memory! (computed 12.2 MiB so far)\n",
      "24/12/02 02:35:34 WARN MemoryStore: Failed to reserve initial memory threshold of 1024.0 KiB for computing block rdd_6745_22 in memory.\n",
      "24/12/02 02:35:34 WARN MemoryStore: Not enough space to cache rdd_6745_22 in memory! (computed 384.0 B so far)\n",
      "24/12/02 02:35:35 WARN DAGScheduler: Broadcasting large task binary with size 1039.6 KiB\n",
      "24/12/02 02:35:35 WARN MemoryStore: Not enough space to cache rdd_6745_14 in memory! (computed 3.4 MiB so far)\n",
      "24/12/02 02:35:35 WARN MemoryStore: Not enough space to cache rdd_6745_21 in memory! (computed 3.4 MiB so far)\n",
      "24/12/02 02:35:35 WARN MemoryStore: Not enough space to cache rdd_6745_16 in memory! (computed 3.4 MiB so far)\n",
      "24/12/02 02:35:35 WARN MemoryStore: Not enough space to cache rdd_6745_22 in memory! (computed 3.4 MiB so far)\n",
      "24/12/02 02:35:35 WARN MemoryStore: Not enough space to cache rdd_6745_13 in memory! (computed 2.2 MiB so far)\n",
      "24/12/02 02:35:35 WARN MemoryStore: Not enough space to cache rdd_6745_17 in memory! (computed 3.4 MiB so far)\n",
      "24/12/02 02:35:35 WARN MemoryStore: Not enough space to cache rdd_6745_15 in memory! (computed 3.4 MiB so far)\n",
      "24/12/02 02:35:35 WARN MemoryStore: Not enough space to cache rdd_6745_18 in memory! (computed 3.4 MiB so far)\n",
      "24/12/02 02:35:36 WARN DAGScheduler: Broadcasting large task binary with size 1196.8 KiB\n",
      "24/12/02 02:35:36 WARN MemoryStore: Not enough space to cache rdd_6745_13 in memory! (computed 3.4 MiB so far)\n",
      "24/12/02 02:35:36 WARN MemoryStore: Not enough space to cache rdd_6745_22 in memory! (computed 2.2 MiB so far)\n",
      "24/12/02 02:35:36 WARN MemoryStore: Not enough space to cache rdd_6745_17 in memory! (computed 3.4 MiB so far)\n",
      "24/12/02 02:35:36 WARN MemoryStore: Not enough space to cache rdd_6745_15 in memory! (computed 3.4 MiB so far)\n",
      "24/12/02 02:35:36 WARN MemoryStore: Not enough space to cache rdd_6745_18 in memory! (computed 3.4 MiB so far)\n",
      "24/12/02 02:35:36 WARN MemoryStore: Not enough space to cache rdd_6745_21 in memory! (computed 3.4 MiB so far)\n",
      "24/12/02 02:35:36 WARN MemoryStore: Not enough space to cache rdd_6745_14 in memory! (computed 3.4 MiB so far)\n",
      "24/12/02 02:35:36 WARN MemoryStore: Not enough space to cache rdd_6745_16 in memory! (computed 3.4 MiB so far)\n",
      "24/12/02 02:35:36 WARN DAGScheduler: Broadcasting large task binary with size 1410.7 KiB\n",
      "24/12/02 02:35:37 WARN MemoryStore: Not enough space to cache rdd_6745_18 in memory! (computed 2.2 MiB so far)\n",
      "24/12/02 02:35:37 WARN MemoryStore: Not enough space to cache rdd_6745_21 in memory! (computed 3.4 MiB so far)\n",
      "24/12/02 02:35:37 WARN MemoryStore: Not enough space to cache rdd_6745_14 in memory! (computed 3.4 MiB so far)\n",
      "24/12/02 02:35:37 WARN MemoryStore: Not enough space to cache rdd_6745_16 in memory! (computed 3.4 MiB so far)\n",
      "24/12/02 02:35:37 WARN MemoryStore: Not enough space to cache rdd_6745_15 in memory! (computed 3.4 MiB so far)\n",
      "24/12/02 02:35:37 WARN MemoryStore: Not enough space to cache rdd_6745_22 in memory! (computed 5.3 MiB so far)\n",
      "24/12/02 02:35:37 WARN MemoryStore: Not enough space to cache rdd_6745_17 in memory! (computed 3.4 MiB so far)\n",
      "24/12/02 02:35:37 WARN MemoryStore: Not enough space to cache rdd_6745_13 in memory! (computed 2.2 MiB so far)\n",
      "24/12/02 02:35:37 WARN DAGScheduler: Broadcasting large task binary with size 1676.5 KiB\n",
      "24/12/02 02:35:38 WARN MemoryStore: Not enough space to cache rdd_6745_14 in memory! (computed 5.3 MiB so far)\n",
      "24/12/02 02:35:38 WARN MemoryStore: Not enough space to cache rdd_6745_13 in memory! (computed 2.2 MiB so far)\n",
      "24/12/02 02:35:38 WARN MemoryStore: Failed to reserve initial memory threshold of 1024.0 KiB for computing block rdd_6745_17 in memory.\n",
      "24/12/02 02:35:38 WARN MemoryStore: Not enough space to cache rdd_6745_18 in memory! (computed 3.4 MiB so far)\n",
      "24/12/02 02:35:38 WARN MemoryStore: Not enough space to cache rdd_6745_16 in memory! (computed 3.4 MiB so far)\n",
      "24/12/02 02:35:38 WARN MemoryStore: Not enough space to cache rdd_6745_22 in memory! (computed 3.4 MiB so far)\n",
      "24/12/02 02:35:38 WARN MemoryStore: Not enough space to cache rdd_6745_21 in memory! (computed 5.3 MiB so far)\n",
      "24/12/02 02:35:38 WARN MemoryStore: Not enough space to cache rdd_6745_17 in memory! (computed 384.0 B so far)\n",
      "24/12/02 02:35:38 WARN MemoryStore: Not enough space to cache rdd_6745_15 in memory! (computed 3.4 MiB so far)\n",
      "24/12/02 02:35:39 WARN DAGScheduler: Broadcasting large task binary with size 2011.8 KiB\n",
      "24/12/02 02:35:39 WARN MemoryStore: Not enough space to cache rdd_6745_16 in memory! (computed 8.1 MiB so far)\n",
      "24/12/02 02:35:39 WARN MemoryStore: Not enough space to cache rdd_6745_12 in memory! (computed 18.4 MiB so far)\n",
      "24/12/02 02:35:39 WARN MemoryStore: Not enough space to cache rdd_6745_15 in memory! (computed 8.1 MiB so far)\n",
      "24/12/02 02:35:39 WARN MemoryStore: Not enough space to cache rdd_6745_13 in memory! (computed 8.1 MiB so far)\n",
      "24/12/02 02:35:39 WARN MemoryStore: Not enough space to cache rdd_6745_14 in memory! (computed 8.1 MiB so far)\n",
      "24/12/02 02:35:39 WARN MemoryStore: Failed to reserve initial memory threshold of 1024.0 KiB for computing block rdd_6745_21 in memory.\n",
      "24/12/02 02:35:39 WARN MemoryStore: Failed to reserve initial memory threshold of 1024.0 KiB for computing block rdd_6745_22 in memory.\n",
      "24/12/02 02:35:39 WARN MemoryStore: Not enough space to cache rdd_6745_21 in memory! (computed 384.0 B so far)\n",
      "24/12/02 02:35:39 WARN MemoryStore: Failed to reserve initial memory threshold of 1024.0 KiB for computing block rdd_6745_18 in memory.\n",
      "24/12/02 02:35:39 WARN MemoryStore: Not enough space to cache rdd_6745_22 in memory! (computed 384.0 B so far)\n",
      "24/12/02 02:35:39 WARN MemoryStore: Not enough space to cache rdd_6745_18 in memory! (computed 384.0 B so far)\n",
      "24/12/02 02:35:39 WARN MemoryStore: Failed to reserve initial memory threshold of 1024.0 KiB for computing block rdd_6745_17 in memory.\n",
      "24/12/02 02:35:39 WARN MemoryStore: Not enough space to cache rdd_6745_17 in memory! (computed 384.0 B so far)\n",
      "24/12/02 02:35:40 WARN DAGScheduler: Broadcasting large task binary with size 2.4 MiB\n",
      "24/12/02 02:35:41 WARN MemoryStore: Not enough space to cache rdd_6745_12 in memory! (computed 8.1 MiB so far)\n",
      "24/12/02 02:35:41 WARN MemoryStore: Not enough space to cache rdd_6745_15 in memory! (computed 12.2 MiB so far)\n",
      "24/12/02 02:35:41 WARN MemoryStore: Not enough space to cache rdd_6745_14 in memory! (computed 12.2 MiB so far)\n",
      "24/12/02 02:35:41 WARN MemoryStore: Not enough space to cache rdd_6745_13 in memory! (computed 12.2 MiB so far)\n",
      "24/12/02 02:35:41 WARN MemoryStore: Not enough space to cache rdd_6745_16 in memory! (computed 12.2 MiB so far)\n",
      "24/12/02 02:35:41 WARN MemoryStore: Not enough space to cache rdd_6745_20 in memory! (computed 12.2 MiB so far)\n",
      "24/12/02 02:35:41 WARN MemoryStore: Not enough space to cache rdd_6745_21 in memory! (computed 3.4 MiB so far)\n",
      "24/12/02 02:35:42 WARN DAGScheduler: Broadcasting large task binary with size 1485.9 KiB\n",
      "24/12/02 02:35:46 WARN MemoryStore: Not enough space to cache rdd_6836_19 in memory! (computed 5.3 MiB so far)\n",
      "24/12/02 02:35:46 WARN MemoryStore: Not enough space to cache rdd_6836_13 in memory! (computed 5.3 MiB so far)\n",
      "24/12/02 02:35:46 WARN MemoryStore: Not enough space to cache rdd_6836_14 in memory! (computed 8.1 MiB so far)\n",
      "24/12/02 02:35:46 WARN MemoryStore: Not enough space to cache rdd_6836_22 in memory! (computed 5.3 MiB so far)\n",
      "24/12/02 02:35:46 WARN MemoryStore: Not enough space to cache rdd_6836_20 in memory! (computed 5.3 MiB so far)\n",
      "24/12/02 02:35:46 WARN MemoryStore: Not enough space to cache rdd_6836_17 in memory! (computed 8.1 MiB so far)\n",
      "24/12/02 02:35:46 WARN MemoryStore: Not enough space to cache rdd_6836_18 in memory! (computed 5.3 MiB so far)\n",
      "24/12/02 02:35:46 WARN MemoryStore: Not enough space to cache rdd_6836_16 in memory! (computed 5.3 MiB so far)\n",
      "24/12/02 02:35:46 WARN MemoryStore: Not enough space to cache rdd_6836_15 in memory! (computed 12.2 MiB so far)\n",
      "24/12/02 02:35:46 WARN BlockManager: Persisting block rdd_6836_17 to disk instead.\n",
      "24/12/02 02:35:46 WARN BlockManager: Persisting block rdd_6836_15 to disk instead.\n",
      "24/12/02 02:35:46 WARN BlockManager: Persisting block rdd_6836_13 to disk instead.\n",
      "24/12/02 02:35:46 WARN MemoryStore: Not enough space to cache rdd_6836_21 in memory! (computed 5.3 MiB so far)\n",
      "24/12/02 02:35:46 WARN BlockManager: Persisting block rdd_6836_21 to disk instead.\n",
      "24/12/02 02:35:46 WARN BlockManager: Persisting block rdd_6836_18 to disk instead.\n",
      "24/12/02 02:35:46 WARN BlockManager: Persisting block rdd_6836_22 to disk instead.\n",
      "24/12/02 02:35:46 WARN BlockManager: Persisting block rdd_6836_14 to disk instead.\n",
      "24/12/02 02:35:46 WARN BlockManager: Persisting block rdd_6836_16 to disk instead.\n",
      "24/12/02 02:35:46 WARN BlockManager: Persisting block rdd_6836_20 to disk instead.\n",
      "24/12/02 02:35:46 WARN BlockManager: Persisting block rdd_6836_19 to disk instead.\n",
      "24/12/02 02:35:46 WARN MemoryStore: Not enough space to cache rdd_6836_17 in memory! (computed 12.2 MiB so far)\n",
      "24/12/02 02:35:46 WARN MemoryStore: Not enough space to cache rdd_6836_16 in memory! (computed 5.3 MiB so far)\n",
      "24/12/02 02:35:46 WARN MemoryStore: Not enough space to cache rdd_6836_21 in memory! (computed 1290.0 KiB so far)\n",
      "24/12/02 02:35:46 WARN MemoryStore: Not enough space to cache rdd_6836_14 in memory! (computed 18.4 MiB so far)\n",
      "24/12/02 02:35:46 WARN MemoryStore: Not enough space to cache rdd_6836_19 in memory! (computed 3.4 MiB so far)\n",
      "24/12/02 02:35:46 WARN MemoryStore: Not enough space to cache rdd_6836_13 in memory! (computed 18.4 MiB so far)\n",
      "24/12/02 02:35:46 WARN MemoryStore: Not enough space to cache rdd_6836_20 in memory! (computed 1290.0 KiB so far)\n",
      "24/12/02 02:35:46 WARN MemoryStore: Not enough space to cache rdd_6836_18 in memory! (computed 2.2 MiB so far)\n",
      "24/12/02 02:35:46 WARN MemoryStore: Failed to reserve initial memory threshold of 1024.0 KiB for computing block rdd_6836_22 in memory.\n",
      "24/12/02 02:35:46 WARN MemoryStore: Not enough space to cache rdd_6836_22 in memory! (computed 384.0 B so far)\n",
      "24/12/02 02:35:46 WARN MemoryStore: Not enough space to cache rdd_6836_15 in memory! (computed 27.8 MiB so far)\n",
      "24/12/02 02:35:47 WARN MemoryStore: Not enough space to cache rdd_6836_17 in memory! (computed 8.1 MiB so far)\n",
      "24/12/02 02:35:47 WARN MemoryStore: Not enough space to cache rdd_6836_15 in memory! (computed 12.2 MiB so far)\n",
      "24/12/02 02:35:47 WARN MemoryStore: Not enough space to cache rdd_6836_16 in memory! (computed 12.2 MiB so far)\n",
      "24/12/02 02:35:47 WARN MemoryStore: Not enough space to cache rdd_6836_14 in memory! (computed 12.2 MiB so far)\n",
      "24/12/02 02:35:47 WARN MemoryStore: Not enough space to cache rdd_6836_18 in memory! (computed 8.1 MiB so far)\n",
      "24/12/02 02:35:47 WARN MemoryStore: Not enough space to cache rdd_6836_19 in memory! (computed 5.3 MiB so far)\n",
      "24/12/02 02:35:47 WARN MemoryStore: Not enough space to cache rdd_6836_20 in memory! (computed 5.3 MiB so far)\n",
      "24/12/02 02:35:47 WARN MemoryStore: Not enough space to cache rdd_6836_13 in memory! (computed 18.4 MiB so far)\n",
      "24/12/02 02:35:47 WARN MemoryStore: Not enough space to cache rdd_6836_21 in memory! (computed 5.3 MiB so far)\n",
      "24/12/02 02:35:48 WARN MemoryStore: Not enough space to cache rdd_6836_19 in memory! (computed 5.3 MiB so far)\n",
      "24/12/02 02:35:48 WARN MemoryStore: Not enough space to cache rdd_6836_13 in memory! (computed 5.3 MiB so far)\n",
      "24/12/02 02:35:48 WARN MemoryStore: Not enough space to cache rdd_6836_20 in memory! (computed 5.3 MiB so far)\n",
      "24/12/02 02:35:48 WARN MemoryStore: Not enough space to cache rdd_6836_14 in memory! (computed 8.1 MiB so far)\n",
      "24/12/02 02:35:48 WARN MemoryStore: Not enough space to cache rdd_6836_17 in memory! (computed 8.1 MiB so far)\n",
      "24/12/02 02:35:48 WARN MemoryStore: Not enough space to cache rdd_6836_18 in memory! (computed 5.3 MiB so far)\n",
      "24/12/02 02:35:48 WARN MemoryStore: Not enough space to cache rdd_6836_16 in memory! (computed 5.3 MiB so far)\n",
      "24/12/02 02:35:48 WARN MemoryStore: Not enough space to cache rdd_6836_15 in memory! (computed 5.3 MiB so far)\n",
      "24/12/02 02:35:48 WARN MemoryStore: Not enough space to cache rdd_6836_21 in memory! (computed 5.3 MiB so far)\n",
      "24/12/02 02:35:49 WARN MemoryStore: Not enough space to cache rdd_6836_15 in memory! (computed 8.1 MiB so far)\n",
      "24/12/02 02:35:49 WARN MemoryStore: Not enough space to cache rdd_6836_16 in memory! (computed 8.1 MiB so far)\n",
      "24/12/02 02:35:49 WARN MemoryStore: Not enough space to cache rdd_6836_17 in memory! (computed 5.3 MiB so far)\n",
      "24/12/02 02:35:49 WARN MemoryStore: Not enough space to cache rdd_6836_18 in memory! (computed 5.3 MiB so far)\n",
      "24/12/02 02:35:49 WARN MemoryStore: Not enough space to cache rdd_6836_14 in memory! (computed 8.1 MiB so far)\n",
      "24/12/02 02:35:49 WARN MemoryStore: Not enough space to cache rdd_6836_13 in memory! (computed 8.1 MiB so far)\n",
      "24/12/02 02:35:49 WARN MemoryStore: Not enough space to cache rdd_6836_20 in memory! (computed 5.3 MiB so far)\n",
      "24/12/02 02:35:49 WARN MemoryStore: Failed to reserve initial memory threshold of 1024.0 KiB for computing block rdd_6836_21 in memory.\n",
      "24/12/02 02:35:49 WARN MemoryStore: Not enough space to cache rdd_6836_21 in memory! (computed 384.0 B so far)\n",
      "24/12/02 02:35:49 WARN MemoryStore: Not enough space to cache rdd_6836_19 in memory! (computed 5.3 MiB so far)\n",
      "24/12/02 02:35:49 WARN DAGScheduler: Broadcasting large task binary with size 1039.9 KiB\n",
      "24/12/02 02:35:49 WARN MemoryStore: Not enough space to cache rdd_6836_16 in memory! (computed 8.1 MiB so far)\n",
      "24/12/02 02:35:49 WARN MemoryStore: Not enough space to cache rdd_6836_17 in memory! (computed 5.3 MiB so far)\n",
      "24/12/02 02:35:49 WARN MemoryStore: Not enough space to cache rdd_6836_13 in memory! (computed 12.2 MiB so far)\n",
      "24/12/02 02:35:49 WARN MemoryStore: Not enough space to cache rdd_6836_20 in memory! (computed 5.3 MiB so far)\n",
      "24/12/02 02:35:49 WARN MemoryStore: Not enough space to cache rdd_6836_14 in memory! (computed 12.2 MiB so far)\n",
      "24/12/02 02:35:49 WARN MemoryStore: Not enough space to cache rdd_6836_15 in memory! (computed 8.1 MiB so far)\n",
      "24/12/02 02:35:49 WARN MemoryStore: Failed to reserve initial memory threshold of 1024.0 KiB for computing block rdd_6836_19 in memory.\n",
      "24/12/02 02:35:49 WARN MemoryStore: Not enough space to cache rdd_6836_19 in memory! (computed 384.0 B so far)\n",
      "24/12/02 02:35:49 WARN MemoryStore: Not enough space to cache rdd_6836_21 in memory! (computed 1290.0 KiB so far)\n",
      "24/12/02 02:35:50 WARN DAGScheduler: Broadcasting large task binary with size 1197.1 KiB\n",
      "24/12/02 02:35:50 WARN MemoryStore: Not enough space to cache rdd_6836_13 in memory! (computed 8.1 MiB so far)\n",
      "24/12/02 02:35:50 WARN MemoryStore: Not enough space to cache rdd_6836_15 in memory! (computed 5.3 MiB so far)\n",
      "24/12/02 02:35:50 WARN MemoryStore: Not enough space to cache rdd_6836_16 in memory! (computed 3.4 MiB so far)\n",
      "24/12/02 02:35:50 WARN MemoryStore: Failed to reserve initial memory threshold of 1024.0 KiB for computing block rdd_6836_19 in memory.\n",
      "24/12/02 02:35:50 WARN MemoryStore: Not enough space to cache rdd_6836_14 in memory! (computed 3.4 MiB so far)\n",
      "24/12/02 02:35:50 WARN MemoryStore: Failed to reserve initial memory threshold of 1024.0 KiB for computing block rdd_6836_20 in memory.\n",
      "24/12/02 02:35:50 WARN MemoryStore: Failed to reserve initial memory threshold of 1024.0 KiB for computing block rdd_6836_21 in memory.\n",
      "24/12/02 02:35:50 WARN MemoryStore: Not enough space to cache rdd_6836_19 in memory! (computed 384.0 B so far)\n",
      "24/12/02 02:35:50 WARN MemoryStore: Not enough space to cache rdd_6836_17 in memory! (computed 2.2 MiB so far)\n",
      "24/12/02 02:35:50 WARN MemoryStore: Not enough space to cache rdd_6836_20 in memory! (computed 384.0 B so far)\n",
      "24/12/02 02:35:50 WARN MemoryStore: Not enough space to cache rdd_6836_21 in memory! (computed 384.0 B so far)\n",
      "24/12/02 02:35:51 WARN DAGScheduler: Broadcasting large task binary with size 1411.0 KiB\n",
      "24/12/02 02:35:51 WARN MemoryStore: Not enough space to cache rdd_6836_15 in memory! (computed 3.4 MiB so far)\n",
      "24/12/02 02:35:51 WARN MemoryStore: Not enough space to cache rdd_6836_20 in memory! (computed 1290.0 KiB so far)\n",
      "24/12/02 02:35:51 WARN MemoryStore: Not enough space to cache rdd_6836_17 in memory! (computed 3.4 MiB so far)\n",
      "24/12/02 02:35:51 WARN MemoryStore: Not enough space to cache rdd_6836_19 in memory! (computed 2.2 MiB so far)\n",
      "24/12/02 02:35:51 WARN MemoryStore: Not enough space to cache rdd_6836_14 in memory! (computed 5.3 MiB so far)\n",
      "24/12/02 02:35:51 WARN MemoryStore: Failed to reserve initial memory threshold of 1024.0 KiB for computing block rdd_6836_21 in memory.\n",
      "24/12/02 02:35:51 WARN MemoryStore: Not enough space to cache rdd_6836_13 in memory! (computed 5.3 MiB so far)\n",
      "24/12/02 02:35:51 WARN MemoryStore: Not enough space to cache rdd_6836_21 in memory! (computed 384.0 B so far)\n",
      "24/12/02 02:35:51 WARN MemoryStore: Not enough space to cache rdd_6836_16 in memory! (computed 2.2 MiB so far)\n",
      "24/12/02 02:35:52 WARN DAGScheduler: Broadcasting large task binary with size 1676.8 KiB\n",
      "24/12/02 02:35:52 WARN MemoryStore: Not enough space to cache rdd_6836_21 in memory! (computed 2.2 MiB so far)\n",
      "24/12/02 02:35:52 WARN MemoryStore: Not enough space to cache rdd_6836_20 in memory! (computed 2.2 MiB so far)\n",
      "24/12/02 02:35:52 WARN MemoryStore: Not enough space to cache rdd_6836_17 in memory! (computed 2.2 MiB so far)\n",
      "24/12/02 02:35:52 WARN MemoryStore: Not enough space to cache rdd_6836_19 in memory! (computed 2.2 MiB so far)\n",
      "24/12/02 02:35:52 WARN MemoryStore: Not enough space to cache rdd_6836_13 in memory! (computed 2.2 MiB so far)\n",
      "24/12/02 02:35:52 WARN MemoryStore: Not enough space to cache rdd_6836_15 in memory! (computed 5.3 MiB so far)\n",
      "24/12/02 02:35:52 WARN MemoryStore: Not enough space to cache rdd_6836_16 in memory! (computed 3.4 MiB so far)\n",
      "24/12/02 02:35:52 WARN MemoryStore: Not enough space to cache rdd_6836_14 in memory! (computed 3.4 MiB so far)\n",
      "24/12/02 02:35:53 WARN DAGScheduler: Broadcasting large task binary with size 2012.1 KiB\n",
      "24/12/02 02:35:54 WARN MemoryStore: Not enough space to cache rdd_6836_17 in memory! (computed 5.3 MiB so far)\n",
      "24/12/02 02:35:54 WARN MemoryStore: Not enough space to cache rdd_6836_14 in memory! (computed 5.3 MiB so far)\n",
      "24/12/02 02:35:54 WARN MemoryStore: Not enough space to cache rdd_6836_15 in memory! (computed 5.3 MiB so far)\n",
      "24/12/02 02:35:54 WARN MemoryStore: Not enough space to cache rdd_6836_16 in memory! (computed 5.3 MiB so far)\n",
      "24/12/02 02:35:54 WARN MemoryStore: Not enough space to cache rdd_6836_21 in memory! (computed 1290.0 KiB so far)\n",
      "24/12/02 02:35:54 WARN MemoryStore: Not enough space to cache rdd_6836_13 in memory! (computed 5.3 MiB so far)\n",
      "24/12/02 02:35:54 WARN MemoryStore: Not enough space to cache rdd_6836_19 in memory! (computed 1290.0 KiB so far)\n",
      "24/12/02 02:35:54 WARN MemoryStore: Not enough space to cache rdd_6836_20 in memory! (computed 8.1 MiB so far)\n",
      "24/12/02 02:35:55 WARN DAGScheduler: Broadcasting large task binary with size 2.4 MiB\n",
      "24/12/02 02:35:55 WARN MemoryStore: Not enough space to cache rdd_6836_18 in memory! (computed 8.1 MiB so far)\n",
      "24/12/02 02:35:55 WARN MemoryStore: Not enough space to cache rdd_6836_15 in memory! (computed 8.1 MiB so far)\n",
      "24/12/02 02:35:55 WARN MemoryStore: Not enough space to cache rdd_6836_13 in memory! (computed 8.1 MiB so far)\n",
      "24/12/02 02:35:55 WARN MemoryStore: Not enough space to cache rdd_6836_21 in memory! (computed 12.2 MiB so far)\n",
      "24/12/02 02:35:55 WARN MemoryStore: Not enough space to cache rdd_6836_20 in memory! (computed 12.2 MiB so far)\n",
      "24/12/02 02:35:55 WARN MemoryStore: Not enough space to cache rdd_6836_19 in memory! (computed 8.1 MiB so far)\n",
      "24/12/02 02:35:55 WARN MemoryStore: Not enough space to cache rdd_6836_17 in memory! (computed 5.3 MiB so far)\n",
      "24/12/02 02:35:55 WARN MemoryStore: Not enough space to cache rdd_6836_22 in memory! (computed 12.2 MiB so far)\n",
      "24/12/02 02:35:55 WARN MemoryStore: Not enough space to cache rdd_6836_14 in memory! (computed 8.1 MiB so far)\n",
      "24/12/02 02:35:55 WARN MemoryStore: Not enough space to cache rdd_6836_16 in memory! (computed 8.1 MiB so far)\n",
      "24/12/02 02:35:57 WARN DAGScheduler: Broadcasting large task binary with size 1485.9 KiB\n",
      "24/12/02 02:36:00 WARN MemoryStore: Not enough space to cache rdd_6927_19 in memory! (computed 5.3 MiB so far)\n",
      "24/12/02 02:36:00 WARN MemoryStore: Not enough space to cache rdd_6927_18 in memory! (computed 5.3 MiB so far)\n",
      "24/12/02 02:36:00 WARN MemoryStore: Not enough space to cache rdd_6927_22 in memory! (computed 8.2 MiB so far)\n",
      "24/12/02 02:36:00 WARN MemoryStore: Not enough space to cache rdd_6927_13 in memory! (computed 8.2 MiB so far)\n",
      "24/12/02 02:36:00 WARN MemoryStore: Not enough space to cache rdd_6927_20 in memory! (computed 8.2 MiB so far)\n",
      "24/12/02 02:36:00 WARN MemoryStore: Not enough space to cache rdd_6927_21 in memory! (computed 3.5 MiB so far)\n",
      "24/12/02 02:36:00 WARN MemoryStore: Not enough space to cache rdd_6927_17 in memory! (computed 5.3 MiB so far)\n",
      "24/12/02 02:36:00 WARN MemoryStore: Not enough space to cache rdd_6927_14 in memory! (computed 5.3 MiB so far)\n",
      "24/12/02 02:36:00 WARN MemoryStore: Not enough space to cache rdd_6927_16 in memory! (computed 5.3 MiB so far)\n",
      "24/12/02 02:36:00 WARN MemoryStore: Not enough space to cache rdd_6927_15 in memory! (computed 8.2 MiB so far)\n",
      "24/12/02 02:36:00 WARN BlockManager: Persisting block rdd_6927_17 to disk instead.\n",
      "24/12/02 02:36:00 WARN BlockManager: Persisting block rdd_6927_13 to disk instead.\n",
      "24/12/02 02:36:00 WARN BlockManager: Persisting block rdd_6927_15 to disk instead.\n",
      "24/12/02 02:36:00 WARN BlockManager: Persisting block rdd_6927_16 to disk instead.\n",
      "24/12/02 02:36:00 WARN BlockManager: Persisting block rdd_6927_18 to disk instead.\n",
      "24/12/02 02:36:00 WARN BlockManager: Persisting block rdd_6927_19 to disk instead.\n",
      "24/12/02 02:36:00 WARN BlockManager: Persisting block rdd_6927_21 to disk instead.\n",
      "24/12/02 02:36:00 WARN BlockManager: Persisting block rdd_6927_20 to disk instead.\n",
      "24/12/02 02:36:00 WARN BlockManager: Persisting block rdd_6927_14 to disk instead.\n",
      "24/12/02 02:36:00 WARN BlockManager: Persisting block rdd_6927_22 to disk instead.\n",
      "24/12/02 02:36:01 WARN MemoryStore: Not enough space to cache rdd_6927_21 in memory! (computed 8.2 MiB so far)\n",
      "24/12/02 02:36:01 WARN MemoryStore: Not enough space to cache rdd_6927_14 in memory! (computed 8.2 MiB so far)\n",
      "24/12/02 02:36:01 WARN MemoryStore: Not enough space to cache rdd_6927_16 in memory! (computed 8.2 MiB so far)\n",
      "24/12/02 02:36:01 WARN MemoryStore: Not enough space to cache rdd_6927_20 in memory! (computed 5.3 MiB so far)\n",
      "24/12/02 02:36:01 WARN MemoryStore: Not enough space to cache rdd_6927_15 in memory! (computed 8.2 MiB so far)\n",
      "24/12/02 02:36:01 WARN MemoryStore: Not enough space to cache rdd_6927_18 in memory! (computed 8.2 MiB so far)\n",
      "24/12/02 02:36:01 WARN MemoryStore: Not enough space to cache rdd_6927_17 in memory! (computed 8.2 MiB so far)\n",
      "24/12/02 02:36:01 WARN MemoryStore: Not enough space to cache rdd_6927_22 in memory! (computed 8.2 MiB so far)\n",
      "24/12/02 02:36:01 WARN MemoryStore: Not enough space to cache rdd_6927_13 in memory! (computed 12.3 MiB so far)\n",
      "24/12/02 02:36:01 WARN MemoryStore: Not enough space to cache rdd_6927_19 in memory! (computed 12.3 MiB so far)\n",
      "24/12/02 02:36:01 WARN MemoryStore: Not enough space to cache rdd_6927_13 in memory! (computed 12.3 MiB so far)\n",
      "24/12/02 02:36:01 WARN MemoryStore: Not enough space to cache rdd_6927_17 in memory! (computed 12.3 MiB so far)\n",
      "24/12/02 02:36:01 WARN MemoryStore: Not enough space to cache rdd_6927_15 in memory! (computed 18.6 MiB so far)\n",
      "24/12/02 02:36:01 WARN MemoryStore: Not enough space to cache rdd_6927_16 in memory! (computed 18.6 MiB so far)\n",
      "24/12/02 02:36:01 WARN MemoryStore: Not enough space to cache rdd_6927_14 in memory! (computed 12.3 MiB so far)\n",
      "24/12/02 02:36:01 WARN MemoryStore: Not enough space to cache rdd_6927_18 in memory! (computed 8.2 MiB so far)\n",
      "24/12/02 02:36:02 WARN MemoryStore: Not enough space to cache rdd_6927_19 in memory! (computed 28.1 MiB so far)\n",
      "24/12/02 02:36:02 WARN MemoryStore: Not enough space to cache rdd_6927_22 in memory! (computed 18.6 MiB so far)\n",
      "24/12/02 02:36:02 WARN MemoryStore: Not enough space to cache rdd_6927_21 in memory! (computed 18.6 MiB so far)\n",
      "24/12/02 02:36:02 WARN MemoryStore: Not enough space to cache rdd_6927_20 in memory! (computed 18.6 MiB so far)\n",
      "24/12/02 02:36:02 WARN MemoryStore: Not enough space to cache rdd_6927_19 in memory! (computed 5.3 MiB so far)\n",
      "24/12/02 02:36:02 WARN MemoryStore: Not enough space to cache rdd_6927_13 in memory! (computed 12.3 MiB so far)\n",
      "24/12/02 02:36:02 WARN MemoryStore: Not enough space to cache rdd_6927_21 in memory! (computed 5.3 MiB so far)\n",
      "24/12/02 02:36:02 WARN MemoryStore: Not enough space to cache rdd_6927_17 in memory! (computed 12.3 MiB so far)\n",
      "24/12/02 02:36:02 WARN MemoryStore: Not enough space to cache rdd_6927_20 in memory! (computed 5.3 MiB so far)\n",
      "24/12/02 02:36:02 WARN MemoryStore: Not enough space to cache rdd_6927_18 in memory! (computed 12.3 MiB so far)\n",
      "24/12/02 02:36:02 WARN MemoryStore: Not enough space to cache rdd_6927_14 in memory! (computed 8.2 MiB so far)\n",
      "24/12/02 02:36:02 WARN MemoryStore: Not enough space to cache rdd_6927_15 in memory! (computed 12.3 MiB so far)\n",
      "24/12/02 02:36:02 WARN MemoryStore: Not enough space to cache rdd_6927_16 in memory! (computed 8.2 MiB so far)\n",
      "24/12/02 02:36:02 WARN MemoryStore: Not enough space to cache rdd_6927_22 in memory! (computed 5.3 MiB so far)\n",
      "24/12/02 02:36:03 WARN DAGScheduler: Broadcasting large task binary with size 1104.0 KiB\n",
      "24/12/02 02:36:03 WARN MemoryStore: Not enough space to cache rdd_6927_18 in memory! (computed 8.2 MiB so far)\n",
      "24/12/02 02:36:03 WARN MemoryStore: Not enough space to cache rdd_6927_14 in memory! (computed 8.2 MiB so far)\n",
      "24/12/02 02:36:03 WARN MemoryStore: Not enough space to cache rdd_6927_20 in memory! (computed 8.2 MiB so far)\n",
      "24/12/02 02:36:03 WARN MemoryStore: Not enough space to cache rdd_6927_21 in memory! (computed 8.2 MiB so far)\n",
      "24/12/02 02:36:03 WARN MemoryStore: Not enough space to cache rdd_6927_15 in memory! (computed 12.3 MiB so far)\n",
      "24/12/02 02:36:03 WARN MemoryStore: Not enough space to cache rdd_6927_22 in memory! (computed 12.3 MiB so far)\n",
      "24/12/02 02:36:03 WARN MemoryStore: Not enough space to cache rdd_6927_19 in memory! (computed 8.2 MiB so far)\n",
      "24/12/02 02:36:03 WARN MemoryStore: Not enough space to cache rdd_6927_17 in memory! (computed 5.3 MiB so far)\n",
      "24/12/02 02:36:03 WARN MemoryStore: Not enough space to cache rdd_6927_13 in memory! (computed 8.2 MiB so far)\n",
      "24/12/02 02:36:03 WARN MemoryStore: Not enough space to cache rdd_6927_16 in memory! (computed 8.2 MiB so far)\n",
      "24/12/02 02:36:04 WARN DAGScheduler: Broadcasting large task binary with size 1340.4 KiB\n",
      "24/12/02 02:36:04 WARN MemoryStore: Not enough space to cache rdd_6927_15 in memory! (computed 12.3 MiB so far)\n",
      "24/12/02 02:36:04 WARN MemoryStore: Not enough space to cache rdd_6927_13 in memory! (computed 12.3 MiB so far)\n",
      "24/12/02 02:36:04 WARN MemoryStore: Not enough space to cache rdd_6927_20 in memory! (computed 5.3 MiB so far)\n",
      "24/12/02 02:36:04 WARN MemoryStore: Not enough space to cache rdd_6927_18 in memory! (computed 5.3 MiB so far)\n",
      "24/12/02 02:36:04 WARN MemoryStore: Not enough space to cache rdd_6927_19 in memory! (computed 5.3 MiB so far)\n",
      "24/12/02 02:36:04 WARN MemoryStore: Not enough space to cache rdd_6927_16 in memory! (computed 8.2 MiB so far)\n",
      "24/12/02 02:36:04 WARN MemoryStore: Not enough space to cache rdd_6927_17 in memory! (computed 8.2 MiB so far)\n",
      "24/12/02 02:36:04 WARN MemoryStore: Not enough space to cache rdd_6927_21 in memory! (computed 2.2 MiB so far)\n",
      "24/12/02 02:36:05 WARN DAGScheduler: Broadcasting large task binary with size 1665.5 KiB\n",
      "24/12/02 02:36:05 WARN MemoryStore: Not enough space to cache rdd_6927_14 in memory! (computed 12.3 MiB so far)\n",
      "24/12/02 02:36:05 WARN MemoryStore: Failed to reserve initial memory threshold of 1024.0 KiB for computing block rdd_6927_16 in memory.\n",
      "24/12/02 02:36:05 WARN MemoryStore: Not enough space to cache rdd_6927_21 in memory! (computed 12.3 MiB so far)\n",
      "24/12/02 02:36:05 WARN MemoryStore: Failed to reserve initial memory threshold of 1024.0 KiB for computing block rdd_6927_23 in memory.\n",
      "24/12/02 02:36:05 WARN MemoryStore: Not enough space to cache rdd_6927_16 in memory! (computed 384.0 B so far)\n",
      "24/12/02 02:36:05 WARN MemoryStore: Not enough space to cache rdd_6927_23 in memory! (computed 384.0 B so far)\n",
      "24/12/02 02:36:06 WARN MemoryStore: Not enough space to cache rdd_6927_17 in memory! (computed 12.3 MiB so far)\n",
      "24/12/02 02:36:06 WARN MemoryStore: Not enough space to cache rdd_6927_22 in memory! (computed 12.3 MiB so far)\n",
      "24/12/02 02:36:06 WARN MemoryStore: Not enough space to cache rdd_6927_15 in memory! (computed 8.2 MiB so far)\n",
      "24/12/02 02:36:06 WARN MemoryStore: Not enough space to cache rdd_6927_20 in memory! (computed 18.6 MiB so far)\n",
      "24/12/02 02:36:06 WARN MemoryStore: Not enough space to cache rdd_6927_19 in memory! (computed 12.3 MiB so far)\n",
      "24/12/02 02:36:06 WARN MemoryStore: Not enough space to cache rdd_6927_13 in memory! (computed 12.3 MiB so far)\n",
      "24/12/02 02:36:06 WARN MemoryStore: Not enough space to cache rdd_6927_18 in memory! (computed 12.3 MiB so far)\n",
      "24/12/02 02:36:06 WARN DAGScheduler: Broadcasting large task binary with size 2.1 MiB\n",
      "24/12/02 02:36:07 WARN MemoryStore: Not enough space to cache rdd_6927_18 in memory! (computed 8.2 MiB so far)\n",
      "24/12/02 02:36:07 WARN MemoryStore: Not enough space to cache rdd_6927_17 in memory! (computed 5.3 MiB so far)\n",
      "24/12/02 02:36:07 WARN MemoryStore: Not enough space to cache rdd_6927_13 in memory! (computed 8.2 MiB so far)\n",
      "24/12/02 02:36:07 WARN MemoryStore: Not enough space to cache rdd_6927_16 in memory! (computed 8.2 MiB so far)\n",
      "24/12/02 02:36:07 WARN MemoryStore: Not enough space to cache rdd_6927_19 in memory! (computed 8.2 MiB so far)\n",
      "24/12/02 02:36:07 WARN MemoryStore: Not enough space to cache rdd_6927_15 in memory! (computed 8.2 MiB so far)\n",
      "24/12/02 02:36:07 WARN MemoryStore: Not enough space to cache rdd_6927_21 in memory! (computed 12.3 MiB so far)\n",
      "24/12/02 02:36:07 WARN MemoryStore: Not enough space to cache rdd_6927_20 in memory! (computed 12.3 MiB so far)\n",
      "24/12/02 02:36:07 WARN MemoryStore: Not enough space to cache rdd_6927_22 in memory! (computed 8.2 MiB so far)\n",
      "24/12/02 02:36:07 WARN MemoryStore: Not enough space to cache rdd_6927_14 in memory! (computed 8.2 MiB so far)\n",
      "24/12/02 02:36:08 WARN DAGScheduler: Broadcasting large task binary with size 2.6 MiB\n",
      "24/12/02 02:36:09 WARN MemoryStore: Not enough space to cache rdd_6927_22 in memory! (computed 8.2 MiB so far)\n",
      "24/12/02 02:36:09 WARN MemoryStore: Not enough space to cache rdd_6927_21 in memory! (computed 8.2 MiB so far)\n",
      "24/12/02 02:36:09 WARN MemoryStore: Not enough space to cache rdd_6927_13 in memory! (computed 5.3 MiB so far)\n",
      "24/12/02 02:36:09 WARN MemoryStore: Not enough space to cache rdd_6927_17 in memory! (computed 8.2 MiB so far)\n",
      "24/12/02 02:36:09 WARN MemoryStore: Not enough space to cache rdd_6927_16 in memory! (computed 12.3 MiB so far)\n",
      "24/12/02 02:36:09 WARN MemoryStore: Not enough space to cache rdd_6927_14 in memory! (computed 12.3 MiB so far)\n",
      "24/12/02 02:36:09 WARN MemoryStore: Not enough space to cache rdd_6927_19 in memory! (computed 12.3 MiB so far)\n",
      "24/12/02 02:36:09 WARN MemoryStore: Not enough space to cache rdd_6927_18 in memory! (computed 12.3 MiB so far)\n",
      "24/12/02 02:36:09 WARN MemoryStore: Not enough space to cache rdd_6927_20 in memory! (computed 18.6 MiB so far)\n",
      "24/12/02 02:36:09 WARN MemoryStore: Not enough space to cache rdd_6927_15 in memory! (computed 12.3 MiB so far)\n",
      "24/12/02 02:36:10 WARN DAGScheduler: Broadcasting large task binary with size 3.3 MiB\n",
      "24/12/02 02:36:11 WARN MemoryStore: Not enough space to cache rdd_6927_21 in memory! (computed 12.3 MiB so far)\n",
      "24/12/02 02:36:11 WARN MemoryStore: Not enough space to cache rdd_6927_15 in memory! (computed 12.3 MiB so far)\n",
      "24/12/02 02:36:11 WARN MemoryStore: Not enough space to cache rdd_6927_17 in memory! (computed 12.3 MiB so far)\n",
      "24/12/02 02:36:11 WARN MemoryStore: Not enough space to cache rdd_6927_19 in memory! (computed 12.3 MiB so far)\n",
      "24/12/02 02:36:11 WARN MemoryStore: Not enough space to cache rdd_6927_20 in memory! (computed 12.3 MiB so far)\n",
      "24/12/02 02:36:11 WARN MemoryStore: Not enough space to cache rdd_6927_16 in memory! (computed 8.2 MiB so far)\n",
      "24/12/02 02:36:11 WARN MemoryStore: Not enough space to cache rdd_6927_22 in memory! (computed 8.2 MiB so far)\n",
      "24/12/02 02:36:11 WARN MemoryStore: Not enough space to cache rdd_6927_18 in memory! (computed 8.2 MiB so far)\n",
      "24/12/02 02:36:11 WARN MemoryStore: Not enough space to cache rdd_6927_13 in memory! (computed 12.3 MiB so far)\n",
      "24/12/02 02:36:11 WARN MemoryStore: Not enough space to cache rdd_6927_14 in memory! (computed 12.3 MiB so far)\n",
      "24/12/02 02:36:11 WARN MemoryStore: Not enough space to cache rdd_6927_12 in memory! (computed 1302.7 KiB so far)\n",
      "24/12/02 02:36:12 WARN DAGScheduler: Broadcasting large task binary with size 4.1 MiB\n",
      "24/12/02 02:36:13 WARN MemoryStore: Not enough space to cache rdd_6927_13 in memory! (computed 12.3 MiB so far)\n",
      "24/12/02 02:36:13 WARN MemoryStore: Not enough space to cache rdd_6927_14 in memory! (computed 12.3 MiB so far)\n",
      "24/12/02 02:36:13 WARN MemoryStore: Not enough space to cache rdd_6927_17 in memory! (computed 12.3 MiB so far)\n",
      "24/12/02 02:36:13 WARN MemoryStore: Not enough space to cache rdd_6927_20 in memory! (computed 12.3 MiB so far)\n",
      "24/12/02 02:36:13 WARN MemoryStore: Not enough space to cache rdd_6927_19 in memory! (computed 12.3 MiB so far)\n",
      "24/12/02 02:36:13 WARN MemoryStore: Not enough space to cache rdd_6927_15 in memory! (computed 12.3 MiB so far)\n",
      "24/12/02 02:36:13 WARN MemoryStore: Not enough space to cache rdd_6927_21 in memory! (computed 12.3 MiB so far)\n",
      "24/12/02 02:36:13 WARN MemoryStore: Not enough space to cache rdd_6927_16 in memory! (computed 5.3 MiB so far)\n",
      "24/12/02 02:36:13 WARN MemoryStore: Not enough space to cache rdd_6927_18 in memory! (computed 12.3 MiB so far)\n",
      "24/12/02 02:36:13 WARN MemoryStore: Not enough space to cache rdd_6927_12 in memory! (computed 8.2 MiB so far)\n",
      "24/12/02 02:36:13 WARN MemoryStore: Not enough space to cache rdd_6927_22 in memory! (computed 12.3 MiB so far)\n",
      "24/12/02 02:36:15 WARN DAGScheduler: Broadcasting large task binary with size 2.4 MiB\n",
      "24/12/02 02:36:19 WARN MemoryStore: Not enough space to cache rdd_7018_21 in memory! (computed 8.2 MiB so far)\n",
      "24/12/02 02:36:19 WARN MemoryStore: Not enough space to cache rdd_7018_13 in memory! (computed 8.2 MiB so far)\n",
      "24/12/02 02:36:19 WARN MemoryStore: Not enough space to cache rdd_7018_15 in memory! (computed 8.2 MiB so far)\n",
      "24/12/02 02:36:19 WARN MemoryStore: Not enough space to cache rdd_7018_16 in memory! (computed 5.3 MiB so far)\n",
      "24/12/02 02:36:19 WARN MemoryStore: Not enough space to cache rdd_7018_14 in memory! (computed 3.5 MiB so far)\n",
      "24/12/02 02:36:19 WARN MemoryStore: Not enough space to cache rdd_7018_19 in memory! (computed 5.3 MiB so far)\n",
      "24/12/02 02:36:19 WARN MemoryStore: Not enough space to cache rdd_7018_18 in memory! (computed 5.3 MiB so far)\n",
      "24/12/02 02:36:19 WARN MemoryStore: Not enough space to cache rdd_7018_22 in memory! (computed 8.2 MiB so far)\n",
      "24/12/02 02:36:19 WARN MemoryStore: Not enough space to cache rdd_7018_17 in memory! (computed 5.3 MiB so far)\n",
      "24/12/02 02:36:19 WARN MemoryStore: Not enough space to cache rdd_7018_20 in memory! (computed 5.3 MiB so far)\n",
      "24/12/02 02:36:19 WARN BlockManager: Persisting block rdd_7018_22 to disk instead.\n",
      "24/12/02 02:36:19 WARN BlockManager: Persisting block rdd_7018_16 to disk instead.\n",
      "24/12/02 02:36:19 WARN BlockManager: Persisting block rdd_7018_13 to disk instead.\n",
      "24/12/02 02:36:19 WARN BlockManager: Persisting block rdd_7018_14 to disk instead.\n",
      "24/12/02 02:36:19 WARN BlockManager: Persisting block rdd_7018_17 to disk instead.\n",
      "24/12/02 02:36:19 WARN BlockManager: Persisting block rdd_7018_21 to disk instead.\n",
      "24/12/02 02:36:19 WARN BlockManager: Persisting block rdd_7018_19 to disk instead.\n",
      "24/12/02 02:36:19 WARN BlockManager: Persisting block rdd_7018_20 to disk instead.\n",
      "24/12/02 02:36:19 WARN BlockManager: Persisting block rdd_7018_15 to disk instead.\n",
      "24/12/02 02:36:19 WARN BlockManager: Persisting block rdd_7018_18 to disk instead.\n",
      "24/12/02 02:36:19 WARN MemoryStore: Not enough space to cache rdd_7018_16 in memory! (computed 8.2 MiB so far)\n",
      "24/12/02 02:36:19 WARN MemoryStore: Not enough space to cache rdd_7018_18 in memory! (computed 8.2 MiB so far)\n",
      "24/12/02 02:36:19 WARN MemoryStore: Not enough space to cache rdd_7018_20 in memory! (computed 1302.7 KiB so far)\n",
      "24/12/02 02:36:19 WARN MemoryStore: Not enough space to cache rdd_7018_17 in memory! (computed 8.2 MiB so far)\n",
      "24/12/02 02:36:19 WARN MemoryStore: Not enough space to cache rdd_7018_13 in memory! (computed 8.2 MiB so far)\n",
      "24/12/02 02:36:19 WARN MemoryStore: Not enough space to cache rdd_7018_22 in memory! (computed 2.2 MiB so far)\n",
      "24/12/02 02:36:19 WARN MemoryStore: Not enough space to cache rdd_7018_19 in memory! (computed 8.2 MiB so far)\n",
      "24/12/02 02:36:19 WARN MemoryStore: Not enough space to cache rdd_7018_21 in memory! (computed 12.3 MiB so far)\n",
      "24/12/02 02:36:19 WARN MemoryStore: Not enough space to cache rdd_7018_14 in memory! (computed 18.6 MiB so far)\n",
      "24/12/02 02:36:19 WARN MemoryStore: Not enough space to cache rdd_7018_15 in memory! (computed 12.3 MiB so far)\n",
      "24/12/02 02:36:20 WARN MemoryStore: Not enough space to cache rdd_7018_14 in memory! (computed 12.3 MiB so far)\n",
      "24/12/02 02:36:20 WARN MemoryStore: Not enough space to cache rdd_7018_15 in memory! (computed 12.3 MiB so far)\n",
      "24/12/02 02:36:20 WARN MemoryStore: Not enough space to cache rdd_7018_18 in memory! (computed 12.3 MiB so far)\n",
      "24/12/02 02:36:20 WARN MemoryStore: Not enough space to cache rdd_7018_13 in memory! (computed 18.6 MiB so far)\n",
      "24/12/02 02:36:20 WARN MemoryStore: Not enough space to cache rdd_7018_17 in memory! (computed 12.3 MiB so far)\n",
      "24/12/02 02:36:20 WARN MemoryStore: Not enough space to cache rdd_7018_16 in memory! (computed 12.3 MiB so far)\n",
      "24/12/02 02:36:20 WARN MemoryStore: Not enough space to cache rdd_7018_22 in memory! (computed 12.3 MiB so far)\n",
      "24/12/02 02:36:20 WARN MemoryStore: Not enough space to cache rdd_7018_20 in memory! (computed 12.3 MiB so far)\n",
      "24/12/02 02:36:20 WARN MemoryStore: Not enough space to cache rdd_7018_19 in memory! (computed 28.1 MiB so far)\n",
      "24/12/02 02:36:21 WARN MemoryStore: Not enough space to cache rdd_7018_15 in memory! (computed 18.6 MiB so far)\n",
      "24/12/02 02:36:21 WARN MemoryStore: Not enough space to cache rdd_7018_14 in memory! (computed 18.6 MiB so far)\n",
      "24/12/02 02:36:21 WARN MemoryStore: Not enough space to cache rdd_7018_13 in memory! (computed 18.6 MiB so far)\n",
      "24/12/02 02:36:21 WARN MemoryStore: Failed to reserve initial memory threshold of 1024.0 KiB for computing block rdd_7018_17 in memory.\n",
      "24/12/02 02:36:21 WARN MemoryStore: Not enough space to cache rdd_7018_17 in memory! (computed 384.0 B so far)\n",
      "24/12/02 02:36:21 WARN MemoryStore: Failed to reserve initial memory threshold of 1024.0 KiB for computing block rdd_7018_20 in memory.\n",
      "24/12/02 02:36:21 WARN MemoryStore: Failed to reserve initial memory threshold of 1024.0 KiB for computing block rdd_7018_22 in memory.\n",
      "24/12/02 02:36:21 WARN MemoryStore: Failed to reserve initial memory threshold of 1024.0 KiB for computing block rdd_7018_16 in memory.\n",
      "24/12/02 02:36:21 WARN MemoryStore: Not enough space to cache rdd_7018_20 in memory! (computed 384.0 B so far)\n",
      "24/12/02 02:36:21 WARN MemoryStore: Not enough space to cache rdd_7018_22 in memory! (computed 384.0 B so far)\n",
      "24/12/02 02:36:21 WARN MemoryStore: Not enough space to cache rdd_7018_16 in memory! (computed 384.0 B so far)\n",
      "24/12/02 02:36:21 WARN MemoryStore: Failed to reserve initial memory threshold of 1024.0 KiB for computing block rdd_7018_18 in memory.\n",
      "24/12/02 02:36:21 WARN MemoryStore: Not enough space to cache rdd_7018_18 in memory! (computed 384.0 B so far)\n",
      "24/12/02 02:36:21 WARN MemoryStore: Not enough space to cache rdd_7018_19 in memory! (computed 1302.7 KiB so far)\n",
      "24/12/02 02:36:22 WARN DAGScheduler: Broadcasting large task binary with size 1104.3 KiB\n",
      "24/12/02 02:36:22 WARN MemoryStore: Not enough space to cache rdd_7018_15 in memory! (computed 5.3 MiB so far)\n",
      "24/12/02 02:36:22 WARN MemoryStore: Not enough space to cache rdd_7018_13 in memory! (computed 8.2 MiB so far)\n",
      "24/12/02 02:36:22 WARN MemoryStore: Not enough space to cache rdd_7018_18 in memory! (computed 5.3 MiB so far)\n",
      "24/12/02 02:36:22 WARN MemoryStore: Not enough space to cache rdd_7018_17 in memory! (computed 5.3 MiB so far)\n",
      "24/12/02 02:36:22 WARN MemoryStore: Not enough space to cache rdd_7018_16 in memory! (computed 5.3 MiB so far)\n",
      "24/12/02 02:36:22 WARN MemoryStore: Not enough space to cache rdd_7018_22 in memory! (computed 5.3 MiB so far)\n",
      "24/12/02 02:36:22 WARN MemoryStore: Not enough space to cache rdd_7018_20 in memory! (computed 5.3 MiB so far)\n",
      "24/12/02 02:36:22 WARN MemoryStore: Not enough space to cache rdd_7018_19 in memory! (computed 5.3 MiB so far)\n",
      "24/12/02 02:36:22 WARN MemoryStore: Not enough space to cache rdd_7018_14 in memory! (computed 12.3 MiB so far)\n",
      "24/12/02 02:36:23 WARN DAGScheduler: Broadcasting large task binary with size 1340.7 KiB\n",
      "24/12/02 02:36:23 WARN MemoryStore: Not enough space to cache rdd_7018_22 in memory! (computed 8.2 MiB so far)\n",
      "24/12/02 02:36:23 WARN MemoryStore: Not enough space to cache rdd_7018_14 in memory! (computed 8.2 MiB so far)\n",
      "24/12/02 02:36:23 WARN MemoryStore: Not enough space to cache rdd_7018_13 in memory! (computed 5.3 MiB so far)\n",
      "24/12/02 02:36:23 WARN MemoryStore: Not enough space to cache rdd_7018_16 in memory! (computed 3.5 MiB so far)\n",
      "24/12/02 02:36:23 WARN MemoryStore: Not enough space to cache rdd_7018_15 in memory! (computed 5.3 MiB so far)\n",
      "24/12/02 02:36:23 WARN MemoryStore: Not enough space to cache rdd_7018_20 in memory! (computed 8.2 MiB so far)\n",
      "24/12/02 02:36:23 WARN MemoryStore: Not enough space to cache rdd_7018_17 in memory! (computed 5.3 MiB so far)\n",
      "24/12/02 02:36:23 WARN MemoryStore: Not enough space to cache rdd_7018_18 in memory! (computed 5.3 MiB so far)\n",
      "24/12/02 02:36:23 WARN MemoryStore: Not enough space to cache rdd_7018_19 in memory! (computed 8.2 MiB so far)\n",
      "24/12/02 02:36:24 WARN DAGScheduler: Broadcasting large task binary with size 1665.8 KiB\n",
      "24/12/02 02:36:24 WARN MemoryStore: Not enough space to cache rdd_7018_14 in memory! (computed 5.3 MiB so far)\n",
      "24/12/02 02:36:24 WARN MemoryStore: Not enough space to cache rdd_7018_16 in memory! (computed 5.3 MiB so far)\n",
      "24/12/02 02:36:24 WARN MemoryStore: Not enough space to cache rdd_7018_18 in memory! (computed 5.3 MiB so far)\n",
      "24/12/02 02:36:24 WARN MemoryStore: Not enough space to cache rdd_7018_13 in memory! (computed 18.6 MiB so far)\n",
      "24/12/02 02:36:24 WARN MemoryStore: Not enough space to cache rdd_7018_19 in memory! (computed 3.5 MiB so far)\n",
      "24/12/02 02:36:24 WARN MemoryStore: Not enough space to cache rdd_7018_22 in memory! (computed 3.5 MiB so far)\n",
      "24/12/02 02:36:24 WARN MemoryStore: Not enough space to cache rdd_7018_17 in memory! (computed 8.2 MiB so far)\n",
      "24/12/02 02:36:24 WARN MemoryStore: Not enough space to cache rdd_7018_15 in memory! (computed 5.3 MiB so far)\n",
      "24/12/02 02:36:24 WARN MemoryStore: Not enough space to cache rdd_7018_20 in memory! (computed 2.2 MiB so far)\n",
      "24/12/02 02:36:25 WARN DAGScheduler: Broadcasting large task binary with size 2.1 MiB\n",
      "24/12/02 02:36:26 WARN MemoryStore: Not enough space to cache rdd_7018_18 in memory! (computed 8.2 MiB so far)\n",
      "24/12/02 02:36:26 WARN MemoryStore: Not enough space to cache rdd_7018_13 in memory! (computed 8.2 MiB so far)\n",
      "24/12/02 02:36:26 WARN MemoryStore: Not enough space to cache rdd_7018_15 in memory! (computed 12.3 MiB so far)\n",
      "24/12/02 02:36:26 WARN MemoryStore: Not enough space to cache rdd_7018_16 in memory! (computed 18.6 MiB so far)\n",
      "24/12/02 02:36:26 WARN MemoryStore: Not enough space to cache rdd_7018_20 in memory! (computed 18.6 MiB so far)\n",
      "24/12/02 02:36:26 WARN MemoryStore: Not enough space to cache rdd_7018_17 in memory! (computed 8.2 MiB so far)\n",
      "24/12/02 02:36:26 WARN MemoryStore: Not enough space to cache rdd_7018_19 in memory! (computed 18.6 MiB so far)\n",
      "24/12/02 02:36:26 WARN MemoryStore: Not enough space to cache rdd_7018_14 in memory! (computed 12.3 MiB so far)\n",
      "24/12/02 02:36:26 WARN MemoryStore: Not enough space to cache rdd_7018_22 in memory! (computed 8.2 MiB so far)\n",
      "24/12/02 02:36:27 WARN DAGScheduler: Broadcasting large task binary with size 2.6 MiB\n",
      "24/12/02 02:36:27 WARN MemoryStore: Not enough space to cache rdd_7018_2 in memory! (computed 28.1 MiB so far)\n",
      "24/12/02 02:36:27 WARN MemoryStore: Not enough space to cache rdd_7018_0 in memory! (computed 28.1 MiB so far)\n",
      "24/12/02 02:36:27 WARN MemoryStore: Not enough space to cache rdd_7018_14 in memory! (computed 12.3 MiB so far)\n",
      "24/12/02 02:36:27 WARN MemoryStore: Not enough space to cache rdd_7018_20 in memory! (computed 12.3 MiB so far)\n",
      "24/12/02 02:36:27 WARN MemoryStore: Not enough space to cache rdd_7018_15 in memory! (computed 12.3 MiB so far)\n",
      "24/12/02 02:36:27 WARN MemoryStore: Not enough space to cache rdd_7018_16 in memory! (computed 12.3 MiB so far)\n",
      "24/12/02 02:36:27 WARN MemoryStore: Not enough space to cache rdd_7018_13 in memory! (computed 8.2 MiB so far)\n",
      "24/12/02 02:36:27 WARN MemoryStore: Not enough space to cache rdd_7018_19 in memory! (computed 12.3 MiB so far)\n",
      "24/12/02 02:36:27 WARN MemoryStore: Not enough space to cache rdd_7018_18 in memory! (computed 18.6 MiB so far)\n",
      "24/12/02 02:36:29 WARN DAGScheduler: Broadcasting large task binary with size 3.3 MiB\n",
      "24/12/02 02:36:30 WARN MemoryStore: Not enough space to cache rdd_7018_19 in memory! (computed 18.6 MiB so far)\n",
      "24/12/02 02:36:30 WARN MemoryStore: Not enough space to cache rdd_7018_14 in memory! (computed 12.3 MiB so far)\n",
      "24/12/02 02:36:30 WARN MemoryStore: Not enough space to cache rdd_7018_15 in memory! (computed 18.6 MiB so far)\n",
      "24/12/02 02:36:30 WARN MemoryStore: Not enough space to cache rdd_7018_13 in memory! (computed 12.3 MiB so far)\n",
      "24/12/02 02:36:30 WARN MemoryStore: Not enough space to cache rdd_7018_16 in memory! (computed 12.3 MiB so far)\n",
      "24/12/02 02:36:30 WARN MemoryStore: Not enough space to cache rdd_7018_21 in memory! (computed 12.3 MiB so far)\n",
      "24/12/02 02:36:30 WARN MemoryStore: Not enough space to cache rdd_7018_12 in memory! (computed 18.6 MiB so far)\n",
      "24/12/02 02:36:30 WARN MemoryStore: Not enough space to cache rdd_7018_20 in memory! (computed 8.2 MiB so far)\n",
      "24/12/02 02:36:30 WARN MemoryStore: Not enough space to cache rdd_7018_18 in memory! (computed 12.3 MiB so far)\n",
      "24/12/02 02:36:30 WARN MemoryStore: Not enough space to cache rdd_7018_17 in memory! (computed 8.2 MiB so far)\n",
      "24/12/02 02:36:31 WARN DAGScheduler: Broadcasting large task binary with size 4.1 MiB\n",
      "24/12/02 02:36:32 WARN MemoryStore: Not enough space to cache rdd_7018_16 in memory! (computed 8.2 MiB so far)\n",
      "24/12/02 02:36:32 WARN MemoryStore: Not enough space to cache rdd_7018_21 in memory! (computed 12.3 MiB so far)\n",
      "24/12/02 02:36:32 WARN MemoryStore: Not enough space to cache rdd_7018_13 in memory! (computed 8.2 MiB so far)\n",
      "24/12/02 02:36:32 WARN MemoryStore: Not enough space to cache rdd_7018_15 in memory! (computed 18.6 MiB so far)\n",
      "24/12/02 02:36:32 WARN MemoryStore: Not enough space to cache rdd_7018_18 in memory! (computed 18.6 MiB so far)\n",
      "24/12/02 02:36:32 WARN MemoryStore: Not enough space to cache rdd_7018_14 in memory! (computed 8.2 MiB so far)\n",
      "24/12/02 02:36:32 WARN MemoryStore: Not enough space to cache rdd_7018_20 in memory! (computed 12.3 MiB so far)\n",
      "24/12/02 02:36:32 WARN MemoryStore: Not enough space to cache rdd_7018_19 in memory! (computed 18.6 MiB so far)\n",
      "24/12/02 02:36:32 WARN MemoryStore: Not enough space to cache rdd_7018_12 in memory! (computed 5.3 MiB so far)\n",
      "24/12/02 02:36:32 WARN MemoryStore: Not enough space to cache rdd_7018_17 in memory! (computed 3.5 MiB so far)\n",
      "24/12/02 02:36:34 WARN DAGScheduler: Broadcasting large task binary with size 2.4 MiB\n",
      "24/12/02 02:36:44 WARN MemoryStore: Not enough space to cache rdd_7118_10 in memory! (computed 18.6 MiB so far)\n",
      "24/12/02 02:36:44 WARN MemoryStore: Not enough space to cache rdd_7118_7 in memory! (computed 28.1 MiB so far)\n",
      "24/12/02 02:36:44 WARN MemoryStore: Not enough space to cache rdd_7118_2 in memory! (computed 18.6 MiB so far)\n",
      "24/12/02 02:36:44 WARN MemoryStore: Not enough space to cache rdd_7118_6 in memory! (computed 28.1 MiB so far)\n",
      "24/12/02 02:36:44 WARN MemoryStore: Not enough space to cache rdd_7118_9 in memory! (computed 28.1 MiB so far)\n",
      "24/12/02 02:36:44 WARN MemoryStore: Not enough space to cache rdd_7118_3 in memory! (computed 28.1 MiB so far)\n",
      "24/12/02 02:36:44 WARN BlockManager: Persisting block rdd_7118_2 to disk instead.\n",
      "24/12/02 02:36:44 WARN BlockManager: Persisting block rdd_7118_3 to disk instead.\n",
      "24/12/02 02:36:44 WARN BlockManager: Persisting block rdd_7118_10 to disk instead.\n",
      "24/12/02 02:36:44 WARN BlockManager: Persisting block rdd_7118_9 to disk instead.\n",
      "24/12/02 02:36:44 WARN BlockManager: Persisting block rdd_7118_7 to disk instead.\n",
      "24/12/02 02:36:44 WARN BlockManager: Persisting block rdd_7118_6 to disk instead.\n",
      "24/12/02 02:36:44 WARN MemoryStore: Not enough space to cache rdd_7118_7 in memory! (computed 28.1 MiB so far)\n",
      "24/12/02 02:36:44 WARN MemoryStore: Not enough space to cache rdd_7118_10 in memory! (computed 28.1 MiB so far)\n",
      "24/12/02 02:36:45 WARN MemoryStore: Not enough space to cache rdd_7118_19 in memory! (computed 1302.7 KiB so far)\n",
      "24/12/02 02:36:45 WARN MemoryStore: Not enough space to cache rdd_7118_20 in memory! (computed 1302.7 KiB so far)\n",
      "24/12/02 02:36:45 WARN MemoryStore: Not enough space to cache rdd_7118_14 in memory! (computed 1302.7 KiB so far)\n",
      "24/12/02 02:36:45 WARN MemoryStore: Not enough space to cache rdd_7118_21 in memory! (computed 1302.7 KiB so far)\n",
      "24/12/02 02:36:45 WARN MemoryStore: Not enough space to cache rdd_7118_22 in memory! (computed 1302.7 KiB so far)\n",
      "24/12/02 02:36:45 WARN MemoryStore: Not enough space to cache rdd_7118_18 in memory! (computed 1302.7 KiB so far)\n",
      "24/12/02 02:36:45 WARN MemoryStore: Not enough space to cache rdd_7118_15 in memory! (computed 1302.7 KiB so far)\n",
      "24/12/02 02:36:45 WARN BlockManager: Persisting block rdd_7118_14 to disk instead.\n",
      "24/12/02 02:36:45 WARN BlockManager: Persisting block rdd_7118_22 to disk instead.\n",
      "24/12/02 02:36:45 WARN BlockManager: Persisting block rdd_7118_20 to disk instead.\n",
      "24/12/02 02:36:45 WARN BlockManager: Persisting block rdd_7118_21 to disk instead.\n",
      "24/12/02 02:36:45 WARN BlockManager: Persisting block rdd_7118_19 to disk instead.\n",
      "24/12/02 02:36:45 WARN BlockManager: Persisting block rdd_7118_18 to disk instead.\n",
      "24/12/02 02:36:45 WARN BlockManager: Persisting block rdd_7118_15 to disk instead.\n",
      "24/12/02 02:36:45 WARN MemoryStore: Not enough space to cache rdd_7118_17 in memory! (computed 12.3 MiB so far)\n",
      "24/12/02 02:36:45 WARN BlockManager: Persisting block rdd_7118_17 to disk instead.\n",
      "24/12/02 02:36:45 WARN MemoryStore: Not enough space to cache rdd_7118_16 in memory! (computed 12.3 MiB so far)\n",
      "24/12/02 02:36:45 WARN BlockManager: Persisting block rdd_7118_16 to disk instead.\n",
      "24/12/02 02:36:45 WARN MemoryStore: Not enough space to cache rdd_7118_13 in memory! (computed 18.6 MiB so far)\n",
      "24/12/02 02:36:45 WARN BlockManager: Persisting block rdd_7118_13 to disk instead.\n",
      "24/12/02 02:36:45 WARN MemoryStore: Not enough space to cache rdd_7118_17 in memory! (computed 12.3 MiB so far)\n",
      "24/12/02 02:36:45 WARN MemoryStore: Not enough space to cache rdd_7118_16 in memory! (computed 8.2 MiB so far)\n",
      "24/12/02 02:36:45 WARN MemoryStore: Not enough space to cache rdd_7118_13 in memory! (computed 12.3 MiB so far)\n",
      "24/12/02 02:36:45 WARN MemoryStore: Not enough space to cache rdd_7118_21 in memory! (computed 12.3 MiB so far)\n",
      "24/12/02 02:36:45 WARN MemoryStore: Not enough space to cache rdd_7118_18 in memory! (computed 3.5 MiB so far)\n",
      "24/12/02 02:36:45 WARN MemoryStore: Not enough space to cache rdd_7118_15 in memory! (computed 5.3 MiB so far)\n",
      "24/12/02 02:36:45 WARN MemoryStore: Not enough space to cache rdd_7118_19 in memory! (computed 18.6 MiB so far)\n",
      "24/12/02 02:36:45 WARN MemoryStore: Not enough space to cache rdd_7118_14 in memory! (computed 18.6 MiB so far)\n",
      "24/12/02 02:36:46 WARN MemoryStore: Not enough space to cache rdd_7118_22 in memory! (computed 43.1 MiB so far)\n",
      "24/12/02 02:36:46 WARN MemoryStore: Not enough space to cache rdd_7118_20 in memory! (computed 43.1 MiB so far)\n",
      "24/12/02 02:36:46 WARN MemoryStore: Not enough space to cache rdd_7118_10 in memory! (computed 28.1 MiB so far)\n",
      "24/12/02 02:36:46 WARN MemoryStore: Not enough space to cache rdd_7118_4 in memory! (computed 28.1 MiB so far)\n",
      "24/12/02 02:36:46 WARN MemoryStore: Failed to reserve initial memory threshold of 1024.0 KiB for computing block rdd_7118_20 in memory.\n",
      "24/12/02 02:36:46 WARN MemoryStore: Not enough space to cache rdd_7118_14 in memory! (computed 2.2 MiB so far)\n",
      "24/12/02 02:36:46 WARN MemoryStore: Failed to reserve initial memory threshold of 1024.0 KiB for computing block rdd_7118_19 in memory.\n",
      "24/12/02 02:36:46 WARN MemoryStore: Not enough space to cache rdd_7118_13 in memory! (computed 2.2 MiB so far)\n",
      "24/12/02 02:36:46 WARN MemoryStore: Not enough space to cache rdd_7118_17 in memory! (computed 1302.7 KiB so far)\n",
      "24/12/02 02:36:46 WARN MemoryStore: Not enough space to cache rdd_7118_20 in memory! (computed 384.0 B so far)\n",
      "24/12/02 02:36:46 WARN MemoryStore: Not enough space to cache rdd_7118_19 in memory! (computed 384.0 B so far)\n",
      "24/12/02 02:36:46 WARN MemoryStore: Not enough space to cache rdd_7118_15 in memory! (computed 3.5 MiB so far)\n",
      "24/12/02 02:36:46 WARN MemoryStore: Not enough space to cache rdd_7118_16 in memory! (computed 2.2 MiB so far)\n",
      "24/12/02 02:36:46 WARN MemoryStore: Not enough space to cache rdd_7118_18 in memory! (computed 2.2 MiB so far)\n",
      "24/12/02 02:36:47 WARN MemoryStore: Not enough space to cache rdd_7118_21 in memory! (computed 28.1 MiB so far)\n",
      "24/12/02 02:36:47 WARN MemoryStore: Not enough space to cache rdd_7118_22 in memory! (computed 28.1 MiB so far)\n",
      "24/12/02 02:36:47 WARN MemoryStore: Not enough space to cache rdd_7118_4 in memory! (computed 28.1 MiB so far)\n",
      "24/12/02 02:36:47 WARN MemoryStore: Not enough space to cache rdd_7118_10 in memory! (computed 28.1 MiB so far)\n",
      "24/12/02 02:36:47 WARN MemoryStore: Not enough space to cache rdd_7118_15 in memory! (computed 8.2 MiB so far)\n",
      "24/12/02 02:36:47 WARN MemoryStore: Not enough space to cache rdd_7118_20 in memory! (computed 5.3 MiB so far)\n",
      "24/12/02 02:36:48 WARN MemoryStore: Not enough space to cache rdd_7118_21 in memory! (computed 8.2 MiB so far)\n",
      "24/12/02 02:36:48 WARN MemoryStore: Not enough space to cache rdd_7118_17 in memory! (computed 8.2 MiB so far)\n",
      "24/12/02 02:36:48 WARN MemoryStore: Not enough space to cache rdd_7118_14 in memory! (computed 5.3 MiB so far)\n",
      "24/12/02 02:36:48 WARN MemoryStore: Not enough space to cache rdd_7118_22 in memory! (computed 8.2 MiB so far)\n",
      "24/12/02 02:36:48 WARN MemoryStore: Not enough space to cache rdd_7118_13 in memory! (computed 8.2 MiB so far)\n",
      "24/12/02 02:36:48 WARN MemoryStore: Not enough space to cache rdd_7118_19 in memory! (computed 5.3 MiB so far)\n",
      "24/12/02 02:36:48 WARN MemoryStore: Not enough space to cache rdd_7118_18 in memory! (computed 3.5 MiB so far)\n",
      "24/12/02 02:36:48 WARN MemoryStore: Not enough space to cache rdd_7118_16 in memory! (computed 8.2 MiB so far)\n",
      "24/12/02 02:36:48 WARN DAGScheduler: Broadcasting large task binary with size 1075.7 KiB\n",
      "24/12/02 02:36:48 WARN MemoryStore: Not enough space to cache rdd_7118_4 in memory! (computed 28.1 MiB so far)\n",
      "24/12/02 02:36:48 WARN MemoryStore: Not enough space to cache rdd_7118_10 in memory! (computed 28.1 MiB so far)\n",
      "24/12/02 02:36:48 WARN MemoryStore: Not enough space to cache rdd_7118_13 in memory! (computed 3.5 MiB so far)\n",
      "24/12/02 02:36:48 WARN MemoryStore: Not enough space to cache rdd_7118_14 in memory! (computed 2.2 MiB so far)\n",
      "24/12/02 02:36:48 WARN MemoryStore: Not enough space to cache rdd_7118_15 in memory! (computed 2.2 MiB so far)\n",
      "24/12/02 02:36:48 WARN MemoryStore: Not enough space to cache rdd_7118_18 in memory! (computed 1302.7 KiB so far)\n",
      "24/12/02 02:36:48 WARN MemoryStore: Not enough space to cache rdd_7118_19 in memory! (computed 2.2 MiB so far)\n",
      "24/12/02 02:36:48 WARN MemoryStore: Not enough space to cache rdd_7118_17 in memory! (computed 2.2 MiB so far)\n",
      "24/12/02 02:36:48 WARN MemoryStore: Failed to reserve initial memory threshold of 1024.0 KiB for computing block rdd_7118_22 in memory.\n",
      "24/12/02 02:36:48 WARN MemoryStore: Not enough space to cache rdd_7118_22 in memory! (computed 384.0 B so far)\n",
      "24/12/02 02:36:48 WARN MemoryStore: Failed to reserve initial memory threshold of 1024.0 KiB for computing block rdd_7118_16 in memory.\n",
      "24/12/02 02:36:48 WARN MemoryStore: Not enough space to cache rdd_7118_16 in memory! (computed 384.0 B so far)\n",
      "24/12/02 02:36:48 WARN MemoryStore: Failed to reserve initial memory threshold of 1024.0 KiB for computing block rdd_7118_20 in memory.\n",
      "24/12/02 02:36:48 WARN MemoryStore: Not enough space to cache rdd_7118_20 in memory! (computed 384.0 B so far)\n",
      "24/12/02 02:36:48 WARN MemoryStore: Failed to reserve initial memory threshold of 1024.0 KiB for computing block rdd_7118_21 in memory.\n",
      "24/12/02 02:36:48 WARN MemoryStore: Not enough space to cache rdd_7118_21 in memory! (computed 384.0 B so far)\n",
      "24/12/02 02:36:49 WARN DAGScheduler: Broadcasting large task binary with size 1329.1 KiB\n",
      "24/12/02 02:36:49 WARN MemoryStore: Not enough space to cache rdd_7118_10 in memory! (computed 28.1 MiB so far)\n",
      "24/12/02 02:36:49 WARN MemoryStore: Not enough space to cache rdd_7118_4 in memory! (computed 28.1 MiB so far)\n",
      "24/12/02 02:36:50 WARN MemoryStore: Not enough space to cache rdd_7118_20 in memory! (computed 5.3 MiB so far)\n",
      "24/12/02 02:36:50 WARN MemoryStore: Not enough space to cache rdd_7118_17 in memory! (computed 12.3 MiB so far)\n",
      "24/12/02 02:36:50 WARN MemoryStore: Not enough space to cache rdd_7118_18 in memory! (computed 8.2 MiB so far)\n",
      "24/12/02 02:36:50 WARN MemoryStore: Not enough space to cache rdd_7118_16 in memory! (computed 8.2 MiB so far)\n",
      "24/12/02 02:36:50 WARN MemoryStore: Not enough space to cache rdd_7118_19 in memory! (computed 8.2 MiB so far)\n",
      "24/12/02 02:36:50 WARN MemoryStore: Not enough space to cache rdd_7118_15 in memory! (computed 8.2 MiB so far)\n",
      "24/12/02 02:36:50 WARN MemoryStore: Not enough space to cache rdd_7118_13 in memory! (computed 8.2 MiB so far)\n",
      "24/12/02 02:36:50 WARN MemoryStore: Not enough space to cache rdd_7118_14 in memory! (computed 8.2 MiB so far)\n",
      "24/12/02 02:36:50 WARN MemoryStore: Not enough space to cache rdd_7118_22 in memory! (computed 28.1 MiB so far)\n",
      "24/12/02 02:36:50 WARN MemoryStore: Not enough space to cache rdd_7118_21 in memory! (computed 28.1 MiB so far)\n",
      "24/12/02 02:36:51 WARN DAGScheduler: Broadcasting large task binary with size 1682.6 KiB\n",
      "24/12/02 02:36:51 WARN MemoryStore: Not enough space to cache rdd_7118_10 in memory! (computed 28.1 MiB so far)\n",
      "24/12/02 02:36:51 WARN MemoryStore: Not enough space to cache rdd_7118_4 in memory! (computed 28.1 MiB so far)\n",
      "24/12/02 02:36:51 WARN MemoryStore: Not enough space to cache rdd_7118_15 in memory! (computed 12.3 MiB so far)\n",
      "24/12/02 02:36:51 WARN MemoryStore: Not enough space to cache rdd_7118_21 in memory! (computed 12.3 MiB so far)\n",
      "24/12/02 02:36:51 WARN MemoryStore: Not enough space to cache rdd_7118_20 in memory! (computed 8.2 MiB so far)\n",
      "24/12/02 02:36:51 WARN MemoryStore: Not enough space to cache rdd_7118_13 in memory! (computed 12.3 MiB so far)\n",
      "24/12/02 02:36:51 WARN MemoryStore: Not enough space to cache rdd_7118_14 in memory! (computed 12.3 MiB so far)\n",
      "24/12/02 02:36:51 WARN MemoryStore: Not enough space to cache rdd_7118_17 in memory! (computed 12.3 MiB so far)\n",
      "24/12/02 02:36:51 WARN MemoryStore: Not enough space to cache rdd_7118_16 in memory! (computed 12.3 MiB so far)\n",
      "24/12/02 02:36:51 WARN MemoryStore: Not enough space to cache rdd_7118_22 in memory! (computed 1302.7 KiB so far)\n",
      "24/12/02 02:36:51 WARN MemoryStore: Not enough space to cache rdd_7118_18 in memory! (computed 12.3 MiB so far)\n",
      "24/12/02 02:36:51 WARN MemoryStore: Not enough space to cache rdd_7118_19 in memory! (computed 12.3 MiB so far)\n",
      "24/12/02 02:36:51 WARN MemoryStore: Not enough space to cache rdd_7118_23 in memory! (computed 1302.7 KiB so far)\n",
      "24/12/02 02:36:52 WARN DAGScheduler: Broadcasting large task binary with size 2.1 MiB\n",
      "24/12/02 02:36:53 WARN MemoryStore: Not enough space to cache rdd_7118_7 in memory! (computed 28.1 MiB so far)\n",
      "24/12/02 02:36:53 WARN MemoryStore: Not enough space to cache rdd_7118_4 in memory! (computed 28.1 MiB so far)\n",
      "24/12/02 02:36:53 WARN MemoryStore: Not enough space to cache rdd_7118_17 in memory! (computed 18.6 MiB so far)\n",
      "24/12/02 02:36:53 WARN MemoryStore: Not enough space to cache rdd_7118_14 in memory! (computed 8.2 MiB so far)\n",
      "24/12/02 02:36:53 WARN MemoryStore: Not enough space to cache rdd_7118_16 in memory! (computed 18.6 MiB so far)\n",
      "24/12/02 02:36:53 WARN MemoryStore: Not enough space to cache rdd_7118_21 in memory! (computed 12.3 MiB so far)\n",
      "24/12/02 02:36:53 WARN MemoryStore: Not enough space to cache rdd_7118_20 in memory! (computed 8.2 MiB so far)\n",
      "24/12/02 02:36:53 WARN MemoryStore: Not enough space to cache rdd_7118_13 in memory! (computed 8.2 MiB so far)\n",
      "24/12/02 02:36:53 WARN MemoryStore: Not enough space to cache rdd_7118_19 in memory! (computed 8.2 MiB so far)\n",
      "24/12/02 02:36:53 WARN MemoryStore: Not enough space to cache rdd_7118_15 in memory! (computed 18.6 MiB so far)\n",
      "24/12/02 02:36:53 WARN MemoryStore: Not enough space to cache rdd_7118_18 in memory! (computed 18.6 MiB so far)\n",
      "24/12/02 02:36:53 WARN MemoryStore: Not enough space to cache rdd_7118_22 in memory! (computed 18.6 MiB so far)\n",
      "24/12/02 02:36:54 WARN DAGScheduler: Broadcasting large task binary with size 2.7 MiB\n",
      "24/12/02 02:36:55 WARN MemoryStore: Not enough space to cache rdd_7118_5 in memory! (computed 28.1 MiB so far)\n",
      "24/12/02 02:36:55 WARN MemoryStore: Not enough space to cache rdd_7118_4 in memory! (computed 28.1 MiB so far)\n",
      "24/12/02 02:36:55 WARN MemoryStore: Not enough space to cache rdd_7118_7 in memory! (computed 28.1 MiB so far)\n",
      "24/12/02 02:36:55 WARN MemoryStore: Not enough space to cache rdd_7118_12 in memory! (computed 18.6 MiB so far)\n",
      "24/12/02 02:36:55 WARN MemoryStore: Not enough space to cache rdd_7118_18 in memory! (computed 18.6 MiB so far)\n",
      "24/12/02 02:36:55 WARN MemoryStore: Not enough space to cache rdd_7118_14 in memory! (computed 18.6 MiB so far)\n",
      "24/12/02 02:36:55 WARN MemoryStore: Not enough space to cache rdd_7118_15 in memory! (computed 12.3 MiB so far)\n",
      "24/12/02 02:36:55 WARN MemoryStore: Not enough space to cache rdd_7118_17 in memory! (computed 18.6 MiB so far)\n",
      "24/12/02 02:36:55 WARN MemoryStore: Not enough space to cache rdd_7118_13 in memory! (computed 12.3 MiB so far)\n",
      "24/12/02 02:36:55 WARN MemoryStore: Not enough space to cache rdd_7118_16 in memory! (computed 18.6 MiB so far)\n",
      "24/12/02 02:36:55 WARN MemoryStore: Not enough space to cache rdd_7118_19 in memory! (computed 18.6 MiB so far)\n",
      "24/12/02 02:36:56 WARN MemoryStore: Not enough space to cache rdd_7118_22 in memory! (computed 28.1 MiB so far)\n",
      "24/12/02 02:36:56 WARN MemoryStore: Not enough space to cache rdd_7118_20 in memory! (computed 18.6 MiB so far)\n",
      "24/12/02 02:36:57 WARN DAGScheduler: Broadcasting large task binary with size 3.4 MiB\n",
      "24/12/02 02:36:58 WARN MemoryStore: Not enough space to cache rdd_7118_4 in memory! (computed 28.1 MiB so far)\n",
      "24/12/02 02:36:58 WARN MemoryStore: Not enough space to cache rdd_7118_7 in memory! (computed 28.1 MiB so far)\n",
      "24/12/02 02:36:58 WARN MemoryStore: Not enough space to cache rdd_7118_5 in memory! (computed 18.6 MiB so far)\n",
      "24/12/02 02:36:58 WARN MemoryStore: Not enough space to cache rdd_7118_12 in memory! (computed 18.6 MiB so far)\n",
      "24/12/02 02:36:58 WARN MemoryStore: Not enough space to cache rdd_7118_19 in memory! (computed 18.6 MiB so far)\n",
      "24/12/02 02:36:58 WARN MemoryStore: Not enough space to cache rdd_7118_20 in memory! (computed 12.3 MiB so far)\n",
      "24/12/02 02:36:58 WARN MemoryStore: Not enough space to cache rdd_7118_16 in memory! (computed 12.3 MiB so far)\n",
      "24/12/02 02:36:58 WARN MemoryStore: Not enough space to cache rdd_7118_21 in memory! (computed 12.3 MiB so far)\n",
      "24/12/02 02:36:58 WARN MemoryStore: Not enough space to cache rdd_7118_13 in memory! (computed 12.3 MiB so far)\n",
      "24/12/02 02:36:58 WARN MemoryStore: Not enough space to cache rdd_7118_14 in memory! (computed 12.3 MiB so far)\n",
      "24/12/02 02:36:58 WARN MemoryStore: Not enough space to cache rdd_7118_22 in memory! (computed 8.2 MiB so far)\n",
      "24/12/02 02:36:58 WARN MemoryStore: Not enough space to cache rdd_7118_17 in memory! (computed 5.3 MiB so far)\n",
      "24/12/02 02:36:58 WARN MemoryStore: Not enough space to cache rdd_7118_15 in memory! (computed 12.3 MiB so far)\n",
      "24/12/02 02:36:58 WARN MemoryStore: Not enough space to cache rdd_7118_18 in memory! (computed 28.1 MiB so far)\n",
      "24/12/02 02:37:00 WARN DAGScheduler: Broadcasting large task binary with size 4.3 MiB\n",
      "24/12/02 02:37:00 WARN MemoryStore: Not enough space to cache rdd_7118_8 in memory! (computed 28.1 MiB so far)\n",
      "24/12/02 02:37:01 WARN MemoryStore: Not enough space to cache rdd_7118_13 in memory! (computed 12.3 MiB so far)\n",
      "24/12/02 02:37:01 WARN MemoryStore: Not enough space to cache rdd_7118_18 in memory! (computed 18.6 MiB so far)\n",
      "24/12/02 02:37:01 WARN MemoryStore: Not enough space to cache rdd_7118_14 in memory! (computed 18.6 MiB so far)\n",
      "24/12/02 02:37:01 WARN MemoryStore: Not enough space to cache rdd_7118_17 in memory! (computed 18.6 MiB so far)\n",
      "24/12/02 02:37:01 WARN MemoryStore: Not enough space to cache rdd_7118_12 in memory! (computed 18.6 MiB so far)\n",
      "24/12/02 02:37:01 WARN MemoryStore: Not enough space to cache rdd_7118_16 in memory! (computed 18.6 MiB so far)\n",
      "24/12/02 02:37:01 WARN MemoryStore: Not enough space to cache rdd_7118_15 in memory! (computed 18.6 MiB so far)\n",
      "24/12/02 02:37:01 WARN MemoryStore: Not enough space to cache rdd_7118_19 in memory! (computed 28.1 MiB so far)\n",
      "24/12/02 02:37:03 WARN DAGScheduler: Broadcasting large task binary with size 2.5 MiB\n",
      "                                                                                \r"
     ]
    },
    {
     "name": "stdout",
     "output_type": "stream",
     "text": [
      "Accuracy del mejor modelo: 85.13%\n",
      "Mejores hiperparámetros:\n",
      "  - maxDepth: 10\n",
      "  - numTrees: 100\n"
     ]
    },
    {
     "name": "stderr",
     "output_type": "stream",
     "text": [
      "24/12/02 02:37:10 WARN DAGScheduler: Broadcasting large task binary with size 2.5 MiB\n",
      "                                                                                \r"
     ]
    },
    {
     "name": "stdout",
     "output_type": "stream",
     "text": [
      "+-------------+----------+--------------------+\n",
      "|indexed_label|prediction|         probability|\n",
      "+-------------+----------+--------------------+\n",
      "|          0.0|       1.0|[0.42651681799652...|\n",
      "|          0.0|       1.0|[0.39578326085701...|\n",
      "|          0.0|       0.0|[0.54261190090549...|\n",
      "|          0.0|       1.0|[0.48986015001263...|\n",
      "|          0.0|       1.0|[0.24455895908908...|\n",
      "|          0.0|       1.0|[0.45358834032549...|\n",
      "|          0.0|       1.0|[0.38978388413711...|\n",
      "|          0.0|       1.0|[0.48855290019228...|\n",
      "|          0.0|       1.0|[0.34873105911458...|\n",
      "|          0.0|       1.0|[0.25413371912385...|\n",
      "|          0.0|       1.0|[0.47430547919836...|\n",
      "|          0.0|       0.0|[0.53380099159160...|\n",
      "|          0.0|       1.0|[0.40592567617748...|\n",
      "|          0.0|       0.0|[0.52015302411209...|\n",
      "|          0.0|       1.0|[0.31090468835465...|\n",
      "|          0.0|       1.0|[0.37916954639699...|\n",
      "|          0.0|       1.0|[0.36105239958523...|\n",
      "|          0.0|       0.0|[0.55473291707942...|\n",
      "|          0.0|       0.0|[0.60361178391733...|\n",
      "|          0.0|       1.0|[0.31435616156154...|\n",
      "+-------------+----------+--------------------+\n",
      "only showing top 20 rows\n",
      "\n"
     ]
    },
    {
     "name": "stderr",
     "output_type": "stream",
     "text": [
      "24/12/02 02:37:10 WARN DAGScheduler: Broadcasting large task binary with size 2.5 MiB\n",
      "                                                                                \r"
     ]
    },
    {
     "name": "stdout",
     "output_type": "stream",
     "text": [
      "Área bajo la curva ROC: 0.8513\n"
     ]
    }
   ],
   "source": [
    "from pyspark.sql import SparkSession\n",
    "from pyspark.ml.feature import VectorAssembler, StringIndexer, HashingTF, IDF, Tokenizer\n",
    "from pyspark.ml.classification import RandomForestClassifier\n",
    "from pyspark.ml.evaluation import BinaryClassificationEvaluator\n",
    "from pyspark.ml.tuning import ParamGridBuilder, CrossValidator\n",
    "from pyspark.sql.functions import col, concat_ws\n",
    "\n",
    "spark = SparkSession.builder.appName(\"RandomForestWithText\").getOrCreate()\n",
    "\n",
    "file_path = \"data/processed/gift_cards_classify_dask.json\"\n",
    "df = spark.read.json(file_path)\n",
    "\n",
    "df = df.withColumn(\"combined_text\", concat_ws(\" \", col(\"title\"), col(\"text\")))\n",
    "\n",
    "df = df.withColumn(\"verified_purchase\", col(\"verified_purchase\").cast(\"integer\"))\n",
    "\n",
    "df = df.select(\"rating\", \"helpful_vote\", \"verified_purchase\", \"label\", \"combined_text\")\n",
    "\n",
    "indexer = StringIndexer(inputCol=\"label\", outputCol=\"indexed_label\")\n",
    "df = indexer.fit(df).transform(df)\n",
    "\n",
    "tokenizer = Tokenizer(inputCol=\"combined_text\", outputCol=\"tokens\")\n",
    "df = tokenizer.transform(df)\n",
    "\n",
    "hashingTF = HashingTF(inputCol=\"tokens\", outputCol=\"raw_text_features\", numFeatures=5000)\n",
    "df = hashingTF.transform(df)\n",
    "\n",
    "idf = IDF(inputCol=\"raw_text_features\", outputCol=\"text_features\")\n",
    "idf_model = idf.fit(df)\n",
    "df = idf_model.transform(df)\n",
    "\n",
    "assembler = VectorAssembler(\n",
    "    inputCols=[\"rating\", \"helpful_vote\", \"verified_purchase\", \"text_features\"], \n",
    "    outputCol=\"features\"\n",
    ")\n",
    "df = assembler.transform(df)\n",
    "\n",
    "class_0 = df.filter(col(\"indexed_label\") == 0.0)\n",
    "class_1 = df.filter(col(\"indexed_label\") == 1.0)\n",
    "\n",
    "min_count = min(class_0.count(), class_1.count())\n",
    "\n",
    "balanced_class_0 = class_0.sample(withReplacement=False, fraction=min_count / class_0.count())\n",
    "balanced_class_1 = class_1.sample(withReplacement=False, fraction=min_count / class_1.count())\n",
    "\n",
    "balanced_data = balanced_class_0.union(balanced_class_1)\n",
    "\n",
    "train_data, test_data = balanced_data.randomSplit([0.7, 0.3], seed=42)\n",
    "\n",
    "rf = RandomForestClassifier(\n",
    "    labelCol=\"indexed_label\", \n",
    "    featuresCol=\"features\"\n",
    ")\n",
    "\n",
    "# Configuamos el grid search y cross validation\n",
    "paramGrid = (ParamGridBuilder()\n",
    "             .addGrid(rf.maxDepth, [5, 10])\n",
    "             .addGrid(rf.numTrees, [50, 100])\n",
    "             .addGrid(rf.maxBins, [20, 60])\n",
    "             .build())\n",
    "\n",
    "evaluator = BinaryClassificationEvaluator(\n",
    "    labelCol=\"indexed_label\", \n",
    "    rawPredictionCol=\"rawPrediction\",\n",
    "    metricName=\"areaUnderROC\"\n",
    ")\n",
    "\n",
    "cv = CrossValidator(\n",
    "    estimator=rf,\n",
    "    estimatorParamMaps=paramGrid,\n",
    "    evaluator=evaluator,\n",
    "    numFolds=5\n",
    ")\n",
    "\n",
    "cvModel = cv.fit(train_data)\n",
    "\n",
    "predictions = cvModel.transform(test_data)\n",
    "\n",
    "accuracy = evaluator.evaluate(predictions)\n",
    "print(f\"Accuracy del mejor modelo: {accuracy * 100:.2f}%\")\n",
    "\n",
    "bestModel = cvModel.bestModel\n",
    "print(\"Mejores hiperparámetros:\")\n",
    "print(f\"  - maxDepth: {bestModel._java_obj.getMaxDepth()}\")\n",
    "print(f\"  - numTrees: {bestModel._java_obj.getNumTrees()}\")\n",
    "\n",
    "bestModel.save(\"best_random_forest_model_with_text\")\n",
    "\n",
    "final_predictions = bestModel.transform(test_data)\n",
    "final_predictions.select(\"indexed_label\", \"prediction\", \"probability\").show()\n",
    "\n",
    "\n",
    "evaluator_accuracy = BinaryClassificationEvaluator(\n",
    "    labelCol=\"indexed_label\", \n",
    "    rawPredictionCol=\"rawPrediction\", \n",
    "    metricName=\"areaUnderROC\"\n",
    ")\n",
    "accuracy = evaluator_accuracy.evaluate(final_predictions)\n",
    "print(f\"Área bajo la curva ROC: {accuracy:.4f}\")\n"
   ]
  }
 ],
 "metadata": {
  "kernelspec": {
   "display_name": "proyecto_BD",
   "language": "python",
   "name": "python3"
  },
  "language_info": {
   "codemirror_mode": {
    "name": "ipython",
    "version": 3
   },
   "file_extension": ".py",
   "mimetype": "text/x-python",
   "name": "python",
   "nbconvert_exporter": "python",
   "pygments_lexer": "ipython3",
   "version": "3.11.10"
  }
 },
 "nbformat": 4,
 "nbformat_minor": 2
}
