{
 "cells": [
  {
   "cell_type": "markdown",
   "metadata": {},
   "source": [
    "# Proyecto Big Data"
   ]
  },
  {
   "cell_type": "code",
   "execution_count": null,
   "metadata": {},
   "outputs": [],
   "source": [
    "!pip install -r requirements.txt"
   ]
  },
  {
   "cell_type": "code",
   "execution_count": 1,
   "metadata": {},
   "outputs": [],
   "source": [
    "import json\n",
    "from pymongo import MongoClient\n",
    "import os\n",
    "import requests\n",
    "import gzip\n",
    "import shutil"
   ]
  },
  {
   "cell_type": "markdown",
   "metadata": {},
   "source": [
    "#### 1. Bajamos la data correspondiente"
   ]
  },
  {
   "cell_type": "code",
   "execution_count": null,
   "metadata": {},
   "outputs": [
    {
     "name": "stdout",
     "output_type": "stream",
     "text": [
      "Archivo descargado: data/raw\\meta_Gift_Cards.jsonl.gz\n",
      "Archivo descomprimido: data/raw\\meta_Gift_Cards.jsonl\n"
     ]
    }
   ],
   "source": [
    "def download_data(link, carpeta_destino):\n",
    "    if not os.path.exists(carpeta_destino):\n",
    "        os.makedirs(carpeta_destino)\n",
    "    \n",
    "    nombre_archivo = os.path.basename(link)\n",
    "    ruta_comprimido = os.path.join(carpeta_destino, nombre_archivo)\n",
    "    ruta_descomprimido = os.path.splitext(ruta_comprimido)[0] # Eliminar la extensión .gz\n",
    "\n",
    "    response = requests.get(link, stream=True)\n",
    "    if response.status_code == 200:\n",
    "        with open(ruta_comprimido, 'wb') as f:\n",
    "            f.write(response.content)\n",
    "            print(f'Archivo descargado: {ruta_comprimido}')\n",
    "    else:\n",
    "        print(f'Error al descargar el archivo: {ruta_comprimido}')\n",
    "        return None\n",
    "\n",
    "    with gzip.open(ruta_comprimido, 'rb') as archivo_comprimido:\n",
    "        with open(ruta_descomprimido, 'wb') as archivo_descomprimido:\n",
    "            shutil.copyfileobj(archivo_comprimido, archivo_descomprimido)\n",
    "    print(f'Archivo descomprimido: {ruta_descomprimido}')\n",
    "\n",
    "    return ruta_descomprimido\n",
    "\n",
    "link_gift_cards = \"https://datarepo.eng.ucsd.edu/mcauley_group/data/amazon_2023/raw/review_categories/Gift_Cards.jsonl.gz\"\n",
    "link_meta_gift_cards = \"https://datarepo.eng.ucsd.edu/mcauley_group/data/amazon_2023/raw/meta_categories/meta_Gift_Cards.jsonl.gz\"\n",
    "carpeta_destino = \"data/raw\"\n",
    "ruta_final_gift_cards = download_data(link_gift_cards, carpeta_destino)\n",
    "ruta_final_meta_gift_cards = download_data(link_meta_gift_cards, carpeta_destino)"
   ]
  },
  {
   "cell_type": "markdown",
   "metadata": {},
   "source": [
    "#### 2. Incorporamos la data en Mongo DB"
   ]
  },
  {
   "cell_type": "markdown",
   "metadata": {},
   "source": [
    "Importante: Crear una conexion en MongoDB con los siguientes nombres de coleccion (gift-cards & meta-gift-cards)"
   ]
  },
  {
   "cell_type": "code",
   "execution_count": 2,
   "metadata": {},
   "outputs": [],
   "source": [
    "# Conectar a MongoDB\n",
    "client = MongoClient(\"mongodb://localhost:27017/\")\n",
    "db = client[\"Amazon\"]\n",
    "collection = db[\"gift-cards\"]\n",
    "collection_meta = db[\"meta-gift-cards\"]"
   ]
  },
  {
   "cell_type": "markdown",
   "metadata": {},
   "source": [
    "2.1 Gift Cards"
   ]
  },
  {
   "cell_type": "code",
   "execution_count": 5,
   "metadata": {},
   "outputs": [
    {
     "name": "stdout",
     "output_type": "stream",
     "text": [
      "Todos los documentos de la colección han sido eliminados.\n"
     ]
    }
   ],
   "source": [
    "# Borramos toda la data antes de volver a insertarla\n",
    "collection.delete_many({})\n",
    "print(\"Todos los documentos de la colección han sido eliminados.\")\n",
    "\n",
    "# Leer el archivo JSON Lines\n",
    "with open(\"data/raw/Gift_Cards.jsonl\", \"r\", encoding=\"utf-8\") as file:\n",
    "    for line in file:\n",
    "        try:\n",
    "            data = json.loads(line)\n",
    "            # Insertamos la data\n",
    "            collection.insert_one(data)\n",
    "        except json.JSONDecodeError as e:\n",
    "            print(f\"Error al decodificar la línea: {e}\")"
   ]
  },
  {
   "cell_type": "markdown",
   "metadata": {},
   "source": [
    "2.2 Meta Gift Cards"
   ]
  },
  {
   "cell_type": "code",
   "execution_count": 7,
   "metadata": {},
   "outputs": [
    {
     "name": "stdout",
     "output_type": "stream",
     "text": [
      "Todos los documentos de la colección han sido eliminados.\n"
     ]
    }
   ],
   "source": [
    "# Borramos toda la data antes de volver a insertarla\n",
    "collection_meta.delete_many({})\n",
    "print(\"Todos los documentos de la colección han sido eliminados.\")\n",
    "\n",
    "# Leer el archivo JSON Lines\n",
    "with open(\"data/raw/meta_Gift_Cards.jsonl\", \"r\", encoding=\"utf-8\") as file:\n",
    "    for line in file:\n",
    "        try:\n",
    "            data = json.loads(line)\n",
    "            # Insertamos la data\n",
    "            collection_meta.insert_one(data)\n",
    "        except json.JSONDecodeError as e:\n",
    "            print(f\"Error al decodificar la línea: {e}\")"
   ]
  },
  {
   "cell_type": "markdown",
   "metadata": {},
   "source": [
    "#### 3. Querys MongoDB"
   ]
  },
  {
   "cell_type": "markdown",
   "metadata": {},
   "source": [
    "3.1 Consulta para actualizar el campo \"main_category\" a \"Gift Card\" de la coleccion de Meta Gift Card"
   ]
  },
  {
   "cell_type": "code",
   "execution_count": 3,
   "metadata": {},
   "outputs": [
    {
     "name": "stdout",
     "output_type": "stream",
     "text": [
      "Documentos actualizados\n"
     ]
    }
   ],
   "source": [
    "result = collection_meta.update_many({}, {\"$set\": {\"main_category\": \"Gift Cards\"}})\n",
    "print(\"Documentos actualizados\")"
   ]
  },
  {
   "cell_type": "markdown",
   "metadata": {},
   "source": [
    "3.2 Consulta en donde se busquen los comentarios que tienen un verified_purchase con valor True, ademas que tengan un rating mayor o igual a 1 y menor o igual a 5, y un helpful_vote mayor o igual a 0"
   ]
  },
  {
   "cell_type": "code",
   "execution_count": 10,
   "metadata": {},
   "outputs": [],
   "source": [
    "query = {\n",
    "    \"verified_purchase\": True,\n",
    "    \"rating\": {\"$gte\": 1, \"$lte\": 5},\n",
    "    \"helpful_vote\": {\"$gte\": 0},\n",
    "}\n",
    "\n",
    "results = collection.find(query)"
   ]
  },
  {
   "cell_type": "markdown",
   "metadata": {},
   "source": [
    "#### 4. Dask y Pandas"
   ]
  },
  {
   "cell_type": "markdown",
   "metadata": {},
   "source": [
    "4.1 Limpieza de data"
   ]
  },
  {
   "cell_type": "code",
   "execution_count": null,
   "metadata": {},
   "outputs": [],
   "source": []
  },
  {
   "cell_type": "markdown",
   "metadata": {},
   "source": [
    "4.2 Medicion de tiempos"
   ]
  },
  {
   "cell_type": "code",
   "execution_count": null,
   "metadata": {},
   "outputs": [],
   "source": []
  },
  {
   "cell_type": "markdown",
   "metadata": {},
   "source": [
    "#### 5. Seteamos LLM"
   ]
  },
  {
   "cell_type": "code",
   "execution_count": null,
   "metadata": {},
   "outputs": [],
   "source": []
  }
 ],
 "metadata": {
  "kernelspec": {
   "display_name": "Python 3",
   "language": "python",
   "name": "python3"
  },
  "language_info": {
   "codemirror_mode": {
    "name": "ipython",
    "version": 3
   },
   "file_extension": ".py",
   "mimetype": "text/x-python",
   "name": "python",
   "nbconvert_exporter": "python",
   "pygments_lexer": "ipython3",
   "version": "3.12.3"
  }
 },
 "nbformat": 4,
 "nbformat_minor": 2
}
