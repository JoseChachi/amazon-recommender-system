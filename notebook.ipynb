{
 "cells": [
  {
   "cell_type": "markdown",
   "metadata": {},
   "source": [
    "# Proyecto Big Data"
   ]
  },
  {
   "cell_type": "code",
   "execution_count": 36,
   "metadata": {},
   "outputs": [
    {
     "name": "stdout",
     "output_type": "stream",
     "text": [
      "Requirement already satisfied: aiosignal==1.3.1 in c:\\users\\norma\\appdata\\local\\programs\\python\\python312\\lib\\site-packages (from -r requirements.txt (line 1)) (1.3.1)\n",
      "Requirement already satisfied: anyio==4.6.2.post1 in c:\\users\\norma\\appdata\\local\\programs\\python\\python312\\lib\\site-packages (from -r requirements.txt (line 2)) (4.6.2.post1)\n",
      "Requirement already satisfied: argon2-cffi==23.1.0 in c:\\users\\norma\\appdata\\local\\programs\\python\\python312\\lib\\site-packages (from -r requirements.txt (line 3)) (23.1.0)\n",
      "Requirement already satisfied: argon2-cffi-bindings==21.2.0 in c:\\users\\norma\\appdata\\local\\programs\\python\\python312\\lib\\site-packages (from -r requirements.txt (line 4)) (21.2.0)\n",
      "Requirement already satisfied: arrow==1.3.0 in c:\\users\\norma\\appdata\\local\\programs\\python\\python312\\lib\\site-packages (from -r requirements.txt (line 5)) (1.3.0)\n",
      "Requirement already satisfied: asttokens==2.4.1 in c:\\users\\norma\\appdata\\roaming\\python\\python312\\site-packages (from -r requirements.txt (line 6)) (2.4.1)\n",
      "Requirement already satisfied: async-lru==2.0.4 in c:\\users\\norma\\appdata\\local\\programs\\python\\python312\\lib\\site-packages (from -r requirements.txt (line 7)) (2.0.4)\n",
      "Requirement already satisfied: attrs==24.2.0 in c:\\users\\norma\\appdata\\local\\programs\\python\\python312\\lib\\site-packages (from -r requirements.txt (line 8)) (24.2.0)\n",
      "Requirement already satisfied: babel==2.16.0 in c:\\users\\norma\\appdata\\local\\programs\\python\\python312\\lib\\site-packages (from -r requirements.txt (line 9)) (2.16.0)\n",
      "Requirement already satisfied: beautifulsoup4==4.12.3 in c:\\users\\norma\\appdata\\local\\programs\\python\\python312\\lib\\site-packages (from -r requirements.txt (line 10)) (4.12.3)\n",
      "Requirement already satisfied: bleach==6.2.0 in c:\\users\\norma\\appdata\\local\\programs\\python\\python312\\lib\\site-packages (from -r requirements.txt (line 11)) (6.2.0)\n",
      "Requirement already satisfied: bokeh==3.6.1 in c:\\users\\norma\\appdata\\local\\programs\\python\\python312\\lib\\site-packages (from -r requirements.txt (line 12)) (3.6.1)\n",
      "Requirement already satisfied: certifi==2024.8.30 in c:\\users\\norma\\appdata\\local\\programs\\python\\python312\\lib\\site-packages (from -r requirements.txt (line 13)) (2024.8.30)\n",
      "Requirement already satisfied: cffi==1.17.1 in c:\\users\\norma\\appdata\\local\\programs\\python\\python312\\lib\\site-packages (from -r requirements.txt (line 14)) (1.17.1)\n",
      "Requirement already satisfied: charset-normalizer==3.4.0 in c:\\users\\norma\\appdata\\local\\programs\\python\\python312\\lib\\site-packages (from -r requirements.txt (line 15)) (3.4.0)\n",
      "Requirement already satisfied: click==8.1.7 in c:\\users\\norma\\appdata\\local\\programs\\python\\python312\\lib\\site-packages (from -r requirements.txt (line 16)) (8.1.7)\n",
      "Requirement already satisfied: cloudpickle==3.1.0 in c:\\users\\norma\\appdata\\local\\programs\\python\\python312\\lib\\site-packages (from -r requirements.txt (line 17)) (3.1.0)\n",
      "Requirement already satisfied: colorama==0.4.6 in c:\\users\\norma\\appdata\\roaming\\python\\python312\\site-packages (from -r requirements.txt (line 18)) (0.4.6)\n",
      "Requirement already satisfied: comm==0.2.2 in c:\\users\\norma\\appdata\\roaming\\python\\python312\\site-packages (from -r requirements.txt (line 19)) (0.2.2)\n",
      "Requirement already satisfied: contourpy==1.3.1 in c:\\users\\norma\\appdata\\local\\programs\\python\\python312\\lib\\site-packages (from -r requirements.txt (line 20)) (1.3.1)\n",
      "Requirement already satisfied: dask==2024.11.2 in c:\\users\\norma\\appdata\\local\\programs\\python\\python312\\lib\\site-packages (from -r requirements.txt (line 21)) (2024.11.2)\n",
      "Requirement already satisfied: dask-expr==1.1.19 in c:\\users\\norma\\appdata\\local\\programs\\python\\python312\\lib\\site-packages (from -r requirements.txt (line 22)) (1.1.19)\n",
      "Requirement already satisfied: dataframe_api_compat==0.2.7 in c:\\users\\norma\\appdata\\local\\programs\\python\\python312\\lib\\site-packages (from -r requirements.txt (line 23)) (0.2.7)\n",
      "Requirement already satisfied: debugpy==1.8.9 in c:\\users\\norma\\appdata\\local\\programs\\python\\python312\\lib\\site-packages (from -r requirements.txt (line 24)) (1.8.9)\n",
      "Requirement already satisfied: decorator==5.1.1 in c:\\users\\norma\\appdata\\roaming\\python\\python312\\site-packages (from -r requirements.txt (line 25)) (5.1.1)\n",
      "Requirement already satisfied: defusedxml==0.7.1 in c:\\users\\norma\\appdata\\local\\programs\\python\\python312\\lib\\site-packages (from -r requirements.txt (line 26)) (0.7.1)\n",
      "Requirement already satisfied: distributed==2024.11.2 in c:\\users\\norma\\appdata\\local\\programs\\python\\python312\\lib\\site-packages (from -r requirements.txt (line 27)) (2024.11.2)\n",
      "Requirement already satisfied: executing==2.1.0 in c:\\users\\norma\\appdata\\local\\programs\\python\\python312\\lib\\site-packages (from -r requirements.txt (line 28)) (2.1.0)\n",
      "Requirement already satisfied: fastjsonschema==2.20.0 in c:\\users\\norma\\appdata\\local\\programs\\python\\python312\\lib\\site-packages (from -r requirements.txt (line 29)) (2.20.0)\n",
      "Requirement already satisfied: filelock==3.16.1 in c:\\users\\norma\\appdata\\local\\programs\\python\\python312\\lib\\site-packages (from -r requirements.txt (line 30)) (3.16.1)\n",
      "Requirement already satisfied: fqdn==1.5.1 in c:\\users\\norma\\appdata\\local\\programs\\python\\python312\\lib\\site-packages (from -r requirements.txt (line 31)) (1.5.1)\n",
      "Requirement already satisfied: frozenlist==1.5.0 in c:\\users\\norma\\appdata\\local\\programs\\python\\python312\\lib\\site-packages (from -r requirements.txt (line 32)) (1.5.0)\n",
      "Requirement already satisfied: fsspec==2024.10.0 in c:\\users\\norma\\appdata\\local\\programs\\python\\python312\\lib\\site-packages (from -r requirements.txt (line 33)) (2024.10.0)\n",
      "Requirement already satisfied: h11==0.14.0 in c:\\users\\norma\\appdata\\local\\programs\\python\\python312\\lib\\site-packages (from -r requirements.txt (line 34)) (0.14.0)\n",
      "Requirement already satisfied: httpcore==1.0.7 in c:\\users\\norma\\appdata\\local\\programs\\python\\python312\\lib\\site-packages (from -r requirements.txt (line 35)) (1.0.7)\n",
      "Requirement already satisfied: httpx==0.27.2 in c:\\users\\norma\\appdata\\local\\programs\\python\\python312\\lib\\site-packages (from -r requirements.txt (line 36)) (0.27.2)\n",
      "Requirement already satisfied: idna==3.10 in c:\\users\\norma\\appdata\\local\\programs\\python\\python312\\lib\\site-packages (from -r requirements.txt (line 37)) (3.10)\n",
      "Requirement already satisfied: importlib_metadata==8.5.0 in c:\\users\\norma\\appdata\\local\\programs\\python\\python312\\lib\\site-packages (from -r requirements.txt (line 38)) (8.5.0)\n",
      "Requirement already satisfied: ipykernel==6.29.5 in c:\\users\\norma\\appdata\\local\\programs\\python\\python312\\lib\\site-packages (from -r requirements.txt (line 39)) (6.29.5)\n",
      "Requirement already satisfied: ipython==8.29.0 in c:\\users\\norma\\appdata\\local\\programs\\python\\python312\\lib\\site-packages (from -r requirements.txt (line 40)) (8.29.0)\n",
      "Requirement already satisfied: ipywidgets==8.1.5 in c:\\users\\norma\\appdata\\local\\programs\\python\\python312\\lib\\site-packages (from -r requirements.txt (line 41)) (8.1.5)\n",
      "Requirement already satisfied: isoduration==20.11.0 in c:\\users\\norma\\appdata\\local\\programs\\python\\python312\\lib\\site-packages (from -r requirements.txt (line 42)) (20.11.0)\n",
      "Requirement already satisfied: jedi==0.19.2 in c:\\users\\norma\\appdata\\local\\programs\\python\\python312\\lib\\site-packages (from -r requirements.txt (line 43)) (0.19.2)\n",
      "Requirement already satisfied: Jinja2==3.1.4 in c:\\users\\norma\\appdata\\local\\programs\\python\\python312\\lib\\site-packages (from -r requirements.txt (line 44)) (3.1.4)\n",
      "Requirement already satisfied: json5==0.9.28 in c:\\users\\norma\\appdata\\local\\programs\\python\\python312\\lib\\site-packages (from -r requirements.txt (line 45)) (0.9.28)\n",
      "Requirement already satisfied: jsonpointer==3.0.0 in c:\\users\\norma\\appdata\\local\\programs\\python\\python312\\lib\\site-packages (from -r requirements.txt (line 46)) (3.0.0)\n",
      "Requirement already satisfied: jsonschema==4.23.0 in c:\\users\\norma\\appdata\\local\\programs\\python\\python312\\lib\\site-packages (from -r requirements.txt (line 47)) (4.23.0)\n",
      "Requirement already satisfied: jsonschema-specifications==2024.10.1 in c:\\users\\norma\\appdata\\local\\programs\\python\\python312\\lib\\site-packages (from -r requirements.txt (line 48)) (2024.10.1)\n",
      "Requirement already satisfied: jupyter==1.1.1 in c:\\users\\norma\\appdata\\local\\programs\\python\\python312\\lib\\site-packages (from -r requirements.txt (line 49)) (1.1.1)\n",
      "Requirement already satisfied: jupyter-console==6.6.3 in c:\\users\\norma\\appdata\\local\\programs\\python\\python312\\lib\\site-packages (from -r requirements.txt (line 50)) (6.6.3)\n",
      "Requirement already satisfied: jupyter-events==0.10.0 in c:\\users\\norma\\appdata\\local\\programs\\python\\python312\\lib\\site-packages (from -r requirements.txt (line 51)) (0.10.0)\n",
      "Requirement already satisfied: jupyter-lsp==2.2.5 in c:\\users\\norma\\appdata\\local\\programs\\python\\python312\\lib\\site-packages (from -r requirements.txt (line 52)) (2.2.5)\n",
      "Requirement already satisfied: jupyter_client==8.6.3 in c:\\users\\norma\\appdata\\local\\programs\\python\\python312\\lib\\site-packages (from -r requirements.txt (line 53)) (8.6.3)\n",
      "Requirement already satisfied: jupyter_core==5.7.2 in c:\\users\\norma\\appdata\\roaming\\python\\python312\\site-packages (from -r requirements.txt (line 54)) (5.7.2)\n",
      "Requirement already satisfied: jupyter_server==2.14.2 in c:\\users\\norma\\appdata\\local\\programs\\python\\python312\\lib\\site-packages (from -r requirements.txt (line 55)) (2.14.2)\n",
      "Requirement already satisfied: jupyter_server_terminals==0.5.3 in c:\\users\\norma\\appdata\\local\\programs\\python\\python312\\lib\\site-packages (from -r requirements.txt (line 56)) (0.5.3)\n",
      "Requirement already satisfied: jupyterlab==4.2.6 in c:\\users\\norma\\appdata\\local\\programs\\python\\python312\\lib\\site-packages (from -r requirements.txt (line 57)) (4.2.6)\n",
      "Requirement already satisfied: jupyterlab_pygments==0.3.0 in c:\\users\\norma\\appdata\\local\\programs\\python\\python312\\lib\\site-packages (from -r requirements.txt (line 58)) (0.3.0)\n",
      "Requirement already satisfied: jupyterlab_server==2.27.3 in c:\\users\\norma\\appdata\\local\\programs\\python\\python312\\lib\\site-packages (from -r requirements.txt (line 59)) (2.27.3)\n",
      "Requirement already satisfied: jupyterlab_widgets==3.0.13 in c:\\users\\norma\\appdata\\local\\programs\\python\\python312\\lib\\site-packages (from -r requirements.txt (line 60)) (3.0.13)\n",
      "Requirement already satisfied: locket==1.0.0 in c:\\users\\norma\\appdata\\local\\programs\\python\\python312\\lib\\site-packages (from -r requirements.txt (line 61)) (1.0.0)\n",
      "Requirement already satisfied: lz4==4.3.3 in c:\\users\\norma\\appdata\\local\\programs\\python\\python312\\lib\\site-packages (from -r requirements.txt (line 62)) (4.3.3)\n",
      "Requirement already satisfied: MarkupSafe==3.0.2 in c:\\users\\norma\\appdata\\local\\programs\\python\\python312\\lib\\site-packages (from -r requirements.txt (line 63)) (3.0.2)\n",
      "Requirement already satisfied: matplotlib-inline==0.1.7 in c:\\users\\norma\\appdata\\roaming\\python\\python312\\site-packages (from -r requirements.txt (line 64)) (0.1.7)\n",
      "Requirement already satisfied: mistune==3.0.2 in c:\\users\\norma\\appdata\\local\\programs\\python\\python312\\lib\\site-packages (from -r requirements.txt (line 65)) (3.0.2)\n",
      "Requirement already satisfied: modin==0.32.0 in c:\\users\\norma\\appdata\\local\\programs\\python\\python312\\lib\\site-packages (from -r requirements.txt (line 66)) (0.32.0)\n",
      "Requirement already satisfied: modin-spreadsheet==0.1.2 in c:\\users\\norma\\appdata\\local\\programs\\python\\python312\\lib\\site-packages (from -r requirements.txt (line 67)) (0.1.2)\n",
      "Requirement already satisfied: msgpack==1.1.0 in c:\\users\\norma\\appdata\\local\\programs\\python\\python312\\lib\\site-packages (from -r requirements.txt (line 68)) (1.1.0)\n",
      "Requirement already satisfied: nbclient==0.10.0 in c:\\users\\norma\\appdata\\local\\programs\\python\\python312\\lib\\site-packages (from -r requirements.txt (line 69)) (0.10.0)\n",
      "Requirement already satisfied: nbconvert==7.16.4 in c:\\users\\norma\\appdata\\local\\programs\\python\\python312\\lib\\site-packages (from -r requirements.txt (line 70)) (7.16.4)\n",
      "Requirement already satisfied: nbformat==5.10.4 in c:\\users\\norma\\appdata\\local\\programs\\python\\python312\\lib\\site-packages (from -r requirements.txt (line 71)) (5.10.4)\n",
      "Requirement already satisfied: nest-asyncio==1.6.0 in c:\\users\\norma\\appdata\\roaming\\python\\python312\\site-packages (from -r requirements.txt (line 72)) (1.6.0)\n",
      "Requirement already satisfied: notebook==7.2.2 in c:\\users\\norma\\appdata\\local\\programs\\python\\python312\\lib\\site-packages (from -r requirements.txt (line 73)) (7.2.2)\n",
      "Requirement already satisfied: notebook_shim==0.2.4 in c:\\users\\norma\\appdata\\local\\programs\\python\\python312\\lib\\site-packages (from -r requirements.txt (line 74)) (0.2.4)\n",
      "Requirement already satisfied: numpy==2.1.3 in c:\\users\\norma\\appdata\\local\\programs\\python\\python312\\lib\\site-packages (from -r requirements.txt (line 75)) (2.1.3)\n",
      "Requirement already satisfied: overrides==7.7.0 in c:\\users\\norma\\appdata\\local\\programs\\python\\python312\\lib\\site-packages (from -r requirements.txt (line 76)) (7.7.0)\n",
      "Requirement already satisfied: packaging==24.2 in c:\\users\\norma\\appdata\\local\\programs\\python\\python312\\lib\\site-packages (from -r requirements.txt (line 77)) (24.2)\n",
      "Requirement already satisfied: pandas==2.2.3 in c:\\users\\norma\\appdata\\local\\programs\\python\\python312\\lib\\site-packages (from -r requirements.txt (line 78)) (2.2.3)\n",
      "Requirement already satisfied: pandocfilters==1.5.1 in c:\\users\\norma\\appdata\\local\\programs\\python\\python312\\lib\\site-packages (from -r requirements.txt (line 79)) (1.5.1)\n",
      "Requirement already satisfied: parso==0.8.4 in c:\\users\\norma\\appdata\\roaming\\python\\python312\\site-packages (from -r requirements.txt (line 80)) (0.8.4)\n",
      "Requirement already satisfied: partd==1.4.2 in c:\\users\\norma\\appdata\\local\\programs\\python\\python312\\lib\\site-packages (from -r requirements.txt (line 81)) (1.4.2)\n",
      "Requirement already satisfied: pillow==11.0.0 in c:\\users\\norma\\appdata\\local\\programs\\python\\python312\\lib\\site-packages (from -r requirements.txt (line 82)) (11.0.0)\n",
      "Requirement already satisfied: platformdirs==4.3.6 in c:\\users\\norma\\appdata\\local\\programs\\python\\python312\\lib\\site-packages (from -r requirements.txt (line 83)) (4.3.6)\n",
      "Requirement already satisfied: prometheus_client==0.21.0 in c:\\users\\norma\\appdata\\local\\programs\\python\\python312\\lib\\site-packages (from -r requirements.txt (line 84)) (0.21.0)\n",
      "Requirement already satisfied: prompt_toolkit==3.0.48 in c:\\users\\norma\\appdata\\local\\programs\\python\\python312\\lib\\site-packages (from -r requirements.txt (line 85)) (3.0.48)\n",
      "Requirement already satisfied: protobuf==5.28.3 in c:\\users\\norma\\appdata\\local\\programs\\python\\python312\\lib\\site-packages (from -r requirements.txt (line 86)) (5.28.3)\n",
      "Requirement already satisfied: psutil==6.1.0 in c:\\users\\norma\\appdata\\local\\programs\\python\\python312\\lib\\site-packages (from -r requirements.txt (line 87)) (6.1.0)\n",
      "Requirement already satisfied: pure_eval==0.2.3 in c:\\users\\norma\\appdata\\local\\programs\\python\\python312\\lib\\site-packages (from -r requirements.txt (line 88)) (0.2.3)\n",
      "Requirement already satisfied: py4j==0.10.9.7 in c:\\users\\norma\\appdata\\local\\programs\\python\\python312\\lib\\site-packages (from -r requirements.txt (line 89)) (0.10.9.7)\n",
      "Requirement already satisfied: pyarrow==18.0.0 in c:\\users\\norma\\appdata\\local\\programs\\python\\python312\\lib\\site-packages (from -r requirements.txt (line 90)) (18.0.0)\n",
      "Requirement already satisfied: pycparser==2.22 in c:\\users\\norma\\appdata\\local\\programs\\python\\python312\\lib\\site-packages (from -r requirements.txt (line 91)) (2.22)\n",
      "Requirement already satisfied: Pygments==2.18.0 in c:\\users\\norma\\appdata\\roaming\\python\\python312\\site-packages (from -r requirements.txt (line 92)) (2.18.0)\n",
      "Requirement already satisfied: pyspark==3.5.3 in c:\\users\\norma\\appdata\\local\\programs\\python\\python312\\lib\\site-packages (from -r requirements.txt (line 93)) (3.5.3)\n",
      "Requirement already satisfied: python-dateutil==2.9.0.post0 in c:\\users\\norma\\appdata\\roaming\\python\\python312\\site-packages (from -r requirements.txt (line 94)) (2.9.0.post0)\n",
      "Requirement already satisfied: python-json-logger==2.0.7 in c:\\users\\norma\\appdata\\local\\programs\\python\\python312\\lib\\site-packages (from -r requirements.txt (line 95)) (2.0.7)\n",
      "Requirement already satisfied: pytz==2024.2 in c:\\users\\norma\\appdata\\local\\programs\\python\\python312\\lib\\site-packages (from -r requirements.txt (line 96)) (2024.2)\n",
      "Requirement already satisfied: pywin32==308 in c:\\users\\norma\\appdata\\local\\programs\\python\\python312\\lib\\site-packages (from -r requirements.txt (line 97)) (308)\n",
      "Requirement already satisfied: pywinpty==2.0.14 in c:\\users\\norma\\appdata\\local\\programs\\python\\python312\\lib\\site-packages (from -r requirements.txt (line 98)) (2.0.14)\n",
      "Requirement already satisfied: PyYAML==6.0.2 in c:\\users\\norma\\appdata\\local\\programs\\python\\python312\\lib\\site-packages (from -r requirements.txt (line 99)) (6.0.2)\n",
      "Requirement already satisfied: pyzmq==26.2.0 in c:\\users\\norma\\appdata\\local\\programs\\python\\python312\\lib\\site-packages (from -r requirements.txt (line 100)) (26.2.0)\n",
      "Requirement already satisfied: ray==2.39.0 in c:\\users\\norma\\appdata\\local\\programs\\python\\python312\\lib\\site-packages (from -r requirements.txt (line 101)) (2.39.0)\n",
      "Requirement already satisfied: referencing==0.35.1 in c:\\users\\norma\\appdata\\local\\programs\\python\\python312\\lib\\site-packages (from -r requirements.txt (line 102)) (0.35.1)\n",
      "Requirement already satisfied: requests==2.32.3 in c:\\users\\norma\\appdata\\local\\programs\\python\\python312\\lib\\site-packages (from -r requirements.txt (line 103)) (2.32.3)\n",
      "Requirement already satisfied: rfc3339-validator==0.1.4 in c:\\users\\norma\\appdata\\local\\programs\\python\\python312\\lib\\site-packages (from -r requirements.txt (line 104)) (0.1.4)\n",
      "Requirement already satisfied: rfc3986-validator==0.1.1 in c:\\users\\norma\\appdata\\local\\programs\\python\\python312\\lib\\site-packages (from -r requirements.txt (line 105)) (0.1.1)\n",
      "Requirement already satisfied: rpds-py==0.21.0 in c:\\users\\norma\\appdata\\local\\programs\\python\\python312\\lib\\site-packages (from -r requirements.txt (line 106)) (0.21.0)\n",
      "Requirement already satisfied: Send2Trash==1.8.3 in c:\\users\\norma\\appdata\\local\\programs\\python\\python312\\lib\\site-packages (from -r requirements.txt (line 107)) (1.8.3)\n",
      "Requirement already satisfied: six==1.16.0 in c:\\users\\norma\\appdata\\roaming\\python\\python312\\site-packages (from -r requirements.txt (line 108)) (1.16.0)\n",
      "Requirement already satisfied: sniffio==1.3.1 in c:\\users\\norma\\appdata\\local\\programs\\python\\python312\\lib\\site-packages (from -r requirements.txt (line 109)) (1.3.1)\n",
      "Requirement already satisfied: sortedcontainers==2.4.0 in c:\\users\\norma\\appdata\\local\\programs\\python\\python312\\lib\\site-packages (from -r requirements.txt (line 110)) (2.4.0)\n",
      "Requirement already satisfied: soupsieve==2.6 in c:\\users\\norma\\appdata\\local\\programs\\python\\python312\\lib\\site-packages (from -r requirements.txt (line 111)) (2.6)\n",
      "Requirement already satisfied: stack-data==0.6.3 in c:\\users\\norma\\appdata\\roaming\\python\\python312\\site-packages (from -r requirements.txt (line 112)) (0.6.3)\n",
      "Requirement already satisfied: tblib==3.0.0 in c:\\users\\norma\\appdata\\local\\programs\\python\\python312\\lib\\site-packages (from -r requirements.txt (line 113)) (3.0.0)\n",
      "Requirement already satisfied: terminado==0.18.1 in c:\\users\\norma\\appdata\\local\\programs\\python\\python312\\lib\\site-packages (from -r requirements.txt (line 114)) (0.18.1)\n",
      "Requirement already satisfied: tinycss2==1.4.0 in c:\\users\\norma\\appdata\\local\\programs\\python\\python312\\lib\\site-packages (from -r requirements.txt (line 115)) (1.4.0)\n",
      "Requirement already satisfied: toolz==1.0.0 in c:\\users\\norma\\appdata\\local\\programs\\python\\python312\\lib\\site-packages (from -r requirements.txt (line 116)) (1.0.0)\n",
      "Requirement already satisfied: tornado==6.4.2 in c:\\users\\norma\\appdata\\local\\programs\\python\\python312\\lib\\site-packages (from -r requirements.txt (line 117)) (6.4.2)\n",
      "Requirement already satisfied: traitlets==5.14.3 in c:\\users\\norma\\appdata\\roaming\\python\\python312\\site-packages (from -r requirements.txt (line 118)) (5.14.3)\n",
      "Requirement already satisfied: types-python-dateutil==2.9.0.20241003 in c:\\users\\norma\\appdata\\local\\programs\\python\\python312\\lib\\site-packages (from -r requirements.txt (line 119)) (2.9.0.20241003)\n",
      "Requirement already satisfied: typing_extensions==4.12.2 in c:\\users\\norma\\appdata\\local\\programs\\python\\python312\\lib\\site-packages (from -r requirements.txt (line 120)) (4.12.2)\n",
      "Requirement already satisfied: tzdata==2024.2 in c:\\users\\norma\\appdata\\local\\programs\\python\\python312\\lib\\site-packages (from -r requirements.txt (line 121)) (2024.2)\n",
      "Requirement already satisfied: uri-template==1.3.0 in c:\\users\\norma\\appdata\\local\\programs\\python\\python312\\lib\\site-packages (from -r requirements.txt (line 122)) (1.3.0)\n",
      "Requirement already satisfied: urllib3==2.2.3 in c:\\users\\norma\\appdata\\local\\programs\\python\\python312\\lib\\site-packages (from -r requirements.txt (line 123)) (2.2.3)\n",
      "Requirement already satisfied: wcwidth==0.2.13 in c:\\users\\norma\\appdata\\roaming\\python\\python312\\site-packages (from -r requirements.txt (line 124)) (0.2.13)\n",
      "Requirement already satisfied: webcolors==24.11.1 in c:\\users\\norma\\appdata\\local\\programs\\python\\python312\\lib\\site-packages (from -r requirements.txt (line 125)) (24.11.1)\n",
      "Requirement already satisfied: webencodings==0.5.1 in c:\\users\\norma\\appdata\\local\\programs\\python\\python312\\lib\\site-packages (from -r requirements.txt (line 126)) (0.5.1)\n",
      "Requirement already satisfied: websocket-client==1.8.0 in c:\\users\\norma\\appdata\\local\\programs\\python\\python312\\lib\\site-packages (from -r requirements.txt (line 127)) (1.8.0)\n",
      "Requirement already satisfied: widgetsnbextension==4.0.13 in c:\\users\\norma\\appdata\\local\\programs\\python\\python312\\lib\\site-packages (from -r requirements.txt (line 128)) (4.0.13)\n",
      "Requirement already satisfied: xyzservices==2024.9.0 in c:\\users\\norma\\appdata\\local\\programs\\python\\python312\\lib\\site-packages (from -r requirements.txt (line 129)) (2024.9.0)\n",
      "Requirement already satisfied: zict==3.0.0 in c:\\users\\norma\\appdata\\local\\programs\\python\\python312\\lib\\site-packages (from -r requirements.txt (line 130)) (3.0.0)\n",
      "Requirement already satisfied: zipp==3.21.0 in c:\\users\\norma\\appdata\\local\\programs\\python\\python312\\lib\\site-packages (from -r requirements.txt (line 131)) (3.21.0)\n",
      "Requirement already satisfied: transformers in c:\\users\\norma\\appdata\\local\\programs\\python\\python312\\lib\\site-packages (from -r requirements.txt (line 132)) (4.46.3)\n",
      "Requirement already satisfied: pymongo in c:\\users\\norma\\appdata\\local\\programs\\python\\python312\\lib\\site-packages (from -r requirements.txt (line 133)) (4.10.1)\n",
      "Requirement already satisfied: tqdm in c:\\users\\norma\\appdata\\local\\programs\\python\\python312\\lib\\site-packages (from -r requirements.txt (line 134)) (4.66.5)\n",
      "Requirement already satisfied: setuptools>=40.1.0 in c:\\users\\norma\\appdata\\local\\programs\\python\\python312\\lib\\site-packages (from jupyterlab==4.2.6->-r requirements.txt (line 57)) (72.1.0)\n",
      "Requirement already satisfied: huggingface-hub<1.0,>=0.23.2 in c:\\users\\norma\\appdata\\local\\programs\\python\\python312\\lib\\site-packages (from transformers->-r requirements.txt (line 132)) (0.26.2)\n",
      "Requirement already satisfied: regex!=2019.12.17 in c:\\users\\norma\\appdata\\local\\programs\\python\\python312\\lib\\site-packages (from transformers->-r requirements.txt (line 132)) (2024.7.24)\n",
      "Requirement already satisfied: tokenizers<0.21,>=0.20 in c:\\users\\norma\\appdata\\local\\programs\\python\\python312\\lib\\site-packages (from transformers->-r requirements.txt (line 132)) (0.20.3)\n",
      "Requirement already satisfied: safetensors>=0.4.1 in c:\\users\\norma\\appdata\\local\\programs\\python\\python312\\lib\\site-packages (from transformers->-r requirements.txt (line 132)) (0.4.5)\n",
      "Requirement already satisfied: dnspython<3.0.0,>=1.16.0 in c:\\users\\norma\\appdata\\local\\programs\\python\\python312\\lib\\site-packages (from pymongo->-r requirements.txt (line 133)) (2.6.1)\n",
      "Looking in indexes: https://download.pytorch.org/whl/cpu\n",
      "Requirement already satisfied: torch in c:\\users\\norma\\appdata\\local\\programs\\python\\python312\\lib\\site-packages (2.5.1)\n",
      "Requirement already satisfied: torchvision in c:\\users\\norma\\appdata\\local\\programs\\python\\python312\\lib\\site-packages (0.20.1)\n",
      "Requirement already satisfied: torchaudio in c:\\users\\norma\\appdata\\local\\programs\\python\\python312\\lib\\site-packages (2.5.1+cpu)\n",
      "Requirement already satisfied: filelock in c:\\users\\norma\\appdata\\local\\programs\\python\\python312\\lib\\site-packages (from torch) (3.16.1)\n",
      "Requirement already satisfied: typing-extensions>=4.8.0 in c:\\users\\norma\\appdata\\local\\programs\\python\\python312\\lib\\site-packages (from torch) (4.12.2)\n",
      "Requirement already satisfied: networkx in c:\\users\\norma\\appdata\\local\\programs\\python\\python312\\lib\\site-packages (from torch) (3.4.2)\n",
      "Requirement already satisfied: jinja2 in c:\\users\\norma\\appdata\\local\\programs\\python\\python312\\lib\\site-packages (from torch) (3.1.4)\n",
      "Requirement already satisfied: fsspec in c:\\users\\norma\\appdata\\local\\programs\\python\\python312\\lib\\site-packages (from torch) (2024.10.0)\n",
      "Requirement already satisfied: setuptools in c:\\users\\norma\\appdata\\local\\programs\\python\\python312\\lib\\site-packages (from torch) (72.1.0)\n",
      "Requirement already satisfied: sympy==1.13.1 in c:\\users\\norma\\appdata\\local\\programs\\python\\python312\\lib\\site-packages (from torch) (1.13.1)\n",
      "Requirement already satisfied: mpmath<1.4,>=1.1.0 in c:\\users\\norma\\appdata\\local\\programs\\python\\python312\\lib\\site-packages (from sympy==1.13.1->torch) (1.3.0)\n",
      "Requirement already satisfied: numpy in c:\\users\\norma\\appdata\\local\\programs\\python\\python312\\lib\\site-packages (from torchvision) (2.1.3)\n",
      "Requirement already satisfied: pillow!=8.3.*,>=5.3.0 in c:\\users\\norma\\appdata\\local\\programs\\python\\python312\\lib\\site-packages (from torchvision) (11.0.0)\n",
      "Requirement already satisfied: MarkupSafe>=2.0 in c:\\users\\norma\\appdata\\local\\programs\\python\\python312\\lib\\site-packages (from jinja2->torch) (3.0.2)\n"
     ]
    }
   ],
   "source": [
    "!pip install -r requirements.txt\n",
    "!pip install torch torchvision torchaudio --index-url https://download.pytorch.org/whl/cpu"
   ]
  },
  {
   "cell_type": "code",
   "execution_count": 60,
   "metadata": {},
   "outputs": [],
   "source": [
    "import json\n",
    "from pymongo import MongoClient\n",
    "import os\n",
    "import requests\n",
    "import gzip\n",
    "import shutil\n",
    "import time\n",
    "import torch\n",
    "from transformers import DistilBertTokenizer, DistilBertForSequenceClassification\n",
    "import re\n",
    "from html import unescape\n",
    "import codecs\n",
    "import dask.dataframe as dd\n",
    "import pandas as pd\n",
    "from tqdm import tqdm\n",
    "from dask.diagnostics import ProgressBar"
   ]
  },
  {
   "cell_type": "markdown",
   "metadata": {},
   "source": [
    "#### 1. Bajamos la data correspondiente"
   ]
  },
  {
   "cell_type": "code",
   "execution_count": 2,
   "metadata": {},
   "outputs": [
    {
     "name": "stdout",
     "output_type": "stream",
     "text": [
      "Archivo descargado: data/raw\\Gift_Cards.jsonl.gz\n",
      "Archivo descomprimido: data/raw\\Gift_Cards.jsonl\n",
      "Archivo descargado: data/raw\\meta_Gift_Cards.jsonl.gz\n",
      "Archivo descomprimido: data/raw\\meta_Gift_Cards.jsonl\n"
     ]
    }
   ],
   "source": [
    "def download_data(link, carpeta_destino):\n",
    "    if not os.path.exists(carpeta_destino):\n",
    "        os.makedirs(carpeta_destino)\n",
    "    \n",
    "    nombre_archivo = os.path.basename(link)\n",
    "    ruta_comprimido = os.path.join(carpeta_destino, nombre_archivo)\n",
    "    ruta_descomprimido = os.path.splitext(ruta_comprimido)[0] # Eliminar la extensión .gz\n",
    "\n",
    "    response = requests.get(link, stream=True)\n",
    "    if response.status_code == 200:\n",
    "        with open(ruta_comprimido, 'wb') as f:\n",
    "            f.write(response.content)\n",
    "            print(f'Archivo descargado: {ruta_comprimido}')\n",
    "    else:\n",
    "        print(f'Error al descargar el archivo: {ruta_comprimido}')\n",
    "        return None\n",
    "\n",
    "    with gzip.open(ruta_comprimido, 'rb') as archivo_comprimido:\n",
    "        with open(ruta_descomprimido, 'wb') as archivo_descomprimido:\n",
    "            shutil.copyfileobj(archivo_comprimido, archivo_descomprimido)\n",
    "    print(f'Archivo descomprimido: {ruta_descomprimido}')\n",
    "\n",
    "    return ruta_descomprimido\n",
    "\n",
    "link_gift_cards = \"https://datarepo.eng.ucsd.edu/mcauley_group/data/amazon_2023/raw/review_categories/Gift_Cards.jsonl.gz\"\n",
    "link_meta_gift_cards = \"https://datarepo.eng.ucsd.edu/mcauley_group/data/amazon_2023/raw/meta_categories/meta_Gift_Cards.jsonl.gz\"\n",
    "carpeta_destino = \"data/raw\"\n",
    "ruta_final_gift_cards = download_data(link_gift_cards, carpeta_destino)\n",
    "ruta_final_meta_gift_cards = download_data(link_meta_gift_cards, carpeta_destino)"
   ]
  },
  {
   "cell_type": "markdown",
   "metadata": {},
   "source": [
    "#### 2. Incorporamos la data en Mongo DB"
   ]
  },
  {
   "cell_type": "markdown",
   "metadata": {},
   "source": [
    "Importante: Crear una conexion en MongoDB con los siguientes nombres de coleccion (gift-cards & meta-gift-cards)"
   ]
  },
  {
   "cell_type": "code",
   "execution_count": 38,
   "metadata": {},
   "outputs": [],
   "source": [
    "# Conectar a MongoDB\n",
    "client = MongoClient(\"mongodb://localhost:27017/\")\n",
    "db = client[\"Amazon\"]\n",
    "collection = db[\"gift-cards\"]\n",
    "collection_meta = db[\"meta-gift-cards\"]"
   ]
  },
  {
   "cell_type": "markdown",
   "metadata": {},
   "source": [
    "2.1 Gift Cards"
   ]
  },
  {
   "cell_type": "code",
   "execution_count": 4,
   "metadata": {},
   "outputs": [
    {
     "ename": "ServerSelectionTimeoutError",
     "evalue": "localhost:27017: [WinError 10061] No connection could be made because the target machine actively refused it (configured timeouts: socketTimeoutMS: 20000.0ms, connectTimeoutMS: 20000.0ms), Timeout: 30s, Topology Description: <TopologyDescription id: 674aa5f45232a9d255180b95, topology_type: Unknown, servers: [<ServerDescription ('localhost', 27017) server_type: Unknown, rtt: None, error=AutoReconnect('localhost:27017: [WinError 10061] No connection could be made because the target machine actively refused it (configured timeouts: socketTimeoutMS: 20000.0ms, connectTimeoutMS: 20000.0ms)')>]>",
     "output_type": "error",
     "traceback": [
      "\u001b[1;31m---------------------------------------------------------------------------\u001b[0m",
      "\u001b[1;31mServerSelectionTimeoutError\u001b[0m               Traceback (most recent call last)",
      "Cell \u001b[1;32mIn[4], line 2\u001b[0m\n\u001b[0;32m      1\u001b[0m \u001b[38;5;66;03m# Borramos toda la data antes de volver a insertarla\u001b[39;00m\n\u001b[1;32m----> 2\u001b[0m \u001b[43mcollection\u001b[49m\u001b[38;5;241;43m.\u001b[39;49m\u001b[43mdelete_many\u001b[49m\u001b[43m(\u001b[49m\u001b[43m{\u001b[49m\u001b[43m}\u001b[49m\u001b[43m)\u001b[49m\n\u001b[0;32m      3\u001b[0m \u001b[38;5;28mprint\u001b[39m(\u001b[38;5;124m\"\u001b[39m\u001b[38;5;124mTodos los documentos de la colección han sido eliminados.\u001b[39m\u001b[38;5;124m\"\u001b[39m)\n\u001b[0;32m      5\u001b[0m \u001b[38;5;66;03m# Leer el archivo JSON Lines\u001b[39;00m\n",
      "File \u001b[1;32mc:\\Users\\Jose\\Desktop\\amazon-recommender-system\\venv\\Lib\\site-packages\\pymongo\\synchronous\\collection.py:1686\u001b[0m, in \u001b[0;36mCollection.delete_many\u001b[1;34m(self, filter, collation, hint, session, let, comment)\u001b[0m\n\u001b[0;32m   1643\u001b[0m \u001b[38;5;250m\u001b[39m\u001b[38;5;124;03m\"\"\"Delete one or more documents matching the filter.\u001b[39;00m\n\u001b[0;32m   1644\u001b[0m \n\u001b[0;32m   1645\u001b[0m \u001b[38;5;124;03m  >>> db.test.count_documents({'x': 1})\u001b[39;00m\n\u001b[1;32m   (...)\u001b[0m\n\u001b[0;32m   1682\u001b[0m \u001b[38;5;124;03m.. versionadded:: 3.0\u001b[39;00m\n\u001b[0;32m   1683\u001b[0m \u001b[38;5;124;03m\"\"\"\u001b[39;00m\n\u001b[0;32m   1684\u001b[0m write_concern \u001b[38;5;241m=\u001b[39m \u001b[38;5;28mself\u001b[39m\u001b[38;5;241m.\u001b[39m_write_concern_for(session)\n\u001b[0;32m   1685\u001b[0m \u001b[38;5;28;01mreturn\u001b[39;00m DeleteResult(\n\u001b[1;32m-> 1686\u001b[0m     \u001b[38;5;28;43mself\u001b[39;49m\u001b[38;5;241;43m.\u001b[39;49m\u001b[43m_delete_retryable\u001b[49m\u001b[43m(\u001b[49m\n\u001b[0;32m   1687\u001b[0m \u001b[43m        \u001b[49m\u001b[38;5;28;43mfilter\u001b[39;49m\u001b[43m,\u001b[49m\n\u001b[0;32m   1688\u001b[0m \u001b[43m        \u001b[49m\u001b[38;5;28;43;01mTrue\u001b[39;49;00m\u001b[43m,\u001b[49m\n\u001b[0;32m   1689\u001b[0m \u001b[43m        \u001b[49m\u001b[43mwrite_concern\u001b[49m\u001b[38;5;241;43m=\u001b[39;49m\u001b[43mwrite_concern\u001b[49m\u001b[43m,\u001b[49m\n\u001b[0;32m   1690\u001b[0m \u001b[43m        \u001b[49m\u001b[43mcollation\u001b[49m\u001b[38;5;241;43m=\u001b[39;49m\u001b[43mcollation\u001b[49m\u001b[43m,\u001b[49m\n\u001b[0;32m   1691\u001b[0m \u001b[43m        \u001b[49m\u001b[43mhint\u001b[49m\u001b[38;5;241;43m=\u001b[39;49m\u001b[43mhint\u001b[49m\u001b[43m,\u001b[49m\n\u001b[0;32m   1692\u001b[0m \u001b[43m        \u001b[49m\u001b[43msession\u001b[49m\u001b[38;5;241;43m=\u001b[39;49m\u001b[43msession\u001b[49m\u001b[43m,\u001b[49m\n\u001b[0;32m   1693\u001b[0m \u001b[43m        \u001b[49m\u001b[43mlet\u001b[49m\u001b[38;5;241;43m=\u001b[39;49m\u001b[43mlet\u001b[49m\u001b[43m,\u001b[49m\n\u001b[0;32m   1694\u001b[0m \u001b[43m        \u001b[49m\u001b[43mcomment\u001b[49m\u001b[38;5;241;43m=\u001b[39;49m\u001b[43mcomment\u001b[49m\u001b[43m,\u001b[49m\n\u001b[0;32m   1695\u001b[0m \u001b[43m    \u001b[49m\u001b[43m)\u001b[49m,\n\u001b[0;32m   1696\u001b[0m     write_concern\u001b[38;5;241m.\u001b[39macknowledged,\n\u001b[0;32m   1697\u001b[0m )\n",
      "File \u001b[1;32mc:\\Users\\Jose\\Desktop\\amazon-recommender-system\\venv\\Lib\\site-packages\\pymongo\\synchronous\\collection.py:1562\u001b[0m, in \u001b[0;36mCollection._delete_retryable\u001b[1;34m(self, criteria, multi, write_concern, op_id, ordered, collation, hint, session, let, comment)\u001b[0m\n\u001b[0;32m   1544\u001b[0m \u001b[38;5;28;01mdef\u001b[39;00m \u001b[38;5;21m_delete\u001b[39m(\n\u001b[0;32m   1545\u001b[0m     session: Optional[ClientSession], conn: Connection, retryable_write: \u001b[38;5;28mbool\u001b[39m\n\u001b[0;32m   1546\u001b[0m ) \u001b[38;5;241m-\u001b[39m\u001b[38;5;241m>\u001b[39m Mapping[\u001b[38;5;28mstr\u001b[39m, Any]:\n\u001b[0;32m   1547\u001b[0m     \u001b[38;5;28;01mreturn\u001b[39;00m \u001b[38;5;28mself\u001b[39m\u001b[38;5;241m.\u001b[39m_delete(\n\u001b[0;32m   1548\u001b[0m         conn,\n\u001b[0;32m   1549\u001b[0m         criteria,\n\u001b[1;32m   (...)\u001b[0m\n\u001b[0;32m   1559\u001b[0m         comment\u001b[38;5;241m=\u001b[39mcomment,\n\u001b[0;32m   1560\u001b[0m     )\n\u001b[1;32m-> 1562\u001b[0m \u001b[38;5;28;01mreturn\u001b[39;00m \u001b[38;5;28;43mself\u001b[39;49m\u001b[38;5;241;43m.\u001b[39;49m\u001b[43m_database\u001b[49m\u001b[38;5;241;43m.\u001b[39;49m\u001b[43mclient\u001b[49m\u001b[38;5;241;43m.\u001b[39;49m\u001b[43m_retryable_write\u001b[49m\u001b[43m(\u001b[49m\n\u001b[0;32m   1563\u001b[0m \u001b[43m    \u001b[49m\u001b[43m(\u001b[49m\u001b[43mwrite_concern\u001b[49m\u001b[43m \u001b[49m\u001b[38;5;129;43;01mor\u001b[39;49;00m\u001b[43m \u001b[49m\u001b[38;5;28;43mself\u001b[39;49m\u001b[38;5;241;43m.\u001b[39;49m\u001b[43mwrite_concern\u001b[49m\u001b[43m)\u001b[49m\u001b[38;5;241;43m.\u001b[39;49m\u001b[43macknowledged\u001b[49m\u001b[43m \u001b[49m\u001b[38;5;129;43;01mand\u001b[39;49;00m\u001b[43m \u001b[49m\u001b[38;5;129;43;01mnot\u001b[39;49;00m\u001b[43m \u001b[49m\u001b[43mmulti\u001b[49m\u001b[43m,\u001b[49m\n\u001b[0;32m   1564\u001b[0m \u001b[43m    \u001b[49m\u001b[43m_delete\u001b[49m\u001b[43m,\u001b[49m\n\u001b[0;32m   1565\u001b[0m \u001b[43m    \u001b[49m\u001b[43msession\u001b[49m\u001b[43m,\u001b[49m\n\u001b[0;32m   1566\u001b[0m \u001b[43m    \u001b[49m\u001b[43moperation\u001b[49m\u001b[38;5;241;43m=\u001b[39;49m\u001b[43m_Op\u001b[49m\u001b[38;5;241;43m.\u001b[39;49m\u001b[43mDELETE\u001b[49m\u001b[43m,\u001b[49m\n\u001b[0;32m   1567\u001b[0m \u001b[43m\u001b[49m\u001b[43m)\u001b[49m\n",
      "File \u001b[1;32mc:\\Users\\Jose\\Desktop\\amazon-recommender-system\\venv\\Lib\\site-packages\\pymongo\\synchronous\\mongo_client.py:1898\u001b[0m, in \u001b[0;36mMongoClient._retryable_write\u001b[1;34m(self, retryable, func, session, operation, bulk, operation_id)\u001b[0m\n\u001b[0;32m   1884\u001b[0m \u001b[38;5;250m\u001b[39m\u001b[38;5;124;03m\"\"\"Execute an operation with consecutive retries if possible\u001b[39;00m\n\u001b[0;32m   1885\u001b[0m \n\u001b[0;32m   1886\u001b[0m \u001b[38;5;124;03mReturns func()'s return value on success. On error retries the same\u001b[39;00m\n\u001b[1;32m   (...)\u001b[0m\n\u001b[0;32m   1895\u001b[0m \u001b[38;5;124;03m:param bulk: bulk abstraction to execute operations in bulk, defaults to None\u001b[39;00m\n\u001b[0;32m   1896\u001b[0m \u001b[38;5;124;03m\"\"\"\u001b[39;00m\n\u001b[0;32m   1897\u001b[0m \u001b[38;5;28;01mwith\u001b[39;00m \u001b[38;5;28mself\u001b[39m\u001b[38;5;241m.\u001b[39m_tmp_session(session) \u001b[38;5;28;01mas\u001b[39;00m s:\n\u001b[1;32m-> 1898\u001b[0m     \u001b[38;5;28;01mreturn\u001b[39;00m \u001b[38;5;28;43mself\u001b[39;49m\u001b[38;5;241;43m.\u001b[39;49m\u001b[43m_retry_with_session\u001b[49m\u001b[43m(\u001b[49m\u001b[43mretryable\u001b[49m\u001b[43m,\u001b[49m\u001b[43m \u001b[49m\u001b[43mfunc\u001b[49m\u001b[43m,\u001b[49m\u001b[43m \u001b[49m\u001b[43ms\u001b[49m\u001b[43m,\u001b[49m\u001b[43m \u001b[49m\u001b[43mbulk\u001b[49m\u001b[43m,\u001b[49m\u001b[43m \u001b[49m\u001b[43moperation\u001b[49m\u001b[43m,\u001b[49m\u001b[43m \u001b[49m\u001b[43moperation_id\u001b[49m\u001b[43m)\u001b[49m\n",
      "File \u001b[1;32mc:\\Users\\Jose\\Desktop\\amazon-recommender-system\\venv\\Lib\\site-packages\\pymongo\\synchronous\\mongo_client.py:1784\u001b[0m, in \u001b[0;36mMongoClient._retry_with_session\u001b[1;34m(self, retryable, func, session, bulk, operation, operation_id)\u001b[0m\n\u001b[0;32m   1779\u001b[0m \u001b[38;5;66;03m# Ensure that the options supports retry_writes and there is a valid session not in\u001b[39;00m\n\u001b[0;32m   1780\u001b[0m \u001b[38;5;66;03m# transaction, otherwise, we will not support retry behavior for this txn.\u001b[39;00m\n\u001b[0;32m   1781\u001b[0m retryable \u001b[38;5;241m=\u001b[39m \u001b[38;5;28mbool\u001b[39m(\n\u001b[0;32m   1782\u001b[0m     retryable \u001b[38;5;129;01mand\u001b[39;00m \u001b[38;5;28mself\u001b[39m\u001b[38;5;241m.\u001b[39moptions\u001b[38;5;241m.\u001b[39mretry_writes \u001b[38;5;129;01mand\u001b[39;00m session \u001b[38;5;129;01mand\u001b[39;00m \u001b[38;5;129;01mnot\u001b[39;00m session\u001b[38;5;241m.\u001b[39min_transaction\n\u001b[0;32m   1783\u001b[0m )\n\u001b[1;32m-> 1784\u001b[0m \u001b[38;5;28;01mreturn\u001b[39;00m \u001b[38;5;28;43mself\u001b[39;49m\u001b[38;5;241;43m.\u001b[39;49m\u001b[43m_retry_internal\u001b[49m\u001b[43m(\u001b[49m\n\u001b[0;32m   1785\u001b[0m \u001b[43m    \u001b[49m\u001b[43mfunc\u001b[49m\u001b[38;5;241;43m=\u001b[39;49m\u001b[43mfunc\u001b[49m\u001b[43m,\u001b[49m\n\u001b[0;32m   1786\u001b[0m \u001b[43m    \u001b[49m\u001b[43msession\u001b[49m\u001b[38;5;241;43m=\u001b[39;49m\u001b[43msession\u001b[49m\u001b[43m,\u001b[49m\n\u001b[0;32m   1787\u001b[0m \u001b[43m    \u001b[49m\u001b[43mbulk\u001b[49m\u001b[38;5;241;43m=\u001b[39;49m\u001b[43mbulk\u001b[49m\u001b[43m,\u001b[49m\n\u001b[0;32m   1788\u001b[0m \u001b[43m    \u001b[49m\u001b[43moperation\u001b[49m\u001b[38;5;241;43m=\u001b[39;49m\u001b[43moperation\u001b[49m\u001b[43m,\u001b[49m\n\u001b[0;32m   1789\u001b[0m \u001b[43m    \u001b[49m\u001b[43mretryable\u001b[49m\u001b[38;5;241;43m=\u001b[39;49m\u001b[43mretryable\u001b[49m\u001b[43m,\u001b[49m\n\u001b[0;32m   1790\u001b[0m \u001b[43m    \u001b[49m\u001b[43moperation_id\u001b[49m\u001b[38;5;241;43m=\u001b[39;49m\u001b[43moperation_id\u001b[49m\u001b[43m,\u001b[49m\n\u001b[0;32m   1791\u001b[0m \u001b[43m\u001b[49m\u001b[43m)\u001b[49m\n",
      "File \u001b[1;32mc:\\Users\\Jose\\Desktop\\amazon-recommender-system\\venv\\Lib\\site-packages\\pymongo\\_csot.py:119\u001b[0m, in \u001b[0;36mapply.<locals>.csot_wrapper\u001b[1;34m(self, *args, **kwargs)\u001b[0m\n\u001b[0;32m    117\u001b[0m         \u001b[38;5;28;01mwith\u001b[39;00m _TimeoutContext(timeout):\n\u001b[0;32m    118\u001b[0m             \u001b[38;5;28;01mreturn\u001b[39;00m func(\u001b[38;5;28mself\u001b[39m, \u001b[38;5;241m*\u001b[39margs, \u001b[38;5;241m*\u001b[39m\u001b[38;5;241m*\u001b[39mkwargs)\n\u001b[1;32m--> 119\u001b[0m \u001b[38;5;28;01mreturn\u001b[39;00m \u001b[43mfunc\u001b[49m\u001b[43m(\u001b[49m\u001b[38;5;28;43mself\u001b[39;49m\u001b[43m,\u001b[49m\u001b[43m \u001b[49m\u001b[38;5;241;43m*\u001b[39;49m\u001b[43margs\u001b[49m\u001b[43m,\u001b[49m\u001b[43m \u001b[49m\u001b[38;5;241;43m*\u001b[39;49m\u001b[38;5;241;43m*\u001b[39;49m\u001b[43mkwargs\u001b[49m\u001b[43m)\u001b[49m\n",
      "File \u001b[1;32mc:\\Users\\Jose\\Desktop\\amazon-recommender-system\\venv\\Lib\\site-packages\\pymongo\\synchronous\\mongo_client.py:1830\u001b[0m, in \u001b[0;36mMongoClient._retry_internal\u001b[1;34m(self, func, session, bulk, operation, is_read, address, read_pref, retryable, operation_id)\u001b[0m\n\u001b[0;32m   1793\u001b[0m \u001b[38;5;129m@_csot\u001b[39m\u001b[38;5;241m.\u001b[39mapply\n\u001b[0;32m   1794\u001b[0m \u001b[38;5;28;01mdef\u001b[39;00m \u001b[38;5;21m_retry_internal\u001b[39m(\n\u001b[0;32m   1795\u001b[0m     \u001b[38;5;28mself\u001b[39m,\n\u001b[1;32m   (...)\u001b[0m\n\u001b[0;32m   1804\u001b[0m     operation_id: Optional[\u001b[38;5;28mint\u001b[39m] \u001b[38;5;241m=\u001b[39m \u001b[38;5;28;01mNone\u001b[39;00m,\n\u001b[0;32m   1805\u001b[0m ) \u001b[38;5;241m-\u001b[39m\u001b[38;5;241m>\u001b[39m T:\n\u001b[0;32m   1806\u001b[0m \u001b[38;5;250m    \u001b[39m\u001b[38;5;124;03m\"\"\"Internal retryable helper for all client transactions.\u001b[39;00m\n\u001b[0;32m   1807\u001b[0m \n\u001b[0;32m   1808\u001b[0m \u001b[38;5;124;03m    :param func: Callback function we want to retry\u001b[39;00m\n\u001b[1;32m   (...)\u001b[0m\n\u001b[0;32m   1817\u001b[0m \u001b[38;5;124;03m    :return: Output of the calling func()\u001b[39;00m\n\u001b[0;32m   1818\u001b[0m \u001b[38;5;124;03m    \"\"\"\u001b[39;00m\n\u001b[0;32m   1819\u001b[0m     \u001b[38;5;28;01mreturn\u001b[39;00m \u001b[43m_ClientConnectionRetryable\u001b[49m\u001b[43m(\u001b[49m\n\u001b[0;32m   1820\u001b[0m \u001b[43m        \u001b[49m\u001b[43mmongo_client\u001b[49m\u001b[38;5;241;43m=\u001b[39;49m\u001b[38;5;28;43mself\u001b[39;49m\u001b[43m,\u001b[49m\n\u001b[0;32m   1821\u001b[0m \u001b[43m        \u001b[49m\u001b[43mfunc\u001b[49m\u001b[38;5;241;43m=\u001b[39;49m\u001b[43mfunc\u001b[49m\u001b[43m,\u001b[49m\n\u001b[0;32m   1822\u001b[0m \u001b[43m        \u001b[49m\u001b[43mbulk\u001b[49m\u001b[38;5;241;43m=\u001b[39;49m\u001b[43mbulk\u001b[49m\u001b[43m,\u001b[49m\n\u001b[0;32m   1823\u001b[0m \u001b[43m        \u001b[49m\u001b[43moperation\u001b[49m\u001b[38;5;241;43m=\u001b[39;49m\u001b[43moperation\u001b[49m\u001b[43m,\u001b[49m\n\u001b[0;32m   1824\u001b[0m \u001b[43m        \u001b[49m\u001b[43mis_read\u001b[49m\u001b[38;5;241;43m=\u001b[39;49m\u001b[43mis_read\u001b[49m\u001b[43m,\u001b[49m\n\u001b[0;32m   1825\u001b[0m \u001b[43m        \u001b[49m\u001b[43msession\u001b[49m\u001b[38;5;241;43m=\u001b[39;49m\u001b[43msession\u001b[49m\u001b[43m,\u001b[49m\n\u001b[0;32m   1826\u001b[0m \u001b[43m        \u001b[49m\u001b[43mread_pref\u001b[49m\u001b[38;5;241;43m=\u001b[39;49m\u001b[43mread_pref\u001b[49m\u001b[43m,\u001b[49m\n\u001b[0;32m   1827\u001b[0m \u001b[43m        \u001b[49m\u001b[43maddress\u001b[49m\u001b[38;5;241;43m=\u001b[39;49m\u001b[43maddress\u001b[49m\u001b[43m,\u001b[49m\n\u001b[0;32m   1828\u001b[0m \u001b[43m        \u001b[49m\u001b[43mretryable\u001b[49m\u001b[38;5;241;43m=\u001b[39;49m\u001b[43mretryable\u001b[49m\u001b[43m,\u001b[49m\n\u001b[0;32m   1829\u001b[0m \u001b[43m        \u001b[49m\u001b[43moperation_id\u001b[49m\u001b[38;5;241;43m=\u001b[39;49m\u001b[43moperation_id\u001b[49m\u001b[43m,\u001b[49m\n\u001b[1;32m-> 1830\u001b[0m \u001b[43m    \u001b[49m\u001b[43m)\u001b[49m\u001b[38;5;241;43m.\u001b[39;49m\u001b[43mrun\u001b[49m\u001b[43m(\u001b[49m\u001b[43m)\u001b[49m\n",
      "File \u001b[1;32mc:\\Users\\Jose\\Desktop\\amazon-recommender-system\\venv\\Lib\\site-packages\\pymongo\\synchronous\\mongo_client.py:2554\u001b[0m, in \u001b[0;36m_ClientConnectionRetryable.run\u001b[1;34m(self)\u001b[0m\n\u001b[0;32m   2552\u001b[0m \u001b[38;5;28mself\u001b[39m\u001b[38;5;241m.\u001b[39m_check_last_error(check_csot\u001b[38;5;241m=\u001b[39m\u001b[38;5;28;01mTrue\u001b[39;00m)\n\u001b[0;32m   2553\u001b[0m \u001b[38;5;28;01mtry\u001b[39;00m:\n\u001b[1;32m-> 2554\u001b[0m     \u001b[38;5;28;01mreturn\u001b[39;00m \u001b[38;5;28mself\u001b[39m\u001b[38;5;241m.\u001b[39m_read() \u001b[38;5;28;01mif\u001b[39;00m \u001b[38;5;28mself\u001b[39m\u001b[38;5;241m.\u001b[39m_is_read \u001b[38;5;28;01melse\u001b[39;00m \u001b[38;5;28;43mself\u001b[39;49m\u001b[38;5;241;43m.\u001b[39;49m\u001b[43m_write\u001b[49m\u001b[43m(\u001b[49m\u001b[43m)\u001b[49m\n\u001b[0;32m   2555\u001b[0m \u001b[38;5;28;01mexcept\u001b[39;00m ServerSelectionTimeoutError:\n\u001b[0;32m   2556\u001b[0m     \u001b[38;5;66;03m# The application may think the write was never attempted\u001b[39;00m\n\u001b[0;32m   2557\u001b[0m     \u001b[38;5;66;03m# if we raise ServerSelectionTimeoutError on the retry\u001b[39;00m\n\u001b[0;32m   2558\u001b[0m     \u001b[38;5;66;03m# attempt. Raise the original exception instead.\u001b[39;00m\n\u001b[0;32m   2559\u001b[0m     \u001b[38;5;28mself\u001b[39m\u001b[38;5;241m.\u001b[39m_check_last_error()\n",
      "File \u001b[1;32mc:\\Users\\Jose\\Desktop\\amazon-recommender-system\\venv\\Lib\\site-packages\\pymongo\\synchronous\\mongo_client.py:2662\u001b[0m, in \u001b[0;36m_ClientConnectionRetryable._write\u001b[1;34m(self)\u001b[0m\n\u001b[0;32m   2660\u001b[0m max_wire_version \u001b[38;5;241m=\u001b[39m \u001b[38;5;241m0\u001b[39m\n\u001b[0;32m   2661\u001b[0m is_mongos \u001b[38;5;241m=\u001b[39m \u001b[38;5;28;01mFalse\u001b[39;00m\n\u001b[1;32m-> 2662\u001b[0m \u001b[38;5;28mself\u001b[39m\u001b[38;5;241m.\u001b[39m_server \u001b[38;5;241m=\u001b[39m \u001b[38;5;28;43mself\u001b[39;49m\u001b[38;5;241;43m.\u001b[39;49m\u001b[43m_get_server\u001b[49m\u001b[43m(\u001b[49m\u001b[43m)\u001b[49m\n\u001b[0;32m   2663\u001b[0m \u001b[38;5;28;01mwith\u001b[39;00m \u001b[38;5;28mself\u001b[39m\u001b[38;5;241m.\u001b[39m_client\u001b[38;5;241m.\u001b[39m_checkout(\u001b[38;5;28mself\u001b[39m\u001b[38;5;241m.\u001b[39m_server, \u001b[38;5;28mself\u001b[39m\u001b[38;5;241m.\u001b[39m_session) \u001b[38;5;28;01mas\u001b[39;00m conn:\n\u001b[0;32m   2664\u001b[0m     max_wire_version \u001b[38;5;241m=\u001b[39m conn\u001b[38;5;241m.\u001b[39mmax_wire_version\n",
      "File \u001b[1;32mc:\\Users\\Jose\\Desktop\\amazon-recommender-system\\venv\\Lib\\site-packages\\pymongo\\synchronous\\mongo_client.py:2645\u001b[0m, in \u001b[0;36m_ClientConnectionRetryable._get_server\u001b[1;34m(self)\u001b[0m\n\u001b[0;32m   2640\u001b[0m \u001b[38;5;28;01mdef\u001b[39;00m \u001b[38;5;21m_get_server\u001b[39m(\u001b[38;5;28mself\u001b[39m) \u001b[38;5;241m-\u001b[39m\u001b[38;5;241m>\u001b[39m Server:\n\u001b[0;32m   2641\u001b[0m \u001b[38;5;250m    \u001b[39m\u001b[38;5;124;03m\"\"\"Retrieves a server object based on provided object context\u001b[39;00m\n\u001b[0;32m   2642\u001b[0m \n\u001b[0;32m   2643\u001b[0m \u001b[38;5;124;03m    :return: Abstraction to connect to server\u001b[39;00m\n\u001b[0;32m   2644\u001b[0m \u001b[38;5;124;03m    \"\"\"\u001b[39;00m\n\u001b[1;32m-> 2645\u001b[0m     \u001b[38;5;28;01mreturn\u001b[39;00m \u001b[38;5;28;43mself\u001b[39;49m\u001b[38;5;241;43m.\u001b[39;49m\u001b[43m_client\u001b[49m\u001b[38;5;241;43m.\u001b[39;49m\u001b[43m_select_server\u001b[49m\u001b[43m(\u001b[49m\n\u001b[0;32m   2646\u001b[0m \u001b[43m        \u001b[49m\u001b[38;5;28;43mself\u001b[39;49m\u001b[38;5;241;43m.\u001b[39;49m\u001b[43m_server_selector\u001b[49m\u001b[43m,\u001b[49m\n\u001b[0;32m   2647\u001b[0m \u001b[43m        \u001b[49m\u001b[38;5;28;43mself\u001b[39;49m\u001b[38;5;241;43m.\u001b[39;49m\u001b[43m_session\u001b[49m\u001b[43m,\u001b[49m\n\u001b[0;32m   2648\u001b[0m \u001b[43m        \u001b[49m\u001b[38;5;28;43mself\u001b[39;49m\u001b[38;5;241;43m.\u001b[39;49m\u001b[43m_operation\u001b[49m\u001b[43m,\u001b[49m\n\u001b[0;32m   2649\u001b[0m \u001b[43m        \u001b[49m\u001b[43maddress\u001b[49m\u001b[38;5;241;43m=\u001b[39;49m\u001b[38;5;28;43mself\u001b[39;49m\u001b[38;5;241;43m.\u001b[39;49m\u001b[43m_address\u001b[49m\u001b[43m,\u001b[49m\n\u001b[0;32m   2650\u001b[0m \u001b[43m        \u001b[49m\u001b[43mdeprioritized_servers\u001b[49m\u001b[38;5;241;43m=\u001b[39;49m\u001b[38;5;28;43mself\u001b[39;49m\u001b[38;5;241;43m.\u001b[39;49m\u001b[43m_deprioritized_servers\u001b[49m\u001b[43m,\u001b[49m\n\u001b[0;32m   2651\u001b[0m \u001b[43m        \u001b[49m\u001b[43moperation_id\u001b[49m\u001b[38;5;241;43m=\u001b[39;49m\u001b[38;5;28;43mself\u001b[39;49m\u001b[38;5;241;43m.\u001b[39;49m\u001b[43m_operation_id\u001b[49m\u001b[43m,\u001b[49m\n\u001b[0;32m   2652\u001b[0m \u001b[43m    \u001b[49m\u001b[43m)\u001b[49m\n",
      "File \u001b[1;32mc:\\Users\\Jose\\Desktop\\amazon-recommender-system\\venv\\Lib\\site-packages\\pymongo\\synchronous\\mongo_client.py:1649\u001b[0m, in \u001b[0;36mMongoClient._select_server\u001b[1;34m(self, server_selector, session, operation, address, deprioritized_servers, operation_id)\u001b[0m\n\u001b[0;32m   1647\u001b[0m             \u001b[38;5;28;01mraise\u001b[39;00m AutoReconnect(\u001b[38;5;124m\"\u001b[39m\u001b[38;5;124mserver \u001b[39m\u001b[38;5;132;01m%s\u001b[39;00m\u001b[38;5;124m:\u001b[39m\u001b[38;5;132;01m%s\u001b[39;00m\u001b[38;5;124m no longer available\u001b[39m\u001b[38;5;124m\"\u001b[39m \u001b[38;5;241m%\u001b[39m address)  \u001b[38;5;66;03m# noqa: UP031\u001b[39;00m\n\u001b[0;32m   1648\u001b[0m     \u001b[38;5;28;01melse\u001b[39;00m:\n\u001b[1;32m-> 1649\u001b[0m         server \u001b[38;5;241m=\u001b[39m \u001b[43mtopology\u001b[49m\u001b[38;5;241;43m.\u001b[39;49m\u001b[43mselect_server\u001b[49m\u001b[43m(\u001b[49m\n\u001b[0;32m   1650\u001b[0m \u001b[43m            \u001b[49m\u001b[43mserver_selector\u001b[49m\u001b[43m,\u001b[49m\n\u001b[0;32m   1651\u001b[0m \u001b[43m            \u001b[49m\u001b[43moperation\u001b[49m\u001b[43m,\u001b[49m\n\u001b[0;32m   1652\u001b[0m \u001b[43m            \u001b[49m\u001b[43mdeprioritized_servers\u001b[49m\u001b[38;5;241;43m=\u001b[39;49m\u001b[43mdeprioritized_servers\u001b[49m\u001b[43m,\u001b[49m\n\u001b[0;32m   1653\u001b[0m \u001b[43m            \u001b[49m\u001b[43moperation_id\u001b[49m\u001b[38;5;241;43m=\u001b[39;49m\u001b[43moperation_id\u001b[49m\u001b[43m,\u001b[49m\n\u001b[0;32m   1654\u001b[0m \u001b[43m        \u001b[49m\u001b[43m)\u001b[49m\n\u001b[0;32m   1655\u001b[0m     \u001b[38;5;28;01mreturn\u001b[39;00m server\n\u001b[0;32m   1656\u001b[0m \u001b[38;5;28;01mexcept\u001b[39;00m PyMongoError \u001b[38;5;28;01mas\u001b[39;00m exc:\n\u001b[0;32m   1657\u001b[0m     \u001b[38;5;66;03m# Server selection errors in a transaction are transient.\u001b[39;00m\n",
      "File \u001b[1;32mc:\\Users\\Jose\\Desktop\\amazon-recommender-system\\venv\\Lib\\site-packages\\pymongo\\synchronous\\topology.py:398\u001b[0m, in \u001b[0;36mTopology.select_server\u001b[1;34m(self, selector, operation, server_selection_timeout, address, deprioritized_servers, operation_id)\u001b[0m\n\u001b[0;32m    388\u001b[0m \u001b[38;5;28;01mdef\u001b[39;00m \u001b[38;5;21mselect_server\u001b[39m(\n\u001b[0;32m    389\u001b[0m     \u001b[38;5;28mself\u001b[39m,\n\u001b[0;32m    390\u001b[0m     selector: Callable[[Selection], Selection],\n\u001b[1;32m   (...)\u001b[0m\n\u001b[0;32m    395\u001b[0m     operation_id: Optional[\u001b[38;5;28mint\u001b[39m] \u001b[38;5;241m=\u001b[39m \u001b[38;5;28;01mNone\u001b[39;00m,\n\u001b[0;32m    396\u001b[0m ) \u001b[38;5;241m-\u001b[39m\u001b[38;5;241m>\u001b[39m Server:\n\u001b[0;32m    397\u001b[0m \u001b[38;5;250m    \u001b[39m\u001b[38;5;124;03m\"\"\"Like select_servers, but choose a random server if several match.\"\"\"\u001b[39;00m\n\u001b[1;32m--> 398\u001b[0m     server \u001b[38;5;241m=\u001b[39m \u001b[38;5;28;43mself\u001b[39;49m\u001b[38;5;241;43m.\u001b[39;49m\u001b[43m_select_server\u001b[49m\u001b[43m(\u001b[49m\n\u001b[0;32m    399\u001b[0m \u001b[43m        \u001b[49m\u001b[43mselector\u001b[49m\u001b[43m,\u001b[49m\n\u001b[0;32m    400\u001b[0m \u001b[43m        \u001b[49m\u001b[43moperation\u001b[49m\u001b[43m,\u001b[49m\n\u001b[0;32m    401\u001b[0m \u001b[43m        \u001b[49m\u001b[43mserver_selection_timeout\u001b[49m\u001b[43m,\u001b[49m\n\u001b[0;32m    402\u001b[0m \u001b[43m        \u001b[49m\u001b[43maddress\u001b[49m\u001b[43m,\u001b[49m\n\u001b[0;32m    403\u001b[0m \u001b[43m        \u001b[49m\u001b[43mdeprioritized_servers\u001b[49m\u001b[43m,\u001b[49m\n\u001b[0;32m    404\u001b[0m \u001b[43m        \u001b[49m\u001b[43moperation_id\u001b[49m\u001b[38;5;241;43m=\u001b[39;49m\u001b[43moperation_id\u001b[49m\u001b[43m,\u001b[49m\n\u001b[0;32m    405\u001b[0m \u001b[43m    \u001b[49m\u001b[43m)\u001b[49m\n\u001b[0;32m    406\u001b[0m     \u001b[38;5;28;01mif\u001b[39;00m _csot\u001b[38;5;241m.\u001b[39mget_timeout():\n\u001b[0;32m    407\u001b[0m         _csot\u001b[38;5;241m.\u001b[39mset_rtt(server\u001b[38;5;241m.\u001b[39mdescription\u001b[38;5;241m.\u001b[39mmin_round_trip_time)\n",
      "File \u001b[1;32mc:\\Users\\Jose\\Desktop\\amazon-recommender-system\\venv\\Lib\\site-packages\\pymongo\\synchronous\\topology.py:376\u001b[0m, in \u001b[0;36mTopology._select_server\u001b[1;34m(self, selector, operation, server_selection_timeout, address, deprioritized_servers, operation_id)\u001b[0m\n\u001b[0;32m    367\u001b[0m \u001b[38;5;28;01mdef\u001b[39;00m \u001b[38;5;21m_select_server\u001b[39m(\n\u001b[0;32m    368\u001b[0m     \u001b[38;5;28mself\u001b[39m,\n\u001b[0;32m    369\u001b[0m     selector: Callable[[Selection], Selection],\n\u001b[1;32m   (...)\u001b[0m\n\u001b[0;32m    374\u001b[0m     operation_id: Optional[\u001b[38;5;28mint\u001b[39m] \u001b[38;5;241m=\u001b[39m \u001b[38;5;28;01mNone\u001b[39;00m,\n\u001b[0;32m    375\u001b[0m ) \u001b[38;5;241m-\u001b[39m\u001b[38;5;241m>\u001b[39m Server:\n\u001b[1;32m--> 376\u001b[0m     servers \u001b[38;5;241m=\u001b[39m \u001b[38;5;28;43mself\u001b[39;49m\u001b[38;5;241;43m.\u001b[39;49m\u001b[43mselect_servers\u001b[49m\u001b[43m(\u001b[49m\n\u001b[0;32m    377\u001b[0m \u001b[43m        \u001b[49m\u001b[43mselector\u001b[49m\u001b[43m,\u001b[49m\u001b[43m \u001b[49m\u001b[43moperation\u001b[49m\u001b[43m,\u001b[49m\u001b[43m \u001b[49m\u001b[43mserver_selection_timeout\u001b[49m\u001b[43m,\u001b[49m\u001b[43m \u001b[49m\u001b[43maddress\u001b[49m\u001b[43m,\u001b[49m\u001b[43m \u001b[49m\u001b[43moperation_id\u001b[49m\n\u001b[0;32m    378\u001b[0m \u001b[43m    \u001b[49m\u001b[43m)\u001b[49m\n\u001b[0;32m    379\u001b[0m     servers \u001b[38;5;241m=\u001b[39m _filter_servers(servers, deprioritized_servers)\n\u001b[0;32m    380\u001b[0m     \u001b[38;5;28;01mif\u001b[39;00m \u001b[38;5;28mlen\u001b[39m(servers) \u001b[38;5;241m==\u001b[39m \u001b[38;5;241m1\u001b[39m:\n",
      "File \u001b[1;32mc:\\Users\\Jose\\Desktop\\amazon-recommender-system\\venv\\Lib\\site-packages\\pymongo\\synchronous\\topology.py:283\u001b[0m, in \u001b[0;36mTopology.select_servers\u001b[1;34m(self, selector, operation, server_selection_timeout, address, operation_id)\u001b[0m\n\u001b[0;32m    280\u001b[0m     server_timeout \u001b[38;5;241m=\u001b[39m server_selection_timeout\n\u001b[0;32m    282\u001b[0m \u001b[38;5;28;01mwith\u001b[39;00m \u001b[38;5;28mself\u001b[39m\u001b[38;5;241m.\u001b[39m_lock:\n\u001b[1;32m--> 283\u001b[0m     server_descriptions \u001b[38;5;241m=\u001b[39m \u001b[38;5;28;43mself\u001b[39;49m\u001b[38;5;241;43m.\u001b[39;49m\u001b[43m_select_servers_loop\u001b[49m\u001b[43m(\u001b[49m\n\u001b[0;32m    284\u001b[0m \u001b[43m        \u001b[49m\u001b[43mselector\u001b[49m\u001b[43m,\u001b[49m\u001b[43m \u001b[49m\u001b[43mserver_timeout\u001b[49m\u001b[43m,\u001b[49m\u001b[43m \u001b[49m\u001b[43moperation\u001b[49m\u001b[43m,\u001b[49m\u001b[43m \u001b[49m\u001b[43moperation_id\u001b[49m\u001b[43m,\u001b[49m\u001b[43m \u001b[49m\u001b[43maddress\u001b[49m\n\u001b[0;32m    285\u001b[0m \u001b[43m    \u001b[49m\u001b[43m)\u001b[49m\n\u001b[0;32m    287\u001b[0m     \u001b[38;5;28;01mreturn\u001b[39;00m [\n\u001b[0;32m    288\u001b[0m         cast(Server, \u001b[38;5;28mself\u001b[39m\u001b[38;5;241m.\u001b[39mget_server_by_address(sd\u001b[38;5;241m.\u001b[39maddress)) \u001b[38;5;28;01mfor\u001b[39;00m sd \u001b[38;5;129;01min\u001b[39;00m server_descriptions\n\u001b[0;32m    289\u001b[0m     ]\n",
      "File \u001b[1;32mc:\\Users\\Jose\\Desktop\\amazon-recommender-system\\venv\\Lib\\site-packages\\pymongo\\synchronous\\topology.py:333\u001b[0m, in \u001b[0;36mTopology._select_servers_loop\u001b[1;34m(self, selector, timeout, operation, operation_id, address)\u001b[0m\n\u001b[0;32m    322\u001b[0m     \u001b[38;5;28;01mif\u001b[39;00m _SERVER_SELECTION_LOGGER\u001b[38;5;241m.\u001b[39misEnabledFor(logging\u001b[38;5;241m.\u001b[39mDEBUG):\n\u001b[0;32m    323\u001b[0m         _debug_log(\n\u001b[0;32m    324\u001b[0m             _SERVER_SELECTION_LOGGER,\n\u001b[0;32m    325\u001b[0m             message\u001b[38;5;241m=\u001b[39m_ServerSelectionStatusMessage\u001b[38;5;241m.\u001b[39mFAILED,\n\u001b[1;32m   (...)\u001b[0m\n\u001b[0;32m    331\u001b[0m             failure\u001b[38;5;241m=\u001b[39m\u001b[38;5;28mself\u001b[39m\u001b[38;5;241m.\u001b[39m_error_message(selector),\n\u001b[0;32m    332\u001b[0m         )\n\u001b[1;32m--> 333\u001b[0m     \u001b[38;5;28;01mraise\u001b[39;00m ServerSelectionTimeoutError(\n\u001b[0;32m    334\u001b[0m         \u001b[38;5;124mf\u001b[39m\u001b[38;5;124m\"\u001b[39m\u001b[38;5;132;01m{\u001b[39;00m\u001b[38;5;28mself\u001b[39m\u001b[38;5;241m.\u001b[39m_error_message(selector)\u001b[38;5;132;01m}\u001b[39;00m\u001b[38;5;124m, Timeout: \u001b[39m\u001b[38;5;132;01m{\u001b[39;00mtimeout\u001b[38;5;132;01m}\u001b[39;00m\u001b[38;5;124ms, Topology Description: \u001b[39m\u001b[38;5;132;01m{\u001b[39;00m\u001b[38;5;28mself\u001b[39m\u001b[38;5;241m.\u001b[39mdescription\u001b[38;5;132;01m!r}\u001b[39;00m\u001b[38;5;124m\"\u001b[39m\n\u001b[0;32m    335\u001b[0m     )\n\u001b[0;32m    337\u001b[0m \u001b[38;5;28;01mif\u001b[39;00m \u001b[38;5;129;01mnot\u001b[39;00m logged_waiting:\n\u001b[0;32m    338\u001b[0m     _debug_log(\n\u001b[0;32m    339\u001b[0m         _SERVER_SELECTION_LOGGER,\n\u001b[0;32m    340\u001b[0m         message\u001b[38;5;241m=\u001b[39m_ServerSelectionStatusMessage\u001b[38;5;241m.\u001b[39mWAITING,\n\u001b[1;32m   (...)\u001b[0m\n\u001b[0;32m    346\u001b[0m         remainingTimeMS\u001b[38;5;241m=\u001b[39m\u001b[38;5;28mint\u001b[39m(end_time \u001b[38;5;241m-\u001b[39m time\u001b[38;5;241m.\u001b[39mmonotonic()),\n\u001b[0;32m    347\u001b[0m     )\n",
      "\u001b[1;31mServerSelectionTimeoutError\u001b[0m: localhost:27017: [WinError 10061] No connection could be made because the target machine actively refused it (configured timeouts: socketTimeoutMS: 20000.0ms, connectTimeoutMS: 20000.0ms), Timeout: 30s, Topology Description: <TopologyDescription id: 674aa5f45232a9d255180b95, topology_type: Unknown, servers: [<ServerDescription ('localhost', 27017) server_type: Unknown, rtt: None, error=AutoReconnect('localhost:27017: [WinError 10061] No connection could be made because the target machine actively refused it (configured timeouts: socketTimeoutMS: 20000.0ms, connectTimeoutMS: 20000.0ms)')>]>"
     ]
    }
   ],
   "source": [
    "# Borramos toda la data antes de volver a insertarla\n",
    "collection.delete_many({})\n",
    "print(\"Todos los documentos de la colección han sido eliminados.\")\n",
    "\n",
    "# Leer el archivo JSON Lines\n",
    "with open(\"data/raw/Gift_Cards.jsonl\", \"r\", encoding=\"utf-8\") as file:\n",
    "    for line in file:\n",
    "        try:\n",
    "            data = json.loads(line)\n",
    "            # Insertamos la data\n",
    "            collection.insert_one(data)\n",
    "        except json.JSONDecodeError as e:\n",
    "            print(f\"Error al decodificar la línea: {e}\")"
   ]
  },
  {
   "cell_type": "markdown",
   "metadata": {},
   "source": [
    "2.2 Meta Gift Cards"
   ]
  },
  {
   "cell_type": "code",
   "execution_count": 7,
   "metadata": {},
   "outputs": [
    {
     "name": "stdout",
     "output_type": "stream",
     "text": [
      "Todos los documentos de la colección han sido eliminados.\n"
     ]
    }
   ],
   "source": [
    "# Borramos toda la data antes de volver a insertarla\n",
    "collection_meta.delete_many({})\n",
    "print(\"Todos los documentos de la colección han sido eliminados.\")\n",
    "\n",
    "# Leer el archivo JSON Lines\n",
    "with open(\"data/raw/meta_Gift_Cards.jsonl\", \"r\", encoding=\"utf-8\") as file:\n",
    "    for line in file:\n",
    "        try:\n",
    "            data = json.loads(line)\n",
    "            # Insertamos la data\n",
    "            collection_meta.insert_one(data)\n",
    "        except json.JSONDecodeError as e:\n",
    "            print(f\"Error al decodificar la línea: {e}\")"
   ]
  },
  {
   "cell_type": "markdown",
   "metadata": {},
   "source": [
    "#### 3. Querys MongoDB"
   ]
  },
  {
   "cell_type": "markdown",
   "metadata": {},
   "source": [
    "3.1 Consulta para actualizar el campo \"main_category\" a \"Gift Card\" de la coleccion de Meta Gift Card"
   ]
  },
  {
   "cell_type": "code",
   "execution_count": 8,
   "metadata": {},
   "outputs": [
    {
     "name": "stdout",
     "output_type": "stream",
     "text": [
      "Documentos actualizados\n"
     ]
    }
   ],
   "source": [
    "result = collection_meta.update_many({}, {\"$set\": {\"main_category\": \"Gift Cards\"}})\n",
    "print(\"Documentos actualizados\")"
   ]
  },
  {
   "cell_type": "markdown",
   "metadata": {},
   "source": [
    "3.2 Consulta en donde se busquen los comentarios que tienen un verified_purchase con valor True, ademas que tengan un rating mayor o igual a 1 y menor o igual a 5, y un helpful_vote mayor o igual a 0"
   ]
  },
  {
   "cell_type": "code",
   "execution_count": 39,
   "metadata": {},
   "outputs": [],
   "source": [
    "query = {\n",
    "    \"verified_purchase\": True,\n",
    "    \"rating\": {\"$gte\": 1, \"$lte\": 5},\n",
    "    \"helpful_vote\": {\"$gte\": 0},\n",
    "}\n",
    "\n",
    "results = collection.find(query)\n",
    "df = pd.DataFrame(list(results))"
   ]
  },
  {
   "cell_type": "markdown",
   "metadata": {},
   "source": [
    "#### 4. Dask y Pandas"
   ]
  },
  {
   "cell_type": "markdown",
   "metadata": {},
   "source": [
    "4.1 Limpieza de data"
   ]
  },
  {
   "cell_type": "code",
   "execution_count": 40,
   "metadata": {},
   "outputs": [],
   "source": [
    "def clean_text(text):\n",
    "    if not isinstance(text, str):\n",
    "        return text\n",
    "    text = unescape(text) # html entities?\n",
    "\n",
    "    # text = codecs.decode(text, 'unicode_escape') #decode emojis\n",
    "    text = re.sub(r'\\\\u[0-9a-fA-F]{4}', '', text) #remove emojis\n",
    "\n",
    "    text = re.sub(r'!{2,}', '!', text) #Multiple exclamation\n",
    "\n",
    "    text = re.sub(r'\\.{2,}', ' ', text) # Dots\n",
    "\n",
    "    text = re.sub(r'<br\\s*/?>', ' ', text)  # Para br\n",
    "\n",
    "    text = re.sub(r'\\b([A-Z])(?:\\s+([A-Z]))+\\b', lambda m: m.group(0).replace(\" \", \"\").lower(), text) # t h i s to this\n",
    "\n",
    "    text = re.sub(r'[+-]', '', text) #omit some chars\n",
    "\n",
    "    text = re.sub(r'\\u2019', \"'\", text) # this ´ to this '\n",
    "\n",
    "    text = re.sub(r'(^|\\.\\s+)([a-z])', lambda m: m.group(1) + m.group(2).upper(), text) #Capital \n",
    "    \n",
    "    text = re.sub(r'\\b[A-Z]{2,}\\b', lambda m: m.group().lower(), text) #Words normalized\n",
    "    \n",
    "    return text"
   ]
  },
  {
   "cell_type": "markdown",
   "metadata": {},
   "source": [
    "4.2 Medicion de tiempos"
   ]
  },
  {
   "cell_type": "code",
   "execution_count": 41,
   "metadata": {},
   "outputs": [],
   "source": [
    "def process_and_filter_pandas(df, max_length=512):\n",
    "    start_time = time.time()\n",
    "\n",
    "    df[\"title\"] = df[\"title\"].apply(clean_text)\n",
    "    df[\"text\"] = df[\"text\"].apply(clean_text)\n",
    "\n",
    "    filtered_df = df[df[\"text\"].str.len() <= max_length].copy()\n",
    "    \n",
    "    end_time = time.time()\n",
    "    elapsed_time = end_time - start_time\n",
    "    print(f\"Tiempo transcurrido: {elapsed_time:.2f} segundos\")\n",
    "    \n",
    "    return filtered_df\n",
    "\n",
    "def process_and_filter_dask(df, max_length=512):\n",
    "    start_time = time.time()\n",
    "\n",
    "    dask_df = dd.from_pandas(df, npartitions=4)\n",
    "    \n",
    "    dask_df[\"title\"] = dask_df[\"title\"].apply(clean_text, meta=('title', 'str'))\n",
    "    dask_df[\"text\"] = dask_df[\"text\"].apply(clean_text, meta=('text', 'str'))\n",
    "    \n",
    "    filtered_dask_df = dask_df[dask_df[\"text\"].str.len() <= max_length]\n",
    "    \n",
    "    filtered_df = filtered_dask_df.compute()\n",
    "    \n",
    "    end_time = time.time()\n",
    "    elapsed_time = end_time - start_time\n",
    "    print(f\"Tiempo transcurrido: {elapsed_time:.2f} segundos\")\n",
    "    \n",
    "    return filtered_df"
   ]
  },
  {
   "cell_type": "code",
   "execution_count": 62,
   "metadata": {},
   "outputs": [
    {
     "name": "stdout",
     "output_type": "stream",
     "text": [
      "Tiempo transcurrido: 3.45 segundos\n",
      "Tiempo transcurrido: 7.71 segundos\n"
     ]
    }
   ],
   "source": [
    "df_pandas = process_and_filter_pandas(df)\n",
    "df_dask = process_and_filter_dask(df)"
   ]
  },
  {
   "cell_type": "markdown",
   "metadata": {},
   "source": [
    "#### 5. Seteamos LLM"
   ]
  },
  {
   "cell_type": "code",
   "execution_count": 43,
   "metadata": {},
   "outputs": [],
   "source": [
    "tqdm.pandas()\n",
    "\n",
    "tokenizer = DistilBertTokenizer.from_pretrained(\"distilbert-base-uncased-finetuned-sst-2-english\")\n",
    "model = DistilBertForSequenceClassification.from_pretrained(\"distilbert-base-uncased-finetuned-sst-2-english\")"
   ]
  },
  {
   "cell_type": "code",
   "execution_count": 44,
   "metadata": {},
   "outputs": [],
   "source": [
    "# Funcion para clasificar el texto\n",
    "def classify_text(row, model):\n",
    "    input_data = tokenizer(row['text'], return_tensors=\"pt\")\n",
    "    with torch.no_grad():\n",
    "        logits = model(**input_data).logits\n",
    "    predicted_class_id = logits.argmax().item()\n",
    "    if model.config.id2label[predicted_class_id] == 'POSITIVE':\n",
    "        return 1\n",
    "    else:\n",
    "        return 0"
   ]
  },
  {
   "cell_type": "markdown",
   "metadata": {},
   "source": [
    "5.1 Generamos el Dataset completo"
   ]
  },
  {
   "cell_type": "code",
   "execution_count": 45,
   "metadata": {},
   "outputs": [
    {
     "name": "stderr",
     "output_type": "stream",
     "text": [
      "100%|██████████| 140481/140481 [1:01:49<00:00, 37.87it/s]\n"
     ]
    },
    {
     "name": "stdout",
     "output_type": "stream",
     "text": [
      "                             _id  rating  \\\n",
      "0       6748bafe19c0f99fe2ba20cc     5.0   \n",
      "1       6748bafe19c0f99fe2ba20ce     5.0   \n",
      "3       6748bafe19c0f99fe2ba20d1     5.0   \n",
      "4       6748bafe19c0f99fe2ba20d2     5.0   \n",
      "5       6748bafe19c0f99fe2ba20d3     5.0   \n",
      "...                          ...     ...   \n",
      "141956  6748bb1f19c0f99fe2bc7421     5.0   \n",
      "141957  6748bb1f19c0f99fe2bc7422     5.0   \n",
      "141958  6748bb1f19c0f99fe2bc7423     1.0   \n",
      "141959  6748bb1f19c0f99fe2bc7424     5.0   \n",
      "141960  6748bb1f19c0f99fe2bc7425     4.0   \n",
      "\n",
      "                                                    title  \\\n",
      "0                                              Great gift   \n",
      "1                                            Perfect gift   \n",
      "3                                                   Cute!   \n",
      "4                                               Easy gift   \n",
      "5                                              Great gift   \n",
      "...                                                   ...   \n",
      "141956  I gave it to my sister and she immediately com...   \n",
      "141957               Gran idea y majestuosa forma de pago   \n",
      "141958           Called right away to cancel, was told no   \n",
      "141959                                         Five Stars   \n",
      "141960                                         Four Stars   \n",
      "\n",
      "                                                     text images        asin  \\\n",
      "0                     Having Amazon money is always good.     []  B00IX1I3G6   \n",
      "1       When you have a person who is hard to shop for...     []  B01K8RIM5Y   \n",
      "3                            That snowman tin is adorable     []  B072L7GTF5   \n",
      "4                                     Great and easy gift     []  B00IX1I3G6   \n",
      "5          Super cute nice quality tin Your choose amount     []  B072P5VV4D   \n",
      "...                                                   ...    ...         ...   \n",
      "141956  I was really impressed with the pink bag.  I g...     []  B07641DGK2   \n",
      "141957  Realmente es fascinante como hacen de algo muc...     []  B086KKT3RX   \n",
      "141958                                  Hit  accidentally     []  B00IX1I3G6   \n",
      "141959                                              Great     []  B00IX1I3G6   \n",
      "141960                                           Muy bien     []  B00IX1I3G6   \n",
      "\n",
      "       parent_asin                       user_id      timestamp  helpful_vote  \\\n",
      "0       B00IX1I3G6  AHZ6XMOLEWA67S3TX7IWEXXGWSOA  1549866158332             0   \n",
      "1       B005S28ZES  AFZUK3MTBIBEDQOPAK3OATUOUKLA  1535939929239            27   \n",
      "3       B00ADR2LV6  AECABX3OO3GK7FCPZLFM3LT2E6UA  1608661063303             0   \n",
      "4       B00IX1I3G6  AFSCQMP2EPYLGJN7OBTMEXCBE2OQ  1602104097716             0   \n",
      "5       B00ADR2LV6  AF4XAUOI5XPGWHCPOTORKBIJSRDA  1551247682370             0   \n",
      "...            ...                           ...            ...           ...   \n",
      "141956  B075MZKGRL  AHJTM4W63VAUPIIWDFYYVF4LXF6Q  1526779846316             0   \n",
      "141957  B086KKT3RX  AGX4ST62YMZQD6F2SI5REE2L3WTA  1685036728250             2   \n",
      "141958  B00IX1I3G6  AEGTKHWDDGPJ254AZCFPSOK6USHQ  1597328047866             0   \n",
      "141959  B00IX1I3G6  AFBIM3MJIKV6OHJJDDZS3BZJYW4A  1434301786000             0   \n",
      "141960  B00IX1I3G6  AHNAE7DVWBGSJINNF4F3JBDJ2GSQ  1490208994000             0   \n",
      "\n",
      "        verified_purchase  label  \n",
      "0                    True      1  \n",
      "1                    True      1  \n",
      "3                    True      1  \n",
      "4                    True      1  \n",
      "5                    True      1  \n",
      "...                   ...    ...  \n",
      "141956               True      1  \n",
      "141957               True      0  \n",
      "141958               True      0  \n",
      "141959               True      1  \n",
      "141960               True      1  \n",
      "\n",
      "[140481 rows x 12 columns]\n",
      "Tiempo transcurrido: 3709.48 segundos\n"
     ]
    }
   ],
   "source": [
    "start_time = time.time()\n",
    "\n",
    "df_pandas['label'] = df_pandas.progress_apply(\n",
    "    lambda row: classify_text(row, model), axis=1\n",
    ")\n",
    "\n",
    "end_time = time.time()\n",
    "elapsed_time = end_time - start_time\n",
    "\n",
    "df_pandas_classify = df_pandas.copy()\n",
    "\n",
    "print(df_pandas_classify)\n",
    "print(f\"Tiempo transcurrido: {elapsed_time:.2f} segundos\")\n"
   ]
  },
  {
   "cell_type": "code",
   "execution_count": 65,
   "metadata": {},
   "outputs": [
    {
     "name": "stdout",
     "output_type": "stream",
     "text": [
      "[########################################] | 100% Completed | 62m 48s\n",
      "Tiempo transcurrido: 3772.64 segundos\n",
      "                             _id  rating  \\\n",
      "0       6748bafe19c0f99fe2ba20cc     5.0   \n",
      "1       6748bafe19c0f99fe2ba20ce     5.0   \n",
      "3       6748bafe19c0f99fe2ba20d1     5.0   \n",
      "4       6748bafe19c0f99fe2ba20d2     5.0   \n",
      "5       6748bafe19c0f99fe2ba20d3     5.0   \n",
      "...                          ...     ...   \n",
      "141956  6748bb1f19c0f99fe2bc7421     5.0   \n",
      "141957  6748bb1f19c0f99fe2bc7422     5.0   \n",
      "141958  6748bb1f19c0f99fe2bc7423     1.0   \n",
      "141959  6748bb1f19c0f99fe2bc7424     5.0   \n",
      "141960  6748bb1f19c0f99fe2bc7425     4.0   \n",
      "\n",
      "                                                    title  \\\n",
      "0                                              Great gift   \n",
      "1                                            Perfect gift   \n",
      "3                                                   Cute!   \n",
      "4                                               Easy gift   \n",
      "5                                              Great gift   \n",
      "...                                                   ...   \n",
      "141956  I gave it to my sister and she immediately com...   \n",
      "141957               Gran idea y majestuosa forma de pago   \n",
      "141958           Called right away to cancel, was told no   \n",
      "141959                                         Five Stars   \n",
      "141960                                         Four Stars   \n",
      "\n",
      "                                                     text images        asin  \\\n",
      "0                     Having Amazon money is always good.     []  B00IX1I3G6   \n",
      "1       When you have a person who is hard to shop for...     []  B01K8RIM5Y   \n",
      "3                            That snowman tin is adorable     []  B072L7GTF5   \n",
      "4                                     Great and easy gift     []  B00IX1I3G6   \n",
      "5          Super cute nice quality tin Your choose amount     []  B072P5VV4D   \n",
      "...                                                   ...    ...         ...   \n",
      "141956  I was really impressed with the pink bag.  I g...     []  B07641DGK2   \n",
      "141957  Realmente es fascinante como hacen de algo muc...     []  B086KKT3RX   \n",
      "141958                                  Hit  accidentally     []  B00IX1I3G6   \n",
      "141959                                              Great     []  B00IX1I3G6   \n",
      "141960                                           Muy bien     []  B00IX1I3G6   \n",
      "\n",
      "       parent_asin                       user_id      timestamp  helpful_vote  \\\n",
      "0       B00IX1I3G6  AHZ6XMOLEWA67S3TX7IWEXXGWSOA  1549866158332             0   \n",
      "1       B005S28ZES  AFZUK3MTBIBEDQOPAK3OATUOUKLA  1535939929239            27   \n",
      "3       B00ADR2LV6  AECABX3OO3GK7FCPZLFM3LT2E6UA  1608661063303             0   \n",
      "4       B00IX1I3G6  AFSCQMP2EPYLGJN7OBTMEXCBE2OQ  1602104097716             0   \n",
      "5       B00ADR2LV6  AF4XAUOI5XPGWHCPOTORKBIJSRDA  1551247682370             0   \n",
      "...            ...                           ...            ...           ...   \n",
      "141956  B075MZKGRL  AHJTM4W63VAUPIIWDFYYVF4LXF6Q  1526779846316             0   \n",
      "141957  B086KKT3RX  AGX4ST62YMZQD6F2SI5REE2L3WTA  1685036728250             2   \n",
      "141958  B00IX1I3G6  AEGTKHWDDGPJ254AZCFPSOK6USHQ  1597328047866             0   \n",
      "141959  B00IX1I3G6  AFBIM3MJIKV6OHJJDDZS3BZJYW4A  1434301786000             0   \n",
      "141960  B00IX1I3G6  AHNAE7DVWBGSJINNF4F3JBDJ2GSQ  1490208994000             0   \n",
      "\n",
      "        verified_purchase  label  \n",
      "0                    True      1  \n",
      "1                    True      1  \n",
      "3                    True      1  \n",
      "4                    True      1  \n",
      "5                    True      1  \n",
      "...                   ...    ...  \n",
      "141956               True      1  \n",
      "141957               True      0  \n",
      "141958               True      0  \n",
      "141959               True      1  \n",
      "141960               True      1  \n",
      "\n",
      "[140481 rows x 12 columns]\n"
     ]
    }
   ],
   "source": [
    "df_dask = dd.from_pandas(df_pandas, npartitions=4)\n",
    "\n",
    "start_time = time.time()\n",
    "\n",
    "with ProgressBar():\n",
    "    df_dask['label'] = df_dask.map_partitions(\n",
    "        lambda partition: partition.apply(\n",
    "            lambda row: classify_text(row, model), axis=1\n",
    "        ),\n",
    "        meta=('label', 'int64')\n",
    "    )\n",
    "\n",
    "    df_dask_classify = df_dask.compute()\n",
    "\n",
    "end_time = time.time()\n",
    "elapsed_time = end_time - start_time\n",
    "\n",
    "print(f\"Tiempo transcurrido: {elapsed_time:.2f} segundos\")\n",
    "print(df_dask_classify)"
   ]
  },
  {
   "cell_type": "markdown",
   "metadata": {},
   "source": [
    "Guardamos en JSON el Dataframe de pandas"
   ]
  },
  {
   "cell_type": "code",
   "execution_count": null,
   "metadata": {},
   "outputs": [],
   "source": [
    "# Convertir todos los valores a texto\n",
    "df_pandas_classify = df_pandas_classify.astype(str)"
   ]
  },
  {
   "cell_type": "code",
   "execution_count": 58,
   "metadata": {},
   "outputs": [],
   "source": [
    "df_pandas_classify.to_json(\n",
    "    \"data/processed/gift_cards_classify_pandas.json\",\n",
    "    orient=\"records\",\n",
    "    lines=True,\n",
    "    force_ascii=False\n",
    ")"
   ]
  },
  {
   "cell_type": "markdown",
   "metadata": {},
   "source": [
    "Guardamos en JSON el Dataframe de Dask"
   ]
  },
  {
   "cell_type": "code",
   "execution_count": 66,
   "metadata": {},
   "outputs": [],
   "source": [
    "df_dask_classify.to_json(\n",
    "    \"data/processed/gift_cards_classify_dask.json\",\n",
    "    orient=\"records\",\n",
    "    lines=True,\n",
    "    force_ascii=False\n",
    ")"
   ]
  }
 ],
 "metadata": {
  "kernelspec": {
   "display_name": "Python 3",
   "language": "python",
   "name": "python3"
  },
  "language_info": {
   "codemirror_mode": {
    "name": "ipython",
    "version": 3
   },
   "file_extension": ".py",
   "mimetype": "text/x-python",
   "name": "python",
   "nbconvert_exporter": "python",
   "pygments_lexer": "ipython3",
   "version": "3.12.3"
  }
 },
 "nbformat": 4,
 "nbformat_minor": 2
}
